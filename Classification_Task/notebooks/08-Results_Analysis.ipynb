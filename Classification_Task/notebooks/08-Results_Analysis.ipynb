{
 "cells": [
  {
   "cell_type": "markdown",
   "metadata": {},
   "source": [
    "# Introduction\n",
    "\n",
    "In this notebook ,we'll evaluate the results of our classification experiements ."
   ]
  },
  {
   "cell_type": "code",
   "execution_count": 299,
   "metadata": {},
   "outputs": [],
   "source": [
    "# Used to manipule and analyse data\n",
    "import pandas as pd\n",
    "\n",
    "# Used for cleaning\n",
    "import re\n",
    "\n",
    "# Used to work with arrays\n",
    "import numpy as np\n",
    "\n",
    "# Used to interact with Kaggle (Kaggle API)\n",
    "import kaggle\n",
    "from kaggle.api.kaggle_api_extended import KaggleApi\n",
    "\n",
    "# Used for classification experiement\n",
    "from sklearn.linear_model import LogisticRegression\n",
    "from sklearn.model_selection import train_test_split\n",
    "from sklearn.metrics import accuracy_score, confusion_matrix, ConfusionMatrixDisplay, roc_auc_score, f1_score\n",
    "from sklearn.model_selection import cross_val_score\n",
    "from sklearn import tree\n",
    "from sklearn.neighbors import KNeighborsClassifier\n",
    "from sklearn.metrics import classification_report\n",
    "\n",
    "# Used to generate beautiful charts\n",
    "import plotly.express as px\n",
    "\n",
    "# Used to deal with class imbalance\n",
    "import imblearn\n",
    "from imblearn.over_sampling import SMOTE\n",
    "\n",
    "\n",
    "import os"
   ]
  },
  {
   "cell_type": "markdown",
   "metadata": {},
   "source": [
    "## Create a dataset for testing purposes "
   ]
  },
  {
   "cell_type": "markdown",
   "metadata": {},
   "source": [
    "### Authentification"
   ]
  },
  {
   "cell_type": "code",
   "execution_count": 300,
   "metadata": {},
   "outputs": [],
   "source": [
    "api = KaggleApi()\n",
    "api.authenticate()"
   ]
  },
  {
   "cell_type": "markdown",
   "metadata": {},
   "source": [
    "List of getting started competitions **(16 competitions)**"
   ]
  },
  {
   "cell_type": "code",
   "execution_count": 301,
   "metadata": {},
   "outputs": [
    {
     "data": {
      "text/plain": [
       "[contradictory-my-dear-watson,\n",
       " gan-getting-started,\n",
       " store-sales-time-series-forecasting,\n",
       " tpu-getting-started,\n",
       " digit-recognizer,\n",
       " titanic,\n",
       " house-prices-advanced-regression-techniques,\n",
       " connectx,\n",
       " nlp-getting-started,\n",
       " spaceship-titanic,\n",
       " facial-keypoints-detection,\n",
       " street-view-getting-started-with-julia,\n",
       " word2vec-nlp-tutorial,\n",
       " data-science-london-scikit-learn,\n",
       " just-the-basics-the-after-party,\n",
       " just-the-basics-strata-2013]"
      ]
     },
     "execution_count": 301,
     "metadata": {},
     "output_type": "execute_result"
    }
   ],
   "source": [
    "competitions = api.competitions_list(category=\"gettingStarted\")\n",
    "competitions"
   ]
  },
  {
   "cell_type": "markdown",
   "metadata": {},
   "source": [
    "List of Kernel references of the well documented notebooks that we have selected from Learn section on Kaggle"
   ]
  },
  {
   "cell_type": "code",
   "execution_count": 302,
   "metadata": {},
   "outputs": [],
   "source": [
    "competitions = ['contradictory-my-dear-watson','gan-getting-started','store-sales-time-series-forecasting','tpu-getting-started','digit-recognizer','titanic','house-prices-advanced-regression-techniques','connectx','nlp-getting-started','spaceship-titanic','facial-keypoints-detection','word2vec-nlp-tutorial','data-science-london-scikit-learn','just-the-basics-the-after-party']"
   ]
  },
  {
   "cell_type": "markdown",
   "metadata": {},
   "source": [
    "Create a dataframe where we will store data related to our notebooks"
   ]
  },
  {
   "cell_type": "code",
   "execution_count": 303,
   "metadata": {},
   "outputs": [],
   "source": [
    "df = pd.DataFrame(columns = ['kernel_ref','path','title','competition','domain','technique'])"
   ]
  },
  {
   "cell_type": "code",
   "execution_count": 304,
   "metadata": {},
   "outputs": [],
   "source": [
    "for comp in competitions :\n",
    "    try :\n",
    "        kernels_list = api.kernels_list(page=1,competition = str(comp),sort_by=\"voteCount\")\n",
    "        for k in kernels_list :\n",
    "                df.loc[len(df)] = [str(k.ref),re.sub(\"^[^/]*/\",'',str(k.ref))+\".ipynb\",str(k),str(comp),'','']         \n",
    "    except Exception as e:\n",
    "                        print(e)"
   ]
  },
  {
   "cell_type": "markdown",
   "metadata": {},
   "source": [
    "Here is the list of all  the successfuly collected  notebooks data , we still need to attribute the corresponding domain & technique for each notebook :"
   ]
  },
  {
   "cell_type": "code",
   "execution_count": 305,
   "metadata": {},
   "outputs": [
    {
     "data": {
      "text/html": [
       "<div>\n",
       "<style scoped>\n",
       "    .dataframe tbody tr th:only-of-type {\n",
       "        vertical-align: middle;\n",
       "    }\n",
       "\n",
       "    .dataframe tbody tr th {\n",
       "        vertical-align: top;\n",
       "    }\n",
       "\n",
       "    .dataframe thead th {\n",
       "        text-align: right;\n",
       "    }\n",
       "</style>\n",
       "<table border=\"1\" class=\"dataframe\">\n",
       "  <thead>\n",
       "    <tr style=\"text-align: right;\">\n",
       "      <th></th>\n",
       "      <th>kernel_ref</th>\n",
       "      <th>path</th>\n",
       "      <th>title</th>\n",
       "      <th>competition</th>\n",
       "      <th>domain</th>\n",
       "      <th>technique</th>\n",
       "    </tr>\n",
       "  </thead>\n",
       "  <tbody>\n",
       "    <tr>\n",
       "      <th>0</th>\n",
       "      <td>anasofiauzsoy/tutorial-notebook</td>\n",
       "      <td>tutorial-notebook.ipynb</td>\n",
       "      <td>Tutorial Notebook</td>\n",
       "      <td>contradictory-my-dear-watson</td>\n",
       "      <td></td>\n",
       "      <td></td>\n",
       "    </tr>\n",
       "    <tr>\n",
       "      <th>1</th>\n",
       "      <td>nkitgupta/text-representations</td>\n",
       "      <td>text-representations.ipynb</td>\n",
       "      <td>Text-Representations</td>\n",
       "      <td>contradictory-my-dear-watson</td>\n",
       "      <td></td>\n",
       "      <td></td>\n",
       "    </tr>\n",
       "    <tr>\n",
       "      <th>2</th>\n",
       "      <td>rohanrao/tpu-sherlocked-one-stop-for-with-tf</td>\n",
       "      <td>tpu-sherlocked-one-stop-for-with-tf.ipynb</td>\n",
       "      <td>TPU Sherlocked: One-stop for 🤗 with TF</td>\n",
       "      <td>contradictory-my-dear-watson</td>\n",
       "      <td></td>\n",
       "      <td></td>\n",
       "    </tr>\n",
       "    <tr>\n",
       "      <th>3</th>\n",
       "      <td>faressayah/text-analysis-topic-modelling-with-...</td>\n",
       "      <td>text-analysis-topic-modelling-with-spacy-gensi...</td>\n",
       "      <td>Text Analysis|Topic Modelling with spaCy &amp; GENSIM</td>\n",
       "      <td>contradictory-my-dear-watson</td>\n",
       "      <td></td>\n",
       "      <td></td>\n",
       "    </tr>\n",
       "    <tr>\n",
       "      <th>4</th>\n",
       "      <td>vbookshelf/basics-of-bert-and-xlm-roberta-pytorch</td>\n",
       "      <td>basics-of-bert-and-xlm-roberta-pytorch.ipynb</td>\n",
       "      <td>Basics of BERT and XLM-RoBERTa - PyTorch</td>\n",
       "      <td>contradictory-my-dear-watson</td>\n",
       "      <td></td>\n",
       "      <td></td>\n",
       "    </tr>\n",
       "    <tr>\n",
       "      <th>...</th>\n",
       "      <td>...</td>\n",
       "      <td>...</td>\n",
       "      <td>...</td>\n",
       "      <td>...</td>\n",
       "      <td>...</td>\n",
       "      <td>...</td>\n",
       "    </tr>\n",
       "    <tr>\n",
       "      <th>259</th>\n",
       "      <td>orangecatman/scikit-learn-data-science-lon-wil...</td>\n",
       "      <td>scikit-learn-data-science-lon-william.ipynb</td>\n",
       "      <td>手把手教學使用_Scikit-Learn_中文教學_Data Science Lon_Wil...</td>\n",
       "      <td>data-science-london-scikit-learn</td>\n",
       "      <td></td>\n",
       "      <td></td>\n",
       "    </tr>\n",
       "    <tr>\n",
       "      <th>260</th>\n",
       "      <td>irinana/spam-detection-strata2013after-party</td>\n",
       "      <td>spam-detection-strata2013after-party.ipynb</td>\n",
       "      <td>SPAM_Detection  Strata2013After-party</td>\n",
       "      <td>just-the-basics-the-after-party</td>\n",
       "      <td></td>\n",
       "      <td></td>\n",
       "    </tr>\n",
       "    <tr>\n",
       "      <th>261</th>\n",
       "      <td>meln1337/just-the-basics-notebook</td>\n",
       "      <td>just-the-basics-notebook.ipynb</td>\n",
       "      <td>Just The Basics Notebook</td>\n",
       "      <td>just-the-basics-the-after-party</td>\n",
       "      <td></td>\n",
       "      <td></td>\n",
       "    </tr>\n",
       "    <tr>\n",
       "      <th>262</th>\n",
       "      <td>nikosavgeros/classification-using-machine-and-...</td>\n",
       "      <td>classification-using-machine-and-deep-learning...</td>\n",
       "      <td>Classification using Machine and Deep Learning</td>\n",
       "      <td>just-the-basics-the-after-party</td>\n",
       "      <td></td>\n",
       "      <td></td>\n",
       "    </tr>\n",
       "    <tr>\n",
       "      <th>263</th>\n",
       "      <td>pythonkumar/xgboost-feat-imp-acc-93</td>\n",
       "      <td>xgboost-feat-imp-acc-93.ipynb</td>\n",
       "      <td>XGBoost + Feat Imp Acc:93%</td>\n",
       "      <td>just-the-basics-the-after-party</td>\n",
       "      <td></td>\n",
       "      <td></td>\n",
       "    </tr>\n",
       "  </tbody>\n",
       "</table>\n",
       "<p>264 rows × 6 columns</p>\n",
       "</div>"
      ],
      "text/plain": [
       "                                            kernel_ref  \\\n",
       "0                      anasofiauzsoy/tutorial-notebook   \n",
       "1                       nkitgupta/text-representations   \n",
       "2         rohanrao/tpu-sherlocked-one-stop-for-with-tf   \n",
       "3    faressayah/text-analysis-topic-modelling-with-...   \n",
       "4    vbookshelf/basics-of-bert-and-xlm-roberta-pytorch   \n",
       "..                                                 ...   \n",
       "259  orangecatman/scikit-learn-data-science-lon-wil...   \n",
       "260       irinana/spam-detection-strata2013after-party   \n",
       "261                  meln1337/just-the-basics-notebook   \n",
       "262  nikosavgeros/classification-using-machine-and-...   \n",
       "263                pythonkumar/xgboost-feat-imp-acc-93   \n",
       "\n",
       "                                                  path  \\\n",
       "0                              tutorial-notebook.ipynb   \n",
       "1                           text-representations.ipynb   \n",
       "2            tpu-sherlocked-one-stop-for-with-tf.ipynb   \n",
       "3    text-analysis-topic-modelling-with-spacy-gensi...   \n",
       "4         basics-of-bert-and-xlm-roberta-pytorch.ipynb   \n",
       "..                                                 ...   \n",
       "259        scikit-learn-data-science-lon-william.ipynb   \n",
       "260         spam-detection-strata2013after-party.ipynb   \n",
       "261                     just-the-basics-notebook.ipynb   \n",
       "262  classification-using-machine-and-deep-learning...   \n",
       "263                      xgboost-feat-imp-acc-93.ipynb   \n",
       "\n",
       "                                                 title  \\\n",
       "0                                    Tutorial Notebook   \n",
       "1                                 Text-Representations   \n",
       "2               TPU Sherlocked: One-stop for 🤗 with TF   \n",
       "3    Text Analysis|Topic Modelling with spaCy & GENSIM   \n",
       "4             Basics of BERT and XLM-RoBERTa - PyTorch   \n",
       "..                                                 ...   \n",
       "259  手把手教學使用_Scikit-Learn_中文教學_Data Science Lon_Wil...   \n",
       "260              SPAM_Detection  Strata2013After-party   \n",
       "261                           Just The Basics Notebook   \n",
       "262     Classification using Machine and Deep Learning   \n",
       "263                         XGBoost + Feat Imp Acc:93%   \n",
       "\n",
       "                          competition domain technique  \n",
       "0        contradictory-my-dear-watson                   \n",
       "1        contradictory-my-dear-watson                   \n",
       "2        contradictory-my-dear-watson                   \n",
       "3        contradictory-my-dear-watson                   \n",
       "4        contradictory-my-dear-watson                   \n",
       "..                                ...    ...       ...  \n",
       "259  data-science-london-scikit-learn                   \n",
       "260   just-the-basics-the-after-party                   \n",
       "261   just-the-basics-the-after-party                   \n",
       "262   just-the-basics-the-after-party                   \n",
       "263   just-the-basics-the-after-party                   \n",
       "\n",
       "[264 rows x 6 columns]"
      ]
     },
     "execution_count": 305,
     "metadata": {},
     "output_type": "execute_result"
    }
   ],
   "source": [
    "df"
   ]
  },
  {
   "cell_type": "markdown",
   "metadata": {},
   "source": [
    "After a manual examination of competitions we can affect the following domains and techniques :\n",
    "\n",
    "- contradictory-my-dear-watson : **nlp - Classification**\n",
    "- gan-getting-started : **Computer Vision**\n",
    "- store-sales-time-series-forecasting :* - **Regression**\n",
    "- tpu-getting-started : **Computer Vision - Classification**\n",
    "- digit-recognizer : **nlp - Classification**\n",
    "- titanic : * - **Classification**\n",
    "- house-prices-advanced-regression-techniques :* - **Regression**\n",
    "- connectx : **Reinforcement learning** - * \n",
    "- nlp-getting-started : **nlp - Classification**\n",
    "- spaceship-titanic :* - **Classification**\n",
    "- facial-keypoints-detection : **Computer Vision - Regression**\n",
    "- word2vec-nlp-tutorial : **nlp - Classification**\n",
    "- data-science-london-scikit-learn : * - **Classification**\n",
    "- just-the-basics-the-after-party : **nlp - Classification**\n"
   ]
  },
  {
   "cell_type": "code",
   "execution_count": 306,
   "metadata": {},
   "outputs": [
    {
     "data": {
      "text/html": [
       "<div>\n",
       "<style scoped>\n",
       "    .dataframe tbody tr th:only-of-type {\n",
       "        vertical-align: middle;\n",
       "    }\n",
       "\n",
       "    .dataframe tbody tr th {\n",
       "        vertical-align: top;\n",
       "    }\n",
       "\n",
       "    .dataframe thead th {\n",
       "        text-align: right;\n",
       "    }\n",
       "</style>\n",
       "<table border=\"1\" class=\"dataframe\">\n",
       "  <thead>\n",
       "    <tr style=\"text-align: right;\">\n",
       "      <th></th>\n",
       "      <th>competition</th>\n",
       "      <th>Domain</th>\n",
       "      <th>Technique</th>\n",
       "    </tr>\n",
       "  </thead>\n",
       "  <tbody>\n",
       "    <tr>\n",
       "      <th>0</th>\n",
       "      <td>contradictory-my-dear-watson</td>\n",
       "      <td>nlp</td>\n",
       "      <td>classification</td>\n",
       "    </tr>\n",
       "    <tr>\n",
       "      <th>1</th>\n",
       "      <td>gan-getting-started</td>\n",
       "      <td>computer vision</td>\n",
       "      <td>no_technique</td>\n",
       "    </tr>\n",
       "    <tr>\n",
       "      <th>2</th>\n",
       "      <td>store-sales-time-series-forecasting</td>\n",
       "      <td>no_domain</td>\n",
       "      <td>regression</td>\n",
       "    </tr>\n",
       "    <tr>\n",
       "      <th>3</th>\n",
       "      <td>tpu-getting-started</td>\n",
       "      <td>computer vision</td>\n",
       "      <td>classification</td>\n",
       "    </tr>\n",
       "    <tr>\n",
       "      <th>4</th>\n",
       "      <td>digit-recognizer</td>\n",
       "      <td>nlp</td>\n",
       "      <td>classification</td>\n",
       "    </tr>\n",
       "    <tr>\n",
       "      <th>5</th>\n",
       "      <td>titanic</td>\n",
       "      <td>no_domain</td>\n",
       "      <td>classification</td>\n",
       "    </tr>\n",
       "    <tr>\n",
       "      <th>6</th>\n",
       "      <td>house-prices-advanced-regression-techniques</td>\n",
       "      <td>no_domain</td>\n",
       "      <td>regression</td>\n",
       "    </tr>\n",
       "    <tr>\n",
       "      <th>7</th>\n",
       "      <td>connectx</td>\n",
       "      <td>reinforcement learning</td>\n",
       "      <td>no_technique</td>\n",
       "    </tr>\n",
       "    <tr>\n",
       "      <th>8</th>\n",
       "      <td>nlp-getting-started</td>\n",
       "      <td>nlp</td>\n",
       "      <td>classification</td>\n",
       "    </tr>\n",
       "    <tr>\n",
       "      <th>9</th>\n",
       "      <td>spaceship-titanic</td>\n",
       "      <td>no_domain</td>\n",
       "      <td>classification</td>\n",
       "    </tr>\n",
       "    <tr>\n",
       "      <th>10</th>\n",
       "      <td>facial-keypoints-detection</td>\n",
       "      <td>computer vision</td>\n",
       "      <td>regression</td>\n",
       "    </tr>\n",
       "    <tr>\n",
       "      <th>11</th>\n",
       "      <td>word2vec-nlp-tutorial</td>\n",
       "      <td>nlp</td>\n",
       "      <td>classification</td>\n",
       "    </tr>\n",
       "    <tr>\n",
       "      <th>12</th>\n",
       "      <td>data-science-london-scikit-learn</td>\n",
       "      <td>no_domain</td>\n",
       "      <td>classification</td>\n",
       "    </tr>\n",
       "    <tr>\n",
       "      <th>13</th>\n",
       "      <td>just-the-basics-the-after-party</td>\n",
       "      <td>nlp</td>\n",
       "      <td>classification</td>\n",
       "    </tr>\n",
       "  </tbody>\n",
       "</table>\n",
       "</div>"
      ],
      "text/plain": [
       "                                    competition                  Domain  \\\n",
       "0                  contradictory-my-dear-watson                     nlp   \n",
       "1                           gan-getting-started         computer vision   \n",
       "2           store-sales-time-series-forecasting               no_domain   \n",
       "3                           tpu-getting-started         computer vision   \n",
       "4                              digit-recognizer                     nlp   \n",
       "5                                       titanic               no_domain   \n",
       "6   house-prices-advanced-regression-techniques               no_domain   \n",
       "7                                      connectx  reinforcement learning   \n",
       "8                           nlp-getting-started                     nlp   \n",
       "9                             spaceship-titanic               no_domain   \n",
       "10                   facial-keypoints-detection         computer vision   \n",
       "11                        word2vec-nlp-tutorial                     nlp   \n",
       "12             data-science-london-scikit-learn               no_domain   \n",
       "13              just-the-basics-the-after-party                     nlp   \n",
       "\n",
       "         Technique  \n",
       "0   classification  \n",
       "1     no_technique  \n",
       "2       regression  \n",
       "3   classification  \n",
       "4   classification  \n",
       "5   classification  \n",
       "6       regression  \n",
       "7     no_technique  \n",
       "8   classification  \n",
       "9   classification  \n",
       "10      regression  \n",
       "11  classification  \n",
       "12  classification  \n",
       "13  classification  "
      ]
     },
     "execution_count": 306,
     "metadata": {},
     "output_type": "execute_result"
    }
   ],
   "source": [
    "data = {'competition': competitions,\n",
    " 'Domain': ['nlp', 'computer vision', 'no_domain', 'computer vision','nlp', 'no_domain', 'no_domain','reinforcement learning','nlp', 'no_domain', 'computer vision','nlp', 'no_domain','nlp'],\n",
    " 'Technique':['classification','no_technique','regression','classification','classification','classification','regression','no_technique','classification','classification','regression','classification','classification','classification']}\n",
    "\n",
    "df_comp_tag = pd.DataFrame.from_dict(data)\n",
    "df_comp_tag"
   ]
  },
  {
   "cell_type": "code",
   "execution_count": 307,
   "metadata": {},
   "outputs": [],
   "source": [
    "for i in df.index:\n",
    "        df.loc[i]['competition','domain','technique'] = list(df_comp_tag[df_comp_tag['competition'] == df.loc[i]['competition']].reset_index(drop=True).loc[0])"
   ]
  },
  {
   "cell_type": "code",
   "execution_count": 309,
   "metadata": {},
   "outputs": [
    {
     "data": {
      "text/html": [
       "<div>\n",
       "<style scoped>\n",
       "    .dataframe tbody tr th:only-of-type {\n",
       "        vertical-align: middle;\n",
       "    }\n",
       "\n",
       "    .dataframe tbody tr th {\n",
       "        vertical-align: top;\n",
       "    }\n",
       "\n",
       "    .dataframe thead th {\n",
       "        text-align: right;\n",
       "    }\n",
       "</style>\n",
       "<table border=\"1\" class=\"dataframe\">\n",
       "  <thead>\n",
       "    <tr style=\"text-align: right;\">\n",
       "      <th></th>\n",
       "      <th>kernel_ref</th>\n",
       "      <th>path</th>\n",
       "      <th>title</th>\n",
       "      <th>competition</th>\n",
       "      <th>domain</th>\n",
       "      <th>technique</th>\n",
       "    </tr>\n",
       "  </thead>\n",
       "  <tbody>\n",
       "    <tr>\n",
       "      <th>0</th>\n",
       "      <td>anasofiauzsoy/tutorial-notebook</td>\n",
       "      <td>tutorial-notebook.ipynb</td>\n",
       "      <td>Tutorial Notebook</td>\n",
       "      <td>contradictory-my-dear-watson</td>\n",
       "      <td>nlp</td>\n",
       "      <td>classification</td>\n",
       "    </tr>\n",
       "    <tr>\n",
       "      <th>1</th>\n",
       "      <td>nkitgupta/text-representations</td>\n",
       "      <td>text-representations.ipynb</td>\n",
       "      <td>Text-Representations</td>\n",
       "      <td>contradictory-my-dear-watson</td>\n",
       "      <td>nlp</td>\n",
       "      <td>classification</td>\n",
       "    </tr>\n",
       "    <tr>\n",
       "      <th>2</th>\n",
       "      <td>rohanrao/tpu-sherlocked-one-stop-for-with-tf</td>\n",
       "      <td>tpu-sherlocked-one-stop-for-with-tf.ipynb</td>\n",
       "      <td>TPU Sherlocked: One-stop for 🤗 with TF</td>\n",
       "      <td>contradictory-my-dear-watson</td>\n",
       "      <td>nlp</td>\n",
       "      <td>classification</td>\n",
       "    </tr>\n",
       "    <tr>\n",
       "      <th>3</th>\n",
       "      <td>faressayah/text-analysis-topic-modelling-with-...</td>\n",
       "      <td>text-analysis-topic-modelling-with-spacy-gensi...</td>\n",
       "      <td>Text Analysis|Topic Modelling with spaCy &amp; GENSIM</td>\n",
       "      <td>contradictory-my-dear-watson</td>\n",
       "      <td>nlp</td>\n",
       "      <td>classification</td>\n",
       "    </tr>\n",
       "    <tr>\n",
       "      <th>4</th>\n",
       "      <td>vbookshelf/basics-of-bert-and-xlm-roberta-pytorch</td>\n",
       "      <td>basics-of-bert-and-xlm-roberta-pytorch.ipynb</td>\n",
       "      <td>Basics of BERT and XLM-RoBERTa - PyTorch</td>\n",
       "      <td>contradictory-my-dear-watson</td>\n",
       "      <td>nlp</td>\n",
       "      <td>classification</td>\n",
       "    </tr>\n",
       "    <tr>\n",
       "      <th>...</th>\n",
       "      <td>...</td>\n",
       "      <td>...</td>\n",
       "      <td>...</td>\n",
       "      <td>...</td>\n",
       "      <td>...</td>\n",
       "      <td>...</td>\n",
       "    </tr>\n",
       "    <tr>\n",
       "      <th>259</th>\n",
       "      <td>orangecatman/scikit-learn-data-science-lon-wil...</td>\n",
       "      <td>scikit-learn-data-science-lon-william.ipynb</td>\n",
       "      <td>手把手教學使用_Scikit-Learn_中文教學_Data Science Lon_Wil...</td>\n",
       "      <td>data-science-london-scikit-learn</td>\n",
       "      <td>no_domain</td>\n",
       "      <td>classification</td>\n",
       "    </tr>\n",
       "    <tr>\n",
       "      <th>260</th>\n",
       "      <td>irinana/spam-detection-strata2013after-party</td>\n",
       "      <td>spam-detection-strata2013after-party.ipynb</td>\n",
       "      <td>SPAM_Detection  Strata2013After-party</td>\n",
       "      <td>just-the-basics-the-after-party</td>\n",
       "      <td>nlp</td>\n",
       "      <td>classification</td>\n",
       "    </tr>\n",
       "    <tr>\n",
       "      <th>261</th>\n",
       "      <td>meln1337/just-the-basics-notebook</td>\n",
       "      <td>just-the-basics-notebook.ipynb</td>\n",
       "      <td>Just The Basics Notebook</td>\n",
       "      <td>just-the-basics-the-after-party</td>\n",
       "      <td>nlp</td>\n",
       "      <td>classification</td>\n",
       "    </tr>\n",
       "    <tr>\n",
       "      <th>262</th>\n",
       "      <td>nikosavgeros/classification-using-machine-and-...</td>\n",
       "      <td>classification-using-machine-and-deep-learning...</td>\n",
       "      <td>Classification using Machine and Deep Learning</td>\n",
       "      <td>just-the-basics-the-after-party</td>\n",
       "      <td>nlp</td>\n",
       "      <td>classification</td>\n",
       "    </tr>\n",
       "    <tr>\n",
       "      <th>263</th>\n",
       "      <td>pythonkumar/xgboost-feat-imp-acc-93</td>\n",
       "      <td>xgboost-feat-imp-acc-93.ipynb</td>\n",
       "      <td>XGBoost + Feat Imp Acc:93%</td>\n",
       "      <td>just-the-basics-the-after-party</td>\n",
       "      <td>nlp</td>\n",
       "      <td>classification</td>\n",
       "    </tr>\n",
       "  </tbody>\n",
       "</table>\n",
       "<p>264 rows × 6 columns</p>\n",
       "</div>"
      ],
      "text/plain": [
       "                                            kernel_ref  \\\n",
       "0                      anasofiauzsoy/tutorial-notebook   \n",
       "1                       nkitgupta/text-representations   \n",
       "2         rohanrao/tpu-sherlocked-one-stop-for-with-tf   \n",
       "3    faressayah/text-analysis-topic-modelling-with-...   \n",
       "4    vbookshelf/basics-of-bert-and-xlm-roberta-pytorch   \n",
       "..                                                 ...   \n",
       "259  orangecatman/scikit-learn-data-science-lon-wil...   \n",
       "260       irinana/spam-detection-strata2013after-party   \n",
       "261                  meln1337/just-the-basics-notebook   \n",
       "262  nikosavgeros/classification-using-machine-and-...   \n",
       "263                pythonkumar/xgboost-feat-imp-acc-93   \n",
       "\n",
       "                                                  path  \\\n",
       "0                              tutorial-notebook.ipynb   \n",
       "1                           text-representations.ipynb   \n",
       "2            tpu-sherlocked-one-stop-for-with-tf.ipynb   \n",
       "3    text-analysis-topic-modelling-with-spacy-gensi...   \n",
       "4         basics-of-bert-and-xlm-roberta-pytorch.ipynb   \n",
       "..                                                 ...   \n",
       "259        scikit-learn-data-science-lon-william.ipynb   \n",
       "260         spam-detection-strata2013after-party.ipynb   \n",
       "261                     just-the-basics-notebook.ipynb   \n",
       "262  classification-using-machine-and-deep-learning...   \n",
       "263                      xgboost-feat-imp-acc-93.ipynb   \n",
       "\n",
       "                                                 title  \\\n",
       "0                                    Tutorial Notebook   \n",
       "1                                 Text-Representations   \n",
       "2               TPU Sherlocked: One-stop for 🤗 with TF   \n",
       "3    Text Analysis|Topic Modelling with spaCy & GENSIM   \n",
       "4             Basics of BERT and XLM-RoBERTa - PyTorch   \n",
       "..                                                 ...   \n",
       "259  手把手教學使用_Scikit-Learn_中文教學_Data Science Lon_Wil...   \n",
       "260              SPAM_Detection  Strata2013After-party   \n",
       "261                           Just The Basics Notebook   \n",
       "262     Classification using Machine and Deep Learning   \n",
       "263                         XGBoost + Feat Imp Acc:93%   \n",
       "\n",
       "                          competition     domain       technique  \n",
       "0        contradictory-my-dear-watson        nlp  classification  \n",
       "1        contradictory-my-dear-watson        nlp  classification  \n",
       "2        contradictory-my-dear-watson        nlp  classification  \n",
       "3        contradictory-my-dear-watson        nlp  classification  \n",
       "4        contradictory-my-dear-watson        nlp  classification  \n",
       "..                                ...        ...             ...  \n",
       "259  data-science-london-scikit-learn  no_domain  classification  \n",
       "260   just-the-basics-the-after-party        nlp  classification  \n",
       "261   just-the-basics-the-after-party        nlp  classification  \n",
       "262   just-the-basics-the-after-party        nlp  classification  \n",
       "263   just-the-basics-the-after-party        nlp  classification  \n",
       "\n",
       "[264 rows x 6 columns]"
      ]
     },
     "execution_count": 309,
     "metadata": {},
     "output_type": "execute_result"
    }
   ],
   "source": [
    "df"
   ]
  },
  {
   "cell_type": "markdown",
   "metadata": {},
   "source": [
    "## Save Data"
   ]
  },
  {
   "cell_type": "code",
   "execution_count": 144,
   "metadata": {},
   "outputs": [],
   "source": [
    "df.to_csv(\"test.csv\")"
   ]
  },
  {
   "cell_type": "code",
   "execution_count": 310,
   "metadata": {},
   "outputs": [
    {
     "data": {
      "text/html": [
       "<div>\n",
       "<style scoped>\n",
       "    .dataframe tbody tr th:only-of-type {\n",
       "        vertical-align: middle;\n",
       "    }\n",
       "\n",
       "    .dataframe tbody tr th {\n",
       "        vertical-align: top;\n",
       "    }\n",
       "\n",
       "    .dataframe thead th {\n",
       "        text-align: right;\n",
       "    }\n",
       "</style>\n",
       "<table border=\"1\" class=\"dataframe\">\n",
       "  <thead>\n",
       "    <tr style=\"text-align: right;\">\n",
       "      <th></th>\n",
       "      <th>title</th>\n",
       "      <th>subcategory</th>\n",
       "      <th>category</th>\n",
       "    </tr>\n",
       "  </thead>\n",
       "  <tbody>\n",
       "    <tr>\n",
       "      <th>0</th>\n",
       "      <td>sudhirnl7/linear-regression-tutorial</td>\n",
       "      <td>linear regression</td>\n",
       "      <td>regression</td>\n",
       "    </tr>\n",
       "    <tr>\n",
       "      <th>1</th>\n",
       "      <td>goyalshalini93/car-price-prediction-linear-reg...</td>\n",
       "      <td>linear regression</td>\n",
       "      <td>regression</td>\n",
       "    </tr>\n",
       "    <tr>\n",
       "      <th>2</th>\n",
       "      <td>divan0/multiple-linear-regression</td>\n",
       "      <td>linear regression</td>\n",
       "      <td>regression</td>\n",
       "    </tr>\n",
       "    <tr>\n",
       "      <th>3</th>\n",
       "      <td>anthonypino/price-analysis-and-linear-regression</td>\n",
       "      <td>linear regression</td>\n",
       "      <td>regression</td>\n",
       "    </tr>\n",
       "    <tr>\n",
       "      <th>4</th>\n",
       "      <td>vivinbarath/simple-linear-regression-for-salar...</td>\n",
       "      <td>linear regression</td>\n",
       "      <td>regression</td>\n",
       "    </tr>\n",
       "    <tr>\n",
       "      <th>...</th>\n",
       "      <td>...</td>\n",
       "      <td>...</td>\n",
       "      <td>...</td>\n",
       "    </tr>\n",
       "    <tr>\n",
       "      <th>8592</th>\n",
       "      <td>fanbyprinciple/reinforcement-learning-on-opena...</td>\n",
       "      <td>reinforcement</td>\n",
       "      <td>reinforcement learning</td>\n",
       "    </tr>\n",
       "    <tr>\n",
       "      <th>8593</th>\n",
       "      <td>alexisbcook/exercise-one-step-lookahead</td>\n",
       "      <td>reinforcement</td>\n",
       "      <td>reinforcement learning</td>\n",
       "    </tr>\n",
       "    <tr>\n",
       "      <th>8594</th>\n",
       "      <td>alexisbcook/exercise-interactive-maps</td>\n",
       "      <td>reinforcement</td>\n",
       "      <td>reinforcement learning</td>\n",
       "    </tr>\n",
       "    <tr>\n",
       "      <th>8595</th>\n",
       "      <td>lbarbosa/connectx-deep-reinforcement-learning</td>\n",
       "      <td>reinforcement</td>\n",
       "      <td>reinforcement learning</td>\n",
       "    </tr>\n",
       "    <tr>\n",
       "      <th>8596</th>\n",
       "      <td>hsperr/halite-iv-dqn-example-pytorch</td>\n",
       "      <td>reinforcement</td>\n",
       "      <td>reinforcement learning</td>\n",
       "    </tr>\n",
       "  </tbody>\n",
       "</table>\n",
       "<p>8597 rows × 3 columns</p>\n",
       "</div>"
      ],
      "text/plain": [
       "                                                  title        subcategory  \\\n",
       "0                  sudhirnl7/linear-regression-tutorial  linear regression   \n",
       "1     goyalshalini93/car-price-prediction-linear-reg...  linear regression   \n",
       "2                     divan0/multiple-linear-regression  linear regression   \n",
       "3      anthonypino/price-analysis-and-linear-regression  linear regression   \n",
       "4     vivinbarath/simple-linear-regression-for-salar...  linear regression   \n",
       "...                                                 ...                ...   \n",
       "8592  fanbyprinciple/reinforcement-learning-on-opena...      reinforcement   \n",
       "8593            alexisbcook/exercise-one-step-lookahead      reinforcement   \n",
       "8594              alexisbcook/exercise-interactive-maps      reinforcement   \n",
       "8595      lbarbosa/connectx-deep-reinforcement-learning      reinforcement   \n",
       "8596               hsperr/halite-iv-dqn-example-pytorch      reinforcement   \n",
       "\n",
       "                    category  \n",
       "0                 regression  \n",
       "1                 regression  \n",
       "2                 regression  \n",
       "3                 regression  \n",
       "4                 regression  \n",
       "...                      ...  \n",
       "8592  reinforcement learning  \n",
       "8593  reinforcement learning  \n",
       "8594  reinforcement learning  \n",
       "8595  reinforcement learning  \n",
       "8596  reinforcement learning  \n",
       "\n",
       "[8597 rows x 3 columns]"
      ]
     },
     "execution_count": 310,
     "metadata": {},
     "output_type": "execute_result"
    }
   ],
   "source": [
    "df_coll = pd.read_csv(\"../data/ntb_list_clean.csv\").drop(['Unnamed: 0'],axis=1)\n",
    "df_coll"
   ]
  },
  {
   "cell_type": "markdown",
   "metadata": {},
   "source": [
    "Drop and count notebooks that already exist on the trainning set "
   ]
  },
  {
   "cell_type": "code",
   "execution_count": 311,
   "metadata": {},
   "outputs": [
    {
     "name": "stdout",
     "output_type": "stream",
     "text": [
      "78 173\n"
     ]
    }
   ],
   "source": [
    "c1 =[]\n",
    "c2 =[]\n",
    "\n",
    "for i in df.index :\n",
    "\n",
    "    if df.loc[i]['kernel_ref'] in list(df_coll['title']):\n",
    "        c1.append(df.loc[i]['title'])\n",
    "    else :\n",
    "        c2.append(df.loc[i]['title'])\n",
    "\n",
    "print(len(np.unique(c1)),len(np.unique(c2)))\n"
   ]
  },
  {
   "cell_type": "markdown",
   "metadata": {},
   "source": [
    "78 notebooks need to be droped from our data :"
   ]
  },
  {
   "cell_type": "code",
   "execution_count": 312,
   "metadata": {},
   "outputs": [],
   "source": [
    "for ntb in c1 :\n",
    "    df.drop(df.index[df['title'] == ntb], inplace=True)"
   ]
  },
  {
   "cell_type": "markdown",
   "metadata": {},
   "source": [
    "Here's finally the complete data :"
   ]
  },
  {
   "cell_type": "code",
   "execution_count": 313,
   "metadata": {},
   "outputs": [
    {
     "data": {
      "text/html": [
       "<div>\n",
       "<style scoped>\n",
       "    .dataframe tbody tr th:only-of-type {\n",
       "        vertical-align: middle;\n",
       "    }\n",
       "\n",
       "    .dataframe tbody tr th {\n",
       "        vertical-align: top;\n",
       "    }\n",
       "\n",
       "    .dataframe thead th {\n",
       "        text-align: right;\n",
       "    }\n",
       "</style>\n",
       "<table border=\"1\" class=\"dataframe\">\n",
       "  <thead>\n",
       "    <tr style=\"text-align: right;\">\n",
       "      <th></th>\n",
       "      <th>kernel_ref</th>\n",
       "      <th>path</th>\n",
       "      <th>title</th>\n",
       "      <th>competition</th>\n",
       "      <th>domain</th>\n",
       "      <th>technique</th>\n",
       "    </tr>\n",
       "  </thead>\n",
       "  <tbody>\n",
       "    <tr>\n",
       "      <th>3</th>\n",
       "      <td>faressayah/text-analysis-topic-modelling-with-...</td>\n",
       "      <td>text-analysis-topic-modelling-with-spacy-gensi...</td>\n",
       "      <td>Text Analysis|Topic Modelling with spaCy &amp; GENSIM</td>\n",
       "      <td>contradictory-my-dear-watson</td>\n",
       "      <td>nlp</td>\n",
       "      <td>classification</td>\n",
       "    </tr>\n",
       "    <tr>\n",
       "      <th>9</th>\n",
       "      <td>yihdarshieh/more-nli-datasets-hugging-face-nlp...</td>\n",
       "      <td>more-nli-datasets-hugging-face-nlp-library.ipynb</td>\n",
       "      <td>More NLI datasets - Hugging Face nlp library</td>\n",
       "      <td>contradictory-my-dear-watson</td>\n",
       "      <td>nlp</td>\n",
       "      <td>classification</td>\n",
       "    </tr>\n",
       "    <tr>\n",
       "      <th>10</th>\n",
       "      <td>pradeepmuniasamy/contradictory-my-dear-watson-...</td>\n",
       "      <td>contradictory-my-dear-watson-everything-you-ne...</td>\n",
       "      <td>Contradictory, My Dear Watson- Everything you ...</td>\n",
       "      <td>contradictory-my-dear-watson</td>\n",
       "      <td>nlp</td>\n",
       "      <td>classification</td>\n",
       "    </tr>\n",
       "    <tr>\n",
       "      <th>17</th>\n",
       "      <td>rhtsingh/interpreting-text-models-with-bert-on...</td>\n",
       "      <td>interpreting-text-models-with-bert-on-tpu.ipynb</td>\n",
       "      <td>Interpreting text models with BERT on TPU</td>\n",
       "      <td>contradictory-my-dear-watson</td>\n",
       "      <td>nlp</td>\n",
       "      <td>classification</td>\n",
       "    </tr>\n",
       "    <tr>\n",
       "      <th>19</th>\n",
       "      <td>narendrageek/nlp-augmenter-5-fold-bert-translator</td>\n",
       "      <td>nlp-augmenter-5-fold-bert-translator.ipynb</td>\n",
       "      <td>NLP Augmenter, 5 Fold BERT &amp; Translator</td>\n",
       "      <td>contradictory-my-dear-watson</td>\n",
       "      <td>nlp</td>\n",
       "      <td>classification</td>\n",
       "    </tr>\n",
       "    <tr>\n",
       "      <th>...</th>\n",
       "      <td>...</td>\n",
       "      <td>...</td>\n",
       "      <td>...</td>\n",
       "      <td>...</td>\n",
       "      <td>...</td>\n",
       "      <td>...</td>\n",
       "    </tr>\n",
       "    <tr>\n",
       "      <th>259</th>\n",
       "      <td>orangecatman/scikit-learn-data-science-lon-wil...</td>\n",
       "      <td>scikit-learn-data-science-lon-william.ipynb</td>\n",
       "      <td>手把手教學使用_Scikit-Learn_中文教學_Data Science Lon_Wil...</td>\n",
       "      <td>data-science-london-scikit-learn</td>\n",
       "      <td>no_domain</td>\n",
       "      <td>classification</td>\n",
       "    </tr>\n",
       "    <tr>\n",
       "      <th>260</th>\n",
       "      <td>irinana/spam-detection-strata2013after-party</td>\n",
       "      <td>spam-detection-strata2013after-party.ipynb</td>\n",
       "      <td>SPAM_Detection  Strata2013After-party</td>\n",
       "      <td>just-the-basics-the-after-party</td>\n",
       "      <td>nlp</td>\n",
       "      <td>classification</td>\n",
       "    </tr>\n",
       "    <tr>\n",
       "      <th>261</th>\n",
       "      <td>meln1337/just-the-basics-notebook</td>\n",
       "      <td>just-the-basics-notebook.ipynb</td>\n",
       "      <td>Just The Basics Notebook</td>\n",
       "      <td>just-the-basics-the-after-party</td>\n",
       "      <td>nlp</td>\n",
       "      <td>classification</td>\n",
       "    </tr>\n",
       "    <tr>\n",
       "      <th>262</th>\n",
       "      <td>nikosavgeros/classification-using-machine-and-...</td>\n",
       "      <td>classification-using-machine-and-deep-learning...</td>\n",
       "      <td>Classification using Machine and Deep Learning</td>\n",
       "      <td>just-the-basics-the-after-party</td>\n",
       "      <td>nlp</td>\n",
       "      <td>classification</td>\n",
       "    </tr>\n",
       "    <tr>\n",
       "      <th>263</th>\n",
       "      <td>pythonkumar/xgboost-feat-imp-acc-93</td>\n",
       "      <td>xgboost-feat-imp-acc-93.ipynb</td>\n",
       "      <td>XGBoost + Feat Imp Acc:93%</td>\n",
       "      <td>just-the-basics-the-after-party</td>\n",
       "      <td>nlp</td>\n",
       "      <td>classification</td>\n",
       "    </tr>\n",
       "  </tbody>\n",
       "</table>\n",
       "<p>180 rows × 6 columns</p>\n",
       "</div>"
      ],
      "text/plain": [
       "                                            kernel_ref  \\\n",
       "3    faressayah/text-analysis-topic-modelling-with-...   \n",
       "9    yihdarshieh/more-nli-datasets-hugging-face-nlp...   \n",
       "10   pradeepmuniasamy/contradictory-my-dear-watson-...   \n",
       "17   rhtsingh/interpreting-text-models-with-bert-on...   \n",
       "19   narendrageek/nlp-augmenter-5-fold-bert-translator   \n",
       "..                                                 ...   \n",
       "259  orangecatman/scikit-learn-data-science-lon-wil...   \n",
       "260       irinana/spam-detection-strata2013after-party   \n",
       "261                  meln1337/just-the-basics-notebook   \n",
       "262  nikosavgeros/classification-using-machine-and-...   \n",
       "263                pythonkumar/xgboost-feat-imp-acc-93   \n",
       "\n",
       "                                                  path  \\\n",
       "3    text-analysis-topic-modelling-with-spacy-gensi...   \n",
       "9     more-nli-datasets-hugging-face-nlp-library.ipynb   \n",
       "10   contradictory-my-dear-watson-everything-you-ne...   \n",
       "17     interpreting-text-models-with-bert-on-tpu.ipynb   \n",
       "19          nlp-augmenter-5-fold-bert-translator.ipynb   \n",
       "..                                                 ...   \n",
       "259        scikit-learn-data-science-lon-william.ipynb   \n",
       "260         spam-detection-strata2013after-party.ipynb   \n",
       "261                     just-the-basics-notebook.ipynb   \n",
       "262  classification-using-machine-and-deep-learning...   \n",
       "263                      xgboost-feat-imp-acc-93.ipynb   \n",
       "\n",
       "                                                 title  \\\n",
       "3    Text Analysis|Topic Modelling with spaCy & GENSIM   \n",
       "9         More NLI datasets - Hugging Face nlp library   \n",
       "10   Contradictory, My Dear Watson- Everything you ...   \n",
       "17           Interpreting text models with BERT on TPU   \n",
       "19             NLP Augmenter, 5 Fold BERT & Translator   \n",
       "..                                                 ...   \n",
       "259  手把手教學使用_Scikit-Learn_中文教學_Data Science Lon_Wil...   \n",
       "260              SPAM_Detection  Strata2013After-party   \n",
       "261                           Just The Basics Notebook   \n",
       "262     Classification using Machine and Deep Learning   \n",
       "263                         XGBoost + Feat Imp Acc:93%   \n",
       "\n",
       "                          competition     domain       technique  \n",
       "3        contradictory-my-dear-watson        nlp  classification  \n",
       "9        contradictory-my-dear-watson        nlp  classification  \n",
       "10       contradictory-my-dear-watson        nlp  classification  \n",
       "17       contradictory-my-dear-watson        nlp  classification  \n",
       "19       contradictory-my-dear-watson        nlp  classification  \n",
       "..                                ...        ...             ...  \n",
       "259  data-science-london-scikit-learn  no_domain  classification  \n",
       "260   just-the-basics-the-after-party        nlp  classification  \n",
       "261   just-the-basics-the-after-party        nlp  classification  \n",
       "262   just-the-basics-the-after-party        nlp  classification  \n",
       "263   just-the-basics-the-after-party        nlp  classification  \n",
       "\n",
       "[180 rows x 6 columns]"
      ]
     },
     "execution_count": 313,
     "metadata": {},
     "output_type": "execute_result"
    }
   ],
   "source": [
    "df"
   ]
  },
  {
   "cell_type": "code",
   "execution_count": 314,
   "metadata": {},
   "outputs": [
    {
     "data": {
      "text/plain": [
       "['1-house-prices-solution-top-1.ipynb',\n",
       " '10-simple-hacks-to-speed-up-your-data-analysis.ipynb',\n",
       " '2-15-loss-simple-split-trick.ipynb',\n",
       " '25-million-images-0-99757-mnist.ipynb',\n",
       " '93-f-score-bag-of-words-m-bags-of-popcorn-with-rf.ipynb',\n",
       " 'a-beginner-s-approach-to-classification.ipynb',\n",
       " 'a-complete-guide-to-decision-trees-ensembles.ipynb',\n",
       " 'a-complete-guide-to-linear-regression.ipynb',\n",
       " 'a-complete-guide-to-support-vector-machine.ipynb',\n",
       " 'a-data-science-framework-to-achieve-99-accuracy.ipynb',\n",
       " 'a-detailed-explanation-of-keras-embedding-layer.ipynb',\n",
       " 'a-detailed-regression-guide-with-house-pricing.ipynb',\n",
       " 'a-journey-through-titanic.ipynb',\n",
       " 'a-real-disaster-leaked-label.ipynb',\n",
       " 'a-simple-petals-tf-2-2-notebook.ipynb',\n",
       " 'a-statistical-analysis-ml-workflow-of-titanic.ipynb',\n",
       " 'a-study-on-regression-applied-to-the-ames-dataset.ipynb',\n",
       " 'advanced-analysis-to-infinity-and-beyond.ipynb',\n",
       " 'advanced-uses-of-shap-values.ipynb',\n",
       " 'all-imputation-techniques-with-pros-and-cons.ipynb',\n",
       " 'alphazero-baseline-connectx.ipynb',\n",
       " 'an-interactive-data-science-tutorial.ipynb',\n",
       " 'and-the-winner-is-spacy-render.ipynb',\n",
       " 'augmenting-data-with-translations.ipynb',\n",
       " 'automl-getting-started-notebook.ipynb',\n",
       " 'bag-of-words-meets-bags-of-popcorn-randomforest.ipynb',\n",
       " 'bag-of-words-meets-bags-of-popcorn.ipynb',\n",
       " 'bag-of-words-word2vec-for-sentiment-analysis.ipynb',\n",
       " 'bag-of-words.ipynb',\n",
       " 'baseline-model-using-nn-for-movie-review.ipynb',\n",
       " 'basic-data-exploration.ipynb',\n",
       " 'basic-eda-cleaning-and-glove.ipynb',\n",
       " 'basic-fully-connected-nn.ipynb',\n",
       " 'basic-nlp-with-tensorflow-and-wordcloud.ipynb',\n",
       " 'basics-of-bert-and-xlm-roberta-pytorch.ipynb',\n",
       " 'binary-classification-autoviz-top-feature.ipynb',\n",
       " 'binary-classification.ipynb',\n",
       " 'capsulenet-on-mnist.ipynb',\n",
       " 'categorical-variables.ipynb',\n",
       " 'cell-swarm.ipynb',\n",
       " 'character-recognition-cnn.ipynb',\n",
       " 'classification-comparing-different-algorithms.ipynb',\n",
       " 'classification-using-machine-and-deep-learning.ipynb',\n",
       " 'clustering-with-k-means.ipynb',\n",
       " 'compare-performance-metrics-dt-knn-svc-rf-mlp.ipynb',\n",
       " 'comprehensive-data-exploration-with-python.ipynb',\n",
       " 'computer-vision-petals-to-the-metal.ipynb',\n",
       " 'connectx-baseline.ipynb',\n",
       " 'connectx-getting-started.ipynb',\n",
       " 'connectx-mcts-bitboard-bitsquares-heuristic.ipynb',\n",
       " 'connectx-rule-based.ipynb',\n",
       " 'connectx-with-deep-q-learning-pytorch.ipynb',\n",
       " 'connectx-with-deep-q-learning.ipynb',\n",
       " 'connectx-with-q-learning.ipynb',\n",
       " 'contradiction-xlm-kfold-starter.ipynb',\n",
       " 'contradictory-my-dear-watson-everything-you-need.ipynb',\n",
       " 'contradictory-watson-concise-keras-xlm-r-on-tpu.ipynb',\n",
       " 'convolution-and-relu.ipynb',\n",
       " 'convolutional-neural-network-cnn-tutorial.ipynb',\n",
       " 'create-a-connectx-agent.ipynb',\n",
       " 'create-your-first-submission.ipynb',\n",
       " 'creating-features.ipynb',\n",
       " 'cross-validation.ipynb',\n",
       " 'custom-convnets.ipynb',\n",
       " 'cutmix-and-mixup-on-gpu-tpu.ipynb',\n",
       " 'cyclegan-pytorch-lightning.ipynb',\n",
       " 'cyclegan-pytorch.ipynb',\n",
       " 'cyclegan.ipynb',\n",
       " 'data-augmentation-for-facial-keypoint-detection.ipynb',\n",
       " 'data-augmentation.ipynb',\n",
       " 'data-leakage.ipynb',\n",
       " 'data-science-london-classification.ipynb',\n",
       " 'data-science-london-scikit-learn-modeling.ipynb',\n",
       " 'data-science-london-scikit-learn-practice.ipynb',\n",
       " 'data-science-london-scikit-learn.ipynb',\n",
       " 'data-science-london-scikit.ipynb',\n",
       " 'data-visualization-preprocessing-gridsearchcv.ipynb',\n",
       " 'deep-learning-from-scratch.ipynb',\n",
       " 'deep-neural-network-keras-way.ipynb',\n",
       " 'deep-reinforcement-learning.ipynb',\n",
       " 'detailed-exploratory-data-analysis-with-python.ipynb',\n",
       " 'detailed-guide-to-custom-training-with-tpus.ipynb',\n",
       " 'differential-evolution.ipynb',\n",
       " 'disaster-nlp-keras-bert-using-tfhub.ipynb',\n",
       " 'disaster-tweets-nlp-eda-bert-with-transformers.ipynb',\n",
       " 'dropout-and-batch-normalization.ipynb',\n",
       " 'dropout-and-strides-for-larger-models.ipynb',\n",
       " 'ds-london-explaining-gaussianmixture-preprocessing.ipynb',\n",
       " 'ds-tutorial-pca-gussian-mixture-grid-search.ipynb',\n",
       " 'easy-keras-facial-keypoint-detection.ipynb',\n",
       " 'econometrics-is-all-you-need.ipynb',\n",
       " 'eda-to-prediction-dietanic.ipynb',\n",
       " 'eda-with-plotly-useful-conclusions.ipynb',\n",
       " 'exercise-play-the-game.ipynb',\n",
       " 'exploring-time-series-plots-beginners-guide.ipynb',\n",
       " 'facial-key-points-detection-preprocessing-guide.ipynb',\n",
       " 'facial-key-points-detection-using-residual-network.ipynb',\n",
       " 'facial-keypoint-detection-cnn-augmentation.ipynb',\n",
       " 'facial-keypoint-detection-udacity.ipynb',\n",
       " 'facial-keypoint-detection.ipynb',\n",
       " 'facial-keypoints-detection-basic-keras-model.ipynb',\n",
       " 'facial-keypoints-detection-keras-albumentations.ipynb',\n",
       " 'facial-keypoints-detection.ipynb',\n",
       " 'facial-keypoints-fastai-image-regression.ipynb',\n",
       " 'facial-keypoints-transferlearning-resnet50v2.ipynb',\n",
       " 'fastai-cv.ipynb',\n",
       " 'fc-ensemble-external-data-effnet-densenet.ipynb',\n",
       " 'first-kaggle-notebook-following-ts-tutorial.ipynb',\n",
       " 'first-project-store-sales.ipynb',\n",
       " 'flower-classification-augmentations-eda.ipynb',\n",
       " 'flower-classification-with-tpus-eda-and-baseline.ipynb',\n",
       " 'flower-with-tpus-advanced-augmentations.ipynb',\n",
       " 'forecasting-with-machine-learning.ipynb',\n",
       " 'gaussian-mixture-and-grid-search.ipynb',\n",
       " 'generate-paintings-by-image-style-transfer.ipynb',\n",
       " 'gentle-introduction-to-gan.ipynb',\n",
       " 'getting-1000-score-using-only-minimax.ipynb',\n",
       " 'getting-started-with-gans.ipynb',\n",
       " 'getting-started-with-nlp-a-general-intro.ipynb',\n",
       " 'getting-started-with-standard-gans-tutorial.ipynb',\n",
       " 'google-movie-reviews-sentiment-deep-stack-models.ipynb',\n",
       " 'guide-external-data-features-for-multivariatets.ipynb',\n",
       " 'handling-missing-values.ipynb',\n",
       " 'hello-scikit-learn.ipynb',\n",
       " 'house-price-calculation-methods-for-beginners.ipynb',\n",
       " 'how-i-made-top-0-3-on-a-kaggle-competition.ipynb',\n",
       " 'how-to-attack-a-machine-learning-model.ipynb',\n",
       " 'how-to-choose-cnn-architecture-mnist.ipynb',\n",
       " 'how-to-get-the-lowest-score.ipynb',\n",
       " 'how-to-play-with-computer-and-check-winner.ipynb',\n",
       " 'hybrid-models.ipynb',\n",
       " 'hyperparamaters.ipynb',\n",
       " 'image-processing-face-keypoint-detection.ipynb',\n",
       " 'imdb-review-data.ipynb',\n",
       " 'imdb-review-deep-model-94-89-accuracy.ipynb',\n",
       " 'imdb-review-word2vec-bilstm-99-acc.ipynb',\n",
       " 'improving-cyclegan-monet-paintings.ipynb',\n",
       " 'in-depth-guide-to-google-s-bert.ipynb',\n",
       " 'interactive-intro-to-dimensionality-reduction.ipynb',\n",
       " 'interpreting-text-models-with-bert-on-tpu.ipynb',\n",
       " 'intro-to-connextx-env-and-minimax.ipynb',\n",
       " 'introduction-to-cnn-keras-0-997-top-6.ipynb',\n",
       " 'introduction-to-cyclegan-monet-paintings.ipynb',\n",
       " 'introduction-to-ensembling-stacking-in-python.ipynb',\n",
       " 'jax-flax-tf-data-vision-transformers-tutorial.ipynb',\n",
       " 'julia-en-es-prediction.ipynb',\n",
       " 'just-the-basics-notebook.ipynb',\n",
       " 'keras-facial-keypoint-analysis.ipynb',\n",
       " 'knowledge-graph-nlp-tutorial-bert-spacy-nltk.ipynb',\n",
       " 'linear-regression-with-time-series.ipynb',\n",
       " 'make-chris-deotte-s-data-augmentation-faster.ipynb',\n",
       " 'mastering-bias-variance-tradeoff.ipynb',\n",
       " 'maximum-pooling.ipynb',\n",
       " 'meets-bags-of-popcorn-a-beginner-s-notebook.ipynb',\n",
       " 'missing-values.ipynb',\n",
       " 'ml-foundation-cross-validation-all-methods.ipynb',\n",
       " 'mlops-how-to-be-rock-of-ml.ipynb',\n",
       " 'mnist-with-keras-for-beginners-99457.ipynb',\n",
       " 'model-validation.ipynb',\n",
       " 'monet-cyclegan-tutorial.ipynb',\n",
       " 'monet-masterpieces-eda-and-image-classification.ipynb',\n",
       " 'monet-using-gan.ipynb',\n",
       " 'monet-visualization-and-augmentation.ipynb',\n",
       " 'monte-carlo-tree-search-connectx.ipynb',\n",
       " 'more-nli-datasets-hugging-face-nlp-library.ipynb',\n",
       " 'more-nli-datasets-xmlr-large.ipynb',\n",
       " 'mutual-information.ipynb',\n",
       " 'n-step-lookahead.ipynb',\n",
       " 'natural-language-processing-nlp-for-beginners.ipynb',\n",
       " 'neural-network-version.ipynb',\n",
       " 'neural-style-transfer-photo-to-monet.ipynb',\n",
       " 'nli-beginner-eda-bert-baseline.ipynb',\n",
       " 'nlp-augmenter-5-fold-bert-translator.ipynb',\n",
       " 'nlp-disaster-tweets-with-glove-and-lstm.ipynb',\n",
       " 'nlp-eda-bag-of-words-tf-idf-glove-bert.ipynb',\n",
       " 'nlp-getting-started-tutorial.ipynb',\n",
       " 'nlp-glove-bert-tf-idf-lstm-explained.ipynb',\n",
       " 'nlp-preprocessing-feature-extraction-methods-a-z.ipynb',\n",
       " 'nlp-with-disaster-tweets-eda-cleaning-and-bert.ipynb',\n",
       " 'nlp-word2vec.ipynb',\n",
       " 'ocr-using-different-methods-in-python.ipynb',\n",
       " 'one-step-lookahead.ipynb',\n",
       " 'outlier-the-silent-killer.ipynb',\n",
       " 'overfitting-and-underfitting.ipynb',\n",
       " 'partial-plots.ipynb',\n",
       " 'pipelines.ipynb',\n",
       " 'play-the-game.ipynb',\n",
       " 'popcorn-rnn-model.ipynb',\n",
       " 'practical-introduction-to-10-regression-algorithm.ipynb',\n",
       " 'practicing-sentimental-analysis.ipynb',\n",
       " 'pretrained-cnn-epic-fight.ipynb',\n",
       " 'principal-component-analysis.ipynb',\n",
       " 'pycaret-visualization-optimization-0-81.ipynb',\n",
       " 'pytorch-tpu-baseline-flowers-tranlearning-ensemble.ipynb',\n",
       " 'pytorch-tutorial-for-deep-learning-lovers.ipynb',\n",
       " 'random-forests.ipynb',\n",
       " 'real-time-cnn-architecture.ipynb',\n",
       " 'recurrent-neural-network-with-pytorch.ipynb',\n",
       " 'regularized-linear-models.ipynb',\n",
       " 'reinforcement-learning-chess-1-policy-iteration.ipynb',\n",
       " 'rotation-augmentation-gpu-tpu-0-96.ipynb',\n",
       " 'sbh-advanced-cycle-gan-implementation-and-tricks.ipynb',\n",
       " 'scikit-learn-data-science-lon-william.ipynb',\n",
       " 'second-attempt-2.ipynb',\n",
       " 'selecting-and-filtering-in-pandas.ipynb',\n",
       " 'sentiment-analysis-101-using-word2vec.ipynb',\n",
       " 'sentiment-analysis-part-i.ipynb',\n",
       " 'sentiment-analysis-part-ii.ipynb',\n",
       " 'sentiment-analysis-with-word2vec.ipynb',\n",
       " 'shap-values.ipynb',\n",
       " 'simple-gaussian-lgbm-data-science-london.ipynb',\n",
       " 'simple-matplotlib-visualization-tips.ipynb',\n",
       " 'simple-mnist-nn-from-scratch-numpy-no-tf-keras.ipynb',\n",
       " 'spaceship-eda-catboost-with-optuna.ipynb',\n",
       " 'spaceship-sos-decision-is-always-difficult.ipynb',\n",
       " 'spaceship-titanic-a-complete-guide.ipynb',\n",
       " 'spaceship-titanic-eda-27-different-models.ipynb',\n",
       " 'spaceship-titanic-eda-pytorch-baseline-w-b.ipynb',\n",
       " 'spaceship-titanic-eda-xgboost-80.ipynb',\n",
       " 'spaceship-titanic-fast-kernel-using-sklearnex.ipynb',\n",
       " 'spaceship-titanic-nn-model-feature-eng.ipynb',\n",
       " 'spaceship-titanic-top-6-for-beginners.ipynb',\n",
       " 'spam-detection-strata2013after-party.ipynb',\n",
       " 'sst-eda-17-models-dl-top-7.ipynb',\n",
       " 'stacked-regressions-top-4-on-leaderboard.ipynb',\n",
       " 'start-from-here-disaster-tweets-eda-basic-model.ipynb',\n",
       " 'stochastic-gradient-descent.ipynb',\n",
       " 'store-sales-analysis-time-serie.ipynb',\n",
       " 'store-sales-eda-prediction-with-ts.ipynb',\n",
       " 'store-sales-forecasting-exploration.ipynb',\n",
       " 'store-sales-time-series-forecast-visualization.ipynb',\n",
       " 'store-sales-ts-forecasting-a-comprehensive-guide.ipynb',\n",
       " 'study-series-uplift-modeling.ipynb',\n",
       " 'submitting-from-a-kernel.ipynb',\n",
       " 'target-encoding.ipynb',\n",
       " 'tensorflow-deep-nn.ipynb',\n",
       " 'tensorflow-spaceship-neuraldecisionforests.ipynb',\n",
       " 'text-analysis-topic-modelling-with-spacy-gensim.ipynb',\n",
       " 'text-representations.ipynb',\n",
       " 'tf-hybrid-efficientnet-swin-transformer-gradcam.ipynb',\n",
       " 'tfrecords-basics.ipynb',\n",
       " 'the-beauty-of-cyclegan.ipynb',\n",
       " 'the-convolutional-classifier.ipynb',\n",
       " 'the-sliding-window.ipynb',\n",
       " 'time-series-analysis-forecasting.ipynb',\n",
       " 'time-series-as-features.ipynb',\n",
       " 'time-series-bonus-lesson-unofficial.ipynb',\n",
       " 'time-series-forecasting-with-python.ipynb',\n",
       " 'titanic-advanced-feature-engineering-tutorial.ipynb',\n",
       " 'titanic-best-working-classifier.ipynb',\n",
       " 'titanic-data-science-solutions.ipynb',\n",
       " 'titanic-project-example.ipynb',\n",
       " 'titanic-survival-predictions-beginner.ipynb',\n",
       " 'titanic-top-4-with-ensemble-modeling.ipynb',\n",
       " 'titanic-tutorial.ipynb',\n",
       " 'tpu-inference-pytorch-nlp-xlmroberta.ipynb',\n",
       " 'tpu-sherlocked-one-stop-for-with-tf.ipynb',\n",
       " 'tpu-training-pytorch-nlp-xlmroberta.ipynb',\n",
       " 'transfering-style.ipynb',\n",
       " 'trend.ipynb',\n",
       " 'tutorial-notebook.ipynb',\n",
       " 'two-objective-discriminator.ipynb',\n",
       " 'underfitting-and-overfitting.ipynb',\n",
       " 'understanding-and-improving-cyclegans-tutorial.ipynb',\n",
       " 'upit-a-package-for-unpaired-img2img-translation.ipynb',\n",
       " 'useful-python-libraries-for-data-science.ipynb',\n",
       " 'using-categorical-data-with-one-hot-encoding.ipynb',\n",
       " 'using-google-translate-for-nlp-augmentation.ipynb',\n",
       " 'using-some-models-in-classification-accuracy-95.ipynb',\n",
       " 'watson-kfold-xlm-r-translation-augmentation.ipynb',\n",
       " 'watson-nli-with-tensorflow-and-transformers.ipynb',\n",
       " 'watson-xlm-r-nli-inference.ipynb',\n",
       " 'welcome-to-deep-learning-cnn-99.ipynb',\n",
       " 'what-is-feature-engineering.ipynb',\n",
       " 'word2vec.ipynb',\n",
       " 'xgboost-feat-imp-acc-93.ipynb',\n",
       " 'xgboost-wrangling-with-hyperparameters-guide.ipynb',\n",
       " 'xgboost.ipynb',\n",
       " 'your-first-machine-learning-model.ipynb',\n",
       " 'your-first-nlp-competition-submission.ipynb']"
      ]
     },
     "execution_count": 314,
     "metadata": {},
     "output_type": "execute_result"
    }
   ],
   "source": [
    "DATA_PATH = \"./data_/\"\n",
    "test = os.listdir(DATA_PATH)\n",
    "L=[]\n",
    "for item in test:\n",
    "        L.append(item)\n",
    "\n",
    "L"
   ]
  },
  {
   "cell_type": "markdown",
   "metadata": {},
   "source": [
    "Drop and count notebooks that that have failed to be pulled from Kaggle"
   ]
  },
  {
   "cell_type": "code",
   "execution_count": 315,
   "metadata": {},
   "outputs": [
    {
     "name": "stdout",
     "output_type": "stream",
     "text": [
      "153 15\n"
     ]
    }
   ],
   "source": [
    "c3 =[]\n",
    "c4 =[]\n",
    "\n",
    "for i in df.index :\n",
    "\n",
    "    if df.loc[i]['path'] in L:\n",
    "        c3.append(df.loc[i]['path'])\n",
    "    else :\n",
    "        c4.append(df.loc[i]['path'])\n",
    "\n",
    "print(len(np.unique(c3)),len(np.unique(c4)))"
   ]
  },
  {
   "cell_type": "markdown",
   "metadata": {},
   "source": [
    "15 notebooks need to be droped from our data :"
   ]
  },
  {
   "cell_type": "code",
   "execution_count": 316,
   "metadata": {},
   "outputs": [],
   "source": [
    "for ntb in c4 :\n",
    "    df.drop(df.index[df['title'] == ntb], inplace=True)"
   ]
  },
  {
   "cell_type": "code",
   "execution_count": 317,
   "metadata": {},
   "outputs": [
    {
     "data": {
      "text/html": [
       "<div>\n",
       "<style scoped>\n",
       "    .dataframe tbody tr th:only-of-type {\n",
       "        vertical-align: middle;\n",
       "    }\n",
       "\n",
       "    .dataframe tbody tr th {\n",
       "        vertical-align: top;\n",
       "    }\n",
       "\n",
       "    .dataframe thead th {\n",
       "        text-align: right;\n",
       "    }\n",
       "</style>\n",
       "<table border=\"1\" class=\"dataframe\">\n",
       "  <thead>\n",
       "    <tr style=\"text-align: right;\">\n",
       "      <th></th>\n",
       "      <th>kernel_ref</th>\n",
       "      <th>path</th>\n",
       "      <th>title</th>\n",
       "      <th>competition</th>\n",
       "      <th>domain</th>\n",
       "      <th>technique</th>\n",
       "    </tr>\n",
       "  </thead>\n",
       "  <tbody>\n",
       "    <tr>\n",
       "      <th>3</th>\n",
       "      <td>faressayah/text-analysis-topic-modelling-with-...</td>\n",
       "      <td>text-analysis-topic-modelling-with-spacy-gensi...</td>\n",
       "      <td>Text Analysis|Topic Modelling with spaCy &amp; GENSIM</td>\n",
       "      <td>contradictory-my-dear-watson</td>\n",
       "      <td>nlp</td>\n",
       "      <td>classification</td>\n",
       "    </tr>\n",
       "    <tr>\n",
       "      <th>9</th>\n",
       "      <td>yihdarshieh/more-nli-datasets-hugging-face-nlp...</td>\n",
       "      <td>more-nli-datasets-hugging-face-nlp-library.ipynb</td>\n",
       "      <td>More NLI datasets - Hugging Face nlp library</td>\n",
       "      <td>contradictory-my-dear-watson</td>\n",
       "      <td>nlp</td>\n",
       "      <td>classification</td>\n",
       "    </tr>\n",
       "    <tr>\n",
       "      <th>10</th>\n",
       "      <td>pradeepmuniasamy/contradictory-my-dear-watson-...</td>\n",
       "      <td>contradictory-my-dear-watson-everything-you-ne...</td>\n",
       "      <td>Contradictory, My Dear Watson- Everything you ...</td>\n",
       "      <td>contradictory-my-dear-watson</td>\n",
       "      <td>nlp</td>\n",
       "      <td>classification</td>\n",
       "    </tr>\n",
       "    <tr>\n",
       "      <th>17</th>\n",
       "      <td>rhtsingh/interpreting-text-models-with-bert-on...</td>\n",
       "      <td>interpreting-text-models-with-bert-on-tpu.ipynb</td>\n",
       "      <td>Interpreting text models with BERT on TPU</td>\n",
       "      <td>contradictory-my-dear-watson</td>\n",
       "      <td>nlp</td>\n",
       "      <td>classification</td>\n",
       "    </tr>\n",
       "    <tr>\n",
       "      <th>19</th>\n",
       "      <td>narendrageek/nlp-augmenter-5-fold-bert-translator</td>\n",
       "      <td>nlp-augmenter-5-fold-bert-translator.ipynb</td>\n",
       "      <td>NLP Augmenter, 5 Fold BERT &amp; Translator</td>\n",
       "      <td>contradictory-my-dear-watson</td>\n",
       "      <td>nlp</td>\n",
       "      <td>classification</td>\n",
       "    </tr>\n",
       "    <tr>\n",
       "      <th>...</th>\n",
       "      <td>...</td>\n",
       "      <td>...</td>\n",
       "      <td>...</td>\n",
       "      <td>...</td>\n",
       "      <td>...</td>\n",
       "      <td>...</td>\n",
       "    </tr>\n",
       "    <tr>\n",
       "      <th>258</th>\n",
       "      <td>ziadhamadafathy/using-some-models-in-classific...</td>\n",
       "      <td>using-some-models-in-classification-accuracy-9...</td>\n",
       "      <td>Using Some Models in classification,  accuracy...</td>\n",
       "      <td>data-science-london-scikit-learn</td>\n",
       "      <td>no_domain</td>\n",
       "      <td>classification</td>\n",
       "    </tr>\n",
       "    <tr>\n",
       "      <th>260</th>\n",
       "      <td>irinana/spam-detection-strata2013after-party</td>\n",
       "      <td>spam-detection-strata2013after-party.ipynb</td>\n",
       "      <td>SPAM_Detection  Strata2013After-party</td>\n",
       "      <td>just-the-basics-the-after-party</td>\n",
       "      <td>nlp</td>\n",
       "      <td>classification</td>\n",
       "    </tr>\n",
       "    <tr>\n",
       "      <th>261</th>\n",
       "      <td>meln1337/just-the-basics-notebook</td>\n",
       "      <td>just-the-basics-notebook.ipynb</td>\n",
       "      <td>Just The Basics Notebook</td>\n",
       "      <td>just-the-basics-the-after-party</td>\n",
       "      <td>nlp</td>\n",
       "      <td>classification</td>\n",
       "    </tr>\n",
       "    <tr>\n",
       "      <th>262</th>\n",
       "      <td>nikosavgeros/classification-using-machine-and-...</td>\n",
       "      <td>classification-using-machine-and-deep-learning...</td>\n",
       "      <td>Classification using Machine and Deep Learning</td>\n",
       "      <td>just-the-basics-the-after-party</td>\n",
       "      <td>nlp</td>\n",
       "      <td>classification</td>\n",
       "    </tr>\n",
       "    <tr>\n",
       "      <th>263</th>\n",
       "      <td>pythonkumar/xgboost-feat-imp-acc-93</td>\n",
       "      <td>xgboost-feat-imp-acc-93.ipynb</td>\n",
       "      <td>XGBoost + Feat Imp Acc:93%</td>\n",
       "      <td>just-the-basics-the-after-party</td>\n",
       "      <td>nlp</td>\n",
       "      <td>classification</td>\n",
       "    </tr>\n",
       "  </tbody>\n",
       "</table>\n",
       "<p>179 rows × 6 columns</p>\n",
       "</div>"
      ],
      "text/plain": [
       "                                            kernel_ref  \\\n",
       "3    faressayah/text-analysis-topic-modelling-with-...   \n",
       "9    yihdarshieh/more-nli-datasets-hugging-face-nlp...   \n",
       "10   pradeepmuniasamy/contradictory-my-dear-watson-...   \n",
       "17   rhtsingh/interpreting-text-models-with-bert-on...   \n",
       "19   narendrageek/nlp-augmenter-5-fold-bert-translator   \n",
       "..                                                 ...   \n",
       "258  ziadhamadafathy/using-some-models-in-classific...   \n",
       "260       irinana/spam-detection-strata2013after-party   \n",
       "261                  meln1337/just-the-basics-notebook   \n",
       "262  nikosavgeros/classification-using-machine-and-...   \n",
       "263                pythonkumar/xgboost-feat-imp-acc-93   \n",
       "\n",
       "                                                  path  \\\n",
       "3    text-analysis-topic-modelling-with-spacy-gensi...   \n",
       "9     more-nli-datasets-hugging-face-nlp-library.ipynb   \n",
       "10   contradictory-my-dear-watson-everything-you-ne...   \n",
       "17     interpreting-text-models-with-bert-on-tpu.ipynb   \n",
       "19          nlp-augmenter-5-fold-bert-translator.ipynb   \n",
       "..                                                 ...   \n",
       "258  using-some-models-in-classification-accuracy-9...   \n",
       "260         spam-detection-strata2013after-party.ipynb   \n",
       "261                     just-the-basics-notebook.ipynb   \n",
       "262  classification-using-machine-and-deep-learning...   \n",
       "263                      xgboost-feat-imp-acc-93.ipynb   \n",
       "\n",
       "                                                 title  \\\n",
       "3    Text Analysis|Topic Modelling with spaCy & GENSIM   \n",
       "9         More NLI datasets - Hugging Face nlp library   \n",
       "10   Contradictory, My Dear Watson- Everything you ...   \n",
       "17           Interpreting text models with BERT on TPU   \n",
       "19             NLP Augmenter, 5 Fold BERT & Translator   \n",
       "..                                                 ...   \n",
       "258  Using Some Models in classification,  accuracy...   \n",
       "260              SPAM_Detection  Strata2013After-party   \n",
       "261                           Just The Basics Notebook   \n",
       "262     Classification using Machine and Deep Learning   \n",
       "263                         XGBoost + Feat Imp Acc:93%   \n",
       "\n",
       "                          competition     domain       technique  \n",
       "3        contradictory-my-dear-watson        nlp  classification  \n",
       "9        contradictory-my-dear-watson        nlp  classification  \n",
       "10       contradictory-my-dear-watson        nlp  classification  \n",
       "17       contradictory-my-dear-watson        nlp  classification  \n",
       "19       contradictory-my-dear-watson        nlp  classification  \n",
       "..                                ...        ...             ...  \n",
       "258  data-science-london-scikit-learn  no_domain  classification  \n",
       "260   just-the-basics-the-after-party        nlp  classification  \n",
       "261   just-the-basics-the-after-party        nlp  classification  \n",
       "262   just-the-basics-the-after-party        nlp  classification  \n",
       "263   just-the-basics-the-after-party        nlp  classification  \n",
       "\n",
       "[179 rows x 6 columns]"
      ]
     },
     "execution_count": 317,
     "metadata": {},
     "output_type": "execute_result"
    }
   ],
   "source": [
    "df.drop(df.index[df['path'] == 'scikit-learn-data-science-lon-william.ipynb'], inplace=True)\n",
    "df"
   ]
  },
  {
   "cell_type": "code",
   "execution_count": 162,
   "metadata": {},
   "outputs": [
    {
     "data": {
      "text/html": [
       "<div>\n",
       "<style scoped>\n",
       "    .dataframe tbody tr th:only-of-type {\n",
       "        vertical-align: middle;\n",
       "    }\n",
       "\n",
       "    .dataframe tbody tr th {\n",
       "        vertical-align: top;\n",
       "    }\n",
       "\n",
       "    .dataframe thead th {\n",
       "        text-align: right;\n",
       "    }\n",
       "</style>\n",
       "<table border=\"1\" class=\"dataframe\">\n",
       "  <thead>\n",
       "    <tr style=\"text-align: right;\">\n",
       "      <th></th>\n",
       "      <th>kernel_ref</th>\n",
       "      <th>path</th>\n",
       "      <th>title</th>\n",
       "      <th>competition</th>\n",
       "      <th>technique</th>\n",
       "    </tr>\n",
       "    <tr>\n",
       "      <th>domain</th>\n",
       "      <th></th>\n",
       "      <th></th>\n",
       "      <th></th>\n",
       "      <th></th>\n",
       "      <th></th>\n",
       "    </tr>\n",
       "  </thead>\n",
       "  <tbody>\n",
       "    <tr>\n",
       "      <th>computer vision</th>\n",
       "      <td>56</td>\n",
       "      <td>56</td>\n",
       "      <td>56</td>\n",
       "      <td>56</td>\n",
       "      <td>56</td>\n",
       "    </tr>\n",
       "    <tr>\n",
       "      <th>nlp</th>\n",
       "      <td>50</td>\n",
       "      <td>50</td>\n",
       "      <td>50</td>\n",
       "      <td>50</td>\n",
       "      <td>50</td>\n",
       "    </tr>\n",
       "    <tr>\n",
       "      <th>no_domain</th>\n",
       "      <td>59</td>\n",
       "      <td>59</td>\n",
       "      <td>59</td>\n",
       "      <td>59</td>\n",
       "      <td>59</td>\n",
       "    </tr>\n",
       "    <tr>\n",
       "      <th>reinforcement learning</th>\n",
       "      <td>14</td>\n",
       "      <td>14</td>\n",
       "      <td>14</td>\n",
       "      <td>14</td>\n",
       "      <td>14</td>\n",
       "    </tr>\n",
       "  </tbody>\n",
       "</table>\n",
       "</div>"
      ],
      "text/plain": [
       "                        kernel_ref  path  title  competition  technique\n",
       "domain                                                                 \n",
       "computer vision                 56    56     56           56         56\n",
       "nlp                             50    50     50           50         50\n",
       "no_domain                       59    59     59           59         59\n",
       "reinforcement learning          14    14     14           14         14"
      ]
     },
     "execution_count": 162,
     "metadata": {},
     "output_type": "execute_result"
    }
   ],
   "source": [
    "df.groupby('domain').count()\n"
   ]
  },
  {
   "cell_type": "code",
   "execution_count": 163,
   "metadata": {},
   "outputs": [
    {
     "data": {
      "text/html": [
       "<div>\n",
       "<style scoped>\n",
       "    .dataframe tbody tr th:only-of-type {\n",
       "        vertical-align: middle;\n",
       "    }\n",
       "\n",
       "    .dataframe tbody tr th {\n",
       "        vertical-align: top;\n",
       "    }\n",
       "\n",
       "    .dataframe thead th {\n",
       "        text-align: right;\n",
       "    }\n",
       "</style>\n",
       "<table border=\"1\" class=\"dataframe\">\n",
       "  <thead>\n",
       "    <tr style=\"text-align: right;\">\n",
       "      <th></th>\n",
       "      <th>kernel_ref</th>\n",
       "      <th>path</th>\n",
       "      <th>title</th>\n",
       "      <th>competition</th>\n",
       "      <th>domain</th>\n",
       "    </tr>\n",
       "    <tr>\n",
       "      <th>technique</th>\n",
       "      <th></th>\n",
       "      <th></th>\n",
       "      <th></th>\n",
       "      <th></th>\n",
       "      <th></th>\n",
       "    </tr>\n",
       "  </thead>\n",
       "  <tbody>\n",
       "    <tr>\n",
       "      <th>classification</th>\n",
       "      <td>103</td>\n",
       "      <td>103</td>\n",
       "      <td>103</td>\n",
       "      <td>103</td>\n",
       "      <td>103</td>\n",
       "    </tr>\n",
       "    <tr>\n",
       "      <th>no_technique</th>\n",
       "      <td>31</td>\n",
       "      <td>31</td>\n",
       "      <td>31</td>\n",
       "      <td>31</td>\n",
       "      <td>31</td>\n",
       "    </tr>\n",
       "    <tr>\n",
       "      <th>regression</th>\n",
       "      <td>45</td>\n",
       "      <td>45</td>\n",
       "      <td>45</td>\n",
       "      <td>45</td>\n",
       "      <td>45</td>\n",
       "    </tr>\n",
       "  </tbody>\n",
       "</table>\n",
       "</div>"
      ],
      "text/plain": [
       "                kernel_ref  path  title  competition  domain\n",
       "technique                                                   \n",
       "classification         103   103    103          103     103\n",
       "no_technique            31    31     31           31      31\n",
       "regression              45    45     45           45      45"
      ]
     },
     "execution_count": 163,
     "metadata": {},
     "output_type": "execute_result"
    }
   ],
   "source": [
    "df.groupby('technique').count()"
   ]
  },
  {
   "cell_type": "code",
   "execution_count": 318,
   "metadata": {},
   "outputs": [],
   "source": [
    "df.to_csv(\"../data/test_data.csv\")\n"
   ]
  },
  {
   "cell_type": "markdown",
   "metadata": {},
   "source": [
    "### Analysing classification experiement "
   ]
  },
  {
   "cell_type": "code",
   "execution_count": 169,
   "metadata": {},
   "outputs": [
    {
     "data": {
      "text/html": [
       "<div>\n",
       "<style scoped>\n",
       "    .dataframe tbody tr th:only-of-type {\n",
       "        vertical-align: middle;\n",
       "    }\n",
       "\n",
       "    .dataframe tbody tr th {\n",
       "        vertical-align: top;\n",
       "    }\n",
       "\n",
       "    .dataframe thead th {\n",
       "        text-align: right;\n",
       "    }\n",
       "</style>\n",
       "<table border=\"1\" class=\"dataframe\">\n",
       "  <thead>\n",
       "    <tr style=\"text-align: right;\">\n",
       "      <th></th>\n",
       "      <th>num_feature_0</th>\n",
       "      <th>num_feature_1</th>\n",
       "      <th>num_feature_2</th>\n",
       "      <th>num_feature_3</th>\n",
       "      <th>num_feature_4</th>\n",
       "      <th>num_feature_5</th>\n",
       "      <th>num_feature_6</th>\n",
       "      <th>num_feature_7</th>\n",
       "      <th>num_feature_8</th>\n",
       "      <th>num_feature_9</th>\n",
       "      <th>...</th>\n",
       "      <th>num_feature_759</th>\n",
       "      <th>num_feature_760</th>\n",
       "      <th>num_feature_761</th>\n",
       "      <th>num_feature_762</th>\n",
       "      <th>num_feature_763</th>\n",
       "      <th>num_feature_764</th>\n",
       "      <th>num_feature_765</th>\n",
       "      <th>num_feature_766</th>\n",
       "      <th>num_feature_767</th>\n",
       "      <th>target_category</th>\n",
       "    </tr>\n",
       "  </thead>\n",
       "  <tbody>\n",
       "    <tr>\n",
       "      <th>0</th>\n",
       "      <td>-0.347906</td>\n",
       "      <td>0.298659</td>\n",
       "      <td>0.306194</td>\n",
       "      <td>0.055175</td>\n",
       "      <td>-0.430964</td>\n",
       "      <td>-0.466804</td>\n",
       "      <td>-0.108935</td>\n",
       "      <td>0.225360</td>\n",
       "      <td>0.385942</td>\n",
       "      <td>0.492067</td>\n",
       "      <td>...</td>\n",
       "      <td>-0.174081</td>\n",
       "      <td>-0.516293</td>\n",
       "      <td>0.402670</td>\n",
       "      <td>-0.094396</td>\n",
       "      <td>0.222461</td>\n",
       "      <td>0.574193</td>\n",
       "      <td>-0.606644</td>\n",
       "      <td>-0.461940</td>\n",
       "      <td>0.539914</td>\n",
       "      <td>computer vision</td>\n",
       "    </tr>\n",
       "    <tr>\n",
       "      <th>1</th>\n",
       "      <td>-0.381965</td>\n",
       "      <td>0.317170</td>\n",
       "      <td>0.336794</td>\n",
       "      <td>0.081098</td>\n",
       "      <td>-0.454720</td>\n",
       "      <td>-0.551013</td>\n",
       "      <td>-0.051526</td>\n",
       "      <td>0.256912</td>\n",
       "      <td>0.381023</td>\n",
       "      <td>0.474694</td>\n",
       "      <td>...</td>\n",
       "      <td>-0.182501</td>\n",
       "      <td>-0.524450</td>\n",
       "      <td>0.344222</td>\n",
       "      <td>-0.027710</td>\n",
       "      <td>0.259213</td>\n",
       "      <td>0.608695</td>\n",
       "      <td>-0.722355</td>\n",
       "      <td>-0.420306</td>\n",
       "      <td>0.589060</td>\n",
       "      <td>clustering</td>\n",
       "    </tr>\n",
       "    <tr>\n",
       "      <th>2</th>\n",
       "      <td>-0.334516</td>\n",
       "      <td>0.283154</td>\n",
       "      <td>0.291431</td>\n",
       "      <td>0.043395</td>\n",
       "      <td>-0.385153</td>\n",
       "      <td>-0.494500</td>\n",
       "      <td>-0.111106</td>\n",
       "      <td>0.227195</td>\n",
       "      <td>0.380586</td>\n",
       "      <td>0.548708</td>\n",
       "      <td>...</td>\n",
       "      <td>-0.169292</td>\n",
       "      <td>-0.530989</td>\n",
       "      <td>0.416996</td>\n",
       "      <td>-0.104790</td>\n",
       "      <td>0.218367</td>\n",
       "      <td>0.636691</td>\n",
       "      <td>-0.612310</td>\n",
       "      <td>-0.446481</td>\n",
       "      <td>0.508087</td>\n",
       "      <td>computer vision</td>\n",
       "    </tr>\n",
       "    <tr>\n",
       "      <th>3</th>\n",
       "      <td>-0.275612</td>\n",
       "      <td>0.267364</td>\n",
       "      <td>0.266519</td>\n",
       "      <td>0.076538</td>\n",
       "      <td>-0.282673</td>\n",
       "      <td>-0.329046</td>\n",
       "      <td>-0.045134</td>\n",
       "      <td>0.221697</td>\n",
       "      <td>0.293198</td>\n",
       "      <td>0.421586</td>\n",
       "      <td>...</td>\n",
       "      <td>-0.149041</td>\n",
       "      <td>-0.485052</td>\n",
       "      <td>0.493056</td>\n",
       "      <td>-0.112996</td>\n",
       "      <td>0.220296</td>\n",
       "      <td>0.618480</td>\n",
       "      <td>-0.594641</td>\n",
       "      <td>-0.469342</td>\n",
       "      <td>0.497985</td>\n",
       "      <td>nlp</td>\n",
       "    </tr>\n",
       "    <tr>\n",
       "      <th>4</th>\n",
       "      <td>-0.243645</td>\n",
       "      <td>0.288036</td>\n",
       "      <td>0.266372</td>\n",
       "      <td>0.109039</td>\n",
       "      <td>-0.166584</td>\n",
       "      <td>-0.294326</td>\n",
       "      <td>-0.053085</td>\n",
       "      <td>0.150146</td>\n",
       "      <td>0.304883</td>\n",
       "      <td>0.368951</td>\n",
       "      <td>...</td>\n",
       "      <td>-0.142109</td>\n",
       "      <td>-0.482496</td>\n",
       "      <td>0.465995</td>\n",
       "      <td>-0.077088</td>\n",
       "      <td>0.226020</td>\n",
       "      <td>0.523076</td>\n",
       "      <td>-0.427591</td>\n",
       "      <td>-0.406878</td>\n",
       "      <td>0.511194</td>\n",
       "      <td>classification</td>\n",
       "    </tr>\n",
       "    <tr>\n",
       "      <th>...</th>\n",
       "      <td>...</td>\n",
       "      <td>...</td>\n",
       "      <td>...</td>\n",
       "      <td>...</td>\n",
       "      <td>...</td>\n",
       "      <td>...</td>\n",
       "      <td>...</td>\n",
       "      <td>...</td>\n",
       "      <td>...</td>\n",
       "      <td>...</td>\n",
       "      <td>...</td>\n",
       "      <td>...</td>\n",
       "      <td>...</td>\n",
       "      <td>...</td>\n",
       "      <td>...</td>\n",
       "      <td>...</td>\n",
       "      <td>...</td>\n",
       "      <td>...</td>\n",
       "      <td>...</td>\n",
       "      <td>...</td>\n",
       "      <td>...</td>\n",
       "    </tr>\n",
       "    <tr>\n",
       "      <th>6255</th>\n",
       "      <td>-0.393783</td>\n",
       "      <td>0.277537</td>\n",
       "      <td>0.316518</td>\n",
       "      <td>0.040720</td>\n",
       "      <td>-0.391826</td>\n",
       "      <td>-0.480739</td>\n",
       "      <td>-0.062746</td>\n",
       "      <td>0.245819</td>\n",
       "      <td>0.256513</td>\n",
       "      <td>0.471789</td>\n",
       "      <td>...</td>\n",
       "      <td>-0.129478</td>\n",
       "      <td>-0.558991</td>\n",
       "      <td>0.332909</td>\n",
       "      <td>-0.120112</td>\n",
       "      <td>0.225102</td>\n",
       "      <td>0.562891</td>\n",
       "      <td>-0.788352</td>\n",
       "      <td>-0.403093</td>\n",
       "      <td>0.606365</td>\n",
       "      <td>clustering</td>\n",
       "    </tr>\n",
       "    <tr>\n",
       "      <th>6256</th>\n",
       "      <td>-0.350655</td>\n",
       "      <td>0.288547</td>\n",
       "      <td>0.306525</td>\n",
       "      <td>0.093222</td>\n",
       "      <td>-0.323761</td>\n",
       "      <td>-0.448132</td>\n",
       "      <td>-0.068621</td>\n",
       "      <td>0.184130</td>\n",
       "      <td>0.309040</td>\n",
       "      <td>0.422071</td>\n",
       "      <td>...</td>\n",
       "      <td>-0.132200</td>\n",
       "      <td>-0.475985</td>\n",
       "      <td>0.370314</td>\n",
       "      <td>-0.145366</td>\n",
       "      <td>0.221709</td>\n",
       "      <td>0.561444</td>\n",
       "      <td>-0.666458</td>\n",
       "      <td>-0.397126</td>\n",
       "      <td>0.554349</td>\n",
       "      <td>clustering</td>\n",
       "    </tr>\n",
       "    <tr>\n",
       "      <th>6257</th>\n",
       "      <td>-0.269415</td>\n",
       "      <td>0.342038</td>\n",
       "      <td>0.304815</td>\n",
       "      <td>0.037482</td>\n",
       "      <td>-0.235388</td>\n",
       "      <td>-0.309742</td>\n",
       "      <td>-0.080752</td>\n",
       "      <td>0.213444</td>\n",
       "      <td>0.319876</td>\n",
       "      <td>0.423119</td>\n",
       "      <td>...</td>\n",
       "      <td>-0.133684</td>\n",
       "      <td>-0.532163</td>\n",
       "      <td>0.415316</td>\n",
       "      <td>-0.049092</td>\n",
       "      <td>0.259647</td>\n",
       "      <td>0.605257</td>\n",
       "      <td>-0.576541</td>\n",
       "      <td>-0.392241</td>\n",
       "      <td>0.530491</td>\n",
       "      <td>nlp</td>\n",
       "    </tr>\n",
       "    <tr>\n",
       "      <th>6258</th>\n",
       "      <td>-0.324500</td>\n",
       "      <td>0.284065</td>\n",
       "      <td>0.302361</td>\n",
       "      <td>0.090343</td>\n",
       "      <td>-0.268171</td>\n",
       "      <td>-0.412675</td>\n",
       "      <td>-0.082972</td>\n",
       "      <td>0.214550</td>\n",
       "      <td>0.285261</td>\n",
       "      <td>0.424154</td>\n",
       "      <td>...</td>\n",
       "      <td>-0.130789</td>\n",
       "      <td>-0.487126</td>\n",
       "      <td>0.364878</td>\n",
       "      <td>-0.106732</td>\n",
       "      <td>0.233295</td>\n",
       "      <td>0.579414</td>\n",
       "      <td>-0.619685</td>\n",
       "      <td>-0.412788</td>\n",
       "      <td>0.527967</td>\n",
       "      <td>nlp</td>\n",
       "    </tr>\n",
       "    <tr>\n",
       "      <th>6259</th>\n",
       "      <td>-0.241337</td>\n",
       "      <td>0.278140</td>\n",
       "      <td>0.240305</td>\n",
       "      <td>0.162713</td>\n",
       "      <td>-0.089665</td>\n",
       "      <td>-0.275525</td>\n",
       "      <td>-0.055097</td>\n",
       "      <td>0.141444</td>\n",
       "      <td>0.235327</td>\n",
       "      <td>0.372798</td>\n",
       "      <td>...</td>\n",
       "      <td>-0.116143</td>\n",
       "      <td>-0.521746</td>\n",
       "      <td>0.448555</td>\n",
       "      <td>-0.074431</td>\n",
       "      <td>0.215655</td>\n",
       "      <td>0.554124</td>\n",
       "      <td>-0.371285</td>\n",
       "      <td>-0.414625</td>\n",
       "      <td>0.508078</td>\n",
       "      <td>classification</td>\n",
       "    </tr>\n",
       "  </tbody>\n",
       "</table>\n",
       "<p>6260 rows × 769 columns</p>\n",
       "</div>"
      ],
      "text/plain": [
       "      num_feature_0  num_feature_1  num_feature_2  num_feature_3  \\\n",
       "0         -0.347906       0.298659       0.306194       0.055175   \n",
       "1         -0.381965       0.317170       0.336794       0.081098   \n",
       "2         -0.334516       0.283154       0.291431       0.043395   \n",
       "3         -0.275612       0.267364       0.266519       0.076538   \n",
       "4         -0.243645       0.288036       0.266372       0.109039   \n",
       "...             ...            ...            ...            ...   \n",
       "6255      -0.393783       0.277537       0.316518       0.040720   \n",
       "6256      -0.350655       0.288547       0.306525       0.093222   \n",
       "6257      -0.269415       0.342038       0.304815       0.037482   \n",
       "6258      -0.324500       0.284065       0.302361       0.090343   \n",
       "6259      -0.241337       0.278140       0.240305       0.162713   \n",
       "\n",
       "      num_feature_4  num_feature_5  num_feature_6  num_feature_7  \\\n",
       "0         -0.430964      -0.466804      -0.108935       0.225360   \n",
       "1         -0.454720      -0.551013      -0.051526       0.256912   \n",
       "2         -0.385153      -0.494500      -0.111106       0.227195   \n",
       "3         -0.282673      -0.329046      -0.045134       0.221697   \n",
       "4         -0.166584      -0.294326      -0.053085       0.150146   \n",
       "...             ...            ...            ...            ...   \n",
       "6255      -0.391826      -0.480739      -0.062746       0.245819   \n",
       "6256      -0.323761      -0.448132      -0.068621       0.184130   \n",
       "6257      -0.235388      -0.309742      -0.080752       0.213444   \n",
       "6258      -0.268171      -0.412675      -0.082972       0.214550   \n",
       "6259      -0.089665      -0.275525      -0.055097       0.141444   \n",
       "\n",
       "      num_feature_8  num_feature_9  ...  num_feature_759  num_feature_760  \\\n",
       "0          0.385942       0.492067  ...        -0.174081        -0.516293   \n",
       "1          0.381023       0.474694  ...        -0.182501        -0.524450   \n",
       "2          0.380586       0.548708  ...        -0.169292        -0.530989   \n",
       "3          0.293198       0.421586  ...        -0.149041        -0.485052   \n",
       "4          0.304883       0.368951  ...        -0.142109        -0.482496   \n",
       "...             ...            ...  ...              ...              ...   \n",
       "6255       0.256513       0.471789  ...        -0.129478        -0.558991   \n",
       "6256       0.309040       0.422071  ...        -0.132200        -0.475985   \n",
       "6257       0.319876       0.423119  ...        -0.133684        -0.532163   \n",
       "6258       0.285261       0.424154  ...        -0.130789        -0.487126   \n",
       "6259       0.235327       0.372798  ...        -0.116143        -0.521746   \n",
       "\n",
       "      num_feature_761  num_feature_762  num_feature_763  num_feature_764  \\\n",
       "0            0.402670        -0.094396         0.222461         0.574193   \n",
       "1            0.344222        -0.027710         0.259213         0.608695   \n",
       "2            0.416996        -0.104790         0.218367         0.636691   \n",
       "3            0.493056        -0.112996         0.220296         0.618480   \n",
       "4            0.465995        -0.077088         0.226020         0.523076   \n",
       "...               ...              ...              ...              ...   \n",
       "6255         0.332909        -0.120112         0.225102         0.562891   \n",
       "6256         0.370314        -0.145366         0.221709         0.561444   \n",
       "6257         0.415316        -0.049092         0.259647         0.605257   \n",
       "6258         0.364878        -0.106732         0.233295         0.579414   \n",
       "6259         0.448555        -0.074431         0.215655         0.554124   \n",
       "\n",
       "      num_feature_765  num_feature_766  num_feature_767  target_category  \n",
       "0           -0.606644        -0.461940         0.539914  computer vision  \n",
       "1           -0.722355        -0.420306         0.589060       clustering  \n",
       "2           -0.612310        -0.446481         0.508087  computer vision  \n",
       "3           -0.594641        -0.469342         0.497985              nlp  \n",
       "4           -0.427591        -0.406878         0.511194   classification  \n",
       "...               ...              ...              ...              ...  \n",
       "6255        -0.788352        -0.403093         0.606365       clustering  \n",
       "6256        -0.666458        -0.397126         0.554349       clustering  \n",
       "6257        -0.576541        -0.392241         0.530491              nlp  \n",
       "6258        -0.619685        -0.412788         0.527967              nlp  \n",
       "6259        -0.371285        -0.414625         0.508078   classification  \n",
       "\n",
       "[6260 rows x 769 columns]"
      ]
     },
     "execution_count": 169,
     "metadata": {},
     "output_type": "execute_result"
    }
   ],
   "source": [
    "data = pd.read_csv(\"../data/final_data.csv\")\n",
    "data"
   ]
  },
  {
   "cell_type": "code",
   "execution_count": 206,
   "metadata": {},
   "outputs": [],
   "source": [
    "x = data.drop('target_category', axis = 1).copy()\n",
    "y = data['target_category'].copy()"
   ]
  },
  {
   "cell_type": "code",
   "execution_count": 207,
   "metadata": {},
   "outputs": [],
   "source": [
    "xtrain, xtest,  ytrain, ytest = train_test_split(x, y, test_size=0.2)"
   ]
  },
  {
   "cell_type": "code",
   "execution_count": 208,
   "metadata": {},
   "outputs": [],
   "source": [
    "logr = LogisticRegression(max_iter=10000, class_weight='balanced', multi_class='auto')\n",
    "scores = cross_val_score(logr, x, y, cv=5)\n",
    "logr.fit(xtrain, ytrain)\n",
    "yhat = logr.predict(xtest)"
   ]
  },
  {
   "cell_type": "code",
   "execution_count": 209,
   "metadata": {},
   "outputs": [],
   "source": [
    "clf = tree.DecisionTreeClassifier()\n",
    "clf = clf.fit(xtrain, ytrain)\n",
    "ydt = clf.predict(xtest)"
   ]
  },
  {
   "cell_type": "code",
   "execution_count": 229,
   "metadata": {},
   "outputs": [],
   "source": [
    "neigh = KNeighborsClassifier(n_neighbors=6)\n",
    "neigh.fit(xtrain, ytrain)\n",
    "yknn = neigh.predict(xtest)"
   ]
  },
  {
   "cell_type": "code",
   "execution_count": 230,
   "metadata": {},
   "outputs": [
    {
     "data": {
      "text/html": [
       "<div>\n",
       "<style scoped>\n",
       "    .dataframe tbody tr th:only-of-type {\n",
       "        vertical-align: middle;\n",
       "    }\n",
       "\n",
       "    .dataframe tbody tr th {\n",
       "        vertical-align: top;\n",
       "    }\n",
       "\n",
       "    .dataframe thead th {\n",
       "        text-align: right;\n",
       "    }\n",
       "</style>\n",
       "<table border=\"1\" class=\"dataframe\">\n",
       "  <thead>\n",
       "    <tr style=\"text-align: right;\">\n",
       "      <th></th>\n",
       "      <th>Real</th>\n",
       "      <th>Predicted_1</th>\n",
       "      <th>Predicted_2</th>\n",
       "      <th>Predicted_3</th>\n",
       "    </tr>\n",
       "  </thead>\n",
       "  <tbody>\n",
       "    <tr>\n",
       "      <th>5827</th>\n",
       "      <td>computer vision</td>\n",
       "      <td>computer vision</td>\n",
       "      <td>reinforcement learning</td>\n",
       "      <td>computer vision</td>\n",
       "    </tr>\n",
       "    <tr>\n",
       "      <th>1250</th>\n",
       "      <td>clustering</td>\n",
       "      <td>nlp</td>\n",
       "      <td>nlp</td>\n",
       "      <td>nlp</td>\n",
       "    </tr>\n",
       "    <tr>\n",
       "      <th>3300</th>\n",
       "      <td>clustering</td>\n",
       "      <td>clustering</td>\n",
       "      <td>nlp</td>\n",
       "      <td>nlp</td>\n",
       "    </tr>\n",
       "    <tr>\n",
       "      <th>2238</th>\n",
       "      <td>nlp</td>\n",
       "      <td>computer vision</td>\n",
       "      <td>computer vision</td>\n",
       "      <td>computer vision</td>\n",
       "    </tr>\n",
       "    <tr>\n",
       "      <th>58</th>\n",
       "      <td>regression</td>\n",
       "      <td>regression</td>\n",
       "      <td>regression</td>\n",
       "      <td>regression</td>\n",
       "    </tr>\n",
       "    <tr>\n",
       "      <th>...</th>\n",
       "      <td>...</td>\n",
       "      <td>...</td>\n",
       "      <td>...</td>\n",
       "      <td>...</td>\n",
       "    </tr>\n",
       "    <tr>\n",
       "      <th>621</th>\n",
       "      <td>nlp</td>\n",
       "      <td>nlp</td>\n",
       "      <td>computer vision</td>\n",
       "      <td>computer vision</td>\n",
       "    </tr>\n",
       "    <tr>\n",
       "      <th>2712</th>\n",
       "      <td>nlp</td>\n",
       "      <td>classification</td>\n",
       "      <td>classification</td>\n",
       "      <td>nlp</td>\n",
       "    </tr>\n",
       "    <tr>\n",
       "      <th>1074</th>\n",
       "      <td>clustering</td>\n",
       "      <td>clustering</td>\n",
       "      <td>computer vision</td>\n",
       "      <td>clustering</td>\n",
       "    </tr>\n",
       "    <tr>\n",
       "      <th>44</th>\n",
       "      <td>nlp</td>\n",
       "      <td>nlp</td>\n",
       "      <td>reinforcement learning</td>\n",
       "      <td>nlp</td>\n",
       "    </tr>\n",
       "    <tr>\n",
       "      <th>2156</th>\n",
       "      <td>nlp</td>\n",
       "      <td>nlp</td>\n",
       "      <td>clustering</td>\n",
       "      <td>classification</td>\n",
       "    </tr>\n",
       "  </tbody>\n",
       "</table>\n",
       "<p>1252 rows × 4 columns</p>\n",
       "</div>"
      ],
      "text/plain": [
       "                 Real      Predicted_1             Predicted_2  \\\n",
       "5827  computer vision  computer vision  reinforcement learning   \n",
       "1250       clustering              nlp                     nlp   \n",
       "3300       clustering       clustering                     nlp   \n",
       "2238              nlp  computer vision         computer vision   \n",
       "58         regression       regression              regression   \n",
       "...               ...              ...                     ...   \n",
       "621               nlp              nlp         computer vision   \n",
       "2712              nlp   classification          classification   \n",
       "1074       clustering       clustering         computer vision   \n",
       "44                nlp              nlp  reinforcement learning   \n",
       "2156              nlp              nlp              clustering   \n",
       "\n",
       "          Predicted_3  \n",
       "5827  computer vision  \n",
       "1250              nlp  \n",
       "3300              nlp  \n",
       "2238  computer vision  \n",
       "58         regression  \n",
       "...               ...  \n",
       "621   computer vision  \n",
       "2712              nlp  \n",
       "1074       clustering  \n",
       "44                nlp  \n",
       "2156   classification  \n",
       "\n",
       "[1252 rows x 4 columns]"
      ]
     },
     "execution_count": 230,
     "metadata": {},
     "output_type": "execute_result"
    }
   ],
   "source": [
    "data_analyse = pd.DataFrame(columns=['Real','Predicted_1','Predicted_2','Predicted_3'])\n",
    "data_analyse['Real'] = ytest\n",
    "data_analyse['Predicted_1'] = yhat\n",
    "data_analyse['Predicted_2'] = ydt\n",
    "data_analyse['Predicted_3'] = yknn\n",
    "data_analyse\n"
   ]
  },
  {
   "cell_type": "code",
   "execution_count": 231,
   "metadata": {},
   "outputs": [
    {
     "name": "stdout",
     "output_type": "stream",
     "text": [
      "984 541 609\n"
     ]
    }
   ],
   "source": [
    "c1 =0\n",
    "c2 =0\n",
    "c3 =0\n",
    "for i in data_analyse.index:\n",
    "    if data_analyse.loc[i]['Real'] == data_analyse.loc[i]['Predicted_1']:\n",
    "        c1+=1\n",
    "    if data_analyse.loc[i]['Real'] == data_analyse.loc[i]['Predicted_2']:\n",
    "        c2+=1\n",
    "    if data_analyse.loc[i]['Real'] == data_analyse.loc[i]['Predicted_3']:\n",
    "        c3+=1\n",
    "print(c1,c2,c3)"
   ]
  },
  {
   "cell_type": "code",
   "execution_count": 232,
   "metadata": {},
   "outputs": [],
   "source": [
    "data_analyse['Result_1'] = np.where(data_analyse['Real'] == data_analyse['Predicted_1'],\"well_classified\",\"miss_classified\")\n",
    "data_analyse['Result_2'] = np.where(data_analyse['Real'] == data_analyse['Predicted_2'],\"well_classified\",\"miss_classified\")\n",
    "data_analyse['Result_3'] = np.where(data_analyse['Real'] == data_analyse['Predicted_3'],\"well_classified\",\"miss_classified\")"
   ]
  },
  {
   "cell_type": "code",
   "execution_count": 233,
   "metadata": {},
   "outputs": [
    {
     "data": {
      "text/html": [
       "<div>\n",
       "<style scoped>\n",
       "    .dataframe tbody tr th:only-of-type {\n",
       "        vertical-align: middle;\n",
       "    }\n",
       "\n",
       "    .dataframe tbody tr th {\n",
       "        vertical-align: top;\n",
       "    }\n",
       "\n",
       "    .dataframe thead th {\n",
       "        text-align: right;\n",
       "    }\n",
       "</style>\n",
       "<table border=\"1\" class=\"dataframe\">\n",
       "  <thead>\n",
       "    <tr style=\"text-align: right;\">\n",
       "      <th></th>\n",
       "      <th>Real</th>\n",
       "      <th>Predicted_1</th>\n",
       "      <th>Predicted_2</th>\n",
       "      <th>Predicted_3</th>\n",
       "      <th>Result_1</th>\n",
       "      <th>Result_2</th>\n",
       "      <th>Result_3</th>\n",
       "    </tr>\n",
       "  </thead>\n",
       "  <tbody>\n",
       "    <tr>\n",
       "      <th>5827</th>\n",
       "      <td>computer vision</td>\n",
       "      <td>computer vision</td>\n",
       "      <td>reinforcement learning</td>\n",
       "      <td>computer vision</td>\n",
       "      <td>well_classified</td>\n",
       "      <td>miss_classified</td>\n",
       "      <td>well_classified</td>\n",
       "    </tr>\n",
       "    <tr>\n",
       "      <th>1250</th>\n",
       "      <td>clustering</td>\n",
       "      <td>nlp</td>\n",
       "      <td>nlp</td>\n",
       "      <td>nlp</td>\n",
       "      <td>miss_classified</td>\n",
       "      <td>miss_classified</td>\n",
       "      <td>miss_classified</td>\n",
       "    </tr>\n",
       "    <tr>\n",
       "      <th>3300</th>\n",
       "      <td>clustering</td>\n",
       "      <td>clustering</td>\n",
       "      <td>nlp</td>\n",
       "      <td>nlp</td>\n",
       "      <td>well_classified</td>\n",
       "      <td>miss_classified</td>\n",
       "      <td>miss_classified</td>\n",
       "    </tr>\n",
       "    <tr>\n",
       "      <th>2238</th>\n",
       "      <td>nlp</td>\n",
       "      <td>computer vision</td>\n",
       "      <td>computer vision</td>\n",
       "      <td>computer vision</td>\n",
       "      <td>miss_classified</td>\n",
       "      <td>miss_classified</td>\n",
       "      <td>miss_classified</td>\n",
       "    </tr>\n",
       "    <tr>\n",
       "      <th>58</th>\n",
       "      <td>regression</td>\n",
       "      <td>regression</td>\n",
       "      <td>regression</td>\n",
       "      <td>regression</td>\n",
       "      <td>well_classified</td>\n",
       "      <td>well_classified</td>\n",
       "      <td>well_classified</td>\n",
       "    </tr>\n",
       "    <tr>\n",
       "      <th>...</th>\n",
       "      <td>...</td>\n",
       "      <td>...</td>\n",
       "      <td>...</td>\n",
       "      <td>...</td>\n",
       "      <td>...</td>\n",
       "      <td>...</td>\n",
       "      <td>...</td>\n",
       "    </tr>\n",
       "    <tr>\n",
       "      <th>621</th>\n",
       "      <td>nlp</td>\n",
       "      <td>nlp</td>\n",
       "      <td>computer vision</td>\n",
       "      <td>computer vision</td>\n",
       "      <td>well_classified</td>\n",
       "      <td>miss_classified</td>\n",
       "      <td>miss_classified</td>\n",
       "    </tr>\n",
       "    <tr>\n",
       "      <th>2712</th>\n",
       "      <td>nlp</td>\n",
       "      <td>classification</td>\n",
       "      <td>classification</td>\n",
       "      <td>nlp</td>\n",
       "      <td>miss_classified</td>\n",
       "      <td>miss_classified</td>\n",
       "      <td>well_classified</td>\n",
       "    </tr>\n",
       "    <tr>\n",
       "      <th>1074</th>\n",
       "      <td>clustering</td>\n",
       "      <td>clustering</td>\n",
       "      <td>computer vision</td>\n",
       "      <td>clustering</td>\n",
       "      <td>well_classified</td>\n",
       "      <td>miss_classified</td>\n",
       "      <td>well_classified</td>\n",
       "    </tr>\n",
       "    <tr>\n",
       "      <th>44</th>\n",
       "      <td>nlp</td>\n",
       "      <td>nlp</td>\n",
       "      <td>reinforcement learning</td>\n",
       "      <td>nlp</td>\n",
       "      <td>well_classified</td>\n",
       "      <td>miss_classified</td>\n",
       "      <td>well_classified</td>\n",
       "    </tr>\n",
       "    <tr>\n",
       "      <th>2156</th>\n",
       "      <td>nlp</td>\n",
       "      <td>nlp</td>\n",
       "      <td>clustering</td>\n",
       "      <td>classification</td>\n",
       "      <td>well_classified</td>\n",
       "      <td>miss_classified</td>\n",
       "      <td>miss_classified</td>\n",
       "    </tr>\n",
       "  </tbody>\n",
       "</table>\n",
       "<p>1252 rows × 7 columns</p>\n",
       "</div>"
      ],
      "text/plain": [
       "                 Real      Predicted_1             Predicted_2  \\\n",
       "5827  computer vision  computer vision  reinforcement learning   \n",
       "1250       clustering              nlp                     nlp   \n",
       "3300       clustering       clustering                     nlp   \n",
       "2238              nlp  computer vision         computer vision   \n",
       "58         regression       regression              regression   \n",
       "...               ...              ...                     ...   \n",
       "621               nlp              nlp         computer vision   \n",
       "2712              nlp   classification          classification   \n",
       "1074       clustering       clustering         computer vision   \n",
       "44                nlp              nlp  reinforcement learning   \n",
       "2156              nlp              nlp              clustering   \n",
       "\n",
       "          Predicted_3         Result_1         Result_2         Result_3  \n",
       "5827  computer vision  well_classified  miss_classified  well_classified  \n",
       "1250              nlp  miss_classified  miss_classified  miss_classified  \n",
       "3300              nlp  well_classified  miss_classified  miss_classified  \n",
       "2238  computer vision  miss_classified  miss_classified  miss_classified  \n",
       "58         regression  well_classified  well_classified  well_classified  \n",
       "...               ...              ...              ...              ...  \n",
       "621   computer vision  well_classified  miss_classified  miss_classified  \n",
       "2712              nlp  miss_classified  miss_classified  well_classified  \n",
       "1074       clustering  well_classified  miss_classified  well_classified  \n",
       "44                nlp  well_classified  miss_classified  well_classified  \n",
       "2156   classification  well_classified  miss_classified  miss_classified  \n",
       "\n",
       "[1252 rows x 7 columns]"
      ]
     },
     "execution_count": 233,
     "metadata": {},
     "output_type": "execute_result"
    }
   ],
   "source": [
    "data_analyse\n"
   ]
  },
  {
   "cell_type": "code",
   "execution_count": 216,
   "metadata": {},
   "outputs": [
    {
     "data": {
      "application/vnd.plotly.v1+json": {
       "config": {
        "plotlyServerURL": "https://plot.ly"
       },
       "data": [
        {
         "branchvalues": "total",
         "domain": {
          "x": [
           0,
           1
          ],
          "y": [
           0,
           1
          ]
         },
         "hovertemplate": "labels=%{label}<br>value=%{value}<br>parent=%{parent}<br>id=%{id}<extra></extra>",
         "ids": [
          "classification/miss_classified",
          "clustering/miss_classified",
          "computer vision/miss_classified",
          "nlp/miss_classified",
          "regression/miss_classified",
          "reinforcement learning/miss_classified",
          "classification/well_classified",
          "clustering/well_classified",
          "computer vision/well_classified",
          "nlp/well_classified",
          "regression/well_classified",
          "reinforcement learning/well_classified",
          "classification",
          "clustering",
          "computer vision",
          "nlp",
          "regression",
          "reinforcement learning"
         ],
         "labels": [
          "miss_classified",
          "miss_classified",
          "miss_classified",
          "miss_classified",
          "miss_classified",
          "miss_classified",
          "well_classified",
          "well_classified",
          "well_classified",
          "well_classified",
          "well_classified",
          "well_classified",
          "classification",
          "clustering",
          "computer vision",
          "nlp",
          "regression",
          "reinforcement learning"
         ],
         "name": "",
         "parents": [
          "classification",
          "clustering",
          "computer vision",
          "nlp",
          "regression",
          "reinforcement learning",
          "classification",
          "clustering",
          "computer vision",
          "nlp",
          "regression",
          "reinforcement learning",
          "",
          "",
          "",
          "",
          "",
          ""
         ],
         "type": "sunburst",
         "values": [
          43,
          74,
          25,
          67,
          48,
          11,
          123,
          160,
          223,
          267,
          157,
          54,
          166,
          234,
          248,
          334,
          205,
          65
         ]
        }
       ],
       "layout": {
        "legend": {
         "tracegroupgap": 0
        },
        "margin": {
         "t": 60
        },
        "template": {
         "data": {
          "bar": [
           {
            "error_x": {
             "color": "#2a3f5f"
            },
            "error_y": {
             "color": "#2a3f5f"
            },
            "marker": {
             "line": {
              "color": "#E5ECF6",
              "width": 0.5
             },
             "pattern": {
              "fillmode": "overlay",
              "size": 10,
              "solidity": 0.2
             }
            },
            "type": "bar"
           }
          ],
          "barpolar": [
           {
            "marker": {
             "line": {
              "color": "#E5ECF6",
              "width": 0.5
             },
             "pattern": {
              "fillmode": "overlay",
              "size": 10,
              "solidity": 0.2
             }
            },
            "type": "barpolar"
           }
          ],
          "carpet": [
           {
            "aaxis": {
             "endlinecolor": "#2a3f5f",
             "gridcolor": "white",
             "linecolor": "white",
             "minorgridcolor": "white",
             "startlinecolor": "#2a3f5f"
            },
            "baxis": {
             "endlinecolor": "#2a3f5f",
             "gridcolor": "white",
             "linecolor": "white",
             "minorgridcolor": "white",
             "startlinecolor": "#2a3f5f"
            },
            "type": "carpet"
           }
          ],
          "choropleth": [
           {
            "colorbar": {
             "outlinewidth": 0,
             "ticks": ""
            },
            "type": "choropleth"
           }
          ],
          "contour": [
           {
            "colorbar": {
             "outlinewidth": 0,
             "ticks": ""
            },
            "colorscale": [
             [
              0,
              "#0d0887"
             ],
             [
              0.1111111111111111,
              "#46039f"
             ],
             [
              0.2222222222222222,
              "#7201a8"
             ],
             [
              0.3333333333333333,
              "#9c179e"
             ],
             [
              0.4444444444444444,
              "#bd3786"
             ],
             [
              0.5555555555555556,
              "#d8576b"
             ],
             [
              0.6666666666666666,
              "#ed7953"
             ],
             [
              0.7777777777777778,
              "#fb9f3a"
             ],
             [
              0.8888888888888888,
              "#fdca26"
             ],
             [
              1,
              "#f0f921"
             ]
            ],
            "type": "contour"
           }
          ],
          "contourcarpet": [
           {
            "colorbar": {
             "outlinewidth": 0,
             "ticks": ""
            },
            "type": "contourcarpet"
           }
          ],
          "heatmap": [
           {
            "colorbar": {
             "outlinewidth": 0,
             "ticks": ""
            },
            "colorscale": [
             [
              0,
              "#0d0887"
             ],
             [
              0.1111111111111111,
              "#46039f"
             ],
             [
              0.2222222222222222,
              "#7201a8"
             ],
             [
              0.3333333333333333,
              "#9c179e"
             ],
             [
              0.4444444444444444,
              "#bd3786"
             ],
             [
              0.5555555555555556,
              "#d8576b"
             ],
             [
              0.6666666666666666,
              "#ed7953"
             ],
             [
              0.7777777777777778,
              "#fb9f3a"
             ],
             [
              0.8888888888888888,
              "#fdca26"
             ],
             [
              1,
              "#f0f921"
             ]
            ],
            "type": "heatmap"
           }
          ],
          "heatmapgl": [
           {
            "colorbar": {
             "outlinewidth": 0,
             "ticks": ""
            },
            "colorscale": [
             [
              0,
              "#0d0887"
             ],
             [
              0.1111111111111111,
              "#46039f"
             ],
             [
              0.2222222222222222,
              "#7201a8"
             ],
             [
              0.3333333333333333,
              "#9c179e"
             ],
             [
              0.4444444444444444,
              "#bd3786"
             ],
             [
              0.5555555555555556,
              "#d8576b"
             ],
             [
              0.6666666666666666,
              "#ed7953"
             ],
             [
              0.7777777777777778,
              "#fb9f3a"
             ],
             [
              0.8888888888888888,
              "#fdca26"
             ],
             [
              1,
              "#f0f921"
             ]
            ],
            "type": "heatmapgl"
           }
          ],
          "histogram": [
           {
            "marker": {
             "pattern": {
              "fillmode": "overlay",
              "size": 10,
              "solidity": 0.2
             }
            },
            "type": "histogram"
           }
          ],
          "histogram2d": [
           {
            "colorbar": {
             "outlinewidth": 0,
             "ticks": ""
            },
            "colorscale": [
             [
              0,
              "#0d0887"
             ],
             [
              0.1111111111111111,
              "#46039f"
             ],
             [
              0.2222222222222222,
              "#7201a8"
             ],
             [
              0.3333333333333333,
              "#9c179e"
             ],
             [
              0.4444444444444444,
              "#bd3786"
             ],
             [
              0.5555555555555556,
              "#d8576b"
             ],
             [
              0.6666666666666666,
              "#ed7953"
             ],
             [
              0.7777777777777778,
              "#fb9f3a"
             ],
             [
              0.8888888888888888,
              "#fdca26"
             ],
             [
              1,
              "#f0f921"
             ]
            ],
            "type": "histogram2d"
           }
          ],
          "histogram2dcontour": [
           {
            "colorbar": {
             "outlinewidth": 0,
             "ticks": ""
            },
            "colorscale": [
             [
              0,
              "#0d0887"
             ],
             [
              0.1111111111111111,
              "#46039f"
             ],
             [
              0.2222222222222222,
              "#7201a8"
             ],
             [
              0.3333333333333333,
              "#9c179e"
             ],
             [
              0.4444444444444444,
              "#bd3786"
             ],
             [
              0.5555555555555556,
              "#d8576b"
             ],
             [
              0.6666666666666666,
              "#ed7953"
             ],
             [
              0.7777777777777778,
              "#fb9f3a"
             ],
             [
              0.8888888888888888,
              "#fdca26"
             ],
             [
              1,
              "#f0f921"
             ]
            ],
            "type": "histogram2dcontour"
           }
          ],
          "mesh3d": [
           {
            "colorbar": {
             "outlinewidth": 0,
             "ticks": ""
            },
            "type": "mesh3d"
           }
          ],
          "parcoords": [
           {
            "line": {
             "colorbar": {
              "outlinewidth": 0,
              "ticks": ""
             }
            },
            "type": "parcoords"
           }
          ],
          "pie": [
           {
            "automargin": true,
            "type": "pie"
           }
          ],
          "scatter": [
           {
            "fillpattern": {
             "fillmode": "overlay",
             "size": 10,
             "solidity": 0.2
            },
            "type": "scatter"
           }
          ],
          "scatter3d": [
           {
            "line": {
             "colorbar": {
              "outlinewidth": 0,
              "ticks": ""
             }
            },
            "marker": {
             "colorbar": {
              "outlinewidth": 0,
              "ticks": ""
             }
            },
            "type": "scatter3d"
           }
          ],
          "scattercarpet": [
           {
            "marker": {
             "colorbar": {
              "outlinewidth": 0,
              "ticks": ""
             }
            },
            "type": "scattercarpet"
           }
          ],
          "scattergeo": [
           {
            "marker": {
             "colorbar": {
              "outlinewidth": 0,
              "ticks": ""
             }
            },
            "type": "scattergeo"
           }
          ],
          "scattergl": [
           {
            "marker": {
             "colorbar": {
              "outlinewidth": 0,
              "ticks": ""
             }
            },
            "type": "scattergl"
           }
          ],
          "scattermapbox": [
           {
            "marker": {
             "colorbar": {
              "outlinewidth": 0,
              "ticks": ""
             }
            },
            "type": "scattermapbox"
           }
          ],
          "scatterpolar": [
           {
            "marker": {
             "colorbar": {
              "outlinewidth": 0,
              "ticks": ""
             }
            },
            "type": "scatterpolar"
           }
          ],
          "scatterpolargl": [
           {
            "marker": {
             "colorbar": {
              "outlinewidth": 0,
              "ticks": ""
             }
            },
            "type": "scatterpolargl"
           }
          ],
          "scatterternary": [
           {
            "marker": {
             "colorbar": {
              "outlinewidth": 0,
              "ticks": ""
             }
            },
            "type": "scatterternary"
           }
          ],
          "surface": [
           {
            "colorbar": {
             "outlinewidth": 0,
             "ticks": ""
            },
            "colorscale": [
             [
              0,
              "#0d0887"
             ],
             [
              0.1111111111111111,
              "#46039f"
             ],
             [
              0.2222222222222222,
              "#7201a8"
             ],
             [
              0.3333333333333333,
              "#9c179e"
             ],
             [
              0.4444444444444444,
              "#bd3786"
             ],
             [
              0.5555555555555556,
              "#d8576b"
             ],
             [
              0.6666666666666666,
              "#ed7953"
             ],
             [
              0.7777777777777778,
              "#fb9f3a"
             ],
             [
              0.8888888888888888,
              "#fdca26"
             ],
             [
              1,
              "#f0f921"
             ]
            ],
            "type": "surface"
           }
          ],
          "table": [
           {
            "cells": {
             "fill": {
              "color": "#EBF0F8"
             },
             "line": {
              "color": "white"
             }
            },
            "header": {
             "fill": {
              "color": "#C8D4E3"
             },
             "line": {
              "color": "white"
             }
            },
            "type": "table"
           }
          ]
         },
         "layout": {
          "annotationdefaults": {
           "arrowcolor": "#2a3f5f",
           "arrowhead": 0,
           "arrowwidth": 1
          },
          "autotypenumbers": "strict",
          "coloraxis": {
           "colorbar": {
            "outlinewidth": 0,
            "ticks": ""
           }
          },
          "colorscale": {
           "diverging": [
            [
             0,
             "#8e0152"
            ],
            [
             0.1,
             "#c51b7d"
            ],
            [
             0.2,
             "#de77ae"
            ],
            [
             0.3,
             "#f1b6da"
            ],
            [
             0.4,
             "#fde0ef"
            ],
            [
             0.5,
             "#f7f7f7"
            ],
            [
             0.6,
             "#e6f5d0"
            ],
            [
             0.7,
             "#b8e186"
            ],
            [
             0.8,
             "#7fbc41"
            ],
            [
             0.9,
             "#4d9221"
            ],
            [
             1,
             "#276419"
            ]
           ],
           "sequential": [
            [
             0,
             "#0d0887"
            ],
            [
             0.1111111111111111,
             "#46039f"
            ],
            [
             0.2222222222222222,
             "#7201a8"
            ],
            [
             0.3333333333333333,
             "#9c179e"
            ],
            [
             0.4444444444444444,
             "#bd3786"
            ],
            [
             0.5555555555555556,
             "#d8576b"
            ],
            [
             0.6666666666666666,
             "#ed7953"
            ],
            [
             0.7777777777777778,
             "#fb9f3a"
            ],
            [
             0.8888888888888888,
             "#fdca26"
            ],
            [
             1,
             "#f0f921"
            ]
           ],
           "sequentialminus": [
            [
             0,
             "#0d0887"
            ],
            [
             0.1111111111111111,
             "#46039f"
            ],
            [
             0.2222222222222222,
             "#7201a8"
            ],
            [
             0.3333333333333333,
             "#9c179e"
            ],
            [
             0.4444444444444444,
             "#bd3786"
            ],
            [
             0.5555555555555556,
             "#d8576b"
            ],
            [
             0.6666666666666666,
             "#ed7953"
            ],
            [
             0.7777777777777778,
             "#fb9f3a"
            ],
            [
             0.8888888888888888,
             "#fdca26"
            ],
            [
             1,
             "#f0f921"
            ]
           ]
          },
          "colorway": [
           "#636efa",
           "#EF553B",
           "#00cc96",
           "#ab63fa",
           "#FFA15A",
           "#19d3f3",
           "#FF6692",
           "#B6E880",
           "#FF97FF",
           "#FECB52"
          ],
          "font": {
           "color": "#2a3f5f"
          },
          "geo": {
           "bgcolor": "white",
           "lakecolor": "white",
           "landcolor": "#E5ECF6",
           "showlakes": true,
           "showland": true,
           "subunitcolor": "white"
          },
          "hoverlabel": {
           "align": "left"
          },
          "hovermode": "closest",
          "mapbox": {
           "style": "light"
          },
          "paper_bgcolor": "white",
          "plot_bgcolor": "#E5ECF6",
          "polar": {
           "angularaxis": {
            "gridcolor": "white",
            "linecolor": "white",
            "ticks": ""
           },
           "bgcolor": "#E5ECF6",
           "radialaxis": {
            "gridcolor": "white",
            "linecolor": "white",
            "ticks": ""
           }
          },
          "scene": {
           "xaxis": {
            "backgroundcolor": "#E5ECF6",
            "gridcolor": "white",
            "gridwidth": 2,
            "linecolor": "white",
            "showbackground": true,
            "ticks": "",
            "zerolinecolor": "white"
           },
           "yaxis": {
            "backgroundcolor": "#E5ECF6",
            "gridcolor": "white",
            "gridwidth": 2,
            "linecolor": "white",
            "showbackground": true,
            "ticks": "",
            "zerolinecolor": "white"
           },
           "zaxis": {
            "backgroundcolor": "#E5ECF6",
            "gridcolor": "white",
            "gridwidth": 2,
            "linecolor": "white",
            "showbackground": true,
            "ticks": "",
            "zerolinecolor": "white"
           }
          },
          "shapedefaults": {
           "line": {
            "color": "#2a3f5f"
           }
          },
          "ternary": {
           "aaxis": {
            "gridcolor": "white",
            "linecolor": "white",
            "ticks": ""
           },
           "baxis": {
            "gridcolor": "white",
            "linecolor": "white",
            "ticks": ""
           },
           "bgcolor": "#E5ECF6",
           "caxis": {
            "gridcolor": "white",
            "linecolor": "white",
            "ticks": ""
           }
          },
          "title": {
           "x": 0.05
          },
          "xaxis": {
           "automargin": true,
           "gridcolor": "white",
           "linecolor": "white",
           "ticks": "",
           "title": {
            "standoff": 15
           },
           "zerolinecolor": "white",
           "zerolinewidth": 2
          },
          "yaxis": {
           "automargin": true,
           "gridcolor": "white",
           "linecolor": "white",
           "ticks": "",
           "title": {
            "standoff": 15
           },
           "zerolinecolor": "white",
           "zerolinewidth": 2
          }
         }
        }
       }
      }
     },
     "metadata": {},
     "output_type": "display_data"
    }
   ],
   "source": [
    "fig = px.sunburst(data_analyse, path=['Real','Result_1'],values=np.ones(1252))\n",
    "fig.show()"
   ]
  },
  {
   "cell_type": "code",
   "execution_count": 217,
   "metadata": {},
   "outputs": [
    {
     "data": {
      "application/vnd.plotly.v1+json": {
       "config": {
        "plotlyServerURL": "https://plot.ly"
       },
       "data": [
        {
         "branchvalues": "total",
         "domain": {
          "x": [
           0,
           1
          ],
          "y": [
           0,
           1
          ]
         },
         "hovertemplate": "labels=%{label}<br>value=%{value}<br>parent=%{parent}<br>id=%{id}<extra></extra>",
         "ids": [
          "classification/miss_classified",
          "clustering/miss_classified",
          "computer vision/miss_classified",
          "nlp/miss_classified",
          "regression/miss_classified",
          "reinforcement learning/miss_classified",
          "classification/well_classified",
          "clustering/well_classified",
          "computer vision/well_classified",
          "nlp/well_classified",
          "regression/well_classified",
          "reinforcement learning/well_classified",
          "classification",
          "clustering",
          "computer vision",
          "nlp",
          "regression",
          "reinforcement learning"
         ],
         "labels": [
          "miss_classified",
          "miss_classified",
          "miss_classified",
          "miss_classified",
          "miss_classified",
          "miss_classified",
          "well_classified",
          "well_classified",
          "well_classified",
          "well_classified",
          "well_classified",
          "well_classified",
          "classification",
          "clustering",
          "computer vision",
          "nlp",
          "regression",
          "reinforcement learning"
         ],
         "name": "",
         "parents": [
          "classification",
          "clustering",
          "computer vision",
          "nlp",
          "regression",
          "reinforcement learning",
          "classification",
          "clustering",
          "computer vision",
          "nlp",
          "regression",
          "reinforcement learning",
          "",
          "",
          "",
          "",
          "",
          ""
         ],
         "type": "sunburst",
         "values": [
          115,
          150,
          111,
          160,
          122,
          53,
          51,
          84,
          137,
          174,
          83,
          12,
          166,
          234,
          248,
          334,
          205,
          65
         ]
        }
       ],
       "layout": {
        "legend": {
         "tracegroupgap": 0
        },
        "margin": {
         "t": 60
        },
        "template": {
         "data": {
          "bar": [
           {
            "error_x": {
             "color": "#2a3f5f"
            },
            "error_y": {
             "color": "#2a3f5f"
            },
            "marker": {
             "line": {
              "color": "#E5ECF6",
              "width": 0.5
             },
             "pattern": {
              "fillmode": "overlay",
              "size": 10,
              "solidity": 0.2
             }
            },
            "type": "bar"
           }
          ],
          "barpolar": [
           {
            "marker": {
             "line": {
              "color": "#E5ECF6",
              "width": 0.5
             },
             "pattern": {
              "fillmode": "overlay",
              "size": 10,
              "solidity": 0.2
             }
            },
            "type": "barpolar"
           }
          ],
          "carpet": [
           {
            "aaxis": {
             "endlinecolor": "#2a3f5f",
             "gridcolor": "white",
             "linecolor": "white",
             "minorgridcolor": "white",
             "startlinecolor": "#2a3f5f"
            },
            "baxis": {
             "endlinecolor": "#2a3f5f",
             "gridcolor": "white",
             "linecolor": "white",
             "minorgridcolor": "white",
             "startlinecolor": "#2a3f5f"
            },
            "type": "carpet"
           }
          ],
          "choropleth": [
           {
            "colorbar": {
             "outlinewidth": 0,
             "ticks": ""
            },
            "type": "choropleth"
           }
          ],
          "contour": [
           {
            "colorbar": {
             "outlinewidth": 0,
             "ticks": ""
            },
            "colorscale": [
             [
              0,
              "#0d0887"
             ],
             [
              0.1111111111111111,
              "#46039f"
             ],
             [
              0.2222222222222222,
              "#7201a8"
             ],
             [
              0.3333333333333333,
              "#9c179e"
             ],
             [
              0.4444444444444444,
              "#bd3786"
             ],
             [
              0.5555555555555556,
              "#d8576b"
             ],
             [
              0.6666666666666666,
              "#ed7953"
             ],
             [
              0.7777777777777778,
              "#fb9f3a"
             ],
             [
              0.8888888888888888,
              "#fdca26"
             ],
             [
              1,
              "#f0f921"
             ]
            ],
            "type": "contour"
           }
          ],
          "contourcarpet": [
           {
            "colorbar": {
             "outlinewidth": 0,
             "ticks": ""
            },
            "type": "contourcarpet"
           }
          ],
          "heatmap": [
           {
            "colorbar": {
             "outlinewidth": 0,
             "ticks": ""
            },
            "colorscale": [
             [
              0,
              "#0d0887"
             ],
             [
              0.1111111111111111,
              "#46039f"
             ],
             [
              0.2222222222222222,
              "#7201a8"
             ],
             [
              0.3333333333333333,
              "#9c179e"
             ],
             [
              0.4444444444444444,
              "#bd3786"
             ],
             [
              0.5555555555555556,
              "#d8576b"
             ],
             [
              0.6666666666666666,
              "#ed7953"
             ],
             [
              0.7777777777777778,
              "#fb9f3a"
             ],
             [
              0.8888888888888888,
              "#fdca26"
             ],
             [
              1,
              "#f0f921"
             ]
            ],
            "type": "heatmap"
           }
          ],
          "heatmapgl": [
           {
            "colorbar": {
             "outlinewidth": 0,
             "ticks": ""
            },
            "colorscale": [
             [
              0,
              "#0d0887"
             ],
             [
              0.1111111111111111,
              "#46039f"
             ],
             [
              0.2222222222222222,
              "#7201a8"
             ],
             [
              0.3333333333333333,
              "#9c179e"
             ],
             [
              0.4444444444444444,
              "#bd3786"
             ],
             [
              0.5555555555555556,
              "#d8576b"
             ],
             [
              0.6666666666666666,
              "#ed7953"
             ],
             [
              0.7777777777777778,
              "#fb9f3a"
             ],
             [
              0.8888888888888888,
              "#fdca26"
             ],
             [
              1,
              "#f0f921"
             ]
            ],
            "type": "heatmapgl"
           }
          ],
          "histogram": [
           {
            "marker": {
             "pattern": {
              "fillmode": "overlay",
              "size": 10,
              "solidity": 0.2
             }
            },
            "type": "histogram"
           }
          ],
          "histogram2d": [
           {
            "colorbar": {
             "outlinewidth": 0,
             "ticks": ""
            },
            "colorscale": [
             [
              0,
              "#0d0887"
             ],
             [
              0.1111111111111111,
              "#46039f"
             ],
             [
              0.2222222222222222,
              "#7201a8"
             ],
             [
              0.3333333333333333,
              "#9c179e"
             ],
             [
              0.4444444444444444,
              "#bd3786"
             ],
             [
              0.5555555555555556,
              "#d8576b"
             ],
             [
              0.6666666666666666,
              "#ed7953"
             ],
             [
              0.7777777777777778,
              "#fb9f3a"
             ],
             [
              0.8888888888888888,
              "#fdca26"
             ],
             [
              1,
              "#f0f921"
             ]
            ],
            "type": "histogram2d"
           }
          ],
          "histogram2dcontour": [
           {
            "colorbar": {
             "outlinewidth": 0,
             "ticks": ""
            },
            "colorscale": [
             [
              0,
              "#0d0887"
             ],
             [
              0.1111111111111111,
              "#46039f"
             ],
             [
              0.2222222222222222,
              "#7201a8"
             ],
             [
              0.3333333333333333,
              "#9c179e"
             ],
             [
              0.4444444444444444,
              "#bd3786"
             ],
             [
              0.5555555555555556,
              "#d8576b"
             ],
             [
              0.6666666666666666,
              "#ed7953"
             ],
             [
              0.7777777777777778,
              "#fb9f3a"
             ],
             [
              0.8888888888888888,
              "#fdca26"
             ],
             [
              1,
              "#f0f921"
             ]
            ],
            "type": "histogram2dcontour"
           }
          ],
          "mesh3d": [
           {
            "colorbar": {
             "outlinewidth": 0,
             "ticks": ""
            },
            "type": "mesh3d"
           }
          ],
          "parcoords": [
           {
            "line": {
             "colorbar": {
              "outlinewidth": 0,
              "ticks": ""
             }
            },
            "type": "parcoords"
           }
          ],
          "pie": [
           {
            "automargin": true,
            "type": "pie"
           }
          ],
          "scatter": [
           {
            "fillpattern": {
             "fillmode": "overlay",
             "size": 10,
             "solidity": 0.2
            },
            "type": "scatter"
           }
          ],
          "scatter3d": [
           {
            "line": {
             "colorbar": {
              "outlinewidth": 0,
              "ticks": ""
             }
            },
            "marker": {
             "colorbar": {
              "outlinewidth": 0,
              "ticks": ""
             }
            },
            "type": "scatter3d"
           }
          ],
          "scattercarpet": [
           {
            "marker": {
             "colorbar": {
              "outlinewidth": 0,
              "ticks": ""
             }
            },
            "type": "scattercarpet"
           }
          ],
          "scattergeo": [
           {
            "marker": {
             "colorbar": {
              "outlinewidth": 0,
              "ticks": ""
             }
            },
            "type": "scattergeo"
           }
          ],
          "scattergl": [
           {
            "marker": {
             "colorbar": {
              "outlinewidth": 0,
              "ticks": ""
             }
            },
            "type": "scattergl"
           }
          ],
          "scattermapbox": [
           {
            "marker": {
             "colorbar": {
              "outlinewidth": 0,
              "ticks": ""
             }
            },
            "type": "scattermapbox"
           }
          ],
          "scatterpolar": [
           {
            "marker": {
             "colorbar": {
              "outlinewidth": 0,
              "ticks": ""
             }
            },
            "type": "scatterpolar"
           }
          ],
          "scatterpolargl": [
           {
            "marker": {
             "colorbar": {
              "outlinewidth": 0,
              "ticks": ""
             }
            },
            "type": "scatterpolargl"
           }
          ],
          "scatterternary": [
           {
            "marker": {
             "colorbar": {
              "outlinewidth": 0,
              "ticks": ""
             }
            },
            "type": "scatterternary"
           }
          ],
          "surface": [
           {
            "colorbar": {
             "outlinewidth": 0,
             "ticks": ""
            },
            "colorscale": [
             [
              0,
              "#0d0887"
             ],
             [
              0.1111111111111111,
              "#46039f"
             ],
             [
              0.2222222222222222,
              "#7201a8"
             ],
             [
              0.3333333333333333,
              "#9c179e"
             ],
             [
              0.4444444444444444,
              "#bd3786"
             ],
             [
              0.5555555555555556,
              "#d8576b"
             ],
             [
              0.6666666666666666,
              "#ed7953"
             ],
             [
              0.7777777777777778,
              "#fb9f3a"
             ],
             [
              0.8888888888888888,
              "#fdca26"
             ],
             [
              1,
              "#f0f921"
             ]
            ],
            "type": "surface"
           }
          ],
          "table": [
           {
            "cells": {
             "fill": {
              "color": "#EBF0F8"
             },
             "line": {
              "color": "white"
             }
            },
            "header": {
             "fill": {
              "color": "#C8D4E3"
             },
             "line": {
              "color": "white"
             }
            },
            "type": "table"
           }
          ]
         },
         "layout": {
          "annotationdefaults": {
           "arrowcolor": "#2a3f5f",
           "arrowhead": 0,
           "arrowwidth": 1
          },
          "autotypenumbers": "strict",
          "coloraxis": {
           "colorbar": {
            "outlinewidth": 0,
            "ticks": ""
           }
          },
          "colorscale": {
           "diverging": [
            [
             0,
             "#8e0152"
            ],
            [
             0.1,
             "#c51b7d"
            ],
            [
             0.2,
             "#de77ae"
            ],
            [
             0.3,
             "#f1b6da"
            ],
            [
             0.4,
             "#fde0ef"
            ],
            [
             0.5,
             "#f7f7f7"
            ],
            [
             0.6,
             "#e6f5d0"
            ],
            [
             0.7,
             "#b8e186"
            ],
            [
             0.8,
             "#7fbc41"
            ],
            [
             0.9,
             "#4d9221"
            ],
            [
             1,
             "#276419"
            ]
           ],
           "sequential": [
            [
             0,
             "#0d0887"
            ],
            [
             0.1111111111111111,
             "#46039f"
            ],
            [
             0.2222222222222222,
             "#7201a8"
            ],
            [
             0.3333333333333333,
             "#9c179e"
            ],
            [
             0.4444444444444444,
             "#bd3786"
            ],
            [
             0.5555555555555556,
             "#d8576b"
            ],
            [
             0.6666666666666666,
             "#ed7953"
            ],
            [
             0.7777777777777778,
             "#fb9f3a"
            ],
            [
             0.8888888888888888,
             "#fdca26"
            ],
            [
             1,
             "#f0f921"
            ]
           ],
           "sequentialminus": [
            [
             0,
             "#0d0887"
            ],
            [
             0.1111111111111111,
             "#46039f"
            ],
            [
             0.2222222222222222,
             "#7201a8"
            ],
            [
             0.3333333333333333,
             "#9c179e"
            ],
            [
             0.4444444444444444,
             "#bd3786"
            ],
            [
             0.5555555555555556,
             "#d8576b"
            ],
            [
             0.6666666666666666,
             "#ed7953"
            ],
            [
             0.7777777777777778,
             "#fb9f3a"
            ],
            [
             0.8888888888888888,
             "#fdca26"
            ],
            [
             1,
             "#f0f921"
            ]
           ]
          },
          "colorway": [
           "#636efa",
           "#EF553B",
           "#00cc96",
           "#ab63fa",
           "#FFA15A",
           "#19d3f3",
           "#FF6692",
           "#B6E880",
           "#FF97FF",
           "#FECB52"
          ],
          "font": {
           "color": "#2a3f5f"
          },
          "geo": {
           "bgcolor": "white",
           "lakecolor": "white",
           "landcolor": "#E5ECF6",
           "showlakes": true,
           "showland": true,
           "subunitcolor": "white"
          },
          "hoverlabel": {
           "align": "left"
          },
          "hovermode": "closest",
          "mapbox": {
           "style": "light"
          },
          "paper_bgcolor": "white",
          "plot_bgcolor": "#E5ECF6",
          "polar": {
           "angularaxis": {
            "gridcolor": "white",
            "linecolor": "white",
            "ticks": ""
           },
           "bgcolor": "#E5ECF6",
           "radialaxis": {
            "gridcolor": "white",
            "linecolor": "white",
            "ticks": ""
           }
          },
          "scene": {
           "xaxis": {
            "backgroundcolor": "#E5ECF6",
            "gridcolor": "white",
            "gridwidth": 2,
            "linecolor": "white",
            "showbackground": true,
            "ticks": "",
            "zerolinecolor": "white"
           },
           "yaxis": {
            "backgroundcolor": "#E5ECF6",
            "gridcolor": "white",
            "gridwidth": 2,
            "linecolor": "white",
            "showbackground": true,
            "ticks": "",
            "zerolinecolor": "white"
           },
           "zaxis": {
            "backgroundcolor": "#E5ECF6",
            "gridcolor": "white",
            "gridwidth": 2,
            "linecolor": "white",
            "showbackground": true,
            "ticks": "",
            "zerolinecolor": "white"
           }
          },
          "shapedefaults": {
           "line": {
            "color": "#2a3f5f"
           }
          },
          "ternary": {
           "aaxis": {
            "gridcolor": "white",
            "linecolor": "white",
            "ticks": ""
           },
           "baxis": {
            "gridcolor": "white",
            "linecolor": "white",
            "ticks": ""
           },
           "bgcolor": "#E5ECF6",
           "caxis": {
            "gridcolor": "white",
            "linecolor": "white",
            "ticks": ""
           }
          },
          "title": {
           "x": 0.05
          },
          "xaxis": {
           "automargin": true,
           "gridcolor": "white",
           "linecolor": "white",
           "ticks": "",
           "title": {
            "standoff": 15
           },
           "zerolinecolor": "white",
           "zerolinewidth": 2
          },
          "yaxis": {
           "automargin": true,
           "gridcolor": "white",
           "linecolor": "white",
           "ticks": "",
           "title": {
            "standoff": 15
           },
           "zerolinecolor": "white",
           "zerolinewidth": 2
          }
         }
        }
       }
      }
     },
     "metadata": {},
     "output_type": "display_data"
    }
   ],
   "source": [
    "fig = px.sunburst(data_analyse, path=['Real','Result_2'],values=np.ones(1252))\n",
    "fig.show()"
   ]
  },
  {
   "cell_type": "code",
   "execution_count": 218,
   "metadata": {},
   "outputs": [
    {
     "data": {
      "application/vnd.plotly.v1+json": {
       "config": {
        "plotlyServerURL": "https://plot.ly"
       },
       "data": [
        {
         "branchvalues": "total",
         "domain": {
          "x": [
           0,
           1
          ],
          "y": [
           0,
           1
          ]
         },
         "hovertemplate": "labels=%{label}<br>value=%{value}<br>parent=%{parent}<br>id=%{id}<extra></extra>",
         "ids": [
          "classification/miss_classified",
          "clustering/miss_classified",
          "computer vision/miss_classified",
          "nlp/miss_classified",
          "regression/miss_classified",
          "reinforcement learning/miss_classified",
          "classification/well_classified",
          "clustering/well_classified",
          "computer vision/well_classified",
          "nlp/well_classified",
          "regression/well_classified",
          "reinforcement learning/well_classified",
          "classification",
          "clustering",
          "computer vision",
          "nlp",
          "regression",
          "reinforcement learning"
         ],
         "labels": [
          "miss_classified",
          "miss_classified",
          "miss_classified",
          "miss_classified",
          "miss_classified",
          "miss_classified",
          "well_classified",
          "well_classified",
          "well_classified",
          "well_classified",
          "well_classified",
          "well_classified",
          "classification",
          "clustering",
          "computer vision",
          "nlp",
          "regression",
          "reinforcement learning"
         ],
         "name": "",
         "parents": [
          "classification",
          "clustering",
          "computer vision",
          "nlp",
          "regression",
          "reinforcement learning",
          "classification",
          "clustering",
          "computer vision",
          "nlp",
          "regression",
          "reinforcement learning",
          "",
          "",
          "",
          "",
          "",
          ""
         ],
         "type": "sunburst",
         "values": [
          93,
          145,
          74,
          144,
          135,
          52,
          73,
          89,
          174,
          190,
          70,
          13,
          166,
          234,
          248,
          334,
          205,
          65
         ]
        }
       ],
       "layout": {
        "legend": {
         "tracegroupgap": 0
        },
        "margin": {
         "t": 60
        },
        "template": {
         "data": {
          "bar": [
           {
            "error_x": {
             "color": "#2a3f5f"
            },
            "error_y": {
             "color": "#2a3f5f"
            },
            "marker": {
             "line": {
              "color": "#E5ECF6",
              "width": 0.5
             },
             "pattern": {
              "fillmode": "overlay",
              "size": 10,
              "solidity": 0.2
             }
            },
            "type": "bar"
           }
          ],
          "barpolar": [
           {
            "marker": {
             "line": {
              "color": "#E5ECF6",
              "width": 0.5
             },
             "pattern": {
              "fillmode": "overlay",
              "size": 10,
              "solidity": 0.2
             }
            },
            "type": "barpolar"
           }
          ],
          "carpet": [
           {
            "aaxis": {
             "endlinecolor": "#2a3f5f",
             "gridcolor": "white",
             "linecolor": "white",
             "minorgridcolor": "white",
             "startlinecolor": "#2a3f5f"
            },
            "baxis": {
             "endlinecolor": "#2a3f5f",
             "gridcolor": "white",
             "linecolor": "white",
             "minorgridcolor": "white",
             "startlinecolor": "#2a3f5f"
            },
            "type": "carpet"
           }
          ],
          "choropleth": [
           {
            "colorbar": {
             "outlinewidth": 0,
             "ticks": ""
            },
            "type": "choropleth"
           }
          ],
          "contour": [
           {
            "colorbar": {
             "outlinewidth": 0,
             "ticks": ""
            },
            "colorscale": [
             [
              0,
              "#0d0887"
             ],
             [
              0.1111111111111111,
              "#46039f"
             ],
             [
              0.2222222222222222,
              "#7201a8"
             ],
             [
              0.3333333333333333,
              "#9c179e"
             ],
             [
              0.4444444444444444,
              "#bd3786"
             ],
             [
              0.5555555555555556,
              "#d8576b"
             ],
             [
              0.6666666666666666,
              "#ed7953"
             ],
             [
              0.7777777777777778,
              "#fb9f3a"
             ],
             [
              0.8888888888888888,
              "#fdca26"
             ],
             [
              1,
              "#f0f921"
             ]
            ],
            "type": "contour"
           }
          ],
          "contourcarpet": [
           {
            "colorbar": {
             "outlinewidth": 0,
             "ticks": ""
            },
            "type": "contourcarpet"
           }
          ],
          "heatmap": [
           {
            "colorbar": {
             "outlinewidth": 0,
             "ticks": ""
            },
            "colorscale": [
             [
              0,
              "#0d0887"
             ],
             [
              0.1111111111111111,
              "#46039f"
             ],
             [
              0.2222222222222222,
              "#7201a8"
             ],
             [
              0.3333333333333333,
              "#9c179e"
             ],
             [
              0.4444444444444444,
              "#bd3786"
             ],
             [
              0.5555555555555556,
              "#d8576b"
             ],
             [
              0.6666666666666666,
              "#ed7953"
             ],
             [
              0.7777777777777778,
              "#fb9f3a"
             ],
             [
              0.8888888888888888,
              "#fdca26"
             ],
             [
              1,
              "#f0f921"
             ]
            ],
            "type": "heatmap"
           }
          ],
          "heatmapgl": [
           {
            "colorbar": {
             "outlinewidth": 0,
             "ticks": ""
            },
            "colorscale": [
             [
              0,
              "#0d0887"
             ],
             [
              0.1111111111111111,
              "#46039f"
             ],
             [
              0.2222222222222222,
              "#7201a8"
             ],
             [
              0.3333333333333333,
              "#9c179e"
             ],
             [
              0.4444444444444444,
              "#bd3786"
             ],
             [
              0.5555555555555556,
              "#d8576b"
             ],
             [
              0.6666666666666666,
              "#ed7953"
             ],
             [
              0.7777777777777778,
              "#fb9f3a"
             ],
             [
              0.8888888888888888,
              "#fdca26"
             ],
             [
              1,
              "#f0f921"
             ]
            ],
            "type": "heatmapgl"
           }
          ],
          "histogram": [
           {
            "marker": {
             "pattern": {
              "fillmode": "overlay",
              "size": 10,
              "solidity": 0.2
             }
            },
            "type": "histogram"
           }
          ],
          "histogram2d": [
           {
            "colorbar": {
             "outlinewidth": 0,
             "ticks": ""
            },
            "colorscale": [
             [
              0,
              "#0d0887"
             ],
             [
              0.1111111111111111,
              "#46039f"
             ],
             [
              0.2222222222222222,
              "#7201a8"
             ],
             [
              0.3333333333333333,
              "#9c179e"
             ],
             [
              0.4444444444444444,
              "#bd3786"
             ],
             [
              0.5555555555555556,
              "#d8576b"
             ],
             [
              0.6666666666666666,
              "#ed7953"
             ],
             [
              0.7777777777777778,
              "#fb9f3a"
             ],
             [
              0.8888888888888888,
              "#fdca26"
             ],
             [
              1,
              "#f0f921"
             ]
            ],
            "type": "histogram2d"
           }
          ],
          "histogram2dcontour": [
           {
            "colorbar": {
             "outlinewidth": 0,
             "ticks": ""
            },
            "colorscale": [
             [
              0,
              "#0d0887"
             ],
             [
              0.1111111111111111,
              "#46039f"
             ],
             [
              0.2222222222222222,
              "#7201a8"
             ],
             [
              0.3333333333333333,
              "#9c179e"
             ],
             [
              0.4444444444444444,
              "#bd3786"
             ],
             [
              0.5555555555555556,
              "#d8576b"
             ],
             [
              0.6666666666666666,
              "#ed7953"
             ],
             [
              0.7777777777777778,
              "#fb9f3a"
             ],
             [
              0.8888888888888888,
              "#fdca26"
             ],
             [
              1,
              "#f0f921"
             ]
            ],
            "type": "histogram2dcontour"
           }
          ],
          "mesh3d": [
           {
            "colorbar": {
             "outlinewidth": 0,
             "ticks": ""
            },
            "type": "mesh3d"
           }
          ],
          "parcoords": [
           {
            "line": {
             "colorbar": {
              "outlinewidth": 0,
              "ticks": ""
             }
            },
            "type": "parcoords"
           }
          ],
          "pie": [
           {
            "automargin": true,
            "type": "pie"
           }
          ],
          "scatter": [
           {
            "fillpattern": {
             "fillmode": "overlay",
             "size": 10,
             "solidity": 0.2
            },
            "type": "scatter"
           }
          ],
          "scatter3d": [
           {
            "line": {
             "colorbar": {
              "outlinewidth": 0,
              "ticks": ""
             }
            },
            "marker": {
             "colorbar": {
              "outlinewidth": 0,
              "ticks": ""
             }
            },
            "type": "scatter3d"
           }
          ],
          "scattercarpet": [
           {
            "marker": {
             "colorbar": {
              "outlinewidth": 0,
              "ticks": ""
             }
            },
            "type": "scattercarpet"
           }
          ],
          "scattergeo": [
           {
            "marker": {
             "colorbar": {
              "outlinewidth": 0,
              "ticks": ""
             }
            },
            "type": "scattergeo"
           }
          ],
          "scattergl": [
           {
            "marker": {
             "colorbar": {
              "outlinewidth": 0,
              "ticks": ""
             }
            },
            "type": "scattergl"
           }
          ],
          "scattermapbox": [
           {
            "marker": {
             "colorbar": {
              "outlinewidth": 0,
              "ticks": ""
             }
            },
            "type": "scattermapbox"
           }
          ],
          "scatterpolar": [
           {
            "marker": {
             "colorbar": {
              "outlinewidth": 0,
              "ticks": ""
             }
            },
            "type": "scatterpolar"
           }
          ],
          "scatterpolargl": [
           {
            "marker": {
             "colorbar": {
              "outlinewidth": 0,
              "ticks": ""
             }
            },
            "type": "scatterpolargl"
           }
          ],
          "scatterternary": [
           {
            "marker": {
             "colorbar": {
              "outlinewidth": 0,
              "ticks": ""
             }
            },
            "type": "scatterternary"
           }
          ],
          "surface": [
           {
            "colorbar": {
             "outlinewidth": 0,
             "ticks": ""
            },
            "colorscale": [
             [
              0,
              "#0d0887"
             ],
             [
              0.1111111111111111,
              "#46039f"
             ],
             [
              0.2222222222222222,
              "#7201a8"
             ],
             [
              0.3333333333333333,
              "#9c179e"
             ],
             [
              0.4444444444444444,
              "#bd3786"
             ],
             [
              0.5555555555555556,
              "#d8576b"
             ],
             [
              0.6666666666666666,
              "#ed7953"
             ],
             [
              0.7777777777777778,
              "#fb9f3a"
             ],
             [
              0.8888888888888888,
              "#fdca26"
             ],
             [
              1,
              "#f0f921"
             ]
            ],
            "type": "surface"
           }
          ],
          "table": [
           {
            "cells": {
             "fill": {
              "color": "#EBF0F8"
             },
             "line": {
              "color": "white"
             }
            },
            "header": {
             "fill": {
              "color": "#C8D4E3"
             },
             "line": {
              "color": "white"
             }
            },
            "type": "table"
           }
          ]
         },
         "layout": {
          "annotationdefaults": {
           "arrowcolor": "#2a3f5f",
           "arrowhead": 0,
           "arrowwidth": 1
          },
          "autotypenumbers": "strict",
          "coloraxis": {
           "colorbar": {
            "outlinewidth": 0,
            "ticks": ""
           }
          },
          "colorscale": {
           "diverging": [
            [
             0,
             "#8e0152"
            ],
            [
             0.1,
             "#c51b7d"
            ],
            [
             0.2,
             "#de77ae"
            ],
            [
             0.3,
             "#f1b6da"
            ],
            [
             0.4,
             "#fde0ef"
            ],
            [
             0.5,
             "#f7f7f7"
            ],
            [
             0.6,
             "#e6f5d0"
            ],
            [
             0.7,
             "#b8e186"
            ],
            [
             0.8,
             "#7fbc41"
            ],
            [
             0.9,
             "#4d9221"
            ],
            [
             1,
             "#276419"
            ]
           ],
           "sequential": [
            [
             0,
             "#0d0887"
            ],
            [
             0.1111111111111111,
             "#46039f"
            ],
            [
             0.2222222222222222,
             "#7201a8"
            ],
            [
             0.3333333333333333,
             "#9c179e"
            ],
            [
             0.4444444444444444,
             "#bd3786"
            ],
            [
             0.5555555555555556,
             "#d8576b"
            ],
            [
             0.6666666666666666,
             "#ed7953"
            ],
            [
             0.7777777777777778,
             "#fb9f3a"
            ],
            [
             0.8888888888888888,
             "#fdca26"
            ],
            [
             1,
             "#f0f921"
            ]
           ],
           "sequentialminus": [
            [
             0,
             "#0d0887"
            ],
            [
             0.1111111111111111,
             "#46039f"
            ],
            [
             0.2222222222222222,
             "#7201a8"
            ],
            [
             0.3333333333333333,
             "#9c179e"
            ],
            [
             0.4444444444444444,
             "#bd3786"
            ],
            [
             0.5555555555555556,
             "#d8576b"
            ],
            [
             0.6666666666666666,
             "#ed7953"
            ],
            [
             0.7777777777777778,
             "#fb9f3a"
            ],
            [
             0.8888888888888888,
             "#fdca26"
            ],
            [
             1,
             "#f0f921"
            ]
           ]
          },
          "colorway": [
           "#636efa",
           "#EF553B",
           "#00cc96",
           "#ab63fa",
           "#FFA15A",
           "#19d3f3",
           "#FF6692",
           "#B6E880",
           "#FF97FF",
           "#FECB52"
          ],
          "font": {
           "color": "#2a3f5f"
          },
          "geo": {
           "bgcolor": "white",
           "lakecolor": "white",
           "landcolor": "#E5ECF6",
           "showlakes": true,
           "showland": true,
           "subunitcolor": "white"
          },
          "hoverlabel": {
           "align": "left"
          },
          "hovermode": "closest",
          "mapbox": {
           "style": "light"
          },
          "paper_bgcolor": "white",
          "plot_bgcolor": "#E5ECF6",
          "polar": {
           "angularaxis": {
            "gridcolor": "white",
            "linecolor": "white",
            "ticks": ""
           },
           "bgcolor": "#E5ECF6",
           "radialaxis": {
            "gridcolor": "white",
            "linecolor": "white",
            "ticks": ""
           }
          },
          "scene": {
           "xaxis": {
            "backgroundcolor": "#E5ECF6",
            "gridcolor": "white",
            "gridwidth": 2,
            "linecolor": "white",
            "showbackground": true,
            "ticks": "",
            "zerolinecolor": "white"
           },
           "yaxis": {
            "backgroundcolor": "#E5ECF6",
            "gridcolor": "white",
            "gridwidth": 2,
            "linecolor": "white",
            "showbackground": true,
            "ticks": "",
            "zerolinecolor": "white"
           },
           "zaxis": {
            "backgroundcolor": "#E5ECF6",
            "gridcolor": "white",
            "gridwidth": 2,
            "linecolor": "white",
            "showbackground": true,
            "ticks": "",
            "zerolinecolor": "white"
           }
          },
          "shapedefaults": {
           "line": {
            "color": "#2a3f5f"
           }
          },
          "ternary": {
           "aaxis": {
            "gridcolor": "white",
            "linecolor": "white",
            "ticks": ""
           },
           "baxis": {
            "gridcolor": "white",
            "linecolor": "white",
            "ticks": ""
           },
           "bgcolor": "#E5ECF6",
           "caxis": {
            "gridcolor": "white",
            "linecolor": "white",
            "ticks": ""
           }
          },
          "title": {
           "x": 0.05
          },
          "xaxis": {
           "automargin": true,
           "gridcolor": "white",
           "linecolor": "white",
           "ticks": "",
           "title": {
            "standoff": 15
           },
           "zerolinecolor": "white",
           "zerolinewidth": 2
          },
          "yaxis": {
           "automargin": true,
           "gridcolor": "white",
           "linecolor": "white",
           "ticks": "",
           "title": {
            "standoff": 15
           },
           "zerolinecolor": "white",
           "zerolinewidth": 2
          }
         }
        }
       }
      }
     },
     "metadata": {},
     "output_type": "display_data"
    }
   ],
   "source": [
    "fig = px.sunburst(data_analyse, path=['Real','Result_3'],values=np.ones(1252))\n",
    "fig.show()"
   ]
  },
  {
   "cell_type": "code",
   "execution_count": 237,
   "metadata": {},
   "outputs": [
    {
     "name": "stdout",
     "output_type": "stream",
     "text": [
      "972 530 582\n"
     ]
    },
    {
     "data": {
      "text/html": [
       "<div>\n",
       "<style scoped>\n",
       "    .dataframe tbody tr th:only-of-type {\n",
       "        vertical-align: middle;\n",
       "    }\n",
       "\n",
       "    .dataframe tbody tr th {\n",
       "        vertical-align: top;\n",
       "    }\n",
       "\n",
       "    .dataframe thead th {\n",
       "        text-align: right;\n",
       "    }\n",
       "</style>\n",
       "<table border=\"1\" class=\"dataframe\">\n",
       "  <thead>\n",
       "    <tr style=\"text-align: right;\">\n",
       "      <th></th>\n",
       "      <th>Real</th>\n",
       "      <th>Predicted_1</th>\n",
       "      <th>Predicted_2</th>\n",
       "      <th>Predicted_3</th>\n",
       "      <th>Result_1</th>\n",
       "      <th>Result_2</th>\n",
       "      <th>Result_3</th>\n",
       "    </tr>\n",
       "  </thead>\n",
       "  <tbody>\n",
       "    <tr>\n",
       "      <th>5556</th>\n",
       "      <td>4</td>\n",
       "      <td>4</td>\n",
       "      <td>4</td>\n",
       "      <td>2</td>\n",
       "      <td>well_classified</td>\n",
       "      <td>well_classified</td>\n",
       "      <td>miss_classified</td>\n",
       "    </tr>\n",
       "    <tr>\n",
       "      <th>5229</th>\n",
       "      <td>0</td>\n",
       "      <td>3</td>\n",
       "      <td>3</td>\n",
       "      <td>4</td>\n",
       "      <td>miss_classified</td>\n",
       "      <td>miss_classified</td>\n",
       "      <td>miss_classified</td>\n",
       "    </tr>\n",
       "    <tr>\n",
       "      <th>2054</th>\n",
       "      <td>2</td>\n",
       "      <td>2</td>\n",
       "      <td>2</td>\n",
       "      <td>2</td>\n",
       "      <td>well_classified</td>\n",
       "      <td>well_classified</td>\n",
       "      <td>well_classified</td>\n",
       "    </tr>\n",
       "    <tr>\n",
       "      <th>969</th>\n",
       "      <td>1</td>\n",
       "      <td>1</td>\n",
       "      <td>1</td>\n",
       "      <td>1</td>\n",
       "      <td>well_classified</td>\n",
       "      <td>well_classified</td>\n",
       "      <td>well_classified</td>\n",
       "    </tr>\n",
       "    <tr>\n",
       "      <th>1455</th>\n",
       "      <td>0</td>\n",
       "      <td>4</td>\n",
       "      <td>0</td>\n",
       "      <td>1</td>\n",
       "      <td>miss_classified</td>\n",
       "      <td>well_classified</td>\n",
       "      <td>miss_classified</td>\n",
       "    </tr>\n",
       "    <tr>\n",
       "      <th>...</th>\n",
       "      <td>...</td>\n",
       "      <td>...</td>\n",
       "      <td>...</td>\n",
       "      <td>...</td>\n",
       "      <td>...</td>\n",
       "      <td>...</td>\n",
       "      <td>...</td>\n",
       "    </tr>\n",
       "    <tr>\n",
       "      <th>5414</th>\n",
       "      <td>0</td>\n",
       "      <td>0</td>\n",
       "      <td>4</td>\n",
       "      <td>0</td>\n",
       "      <td>well_classified</td>\n",
       "      <td>miss_classified</td>\n",
       "      <td>well_classified</td>\n",
       "    </tr>\n",
       "    <tr>\n",
       "      <th>2235</th>\n",
       "      <td>1</td>\n",
       "      <td>1</td>\n",
       "      <td>1</td>\n",
       "      <td>4</td>\n",
       "      <td>well_classified</td>\n",
       "      <td>well_classified</td>\n",
       "      <td>miss_classified</td>\n",
       "    </tr>\n",
       "    <tr>\n",
       "      <th>6109</th>\n",
       "      <td>4</td>\n",
       "      <td>4</td>\n",
       "      <td>4</td>\n",
       "      <td>0</td>\n",
       "      <td>well_classified</td>\n",
       "      <td>well_classified</td>\n",
       "      <td>miss_classified</td>\n",
       "    </tr>\n",
       "    <tr>\n",
       "      <th>3007</th>\n",
       "      <td>1</td>\n",
       "      <td>1</td>\n",
       "      <td>0</td>\n",
       "      <td>1</td>\n",
       "      <td>well_classified</td>\n",
       "      <td>miss_classified</td>\n",
       "      <td>well_classified</td>\n",
       "    </tr>\n",
       "    <tr>\n",
       "      <th>724</th>\n",
       "      <td>4</td>\n",
       "      <td>4</td>\n",
       "      <td>4</td>\n",
       "      <td>0</td>\n",
       "      <td>well_classified</td>\n",
       "      <td>well_classified</td>\n",
       "      <td>miss_classified</td>\n",
       "    </tr>\n",
       "  </tbody>\n",
       "</table>\n",
       "<p>1252 rows × 7 columns</p>\n",
       "</div>"
      ],
      "text/plain": [
       "      Real  Predicted_1  Predicted_2  Predicted_3         Result_1  \\\n",
       "5556     4            4            4            2  well_classified   \n",
       "5229     0            3            3            4  miss_classified   \n",
       "2054     2            2            2            2  well_classified   \n",
       "969      1            1            1            1  well_classified   \n",
       "1455     0            4            0            1  miss_classified   \n",
       "...    ...          ...          ...          ...              ...   \n",
       "5414     0            0            4            0  well_classified   \n",
       "2235     1            1            1            4  well_classified   \n",
       "6109     4            4            4            0  well_classified   \n",
       "3007     1            1            0            1  well_classified   \n",
       "724      4            4            4            0  well_classified   \n",
       "\n",
       "             Result_2         Result_3  \n",
       "5556  well_classified  miss_classified  \n",
       "5229  miss_classified  miss_classified  \n",
       "2054  well_classified  well_classified  \n",
       "969   well_classified  well_classified  \n",
       "1455  well_classified  miss_classified  \n",
       "...               ...              ...  \n",
       "5414  miss_classified  well_classified  \n",
       "2235  well_classified  miss_classified  \n",
       "6109  well_classified  miss_classified  \n",
       "3007  miss_classified  well_classified  \n",
       "724   well_classified  miss_classified  \n",
       "\n",
       "[1252 rows x 7 columns]"
      ]
     },
     "execution_count": 237,
     "metadata": {},
     "output_type": "execute_result"
    }
   ],
   "source": [
    "data_2 = pd.read_csv(\"../data/final_data.csv\")\n",
    "x_2 = data_2.drop('target_category', axis = 1).copy()\n",
    "y_2 = data_2['target_category'].copy()\n",
    "xtrain_2, xtest_2,  ytrain_2, ytest_2 = train_test_split(x_2, y_2, test_size=0.2)\n",
    "logr_2 = LogisticRegression(max_iter=10000, class_weight='balanced', multi_class='auto')\n",
    "scores_2 = cross_val_score(logr_2, x_2, y_2, cv=5)\n",
    "logr_2.fit(xtrain_2, ytrain_2)\n",
    "yhat_2 = logr_2.predict(xtest_2)\n",
    "clf_2 = tree.DecisionTreeClassifier()\n",
    "clf_2 = clf_2.fit(xtrain_2, ytrain_2)\n",
    "ydt_2 = clf_2.predict(xtest_2)\n",
    "neigh_2 = KNeighborsClassifier(n_neighbors=3)\n",
    "neigh_2.fit(xtrain_2, ytrain_2)\n",
    "yknn_2 = neigh_2.predict(xtest_2)\n",
    "data_analyse_2 = pd.DataFrame(columns=['Real','Predicted_1','Predicted_2','Predicted_3'])\n",
    "data_analyse_2['Real'] = ytest_2\n",
    "data_analyse_2['Predicted_1'] = yhat_2\n",
    "data_analyse_2['Predicted_2'] = ydt_2\n",
    "data_analyse_2['Predicted_3'] = yknn_2\n",
    "\n",
    "\n",
    "c1_2 =0\n",
    "c2_2 =0\n",
    "c3_2 =0\n",
    "for i in data_analyse_2.index:\n",
    "    if data_analyse_2.loc[i]['Real'] == data_analyse_2.loc[i]['Predicted_1']:\n",
    "        c1_2+=1\n",
    "    if data_analyse_2.loc[i]['Real'] == data_analyse_2.loc[i]['Predicted_2']:\n",
    "        c2_2+=1\n",
    "    if data_analyse_2.loc[i]['Real'] == data_analyse_2.loc[i]['Predicted_3']:\n",
    "        c3_2+=1\n",
    "print(c1_2,c2_2,c3_2)\n",
    "data_analyse_2['Result_1'] = np.where(data_analyse_2['Real'] == data_analyse_2['Predicted_1'],\"well_classified\",\"miss_classified\")\n",
    "data_analyse_2['Result_2'] = np.where(data_analyse_2['Real'] == data_analyse_2['Predicted_2'],\"well_classified\",\"miss_classified\")\n",
    "data_analyse_2['Result_3'] = np.where(data_analyse_2['Real'] == data_analyse_2['Predicted_3'],\"well_classified\",\"miss_classified\")\n",
    "data_analyse_2\n"
   ]
  },
  {
   "cell_type": "code",
   "execution_count": 238,
   "metadata": {},
   "outputs": [
    {
     "data": {
      "text/plain": [
       "{'classification': 0,\n",
       " 'clustering': 1,\n",
       " 'computer vision': 2,\n",
       " 'nlp': 3,\n",
       " 'regression': 4,\n",
       " 'reinforcement learning': 5}"
      ]
     },
     "execution_count": 238,
     "metadata": {},
     "output_type": "execute_result"
    }
   ],
   "source": [
    "integer_mapping = {l: i for i, l in enumerate(le.classes_)}\n",
    "integer_mapping"
   ]
  },
  {
   "cell_type": "code",
   "execution_count": 239,
   "metadata": {},
   "outputs": [
    {
     "data": {
      "text/html": [
       "<div>\n",
       "<style scoped>\n",
       "    .dataframe tbody tr th:only-of-type {\n",
       "        vertical-align: middle;\n",
       "    }\n",
       "\n",
       "    .dataframe tbody tr th {\n",
       "        vertical-align: top;\n",
       "    }\n",
       "\n",
       "    .dataframe thead th {\n",
       "        text-align: right;\n",
       "    }\n",
       "</style>\n",
       "<table border=\"1\" class=\"dataframe\">\n",
       "  <thead>\n",
       "    <tr style=\"text-align: right;\">\n",
       "      <th></th>\n",
       "      <th>num_feature_0</th>\n",
       "      <th>num_feature_1</th>\n",
       "      <th>num_feature_2</th>\n",
       "      <th>num_feature_3</th>\n",
       "      <th>num_feature_4</th>\n",
       "      <th>num_feature_5</th>\n",
       "      <th>num_feature_6</th>\n",
       "      <th>num_feature_7</th>\n",
       "      <th>num_feature_8</th>\n",
       "      <th>num_feature_9</th>\n",
       "      <th>...</th>\n",
       "      <th>num_feature_759</th>\n",
       "      <th>num_feature_760</th>\n",
       "      <th>num_feature_761</th>\n",
       "      <th>num_feature_762</th>\n",
       "      <th>num_feature_763</th>\n",
       "      <th>num_feature_764</th>\n",
       "      <th>num_feature_765</th>\n",
       "      <th>num_feature_766</th>\n",
       "      <th>num_feature_767</th>\n",
       "      <th>target_category</th>\n",
       "    </tr>\n",
       "  </thead>\n",
       "  <tbody>\n",
       "    <tr>\n",
       "      <th>0</th>\n",
       "      <td>-0.347906</td>\n",
       "      <td>0.298659</td>\n",
       "      <td>0.306194</td>\n",
       "      <td>0.055175</td>\n",
       "      <td>-0.430964</td>\n",
       "      <td>-0.466804</td>\n",
       "      <td>-0.108935</td>\n",
       "      <td>0.225360</td>\n",
       "      <td>0.385942</td>\n",
       "      <td>0.492067</td>\n",
       "      <td>...</td>\n",
       "      <td>-0.174081</td>\n",
       "      <td>-0.516293</td>\n",
       "      <td>0.402670</td>\n",
       "      <td>-0.094396</td>\n",
       "      <td>0.222461</td>\n",
       "      <td>0.574193</td>\n",
       "      <td>-0.606644</td>\n",
       "      <td>-0.461940</td>\n",
       "      <td>0.539914</td>\n",
       "      <td>2</td>\n",
       "    </tr>\n",
       "    <tr>\n",
       "      <th>1</th>\n",
       "      <td>-0.381965</td>\n",
       "      <td>0.317170</td>\n",
       "      <td>0.336794</td>\n",
       "      <td>0.081098</td>\n",
       "      <td>-0.454720</td>\n",
       "      <td>-0.551013</td>\n",
       "      <td>-0.051526</td>\n",
       "      <td>0.256912</td>\n",
       "      <td>0.381023</td>\n",
       "      <td>0.474694</td>\n",
       "      <td>...</td>\n",
       "      <td>-0.182501</td>\n",
       "      <td>-0.524450</td>\n",
       "      <td>0.344222</td>\n",
       "      <td>-0.027710</td>\n",
       "      <td>0.259213</td>\n",
       "      <td>0.608695</td>\n",
       "      <td>-0.722355</td>\n",
       "      <td>-0.420306</td>\n",
       "      <td>0.589060</td>\n",
       "      <td>1</td>\n",
       "    </tr>\n",
       "    <tr>\n",
       "      <th>2</th>\n",
       "      <td>-0.334516</td>\n",
       "      <td>0.283154</td>\n",
       "      <td>0.291431</td>\n",
       "      <td>0.043395</td>\n",
       "      <td>-0.385153</td>\n",
       "      <td>-0.494500</td>\n",
       "      <td>-0.111106</td>\n",
       "      <td>0.227195</td>\n",
       "      <td>0.380586</td>\n",
       "      <td>0.548708</td>\n",
       "      <td>...</td>\n",
       "      <td>-0.169292</td>\n",
       "      <td>-0.530989</td>\n",
       "      <td>0.416996</td>\n",
       "      <td>-0.104790</td>\n",
       "      <td>0.218367</td>\n",
       "      <td>0.636691</td>\n",
       "      <td>-0.612310</td>\n",
       "      <td>-0.446481</td>\n",
       "      <td>0.508087</td>\n",
       "      <td>2</td>\n",
       "    </tr>\n",
       "    <tr>\n",
       "      <th>3</th>\n",
       "      <td>-0.275612</td>\n",
       "      <td>0.267364</td>\n",
       "      <td>0.266519</td>\n",
       "      <td>0.076538</td>\n",
       "      <td>-0.282673</td>\n",
       "      <td>-0.329046</td>\n",
       "      <td>-0.045134</td>\n",
       "      <td>0.221697</td>\n",
       "      <td>0.293198</td>\n",
       "      <td>0.421586</td>\n",
       "      <td>...</td>\n",
       "      <td>-0.149041</td>\n",
       "      <td>-0.485052</td>\n",
       "      <td>0.493056</td>\n",
       "      <td>-0.112996</td>\n",
       "      <td>0.220296</td>\n",
       "      <td>0.618480</td>\n",
       "      <td>-0.594641</td>\n",
       "      <td>-0.469342</td>\n",
       "      <td>0.497985</td>\n",
       "      <td>3</td>\n",
       "    </tr>\n",
       "    <tr>\n",
       "      <th>4</th>\n",
       "      <td>-0.243645</td>\n",
       "      <td>0.288036</td>\n",
       "      <td>0.266372</td>\n",
       "      <td>0.109039</td>\n",
       "      <td>-0.166584</td>\n",
       "      <td>-0.294326</td>\n",
       "      <td>-0.053085</td>\n",
       "      <td>0.150146</td>\n",
       "      <td>0.304883</td>\n",
       "      <td>0.368951</td>\n",
       "      <td>...</td>\n",
       "      <td>-0.142109</td>\n",
       "      <td>-0.482496</td>\n",
       "      <td>0.465995</td>\n",
       "      <td>-0.077088</td>\n",
       "      <td>0.226020</td>\n",
       "      <td>0.523076</td>\n",
       "      <td>-0.427591</td>\n",
       "      <td>-0.406878</td>\n",
       "      <td>0.511194</td>\n",
       "      <td>0</td>\n",
       "    </tr>\n",
       "    <tr>\n",
       "      <th>...</th>\n",
       "      <td>...</td>\n",
       "      <td>...</td>\n",
       "      <td>...</td>\n",
       "      <td>...</td>\n",
       "      <td>...</td>\n",
       "      <td>...</td>\n",
       "      <td>...</td>\n",
       "      <td>...</td>\n",
       "      <td>...</td>\n",
       "      <td>...</td>\n",
       "      <td>...</td>\n",
       "      <td>...</td>\n",
       "      <td>...</td>\n",
       "      <td>...</td>\n",
       "      <td>...</td>\n",
       "      <td>...</td>\n",
       "      <td>...</td>\n",
       "      <td>...</td>\n",
       "      <td>...</td>\n",
       "      <td>...</td>\n",
       "      <td>...</td>\n",
       "    </tr>\n",
       "    <tr>\n",
       "      <th>6255</th>\n",
       "      <td>-0.393783</td>\n",
       "      <td>0.277537</td>\n",
       "      <td>0.316518</td>\n",
       "      <td>0.040720</td>\n",
       "      <td>-0.391826</td>\n",
       "      <td>-0.480739</td>\n",
       "      <td>-0.062746</td>\n",
       "      <td>0.245819</td>\n",
       "      <td>0.256513</td>\n",
       "      <td>0.471789</td>\n",
       "      <td>...</td>\n",
       "      <td>-0.129478</td>\n",
       "      <td>-0.558991</td>\n",
       "      <td>0.332909</td>\n",
       "      <td>-0.120112</td>\n",
       "      <td>0.225102</td>\n",
       "      <td>0.562891</td>\n",
       "      <td>-0.788352</td>\n",
       "      <td>-0.403093</td>\n",
       "      <td>0.606365</td>\n",
       "      <td>1</td>\n",
       "    </tr>\n",
       "    <tr>\n",
       "      <th>6256</th>\n",
       "      <td>-0.350655</td>\n",
       "      <td>0.288547</td>\n",
       "      <td>0.306525</td>\n",
       "      <td>0.093222</td>\n",
       "      <td>-0.323761</td>\n",
       "      <td>-0.448132</td>\n",
       "      <td>-0.068621</td>\n",
       "      <td>0.184130</td>\n",
       "      <td>0.309040</td>\n",
       "      <td>0.422071</td>\n",
       "      <td>...</td>\n",
       "      <td>-0.132200</td>\n",
       "      <td>-0.475985</td>\n",
       "      <td>0.370314</td>\n",
       "      <td>-0.145366</td>\n",
       "      <td>0.221709</td>\n",
       "      <td>0.561444</td>\n",
       "      <td>-0.666458</td>\n",
       "      <td>-0.397126</td>\n",
       "      <td>0.554349</td>\n",
       "      <td>1</td>\n",
       "    </tr>\n",
       "    <tr>\n",
       "      <th>6257</th>\n",
       "      <td>-0.269415</td>\n",
       "      <td>0.342038</td>\n",
       "      <td>0.304815</td>\n",
       "      <td>0.037482</td>\n",
       "      <td>-0.235388</td>\n",
       "      <td>-0.309742</td>\n",
       "      <td>-0.080752</td>\n",
       "      <td>0.213444</td>\n",
       "      <td>0.319876</td>\n",
       "      <td>0.423119</td>\n",
       "      <td>...</td>\n",
       "      <td>-0.133684</td>\n",
       "      <td>-0.532163</td>\n",
       "      <td>0.415316</td>\n",
       "      <td>-0.049092</td>\n",
       "      <td>0.259647</td>\n",
       "      <td>0.605257</td>\n",
       "      <td>-0.576541</td>\n",
       "      <td>-0.392241</td>\n",
       "      <td>0.530491</td>\n",
       "      <td>3</td>\n",
       "    </tr>\n",
       "    <tr>\n",
       "      <th>6258</th>\n",
       "      <td>-0.324500</td>\n",
       "      <td>0.284065</td>\n",
       "      <td>0.302361</td>\n",
       "      <td>0.090343</td>\n",
       "      <td>-0.268171</td>\n",
       "      <td>-0.412675</td>\n",
       "      <td>-0.082972</td>\n",
       "      <td>0.214550</td>\n",
       "      <td>0.285261</td>\n",
       "      <td>0.424154</td>\n",
       "      <td>...</td>\n",
       "      <td>-0.130789</td>\n",
       "      <td>-0.487126</td>\n",
       "      <td>0.364878</td>\n",
       "      <td>-0.106732</td>\n",
       "      <td>0.233295</td>\n",
       "      <td>0.579414</td>\n",
       "      <td>-0.619685</td>\n",
       "      <td>-0.412788</td>\n",
       "      <td>0.527967</td>\n",
       "      <td>3</td>\n",
       "    </tr>\n",
       "    <tr>\n",
       "      <th>6259</th>\n",
       "      <td>-0.241337</td>\n",
       "      <td>0.278140</td>\n",
       "      <td>0.240305</td>\n",
       "      <td>0.162713</td>\n",
       "      <td>-0.089665</td>\n",
       "      <td>-0.275525</td>\n",
       "      <td>-0.055097</td>\n",
       "      <td>0.141444</td>\n",
       "      <td>0.235327</td>\n",
       "      <td>0.372798</td>\n",
       "      <td>...</td>\n",
       "      <td>-0.116143</td>\n",
       "      <td>-0.521746</td>\n",
       "      <td>0.448555</td>\n",
       "      <td>-0.074431</td>\n",
       "      <td>0.215655</td>\n",
       "      <td>0.554124</td>\n",
       "      <td>-0.371285</td>\n",
       "      <td>-0.414625</td>\n",
       "      <td>0.508078</td>\n",
       "      <td>0</td>\n",
       "    </tr>\n",
       "  </tbody>\n",
       "</table>\n",
       "<p>6260 rows × 769 columns</p>\n",
       "</div>"
      ],
      "text/plain": [
       "      num_feature_0  num_feature_1  num_feature_2  num_feature_3  \\\n",
       "0         -0.347906       0.298659       0.306194       0.055175   \n",
       "1         -0.381965       0.317170       0.336794       0.081098   \n",
       "2         -0.334516       0.283154       0.291431       0.043395   \n",
       "3         -0.275612       0.267364       0.266519       0.076538   \n",
       "4         -0.243645       0.288036       0.266372       0.109039   \n",
       "...             ...            ...            ...            ...   \n",
       "6255      -0.393783       0.277537       0.316518       0.040720   \n",
       "6256      -0.350655       0.288547       0.306525       0.093222   \n",
       "6257      -0.269415       0.342038       0.304815       0.037482   \n",
       "6258      -0.324500       0.284065       0.302361       0.090343   \n",
       "6259      -0.241337       0.278140       0.240305       0.162713   \n",
       "\n",
       "      num_feature_4  num_feature_5  num_feature_6  num_feature_7  \\\n",
       "0         -0.430964      -0.466804      -0.108935       0.225360   \n",
       "1         -0.454720      -0.551013      -0.051526       0.256912   \n",
       "2         -0.385153      -0.494500      -0.111106       0.227195   \n",
       "3         -0.282673      -0.329046      -0.045134       0.221697   \n",
       "4         -0.166584      -0.294326      -0.053085       0.150146   \n",
       "...             ...            ...            ...            ...   \n",
       "6255      -0.391826      -0.480739      -0.062746       0.245819   \n",
       "6256      -0.323761      -0.448132      -0.068621       0.184130   \n",
       "6257      -0.235388      -0.309742      -0.080752       0.213444   \n",
       "6258      -0.268171      -0.412675      -0.082972       0.214550   \n",
       "6259      -0.089665      -0.275525      -0.055097       0.141444   \n",
       "\n",
       "      num_feature_8  num_feature_9  ...  num_feature_759  num_feature_760  \\\n",
       "0          0.385942       0.492067  ...        -0.174081        -0.516293   \n",
       "1          0.381023       0.474694  ...        -0.182501        -0.524450   \n",
       "2          0.380586       0.548708  ...        -0.169292        -0.530989   \n",
       "3          0.293198       0.421586  ...        -0.149041        -0.485052   \n",
       "4          0.304883       0.368951  ...        -0.142109        -0.482496   \n",
       "...             ...            ...  ...              ...              ...   \n",
       "6255       0.256513       0.471789  ...        -0.129478        -0.558991   \n",
       "6256       0.309040       0.422071  ...        -0.132200        -0.475985   \n",
       "6257       0.319876       0.423119  ...        -0.133684        -0.532163   \n",
       "6258       0.285261       0.424154  ...        -0.130789        -0.487126   \n",
       "6259       0.235327       0.372798  ...        -0.116143        -0.521746   \n",
       "\n",
       "      num_feature_761  num_feature_762  num_feature_763  num_feature_764  \\\n",
       "0            0.402670        -0.094396         0.222461         0.574193   \n",
       "1            0.344222        -0.027710         0.259213         0.608695   \n",
       "2            0.416996        -0.104790         0.218367         0.636691   \n",
       "3            0.493056        -0.112996         0.220296         0.618480   \n",
       "4            0.465995        -0.077088         0.226020         0.523076   \n",
       "...               ...              ...              ...              ...   \n",
       "6255         0.332909        -0.120112         0.225102         0.562891   \n",
       "6256         0.370314        -0.145366         0.221709         0.561444   \n",
       "6257         0.415316        -0.049092         0.259647         0.605257   \n",
       "6258         0.364878        -0.106732         0.233295         0.579414   \n",
       "6259         0.448555        -0.074431         0.215655         0.554124   \n",
       "\n",
       "      num_feature_765  num_feature_766  num_feature_767  target_category  \n",
       "0           -0.606644        -0.461940         0.539914                2  \n",
       "1           -0.722355        -0.420306         0.589060                1  \n",
       "2           -0.612310        -0.446481         0.508087                2  \n",
       "3           -0.594641        -0.469342         0.497985                3  \n",
       "4           -0.427591        -0.406878         0.511194                0  \n",
       "...               ...              ...              ...              ...  \n",
       "6255        -0.788352        -0.403093         0.606365                1  \n",
       "6256        -0.666458        -0.397126         0.554349                1  \n",
       "6257        -0.576541        -0.392241         0.530491                3  \n",
       "6258        -0.619685        -0.412788         0.527967                3  \n",
       "6259        -0.371285        -0.414625         0.508078                0  \n",
       "\n",
       "[6260 rows x 769 columns]"
      ]
     },
     "execution_count": 239,
     "metadata": {},
     "output_type": "execute_result"
    }
   ],
   "source": [
    "data_2"
   ]
  },
  {
   "cell_type": "markdown",
   "metadata": {},
   "source": [
    "### Dealing with class Imbalance"
   ]
  },
  {
   "cell_type": "code",
   "execution_count": 273,
   "metadata": {},
   "outputs": [
    {
     "name": "stdout",
     "output_type": "stream",
     "text": [
      "1753 1330 1543\n"
     ]
    },
    {
     "data": {
      "text/html": [
       "<div>\n",
       "<style scoped>\n",
       "    .dataframe tbody tr th:only-of-type {\n",
       "        vertical-align: middle;\n",
       "    }\n",
       "\n",
       "    .dataframe tbody tr th {\n",
       "        vertical-align: top;\n",
       "    }\n",
       "\n",
       "    .dataframe thead th {\n",
       "        text-align: right;\n",
       "    }\n",
       "</style>\n",
       "<table border=\"1\" class=\"dataframe\">\n",
       "  <thead>\n",
       "    <tr style=\"text-align: right;\">\n",
       "      <th></th>\n",
       "      <th>Real</th>\n",
       "      <th>Predicted_1</th>\n",
       "      <th>Predicted_2</th>\n",
       "      <th>Predicted_3</th>\n",
       "      <th>Result_1</th>\n",
       "      <th>Result_2</th>\n",
       "      <th>Result_3</th>\n",
       "    </tr>\n",
       "  </thead>\n",
       "  <tbody>\n",
       "    <tr>\n",
       "      <th>2788</th>\n",
       "      <td>classification</td>\n",
       "      <td>classification</td>\n",
       "      <td>classification</td>\n",
       "      <td>classification</td>\n",
       "      <td>well_classified</td>\n",
       "      <td>well_classified</td>\n",
       "      <td>well_classified</td>\n",
       "    </tr>\n",
       "    <tr>\n",
       "      <th>2277</th>\n",
       "      <td>regression</td>\n",
       "      <td>regression</td>\n",
       "      <td>reinforcement learning</td>\n",
       "      <td>computer vision</td>\n",
       "      <td>well_classified</td>\n",
       "      <td>miss_classified</td>\n",
       "      <td>miss_classified</td>\n",
       "    </tr>\n",
       "    <tr>\n",
       "      <th>6532</th>\n",
       "      <td>classification</td>\n",
       "      <td>classification</td>\n",
       "      <td>classification</td>\n",
       "      <td>classification</td>\n",
       "      <td>well_classified</td>\n",
       "      <td>well_classified</td>\n",
       "      <td>well_classified</td>\n",
       "    </tr>\n",
       "    <tr>\n",
       "      <th>1076</th>\n",
       "      <td>clustering</td>\n",
       "      <td>clustering</td>\n",
       "      <td>regression</td>\n",
       "      <td>clustering</td>\n",
       "      <td>well_classified</td>\n",
       "      <td>miss_classified</td>\n",
       "      <td>well_classified</td>\n",
       "    </tr>\n",
       "    <tr>\n",
       "      <th>7953</th>\n",
       "      <td>computer vision</td>\n",
       "      <td>computer vision</td>\n",
       "      <td>clustering</td>\n",
       "      <td>computer vision</td>\n",
       "      <td>well_classified</td>\n",
       "      <td>miss_classified</td>\n",
       "      <td>well_classified</td>\n",
       "    </tr>\n",
       "    <tr>\n",
       "      <th>...</th>\n",
       "      <td>...</td>\n",
       "      <td>...</td>\n",
       "      <td>...</td>\n",
       "      <td>...</td>\n",
       "      <td>...</td>\n",
       "      <td>...</td>\n",
       "      <td>...</td>\n",
       "    </tr>\n",
       "    <tr>\n",
       "      <th>5281</th>\n",
       "      <td>nlp</td>\n",
       "      <td>nlp</td>\n",
       "      <td>computer vision</td>\n",
       "      <td>nlp</td>\n",
       "      <td>well_classified</td>\n",
       "      <td>miss_classified</td>\n",
       "      <td>well_classified</td>\n",
       "    </tr>\n",
       "    <tr>\n",
       "      <th>1518</th>\n",
       "      <td>classification</td>\n",
       "      <td>classification</td>\n",
       "      <td>clustering</td>\n",
       "      <td>classification</td>\n",
       "      <td>well_classified</td>\n",
       "      <td>miss_classified</td>\n",
       "      <td>well_classified</td>\n",
       "    </tr>\n",
       "    <tr>\n",
       "      <th>1011</th>\n",
       "      <td>clustering</td>\n",
       "      <td>clustering</td>\n",
       "      <td>classification</td>\n",
       "      <td>clustering</td>\n",
       "      <td>well_classified</td>\n",
       "      <td>miss_classified</td>\n",
       "      <td>well_classified</td>\n",
       "    </tr>\n",
       "    <tr>\n",
       "      <th>1319</th>\n",
       "      <td>clustering</td>\n",
       "      <td>classification</td>\n",
       "      <td>classification</td>\n",
       "      <td>classification</td>\n",
       "      <td>miss_classified</td>\n",
       "      <td>miss_classified</td>\n",
       "      <td>miss_classified</td>\n",
       "    </tr>\n",
       "    <tr>\n",
       "      <th>2700</th>\n",
       "      <td>nlp</td>\n",
       "      <td>nlp</td>\n",
       "      <td>classification</td>\n",
       "      <td>computer vision</td>\n",
       "      <td>well_classified</td>\n",
       "      <td>miss_classified</td>\n",
       "      <td>miss_classified</td>\n",
       "    </tr>\n",
       "  </tbody>\n",
       "</table>\n",
       "<p>2150 rows × 7 columns</p>\n",
       "</div>"
      ],
      "text/plain": [
       "                 Real      Predicted_1             Predicted_2  \\\n",
       "2788   classification   classification          classification   \n",
       "2277       regression       regression  reinforcement learning   \n",
       "6532   classification   classification          classification   \n",
       "1076       clustering       clustering              regression   \n",
       "7953  computer vision  computer vision              clustering   \n",
       "...               ...              ...                     ...   \n",
       "5281              nlp              nlp         computer vision   \n",
       "1518   classification   classification              clustering   \n",
       "1011       clustering       clustering          classification   \n",
       "1319       clustering   classification          classification   \n",
       "2700              nlp              nlp          classification   \n",
       "\n",
       "          Predicted_3         Result_1         Result_2         Result_3  \n",
       "2788   classification  well_classified  well_classified  well_classified  \n",
       "2277  computer vision  well_classified  miss_classified  miss_classified  \n",
       "6532   classification  well_classified  well_classified  well_classified  \n",
       "1076       clustering  well_classified  miss_classified  well_classified  \n",
       "7953  computer vision  well_classified  miss_classified  well_classified  \n",
       "...               ...              ...              ...              ...  \n",
       "5281              nlp  well_classified  miss_classified  well_classified  \n",
       "1518   classification  well_classified  miss_classified  well_classified  \n",
       "1011       clustering  well_classified  miss_classified  well_classified  \n",
       "1319   classification  miss_classified  miss_classified  miss_classified  \n",
       "2700  computer vision  well_classified  miss_classified  miss_classified  \n",
       "\n",
       "[2150 rows x 7 columns]"
      ]
     },
     "execution_count": 273,
     "metadata": {},
     "output_type": "execute_result"
    }
   ],
   "source": [
    "data_2 = pd.read_csv(\"../data/final_data.csv\")\n",
    "x_2 = data_2.drop('target_category', axis = 1).copy()\n",
    "y_2 = data_2['target_category'].copy()\n",
    "oversample = SMOTE()\n",
    "x_2, y_2 = oversample.fit_resample(x_2, y_2)\n",
    "xtrain_2, xtest_2,  ytrain_2, ytest_2 = train_test_split(x_2, y_2, test_size=0.2)\n",
    "logr_2 = LogisticRegression(max_iter=10000, class_weight='balanced', multi_class='auto')\n",
    "scores_2 = cross_val_score(logr_2, x_2, y_2, cv=5)\n",
    "logr_2.fit(xtrain_2, ytrain_2)\n",
    "yhat_2 = logr_2.predict(xtest_2)\n",
    "clf_2 = tree.DecisionTreeClassifier()\n",
    "clf_2 = clf_2.fit(xtrain_2, ytrain_2)\n",
    "ydt_2 = clf_2.predict(xtest_2)\n",
    "neigh_2 = KNeighborsClassifier(n_neighbors=3)\n",
    "neigh_2.fit(xtrain_2, ytrain_2)\n",
    "yknn_2 = neigh_2.predict(xtest_2)\n",
    "data_analyse_2 = pd.DataFrame(columns=['Real','Predicted_1','Predicted_2','Predicted_3'])\n",
    "data_analyse_2['Real'] = ytest_2\n",
    "data_analyse_2['Predicted_1'] = yhat_2\n",
    "data_analyse_2['Predicted_2'] = ydt_2\n",
    "data_analyse_2['Predicted_3'] = yknn_2\n",
    "\n",
    "\n",
    "c1_2 =0\n",
    "c2_2 =0\n",
    "c3_2 =0\n",
    "for i in data_analyse_2.index:\n",
    "    if data_analyse_2.loc[i]['Real'] == data_analyse_2.loc[i]['Predicted_1']:\n",
    "        c1_2+=1\n",
    "    if data_analyse_2.loc[i]['Real'] == data_analyse_2.loc[i]['Predicted_2']:\n",
    "        c2_2+=1\n",
    "    if data_analyse_2.loc[i]['Real'] == data_analyse_2.loc[i]['Predicted_3']:\n",
    "        c3_2+=1\n",
    "print(c1_2,c2_2,c3_2)\n",
    "data_analyse_2['Result_1'] = np.where(data_analyse_2['Real'] == data_analyse_2['Predicted_1'],\"well_classified\",\"miss_classified\")\n",
    "data_analyse_2['Result_2'] = np.where(data_analyse_2['Real'] == data_analyse_2['Predicted_2'],\"well_classified\",\"miss_classified\")\n",
    "data_analyse_2['Result_3'] = np.where(data_analyse_2['Real'] == data_analyse_2['Predicted_3'],\"well_classified\",\"miss_classified\")\n",
    "data_analyse_2\n"
   ]
  },
  {
   "cell_type": "code",
   "execution_count": 274,
   "metadata": {},
   "outputs": [
    {
     "name": "stdout",
     "output_type": "stream",
     "text": [
      "Accuracy score: 0.7859424920127795\n",
      "0.76 accuracy with a standard deviation of 0.03\n",
      "F1 score: 0.7862735097766143\n"
     ]
    }
   ],
   "source": [
    "print('Accuracy score:',accuracy_score(ytest, yhat))\n",
    "print(\"%0.2f accuracy with a standard deviation of %0.2f\" % (scores.mean(), scores.std()))\n",
    "print('F1 score:',f1_score(ytest, yhat, average='weighted'))"
   ]
  },
  {
   "cell_type": "code",
   "execution_count": 275,
   "metadata": {},
   "outputs": [
    {
     "name": "stdout",
     "output_type": "stream",
     "text": [
      "Accuracy score: 0.8153488372093023\n",
      "0.83 accuracy with a standard deviation of 0.03\n",
      "F1 score: 0.8149708981150121\n"
     ]
    }
   ],
   "source": [
    "print('Accuracy score:',accuracy_score(ytest_2, yhat_2))\n",
    "print(\"%0.2f accuracy with a standard deviation of %0.2f\" % (scores_2.mean(), scores_2.std()))\n",
    "print('F1 score:',f1_score(ytest_2, yhat_2, average='weighted'))"
   ]
  },
  {
   "cell_type": "code",
   "execution_count": 276,
   "metadata": {},
   "outputs": [
    {
     "data": {
      "application/vnd.plotly.v1+json": {
       "config": {
        "plotlyServerURL": "https://plot.ly"
       },
       "data": [
        {
         "branchvalues": "total",
         "domain": {
          "x": [
           0,
           1
          ],
          "y": [
           0,
           1
          ]
         },
         "hovertemplate": "labels=%{label}<br>value=%{value}<br>parent=%{parent}<br>id=%{id}<extra></extra>",
         "ids": [
          "classification/miss_classified",
          "clustering/miss_classified",
          "computer vision/miss_classified",
          "nlp/miss_classified",
          "regression/miss_classified",
          "reinforcement learning/miss_classified",
          "classification/well_classified",
          "clustering/well_classified",
          "computer vision/well_classified",
          "nlp/well_classified",
          "regression/well_classified",
          "reinforcement learning/well_classified",
          "classification",
          "clustering",
          "computer vision",
          "nlp",
          "regression",
          "reinforcement learning"
         ],
         "labels": [
          "miss_classified",
          "miss_classified",
          "miss_classified",
          "miss_classified",
          "miss_classified",
          "miss_classified",
          "well_classified",
          "well_classified",
          "well_classified",
          "well_classified",
          "well_classified",
          "well_classified",
          "classification",
          "clustering",
          "computer vision",
          "nlp",
          "regression",
          "reinforcement learning"
         ],
         "name": "",
         "parents": [
          "classification",
          "clustering",
          "computer vision",
          "nlp",
          "regression",
          "reinforcement learning",
          "classification",
          "clustering",
          "computer vision",
          "nlp",
          "regression",
          "reinforcement learning",
          "",
          "",
          "",
          "",
          "",
          ""
         ],
         "type": "sunburst",
         "values": [
          92,
          84,
          32,
          77,
          68,
          44,
          266,
          285,
          315,
          276,
          319,
          292,
          358,
          369,
          347,
          353,
          387,
          336
         ]
        }
       ],
       "layout": {
        "legend": {
         "tracegroupgap": 0
        },
        "margin": {
         "t": 60
        },
        "template": {
         "data": {
          "bar": [
           {
            "error_x": {
             "color": "#2a3f5f"
            },
            "error_y": {
             "color": "#2a3f5f"
            },
            "marker": {
             "line": {
              "color": "#E5ECF6",
              "width": 0.5
             },
             "pattern": {
              "fillmode": "overlay",
              "size": 10,
              "solidity": 0.2
             }
            },
            "type": "bar"
           }
          ],
          "barpolar": [
           {
            "marker": {
             "line": {
              "color": "#E5ECF6",
              "width": 0.5
             },
             "pattern": {
              "fillmode": "overlay",
              "size": 10,
              "solidity": 0.2
             }
            },
            "type": "barpolar"
           }
          ],
          "carpet": [
           {
            "aaxis": {
             "endlinecolor": "#2a3f5f",
             "gridcolor": "white",
             "linecolor": "white",
             "minorgridcolor": "white",
             "startlinecolor": "#2a3f5f"
            },
            "baxis": {
             "endlinecolor": "#2a3f5f",
             "gridcolor": "white",
             "linecolor": "white",
             "minorgridcolor": "white",
             "startlinecolor": "#2a3f5f"
            },
            "type": "carpet"
           }
          ],
          "choropleth": [
           {
            "colorbar": {
             "outlinewidth": 0,
             "ticks": ""
            },
            "type": "choropleth"
           }
          ],
          "contour": [
           {
            "colorbar": {
             "outlinewidth": 0,
             "ticks": ""
            },
            "colorscale": [
             [
              0,
              "#0d0887"
             ],
             [
              0.1111111111111111,
              "#46039f"
             ],
             [
              0.2222222222222222,
              "#7201a8"
             ],
             [
              0.3333333333333333,
              "#9c179e"
             ],
             [
              0.4444444444444444,
              "#bd3786"
             ],
             [
              0.5555555555555556,
              "#d8576b"
             ],
             [
              0.6666666666666666,
              "#ed7953"
             ],
             [
              0.7777777777777778,
              "#fb9f3a"
             ],
             [
              0.8888888888888888,
              "#fdca26"
             ],
             [
              1,
              "#f0f921"
             ]
            ],
            "type": "contour"
           }
          ],
          "contourcarpet": [
           {
            "colorbar": {
             "outlinewidth": 0,
             "ticks": ""
            },
            "type": "contourcarpet"
           }
          ],
          "heatmap": [
           {
            "colorbar": {
             "outlinewidth": 0,
             "ticks": ""
            },
            "colorscale": [
             [
              0,
              "#0d0887"
             ],
             [
              0.1111111111111111,
              "#46039f"
             ],
             [
              0.2222222222222222,
              "#7201a8"
             ],
             [
              0.3333333333333333,
              "#9c179e"
             ],
             [
              0.4444444444444444,
              "#bd3786"
             ],
             [
              0.5555555555555556,
              "#d8576b"
             ],
             [
              0.6666666666666666,
              "#ed7953"
             ],
             [
              0.7777777777777778,
              "#fb9f3a"
             ],
             [
              0.8888888888888888,
              "#fdca26"
             ],
             [
              1,
              "#f0f921"
             ]
            ],
            "type": "heatmap"
           }
          ],
          "heatmapgl": [
           {
            "colorbar": {
             "outlinewidth": 0,
             "ticks": ""
            },
            "colorscale": [
             [
              0,
              "#0d0887"
             ],
             [
              0.1111111111111111,
              "#46039f"
             ],
             [
              0.2222222222222222,
              "#7201a8"
             ],
             [
              0.3333333333333333,
              "#9c179e"
             ],
             [
              0.4444444444444444,
              "#bd3786"
             ],
             [
              0.5555555555555556,
              "#d8576b"
             ],
             [
              0.6666666666666666,
              "#ed7953"
             ],
             [
              0.7777777777777778,
              "#fb9f3a"
             ],
             [
              0.8888888888888888,
              "#fdca26"
             ],
             [
              1,
              "#f0f921"
             ]
            ],
            "type": "heatmapgl"
           }
          ],
          "histogram": [
           {
            "marker": {
             "pattern": {
              "fillmode": "overlay",
              "size": 10,
              "solidity": 0.2
             }
            },
            "type": "histogram"
           }
          ],
          "histogram2d": [
           {
            "colorbar": {
             "outlinewidth": 0,
             "ticks": ""
            },
            "colorscale": [
             [
              0,
              "#0d0887"
             ],
             [
              0.1111111111111111,
              "#46039f"
             ],
             [
              0.2222222222222222,
              "#7201a8"
             ],
             [
              0.3333333333333333,
              "#9c179e"
             ],
             [
              0.4444444444444444,
              "#bd3786"
             ],
             [
              0.5555555555555556,
              "#d8576b"
             ],
             [
              0.6666666666666666,
              "#ed7953"
             ],
             [
              0.7777777777777778,
              "#fb9f3a"
             ],
             [
              0.8888888888888888,
              "#fdca26"
             ],
             [
              1,
              "#f0f921"
             ]
            ],
            "type": "histogram2d"
           }
          ],
          "histogram2dcontour": [
           {
            "colorbar": {
             "outlinewidth": 0,
             "ticks": ""
            },
            "colorscale": [
             [
              0,
              "#0d0887"
             ],
             [
              0.1111111111111111,
              "#46039f"
             ],
             [
              0.2222222222222222,
              "#7201a8"
             ],
             [
              0.3333333333333333,
              "#9c179e"
             ],
             [
              0.4444444444444444,
              "#bd3786"
             ],
             [
              0.5555555555555556,
              "#d8576b"
             ],
             [
              0.6666666666666666,
              "#ed7953"
             ],
             [
              0.7777777777777778,
              "#fb9f3a"
             ],
             [
              0.8888888888888888,
              "#fdca26"
             ],
             [
              1,
              "#f0f921"
             ]
            ],
            "type": "histogram2dcontour"
           }
          ],
          "mesh3d": [
           {
            "colorbar": {
             "outlinewidth": 0,
             "ticks": ""
            },
            "type": "mesh3d"
           }
          ],
          "parcoords": [
           {
            "line": {
             "colorbar": {
              "outlinewidth": 0,
              "ticks": ""
             }
            },
            "type": "parcoords"
           }
          ],
          "pie": [
           {
            "automargin": true,
            "type": "pie"
           }
          ],
          "scatter": [
           {
            "fillpattern": {
             "fillmode": "overlay",
             "size": 10,
             "solidity": 0.2
            },
            "type": "scatter"
           }
          ],
          "scatter3d": [
           {
            "line": {
             "colorbar": {
              "outlinewidth": 0,
              "ticks": ""
             }
            },
            "marker": {
             "colorbar": {
              "outlinewidth": 0,
              "ticks": ""
             }
            },
            "type": "scatter3d"
           }
          ],
          "scattercarpet": [
           {
            "marker": {
             "colorbar": {
              "outlinewidth": 0,
              "ticks": ""
             }
            },
            "type": "scattercarpet"
           }
          ],
          "scattergeo": [
           {
            "marker": {
             "colorbar": {
              "outlinewidth": 0,
              "ticks": ""
             }
            },
            "type": "scattergeo"
           }
          ],
          "scattergl": [
           {
            "marker": {
             "colorbar": {
              "outlinewidth": 0,
              "ticks": ""
             }
            },
            "type": "scattergl"
           }
          ],
          "scattermapbox": [
           {
            "marker": {
             "colorbar": {
              "outlinewidth": 0,
              "ticks": ""
             }
            },
            "type": "scattermapbox"
           }
          ],
          "scatterpolar": [
           {
            "marker": {
             "colorbar": {
              "outlinewidth": 0,
              "ticks": ""
             }
            },
            "type": "scatterpolar"
           }
          ],
          "scatterpolargl": [
           {
            "marker": {
             "colorbar": {
              "outlinewidth": 0,
              "ticks": ""
             }
            },
            "type": "scatterpolargl"
           }
          ],
          "scatterternary": [
           {
            "marker": {
             "colorbar": {
              "outlinewidth": 0,
              "ticks": ""
             }
            },
            "type": "scatterternary"
           }
          ],
          "surface": [
           {
            "colorbar": {
             "outlinewidth": 0,
             "ticks": ""
            },
            "colorscale": [
             [
              0,
              "#0d0887"
             ],
             [
              0.1111111111111111,
              "#46039f"
             ],
             [
              0.2222222222222222,
              "#7201a8"
             ],
             [
              0.3333333333333333,
              "#9c179e"
             ],
             [
              0.4444444444444444,
              "#bd3786"
             ],
             [
              0.5555555555555556,
              "#d8576b"
             ],
             [
              0.6666666666666666,
              "#ed7953"
             ],
             [
              0.7777777777777778,
              "#fb9f3a"
             ],
             [
              0.8888888888888888,
              "#fdca26"
             ],
             [
              1,
              "#f0f921"
             ]
            ],
            "type": "surface"
           }
          ],
          "table": [
           {
            "cells": {
             "fill": {
              "color": "#EBF0F8"
             },
             "line": {
              "color": "white"
             }
            },
            "header": {
             "fill": {
              "color": "#C8D4E3"
             },
             "line": {
              "color": "white"
             }
            },
            "type": "table"
           }
          ]
         },
         "layout": {
          "annotationdefaults": {
           "arrowcolor": "#2a3f5f",
           "arrowhead": 0,
           "arrowwidth": 1
          },
          "autotypenumbers": "strict",
          "coloraxis": {
           "colorbar": {
            "outlinewidth": 0,
            "ticks": ""
           }
          },
          "colorscale": {
           "diverging": [
            [
             0,
             "#8e0152"
            ],
            [
             0.1,
             "#c51b7d"
            ],
            [
             0.2,
             "#de77ae"
            ],
            [
             0.3,
             "#f1b6da"
            ],
            [
             0.4,
             "#fde0ef"
            ],
            [
             0.5,
             "#f7f7f7"
            ],
            [
             0.6,
             "#e6f5d0"
            ],
            [
             0.7,
             "#b8e186"
            ],
            [
             0.8,
             "#7fbc41"
            ],
            [
             0.9,
             "#4d9221"
            ],
            [
             1,
             "#276419"
            ]
           ],
           "sequential": [
            [
             0,
             "#0d0887"
            ],
            [
             0.1111111111111111,
             "#46039f"
            ],
            [
             0.2222222222222222,
             "#7201a8"
            ],
            [
             0.3333333333333333,
             "#9c179e"
            ],
            [
             0.4444444444444444,
             "#bd3786"
            ],
            [
             0.5555555555555556,
             "#d8576b"
            ],
            [
             0.6666666666666666,
             "#ed7953"
            ],
            [
             0.7777777777777778,
             "#fb9f3a"
            ],
            [
             0.8888888888888888,
             "#fdca26"
            ],
            [
             1,
             "#f0f921"
            ]
           ],
           "sequentialminus": [
            [
             0,
             "#0d0887"
            ],
            [
             0.1111111111111111,
             "#46039f"
            ],
            [
             0.2222222222222222,
             "#7201a8"
            ],
            [
             0.3333333333333333,
             "#9c179e"
            ],
            [
             0.4444444444444444,
             "#bd3786"
            ],
            [
             0.5555555555555556,
             "#d8576b"
            ],
            [
             0.6666666666666666,
             "#ed7953"
            ],
            [
             0.7777777777777778,
             "#fb9f3a"
            ],
            [
             0.8888888888888888,
             "#fdca26"
            ],
            [
             1,
             "#f0f921"
            ]
           ]
          },
          "colorway": [
           "#636efa",
           "#EF553B",
           "#00cc96",
           "#ab63fa",
           "#FFA15A",
           "#19d3f3",
           "#FF6692",
           "#B6E880",
           "#FF97FF",
           "#FECB52"
          ],
          "font": {
           "color": "#2a3f5f"
          },
          "geo": {
           "bgcolor": "white",
           "lakecolor": "white",
           "landcolor": "#E5ECF6",
           "showlakes": true,
           "showland": true,
           "subunitcolor": "white"
          },
          "hoverlabel": {
           "align": "left"
          },
          "hovermode": "closest",
          "mapbox": {
           "style": "light"
          },
          "paper_bgcolor": "white",
          "plot_bgcolor": "#E5ECF6",
          "polar": {
           "angularaxis": {
            "gridcolor": "white",
            "linecolor": "white",
            "ticks": ""
           },
           "bgcolor": "#E5ECF6",
           "radialaxis": {
            "gridcolor": "white",
            "linecolor": "white",
            "ticks": ""
           }
          },
          "scene": {
           "xaxis": {
            "backgroundcolor": "#E5ECF6",
            "gridcolor": "white",
            "gridwidth": 2,
            "linecolor": "white",
            "showbackground": true,
            "ticks": "",
            "zerolinecolor": "white"
           },
           "yaxis": {
            "backgroundcolor": "#E5ECF6",
            "gridcolor": "white",
            "gridwidth": 2,
            "linecolor": "white",
            "showbackground": true,
            "ticks": "",
            "zerolinecolor": "white"
           },
           "zaxis": {
            "backgroundcolor": "#E5ECF6",
            "gridcolor": "white",
            "gridwidth": 2,
            "linecolor": "white",
            "showbackground": true,
            "ticks": "",
            "zerolinecolor": "white"
           }
          },
          "shapedefaults": {
           "line": {
            "color": "#2a3f5f"
           }
          },
          "ternary": {
           "aaxis": {
            "gridcolor": "white",
            "linecolor": "white",
            "ticks": ""
           },
           "baxis": {
            "gridcolor": "white",
            "linecolor": "white",
            "ticks": ""
           },
           "bgcolor": "#E5ECF6",
           "caxis": {
            "gridcolor": "white",
            "linecolor": "white",
            "ticks": ""
           }
          },
          "title": {
           "x": 0.05
          },
          "xaxis": {
           "automargin": true,
           "gridcolor": "white",
           "linecolor": "white",
           "ticks": "",
           "title": {
            "standoff": 15
           },
           "zerolinecolor": "white",
           "zerolinewidth": 2
          },
          "yaxis": {
           "automargin": true,
           "gridcolor": "white",
           "linecolor": "white",
           "ticks": "",
           "title": {
            "standoff": 15
           },
           "zerolinecolor": "white",
           "zerolinewidth": 2
          }
         }
        }
       }
      }
     },
     "metadata": {},
     "output_type": "display_data"
    }
   ],
   "source": [
    "fig = px.sunburst(data_analyse_2, path=['Real','Result_1'],values=np.ones(2150))\n",
    "fig.show()"
   ]
  },
  {
   "cell_type": "code",
   "execution_count": 278,
   "metadata": {},
   "outputs": [
    {
     "data": {
      "text/plain": [
       "array([0.76198083, 0.80191693, 0.76996805, 0.70846645, 0.75958466])"
      ]
     },
     "execution_count": 278,
     "metadata": {},
     "output_type": "execute_result"
    }
   ],
   "source": [
    "scores"
   ]
  },
  {
   "cell_type": "code",
   "execution_count": 277,
   "metadata": {},
   "outputs": [
    {
     "data": {
      "text/plain": [
       "array([0.79627907, 0.80921359, 0.79013495, 0.85714286, 0.87436017])"
      ]
     },
     "execution_count": 277,
     "metadata": {},
     "output_type": "execute_result"
    }
   ],
   "source": [
    "scores_2"
   ]
  },
  {
   "cell_type": "code",
   "execution_count": 279,
   "metadata": {},
   "outputs": [
    {
     "data": {
      "text/plain": [
       "0.8153488372093023"
      ]
     },
     "execution_count": 279,
     "metadata": {},
     "output_type": "execute_result"
    }
   ],
   "source": [
    "\n",
    "logr_2.score(xtest_2,ytest_2)"
   ]
  },
  {
   "cell_type": "markdown",
   "metadata": {},
   "source": [
    "Percentage of misclassified samples :\n",
    "\n",
    "*  Classification ~ 25 %\n",
    "*  Clustering ~ 22 %\n",
    "*  Nlp ~ 21 %\n",
    "*  Regression ~ 17 %\n",
    "*  Reinforcement Learning ~ 13 %\n",
    "*  Computer Vision ~ 9 %"
   ]
  },
  {
   "cell_type": "code",
   "execution_count": 293,
   "metadata": {},
   "outputs": [],
   "source": [
    "def without_oversampling (path):\n",
    "    data_2 = pd.read_csv(path)\n",
    "    x_2 = data_2.drop('target_category', axis = 1).copy()\n",
    "    y_2 = data_2['target_category'].copy()\n",
    "    xtrain_2, xtest_2,  ytrain_2, ytest_2 = train_test_split(x_2, y_2, test_size=0.2)\n",
    "    logr_2 = LogisticRegression(max_iter=10000, class_weight='balanced', multi_class='auto')\n",
    "    scores_2 = cross_val_score(logr_2, x_2, y_2, cv=5)\n",
    "    logr_2.fit(xtrain_2, ytrain_2)\n",
    "    yhat_2 = logr_2.predict(xtest_2)\n",
    "    clf_2 = tree.DecisionTreeClassifier()\n",
    "    clf_2 = clf_2.fit(xtrain_2, ytrain_2)\n",
    "    ydt_2 = clf_2.predict(xtest_2)\n",
    "    neigh_2 = KNeighborsClassifier(n_neighbors=3)\n",
    "    neigh_2.fit(xtrain_2, ytrain_2)\n",
    "    yknn_2 = neigh_2.predict(xtest_2)\n",
    "    data_analyse_2 = pd.DataFrame(columns=['Real','Predicted_1','Predicted_2','Predicted_3'])\n",
    "    data_analyse_2['Real'] = ytest_2\n",
    "    data_analyse_2['Predicted_1'] = yhat_2\n",
    "    data_analyse_2['Predicted_2'] = ydt_2\n",
    "    data_analyse_2['Predicted_3'] = yknn_2\n",
    "\n",
    "\n",
    "    c1_2 =0\n",
    "    c2_2 =0\n",
    "    c3_2 =0\n",
    "    for i in data_analyse_2.index:\n",
    "        if data_analyse_2.loc[i]['Real'] == data_analyse_2.loc[i]['Predicted_1']:\n",
    "            c1_2+=1\n",
    "        if data_analyse_2.loc[i]['Real'] == data_analyse_2.loc[i]['Predicted_2']:\n",
    "            c2_2+=1\n",
    "        if data_analyse_2.loc[i]['Real'] == data_analyse_2.loc[i]['Predicted_3']:\n",
    "            c3_2+=1\n",
    "    print(c1_2,c2_2,c3_2,len(data_analyse_2))\n",
    "    data_analyse_2['Result_1'] = np.where(data_analyse_2['Real'] == data_analyse_2['Predicted_1'],\"well_classified\",\"misclassified\")\n",
    "    data_analyse_2['Result_2'] = np.where(data_analyse_2['Real'] == data_analyse_2['Predicted_2'],\"well_classified\",\"misclassified\")\n",
    "    data_analyse_2['Result_3'] = np.where(data_analyse_2['Real'] == data_analyse_2['Predicted_3'],\"well_classified\",\"misclassified\")\n",
    "    \n",
    "\n",
    "    fig = px.sunburst(data_analyse_2, path=['Real','Result_1'],values=np.ones(len(data_analyse_2)))\n",
    "    fig.show()\n",
    "\n",
    "    print('Accuracy score:',accuracy_score(ytest_2, yhat_2))\n",
    "    print(\"%0.2f accuracy with a standard deviation of %0.2f\" % (scores_2.mean(), scores_2.std()))\n",
    "    print('F1 score:',f1_score(ytest_2, yhat_2, average='weighted'))"
   ]
  },
  {
   "cell_type": "code",
   "execution_count": 321,
   "metadata": {},
   "outputs": [],
   "source": [
    "def with_oversampling(path):\n",
    "    data_2 = pd.read_csv(path)\n",
    "    x_2 = data_2.drop('target_category', axis = 1).copy()\n",
    "    y_2 = data_2['target_category'].copy()\n",
    "    oversample = SMOTE()\n",
    "    xtrain_2, xtest_2,  ytrain_2, ytest_2 = train_test_split(x_2, y_2, test_size=0.2)\n",
    "    xtrain_2, ytrain_2 = oversample.fit_resample(xtrain_2, ytrain_2)\n",
    "    logr_2 = LogisticRegression(max_iter=10000, multi_class='auto')\n",
    "    scores_2 = cross_val_score(logr_2, x_2, y_2, cv=5)\n",
    "    logr_2.fit(xtrain_2, ytrain_2)\n",
    "    yhat_2 = logr_2.predict(xtest_2)\n",
    "    clf_2 = tree.DecisionTreeClassifier()\n",
    "    clf_2 = clf_2.fit(xtrain_2, ytrain_2)\n",
    "    ydt_2 = clf_2.predict(xtest_2)\n",
    "    neigh_2 = KNeighborsClassifier(n_neighbors=3)\n",
    "    neigh_2.fit(xtrain_2, ytrain_2)\n",
    "    yknn_2 = neigh_2.predict(xtest_2)\n",
    "    data_analyse_2 = pd.DataFrame(columns=['Real','Predicted_1','Predicted_2','Predicted_3'])\n",
    "    data_analyse_2['Real'] = ytest_2\n",
    "    data_analyse_2['Predicted_1'] = yhat_2\n",
    "    data_analyse_2['Predicted_2'] = ydt_2\n",
    "    data_analyse_2['Predicted_3'] = yknn_2\n",
    "\n",
    "\n",
    "    c1_2 =0\n",
    "    c2_2 =0\n",
    "    c3_2 =0\n",
    "    for i in data_analyse_2.index:\n",
    "        if data_analyse_2.loc[i]['Real'] == data_analyse_2.loc[i]['Predicted_1']:\n",
    "            c1_2+=1\n",
    "        if data_analyse_2.loc[i]['Real'] == data_analyse_2.loc[i]['Predicted_2']:\n",
    "            c2_2+=1\n",
    "        if data_analyse_2.loc[i]['Real'] == data_analyse_2.loc[i]['Predicted_3']:\n",
    "            c3_2+=1\n",
    "    print(c1_2,c2_2,c3_2,len(data_analyse_2))\n",
    "    data_analyse_2['Result_1'] = np.where(data_analyse_2['Real'] == data_analyse_2['Predicted_1'],\"well_classified\",\"misclassified\")\n",
    "    data_analyse_2['Result_2'] = np.where(data_analyse_2['Real'] == data_analyse_2['Predicted_2'],\"well_classified\",\"misclassified\")\n",
    "    data_analyse_2['Result_3'] = np.where(data_analyse_2['Real'] == data_analyse_2['Predicted_3'],\"well_classified\",\"misclassified\")\n",
    "    \n",
    "\n",
    "    fig = px.sunburst(data_analyse_2, path=['Real','Result_1'],values=np.ones(len(data_analyse_2)))\n",
    "    fig.show()\n",
    "\n",
    "    print('Accuracy score:',accuracy_score(ytest_2, yhat_2))\n",
    "    print(\"%0.2f accuracy with a standard deviation of %0.2f\" % (scores_2.mean(), scores_2.std()))\n",
    "    print('F1 score:',f1_score(ytest_2, yhat_2, average='weighted'))"
   ]
  },
  {
   "cell_type": "code",
   "execution_count": 295,
   "metadata": {},
   "outputs": [
    {
     "name": "stdout",
     "output_type": "stream",
     "text": [
      "580 426 456 661\n"
     ]
    },
    {
     "data": {
      "application/vnd.plotly.v1+json": {
       "config": {
        "plotlyServerURL": "https://plot.ly"
       },
       "data": [
        {
         "branchvalues": "total",
         "domain": {
          "x": [
           0,
           1
          ],
          "y": [
           0,
           1
          ]
         },
         "hovertemplate": "labels=%{label}<br>value=%{value}<br>parent=%{parent}<br>id=%{id}<extra></extra>",
         "ids": [
          "computer vision/misclassified",
          "nlp/misclassified",
          "reinforcement learning/misclassified",
          "computer vision/well_classified",
          "nlp/well_classified",
          "reinforcement learning/well_classified",
          "computer vision",
          "nlp",
          "reinforcement learning"
         ],
         "labels": [
          "misclassified",
          "misclassified",
          "misclassified",
          "well_classified",
          "well_classified",
          "well_classified",
          "computer vision",
          "nlp",
          "reinforcement learning"
         ],
         "name": "",
         "parents": [
          "computer vision",
          "nlp",
          "reinforcement learning",
          "computer vision",
          "nlp",
          "reinforcement learning",
          "",
          "",
          ""
         ],
         "type": "sunburst",
         "values": [
          21,
          49,
          11,
          215,
          310,
          55,
          236,
          359,
          66
         ]
        }
       ],
       "layout": {
        "legend": {
         "tracegroupgap": 0
        },
        "margin": {
         "t": 60
        },
        "template": {
         "data": {
          "bar": [
           {
            "error_x": {
             "color": "#2a3f5f"
            },
            "error_y": {
             "color": "#2a3f5f"
            },
            "marker": {
             "line": {
              "color": "#E5ECF6",
              "width": 0.5
             },
             "pattern": {
              "fillmode": "overlay",
              "size": 10,
              "solidity": 0.2
             }
            },
            "type": "bar"
           }
          ],
          "barpolar": [
           {
            "marker": {
             "line": {
              "color": "#E5ECF6",
              "width": 0.5
             },
             "pattern": {
              "fillmode": "overlay",
              "size": 10,
              "solidity": 0.2
             }
            },
            "type": "barpolar"
           }
          ],
          "carpet": [
           {
            "aaxis": {
             "endlinecolor": "#2a3f5f",
             "gridcolor": "white",
             "linecolor": "white",
             "minorgridcolor": "white",
             "startlinecolor": "#2a3f5f"
            },
            "baxis": {
             "endlinecolor": "#2a3f5f",
             "gridcolor": "white",
             "linecolor": "white",
             "minorgridcolor": "white",
             "startlinecolor": "#2a3f5f"
            },
            "type": "carpet"
           }
          ],
          "choropleth": [
           {
            "colorbar": {
             "outlinewidth": 0,
             "ticks": ""
            },
            "type": "choropleth"
           }
          ],
          "contour": [
           {
            "colorbar": {
             "outlinewidth": 0,
             "ticks": ""
            },
            "colorscale": [
             [
              0,
              "#0d0887"
             ],
             [
              0.1111111111111111,
              "#46039f"
             ],
             [
              0.2222222222222222,
              "#7201a8"
             ],
             [
              0.3333333333333333,
              "#9c179e"
             ],
             [
              0.4444444444444444,
              "#bd3786"
             ],
             [
              0.5555555555555556,
              "#d8576b"
             ],
             [
              0.6666666666666666,
              "#ed7953"
             ],
             [
              0.7777777777777778,
              "#fb9f3a"
             ],
             [
              0.8888888888888888,
              "#fdca26"
             ],
             [
              1,
              "#f0f921"
             ]
            ],
            "type": "contour"
           }
          ],
          "contourcarpet": [
           {
            "colorbar": {
             "outlinewidth": 0,
             "ticks": ""
            },
            "type": "contourcarpet"
           }
          ],
          "heatmap": [
           {
            "colorbar": {
             "outlinewidth": 0,
             "ticks": ""
            },
            "colorscale": [
             [
              0,
              "#0d0887"
             ],
             [
              0.1111111111111111,
              "#46039f"
             ],
             [
              0.2222222222222222,
              "#7201a8"
             ],
             [
              0.3333333333333333,
              "#9c179e"
             ],
             [
              0.4444444444444444,
              "#bd3786"
             ],
             [
              0.5555555555555556,
              "#d8576b"
             ],
             [
              0.6666666666666666,
              "#ed7953"
             ],
             [
              0.7777777777777778,
              "#fb9f3a"
             ],
             [
              0.8888888888888888,
              "#fdca26"
             ],
             [
              1,
              "#f0f921"
             ]
            ],
            "type": "heatmap"
           }
          ],
          "heatmapgl": [
           {
            "colorbar": {
             "outlinewidth": 0,
             "ticks": ""
            },
            "colorscale": [
             [
              0,
              "#0d0887"
             ],
             [
              0.1111111111111111,
              "#46039f"
             ],
             [
              0.2222222222222222,
              "#7201a8"
             ],
             [
              0.3333333333333333,
              "#9c179e"
             ],
             [
              0.4444444444444444,
              "#bd3786"
             ],
             [
              0.5555555555555556,
              "#d8576b"
             ],
             [
              0.6666666666666666,
              "#ed7953"
             ],
             [
              0.7777777777777778,
              "#fb9f3a"
             ],
             [
              0.8888888888888888,
              "#fdca26"
             ],
             [
              1,
              "#f0f921"
             ]
            ],
            "type": "heatmapgl"
           }
          ],
          "histogram": [
           {
            "marker": {
             "pattern": {
              "fillmode": "overlay",
              "size": 10,
              "solidity": 0.2
             }
            },
            "type": "histogram"
           }
          ],
          "histogram2d": [
           {
            "colorbar": {
             "outlinewidth": 0,
             "ticks": ""
            },
            "colorscale": [
             [
              0,
              "#0d0887"
             ],
             [
              0.1111111111111111,
              "#46039f"
             ],
             [
              0.2222222222222222,
              "#7201a8"
             ],
             [
              0.3333333333333333,
              "#9c179e"
             ],
             [
              0.4444444444444444,
              "#bd3786"
             ],
             [
              0.5555555555555556,
              "#d8576b"
             ],
             [
              0.6666666666666666,
              "#ed7953"
             ],
             [
              0.7777777777777778,
              "#fb9f3a"
             ],
             [
              0.8888888888888888,
              "#fdca26"
             ],
             [
              1,
              "#f0f921"
             ]
            ],
            "type": "histogram2d"
           }
          ],
          "histogram2dcontour": [
           {
            "colorbar": {
             "outlinewidth": 0,
             "ticks": ""
            },
            "colorscale": [
             [
              0,
              "#0d0887"
             ],
             [
              0.1111111111111111,
              "#46039f"
             ],
             [
              0.2222222222222222,
              "#7201a8"
             ],
             [
              0.3333333333333333,
              "#9c179e"
             ],
             [
              0.4444444444444444,
              "#bd3786"
             ],
             [
              0.5555555555555556,
              "#d8576b"
             ],
             [
              0.6666666666666666,
              "#ed7953"
             ],
             [
              0.7777777777777778,
              "#fb9f3a"
             ],
             [
              0.8888888888888888,
              "#fdca26"
             ],
             [
              1,
              "#f0f921"
             ]
            ],
            "type": "histogram2dcontour"
           }
          ],
          "mesh3d": [
           {
            "colorbar": {
             "outlinewidth": 0,
             "ticks": ""
            },
            "type": "mesh3d"
           }
          ],
          "parcoords": [
           {
            "line": {
             "colorbar": {
              "outlinewidth": 0,
              "ticks": ""
             }
            },
            "type": "parcoords"
           }
          ],
          "pie": [
           {
            "automargin": true,
            "type": "pie"
           }
          ],
          "scatter": [
           {
            "fillpattern": {
             "fillmode": "overlay",
             "size": 10,
             "solidity": 0.2
            },
            "type": "scatter"
           }
          ],
          "scatter3d": [
           {
            "line": {
             "colorbar": {
              "outlinewidth": 0,
              "ticks": ""
             }
            },
            "marker": {
             "colorbar": {
              "outlinewidth": 0,
              "ticks": ""
             }
            },
            "type": "scatter3d"
           }
          ],
          "scattercarpet": [
           {
            "marker": {
             "colorbar": {
              "outlinewidth": 0,
              "ticks": ""
             }
            },
            "type": "scattercarpet"
           }
          ],
          "scattergeo": [
           {
            "marker": {
             "colorbar": {
              "outlinewidth": 0,
              "ticks": ""
             }
            },
            "type": "scattergeo"
           }
          ],
          "scattergl": [
           {
            "marker": {
             "colorbar": {
              "outlinewidth": 0,
              "ticks": ""
             }
            },
            "type": "scattergl"
           }
          ],
          "scattermapbox": [
           {
            "marker": {
             "colorbar": {
              "outlinewidth": 0,
              "ticks": ""
             }
            },
            "type": "scattermapbox"
           }
          ],
          "scatterpolar": [
           {
            "marker": {
             "colorbar": {
              "outlinewidth": 0,
              "ticks": ""
             }
            },
            "type": "scatterpolar"
           }
          ],
          "scatterpolargl": [
           {
            "marker": {
             "colorbar": {
              "outlinewidth": 0,
              "ticks": ""
             }
            },
            "type": "scatterpolargl"
           }
          ],
          "scatterternary": [
           {
            "marker": {
             "colorbar": {
              "outlinewidth": 0,
              "ticks": ""
             }
            },
            "type": "scatterternary"
           }
          ],
          "surface": [
           {
            "colorbar": {
             "outlinewidth": 0,
             "ticks": ""
            },
            "colorscale": [
             [
              0,
              "#0d0887"
             ],
             [
              0.1111111111111111,
              "#46039f"
             ],
             [
              0.2222222222222222,
              "#7201a8"
             ],
             [
              0.3333333333333333,
              "#9c179e"
             ],
             [
              0.4444444444444444,
              "#bd3786"
             ],
             [
              0.5555555555555556,
              "#d8576b"
             ],
             [
              0.6666666666666666,
              "#ed7953"
             ],
             [
              0.7777777777777778,
              "#fb9f3a"
             ],
             [
              0.8888888888888888,
              "#fdca26"
             ],
             [
              1,
              "#f0f921"
             ]
            ],
            "type": "surface"
           }
          ],
          "table": [
           {
            "cells": {
             "fill": {
              "color": "#EBF0F8"
             },
             "line": {
              "color": "white"
             }
            },
            "header": {
             "fill": {
              "color": "#C8D4E3"
             },
             "line": {
              "color": "white"
             }
            },
            "type": "table"
           }
          ]
         },
         "layout": {
          "annotationdefaults": {
           "arrowcolor": "#2a3f5f",
           "arrowhead": 0,
           "arrowwidth": 1
          },
          "autotypenumbers": "strict",
          "coloraxis": {
           "colorbar": {
            "outlinewidth": 0,
            "ticks": ""
           }
          },
          "colorscale": {
           "diverging": [
            [
             0,
             "#8e0152"
            ],
            [
             0.1,
             "#c51b7d"
            ],
            [
             0.2,
             "#de77ae"
            ],
            [
             0.3,
             "#f1b6da"
            ],
            [
             0.4,
             "#fde0ef"
            ],
            [
             0.5,
             "#f7f7f7"
            ],
            [
             0.6,
             "#e6f5d0"
            ],
            [
             0.7,
             "#b8e186"
            ],
            [
             0.8,
             "#7fbc41"
            ],
            [
             0.9,
             "#4d9221"
            ],
            [
             1,
             "#276419"
            ]
           ],
           "sequential": [
            [
             0,
             "#0d0887"
            ],
            [
             0.1111111111111111,
             "#46039f"
            ],
            [
             0.2222222222222222,
             "#7201a8"
            ],
            [
             0.3333333333333333,
             "#9c179e"
            ],
            [
             0.4444444444444444,
             "#bd3786"
            ],
            [
             0.5555555555555556,
             "#d8576b"
            ],
            [
             0.6666666666666666,
             "#ed7953"
            ],
            [
             0.7777777777777778,
             "#fb9f3a"
            ],
            [
             0.8888888888888888,
             "#fdca26"
            ],
            [
             1,
             "#f0f921"
            ]
           ],
           "sequentialminus": [
            [
             0,
             "#0d0887"
            ],
            [
             0.1111111111111111,
             "#46039f"
            ],
            [
             0.2222222222222222,
             "#7201a8"
            ],
            [
             0.3333333333333333,
             "#9c179e"
            ],
            [
             0.4444444444444444,
             "#bd3786"
            ],
            [
             0.5555555555555556,
             "#d8576b"
            ],
            [
             0.6666666666666666,
             "#ed7953"
            ],
            [
             0.7777777777777778,
             "#fb9f3a"
            ],
            [
             0.8888888888888888,
             "#fdca26"
            ],
            [
             1,
             "#f0f921"
            ]
           ]
          },
          "colorway": [
           "#636efa",
           "#EF553B",
           "#00cc96",
           "#ab63fa",
           "#FFA15A",
           "#19d3f3",
           "#FF6692",
           "#B6E880",
           "#FF97FF",
           "#FECB52"
          ],
          "font": {
           "color": "#2a3f5f"
          },
          "geo": {
           "bgcolor": "white",
           "lakecolor": "white",
           "landcolor": "#E5ECF6",
           "showlakes": true,
           "showland": true,
           "subunitcolor": "white"
          },
          "hoverlabel": {
           "align": "left"
          },
          "hovermode": "closest",
          "mapbox": {
           "style": "light"
          },
          "paper_bgcolor": "white",
          "plot_bgcolor": "#E5ECF6",
          "polar": {
           "angularaxis": {
            "gridcolor": "white",
            "linecolor": "white",
            "ticks": ""
           },
           "bgcolor": "#E5ECF6",
           "radialaxis": {
            "gridcolor": "white",
            "linecolor": "white",
            "ticks": ""
           }
          },
          "scene": {
           "xaxis": {
            "backgroundcolor": "#E5ECF6",
            "gridcolor": "white",
            "gridwidth": 2,
            "linecolor": "white",
            "showbackground": true,
            "ticks": "",
            "zerolinecolor": "white"
           },
           "yaxis": {
            "backgroundcolor": "#E5ECF6",
            "gridcolor": "white",
            "gridwidth": 2,
            "linecolor": "white",
            "showbackground": true,
            "ticks": "",
            "zerolinecolor": "white"
           },
           "zaxis": {
            "backgroundcolor": "#E5ECF6",
            "gridcolor": "white",
            "gridwidth": 2,
            "linecolor": "white",
            "showbackground": true,
            "ticks": "",
            "zerolinecolor": "white"
           }
          },
          "shapedefaults": {
           "line": {
            "color": "#2a3f5f"
           }
          },
          "ternary": {
           "aaxis": {
            "gridcolor": "white",
            "linecolor": "white",
            "ticks": ""
           },
           "baxis": {
            "gridcolor": "white",
            "linecolor": "white",
            "ticks": ""
           },
           "bgcolor": "#E5ECF6",
           "caxis": {
            "gridcolor": "white",
            "linecolor": "white",
            "ticks": ""
           }
          },
          "title": {
           "x": 0.05
          },
          "xaxis": {
           "automargin": true,
           "gridcolor": "white",
           "linecolor": "white",
           "ticks": "",
           "title": {
            "standoff": 15
           },
           "zerolinecolor": "white",
           "zerolinewidth": 2
          },
          "yaxis": {
           "automargin": true,
           "gridcolor": "white",
           "linecolor": "white",
           "ticks": "",
           "title": {
            "standoff": 15
           },
           "zerolinecolor": "white",
           "zerolinewidth": 2
          }
         }
        }
       }
      }
     },
     "metadata": {},
     "output_type": "display_data"
    },
    {
     "name": "stdout",
     "output_type": "stream",
     "text": [
      "Accuracy score: 0.8774583963691377\n",
      "0.86 accuracy with a standard deviation of 0.03\n",
      "F1 score: 0.8791411829112372\n"
     ]
    }
   ],
   "source": [
    "without_oversampling(\"../data/domain_data.csv\")"
   ]
  },
  {
   "cell_type": "markdown",
   "metadata": {},
   "source": [
    "Percentage of misclassified samples :\n",
    "\n",
    "*  Reinforcement Learning ~ 16 %\n",
    "*  Nlp ~ 13 %\n",
    "*  Computer Vision ~ 8 %"
   ]
  },
  {
   "cell_type": "code",
   "execution_count": 323,
   "metadata": {},
   "outputs": [
    {
     "name": "stdout",
     "output_type": "stream",
     "text": [
      "599 415 430 661\n"
     ]
    },
    {
     "data": {
      "application/vnd.plotly.v1+json": {
       "config": {
        "plotlyServerURL": "https://plot.ly"
       },
       "data": [
        {
         "branchvalues": "total",
         "domain": {
          "x": [
           0,
           1
          ],
          "y": [
           0,
           1
          ]
         },
         "hovertemplate": "labels=%{label}<br>value=%{value}<br>parent=%{parent}<br>id=%{id}<extra></extra>",
         "ids": [
          "computer vision/misclassified",
          "nlp/misclassified",
          "reinforcement learning/misclassified",
          "computer vision/well_classified",
          "nlp/well_classified",
          "reinforcement learning/well_classified",
          "computer vision",
          "nlp",
          "reinforcement learning"
         ],
         "labels": [
          "misclassified",
          "misclassified",
          "misclassified",
          "well_classified",
          "well_classified",
          "well_classified",
          "computer vision",
          "nlp",
          "reinforcement learning"
         ],
         "name": "",
         "parents": [
          "computer vision",
          "nlp",
          "reinforcement learning",
          "computer vision",
          "nlp",
          "reinforcement learning",
          "",
          "",
          ""
         ],
         "type": "sunburst",
         "values": [
          18,
          34,
          10,
          216,
          328,
          55,
          234,
          362,
          65
         ]
        }
       ],
       "layout": {
        "legend": {
         "tracegroupgap": 0
        },
        "margin": {
         "t": 60
        },
        "template": {
         "data": {
          "bar": [
           {
            "error_x": {
             "color": "#2a3f5f"
            },
            "error_y": {
             "color": "#2a3f5f"
            },
            "marker": {
             "line": {
              "color": "#E5ECF6",
              "width": 0.5
             },
             "pattern": {
              "fillmode": "overlay",
              "size": 10,
              "solidity": 0.2
             }
            },
            "type": "bar"
           }
          ],
          "barpolar": [
           {
            "marker": {
             "line": {
              "color": "#E5ECF6",
              "width": 0.5
             },
             "pattern": {
              "fillmode": "overlay",
              "size": 10,
              "solidity": 0.2
             }
            },
            "type": "barpolar"
           }
          ],
          "carpet": [
           {
            "aaxis": {
             "endlinecolor": "#2a3f5f",
             "gridcolor": "white",
             "linecolor": "white",
             "minorgridcolor": "white",
             "startlinecolor": "#2a3f5f"
            },
            "baxis": {
             "endlinecolor": "#2a3f5f",
             "gridcolor": "white",
             "linecolor": "white",
             "minorgridcolor": "white",
             "startlinecolor": "#2a3f5f"
            },
            "type": "carpet"
           }
          ],
          "choropleth": [
           {
            "colorbar": {
             "outlinewidth": 0,
             "ticks": ""
            },
            "type": "choropleth"
           }
          ],
          "contour": [
           {
            "colorbar": {
             "outlinewidth": 0,
             "ticks": ""
            },
            "colorscale": [
             [
              0,
              "#0d0887"
             ],
             [
              0.1111111111111111,
              "#46039f"
             ],
             [
              0.2222222222222222,
              "#7201a8"
             ],
             [
              0.3333333333333333,
              "#9c179e"
             ],
             [
              0.4444444444444444,
              "#bd3786"
             ],
             [
              0.5555555555555556,
              "#d8576b"
             ],
             [
              0.6666666666666666,
              "#ed7953"
             ],
             [
              0.7777777777777778,
              "#fb9f3a"
             ],
             [
              0.8888888888888888,
              "#fdca26"
             ],
             [
              1,
              "#f0f921"
             ]
            ],
            "type": "contour"
           }
          ],
          "contourcarpet": [
           {
            "colorbar": {
             "outlinewidth": 0,
             "ticks": ""
            },
            "type": "contourcarpet"
           }
          ],
          "heatmap": [
           {
            "colorbar": {
             "outlinewidth": 0,
             "ticks": ""
            },
            "colorscale": [
             [
              0,
              "#0d0887"
             ],
             [
              0.1111111111111111,
              "#46039f"
             ],
             [
              0.2222222222222222,
              "#7201a8"
             ],
             [
              0.3333333333333333,
              "#9c179e"
             ],
             [
              0.4444444444444444,
              "#bd3786"
             ],
             [
              0.5555555555555556,
              "#d8576b"
             ],
             [
              0.6666666666666666,
              "#ed7953"
             ],
             [
              0.7777777777777778,
              "#fb9f3a"
             ],
             [
              0.8888888888888888,
              "#fdca26"
             ],
             [
              1,
              "#f0f921"
             ]
            ],
            "type": "heatmap"
           }
          ],
          "heatmapgl": [
           {
            "colorbar": {
             "outlinewidth": 0,
             "ticks": ""
            },
            "colorscale": [
             [
              0,
              "#0d0887"
             ],
             [
              0.1111111111111111,
              "#46039f"
             ],
             [
              0.2222222222222222,
              "#7201a8"
             ],
             [
              0.3333333333333333,
              "#9c179e"
             ],
             [
              0.4444444444444444,
              "#bd3786"
             ],
             [
              0.5555555555555556,
              "#d8576b"
             ],
             [
              0.6666666666666666,
              "#ed7953"
             ],
             [
              0.7777777777777778,
              "#fb9f3a"
             ],
             [
              0.8888888888888888,
              "#fdca26"
             ],
             [
              1,
              "#f0f921"
             ]
            ],
            "type": "heatmapgl"
           }
          ],
          "histogram": [
           {
            "marker": {
             "pattern": {
              "fillmode": "overlay",
              "size": 10,
              "solidity": 0.2
             }
            },
            "type": "histogram"
           }
          ],
          "histogram2d": [
           {
            "colorbar": {
             "outlinewidth": 0,
             "ticks": ""
            },
            "colorscale": [
             [
              0,
              "#0d0887"
             ],
             [
              0.1111111111111111,
              "#46039f"
             ],
             [
              0.2222222222222222,
              "#7201a8"
             ],
             [
              0.3333333333333333,
              "#9c179e"
             ],
             [
              0.4444444444444444,
              "#bd3786"
             ],
             [
              0.5555555555555556,
              "#d8576b"
             ],
             [
              0.6666666666666666,
              "#ed7953"
             ],
             [
              0.7777777777777778,
              "#fb9f3a"
             ],
             [
              0.8888888888888888,
              "#fdca26"
             ],
             [
              1,
              "#f0f921"
             ]
            ],
            "type": "histogram2d"
           }
          ],
          "histogram2dcontour": [
           {
            "colorbar": {
             "outlinewidth": 0,
             "ticks": ""
            },
            "colorscale": [
             [
              0,
              "#0d0887"
             ],
             [
              0.1111111111111111,
              "#46039f"
             ],
             [
              0.2222222222222222,
              "#7201a8"
             ],
             [
              0.3333333333333333,
              "#9c179e"
             ],
             [
              0.4444444444444444,
              "#bd3786"
             ],
             [
              0.5555555555555556,
              "#d8576b"
             ],
             [
              0.6666666666666666,
              "#ed7953"
             ],
             [
              0.7777777777777778,
              "#fb9f3a"
             ],
             [
              0.8888888888888888,
              "#fdca26"
             ],
             [
              1,
              "#f0f921"
             ]
            ],
            "type": "histogram2dcontour"
           }
          ],
          "mesh3d": [
           {
            "colorbar": {
             "outlinewidth": 0,
             "ticks": ""
            },
            "type": "mesh3d"
           }
          ],
          "parcoords": [
           {
            "line": {
             "colorbar": {
              "outlinewidth": 0,
              "ticks": ""
             }
            },
            "type": "parcoords"
           }
          ],
          "pie": [
           {
            "automargin": true,
            "type": "pie"
           }
          ],
          "scatter": [
           {
            "fillpattern": {
             "fillmode": "overlay",
             "size": 10,
             "solidity": 0.2
            },
            "type": "scatter"
           }
          ],
          "scatter3d": [
           {
            "line": {
             "colorbar": {
              "outlinewidth": 0,
              "ticks": ""
             }
            },
            "marker": {
             "colorbar": {
              "outlinewidth": 0,
              "ticks": ""
             }
            },
            "type": "scatter3d"
           }
          ],
          "scattercarpet": [
           {
            "marker": {
             "colorbar": {
              "outlinewidth": 0,
              "ticks": ""
             }
            },
            "type": "scattercarpet"
           }
          ],
          "scattergeo": [
           {
            "marker": {
             "colorbar": {
              "outlinewidth": 0,
              "ticks": ""
             }
            },
            "type": "scattergeo"
           }
          ],
          "scattergl": [
           {
            "marker": {
             "colorbar": {
              "outlinewidth": 0,
              "ticks": ""
             }
            },
            "type": "scattergl"
           }
          ],
          "scattermapbox": [
           {
            "marker": {
             "colorbar": {
              "outlinewidth": 0,
              "ticks": ""
             }
            },
            "type": "scattermapbox"
           }
          ],
          "scatterpolar": [
           {
            "marker": {
             "colorbar": {
              "outlinewidth": 0,
              "ticks": ""
             }
            },
            "type": "scatterpolar"
           }
          ],
          "scatterpolargl": [
           {
            "marker": {
             "colorbar": {
              "outlinewidth": 0,
              "ticks": ""
             }
            },
            "type": "scatterpolargl"
           }
          ],
          "scatterternary": [
           {
            "marker": {
             "colorbar": {
              "outlinewidth": 0,
              "ticks": ""
             }
            },
            "type": "scatterternary"
           }
          ],
          "surface": [
           {
            "colorbar": {
             "outlinewidth": 0,
             "ticks": ""
            },
            "colorscale": [
             [
              0,
              "#0d0887"
             ],
             [
              0.1111111111111111,
              "#46039f"
             ],
             [
              0.2222222222222222,
              "#7201a8"
             ],
             [
              0.3333333333333333,
              "#9c179e"
             ],
             [
              0.4444444444444444,
              "#bd3786"
             ],
             [
              0.5555555555555556,
              "#d8576b"
             ],
             [
              0.6666666666666666,
              "#ed7953"
             ],
             [
              0.7777777777777778,
              "#fb9f3a"
             ],
             [
              0.8888888888888888,
              "#fdca26"
             ],
             [
              1,
              "#f0f921"
             ]
            ],
            "type": "surface"
           }
          ],
          "table": [
           {
            "cells": {
             "fill": {
              "color": "#EBF0F8"
             },
             "line": {
              "color": "white"
             }
            },
            "header": {
             "fill": {
              "color": "#C8D4E3"
             },
             "line": {
              "color": "white"
             }
            },
            "type": "table"
           }
          ]
         },
         "layout": {
          "annotationdefaults": {
           "arrowcolor": "#2a3f5f",
           "arrowhead": 0,
           "arrowwidth": 1
          },
          "autotypenumbers": "strict",
          "coloraxis": {
           "colorbar": {
            "outlinewidth": 0,
            "ticks": ""
           }
          },
          "colorscale": {
           "diverging": [
            [
             0,
             "#8e0152"
            ],
            [
             0.1,
             "#c51b7d"
            ],
            [
             0.2,
             "#de77ae"
            ],
            [
             0.3,
             "#f1b6da"
            ],
            [
             0.4,
             "#fde0ef"
            ],
            [
             0.5,
             "#f7f7f7"
            ],
            [
             0.6,
             "#e6f5d0"
            ],
            [
             0.7,
             "#b8e186"
            ],
            [
             0.8,
             "#7fbc41"
            ],
            [
             0.9,
             "#4d9221"
            ],
            [
             1,
             "#276419"
            ]
           ],
           "sequential": [
            [
             0,
             "#0d0887"
            ],
            [
             0.1111111111111111,
             "#46039f"
            ],
            [
             0.2222222222222222,
             "#7201a8"
            ],
            [
             0.3333333333333333,
             "#9c179e"
            ],
            [
             0.4444444444444444,
             "#bd3786"
            ],
            [
             0.5555555555555556,
             "#d8576b"
            ],
            [
             0.6666666666666666,
             "#ed7953"
            ],
            [
             0.7777777777777778,
             "#fb9f3a"
            ],
            [
             0.8888888888888888,
             "#fdca26"
            ],
            [
             1,
             "#f0f921"
            ]
           ],
           "sequentialminus": [
            [
             0,
             "#0d0887"
            ],
            [
             0.1111111111111111,
             "#46039f"
            ],
            [
             0.2222222222222222,
             "#7201a8"
            ],
            [
             0.3333333333333333,
             "#9c179e"
            ],
            [
             0.4444444444444444,
             "#bd3786"
            ],
            [
             0.5555555555555556,
             "#d8576b"
            ],
            [
             0.6666666666666666,
             "#ed7953"
            ],
            [
             0.7777777777777778,
             "#fb9f3a"
            ],
            [
             0.8888888888888888,
             "#fdca26"
            ],
            [
             1,
             "#f0f921"
            ]
           ]
          },
          "colorway": [
           "#636efa",
           "#EF553B",
           "#00cc96",
           "#ab63fa",
           "#FFA15A",
           "#19d3f3",
           "#FF6692",
           "#B6E880",
           "#FF97FF",
           "#FECB52"
          ],
          "font": {
           "color": "#2a3f5f"
          },
          "geo": {
           "bgcolor": "white",
           "lakecolor": "white",
           "landcolor": "#E5ECF6",
           "showlakes": true,
           "showland": true,
           "subunitcolor": "white"
          },
          "hoverlabel": {
           "align": "left"
          },
          "hovermode": "closest",
          "mapbox": {
           "style": "light"
          },
          "paper_bgcolor": "white",
          "plot_bgcolor": "#E5ECF6",
          "polar": {
           "angularaxis": {
            "gridcolor": "white",
            "linecolor": "white",
            "ticks": ""
           },
           "bgcolor": "#E5ECF6",
           "radialaxis": {
            "gridcolor": "white",
            "linecolor": "white",
            "ticks": ""
           }
          },
          "scene": {
           "xaxis": {
            "backgroundcolor": "#E5ECF6",
            "gridcolor": "white",
            "gridwidth": 2,
            "linecolor": "white",
            "showbackground": true,
            "ticks": "",
            "zerolinecolor": "white"
           },
           "yaxis": {
            "backgroundcolor": "#E5ECF6",
            "gridcolor": "white",
            "gridwidth": 2,
            "linecolor": "white",
            "showbackground": true,
            "ticks": "",
            "zerolinecolor": "white"
           },
           "zaxis": {
            "backgroundcolor": "#E5ECF6",
            "gridcolor": "white",
            "gridwidth": 2,
            "linecolor": "white",
            "showbackground": true,
            "ticks": "",
            "zerolinecolor": "white"
           }
          },
          "shapedefaults": {
           "line": {
            "color": "#2a3f5f"
           }
          },
          "ternary": {
           "aaxis": {
            "gridcolor": "white",
            "linecolor": "white",
            "ticks": ""
           },
           "baxis": {
            "gridcolor": "white",
            "linecolor": "white",
            "ticks": ""
           },
           "bgcolor": "#E5ECF6",
           "caxis": {
            "gridcolor": "white",
            "linecolor": "white",
            "ticks": ""
           }
          },
          "title": {
           "x": 0.05
          },
          "xaxis": {
           "automargin": true,
           "gridcolor": "white",
           "linecolor": "white",
           "ticks": "",
           "title": {
            "standoff": 15
           },
           "zerolinecolor": "white",
           "zerolinewidth": 2
          },
          "yaxis": {
           "automargin": true,
           "gridcolor": "white",
           "linecolor": "white",
           "ticks": "",
           "title": {
            "standoff": 15
           },
           "zerolinecolor": "white",
           "zerolinewidth": 2
          }
         }
        }
       }
      }
     },
     "metadata": {},
     "output_type": "display_data"
    },
    {
     "name": "stdout",
     "output_type": "stream",
     "text": [
      "Accuracy score: 0.9062027231467473\n",
      "0.88 accuracy with a standard deviation of 0.02\n",
      "F1 score: 0.9064893418317701\n"
     ]
    }
   ],
   "source": [
    "with_oversampling(\"../data/domain_data.csv\")"
   ]
  },
  {
   "cell_type": "markdown",
   "metadata": {},
   "source": [
    "Percentage of misclassified samples :\n",
    "\n",
    "*  Nlp ~ 11 %\n",
    "*  Reinforcement Learning ~ 6 %\n",
    "*  Computer Vision ~ 6 %"
   ]
  },
  {
   "cell_type": "code",
   "execution_count": 297,
   "metadata": {},
   "outputs": [
    {
     "name": "stdout",
     "output_type": "stream",
     "text": [
      "450 286 328 592\n"
     ]
    },
    {
     "data": {
      "application/vnd.plotly.v1+json": {
       "config": {
        "plotlyServerURL": "https://plot.ly"
       },
       "data": [
        {
         "branchvalues": "total",
         "domain": {
          "x": [
           0,
           1
          ],
          "y": [
           0,
           1
          ]
         },
         "hovertemplate": "labels=%{label}<br>value=%{value}<br>parent=%{parent}<br>id=%{id}<extra></extra>",
         "ids": [
          "classification/misclassified",
          "clustering/misclassified",
          "regression/misclassified",
          "classification/well_classified",
          "clustering/well_classified",
          "regression/well_classified",
          "classification",
          "clustering",
          "regression"
         ],
         "labels": [
          "misclassified",
          "misclassified",
          "misclassified",
          "well_classified",
          "well_classified",
          "well_classified",
          "classification",
          "clustering",
          "regression"
         ],
         "name": "",
         "parents": [
          "classification",
          "clustering",
          "regression",
          "classification",
          "clustering",
          "regression",
          "",
          "",
          ""
         ],
         "type": "sunburst",
         "values": [
          46,
          43,
          53,
          117,
          165,
          168,
          163,
          208,
          221
         ]
        }
       ],
       "layout": {
        "legend": {
         "tracegroupgap": 0
        },
        "margin": {
         "t": 60
        },
        "template": {
         "data": {
          "bar": [
           {
            "error_x": {
             "color": "#2a3f5f"
            },
            "error_y": {
             "color": "#2a3f5f"
            },
            "marker": {
             "line": {
              "color": "#E5ECF6",
              "width": 0.5
             },
             "pattern": {
              "fillmode": "overlay",
              "size": 10,
              "solidity": 0.2
             }
            },
            "type": "bar"
           }
          ],
          "barpolar": [
           {
            "marker": {
             "line": {
              "color": "#E5ECF6",
              "width": 0.5
             },
             "pattern": {
              "fillmode": "overlay",
              "size": 10,
              "solidity": 0.2
             }
            },
            "type": "barpolar"
           }
          ],
          "carpet": [
           {
            "aaxis": {
             "endlinecolor": "#2a3f5f",
             "gridcolor": "white",
             "linecolor": "white",
             "minorgridcolor": "white",
             "startlinecolor": "#2a3f5f"
            },
            "baxis": {
             "endlinecolor": "#2a3f5f",
             "gridcolor": "white",
             "linecolor": "white",
             "minorgridcolor": "white",
             "startlinecolor": "#2a3f5f"
            },
            "type": "carpet"
           }
          ],
          "choropleth": [
           {
            "colorbar": {
             "outlinewidth": 0,
             "ticks": ""
            },
            "type": "choropleth"
           }
          ],
          "contour": [
           {
            "colorbar": {
             "outlinewidth": 0,
             "ticks": ""
            },
            "colorscale": [
             [
              0,
              "#0d0887"
             ],
             [
              0.1111111111111111,
              "#46039f"
             ],
             [
              0.2222222222222222,
              "#7201a8"
             ],
             [
              0.3333333333333333,
              "#9c179e"
             ],
             [
              0.4444444444444444,
              "#bd3786"
             ],
             [
              0.5555555555555556,
              "#d8576b"
             ],
             [
              0.6666666666666666,
              "#ed7953"
             ],
             [
              0.7777777777777778,
              "#fb9f3a"
             ],
             [
              0.8888888888888888,
              "#fdca26"
             ],
             [
              1,
              "#f0f921"
             ]
            ],
            "type": "contour"
           }
          ],
          "contourcarpet": [
           {
            "colorbar": {
             "outlinewidth": 0,
             "ticks": ""
            },
            "type": "contourcarpet"
           }
          ],
          "heatmap": [
           {
            "colorbar": {
             "outlinewidth": 0,
             "ticks": ""
            },
            "colorscale": [
             [
              0,
              "#0d0887"
             ],
             [
              0.1111111111111111,
              "#46039f"
             ],
             [
              0.2222222222222222,
              "#7201a8"
             ],
             [
              0.3333333333333333,
              "#9c179e"
             ],
             [
              0.4444444444444444,
              "#bd3786"
             ],
             [
              0.5555555555555556,
              "#d8576b"
             ],
             [
              0.6666666666666666,
              "#ed7953"
             ],
             [
              0.7777777777777778,
              "#fb9f3a"
             ],
             [
              0.8888888888888888,
              "#fdca26"
             ],
             [
              1,
              "#f0f921"
             ]
            ],
            "type": "heatmap"
           }
          ],
          "heatmapgl": [
           {
            "colorbar": {
             "outlinewidth": 0,
             "ticks": ""
            },
            "colorscale": [
             [
              0,
              "#0d0887"
             ],
             [
              0.1111111111111111,
              "#46039f"
             ],
             [
              0.2222222222222222,
              "#7201a8"
             ],
             [
              0.3333333333333333,
              "#9c179e"
             ],
             [
              0.4444444444444444,
              "#bd3786"
             ],
             [
              0.5555555555555556,
              "#d8576b"
             ],
             [
              0.6666666666666666,
              "#ed7953"
             ],
             [
              0.7777777777777778,
              "#fb9f3a"
             ],
             [
              0.8888888888888888,
              "#fdca26"
             ],
             [
              1,
              "#f0f921"
             ]
            ],
            "type": "heatmapgl"
           }
          ],
          "histogram": [
           {
            "marker": {
             "pattern": {
              "fillmode": "overlay",
              "size": 10,
              "solidity": 0.2
             }
            },
            "type": "histogram"
           }
          ],
          "histogram2d": [
           {
            "colorbar": {
             "outlinewidth": 0,
             "ticks": ""
            },
            "colorscale": [
             [
              0,
              "#0d0887"
             ],
             [
              0.1111111111111111,
              "#46039f"
             ],
             [
              0.2222222222222222,
              "#7201a8"
             ],
             [
              0.3333333333333333,
              "#9c179e"
             ],
             [
              0.4444444444444444,
              "#bd3786"
             ],
             [
              0.5555555555555556,
              "#d8576b"
             ],
             [
              0.6666666666666666,
              "#ed7953"
             ],
             [
              0.7777777777777778,
              "#fb9f3a"
             ],
             [
              0.8888888888888888,
              "#fdca26"
             ],
             [
              1,
              "#f0f921"
             ]
            ],
            "type": "histogram2d"
           }
          ],
          "histogram2dcontour": [
           {
            "colorbar": {
             "outlinewidth": 0,
             "ticks": ""
            },
            "colorscale": [
             [
              0,
              "#0d0887"
             ],
             [
              0.1111111111111111,
              "#46039f"
             ],
             [
              0.2222222222222222,
              "#7201a8"
             ],
             [
              0.3333333333333333,
              "#9c179e"
             ],
             [
              0.4444444444444444,
              "#bd3786"
             ],
             [
              0.5555555555555556,
              "#d8576b"
             ],
             [
              0.6666666666666666,
              "#ed7953"
             ],
             [
              0.7777777777777778,
              "#fb9f3a"
             ],
             [
              0.8888888888888888,
              "#fdca26"
             ],
             [
              1,
              "#f0f921"
             ]
            ],
            "type": "histogram2dcontour"
           }
          ],
          "mesh3d": [
           {
            "colorbar": {
             "outlinewidth": 0,
             "ticks": ""
            },
            "type": "mesh3d"
           }
          ],
          "parcoords": [
           {
            "line": {
             "colorbar": {
              "outlinewidth": 0,
              "ticks": ""
             }
            },
            "type": "parcoords"
           }
          ],
          "pie": [
           {
            "automargin": true,
            "type": "pie"
           }
          ],
          "scatter": [
           {
            "fillpattern": {
             "fillmode": "overlay",
             "size": 10,
             "solidity": 0.2
            },
            "type": "scatter"
           }
          ],
          "scatter3d": [
           {
            "line": {
             "colorbar": {
              "outlinewidth": 0,
              "ticks": ""
             }
            },
            "marker": {
             "colorbar": {
              "outlinewidth": 0,
              "ticks": ""
             }
            },
            "type": "scatter3d"
           }
          ],
          "scattercarpet": [
           {
            "marker": {
             "colorbar": {
              "outlinewidth": 0,
              "ticks": ""
             }
            },
            "type": "scattercarpet"
           }
          ],
          "scattergeo": [
           {
            "marker": {
             "colorbar": {
              "outlinewidth": 0,
              "ticks": ""
             }
            },
            "type": "scattergeo"
           }
          ],
          "scattergl": [
           {
            "marker": {
             "colorbar": {
              "outlinewidth": 0,
              "ticks": ""
             }
            },
            "type": "scattergl"
           }
          ],
          "scattermapbox": [
           {
            "marker": {
             "colorbar": {
              "outlinewidth": 0,
              "ticks": ""
             }
            },
            "type": "scattermapbox"
           }
          ],
          "scatterpolar": [
           {
            "marker": {
             "colorbar": {
              "outlinewidth": 0,
              "ticks": ""
             }
            },
            "type": "scatterpolar"
           }
          ],
          "scatterpolargl": [
           {
            "marker": {
             "colorbar": {
              "outlinewidth": 0,
              "ticks": ""
             }
            },
            "type": "scatterpolargl"
           }
          ],
          "scatterternary": [
           {
            "marker": {
             "colorbar": {
              "outlinewidth": 0,
              "ticks": ""
             }
            },
            "type": "scatterternary"
           }
          ],
          "surface": [
           {
            "colorbar": {
             "outlinewidth": 0,
             "ticks": ""
            },
            "colorscale": [
             [
              0,
              "#0d0887"
             ],
             [
              0.1111111111111111,
              "#46039f"
             ],
             [
              0.2222222222222222,
              "#7201a8"
             ],
             [
              0.3333333333333333,
              "#9c179e"
             ],
             [
              0.4444444444444444,
              "#bd3786"
             ],
             [
              0.5555555555555556,
              "#d8576b"
             ],
             [
              0.6666666666666666,
              "#ed7953"
             ],
             [
              0.7777777777777778,
              "#fb9f3a"
             ],
             [
              0.8888888888888888,
              "#fdca26"
             ],
             [
              1,
              "#f0f921"
             ]
            ],
            "type": "surface"
           }
          ],
          "table": [
           {
            "cells": {
             "fill": {
              "color": "#EBF0F8"
             },
             "line": {
              "color": "white"
             }
            },
            "header": {
             "fill": {
              "color": "#C8D4E3"
             },
             "line": {
              "color": "white"
             }
            },
            "type": "table"
           }
          ]
         },
         "layout": {
          "annotationdefaults": {
           "arrowcolor": "#2a3f5f",
           "arrowhead": 0,
           "arrowwidth": 1
          },
          "autotypenumbers": "strict",
          "coloraxis": {
           "colorbar": {
            "outlinewidth": 0,
            "ticks": ""
           }
          },
          "colorscale": {
           "diverging": [
            [
             0,
             "#8e0152"
            ],
            [
             0.1,
             "#c51b7d"
            ],
            [
             0.2,
             "#de77ae"
            ],
            [
             0.3,
             "#f1b6da"
            ],
            [
             0.4,
             "#fde0ef"
            ],
            [
             0.5,
             "#f7f7f7"
            ],
            [
             0.6,
             "#e6f5d0"
            ],
            [
             0.7,
             "#b8e186"
            ],
            [
             0.8,
             "#7fbc41"
            ],
            [
             0.9,
             "#4d9221"
            ],
            [
             1,
             "#276419"
            ]
           ],
           "sequential": [
            [
             0,
             "#0d0887"
            ],
            [
             0.1111111111111111,
             "#46039f"
            ],
            [
             0.2222222222222222,
             "#7201a8"
            ],
            [
             0.3333333333333333,
             "#9c179e"
            ],
            [
             0.4444444444444444,
             "#bd3786"
            ],
            [
             0.5555555555555556,
             "#d8576b"
            ],
            [
             0.6666666666666666,
             "#ed7953"
            ],
            [
             0.7777777777777778,
             "#fb9f3a"
            ],
            [
             0.8888888888888888,
             "#fdca26"
            ],
            [
             1,
             "#f0f921"
            ]
           ],
           "sequentialminus": [
            [
             0,
             "#0d0887"
            ],
            [
             0.1111111111111111,
             "#46039f"
            ],
            [
             0.2222222222222222,
             "#7201a8"
            ],
            [
             0.3333333333333333,
             "#9c179e"
            ],
            [
             0.4444444444444444,
             "#bd3786"
            ],
            [
             0.5555555555555556,
             "#d8576b"
            ],
            [
             0.6666666666666666,
             "#ed7953"
            ],
            [
             0.7777777777777778,
             "#fb9f3a"
            ],
            [
             0.8888888888888888,
             "#fdca26"
            ],
            [
             1,
             "#f0f921"
            ]
           ]
          },
          "colorway": [
           "#636efa",
           "#EF553B",
           "#00cc96",
           "#ab63fa",
           "#FFA15A",
           "#19d3f3",
           "#FF6692",
           "#B6E880",
           "#FF97FF",
           "#FECB52"
          ],
          "font": {
           "color": "#2a3f5f"
          },
          "geo": {
           "bgcolor": "white",
           "lakecolor": "white",
           "landcolor": "#E5ECF6",
           "showlakes": true,
           "showland": true,
           "subunitcolor": "white"
          },
          "hoverlabel": {
           "align": "left"
          },
          "hovermode": "closest",
          "mapbox": {
           "style": "light"
          },
          "paper_bgcolor": "white",
          "plot_bgcolor": "#E5ECF6",
          "polar": {
           "angularaxis": {
            "gridcolor": "white",
            "linecolor": "white",
            "ticks": ""
           },
           "bgcolor": "#E5ECF6",
           "radialaxis": {
            "gridcolor": "white",
            "linecolor": "white",
            "ticks": ""
           }
          },
          "scene": {
           "xaxis": {
            "backgroundcolor": "#E5ECF6",
            "gridcolor": "white",
            "gridwidth": 2,
            "linecolor": "white",
            "showbackground": true,
            "ticks": "",
            "zerolinecolor": "white"
           },
           "yaxis": {
            "backgroundcolor": "#E5ECF6",
            "gridcolor": "white",
            "gridwidth": 2,
            "linecolor": "white",
            "showbackground": true,
            "ticks": "",
            "zerolinecolor": "white"
           },
           "zaxis": {
            "backgroundcolor": "#E5ECF6",
            "gridcolor": "white",
            "gridwidth": 2,
            "linecolor": "white",
            "showbackground": true,
            "ticks": "",
            "zerolinecolor": "white"
           }
          },
          "shapedefaults": {
           "line": {
            "color": "#2a3f5f"
           }
          },
          "ternary": {
           "aaxis": {
            "gridcolor": "white",
            "linecolor": "white",
            "ticks": ""
           },
           "baxis": {
            "gridcolor": "white",
            "linecolor": "white",
            "ticks": ""
           },
           "bgcolor": "#E5ECF6",
           "caxis": {
            "gridcolor": "white",
            "linecolor": "white",
            "ticks": ""
           }
          },
          "title": {
           "x": 0.05
          },
          "xaxis": {
           "automargin": true,
           "gridcolor": "white",
           "linecolor": "white",
           "ticks": "",
           "title": {
            "standoff": 15
           },
           "zerolinecolor": "white",
           "zerolinewidth": 2
          },
          "yaxis": {
           "automargin": true,
           "gridcolor": "white",
           "linecolor": "white",
           "ticks": "",
           "title": {
            "standoff": 15
           },
           "zerolinecolor": "white",
           "zerolinewidth": 2
          }
         }
        }
       }
      }
     },
     "metadata": {},
     "output_type": "display_data"
    },
    {
     "name": "stdout",
     "output_type": "stream",
     "text": [
      "Accuracy score: 0.7601351351351351\n",
      "0.76 accuracy with a standard deviation of 0.03\n",
      "F1 score: 0.7619230834526061\n"
     ]
    }
   ],
   "source": [
    "without_oversampling(\"../data/technique_data.csv\")"
   ]
  },
  {
   "cell_type": "markdown",
   "metadata": {},
   "source": [
    "Percentage of misclassified samples :\n",
    "\n",
    "*  Regression ~ 20.6 %\n",
    "*  Classification ~ 20.5 %\n",
    "*  Clustering ~ 20.2 %"
   ]
  },
  {
   "cell_type": "code",
   "execution_count": 322,
   "metadata": {},
   "outputs": [
    {
     "name": "stdout",
     "output_type": "stream",
     "text": [
      "475 294 326 592\n"
     ]
    },
    {
     "data": {
      "application/vnd.plotly.v1+json": {
       "config": {
        "plotlyServerURL": "https://plot.ly"
       },
       "data": [
        {
         "branchvalues": "total",
         "domain": {
          "x": [
           0,
           1
          ],
          "y": [
           0,
           1
          ]
         },
         "hovertemplate": "labels=%{label}<br>value=%{value}<br>parent=%{parent}<br>id=%{id}<extra></extra>",
         "ids": [
          "classification/misclassified",
          "clustering/misclassified",
          "regression/misclassified",
          "classification/well_classified",
          "clustering/well_classified",
          "regression/well_classified",
          "classification",
          "clustering",
          "regression"
         ],
         "labels": [
          "misclassified",
          "misclassified",
          "misclassified",
          "well_classified",
          "well_classified",
          "well_classified",
          "classification",
          "clustering",
          "regression"
         ],
         "name": "",
         "parents": [
          "classification",
          "clustering",
          "regression",
          "classification",
          "clustering",
          "regression",
          "",
          "",
          ""
         ],
         "type": "sunburst",
         "values": [
          37,
          36,
          44,
          126,
          170,
          179,
          163,
          206,
          223
         ]
        }
       ],
       "layout": {
        "legend": {
         "tracegroupgap": 0
        },
        "margin": {
         "t": 60
        },
        "template": {
         "data": {
          "bar": [
           {
            "error_x": {
             "color": "#2a3f5f"
            },
            "error_y": {
             "color": "#2a3f5f"
            },
            "marker": {
             "line": {
              "color": "#E5ECF6",
              "width": 0.5
             },
             "pattern": {
              "fillmode": "overlay",
              "size": 10,
              "solidity": 0.2
             }
            },
            "type": "bar"
           }
          ],
          "barpolar": [
           {
            "marker": {
             "line": {
              "color": "#E5ECF6",
              "width": 0.5
             },
             "pattern": {
              "fillmode": "overlay",
              "size": 10,
              "solidity": 0.2
             }
            },
            "type": "barpolar"
           }
          ],
          "carpet": [
           {
            "aaxis": {
             "endlinecolor": "#2a3f5f",
             "gridcolor": "white",
             "linecolor": "white",
             "minorgridcolor": "white",
             "startlinecolor": "#2a3f5f"
            },
            "baxis": {
             "endlinecolor": "#2a3f5f",
             "gridcolor": "white",
             "linecolor": "white",
             "minorgridcolor": "white",
             "startlinecolor": "#2a3f5f"
            },
            "type": "carpet"
           }
          ],
          "choropleth": [
           {
            "colorbar": {
             "outlinewidth": 0,
             "ticks": ""
            },
            "type": "choropleth"
           }
          ],
          "contour": [
           {
            "colorbar": {
             "outlinewidth": 0,
             "ticks": ""
            },
            "colorscale": [
             [
              0,
              "#0d0887"
             ],
             [
              0.1111111111111111,
              "#46039f"
             ],
             [
              0.2222222222222222,
              "#7201a8"
             ],
             [
              0.3333333333333333,
              "#9c179e"
             ],
             [
              0.4444444444444444,
              "#bd3786"
             ],
             [
              0.5555555555555556,
              "#d8576b"
             ],
             [
              0.6666666666666666,
              "#ed7953"
             ],
             [
              0.7777777777777778,
              "#fb9f3a"
             ],
             [
              0.8888888888888888,
              "#fdca26"
             ],
             [
              1,
              "#f0f921"
             ]
            ],
            "type": "contour"
           }
          ],
          "contourcarpet": [
           {
            "colorbar": {
             "outlinewidth": 0,
             "ticks": ""
            },
            "type": "contourcarpet"
           }
          ],
          "heatmap": [
           {
            "colorbar": {
             "outlinewidth": 0,
             "ticks": ""
            },
            "colorscale": [
             [
              0,
              "#0d0887"
             ],
             [
              0.1111111111111111,
              "#46039f"
             ],
             [
              0.2222222222222222,
              "#7201a8"
             ],
             [
              0.3333333333333333,
              "#9c179e"
             ],
             [
              0.4444444444444444,
              "#bd3786"
             ],
             [
              0.5555555555555556,
              "#d8576b"
             ],
             [
              0.6666666666666666,
              "#ed7953"
             ],
             [
              0.7777777777777778,
              "#fb9f3a"
             ],
             [
              0.8888888888888888,
              "#fdca26"
             ],
             [
              1,
              "#f0f921"
             ]
            ],
            "type": "heatmap"
           }
          ],
          "heatmapgl": [
           {
            "colorbar": {
             "outlinewidth": 0,
             "ticks": ""
            },
            "colorscale": [
             [
              0,
              "#0d0887"
             ],
             [
              0.1111111111111111,
              "#46039f"
             ],
             [
              0.2222222222222222,
              "#7201a8"
             ],
             [
              0.3333333333333333,
              "#9c179e"
             ],
             [
              0.4444444444444444,
              "#bd3786"
             ],
             [
              0.5555555555555556,
              "#d8576b"
             ],
             [
              0.6666666666666666,
              "#ed7953"
             ],
             [
              0.7777777777777778,
              "#fb9f3a"
             ],
             [
              0.8888888888888888,
              "#fdca26"
             ],
             [
              1,
              "#f0f921"
             ]
            ],
            "type": "heatmapgl"
           }
          ],
          "histogram": [
           {
            "marker": {
             "pattern": {
              "fillmode": "overlay",
              "size": 10,
              "solidity": 0.2
             }
            },
            "type": "histogram"
           }
          ],
          "histogram2d": [
           {
            "colorbar": {
             "outlinewidth": 0,
             "ticks": ""
            },
            "colorscale": [
             [
              0,
              "#0d0887"
             ],
             [
              0.1111111111111111,
              "#46039f"
             ],
             [
              0.2222222222222222,
              "#7201a8"
             ],
             [
              0.3333333333333333,
              "#9c179e"
             ],
             [
              0.4444444444444444,
              "#bd3786"
             ],
             [
              0.5555555555555556,
              "#d8576b"
             ],
             [
              0.6666666666666666,
              "#ed7953"
             ],
             [
              0.7777777777777778,
              "#fb9f3a"
             ],
             [
              0.8888888888888888,
              "#fdca26"
             ],
             [
              1,
              "#f0f921"
             ]
            ],
            "type": "histogram2d"
           }
          ],
          "histogram2dcontour": [
           {
            "colorbar": {
             "outlinewidth": 0,
             "ticks": ""
            },
            "colorscale": [
             [
              0,
              "#0d0887"
             ],
             [
              0.1111111111111111,
              "#46039f"
             ],
             [
              0.2222222222222222,
              "#7201a8"
             ],
             [
              0.3333333333333333,
              "#9c179e"
             ],
             [
              0.4444444444444444,
              "#bd3786"
             ],
             [
              0.5555555555555556,
              "#d8576b"
             ],
             [
              0.6666666666666666,
              "#ed7953"
             ],
             [
              0.7777777777777778,
              "#fb9f3a"
             ],
             [
              0.8888888888888888,
              "#fdca26"
             ],
             [
              1,
              "#f0f921"
             ]
            ],
            "type": "histogram2dcontour"
           }
          ],
          "mesh3d": [
           {
            "colorbar": {
             "outlinewidth": 0,
             "ticks": ""
            },
            "type": "mesh3d"
           }
          ],
          "parcoords": [
           {
            "line": {
             "colorbar": {
              "outlinewidth": 0,
              "ticks": ""
             }
            },
            "type": "parcoords"
           }
          ],
          "pie": [
           {
            "automargin": true,
            "type": "pie"
           }
          ],
          "scatter": [
           {
            "fillpattern": {
             "fillmode": "overlay",
             "size": 10,
             "solidity": 0.2
            },
            "type": "scatter"
           }
          ],
          "scatter3d": [
           {
            "line": {
             "colorbar": {
              "outlinewidth": 0,
              "ticks": ""
             }
            },
            "marker": {
             "colorbar": {
              "outlinewidth": 0,
              "ticks": ""
             }
            },
            "type": "scatter3d"
           }
          ],
          "scattercarpet": [
           {
            "marker": {
             "colorbar": {
              "outlinewidth": 0,
              "ticks": ""
             }
            },
            "type": "scattercarpet"
           }
          ],
          "scattergeo": [
           {
            "marker": {
             "colorbar": {
              "outlinewidth": 0,
              "ticks": ""
             }
            },
            "type": "scattergeo"
           }
          ],
          "scattergl": [
           {
            "marker": {
             "colorbar": {
              "outlinewidth": 0,
              "ticks": ""
             }
            },
            "type": "scattergl"
           }
          ],
          "scattermapbox": [
           {
            "marker": {
             "colorbar": {
              "outlinewidth": 0,
              "ticks": ""
             }
            },
            "type": "scattermapbox"
           }
          ],
          "scatterpolar": [
           {
            "marker": {
             "colorbar": {
              "outlinewidth": 0,
              "ticks": ""
             }
            },
            "type": "scatterpolar"
           }
          ],
          "scatterpolargl": [
           {
            "marker": {
             "colorbar": {
              "outlinewidth": 0,
              "ticks": ""
             }
            },
            "type": "scatterpolargl"
           }
          ],
          "scatterternary": [
           {
            "marker": {
             "colorbar": {
              "outlinewidth": 0,
              "ticks": ""
             }
            },
            "type": "scatterternary"
           }
          ],
          "surface": [
           {
            "colorbar": {
             "outlinewidth": 0,
             "ticks": ""
            },
            "colorscale": [
             [
              0,
              "#0d0887"
             ],
             [
              0.1111111111111111,
              "#46039f"
             ],
             [
              0.2222222222222222,
              "#7201a8"
             ],
             [
              0.3333333333333333,
              "#9c179e"
             ],
             [
              0.4444444444444444,
              "#bd3786"
             ],
             [
              0.5555555555555556,
              "#d8576b"
             ],
             [
              0.6666666666666666,
              "#ed7953"
             ],
             [
              0.7777777777777778,
              "#fb9f3a"
             ],
             [
              0.8888888888888888,
              "#fdca26"
             ],
             [
              1,
              "#f0f921"
             ]
            ],
            "type": "surface"
           }
          ],
          "table": [
           {
            "cells": {
             "fill": {
              "color": "#EBF0F8"
             },
             "line": {
              "color": "white"
             }
            },
            "header": {
             "fill": {
              "color": "#C8D4E3"
             },
             "line": {
              "color": "white"
             }
            },
            "type": "table"
           }
          ]
         },
         "layout": {
          "annotationdefaults": {
           "arrowcolor": "#2a3f5f",
           "arrowhead": 0,
           "arrowwidth": 1
          },
          "autotypenumbers": "strict",
          "coloraxis": {
           "colorbar": {
            "outlinewidth": 0,
            "ticks": ""
           }
          },
          "colorscale": {
           "diverging": [
            [
             0,
             "#8e0152"
            ],
            [
             0.1,
             "#c51b7d"
            ],
            [
             0.2,
             "#de77ae"
            ],
            [
             0.3,
             "#f1b6da"
            ],
            [
             0.4,
             "#fde0ef"
            ],
            [
             0.5,
             "#f7f7f7"
            ],
            [
             0.6,
             "#e6f5d0"
            ],
            [
             0.7,
             "#b8e186"
            ],
            [
             0.8,
             "#7fbc41"
            ],
            [
             0.9,
             "#4d9221"
            ],
            [
             1,
             "#276419"
            ]
           ],
           "sequential": [
            [
             0,
             "#0d0887"
            ],
            [
             0.1111111111111111,
             "#46039f"
            ],
            [
             0.2222222222222222,
             "#7201a8"
            ],
            [
             0.3333333333333333,
             "#9c179e"
            ],
            [
             0.4444444444444444,
             "#bd3786"
            ],
            [
             0.5555555555555556,
             "#d8576b"
            ],
            [
             0.6666666666666666,
             "#ed7953"
            ],
            [
             0.7777777777777778,
             "#fb9f3a"
            ],
            [
             0.8888888888888888,
             "#fdca26"
            ],
            [
             1,
             "#f0f921"
            ]
           ],
           "sequentialminus": [
            [
             0,
             "#0d0887"
            ],
            [
             0.1111111111111111,
             "#46039f"
            ],
            [
             0.2222222222222222,
             "#7201a8"
            ],
            [
             0.3333333333333333,
             "#9c179e"
            ],
            [
             0.4444444444444444,
             "#bd3786"
            ],
            [
             0.5555555555555556,
             "#d8576b"
            ],
            [
             0.6666666666666666,
             "#ed7953"
            ],
            [
             0.7777777777777778,
             "#fb9f3a"
            ],
            [
             0.8888888888888888,
             "#fdca26"
            ],
            [
             1,
             "#f0f921"
            ]
           ]
          },
          "colorway": [
           "#636efa",
           "#EF553B",
           "#00cc96",
           "#ab63fa",
           "#FFA15A",
           "#19d3f3",
           "#FF6692",
           "#B6E880",
           "#FF97FF",
           "#FECB52"
          ],
          "font": {
           "color": "#2a3f5f"
          },
          "geo": {
           "bgcolor": "white",
           "lakecolor": "white",
           "landcolor": "#E5ECF6",
           "showlakes": true,
           "showland": true,
           "subunitcolor": "white"
          },
          "hoverlabel": {
           "align": "left"
          },
          "hovermode": "closest",
          "mapbox": {
           "style": "light"
          },
          "paper_bgcolor": "white",
          "plot_bgcolor": "#E5ECF6",
          "polar": {
           "angularaxis": {
            "gridcolor": "white",
            "linecolor": "white",
            "ticks": ""
           },
           "bgcolor": "#E5ECF6",
           "radialaxis": {
            "gridcolor": "white",
            "linecolor": "white",
            "ticks": ""
           }
          },
          "scene": {
           "xaxis": {
            "backgroundcolor": "#E5ECF6",
            "gridcolor": "white",
            "gridwidth": 2,
            "linecolor": "white",
            "showbackground": true,
            "ticks": "",
            "zerolinecolor": "white"
           },
           "yaxis": {
            "backgroundcolor": "#E5ECF6",
            "gridcolor": "white",
            "gridwidth": 2,
            "linecolor": "white",
            "showbackground": true,
            "ticks": "",
            "zerolinecolor": "white"
           },
           "zaxis": {
            "backgroundcolor": "#E5ECF6",
            "gridcolor": "white",
            "gridwidth": 2,
            "linecolor": "white",
            "showbackground": true,
            "ticks": "",
            "zerolinecolor": "white"
           }
          },
          "shapedefaults": {
           "line": {
            "color": "#2a3f5f"
           }
          },
          "ternary": {
           "aaxis": {
            "gridcolor": "white",
            "linecolor": "white",
            "ticks": ""
           },
           "baxis": {
            "gridcolor": "white",
            "linecolor": "white",
            "ticks": ""
           },
           "bgcolor": "#E5ECF6",
           "caxis": {
            "gridcolor": "white",
            "linecolor": "white",
            "ticks": ""
           }
          },
          "title": {
           "x": 0.05
          },
          "xaxis": {
           "automargin": true,
           "gridcolor": "white",
           "linecolor": "white",
           "ticks": "",
           "title": {
            "standoff": 15
           },
           "zerolinecolor": "white",
           "zerolinewidth": 2
          },
          "yaxis": {
           "automargin": true,
           "gridcolor": "white",
           "linecolor": "white",
           "ticks": "",
           "title": {
            "standoff": 15
           },
           "zerolinecolor": "white",
           "zerolinewidth": 2
          }
         }
        }
       }
      }
     },
     "metadata": {},
     "output_type": "display_data"
    },
    {
     "name": "stdout",
     "output_type": "stream",
     "text": [
      "Accuracy score: 0.8023648648648649\n",
      "0.76 accuracy with a standard deviation of 0.02\n",
      "F1 score: 0.8028864994666574\n"
     ]
    }
   ],
   "source": [
    "with_oversampling(\"../data/technique_data.csv\")"
   ]
  },
  {
   "cell_type": "markdown",
   "metadata": {},
   "source": [
    "Percentage of misclassified samples :\n",
    "\n",
    "*  Classification ~ 20 %\n",
    "*  Clustering ~ 23 %\n",
    "*  Regression ~ 19 %"
   ]
  },
  {
   "cell_type": "code",
   "execution_count": 320,
   "metadata": {},
   "outputs": [
    {
     "name": "stdout",
     "output_type": "stream",
     "text": [
      "                        precision    recall  f1-score   support\n",
      "\n",
      "        classification       0.67      0.74      0.70       166\n",
      "            clustering       0.85      0.68      0.76       234\n",
      "       computer vision       0.82      0.90      0.86       248\n",
      "                   nlp       0.86      0.80      0.83       334\n",
      "            regression       0.74      0.77      0.75       205\n",
      "reinforcement learning       0.64      0.83      0.72        65\n",
      "\n",
      "              accuracy                           0.79      1252\n",
      "             macro avg       0.76      0.79      0.77      1252\n",
      "          weighted avg       0.79      0.79      0.79      1252\n",
      "\n"
     ]
    }
   ],
   "source": [
    "print(classification_report(ytest, yhat))"
   ]
  }
 ],
 "metadata": {
  "kernelspec": {
   "display_name": "Python 3.10.6 64-bit",
   "language": "python",
   "name": "python3"
  },
  "language_info": {
   "codemirror_mode": {
    "name": "ipython",
    "version": 3
   },
   "file_extension": ".py",
   "mimetype": "text/x-python",
   "name": "python",
   "nbconvert_exporter": "python",
   "pygments_lexer": "ipython3",
   "version": "3.10.6"
  },
  "orig_nbformat": 4,
  "vscode": {
   "interpreter": {
    "hash": "5093ef3c9eba5a2350b58945b72c1f122b8b5551b9ae00db57837a16e1175c4c"
   }
  }
 },
 "nbformat": 4,
 "nbformat_minor": 2
}
