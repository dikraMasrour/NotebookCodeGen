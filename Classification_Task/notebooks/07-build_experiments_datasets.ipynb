{
 "cells": [
  {
   "cell_type": "markdown",
   "metadata": {},
   "source": [
    "**The purpose of this notebook is to make 2 seperate datasets for classification by domains (nlp, computer vision, reinforcement learning) and by techniques (classification, regression, clustering)**"
   ]
  },
  {
   "cell_type": "code",
   "execution_count": 1,
   "metadata": {},
   "outputs": [],
   "source": [
    "import pandas as pd\n",
    "import numpy as np"
   ]
  },
  {
   "cell_type": "code",
   "execution_count": 2,
   "metadata": {},
   "outputs": [],
   "source": [
    "DATA_PATH = \"../data/\""
   ]
  },
  {
   "cell_type": "code",
   "execution_count": 5,
   "metadata": {},
   "outputs": [],
   "source": [
    "whole_df = pd.read_csv(DATA_PATH + 'vect_data_final.csv', index_col=0)"
   ]
  },
  {
   "cell_type": "code",
   "execution_count": 6,
   "metadata": {},
   "outputs": [
    {
     "data": {
      "text/html": [
       "<div>\n",
       "<style scoped>\n",
       "    .dataframe tbody tr th:only-of-type {\n",
       "        vertical-align: middle;\n",
       "    }\n",
       "\n",
       "    .dataframe tbody tr th {\n",
       "        vertical-align: top;\n",
       "    }\n",
       "\n",
       "    .dataframe thead th {\n",
       "        text-align: right;\n",
       "    }\n",
       "</style>\n",
       "<table border=\"1\" class=\"dataframe\">\n",
       "  <thead>\n",
       "    <tr style=\"text-align: right;\">\n",
       "      <th></th>\n",
       "      <th>notebook_vector</th>\n",
       "      <th>tag</th>\n",
       "    </tr>\n",
       "  </thead>\n",
       "  <tbody>\n",
       "    <tr>\n",
       "      <th>0</th>\n",
       "      <td>[-0.34790626, 0.29865852, 0.30619365, 0.055174...</td>\n",
       "      <td>computer vision</td>\n",
       "    </tr>\n",
       "    <tr>\n",
       "      <th>1</th>\n",
       "      <td>[-0.3819649, 0.31716973, 0.33679396, 0.0810977...</td>\n",
       "      <td>clustering</td>\n",
       "    </tr>\n",
       "    <tr>\n",
       "      <th>2</th>\n",
       "      <td>[-0.33451593, 0.2831545, 0.29143128, 0.0433948...</td>\n",
       "      <td>computer vision</td>\n",
       "    </tr>\n",
       "    <tr>\n",
       "      <th>3</th>\n",
       "      <td>[-0.27561176, 0.26736438, 0.2665188, 0.0765375...</td>\n",
       "      <td>nlp</td>\n",
       "    </tr>\n",
       "    <tr>\n",
       "      <th>4</th>\n",
       "      <td>[-0.24364452, 0.28803557, 0.2663721, 0.1090390...</td>\n",
       "      <td>classification</td>\n",
       "    </tr>\n",
       "  </tbody>\n",
       "</table>\n",
       "</div>"
      ],
      "text/plain": [
       "                                     notebook_vector              tag\n",
       "0  [-0.34790626, 0.29865852, 0.30619365, 0.055174...  computer vision\n",
       "1  [-0.3819649, 0.31716973, 0.33679396, 0.0810977...       clustering\n",
       "2  [-0.33451593, 0.2831545, 0.29143128, 0.0433948...  computer vision\n",
       "3  [-0.27561176, 0.26736438, 0.2665188, 0.0765375...              nlp\n",
       "4  [-0.24364452, 0.28803557, 0.2663721, 0.1090390...   classification"
      ]
     },
     "execution_count": 6,
     "metadata": {},
     "output_type": "execute_result"
    }
   ],
   "source": [
    "whole_df.head()"
   ]
  },
  {
   "cell_type": "code",
   "execution_count": 7,
   "metadata": {},
   "outputs": [
    {
     "data": {
      "text/plain": [
       "(6260, 2)"
      ]
     },
     "execution_count": 7,
     "metadata": {},
     "output_type": "execute_result"
    }
   ],
   "source": [
    "whole_df.shape"
   ]
  },
  {
   "cell_type": "code",
   "execution_count": 8,
   "metadata": {},
   "outputs": [
    {
     "data": {
      "text/plain": [
       "array(['computer vision', 'clustering', 'nlp', 'classification',\n",
       "       'regression', 'reinforcement learning'], dtype=object)"
      ]
     },
     "execution_count": 8,
     "metadata": {},
     "output_type": "execute_result"
    }
   ],
   "source": [
    "whole_df.tag.unique()"
   ]
  },
  {
   "cell_type": "code",
   "execution_count": 14,
   "metadata": {},
   "outputs": [
    {
     "data": {
      "text/html": [
       "<div>\n",
       "<style scoped>\n",
       "    .dataframe tbody tr th:only-of-type {\n",
       "        vertical-align: middle;\n",
       "    }\n",
       "\n",
       "    .dataframe tbody tr th {\n",
       "        vertical-align: top;\n",
       "    }\n",
       "\n",
       "    .dataframe thead th {\n",
       "        text-align: right;\n",
       "    }\n",
       "</style>\n",
       "<table border=\"1\" class=\"dataframe\">\n",
       "  <thead>\n",
       "    <tr style=\"text-align: right;\">\n",
       "      <th></th>\n",
       "      <th>notebook_vector</th>\n",
       "      <th>tag</th>\n",
       "    </tr>\n",
       "  </thead>\n",
       "  <tbody>\n",
       "    <tr>\n",
       "      <th>0</th>\n",
       "      <td>[-0.34790626, 0.29865852, 0.30619365, 0.055174...</td>\n",
       "      <td>computer vision</td>\n",
       "    </tr>\n",
       "    <tr>\n",
       "      <th>2</th>\n",
       "      <td>[-0.33451593, 0.2831545, 0.29143128, 0.0433948...</td>\n",
       "      <td>computer vision</td>\n",
       "    </tr>\n",
       "    <tr>\n",
       "      <th>3</th>\n",
       "      <td>[-0.27561176, 0.26736438, 0.2665188, 0.0765375...</td>\n",
       "      <td>nlp</td>\n",
       "    </tr>\n",
       "    <tr>\n",
       "      <th>7</th>\n",
       "      <td>[-0.23577915, 0.25037774, 0.22657812, 0.149408...</td>\n",
       "      <td>nlp</td>\n",
       "    </tr>\n",
       "    <tr>\n",
       "      <th>12</th>\n",
       "      <td>[-0.3744954, 0.2507138, 0.31223407, 0.02591716...</td>\n",
       "      <td>reinforcement learning</td>\n",
       "    </tr>\n",
       "  </tbody>\n",
       "</table>\n",
       "</div>"
      ],
      "text/plain": [
       "                                      notebook_vector                     tag\n",
       "0   [-0.34790626, 0.29865852, 0.30619365, 0.055174...         computer vision\n",
       "2   [-0.33451593, 0.2831545, 0.29143128, 0.0433948...         computer vision\n",
       "3   [-0.27561176, 0.26736438, 0.2665188, 0.0765375...                     nlp\n",
       "7   [-0.23577915, 0.25037774, 0.22657812, 0.149408...                     nlp\n",
       "12  [-0.3744954, 0.2507138, 0.31223407, 0.02591716...  reinforcement learning"
      ]
     },
     "execution_count": 14,
     "metadata": {},
     "output_type": "execute_result"
    }
   ],
   "source": [
    "domain_df = whole_df[(whole_df['tag'] == 'nlp') | (whole_df['tag'] == 'computer vision') | (whole_df['tag'] == 'reinforcement learning')].copy()\n",
    "domain_df.head()"
   ]
  },
  {
   "cell_type": "code",
   "execution_count": 15,
   "metadata": {},
   "outputs": [
    {
     "data": {
      "text/html": [
       "<div>\n",
       "<style scoped>\n",
       "    .dataframe tbody tr th:only-of-type {\n",
       "        vertical-align: middle;\n",
       "    }\n",
       "\n",
       "    .dataframe tbody tr th {\n",
       "        vertical-align: top;\n",
       "    }\n",
       "\n",
       "    .dataframe thead th {\n",
       "        text-align: right;\n",
       "    }\n",
       "</style>\n",
       "<table border=\"1\" class=\"dataframe\">\n",
       "  <thead>\n",
       "    <tr style=\"text-align: right;\">\n",
       "      <th></th>\n",
       "      <th>notebook_vector</th>\n",
       "      <th>tag</th>\n",
       "    </tr>\n",
       "  </thead>\n",
       "  <tbody>\n",
       "    <tr>\n",
       "      <th>1</th>\n",
       "      <td>[-0.3819649, 0.31716973, 0.33679396, 0.0810977...</td>\n",
       "      <td>clustering</td>\n",
       "    </tr>\n",
       "    <tr>\n",
       "      <th>4</th>\n",
       "      <td>[-0.24364452, 0.28803557, 0.2663721, 0.1090390...</td>\n",
       "      <td>classification</td>\n",
       "    </tr>\n",
       "    <tr>\n",
       "      <th>5</th>\n",
       "      <td>[-0.27900544, 0.28826895, 0.27146173, 0.147275...</td>\n",
       "      <td>clustering</td>\n",
       "    </tr>\n",
       "    <tr>\n",
       "      <th>6</th>\n",
       "      <td>[-0.42033634, 0.32177913, 0.3592496, 0.0234226...</td>\n",
       "      <td>classification</td>\n",
       "    </tr>\n",
       "    <tr>\n",
       "      <th>8</th>\n",
       "      <td>[-0.23415434, 0.2189036, 0.23444305, 0.1150547...</td>\n",
       "      <td>regression</td>\n",
       "    </tr>\n",
       "  </tbody>\n",
       "</table>\n",
       "</div>"
      ],
      "text/plain": [
       "                                     notebook_vector             tag\n",
       "1  [-0.3819649, 0.31716973, 0.33679396, 0.0810977...      clustering\n",
       "4  [-0.24364452, 0.28803557, 0.2663721, 0.1090390...  classification\n",
       "5  [-0.27900544, 0.28826895, 0.27146173, 0.147275...      clustering\n",
       "6  [-0.42033634, 0.32177913, 0.3592496, 0.0234226...  classification\n",
       "8  [-0.23415434, 0.2189036, 0.23444305, 0.1150547...      regression"
      ]
     },
     "execution_count": 15,
     "metadata": {},
     "output_type": "execute_result"
    }
   ],
   "source": [
    "technique_df = whole_df[(whole_df['tag'] == 'regression') | (whole_df['tag'] == 'classification') | (whole_df['tag'] == 'clustering')].copy()\n",
    "technique_df.head()"
   ]
  },
  {
   "cell_type": "code",
   "execution_count": 16,
   "metadata": {},
   "outputs": [
    {
     "data": {
      "text/plain": [
       "(array(['computer vision', 'nlp', 'reinforcement learning'], dtype=object),\n",
       " array(['clustering', 'classification', 'regression'], dtype=object))"
      ]
     },
     "execution_count": 16,
     "metadata": {},
     "output_type": "execute_result"
    }
   ],
   "source": [
    "domain_df.tag.unique(), technique_df.tag.unique()"
   ]
  },
  {
   "cell_type": "code",
   "execution_count": 23,
   "metadata": {},
   "outputs": [
    {
     "data": {
      "text/plain": [
       "((3301, 2), (2959, 2))"
      ]
     },
     "execution_count": 23,
     "metadata": {},
     "output_type": "execute_result"
    }
   ],
   "source": [
    "domain_df.shape, technique_df.shape"
   ]
  },
  {
   "cell_type": "code",
   "execution_count": 18,
   "metadata": {},
   "outputs": [],
   "source": [
    "def build_df():\n",
    "    vect_dim = 768\n",
    "    features = []\n",
    "    for i in range(vect_dim):\n",
    "        features.append('num_feature_' + str(i))\n",
    "\n",
    "    features.append('target_category')\n",
    "    final_df = pd.DataFrame(columns=features)\n",
    "    return final_df"
   ]
  },
  {
   "cell_type": "code",
   "execution_count": 25,
   "metadata": {},
   "outputs": [],
   "source": [
    "def construct_final_df(vect_data):\n",
    "    final_df = build_df()\n",
    "    for i in vect_data.index:\n",
    "        # convert vector values to float\n",
    "        vect_data_float = []\n",
    "        vect_data_float.append([float(float_value) for float_value in vect_data.loc[i, 'notebook_vector'].strip('[]').split(',')])\n",
    "        # append tag to each notebook\n",
    "        vect_data_float[0].append(vect_data.loc[i, 'tag'])\n",
    "        final_df.loc[len(final_df)] = vect_data_float[0]\n",
    "        print(i)\n",
    "    return final_df "
   ]
  },
  {
   "cell_type": "code",
   "execution_count": null,
   "metadata": {},
   "outputs": [],
   "source": [
    "domain_final = construct_final_df(domain_df)"
   ]
  },
  {
   "cell_type": "code",
   "execution_count": null,
   "metadata": {},
   "outputs": [],
   "source": [
    "technique_final = construct_final_df(technique_df)"
   ]
  },
  {
   "cell_type": "code",
   "execution_count": 29,
   "metadata": {},
   "outputs": [],
   "source": [
    "domain_final.to_csv(DATA_PATH + 'domain_data.csv')\n",
    "technique_final.to_csv(DATA_PATH + 'technique_data.csv')"
   ]
  },
  {
   "cell_type": "code",
   "execution_count": null,
   "metadata": {},
   "outputs": [],
   "source": []
  }
 ],
 "metadata": {
  "kernelspec": {
   "display_name": "Python 3.8.6 64-bit",
   "language": "python",
   "name": "python3"
  },
  "language_info": {
   "codemirror_mode": {
    "name": "ipython",
    "version": 3
   },
   "file_extension": ".py",
   "mimetype": "text/x-python",
   "name": "python",
   "nbconvert_exporter": "python",
   "pygments_lexer": "ipython3",
   "version": "3.8.6"
  },
  "orig_nbformat": 4,
  "vscode": {
   "interpreter": {
    "hash": "7e0683708a40e5e31be6eca1343e37f88fae9f778fb3fd433a047241db249add"
   }
  }
 },
 "nbformat": 4,
 "nbformat_minor": 2
}
