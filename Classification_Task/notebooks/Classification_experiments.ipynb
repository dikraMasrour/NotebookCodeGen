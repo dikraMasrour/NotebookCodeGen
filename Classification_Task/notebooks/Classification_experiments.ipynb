{
 "cells": [
  {
   "cell_type": "markdown",
   "metadata": {},
   "source": [
    "Imports"
   ]
  },
  {
   "cell_type": "code",
   "execution_count": 2,
   "metadata": {},
   "outputs": [],
   "source": [
    "import pandas as pd\n",
    "import numpy as np"
   ]
  },
  {
   "cell_type": "code",
   "execution_count": 3,
   "metadata": {},
   "outputs": [],
   "source": [
    "MODEL_PATH_ = '../models/'\n",
    "DATA_PATH = '../data/'"
   ]
  },
  {
   "cell_type": "markdown",
   "metadata": {},
   "source": [
    "Load the vectorized notebooks"
   ]
  },
  {
   "cell_type": "code",
   "execution_count": 4,
   "metadata": {},
   "outputs": [],
   "source": [
    "domain_data = pd.read_csv(DATA_PATH + 'domain_data.csv', index_col=0)\n",
    "technique_data = pd.read_csv(DATA_PATH + 'technique_data.csv', index_col=0)"
   ]
  },
  {
   "cell_type": "code",
   "execution_count": 12,
   "metadata": {},
   "outputs": [
    {
     "data": {
      "text/html": [
       "<div>\n",
       "<style scoped>\n",
       "    .dataframe tbody tr th:only-of-type {\n",
       "        vertical-align: middle;\n",
       "    }\n",
       "\n",
       "    .dataframe tbody tr th {\n",
       "        vertical-align: top;\n",
       "    }\n",
       "\n",
       "    .dataframe thead th {\n",
       "        text-align: right;\n",
       "    }\n",
       "</style>\n",
       "<table border=\"1\" class=\"dataframe\">\n",
       "  <thead>\n",
       "    <tr style=\"text-align: right;\">\n",
       "      <th></th>\n",
       "      <th>num_feature_0</th>\n",
       "      <th>num_feature_1</th>\n",
       "      <th>num_feature_2</th>\n",
       "      <th>num_feature_3</th>\n",
       "      <th>num_feature_4</th>\n",
       "      <th>num_feature_5</th>\n",
       "      <th>num_feature_6</th>\n",
       "      <th>num_feature_7</th>\n",
       "      <th>num_feature_8</th>\n",
       "      <th>num_feature_9</th>\n",
       "      <th>...</th>\n",
       "      <th>num_feature_759</th>\n",
       "      <th>num_feature_760</th>\n",
       "      <th>num_feature_761</th>\n",
       "      <th>num_feature_762</th>\n",
       "      <th>num_feature_763</th>\n",
       "      <th>num_feature_764</th>\n",
       "      <th>num_feature_765</th>\n",
       "      <th>num_feature_766</th>\n",
       "      <th>num_feature_767</th>\n",
       "      <th>target_category</th>\n",
       "    </tr>\n",
       "  </thead>\n",
       "  <tbody>\n",
       "    <tr>\n",
       "      <th>0</th>\n",
       "      <td>-0.347906</td>\n",
       "      <td>0.298659</td>\n",
       "      <td>0.306194</td>\n",
       "      <td>0.055175</td>\n",
       "      <td>-0.430964</td>\n",
       "      <td>-0.466804</td>\n",
       "      <td>-0.108935</td>\n",
       "      <td>0.225360</td>\n",
       "      <td>0.385942</td>\n",
       "      <td>0.492067</td>\n",
       "      <td>...</td>\n",
       "      <td>-0.174081</td>\n",
       "      <td>-0.516293</td>\n",
       "      <td>0.402670</td>\n",
       "      <td>-0.094396</td>\n",
       "      <td>0.222461</td>\n",
       "      <td>0.574193</td>\n",
       "      <td>-0.606644</td>\n",
       "      <td>-0.461940</td>\n",
       "      <td>0.539914</td>\n",
       "      <td>computer vision</td>\n",
       "    </tr>\n",
       "    <tr>\n",
       "      <th>1</th>\n",
       "      <td>-0.334516</td>\n",
       "      <td>0.283154</td>\n",
       "      <td>0.291431</td>\n",
       "      <td>0.043395</td>\n",
       "      <td>-0.385153</td>\n",
       "      <td>-0.494500</td>\n",
       "      <td>-0.111106</td>\n",
       "      <td>0.227195</td>\n",
       "      <td>0.380586</td>\n",
       "      <td>0.548708</td>\n",
       "      <td>...</td>\n",
       "      <td>-0.169292</td>\n",
       "      <td>-0.530989</td>\n",
       "      <td>0.416996</td>\n",
       "      <td>-0.104790</td>\n",
       "      <td>0.218367</td>\n",
       "      <td>0.636691</td>\n",
       "      <td>-0.612310</td>\n",
       "      <td>-0.446481</td>\n",
       "      <td>0.508087</td>\n",
       "      <td>computer vision</td>\n",
       "    </tr>\n",
       "    <tr>\n",
       "      <th>2</th>\n",
       "      <td>-0.275612</td>\n",
       "      <td>0.267364</td>\n",
       "      <td>0.266519</td>\n",
       "      <td>0.076538</td>\n",
       "      <td>-0.282673</td>\n",
       "      <td>-0.329046</td>\n",
       "      <td>-0.045134</td>\n",
       "      <td>0.221697</td>\n",
       "      <td>0.293198</td>\n",
       "      <td>0.421586</td>\n",
       "      <td>...</td>\n",
       "      <td>-0.149041</td>\n",
       "      <td>-0.485052</td>\n",
       "      <td>0.493056</td>\n",
       "      <td>-0.112996</td>\n",
       "      <td>0.220296</td>\n",
       "      <td>0.618480</td>\n",
       "      <td>-0.594641</td>\n",
       "      <td>-0.469342</td>\n",
       "      <td>0.497985</td>\n",
       "      <td>nlp</td>\n",
       "    </tr>\n",
       "    <tr>\n",
       "      <th>3</th>\n",
       "      <td>-0.235779</td>\n",
       "      <td>0.250378</td>\n",
       "      <td>0.226578</td>\n",
       "      <td>0.149408</td>\n",
       "      <td>-0.193610</td>\n",
       "      <td>-0.310807</td>\n",
       "      <td>-0.030555</td>\n",
       "      <td>0.065167</td>\n",
       "      <td>0.225744</td>\n",
       "      <td>0.319612</td>\n",
       "      <td>...</td>\n",
       "      <td>-0.088321</td>\n",
       "      <td>-0.451427</td>\n",
       "      <td>0.481939</td>\n",
       "      <td>-0.068456</td>\n",
       "      <td>0.234321</td>\n",
       "      <td>0.553771</td>\n",
       "      <td>-0.511785</td>\n",
       "      <td>-0.377819</td>\n",
       "      <td>0.466979</td>\n",
       "      <td>nlp</td>\n",
       "    </tr>\n",
       "    <tr>\n",
       "      <th>4</th>\n",
       "      <td>-0.374495</td>\n",
       "      <td>0.250714</td>\n",
       "      <td>0.312234</td>\n",
       "      <td>0.025917</td>\n",
       "      <td>-0.487619</td>\n",
       "      <td>-0.499501</td>\n",
       "      <td>-0.094560</td>\n",
       "      <td>0.207618</td>\n",
       "      <td>0.297802</td>\n",
       "      <td>0.470817</td>\n",
       "      <td>...</td>\n",
       "      <td>-0.173244</td>\n",
       "      <td>-0.461387</td>\n",
       "      <td>0.349831</td>\n",
       "      <td>-0.121907</td>\n",
       "      <td>0.231608</td>\n",
       "      <td>0.702878</td>\n",
       "      <td>-0.651011</td>\n",
       "      <td>-0.396475</td>\n",
       "      <td>0.577205</td>\n",
       "      <td>reinforcement learning</td>\n",
       "    </tr>\n",
       "  </tbody>\n",
       "</table>\n",
       "<p>5 rows × 769 columns</p>\n",
       "</div>"
      ],
      "text/plain": [
       "   num_feature_0  num_feature_1  num_feature_2  num_feature_3  num_feature_4  \\\n",
       "0      -0.347906       0.298659       0.306194       0.055175      -0.430964   \n",
       "1      -0.334516       0.283154       0.291431       0.043395      -0.385153   \n",
       "2      -0.275612       0.267364       0.266519       0.076538      -0.282673   \n",
       "3      -0.235779       0.250378       0.226578       0.149408      -0.193610   \n",
       "4      -0.374495       0.250714       0.312234       0.025917      -0.487619   \n",
       "\n",
       "   num_feature_5  num_feature_6  num_feature_7  num_feature_8  num_feature_9  \\\n",
       "0      -0.466804      -0.108935       0.225360       0.385942       0.492067   \n",
       "1      -0.494500      -0.111106       0.227195       0.380586       0.548708   \n",
       "2      -0.329046      -0.045134       0.221697       0.293198       0.421586   \n",
       "3      -0.310807      -0.030555       0.065167       0.225744       0.319612   \n",
       "4      -0.499501      -0.094560       0.207618       0.297802       0.470817   \n",
       "\n",
       "   ...  num_feature_759  num_feature_760  num_feature_761  num_feature_762  \\\n",
       "0  ...        -0.174081        -0.516293         0.402670        -0.094396   \n",
       "1  ...        -0.169292        -0.530989         0.416996        -0.104790   \n",
       "2  ...        -0.149041        -0.485052         0.493056        -0.112996   \n",
       "3  ...        -0.088321        -0.451427         0.481939        -0.068456   \n",
       "4  ...        -0.173244        -0.461387         0.349831        -0.121907   \n",
       "\n",
       "   num_feature_763  num_feature_764  num_feature_765  num_feature_766  \\\n",
       "0         0.222461         0.574193        -0.606644        -0.461940   \n",
       "1         0.218367         0.636691        -0.612310        -0.446481   \n",
       "2         0.220296         0.618480        -0.594641        -0.469342   \n",
       "3         0.234321         0.553771        -0.511785        -0.377819   \n",
       "4         0.231608         0.702878        -0.651011        -0.396475   \n",
       "\n",
       "   num_feature_767         target_category  \n",
       "0         0.539914         computer vision  \n",
       "1         0.508087         computer vision  \n",
       "2         0.497985                     nlp  \n",
       "3         0.466979                     nlp  \n",
       "4         0.577205  reinforcement learning  \n",
       "\n",
       "[5 rows x 769 columns]"
      ]
     },
     "execution_count": 12,
     "metadata": {},
     "output_type": "execute_result"
    }
   ],
   "source": [
    "domain_data.head()"
   ]
  },
  {
   "cell_type": "code",
   "execution_count": 13,
   "metadata": {},
   "outputs": [
    {
     "data": {
      "text/html": [
       "<div>\n",
       "<style scoped>\n",
       "    .dataframe tbody tr th:only-of-type {\n",
       "        vertical-align: middle;\n",
       "    }\n",
       "\n",
       "    .dataframe tbody tr th {\n",
       "        vertical-align: top;\n",
       "    }\n",
       "\n",
       "    .dataframe thead th {\n",
       "        text-align: right;\n",
       "    }\n",
       "</style>\n",
       "<table border=\"1\" class=\"dataframe\">\n",
       "  <thead>\n",
       "    <tr style=\"text-align: right;\">\n",
       "      <th></th>\n",
       "      <th>num_feature_0</th>\n",
       "      <th>num_feature_1</th>\n",
       "      <th>num_feature_2</th>\n",
       "      <th>num_feature_3</th>\n",
       "      <th>num_feature_4</th>\n",
       "      <th>num_feature_5</th>\n",
       "      <th>num_feature_6</th>\n",
       "      <th>num_feature_7</th>\n",
       "      <th>num_feature_8</th>\n",
       "      <th>num_feature_9</th>\n",
       "      <th>...</th>\n",
       "      <th>num_feature_759</th>\n",
       "      <th>num_feature_760</th>\n",
       "      <th>num_feature_761</th>\n",
       "      <th>num_feature_762</th>\n",
       "      <th>num_feature_763</th>\n",
       "      <th>num_feature_764</th>\n",
       "      <th>num_feature_765</th>\n",
       "      <th>num_feature_766</th>\n",
       "      <th>num_feature_767</th>\n",
       "      <th>target_category</th>\n",
       "    </tr>\n",
       "  </thead>\n",
       "  <tbody>\n",
       "    <tr>\n",
       "      <th>0</th>\n",
       "      <td>-0.381965</td>\n",
       "      <td>0.317170</td>\n",
       "      <td>0.336794</td>\n",
       "      <td>0.081098</td>\n",
       "      <td>-0.454720</td>\n",
       "      <td>-0.551013</td>\n",
       "      <td>-0.051526</td>\n",
       "      <td>0.256912</td>\n",
       "      <td>0.381023</td>\n",
       "      <td>0.474694</td>\n",
       "      <td>...</td>\n",
       "      <td>-0.182501</td>\n",
       "      <td>-0.524450</td>\n",
       "      <td>0.344222</td>\n",
       "      <td>-0.027710</td>\n",
       "      <td>0.259213</td>\n",
       "      <td>0.608695</td>\n",
       "      <td>-0.722355</td>\n",
       "      <td>-0.420306</td>\n",
       "      <td>0.589060</td>\n",
       "      <td>clustering</td>\n",
       "    </tr>\n",
       "    <tr>\n",
       "      <th>1</th>\n",
       "      <td>-0.243645</td>\n",
       "      <td>0.288036</td>\n",
       "      <td>0.266372</td>\n",
       "      <td>0.109039</td>\n",
       "      <td>-0.166584</td>\n",
       "      <td>-0.294326</td>\n",
       "      <td>-0.053085</td>\n",
       "      <td>0.150146</td>\n",
       "      <td>0.304883</td>\n",
       "      <td>0.368951</td>\n",
       "      <td>...</td>\n",
       "      <td>-0.142109</td>\n",
       "      <td>-0.482496</td>\n",
       "      <td>0.465995</td>\n",
       "      <td>-0.077088</td>\n",
       "      <td>0.226020</td>\n",
       "      <td>0.523076</td>\n",
       "      <td>-0.427591</td>\n",
       "      <td>-0.406878</td>\n",
       "      <td>0.511194</td>\n",
       "      <td>classification</td>\n",
       "    </tr>\n",
       "    <tr>\n",
       "      <th>2</th>\n",
       "      <td>-0.279005</td>\n",
       "      <td>0.288269</td>\n",
       "      <td>0.271462</td>\n",
       "      <td>0.147275</td>\n",
       "      <td>-0.139116</td>\n",
       "      <td>-0.344902</td>\n",
       "      <td>-0.062710</td>\n",
       "      <td>0.146953</td>\n",
       "      <td>0.285579</td>\n",
       "      <td>0.395382</td>\n",
       "      <td>...</td>\n",
       "      <td>-0.142391</td>\n",
       "      <td>-0.510494</td>\n",
       "      <td>0.393233</td>\n",
       "      <td>-0.109620</td>\n",
       "      <td>0.216518</td>\n",
       "      <td>0.523437</td>\n",
       "      <td>-0.519707</td>\n",
       "      <td>-0.382903</td>\n",
       "      <td>0.463210</td>\n",
       "      <td>clustering</td>\n",
       "    </tr>\n",
       "    <tr>\n",
       "      <th>3</th>\n",
       "      <td>-0.420336</td>\n",
       "      <td>0.321779</td>\n",
       "      <td>0.359250</td>\n",
       "      <td>0.023423</td>\n",
       "      <td>-0.535730</td>\n",
       "      <td>-0.516335</td>\n",
       "      <td>-0.079297</td>\n",
       "      <td>0.294720</td>\n",
       "      <td>0.332723</td>\n",
       "      <td>0.550258</td>\n",
       "      <td>...</td>\n",
       "      <td>-0.224667</td>\n",
       "      <td>-0.521482</td>\n",
       "      <td>0.264456</td>\n",
       "      <td>-0.032404</td>\n",
       "      <td>0.293137</td>\n",
       "      <td>0.542032</td>\n",
       "      <td>-0.873568</td>\n",
       "      <td>-0.437776</td>\n",
       "      <td>0.604678</td>\n",
       "      <td>classification</td>\n",
       "    </tr>\n",
       "    <tr>\n",
       "      <th>4</th>\n",
       "      <td>-0.234154</td>\n",
       "      <td>0.218904</td>\n",
       "      <td>0.234443</td>\n",
       "      <td>0.115055</td>\n",
       "      <td>-0.220166</td>\n",
       "      <td>-0.346154</td>\n",
       "      <td>-0.037690</td>\n",
       "      <td>0.094123</td>\n",
       "      <td>0.307262</td>\n",
       "      <td>0.353839</td>\n",
       "      <td>...</td>\n",
       "      <td>-0.154879</td>\n",
       "      <td>-0.450687</td>\n",
       "      <td>0.529451</td>\n",
       "      <td>-0.094005</td>\n",
       "      <td>0.195241</td>\n",
       "      <td>0.657303</td>\n",
       "      <td>-0.369950</td>\n",
       "      <td>-0.396843</td>\n",
       "      <td>0.500643</td>\n",
       "      <td>regression</td>\n",
       "    </tr>\n",
       "  </tbody>\n",
       "</table>\n",
       "<p>5 rows × 769 columns</p>\n",
       "</div>"
      ],
      "text/plain": [
       "   num_feature_0  num_feature_1  num_feature_2  num_feature_3  num_feature_4  \\\n",
       "0      -0.381965       0.317170       0.336794       0.081098      -0.454720   \n",
       "1      -0.243645       0.288036       0.266372       0.109039      -0.166584   \n",
       "2      -0.279005       0.288269       0.271462       0.147275      -0.139116   \n",
       "3      -0.420336       0.321779       0.359250       0.023423      -0.535730   \n",
       "4      -0.234154       0.218904       0.234443       0.115055      -0.220166   \n",
       "\n",
       "   num_feature_5  num_feature_6  num_feature_7  num_feature_8  num_feature_9  \\\n",
       "0      -0.551013      -0.051526       0.256912       0.381023       0.474694   \n",
       "1      -0.294326      -0.053085       0.150146       0.304883       0.368951   \n",
       "2      -0.344902      -0.062710       0.146953       0.285579       0.395382   \n",
       "3      -0.516335      -0.079297       0.294720       0.332723       0.550258   \n",
       "4      -0.346154      -0.037690       0.094123       0.307262       0.353839   \n",
       "\n",
       "   ...  num_feature_759  num_feature_760  num_feature_761  num_feature_762  \\\n",
       "0  ...        -0.182501        -0.524450         0.344222        -0.027710   \n",
       "1  ...        -0.142109        -0.482496         0.465995        -0.077088   \n",
       "2  ...        -0.142391        -0.510494         0.393233        -0.109620   \n",
       "3  ...        -0.224667        -0.521482         0.264456        -0.032404   \n",
       "4  ...        -0.154879        -0.450687         0.529451        -0.094005   \n",
       "\n",
       "   num_feature_763  num_feature_764  num_feature_765  num_feature_766  \\\n",
       "0         0.259213         0.608695        -0.722355        -0.420306   \n",
       "1         0.226020         0.523076        -0.427591        -0.406878   \n",
       "2         0.216518         0.523437        -0.519707        -0.382903   \n",
       "3         0.293137         0.542032        -0.873568        -0.437776   \n",
       "4         0.195241         0.657303        -0.369950        -0.396843   \n",
       "\n",
       "   num_feature_767  target_category  \n",
       "0         0.589060       clustering  \n",
       "1         0.511194   classification  \n",
       "2         0.463210       clustering  \n",
       "3         0.604678   classification  \n",
       "4         0.500643       regression  \n",
       "\n",
       "[5 rows x 769 columns]"
      ]
     },
     "execution_count": 13,
     "metadata": {},
     "output_type": "execute_result"
    }
   ],
   "source": [
    "technique_data.head()"
   ]
  },
  {
   "cell_type": "markdown",
   "metadata": {},
   "source": [
    "### Classification test (baseline)"
   ]
  },
  {
   "cell_type": "code",
   "execution_count": 13,
   "metadata": {},
   "outputs": [],
   "source": [
    "from sklearn.linear_model import LogisticRegression\n",
    "from sklearn.model_selection import train_test_split\n",
    "from sklearn.metrics import accuracy_score, confusion_matrix, ConfusionMatrixDisplay, roc_auc_score, f1_score\n",
    "from sklearn.model_selection import cross_val_score"
   ]
  },
  {
   "cell_type": "markdown",
   "metadata": {},
   "source": [
    "## Domain Classification"
   ]
  },
  {
   "cell_type": "code",
   "execution_count": 37,
   "metadata": {},
   "outputs": [],
   "source": [
    "x = domain_data.drop('target_category', axis = 1).copy()\n",
    "y = domain_data['target_category'].copy()"
   ]
  },
  {
   "cell_type": "code",
   "execution_count": 38,
   "metadata": {},
   "outputs": [],
   "source": [
    "xtrain, xtest,  ytrain, ytest = train_test_split(x, y, test_size=0.2)"
   ]
  },
  {
   "cell_type": "code",
   "execution_count": 39,
   "metadata": {},
   "outputs": [],
   "source": [
    "logr = LogisticRegression(max_iter=10000, class_weight='balanced', multi_class='auto')\n",
    "scores = cross_val_score(logr, x, y, cv=5)"
   ]
  },
  {
   "cell_type": "code",
   "execution_count": 40,
   "metadata": {},
   "outputs": [
    {
     "data": {
      "text/plain": [
       "LogisticRegression(class_weight='balanced', max_iter=10000)"
      ]
     },
     "execution_count": 40,
     "metadata": {},
     "output_type": "execute_result"
    }
   ],
   "source": [
    "logr.fit(xtrain, ytrain)"
   ]
  },
  {
   "cell_type": "code",
   "execution_count": 41,
   "metadata": {},
   "outputs": [],
   "source": [
    "yhat = logr.predict(xtest)"
   ]
  },
  {
   "cell_type": "code",
   "execution_count": 42,
   "metadata": {},
   "outputs": [
    {
     "name": "stdout",
     "output_type": "stream",
     "text": [
      "Accuracy score: 0.8744326777609682\n",
      "0.86 accuracy with a standard deviation of 0.02\n",
      "F1 score: 0.8760758272861148\n"
     ]
    }
   ],
   "source": [
    "print('Accuracy score:',accuracy_score(ytest, yhat))\n",
    "print(\"%0.2f accuracy with a standard deviation of %0.2f\" % (scores.mean(), scores.std()))\n",
    "print('F1 score:',f1_score(ytest, yhat, average='weighted'))"
   ]
  },
  {
   "cell_type": "code",
   "execution_count": 43,
   "metadata": {},
   "outputs": [
    {
     "data": {
      "text/plain": [
       "[[222, 18, 9], [27, 299, 17], [6, 6, 57]]"
      ]
     },
     "execution_count": 43,
     "metadata": {},
     "output_type": "execute_result"
    }
   ],
   "source": [
    "conf_m = confusion_matrix(ytest, yhat).tolist()\n",
    "conf_m"
   ]
  },
  {
   "cell_type": "code",
   "execution_count": 22,
   "metadata": {},
   "outputs": [],
   "source": [
    "import pickle\n",
    "\n",
    "filename = 'logr_domain_classification.sav'\n",
    "pickle.dump(logr, open(filename, 'wb'))"
   ]
  },
  {
   "cell_type": "markdown",
   "metadata": {},
   "source": [
    "## Technique Classification"
   ]
  },
  {
   "cell_type": "code",
   "execution_count": 44,
   "metadata": {},
   "outputs": [],
   "source": [
    "x = technique_data.drop('target_category', axis = 1).copy()\n",
    "y = technique_data['target_category'].copy()"
   ]
  },
  {
   "cell_type": "code",
   "execution_count": 45,
   "metadata": {},
   "outputs": [],
   "source": [
    "xtrain, xtest,  ytrain, ytest = train_test_split(x, y, test_size=0.2)"
   ]
  },
  {
   "cell_type": "code",
   "execution_count": 46,
   "metadata": {},
   "outputs": [],
   "source": [
    "logr = LogisticRegression(max_iter=10000, class_weight='balanced', multi_class='auto')\n",
    "scores = cross_val_score(logr, x, y, cv=5)"
   ]
  },
  {
   "cell_type": "code",
   "execution_count": 47,
   "metadata": {},
   "outputs": [
    {
     "data": {
      "text/plain": [
       "LogisticRegression(class_weight='balanced', max_iter=10000)"
      ]
     },
     "execution_count": 47,
     "metadata": {},
     "output_type": "execute_result"
    }
   ],
   "source": [
    "logr.fit(xtrain, ytrain)"
   ]
  },
  {
   "cell_type": "code",
   "execution_count": 48,
   "metadata": {},
   "outputs": [],
   "source": [
    "yhat = logr.predict(xtest)"
   ]
  },
  {
   "cell_type": "code",
   "execution_count": 49,
   "metadata": {},
   "outputs": [
    {
     "name": "stdout",
     "output_type": "stream",
     "text": [
      "Accuracy score: 0.793918918918919\n",
      "0.78 accuracy with a standard deviation of 0.02\n",
      "F1 score: 0.7950622666611173\n"
     ]
    }
   ],
   "source": [
    "print('Accuracy score:',accuracy_score(ytest, yhat))\n",
    "print(\"%0.2f accuracy with a standard deviation of %0.2f\" % (scores.mean(), scores.std()))\n",
    "print('F1 score:',f1_score(ytest, yhat, average='weighted'))"
   ]
  },
  {
   "cell_type": "code",
   "execution_count": 50,
   "metadata": {},
   "outputs": [
    {
     "data": {
      "text/plain": [
       "[[122, 16, 24], [21, 206, 20], [28, 13, 142]]"
      ]
     },
     "execution_count": 50,
     "metadata": {},
     "output_type": "execute_result"
    }
   ],
   "source": [
    "\n",
    "conf_m = confusion_matrix(ytest, yhat).tolist()\n",
    "conf_m"
   ]
  },
  {
   "cell_type": "code",
   "execution_count": 51,
   "metadata": {},
   "outputs": [],
   "source": [
    "import pickle\n",
    "\n",
    "filename = 'logr_technique_classification.sav'\n",
    "pickle.dump(logr, open(filename, 'wb'))"
   ]
  },
  {
   "cell_type": "markdown",
   "metadata": {},
   "source": [
    "## Analysis"
   ]
  },
  {
   "cell_type": "code",
   "execution_count": 12,
   "metadata": {},
   "outputs": [
    {
     "data": {
      "text/plain": [
       "nlp                       54.256286\n",
       "computer vision           35.564980\n",
       "reinforcement learning    10.178734\n",
       "Name: target_category, dtype: float64"
      ]
     },
     "execution_count": 12,
     "metadata": {},
     "output_type": "execute_result"
    }
   ],
   "source": [
    "(domain_data.target_category.value_counts() / len(domain_data)) * 100"
   ]
  },
  {
   "cell_type": "code",
   "execution_count": 10,
   "metadata": {},
   "outputs": [
    {
     "data": {
      "text/plain": [
       "clustering        39.067252\n",
       "regression        34.809057\n",
       "classification    26.123690\n",
       "Name: target_category, dtype: float64"
      ]
     },
     "execution_count": 10,
     "metadata": {},
     "output_type": "execute_result"
    }
   ],
   "source": [
    "(technique_data.target_category.value_counts() / len(technique_data)) * 100"
   ]
  },
  {
   "cell_type": "code",
   "execution_count": null,
   "metadata": {},
   "outputs": [],
   "source": []
  }
 ],
 "metadata": {
  "kernelspec": {
   "display_name": "Python 3.10.5 64-bit",
   "language": "python",
   "name": "python3"
  },
  "language_info": {
   "codemirror_mode": {
    "name": "ipython",
    "version": 3
   },
   "file_extension": ".py",
   "mimetype": "text/x-python",
   "name": "python",
   "nbconvert_exporter": "python",
   "pygments_lexer": "ipython3",
   "version": "3.10.5"
  },
  "orig_nbformat": 4,
  "vscode": {
   "interpreter": {
    "hash": "49ab456e11cde720218fba409a85456f40f210cf294d5c8f56d5f4fb69af5c6b"
   }
  }
 },
 "nbformat": 4,
 "nbformat_minor": 2
}
