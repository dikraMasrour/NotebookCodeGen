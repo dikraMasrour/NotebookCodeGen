{
 "cells": [
  {
   "cell_type": "markdown",
   "metadata": {},
   "source": [
    "## Constructing the input dataset to Oracle AutoML"
   ]
  },
  {
   "cell_type": "markdown",
   "metadata": {},
   "source": [
    "Imports"
   ]
  },
  {
   "cell_type": "code",
   "execution_count": 1,
   "metadata": {},
   "outputs": [],
   "source": [
    "import pandas as pd\n",
    "import numpy as np"
   ]
  },
  {
   "cell_type": "code",
   "execution_count": 6,
   "metadata": {},
   "outputs": [],
   "source": [
    "DATA_PATH = \"../data/\""
   ]
  },
  {
   "cell_type": "markdown",
   "metadata": {},
   "source": [
    "Load the vectorized notebooks"
   ]
  },
  {
   "cell_type": "code",
   "execution_count": 7,
   "metadata": {},
   "outputs": [],
   "source": [
    "vect_data = pd.read_csv(DATA_PATH + 'vect_data_final.csv', index_col=0)"
   ]
  },
  {
   "cell_type": "code",
   "execution_count": 8,
   "metadata": {},
   "outputs": [
    {
     "data": {
      "text/html": [
       "<div>\n",
       "<style scoped>\n",
       "    .dataframe tbody tr th:only-of-type {\n",
       "        vertical-align: middle;\n",
       "    }\n",
       "\n",
       "    .dataframe tbody tr th {\n",
       "        vertical-align: top;\n",
       "    }\n",
       "\n",
       "    .dataframe thead th {\n",
       "        text-align: right;\n",
       "    }\n",
       "</style>\n",
       "<table border=\"1\" class=\"dataframe\">\n",
       "  <thead>\n",
       "    <tr style=\"text-align: right;\">\n",
       "      <th></th>\n",
       "      <th>notebook_vector</th>\n",
       "      <th>tag</th>\n",
       "    </tr>\n",
       "  </thead>\n",
       "  <tbody>\n",
       "    <tr>\n",
       "      <th>0</th>\n",
       "      <td>[-0.34790626, 0.29865852, 0.30619365, 0.055174...</td>\n",
       "      <td>computer vision</td>\n",
       "    </tr>\n",
       "    <tr>\n",
       "      <th>1</th>\n",
       "      <td>[-0.3819649, 0.31716973, 0.33679396, 0.0810977...</td>\n",
       "      <td>clustering</td>\n",
       "    </tr>\n",
       "    <tr>\n",
       "      <th>2</th>\n",
       "      <td>[-0.33451593, 0.2831545, 0.29143128, 0.0433948...</td>\n",
       "      <td>computer vision</td>\n",
       "    </tr>\n",
       "    <tr>\n",
       "      <th>3</th>\n",
       "      <td>[-0.27561176, 0.26736438, 0.2665188, 0.0765375...</td>\n",
       "      <td>nlp</td>\n",
       "    </tr>\n",
       "    <tr>\n",
       "      <th>4</th>\n",
       "      <td>[-0.24364452, 0.28803557, 0.2663721, 0.1090390...</td>\n",
       "      <td>classification</td>\n",
       "    </tr>\n",
       "  </tbody>\n",
       "</table>\n",
       "</div>"
      ],
      "text/plain": [
       "                                     notebook_vector              tag\n",
       "0  [-0.34790626, 0.29865852, 0.30619365, 0.055174...  computer vision\n",
       "1  [-0.3819649, 0.31716973, 0.33679396, 0.0810977...       clustering\n",
       "2  [-0.33451593, 0.2831545, 0.29143128, 0.0433948...  computer vision\n",
       "3  [-0.27561176, 0.26736438, 0.2665188, 0.0765375...              nlp\n",
       "4  [-0.24364452, 0.28803557, 0.2663721, 0.1090390...   classification"
      ]
     },
     "execution_count": 8,
     "metadata": {},
     "output_type": "execute_result"
    }
   ],
   "source": [
    "vect_data.head()"
   ]
  },
  {
   "cell_type": "code",
   "execution_count": 7,
   "metadata": {},
   "outputs": [
    {
     "data": {
      "text/plain": [
       "(6260, 2)"
      ]
     },
     "execution_count": 7,
     "metadata": {},
     "output_type": "execute_result"
    }
   ],
   "source": [
    "vect_data.shape"
   ]
  },
  {
   "cell_type": "markdown",
   "metadata": {},
   "source": [
    "Build the dataframe structure"
   ]
  },
  {
   "cell_type": "code",
   "execution_count": 8,
   "metadata": {},
   "outputs": [],
   "source": [
    "def build_df():\n",
    "    vect_dim = 768\n",
    "    features = []\n",
    "    for i in range(vect_dim):\n",
    "        features.append('num_feature_' + str(i))\n",
    "\n",
    "    features.append('target_category')\n",
    "    final_df = pd.DataFrame(columns=features)\n",
    "    return final_df"
   ]
  },
  {
   "cell_type": "markdown",
   "metadata": {},
   "source": [
    "Make each vector value a single feature in the dataset"
   ]
  },
  {
   "cell_type": "code",
   "execution_count": 9,
   "metadata": {},
   "outputs": [],
   "source": [
    "def construct_final_df(vect_data):\n",
    "    final_df = build_df()\n",
    "    for i in vect_data.index:\n",
    "        # convert vector values to float\n",
    "        vect_data_float = []\n",
    "        vect_data_float.append([float(float_value) for float_value in vect_data.loc[i, 'notebook_vector'].strip('[]').split(',')])\n",
    "        # append tag to each notebook\n",
    "        vect_data_float[0].append(vect_data.loc[i, 'tag'])\n",
    "        final_df.loc[len(final_df)] = vect_data_float[0]\n",
    "        print(i)\n",
    "    return final_df "
   ]
  },
  {
   "cell_type": "code",
   "execution_count": null,
   "metadata": {},
   "outputs": [],
   "source": [
    "final_df = construct_final_df(vect_data)"
   ]
  },
  {
   "cell_type": "code",
   "execution_count": null,
   "metadata": {},
   "outputs": [],
   "source": [
    "final_df.to_csv(DATA_PATH + 'final_data.csv', index=False)"
   ]
  },
  {
   "cell_type": "markdown",
   "metadata": {},
   "source": [
    "### Classification test (baseline)"
   ]
  },
  {
   "cell_type": "code",
   "execution_count": 1,
   "metadata": {},
   "outputs": [],
   "source": [
    "from sklearn.linear_model import LogisticRegression\n",
    "from sklearn.model_selection import train_test_split\n",
    "from sklearn.metrics import accuracy_score, confusion_matrix, ConfusionMatrixDisplay, roc_auc_score, f1_score\n",
    "import matplotlib.pyplot as plt\n",
    "import plotly.figure_factory as ff"
   ]
  },
  {
   "cell_type": "code",
   "execution_count": 5,
   "metadata": {},
   "outputs": [
    {
     "data": {
      "text/html": [
       "<div>\n",
       "<style scoped>\n",
       "    .dataframe tbody tr th:only-of-type {\n",
       "        vertical-align: middle;\n",
       "    }\n",
       "\n",
       "    .dataframe tbody tr th {\n",
       "        vertical-align: top;\n",
       "    }\n",
       "\n",
       "    .dataframe thead th {\n",
       "        text-align: right;\n",
       "    }\n",
       "</style>\n",
       "<table border=\"1\" class=\"dataframe\">\n",
       "  <thead>\n",
       "    <tr style=\"text-align: right;\">\n",
       "      <th></th>\n",
       "      <th>num_feature_0</th>\n",
       "      <th>num_feature_1</th>\n",
       "      <th>num_feature_2</th>\n",
       "      <th>num_feature_3</th>\n",
       "      <th>num_feature_4</th>\n",
       "      <th>num_feature_5</th>\n",
       "      <th>num_feature_6</th>\n",
       "      <th>num_feature_7</th>\n",
       "      <th>num_feature_8</th>\n",
       "      <th>num_feature_9</th>\n",
       "      <th>...</th>\n",
       "      <th>num_feature_759</th>\n",
       "      <th>num_feature_760</th>\n",
       "      <th>num_feature_761</th>\n",
       "      <th>num_feature_762</th>\n",
       "      <th>num_feature_763</th>\n",
       "      <th>num_feature_764</th>\n",
       "      <th>num_feature_765</th>\n",
       "      <th>num_feature_766</th>\n",
       "      <th>num_feature_767</th>\n",
       "      <th>target_category</th>\n",
       "    </tr>\n",
       "  </thead>\n",
       "  <tbody>\n",
       "    <tr>\n",
       "      <th>0</th>\n",
       "      <td>-0.347906</td>\n",
       "      <td>0.298659</td>\n",
       "      <td>0.306194</td>\n",
       "      <td>0.055175</td>\n",
       "      <td>-0.430964</td>\n",
       "      <td>-0.466804</td>\n",
       "      <td>-0.108935</td>\n",
       "      <td>0.225360</td>\n",
       "      <td>0.385942</td>\n",
       "      <td>0.492067</td>\n",
       "      <td>...</td>\n",
       "      <td>-0.174081</td>\n",
       "      <td>-0.516293</td>\n",
       "      <td>0.402670</td>\n",
       "      <td>-0.094396</td>\n",
       "      <td>0.222461</td>\n",
       "      <td>0.574193</td>\n",
       "      <td>-0.606644</td>\n",
       "      <td>-0.461940</td>\n",
       "      <td>0.539914</td>\n",
       "      <td>computer vision</td>\n",
       "    </tr>\n",
       "    <tr>\n",
       "      <th>1</th>\n",
       "      <td>-0.381965</td>\n",
       "      <td>0.317170</td>\n",
       "      <td>0.336794</td>\n",
       "      <td>0.081098</td>\n",
       "      <td>-0.454720</td>\n",
       "      <td>-0.551013</td>\n",
       "      <td>-0.051526</td>\n",
       "      <td>0.256912</td>\n",
       "      <td>0.381023</td>\n",
       "      <td>0.474694</td>\n",
       "      <td>...</td>\n",
       "      <td>-0.182501</td>\n",
       "      <td>-0.524450</td>\n",
       "      <td>0.344222</td>\n",
       "      <td>-0.027710</td>\n",
       "      <td>0.259213</td>\n",
       "      <td>0.608695</td>\n",
       "      <td>-0.722355</td>\n",
       "      <td>-0.420306</td>\n",
       "      <td>0.589060</td>\n",
       "      <td>clustering</td>\n",
       "    </tr>\n",
       "    <tr>\n",
       "      <th>2</th>\n",
       "      <td>-0.334516</td>\n",
       "      <td>0.283154</td>\n",
       "      <td>0.291431</td>\n",
       "      <td>0.043395</td>\n",
       "      <td>-0.385153</td>\n",
       "      <td>-0.494500</td>\n",
       "      <td>-0.111106</td>\n",
       "      <td>0.227195</td>\n",
       "      <td>0.380586</td>\n",
       "      <td>0.548708</td>\n",
       "      <td>...</td>\n",
       "      <td>-0.169292</td>\n",
       "      <td>-0.530989</td>\n",
       "      <td>0.416996</td>\n",
       "      <td>-0.104790</td>\n",
       "      <td>0.218367</td>\n",
       "      <td>0.636691</td>\n",
       "      <td>-0.612310</td>\n",
       "      <td>-0.446481</td>\n",
       "      <td>0.508087</td>\n",
       "      <td>computer vision</td>\n",
       "    </tr>\n",
       "    <tr>\n",
       "      <th>3</th>\n",
       "      <td>-0.275612</td>\n",
       "      <td>0.267364</td>\n",
       "      <td>0.266519</td>\n",
       "      <td>0.076538</td>\n",
       "      <td>-0.282673</td>\n",
       "      <td>-0.329046</td>\n",
       "      <td>-0.045134</td>\n",
       "      <td>0.221697</td>\n",
       "      <td>0.293198</td>\n",
       "      <td>0.421586</td>\n",
       "      <td>...</td>\n",
       "      <td>-0.149041</td>\n",
       "      <td>-0.485052</td>\n",
       "      <td>0.493056</td>\n",
       "      <td>-0.112996</td>\n",
       "      <td>0.220296</td>\n",
       "      <td>0.618480</td>\n",
       "      <td>-0.594641</td>\n",
       "      <td>-0.469342</td>\n",
       "      <td>0.497985</td>\n",
       "      <td>nlp</td>\n",
       "    </tr>\n",
       "    <tr>\n",
       "      <th>4</th>\n",
       "      <td>-0.243645</td>\n",
       "      <td>0.288036</td>\n",
       "      <td>0.266372</td>\n",
       "      <td>0.109039</td>\n",
       "      <td>-0.166584</td>\n",
       "      <td>-0.294326</td>\n",
       "      <td>-0.053085</td>\n",
       "      <td>0.150146</td>\n",
       "      <td>0.304883</td>\n",
       "      <td>0.368951</td>\n",
       "      <td>...</td>\n",
       "      <td>-0.142109</td>\n",
       "      <td>-0.482496</td>\n",
       "      <td>0.465995</td>\n",
       "      <td>-0.077088</td>\n",
       "      <td>0.226020</td>\n",
       "      <td>0.523076</td>\n",
       "      <td>-0.427591</td>\n",
       "      <td>-0.406878</td>\n",
       "      <td>0.511194</td>\n",
       "      <td>classification</td>\n",
       "    </tr>\n",
       "  </tbody>\n",
       "</table>\n",
       "<p>5 rows × 769 columns</p>\n",
       "</div>"
      ],
      "text/plain": [
       "   num_feature_0  num_feature_1  num_feature_2  num_feature_3  num_feature_4  \\\n",
       "0      -0.347906       0.298659       0.306194       0.055175      -0.430964   \n",
       "1      -0.381965       0.317170       0.336794       0.081098      -0.454720   \n",
       "2      -0.334516       0.283154       0.291431       0.043395      -0.385153   \n",
       "3      -0.275612       0.267364       0.266519       0.076538      -0.282673   \n",
       "4      -0.243645       0.288036       0.266372       0.109039      -0.166584   \n",
       "\n",
       "   num_feature_5  num_feature_6  num_feature_7  num_feature_8  num_feature_9  \\\n",
       "0      -0.466804      -0.108935       0.225360       0.385942       0.492067   \n",
       "1      -0.551013      -0.051526       0.256912       0.381023       0.474694   \n",
       "2      -0.494500      -0.111106       0.227195       0.380586       0.548708   \n",
       "3      -0.329046      -0.045134       0.221697       0.293198       0.421586   \n",
       "4      -0.294326      -0.053085       0.150146       0.304883       0.368951   \n",
       "\n",
       "   ...  num_feature_759  num_feature_760  num_feature_761  num_feature_762  \\\n",
       "0  ...        -0.174081        -0.516293         0.402670        -0.094396   \n",
       "1  ...        -0.182501        -0.524450         0.344222        -0.027710   \n",
       "2  ...        -0.169292        -0.530989         0.416996        -0.104790   \n",
       "3  ...        -0.149041        -0.485052         0.493056        -0.112996   \n",
       "4  ...        -0.142109        -0.482496         0.465995        -0.077088   \n",
       "\n",
       "   num_feature_763  num_feature_764  num_feature_765  num_feature_766  \\\n",
       "0         0.222461         0.574193        -0.606644        -0.461940   \n",
       "1         0.259213         0.608695        -0.722355        -0.420306   \n",
       "2         0.218367         0.636691        -0.612310        -0.446481   \n",
       "3         0.220296         0.618480        -0.594641        -0.469342   \n",
       "4         0.226020         0.523076        -0.427591        -0.406878   \n",
       "\n",
       "   num_feature_767  target_category  \n",
       "0         0.539914  computer vision  \n",
       "1         0.589060       clustering  \n",
       "2         0.508087  computer vision  \n",
       "3         0.497985              nlp  \n",
       "4         0.511194   classification  \n",
       "\n",
       "[5 rows x 769 columns]"
      ]
     },
     "execution_count": 5,
     "metadata": {},
     "output_type": "execute_result"
    }
   ],
   "source": [
    "final_df = pd.read_csv(DATA_PATH + 'final_data.csv')\n",
    "final_df.head()"
   ]
  },
  {
   "cell_type": "code",
   "execution_count": 26,
   "metadata": {},
   "outputs": [],
   "source": [
    "x = final_df.drop('target_category', axis = 1).copy()\n",
    "y = final_df['target_category'].copy()"
   ]
  },
  {
   "cell_type": "code",
   "execution_count": 27,
   "metadata": {},
   "outputs": [],
   "source": [
    "xtrain, xtest,  ytrain, ytest = train_test_split(x, y, test_size=0.2)"
   ]
  },
  {
   "cell_type": "code",
   "execution_count": 8,
   "metadata": {},
   "outputs": [
    {
     "data": {
      "text/plain": [
       "4406     classification\n",
       "6008    computer vision\n",
       "6229    computer vision\n",
       "3292         regression\n",
       "3832         clustering\n",
       "             ...       \n",
       "2042    computer vision\n",
       "5186         clustering\n",
       "4954         regression\n",
       "4767                nlp\n",
       "623                 nlp\n",
       "Name: target_category, Length: 5008, dtype: object"
      ]
     },
     "execution_count": 8,
     "metadata": {},
     "output_type": "execute_result"
    }
   ],
   "source": [
    "ytrain"
   ]
  },
  {
   "cell_type": "code",
   "execution_count": 30,
   "metadata": {},
   "outputs": [],
   "source": [
    "logr = LogisticRegression(max_iter=10000)"
   ]
  },
  {
   "cell_type": "code",
   "execution_count": 31,
   "metadata": {},
   "outputs": [
    {
     "data": {
      "text/html": [
       "<style>#sk-container-id-2 {color: black;background-color: white;}#sk-container-id-2 pre{padding: 0;}#sk-container-id-2 div.sk-toggleable {background-color: white;}#sk-container-id-2 label.sk-toggleable__label {cursor: pointer;display: block;width: 100%;margin-bottom: 0;padding: 0.3em;box-sizing: border-box;text-align: center;}#sk-container-id-2 label.sk-toggleable__label-arrow:before {content: \"▸\";float: left;margin-right: 0.25em;color: #696969;}#sk-container-id-2 label.sk-toggleable__label-arrow:hover:before {color: black;}#sk-container-id-2 div.sk-estimator:hover label.sk-toggleable__label-arrow:before {color: black;}#sk-container-id-2 div.sk-toggleable__content {max-height: 0;max-width: 0;overflow: hidden;text-align: left;background-color: #f0f8ff;}#sk-container-id-2 div.sk-toggleable__content pre {margin: 0.2em;color: black;border-radius: 0.25em;background-color: #f0f8ff;}#sk-container-id-2 input.sk-toggleable__control:checked~div.sk-toggleable__content {max-height: 200px;max-width: 100%;overflow: auto;}#sk-container-id-2 input.sk-toggleable__control:checked~label.sk-toggleable__label-arrow:before {content: \"▾\";}#sk-container-id-2 div.sk-estimator input.sk-toggleable__control:checked~label.sk-toggleable__label {background-color: #d4ebff;}#sk-container-id-2 div.sk-label input.sk-toggleable__control:checked~label.sk-toggleable__label {background-color: #d4ebff;}#sk-container-id-2 input.sk-hidden--visually {border: 0;clip: rect(1px 1px 1px 1px);clip: rect(1px, 1px, 1px, 1px);height: 1px;margin: -1px;overflow: hidden;padding: 0;position: absolute;width: 1px;}#sk-container-id-2 div.sk-estimator {font-family: monospace;background-color: #f0f8ff;border: 1px dotted black;border-radius: 0.25em;box-sizing: border-box;margin-bottom: 0.5em;}#sk-container-id-2 div.sk-estimator:hover {background-color: #d4ebff;}#sk-container-id-2 div.sk-parallel-item::after {content: \"\";width: 100%;border-bottom: 1px solid gray;flex-grow: 1;}#sk-container-id-2 div.sk-label:hover label.sk-toggleable__label {background-color: #d4ebff;}#sk-container-id-2 div.sk-serial::before {content: \"\";position: absolute;border-left: 1px solid gray;box-sizing: border-box;top: 0;bottom: 0;left: 50%;z-index: 0;}#sk-container-id-2 div.sk-serial {display: flex;flex-direction: column;align-items: center;background-color: white;padding-right: 0.2em;padding-left: 0.2em;position: relative;}#sk-container-id-2 div.sk-item {position: relative;z-index: 1;}#sk-container-id-2 div.sk-parallel {display: flex;align-items: stretch;justify-content: center;background-color: white;position: relative;}#sk-container-id-2 div.sk-item::before, #sk-container-id-2 div.sk-parallel-item::before {content: \"\";position: absolute;border-left: 1px solid gray;box-sizing: border-box;top: 0;bottom: 0;left: 50%;z-index: -1;}#sk-container-id-2 div.sk-parallel-item {display: flex;flex-direction: column;z-index: 1;position: relative;background-color: white;}#sk-container-id-2 div.sk-parallel-item:first-child::after {align-self: flex-end;width: 50%;}#sk-container-id-2 div.sk-parallel-item:last-child::after {align-self: flex-start;width: 50%;}#sk-container-id-2 div.sk-parallel-item:only-child::after {width: 0;}#sk-container-id-2 div.sk-dashed-wrapped {border: 1px dashed gray;margin: 0 0.4em 0.5em 0.4em;box-sizing: border-box;padding-bottom: 0.4em;background-color: white;}#sk-container-id-2 div.sk-label label {font-family: monospace;font-weight: bold;display: inline-block;line-height: 1.2em;}#sk-container-id-2 div.sk-label-container {text-align: center;}#sk-container-id-2 div.sk-container {/* jupyter's `normalize.less` sets `[hidden] { display: none; }` but bootstrap.min.css set `[hidden] { display: none !important; }` so we also need the `!important` here to be able to override the default hidden behavior on the sphinx rendered scikit-learn.org. See: https://github.com/scikit-learn/scikit-learn/issues/21755 */display: inline-block !important;position: relative;}#sk-container-id-2 div.sk-text-repr-fallback {display: none;}</style><div id=\"sk-container-id-2\" class=\"sk-top-container\"><div class=\"sk-text-repr-fallback\"><pre>LogisticRegression(max_iter=10000)</pre><b>In a Jupyter environment, please rerun this cell to show the HTML representation or trust the notebook. <br />On GitHub, the HTML representation is unable to render, please try loading this page with nbviewer.org.</b></div><div class=\"sk-container\" hidden><div class=\"sk-item\"><div class=\"sk-estimator sk-toggleable\"><input class=\"sk-toggleable__control sk-hidden--visually\" id=\"sk-estimator-id-2\" type=\"checkbox\" checked><label for=\"sk-estimator-id-2\" class=\"sk-toggleable__label sk-toggleable__label-arrow\">LogisticRegression</label><div class=\"sk-toggleable__content\"><pre>LogisticRegression(max_iter=10000)</pre></div></div></div></div></div>"
      ],
      "text/plain": [
       "LogisticRegression(max_iter=10000)"
      ]
     },
     "execution_count": 31,
     "metadata": {},
     "output_type": "execute_result"
    }
   ],
   "source": [
    "logr.fit(xtrain, ytrain)"
   ]
  },
  {
   "cell_type": "code",
   "execution_count": 32,
   "metadata": {},
   "outputs": [],
   "source": [
    "yhat = logr.predict(xtest)"
   ]
  },
  {
   "cell_type": "code",
   "execution_count": 33,
   "metadata": {},
   "outputs": [
    {
     "data": {
      "text/plain": [
       "0.7859424920127795"
      ]
     },
     "execution_count": 33,
     "metadata": {},
     "output_type": "execute_result"
    }
   ],
   "source": [
    "accuracy_score(yhat, ytest)"
   ]
  },
  {
   "cell_type": "code",
   "execution_count": 63,
   "metadata": {},
   "outputs": [
    {
     "data": {
      "text/plain": [
       "[[89, 19, 6, 16, 30, 1],\n",
       " [9, 163, 10, 15, 22, 1],\n",
       " [3, 3, 192, 28, 1, 1],\n",
       " [4, 5, 18, 303, 7, 1],\n",
       " [12, 20, 2, 6, 187, 2],\n",
       " [3, 2, 6, 12, 3, 50]]"
      ]
     },
     "execution_count": 63,
     "metadata": {},
     "output_type": "execute_result"
    }
   ],
   "source": [
    "conf_m = confusion_matrix(ytest, yhat).tolist()\n",
    "conf_m"
   ]
  },
  {
   "cell_type": "code",
   "execution_count": 71,
   "metadata": {},
   "outputs": [
    {
     "data": {
      "application/vnd.plotly.v1+json": {
       "config": {
        "plotlyServerURL": "https://plot.ly"
       },
       "data": [
        {
         "colorscale": [
          [
           0,
           "#440154"
          ],
          [
           0.1111111111111111,
           "#482878"
          ],
          [
           0.2222222222222222,
           "#3e4989"
          ],
          [
           0.3333333333333333,
           "#31688e"
          ],
          [
           0.4444444444444444,
           "#26828e"
          ],
          [
           0.5555555555555556,
           "#1f9e89"
          ],
          [
           0.6666666666666666,
           "#35b779"
          ],
          [
           0.7777777777777778,
           "#6ece58"
          ],
          [
           0.8888888888888888,
           "#b5de2b"
          ],
          [
           1,
           "#fde725"
          ]
         ],
         "reversescale": false,
         "showscale": true,
         "type": "heatmap",
         "x": [
          "computer vision",
          "clustering",
          "nlp",
          "classification",
          "regression",
          "reinforcement learning"
         ],
         "y": [
          "computer vision",
          "clustering",
          "nlp",
          "classification",
          "regression",
          "reinforcement learning"
         ],
         "z": [
          [
           89,
           19,
           6,
           16,
           30,
           1
          ],
          [
           9,
           163,
           10,
           15,
           22,
           1
          ],
          [
           3,
           3,
           192,
           28,
           1,
           1
          ],
          [
           4,
           5,
           18,
           303,
           7,
           1
          ],
          [
           12,
           20,
           2,
           6,
           187,
           2
          ],
          [
           3,
           2,
           6,
           12,
           3,
           50
          ]
         ]
        }
       ],
       "layout": {
        "annotations": [
         {
          "font": {
           "color": "#FFFFFF"
          },
          "showarrow": false,
          "text": "89",
          "x": "computer vision",
          "xref": "x",
          "y": "computer vision",
          "yref": "y"
         },
         {
          "font": {
           "color": "#FFFFFF"
          },
          "showarrow": false,
          "text": "19",
          "x": "clustering",
          "xref": "x",
          "y": "computer vision",
          "yref": "y"
         },
         {
          "font": {
           "color": "#FFFFFF"
          },
          "showarrow": false,
          "text": "6",
          "x": "nlp",
          "xref": "x",
          "y": "computer vision",
          "yref": "y"
         },
         {
          "font": {
           "color": "#FFFFFF"
          },
          "showarrow": false,
          "text": "16",
          "x": "classification",
          "xref": "x",
          "y": "computer vision",
          "yref": "y"
         },
         {
          "font": {
           "color": "#FFFFFF"
          },
          "showarrow": false,
          "text": "30",
          "x": "regression",
          "xref": "x",
          "y": "computer vision",
          "yref": "y"
         },
         {
          "font": {
           "color": "#FFFFFF"
          },
          "showarrow": false,
          "text": "1",
          "x": "reinforcement learning",
          "xref": "x",
          "y": "computer vision",
          "yref": "y"
         },
         {
          "font": {
           "color": "#FFFFFF"
          },
          "showarrow": false,
          "text": "9",
          "x": "computer vision",
          "xref": "x",
          "y": "clustering",
          "yref": "y"
         },
         {
          "font": {
           "color": "#000000"
          },
          "showarrow": false,
          "text": "163",
          "x": "clustering",
          "xref": "x",
          "y": "clustering",
          "yref": "y"
         },
         {
          "font": {
           "color": "#FFFFFF"
          },
          "showarrow": false,
          "text": "10",
          "x": "nlp",
          "xref": "x",
          "y": "clustering",
          "yref": "y"
         },
         {
          "font": {
           "color": "#FFFFFF"
          },
          "showarrow": false,
          "text": "15",
          "x": "classification",
          "xref": "x",
          "y": "clustering",
          "yref": "y"
         },
         {
          "font": {
           "color": "#FFFFFF"
          },
          "showarrow": false,
          "text": "22",
          "x": "regression",
          "xref": "x",
          "y": "clustering",
          "yref": "y"
         },
         {
          "font": {
           "color": "#FFFFFF"
          },
          "showarrow": false,
          "text": "1",
          "x": "reinforcement learning",
          "xref": "x",
          "y": "clustering",
          "yref": "y"
         },
         {
          "font": {
           "color": "#FFFFFF"
          },
          "showarrow": false,
          "text": "3",
          "x": "computer vision",
          "xref": "x",
          "y": "nlp",
          "yref": "y"
         },
         {
          "font": {
           "color": "#FFFFFF"
          },
          "showarrow": false,
          "text": "3",
          "x": "clustering",
          "xref": "x",
          "y": "nlp",
          "yref": "y"
         },
         {
          "font": {
           "color": "#000000"
          },
          "showarrow": false,
          "text": "192",
          "x": "nlp",
          "xref": "x",
          "y": "nlp",
          "yref": "y"
         },
         {
          "font": {
           "color": "#FFFFFF"
          },
          "showarrow": false,
          "text": "28",
          "x": "classification",
          "xref": "x",
          "y": "nlp",
          "yref": "y"
         },
         {
          "font": {
           "color": "#FFFFFF"
          },
          "showarrow": false,
          "text": "1",
          "x": "regression",
          "xref": "x",
          "y": "nlp",
          "yref": "y"
         },
         {
          "font": {
           "color": "#FFFFFF"
          },
          "showarrow": false,
          "text": "1",
          "x": "reinforcement learning",
          "xref": "x",
          "y": "nlp",
          "yref": "y"
         },
         {
          "font": {
           "color": "#FFFFFF"
          },
          "showarrow": false,
          "text": "4",
          "x": "computer vision",
          "xref": "x",
          "y": "classification",
          "yref": "y"
         },
         {
          "font": {
           "color": "#FFFFFF"
          },
          "showarrow": false,
          "text": "5",
          "x": "clustering",
          "xref": "x",
          "y": "classification",
          "yref": "y"
         },
         {
          "font": {
           "color": "#FFFFFF"
          },
          "showarrow": false,
          "text": "18",
          "x": "nlp",
          "xref": "x",
          "y": "classification",
          "yref": "y"
         },
         {
          "font": {
           "color": "#000000"
          },
          "showarrow": false,
          "text": "303",
          "x": "classification",
          "xref": "x",
          "y": "classification",
          "yref": "y"
         },
         {
          "font": {
           "color": "#FFFFFF"
          },
          "showarrow": false,
          "text": "7",
          "x": "regression",
          "xref": "x",
          "y": "classification",
          "yref": "y"
         },
         {
          "font": {
           "color": "#FFFFFF"
          },
          "showarrow": false,
          "text": "1",
          "x": "reinforcement learning",
          "xref": "x",
          "y": "classification",
          "yref": "y"
         },
         {
          "font": {
           "color": "#FFFFFF"
          },
          "showarrow": false,
          "text": "12",
          "x": "computer vision",
          "xref": "x",
          "y": "regression",
          "yref": "y"
         },
         {
          "font": {
           "color": "#FFFFFF"
          },
          "showarrow": false,
          "text": "20",
          "x": "clustering",
          "xref": "x",
          "y": "regression",
          "yref": "y"
         },
         {
          "font": {
           "color": "#FFFFFF"
          },
          "showarrow": false,
          "text": "2",
          "x": "nlp",
          "xref": "x",
          "y": "regression",
          "yref": "y"
         },
         {
          "font": {
           "color": "#FFFFFF"
          },
          "showarrow": false,
          "text": "6",
          "x": "classification",
          "xref": "x",
          "y": "regression",
          "yref": "y"
         },
         {
          "font": {
           "color": "#000000"
          },
          "showarrow": false,
          "text": "187",
          "x": "regression",
          "xref": "x",
          "y": "regression",
          "yref": "y"
         },
         {
          "font": {
           "color": "#FFFFFF"
          },
          "showarrow": false,
          "text": "2",
          "x": "reinforcement learning",
          "xref": "x",
          "y": "regression",
          "yref": "y"
         },
         {
          "font": {
           "color": "#FFFFFF"
          },
          "showarrow": false,
          "text": "3",
          "x": "computer vision",
          "xref": "x",
          "y": "reinforcement learning",
          "yref": "y"
         },
         {
          "font": {
           "color": "#FFFFFF"
          },
          "showarrow": false,
          "text": "2",
          "x": "clustering",
          "xref": "x",
          "y": "reinforcement learning",
          "yref": "y"
         },
         {
          "font": {
           "color": "#FFFFFF"
          },
          "showarrow": false,
          "text": "6",
          "x": "nlp",
          "xref": "x",
          "y": "reinforcement learning",
          "yref": "y"
         },
         {
          "font": {
           "color": "#FFFFFF"
          },
          "showarrow": false,
          "text": "12",
          "x": "classification",
          "xref": "x",
          "y": "reinforcement learning",
          "yref": "y"
         },
         {
          "font": {
           "color": "#FFFFFF"
          },
          "showarrow": false,
          "text": "3",
          "x": "regression",
          "xref": "x",
          "y": "reinforcement learning",
          "yref": "y"
         },
         {
          "font": {
           "color": "#FFFFFF"
          },
          "showarrow": false,
          "text": "50",
          "x": "reinforcement learning",
          "xref": "x",
          "y": "reinforcement learning",
          "yref": "y"
         },
         {
          "font": {
           "color": "black",
           "size": 14
          },
          "showarrow": false,
          "text": "Predicted value",
          "x": 0.5,
          "xref": "paper",
          "y": -0.15,
          "yref": "paper"
         },
         {
          "font": {
           "color": "black",
           "size": 14
          },
          "showarrow": false,
          "text": "Real value",
          "textangle": -90,
          "x": -0.35,
          "xref": "paper",
          "y": 0.5,
          "yref": "paper"
         }
        ],
        "margin": {
         "l": 200,
         "t": 50
        },
        "template": {
         "data": {
          "bar": [
           {
            "error_x": {
             "color": "#2a3f5f"
            },
            "error_y": {
             "color": "#2a3f5f"
            },
            "marker": {
             "line": {
              "color": "#E5ECF6",
              "width": 0.5
             },
             "pattern": {
              "fillmode": "overlay",
              "size": 10,
              "solidity": 0.2
             }
            },
            "type": "bar"
           }
          ],
          "barpolar": [
           {
            "marker": {
             "line": {
              "color": "#E5ECF6",
              "width": 0.5
             },
             "pattern": {
              "fillmode": "overlay",
              "size": 10,
              "solidity": 0.2
             }
            },
            "type": "barpolar"
           }
          ],
          "carpet": [
           {
            "aaxis": {
             "endlinecolor": "#2a3f5f",
             "gridcolor": "white",
             "linecolor": "white",
             "minorgridcolor": "white",
             "startlinecolor": "#2a3f5f"
            },
            "baxis": {
             "endlinecolor": "#2a3f5f",
             "gridcolor": "white",
             "linecolor": "white",
             "minorgridcolor": "white",
             "startlinecolor": "#2a3f5f"
            },
            "type": "carpet"
           }
          ],
          "choropleth": [
           {
            "colorbar": {
             "outlinewidth": 0,
             "ticks": ""
            },
            "type": "choropleth"
           }
          ],
          "contour": [
           {
            "colorbar": {
             "outlinewidth": 0,
             "ticks": ""
            },
            "colorscale": [
             [
              0,
              "#0d0887"
             ],
             [
              0.1111111111111111,
              "#46039f"
             ],
             [
              0.2222222222222222,
              "#7201a8"
             ],
             [
              0.3333333333333333,
              "#9c179e"
             ],
             [
              0.4444444444444444,
              "#bd3786"
             ],
             [
              0.5555555555555556,
              "#d8576b"
             ],
             [
              0.6666666666666666,
              "#ed7953"
             ],
             [
              0.7777777777777778,
              "#fb9f3a"
             ],
             [
              0.8888888888888888,
              "#fdca26"
             ],
             [
              1,
              "#f0f921"
             ]
            ],
            "type": "contour"
           }
          ],
          "contourcarpet": [
           {
            "colorbar": {
             "outlinewidth": 0,
             "ticks": ""
            },
            "type": "contourcarpet"
           }
          ],
          "heatmap": [
           {
            "colorbar": {
             "outlinewidth": 0,
             "ticks": ""
            },
            "colorscale": [
             [
              0,
              "#0d0887"
             ],
             [
              0.1111111111111111,
              "#46039f"
             ],
             [
              0.2222222222222222,
              "#7201a8"
             ],
             [
              0.3333333333333333,
              "#9c179e"
             ],
             [
              0.4444444444444444,
              "#bd3786"
             ],
             [
              0.5555555555555556,
              "#d8576b"
             ],
             [
              0.6666666666666666,
              "#ed7953"
             ],
             [
              0.7777777777777778,
              "#fb9f3a"
             ],
             [
              0.8888888888888888,
              "#fdca26"
             ],
             [
              1,
              "#f0f921"
             ]
            ],
            "type": "heatmap"
           }
          ],
          "heatmapgl": [
           {
            "colorbar": {
             "outlinewidth": 0,
             "ticks": ""
            },
            "colorscale": [
             [
              0,
              "#0d0887"
             ],
             [
              0.1111111111111111,
              "#46039f"
             ],
             [
              0.2222222222222222,
              "#7201a8"
             ],
             [
              0.3333333333333333,
              "#9c179e"
             ],
             [
              0.4444444444444444,
              "#bd3786"
             ],
             [
              0.5555555555555556,
              "#d8576b"
             ],
             [
              0.6666666666666666,
              "#ed7953"
             ],
             [
              0.7777777777777778,
              "#fb9f3a"
             ],
             [
              0.8888888888888888,
              "#fdca26"
             ],
             [
              1,
              "#f0f921"
             ]
            ],
            "type": "heatmapgl"
           }
          ],
          "histogram": [
           {
            "marker": {
             "pattern": {
              "fillmode": "overlay",
              "size": 10,
              "solidity": 0.2
             }
            },
            "type": "histogram"
           }
          ],
          "histogram2d": [
           {
            "colorbar": {
             "outlinewidth": 0,
             "ticks": ""
            },
            "colorscale": [
             [
              0,
              "#0d0887"
             ],
             [
              0.1111111111111111,
              "#46039f"
             ],
             [
              0.2222222222222222,
              "#7201a8"
             ],
             [
              0.3333333333333333,
              "#9c179e"
             ],
             [
              0.4444444444444444,
              "#bd3786"
             ],
             [
              0.5555555555555556,
              "#d8576b"
             ],
             [
              0.6666666666666666,
              "#ed7953"
             ],
             [
              0.7777777777777778,
              "#fb9f3a"
             ],
             [
              0.8888888888888888,
              "#fdca26"
             ],
             [
              1,
              "#f0f921"
             ]
            ],
            "type": "histogram2d"
           }
          ],
          "histogram2dcontour": [
           {
            "colorbar": {
             "outlinewidth": 0,
             "ticks": ""
            },
            "colorscale": [
             [
              0,
              "#0d0887"
             ],
             [
              0.1111111111111111,
              "#46039f"
             ],
             [
              0.2222222222222222,
              "#7201a8"
             ],
             [
              0.3333333333333333,
              "#9c179e"
             ],
             [
              0.4444444444444444,
              "#bd3786"
             ],
             [
              0.5555555555555556,
              "#d8576b"
             ],
             [
              0.6666666666666666,
              "#ed7953"
             ],
             [
              0.7777777777777778,
              "#fb9f3a"
             ],
             [
              0.8888888888888888,
              "#fdca26"
             ],
             [
              1,
              "#f0f921"
             ]
            ],
            "type": "histogram2dcontour"
           }
          ],
          "mesh3d": [
           {
            "colorbar": {
             "outlinewidth": 0,
             "ticks": ""
            },
            "type": "mesh3d"
           }
          ],
          "parcoords": [
           {
            "line": {
             "colorbar": {
              "outlinewidth": 0,
              "ticks": ""
             }
            },
            "type": "parcoords"
           }
          ],
          "pie": [
           {
            "automargin": true,
            "type": "pie"
           }
          ],
          "scatter": [
           {
            "fillpattern": {
             "fillmode": "overlay",
             "size": 10,
             "solidity": 0.2
            },
            "type": "scatter"
           }
          ],
          "scatter3d": [
           {
            "line": {
             "colorbar": {
              "outlinewidth": 0,
              "ticks": ""
             }
            },
            "marker": {
             "colorbar": {
              "outlinewidth": 0,
              "ticks": ""
             }
            },
            "type": "scatter3d"
           }
          ],
          "scattercarpet": [
           {
            "marker": {
             "colorbar": {
              "outlinewidth": 0,
              "ticks": ""
             }
            },
            "type": "scattercarpet"
           }
          ],
          "scattergeo": [
           {
            "marker": {
             "colorbar": {
              "outlinewidth": 0,
              "ticks": ""
             }
            },
            "type": "scattergeo"
           }
          ],
          "scattergl": [
           {
            "marker": {
             "colorbar": {
              "outlinewidth": 0,
              "ticks": ""
             }
            },
            "type": "scattergl"
           }
          ],
          "scattermapbox": [
           {
            "marker": {
             "colorbar": {
              "outlinewidth": 0,
              "ticks": ""
             }
            },
            "type": "scattermapbox"
           }
          ],
          "scatterpolar": [
           {
            "marker": {
             "colorbar": {
              "outlinewidth": 0,
              "ticks": ""
             }
            },
            "type": "scatterpolar"
           }
          ],
          "scatterpolargl": [
           {
            "marker": {
             "colorbar": {
              "outlinewidth": 0,
              "ticks": ""
             }
            },
            "type": "scatterpolargl"
           }
          ],
          "scatterternary": [
           {
            "marker": {
             "colorbar": {
              "outlinewidth": 0,
              "ticks": ""
             }
            },
            "type": "scatterternary"
           }
          ],
          "surface": [
           {
            "colorbar": {
             "outlinewidth": 0,
             "ticks": ""
            },
            "colorscale": [
             [
              0,
              "#0d0887"
             ],
             [
              0.1111111111111111,
              "#46039f"
             ],
             [
              0.2222222222222222,
              "#7201a8"
             ],
             [
              0.3333333333333333,
              "#9c179e"
             ],
             [
              0.4444444444444444,
              "#bd3786"
             ],
             [
              0.5555555555555556,
              "#d8576b"
             ],
             [
              0.6666666666666666,
              "#ed7953"
             ],
             [
              0.7777777777777778,
              "#fb9f3a"
             ],
             [
              0.8888888888888888,
              "#fdca26"
             ],
             [
              1,
              "#f0f921"
             ]
            ],
            "type": "surface"
           }
          ],
          "table": [
           {
            "cells": {
             "fill": {
              "color": "#EBF0F8"
             },
             "line": {
              "color": "white"
             }
            },
            "header": {
             "fill": {
              "color": "#C8D4E3"
             },
             "line": {
              "color": "white"
             }
            },
            "type": "table"
           }
          ]
         },
         "layout": {
          "annotationdefaults": {
           "arrowcolor": "#2a3f5f",
           "arrowhead": 0,
           "arrowwidth": 1
          },
          "autotypenumbers": "strict",
          "coloraxis": {
           "colorbar": {
            "outlinewidth": 0,
            "ticks": ""
           }
          },
          "colorscale": {
           "diverging": [
            [
             0,
             "#8e0152"
            ],
            [
             0.1,
             "#c51b7d"
            ],
            [
             0.2,
             "#de77ae"
            ],
            [
             0.3,
             "#f1b6da"
            ],
            [
             0.4,
             "#fde0ef"
            ],
            [
             0.5,
             "#f7f7f7"
            ],
            [
             0.6,
             "#e6f5d0"
            ],
            [
             0.7,
             "#b8e186"
            ],
            [
             0.8,
             "#7fbc41"
            ],
            [
             0.9,
             "#4d9221"
            ],
            [
             1,
             "#276419"
            ]
           ],
           "sequential": [
            [
             0,
             "#0d0887"
            ],
            [
             0.1111111111111111,
             "#46039f"
            ],
            [
             0.2222222222222222,
             "#7201a8"
            ],
            [
             0.3333333333333333,
             "#9c179e"
            ],
            [
             0.4444444444444444,
             "#bd3786"
            ],
            [
             0.5555555555555556,
             "#d8576b"
            ],
            [
             0.6666666666666666,
             "#ed7953"
            ],
            [
             0.7777777777777778,
             "#fb9f3a"
            ],
            [
             0.8888888888888888,
             "#fdca26"
            ],
            [
             1,
             "#f0f921"
            ]
           ],
           "sequentialminus": [
            [
             0,
             "#0d0887"
            ],
            [
             0.1111111111111111,
             "#46039f"
            ],
            [
             0.2222222222222222,
             "#7201a8"
            ],
            [
             0.3333333333333333,
             "#9c179e"
            ],
            [
             0.4444444444444444,
             "#bd3786"
            ],
            [
             0.5555555555555556,
             "#d8576b"
            ],
            [
             0.6666666666666666,
             "#ed7953"
            ],
            [
             0.7777777777777778,
             "#fb9f3a"
            ],
            [
             0.8888888888888888,
             "#fdca26"
            ],
            [
             1,
             "#f0f921"
            ]
           ]
          },
          "colorway": [
           "#636efa",
           "#EF553B",
           "#00cc96",
           "#ab63fa",
           "#FFA15A",
           "#19d3f3",
           "#FF6692",
           "#B6E880",
           "#FF97FF",
           "#FECB52"
          ],
          "font": {
           "color": "#2a3f5f"
          },
          "geo": {
           "bgcolor": "white",
           "lakecolor": "white",
           "landcolor": "#E5ECF6",
           "showlakes": true,
           "showland": true,
           "subunitcolor": "white"
          },
          "hoverlabel": {
           "align": "left"
          },
          "hovermode": "closest",
          "mapbox": {
           "style": "light"
          },
          "paper_bgcolor": "white",
          "plot_bgcolor": "#E5ECF6",
          "polar": {
           "angularaxis": {
            "gridcolor": "white",
            "linecolor": "white",
            "ticks": ""
           },
           "bgcolor": "#E5ECF6",
           "radialaxis": {
            "gridcolor": "white",
            "linecolor": "white",
            "ticks": ""
           }
          },
          "scene": {
           "xaxis": {
            "backgroundcolor": "#E5ECF6",
            "gridcolor": "white",
            "gridwidth": 2,
            "linecolor": "white",
            "showbackground": true,
            "ticks": "",
            "zerolinecolor": "white"
           },
           "yaxis": {
            "backgroundcolor": "#E5ECF6",
            "gridcolor": "white",
            "gridwidth": 2,
            "linecolor": "white",
            "showbackground": true,
            "ticks": "",
            "zerolinecolor": "white"
           },
           "zaxis": {
            "backgroundcolor": "#E5ECF6",
            "gridcolor": "white",
            "gridwidth": 2,
            "linecolor": "white",
            "showbackground": true,
            "ticks": "",
            "zerolinecolor": "white"
           }
          },
          "shapedefaults": {
           "line": {
            "color": "#2a3f5f"
           }
          },
          "ternary": {
           "aaxis": {
            "gridcolor": "white",
            "linecolor": "white",
            "ticks": ""
           },
           "baxis": {
            "gridcolor": "white",
            "linecolor": "white",
            "ticks": ""
           },
           "bgcolor": "#E5ECF6",
           "caxis": {
            "gridcolor": "white",
            "linecolor": "white",
            "ticks": ""
           }
          },
          "title": {
           "x": 0.05
          },
          "xaxis": {
           "automargin": true,
           "gridcolor": "white",
           "linecolor": "white",
           "ticks": "",
           "title": {
            "standoff": 15
           },
           "zerolinecolor": "white",
           "zerolinewidth": 2
          },
          "yaxis": {
           "automargin": true,
           "gridcolor": "white",
           "linecolor": "white",
           "ticks": "",
           "title": {
            "standoff": 15
           },
           "zerolinecolor": "white",
           "zerolinewidth": 2
          }
         }
        },
        "title": {
         "text": "<b>Confusion matrix</b>"
        },
        "xaxis": {
         "dtick": 1,
         "gridcolor": "rgb(0, 0, 0)",
         "side": "top",
         "ticks": ""
        },
        "yaxis": {
         "dtick": 1,
         "ticks": "",
         "ticksuffix": "  "
        }
       }
      }
     },
     "metadata": {},
     "output_type": "display_data"
    }
   ],
   "source": [
    "# invert conf_m ida values\n",
    "conf_m = conf_m[::-1]\n",
    "\n",
    "a = list(y.unique())\n",
    "b = list(y.unique()) # invert idx values of a\n",
    "\n",
    "# change each element of conf_m to tbpe string for annotations\n",
    "conf_m_text = [[str(b) for b in a] for a in conf_m]\n",
    "\n",
    "# set up figure \n",
    "fig = ff.create_annotated_heatmap(conf_m, x=a, y=b, annotation_text=conf_m_text, colorscale='Viridis')\n",
    "\n",
    "# add title\n",
    "fig.update_layout(title_text='<b>Confusion matrix</b>',\n",
    "                  #aaais = dict(title='a'),\n",
    "                  #baais = dict(title='a')\n",
    "                 )\n",
    "\n",
    "# add custom aaais title\n",
    "fig.add_annotation(dict(font=dict(color=\"black\",size=14),\n",
    "                        x=0.5,\n",
    "                        y=-0.15,\n",
    "                        showarrow=False,\n",
    "                        text=\"Predicted value\",\n",
    "                        xref=\"paper\",\n",
    "                        yref=\"paper\"))\n",
    "\n",
    "# add custom baais title\n",
    "fig.add_annotation(dict(font=dict(color=\"black\",size=14),\n",
    "                        x=-0.35,\n",
    "                        y=0.5,\n",
    "                        showarrow=False,\n",
    "                        text=\"Real value\",\n",
    "                        textangle=-90,\n",
    "                        xref=\"paper\",\n",
    "                        yref=\"paper\"))\n",
    "\n",
    "# adjust margins to make room for baais title\n",
    "fig.update_layout(margin=dict(t=50, l=200))\n",
    "\n",
    "# add colorbar\n",
    "fig['data'][0]['showscale'] = True\n",
    "fig.show()"
   ]
  },
  {
   "cell_type": "markdown",
   "metadata": {},
   "source": [
    "Let's try balancing our dataset "
   ]
  },
  {
   "cell_type": "code",
   "execution_count": 28,
   "metadata": {},
   "outputs": [],
   "source": [
    "logr_bal = LogisticRegression(max_iter=10000, class_weight='balanced')"
   ]
  },
  {
   "cell_type": "code",
   "execution_count": 29,
   "metadata": {},
   "outputs": [
    {
     "data": {
      "text/html": [
       "<style>#sk-container-id-3 {color: black;background-color: white;}#sk-container-id-3 pre{padding: 0;}#sk-container-id-3 div.sk-toggleable {background-color: white;}#sk-container-id-3 label.sk-toggleable__label {cursor: pointer;display: block;width: 100%;margin-bottom: 0;padding: 0.3em;box-sizing: border-box;text-align: center;}#sk-container-id-3 label.sk-toggleable__label-arrow:before {content: \"▸\";float: left;margin-right: 0.25em;color: #696969;}#sk-container-id-3 label.sk-toggleable__label-arrow:hover:before {color: black;}#sk-container-id-3 div.sk-estimator:hover label.sk-toggleable__label-arrow:before {color: black;}#sk-container-id-3 div.sk-toggleable__content {max-height: 0;max-width: 0;overflow: hidden;text-align: left;background-color: #f0f8ff;}#sk-container-id-3 div.sk-toggleable__content pre {margin: 0.2em;color: black;border-radius: 0.25em;background-color: #f0f8ff;}#sk-container-id-3 input.sk-toggleable__control:checked~div.sk-toggleable__content {max-height: 200px;max-width: 100%;overflow: auto;}#sk-container-id-3 input.sk-toggleable__control:checked~label.sk-toggleable__label-arrow:before {content: \"▾\";}#sk-container-id-3 div.sk-estimator input.sk-toggleable__control:checked~label.sk-toggleable__label {background-color: #d4ebff;}#sk-container-id-3 div.sk-label input.sk-toggleable__control:checked~label.sk-toggleable__label {background-color: #d4ebff;}#sk-container-id-3 input.sk-hidden--visually {border: 0;clip: rect(1px 1px 1px 1px);clip: rect(1px, 1px, 1px, 1px);height: 1px;margin: -1px;overflow: hidden;padding: 0;position: absolute;width: 1px;}#sk-container-id-3 div.sk-estimator {font-family: monospace;background-color: #f0f8ff;border: 1px dotted black;border-radius: 0.25em;box-sizing: border-box;margin-bottom: 0.5em;}#sk-container-id-3 div.sk-estimator:hover {background-color: #d4ebff;}#sk-container-id-3 div.sk-parallel-item::after {content: \"\";width: 100%;border-bottom: 1px solid gray;flex-grow: 1;}#sk-container-id-3 div.sk-label:hover label.sk-toggleable__label {background-color: #d4ebff;}#sk-container-id-3 div.sk-serial::before {content: \"\";position: absolute;border-left: 1px solid gray;box-sizing: border-box;top: 0;bottom: 0;left: 50%;z-index: 0;}#sk-container-id-3 div.sk-serial {display: flex;flex-direction: column;align-items: center;background-color: white;padding-right: 0.2em;padding-left: 0.2em;position: relative;}#sk-container-id-3 div.sk-item {position: relative;z-index: 1;}#sk-container-id-3 div.sk-parallel {display: flex;align-items: stretch;justify-content: center;background-color: white;position: relative;}#sk-container-id-3 div.sk-item::before, #sk-container-id-3 div.sk-parallel-item::before {content: \"\";position: absolute;border-left: 1px solid gray;box-sizing: border-box;top: 0;bottom: 0;left: 50%;z-index: -1;}#sk-container-id-3 div.sk-parallel-item {display: flex;flex-direction: column;z-index: 1;position: relative;background-color: white;}#sk-container-id-3 div.sk-parallel-item:first-child::after {align-self: flex-end;width: 50%;}#sk-container-id-3 div.sk-parallel-item:last-child::after {align-self: flex-start;width: 50%;}#sk-container-id-3 div.sk-parallel-item:only-child::after {width: 0;}#sk-container-id-3 div.sk-dashed-wrapped {border: 1px dashed gray;margin: 0 0.4em 0.5em 0.4em;box-sizing: border-box;padding-bottom: 0.4em;background-color: white;}#sk-container-id-3 div.sk-label label {font-family: monospace;font-weight: bold;display: inline-block;line-height: 1.2em;}#sk-container-id-3 div.sk-label-container {text-align: center;}#sk-container-id-3 div.sk-container {/* jupyter's `normalize.less` sets `[hidden] { display: none; }` but bootstrap.min.css set `[hidden] { display: none !important; }` so we also need the `!important` here to be able to override the default hidden behavior on the sphinx rendered scikit-learn.org. See: https://github.com/scikit-learn/scikit-learn/issues/21755 */display: inline-block !important;position: relative;}#sk-container-id-3 div.sk-text-repr-fallback {display: none;}</style><div id=\"sk-container-id-3\" class=\"sk-top-container\"><div class=\"sk-text-repr-fallback\"><pre>LogisticRegression(class_weight=&#x27;balanced&#x27;, max_iter=10000)</pre><b>In a Jupyter environment, please rerun this cell to show the HTML representation or trust the notebook. <br />On GitHub, the HTML representation is unable to render, please try loading this page with nbviewer.org.</b></div><div class=\"sk-container\" hidden><div class=\"sk-item\"><div class=\"sk-estimator sk-toggleable\"><input class=\"sk-toggleable__control sk-hidden--visually\" id=\"sk-estimator-id-3\" type=\"checkbox\" checked><label for=\"sk-estimator-id-3\" class=\"sk-toggleable__label sk-toggleable__label-arrow\">LogisticRegression</label><div class=\"sk-toggleable__content\"><pre>LogisticRegression(class_weight=&#x27;balanced&#x27;, max_iter=10000)</pre></div></div></div></div></div>"
      ],
      "text/plain": [
       "LogisticRegression(class_weight='balanced', max_iter=10000)"
      ]
     },
     "execution_count": 29,
     "metadata": {},
     "output_type": "execute_result"
    }
   ],
   "source": [
    "logr_bal.fit(xtrain, ytrain)"
   ]
  },
  {
   "cell_type": "code",
   "execution_count": 11,
   "metadata": {},
   "outputs": [],
   "source": [
    "import pickle"
   ]
  },
  {
   "cell_type": "code",
   "execution_count": 12,
   "metadata": {},
   "outputs": [],
   "source": [
    "filename = 'finalized_model.sav'\n",
    "pickle.dump(logr_bal, open(filename, 'wb'))"
   ]
  },
  {
   "cell_type": "code",
   "execution_count": 13,
   "metadata": {},
   "outputs": [
    {
     "data": {
      "text/html": [
       "<div>\n",
       "<style scoped>\n",
       "    .dataframe tbody tr th:only-of-type {\n",
       "        vertical-align: middle;\n",
       "    }\n",
       "\n",
       "    .dataframe tbody tr th {\n",
       "        vertical-align: top;\n",
       "    }\n",
       "\n",
       "    .dataframe thead th {\n",
       "        text-align: right;\n",
       "    }\n",
       "</style>\n",
       "<table border=\"1\" class=\"dataframe\">\n",
       "  <thead>\n",
       "    <tr style=\"text-align: right;\">\n",
       "      <th></th>\n",
       "      <th>num_feature_0</th>\n",
       "      <th>num_feature_1</th>\n",
       "      <th>num_feature_2</th>\n",
       "      <th>num_feature_3</th>\n",
       "      <th>num_feature_4</th>\n",
       "      <th>num_feature_5</th>\n",
       "      <th>num_feature_6</th>\n",
       "      <th>num_feature_7</th>\n",
       "      <th>num_feature_8</th>\n",
       "      <th>num_feature_9</th>\n",
       "      <th>...</th>\n",
       "      <th>num_feature_758</th>\n",
       "      <th>num_feature_759</th>\n",
       "      <th>num_feature_760</th>\n",
       "      <th>num_feature_761</th>\n",
       "      <th>num_feature_762</th>\n",
       "      <th>num_feature_763</th>\n",
       "      <th>num_feature_764</th>\n",
       "      <th>num_feature_765</th>\n",
       "      <th>num_feature_766</th>\n",
       "      <th>num_feature_767</th>\n",
       "    </tr>\n",
       "  </thead>\n",
       "  <tbody>\n",
       "    <tr>\n",
       "      <th>4953</th>\n",
       "      <td>-0.284166</td>\n",
       "      <td>0.265308</td>\n",
       "      <td>0.250501</td>\n",
       "      <td>0.059773</td>\n",
       "      <td>-0.293241</td>\n",
       "      <td>-0.195005</td>\n",
       "      <td>-0.039972</td>\n",
       "      <td>0.138321</td>\n",
       "      <td>0.248731</td>\n",
       "      <td>0.408354</td>\n",
       "      <td>...</td>\n",
       "      <td>0.406212</td>\n",
       "      <td>-0.092719</td>\n",
       "      <td>-0.519965</td>\n",
       "      <td>0.447469</td>\n",
       "      <td>-0.133863</td>\n",
       "      <td>0.274853</td>\n",
       "      <td>0.541272</td>\n",
       "      <td>-0.575624</td>\n",
       "      <td>-0.415648</td>\n",
       "      <td>0.463614</td>\n",
       "    </tr>\n",
       "    <tr>\n",
       "      <th>1742</th>\n",
       "      <td>-0.256528</td>\n",
       "      <td>0.250721</td>\n",
       "      <td>0.266806</td>\n",
       "      <td>0.183580</td>\n",
       "      <td>-0.048057</td>\n",
       "      <td>-0.372898</td>\n",
       "      <td>-0.097070</td>\n",
       "      <td>0.130213</td>\n",
       "      <td>0.262331</td>\n",
       "      <td>0.377111</td>\n",
       "      <td>...</td>\n",
       "      <td>0.346597</td>\n",
       "      <td>-0.147166</td>\n",
       "      <td>-0.478567</td>\n",
       "      <td>0.455503</td>\n",
       "      <td>-0.153839</td>\n",
       "      <td>0.233633</td>\n",
       "      <td>0.598709</td>\n",
       "      <td>-0.406390</td>\n",
       "      <td>-0.406957</td>\n",
       "      <td>0.534875</td>\n",
       "    </tr>\n",
       "    <tr>\n",
       "      <th>2899</th>\n",
       "      <td>-0.116456</td>\n",
       "      <td>0.215052</td>\n",
       "      <td>0.240432</td>\n",
       "      <td>0.156587</td>\n",
       "      <td>-0.146027</td>\n",
       "      <td>-0.245312</td>\n",
       "      <td>-0.058848</td>\n",
       "      <td>0.141029</td>\n",
       "      <td>0.260640</td>\n",
       "      <td>0.286272</td>\n",
       "      <td>...</td>\n",
       "      <td>0.359351</td>\n",
       "      <td>-0.088941</td>\n",
       "      <td>-0.451789</td>\n",
       "      <td>0.558014</td>\n",
       "      <td>-0.159376</td>\n",
       "      <td>0.185456</td>\n",
       "      <td>0.652369</td>\n",
       "      <td>-0.302985</td>\n",
       "      <td>-0.398837</td>\n",
       "      <td>0.464013</td>\n",
       "    </tr>\n",
       "    <tr>\n",
       "      <th>303</th>\n",
       "      <td>-0.360095</td>\n",
       "      <td>0.293063</td>\n",
       "      <td>0.321145</td>\n",
       "      <td>0.035082</td>\n",
       "      <td>-0.305559</td>\n",
       "      <td>-0.395745</td>\n",
       "      <td>-0.097220</td>\n",
       "      <td>0.165061</td>\n",
       "      <td>0.309050</td>\n",
       "      <td>0.465018</td>\n",
       "      <td>...</td>\n",
       "      <td>0.414574</td>\n",
       "      <td>-0.138237</td>\n",
       "      <td>-0.518623</td>\n",
       "      <td>0.344257</td>\n",
       "      <td>-0.041883</td>\n",
       "      <td>0.274553</td>\n",
       "      <td>0.493639</td>\n",
       "      <td>-0.641247</td>\n",
       "      <td>-0.413809</td>\n",
       "      <td>0.475289</td>\n",
       "    </tr>\n",
       "    <tr>\n",
       "      <th>407</th>\n",
       "      <td>-0.178747</td>\n",
       "      <td>0.200021</td>\n",
       "      <td>0.222105</td>\n",
       "      <td>0.106968</td>\n",
       "      <td>-0.036566</td>\n",
       "      <td>-0.343755</td>\n",
       "      <td>0.009203</td>\n",
       "      <td>0.114121</td>\n",
       "      <td>0.149440</td>\n",
       "      <td>0.319532</td>\n",
       "      <td>...</td>\n",
       "      <td>0.288844</td>\n",
       "      <td>-0.149671</td>\n",
       "      <td>-0.368676</td>\n",
       "      <td>0.551033</td>\n",
       "      <td>-0.133438</td>\n",
       "      <td>0.188182</td>\n",
       "      <td>0.675628</td>\n",
       "      <td>-0.373077</td>\n",
       "      <td>-0.375323</td>\n",
       "      <td>0.421074</td>\n",
       "    </tr>\n",
       "    <tr>\n",
       "      <th>...</th>\n",
       "      <td>...</td>\n",
       "      <td>...</td>\n",
       "      <td>...</td>\n",
       "      <td>...</td>\n",
       "      <td>...</td>\n",
       "      <td>...</td>\n",
       "      <td>...</td>\n",
       "      <td>...</td>\n",
       "      <td>...</td>\n",
       "      <td>...</td>\n",
       "      <td>...</td>\n",
       "      <td>...</td>\n",
       "      <td>...</td>\n",
       "      <td>...</td>\n",
       "      <td>...</td>\n",
       "      <td>...</td>\n",
       "      <td>...</td>\n",
       "      <td>...</td>\n",
       "      <td>...</td>\n",
       "      <td>...</td>\n",
       "      <td>...</td>\n",
       "    </tr>\n",
       "    <tr>\n",
       "      <th>3511</th>\n",
       "      <td>-0.256259</td>\n",
       "      <td>0.288374</td>\n",
       "      <td>0.250342</td>\n",
       "      <td>-0.025846</td>\n",
       "      <td>-0.464666</td>\n",
       "      <td>-0.392683</td>\n",
       "      <td>-0.083739</td>\n",
       "      <td>0.191818</td>\n",
       "      <td>0.346889</td>\n",
       "      <td>0.427777</td>\n",
       "      <td>...</td>\n",
       "      <td>0.389025</td>\n",
       "      <td>-0.116514</td>\n",
       "      <td>-0.468868</td>\n",
       "      <td>0.442361</td>\n",
       "      <td>-0.080300</td>\n",
       "      <td>0.225603</td>\n",
       "      <td>0.516070</td>\n",
       "      <td>-0.476576</td>\n",
       "      <td>-0.439895</td>\n",
       "      <td>0.515938</td>\n",
       "    </tr>\n",
       "    <tr>\n",
       "      <th>2284</th>\n",
       "      <td>-0.233427</td>\n",
       "      <td>0.241343</td>\n",
       "      <td>0.226945</td>\n",
       "      <td>0.095533</td>\n",
       "      <td>-0.125177</td>\n",
       "      <td>-0.303776</td>\n",
       "      <td>-0.063909</td>\n",
       "      <td>0.171266</td>\n",
       "      <td>0.222379</td>\n",
       "      <td>0.392852</td>\n",
       "      <td>...</td>\n",
       "      <td>0.424303</td>\n",
       "      <td>-0.081237</td>\n",
       "      <td>-0.525032</td>\n",
       "      <td>0.469753</td>\n",
       "      <td>-0.103971</td>\n",
       "      <td>0.222740</td>\n",
       "      <td>0.486391</td>\n",
       "      <td>-0.528197</td>\n",
       "      <td>-0.415531</td>\n",
       "      <td>0.507881</td>\n",
       "    </tr>\n",
       "    <tr>\n",
       "      <th>899</th>\n",
       "      <td>-0.331804</td>\n",
       "      <td>0.349822</td>\n",
       "      <td>0.278608</td>\n",
       "      <td>0.070609</td>\n",
       "      <td>-0.259272</td>\n",
       "      <td>-0.484103</td>\n",
       "      <td>-0.087355</td>\n",
       "      <td>0.188330</td>\n",
       "      <td>0.371650</td>\n",
       "      <td>0.482033</td>\n",
       "      <td>...</td>\n",
       "      <td>0.381983</td>\n",
       "      <td>-0.158758</td>\n",
       "      <td>-0.487979</td>\n",
       "      <td>0.381095</td>\n",
       "      <td>-0.078864</td>\n",
       "      <td>0.268546</td>\n",
       "      <td>0.613251</td>\n",
       "      <td>-0.514993</td>\n",
       "      <td>-0.423582</td>\n",
       "      <td>0.547945</td>\n",
       "    </tr>\n",
       "    <tr>\n",
       "      <th>5834</th>\n",
       "      <td>-0.266324</td>\n",
       "      <td>0.277896</td>\n",
       "      <td>0.246268</td>\n",
       "      <td>0.049421</td>\n",
       "      <td>-0.252962</td>\n",
       "      <td>-0.399935</td>\n",
       "      <td>-0.072752</td>\n",
       "      <td>0.192567</td>\n",
       "      <td>0.317666</td>\n",
       "      <td>0.402015</td>\n",
       "      <td>...</td>\n",
       "      <td>0.369669</td>\n",
       "      <td>-0.141692</td>\n",
       "      <td>-0.469623</td>\n",
       "      <td>0.429152</td>\n",
       "      <td>-0.127803</td>\n",
       "      <td>0.226456</td>\n",
       "      <td>0.615502</td>\n",
       "      <td>-0.556100</td>\n",
       "      <td>-0.424030</td>\n",
       "      <td>0.500063</td>\n",
       "    </tr>\n",
       "    <tr>\n",
       "      <th>1254</th>\n",
       "      <td>-0.161256</td>\n",
       "      <td>0.243934</td>\n",
       "      <td>0.250341</td>\n",
       "      <td>0.116485</td>\n",
       "      <td>0.001965</td>\n",
       "      <td>-0.193027</td>\n",
       "      <td>0.007528</td>\n",
       "      <td>0.130497</td>\n",
       "      <td>0.273707</td>\n",
       "      <td>0.286385</td>\n",
       "      <td>...</td>\n",
       "      <td>0.298331</td>\n",
       "      <td>-0.093482</td>\n",
       "      <td>-0.382218</td>\n",
       "      <td>0.599622</td>\n",
       "      <td>-0.090346</td>\n",
       "      <td>0.184443</td>\n",
       "      <td>0.657636</td>\n",
       "      <td>-0.351216</td>\n",
       "      <td>-0.415017</td>\n",
       "      <td>0.511631</td>\n",
       "    </tr>\n",
       "  </tbody>\n",
       "</table>\n",
       "<p>1252 rows × 768 columns</p>\n",
       "</div>"
      ],
      "text/plain": [
       "      num_feature_0  num_feature_1  num_feature_2  num_feature_3  \\\n",
       "4953      -0.284166       0.265308       0.250501       0.059773   \n",
       "1742      -0.256528       0.250721       0.266806       0.183580   \n",
       "2899      -0.116456       0.215052       0.240432       0.156587   \n",
       "303       -0.360095       0.293063       0.321145       0.035082   \n",
       "407       -0.178747       0.200021       0.222105       0.106968   \n",
       "...             ...            ...            ...            ...   \n",
       "3511      -0.256259       0.288374       0.250342      -0.025846   \n",
       "2284      -0.233427       0.241343       0.226945       0.095533   \n",
       "899       -0.331804       0.349822       0.278608       0.070609   \n",
       "5834      -0.266324       0.277896       0.246268       0.049421   \n",
       "1254      -0.161256       0.243934       0.250341       0.116485   \n",
       "\n",
       "      num_feature_4  num_feature_5  num_feature_6  num_feature_7  \\\n",
       "4953      -0.293241      -0.195005      -0.039972       0.138321   \n",
       "1742      -0.048057      -0.372898      -0.097070       0.130213   \n",
       "2899      -0.146027      -0.245312      -0.058848       0.141029   \n",
       "303       -0.305559      -0.395745      -0.097220       0.165061   \n",
       "407       -0.036566      -0.343755       0.009203       0.114121   \n",
       "...             ...            ...            ...            ...   \n",
       "3511      -0.464666      -0.392683      -0.083739       0.191818   \n",
       "2284      -0.125177      -0.303776      -0.063909       0.171266   \n",
       "899       -0.259272      -0.484103      -0.087355       0.188330   \n",
       "5834      -0.252962      -0.399935      -0.072752       0.192567   \n",
       "1254       0.001965      -0.193027       0.007528       0.130497   \n",
       "\n",
       "      num_feature_8  num_feature_9  ...  num_feature_758  num_feature_759  \\\n",
       "4953       0.248731       0.408354  ...         0.406212        -0.092719   \n",
       "1742       0.262331       0.377111  ...         0.346597        -0.147166   \n",
       "2899       0.260640       0.286272  ...         0.359351        -0.088941   \n",
       "303        0.309050       0.465018  ...         0.414574        -0.138237   \n",
       "407        0.149440       0.319532  ...         0.288844        -0.149671   \n",
       "...             ...            ...  ...              ...              ...   \n",
       "3511       0.346889       0.427777  ...         0.389025        -0.116514   \n",
       "2284       0.222379       0.392852  ...         0.424303        -0.081237   \n",
       "899        0.371650       0.482033  ...         0.381983        -0.158758   \n",
       "5834       0.317666       0.402015  ...         0.369669        -0.141692   \n",
       "1254       0.273707       0.286385  ...         0.298331        -0.093482   \n",
       "\n",
       "      num_feature_760  num_feature_761  num_feature_762  num_feature_763  \\\n",
       "4953        -0.519965         0.447469        -0.133863         0.274853   \n",
       "1742        -0.478567         0.455503        -0.153839         0.233633   \n",
       "2899        -0.451789         0.558014        -0.159376         0.185456   \n",
       "303         -0.518623         0.344257        -0.041883         0.274553   \n",
       "407         -0.368676         0.551033        -0.133438         0.188182   \n",
       "...               ...              ...              ...              ...   \n",
       "3511        -0.468868         0.442361        -0.080300         0.225603   \n",
       "2284        -0.525032         0.469753        -0.103971         0.222740   \n",
       "899         -0.487979         0.381095        -0.078864         0.268546   \n",
       "5834        -0.469623         0.429152        -0.127803         0.226456   \n",
       "1254        -0.382218         0.599622        -0.090346         0.184443   \n",
       "\n",
       "      num_feature_764  num_feature_765  num_feature_766  num_feature_767  \n",
       "4953         0.541272        -0.575624        -0.415648         0.463614  \n",
       "1742         0.598709        -0.406390        -0.406957         0.534875  \n",
       "2899         0.652369        -0.302985        -0.398837         0.464013  \n",
       "303          0.493639        -0.641247        -0.413809         0.475289  \n",
       "407          0.675628        -0.373077        -0.375323         0.421074  \n",
       "...               ...              ...              ...              ...  \n",
       "3511         0.516070        -0.476576        -0.439895         0.515938  \n",
       "2284         0.486391        -0.528197        -0.415531         0.507881  \n",
       "899          0.613251        -0.514993        -0.423582         0.547945  \n",
       "5834         0.615502        -0.556100        -0.424030         0.500063  \n",
       "1254         0.657636        -0.351216        -0.415017         0.511631  \n",
       "\n",
       "[1252 rows x 768 columns]"
      ]
     },
     "execution_count": 13,
     "metadata": {},
     "output_type": "execute_result"
    }
   ],
   "source": [
    "xtest"
   ]
  },
  {
   "cell_type": "code",
   "execution_count": 30,
   "metadata": {},
   "outputs": [],
   "source": [
    "yhat_bal = logr_bal.predict(xtest)"
   ]
  },
  {
   "cell_type": "code",
   "execution_count": 16,
   "metadata": {},
   "outputs": [
    {
     "data": {
      "text/plain": [
       "array(['regression', 'nlp', 'nlp', ..., 'computer vision',\n",
       "       'computer vision', 'nlp'], dtype=object)"
      ]
     },
     "execution_count": 16,
     "metadata": {},
     "output_type": "execute_result"
    }
   ],
   "source": [
    "yhat_bal"
   ]
  },
  {
   "cell_type": "code",
   "execution_count": 31,
   "metadata": {},
   "outputs": [
    {
     "name": "stdout",
     "output_type": "stream",
     "text": [
      "Accuracy score: 0.7827476038338658\n",
      "F1 score: 0.7839468112913339\n"
     ]
    }
   ],
   "source": [
    "print('Accuracy score:',accuracy_score(ytest, yhat_bal))\n",
    "print('F1 score:',f1_score(ytest, yhat_bal, average='weighted'))"
   ]
  },
  {
   "cell_type": "code",
   "execution_count": 38,
   "metadata": {},
   "outputs": [
    {
     "name": "stdout",
     "output_type": "stream",
     "text": [
      "Accuracy score: 0.6357827476038339\n",
      "F1 score: 0.61612061998664\n"
     ]
    }
   ],
   "source": [
    "from sklearn.ensemble import RandomForestClassifier\n",
    "\n",
    "rfc = RandomForestClassifier()\n",
    "\n",
    "# fit the predictor and target\n",
    "rfc.fit(xtrain, ytrain)\n",
    "\n",
    "# predict\n",
    "rfc_predict = rfc.predict(xtest)# check performance\n",
    "# print('ROCAUC score:',roc_auc_score(ytest, rfc_predict))\n",
    "print('Accuracy score:',accuracy_score(ytest, rfc_predict))\n",
    "print('F1 score:',f1_score(ytest, rfc_predict, average='weighted'))"
   ]
  }
 ],
 "metadata": {
  "kernelspec": {
   "display_name": "Python 3.10.6 64-bit",
   "language": "python",
   "name": "python3"
  },
  "language_info": {
   "codemirror_mode": {
    "name": "ipython",
    "version": 3
   },
   "file_extension": ".py",
   "mimetype": "text/x-python",
   "name": "python",
   "nbconvert_exporter": "python",
   "pygments_lexer": "ipython3",
   "version": "3.10.6"
  },
  "orig_nbformat": 4,
  "vscode": {
   "interpreter": {
    "hash": "5093ef3c9eba5a2350b58945b72c1f122b8b5551b9ae00db57837a16e1175c4c"
   }
  }
 },
 "nbformat": 4,
 "nbformat_minor": 2
}
