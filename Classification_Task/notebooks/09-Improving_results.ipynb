{
 "cells": [
  {
   "cell_type": "markdown",
   "metadata": {},
   "source": [
    "List of keywords to delete :\n",
    "\n",
    "* plsregression - regression\n",
    "* adaline - classification\n",
    "* perceptron - classification\n"
   ]
  },
  {
   "cell_type": "markdown",
   "metadata": {},
   "source": [
    "List of notebooks to delete :\n",
    "* habibmrad1983/awesome-cv-with-fashion-mnist-classification - affinity propagation - clustering\n",
    "* evandrodinizphb/nlp-suicidal-pytorch-bert-kfold - self organising map - clustering\n",
    "* habibmrad1983/awesome-ml-frameworks-and-mnist-classification - fcm - clustering\n",
    "* Clustering notebooks where classification figure in title and visversa\n",
    "* Clustering notebooks where regression figure in title and visversa\n",
    "* Classification notebooks where regression figure in title and visversa"
   ]
  },
  {
   "cell_type": "code",
   "execution_count": 1,
   "metadata": {},
   "outputs": [],
   "source": [
    "import pandas as pd\n",
    "import re"
   ]
  },
  {
   "cell_type": "code",
   "execution_count": 2,
   "metadata": {},
   "outputs": [
    {
     "data": {
      "text/html": [
       "<div>\n",
       "<style scoped>\n",
       "    .dataframe tbody tr th:only-of-type {\n",
       "        vertical-align: middle;\n",
       "    }\n",
       "\n",
       "    .dataframe tbody tr th {\n",
       "        vertical-align: top;\n",
       "    }\n",
       "\n",
       "    .dataframe thead th {\n",
       "        text-align: right;\n",
       "    }\n",
       "</style>\n",
       "<table border=\"1\" class=\"dataframe\">\n",
       "  <thead>\n",
       "    <tr style=\"text-align: right;\">\n",
       "      <th></th>\n",
       "      <th>title</th>\n",
       "      <th>subcategory</th>\n",
       "      <th>category</th>\n",
       "    </tr>\n",
       "  </thead>\n",
       "  <tbody>\n",
       "    <tr>\n",
       "      <th>0</th>\n",
       "      <td>sudhirnl7/linear-regression-tutorial</td>\n",
       "      <td>linear regression</td>\n",
       "      <td>regression</td>\n",
       "    </tr>\n",
       "    <tr>\n",
       "      <th>1</th>\n",
       "      <td>goyalshalini93/car-price-prediction-linear-reg...</td>\n",
       "      <td>linear regression</td>\n",
       "      <td>regression</td>\n",
       "    </tr>\n",
       "    <tr>\n",
       "      <th>2</th>\n",
       "      <td>divan0/multiple-linear-regression</td>\n",
       "      <td>linear regression</td>\n",
       "      <td>regression</td>\n",
       "    </tr>\n",
       "    <tr>\n",
       "      <th>3</th>\n",
       "      <td>anthonypino/price-analysis-and-linear-regression</td>\n",
       "      <td>linear regression</td>\n",
       "      <td>regression</td>\n",
       "    </tr>\n",
       "    <tr>\n",
       "      <th>4</th>\n",
       "      <td>vivinbarath/simple-linear-regression-for-salar...</td>\n",
       "      <td>linear regression</td>\n",
       "      <td>regression</td>\n",
       "    </tr>\n",
       "    <tr>\n",
       "      <th>...</th>\n",
       "      <td>...</td>\n",
       "      <td>...</td>\n",
       "      <td>...</td>\n",
       "    </tr>\n",
       "    <tr>\n",
       "      <th>10458</th>\n",
       "      <td>fanbyprinciple/reinforcement-learning-on-opena...</td>\n",
       "      <td>reinforcement</td>\n",
       "      <td>reinforcement learning</td>\n",
       "    </tr>\n",
       "    <tr>\n",
       "      <th>10459</th>\n",
       "      <td>alexisbcook/exercise-one-step-lookahead</td>\n",
       "      <td>reinforcement</td>\n",
       "      <td>reinforcement learning</td>\n",
       "    </tr>\n",
       "    <tr>\n",
       "      <th>10460</th>\n",
       "      <td>alexisbcook/exercise-interactive-maps</td>\n",
       "      <td>reinforcement</td>\n",
       "      <td>reinforcement learning</td>\n",
       "    </tr>\n",
       "    <tr>\n",
       "      <th>10461</th>\n",
       "      <td>lbarbosa/connectx-deep-reinforcement-learning</td>\n",
       "      <td>reinforcement</td>\n",
       "      <td>reinforcement learning</td>\n",
       "    </tr>\n",
       "    <tr>\n",
       "      <th>10462</th>\n",
       "      <td>hsperr/halite-iv-dqn-example-pytorch</td>\n",
       "      <td>reinforcement</td>\n",
       "      <td>reinforcement learning</td>\n",
       "    </tr>\n",
       "  </tbody>\n",
       "</table>\n",
       "<p>10463 rows × 3 columns</p>\n",
       "</div>"
      ],
      "text/plain": [
       "                                                   title        subcategory  \\\n",
       "0                   sudhirnl7/linear-regression-tutorial  linear regression   \n",
       "1      goyalshalini93/car-price-prediction-linear-reg...  linear regression   \n",
       "2                      divan0/multiple-linear-regression  linear regression   \n",
       "3       anthonypino/price-analysis-and-linear-regression  linear regression   \n",
       "4      vivinbarath/simple-linear-regression-for-salar...  linear regression   \n",
       "...                                                  ...                ...   \n",
       "10458  fanbyprinciple/reinforcement-learning-on-opena...      reinforcement   \n",
       "10459            alexisbcook/exercise-one-step-lookahead      reinforcement   \n",
       "10460              alexisbcook/exercise-interactive-maps      reinforcement   \n",
       "10461      lbarbosa/connectx-deep-reinforcement-learning      reinforcement   \n",
       "10462               hsperr/halite-iv-dqn-example-pytorch      reinforcement   \n",
       "\n",
       "                     category  \n",
       "0                  regression  \n",
       "1                  regression  \n",
       "2                  regression  \n",
       "3                  regression  \n",
       "4                  regression  \n",
       "...                       ...  \n",
       "10458  reinforcement learning  \n",
       "10459  reinforcement learning  \n",
       "10460  reinforcement learning  \n",
       "10461  reinforcement learning  \n",
       "10462  reinforcement learning  \n",
       "\n",
       "[10463 rows x 3 columns]"
      ]
     },
     "execution_count": 2,
     "metadata": {},
     "output_type": "execute_result"
    }
   ],
   "source": [
    "list_ntb = pd.read_csv(\"../data/ntb_list.csv\").drop(['Unnamed: 0'],axis=1)\n",
    "list_ntb"
   ]
  },
  {
   "cell_type": "code",
   "execution_count": 3,
   "metadata": {},
   "outputs": [
    {
     "data": {
      "text/html": [
       "<div>\n",
       "<style scoped>\n",
       "    .dataframe tbody tr th:only-of-type {\n",
       "        vertical-align: middle;\n",
       "    }\n",
       "\n",
       "    .dataframe tbody tr th {\n",
       "        vertical-align: top;\n",
       "    }\n",
       "\n",
       "    .dataframe thead th {\n",
       "        text-align: right;\n",
       "    }\n",
       "</style>\n",
       "<table border=\"1\" class=\"dataframe\">\n",
       "  <thead>\n",
       "    <tr style=\"text-align: right;\">\n",
       "      <th></th>\n",
       "      <th>cell-type</th>\n",
       "      <th>source</th>\n",
       "      <th>title</th>\n",
       "      <th>tag</th>\n",
       "    </tr>\n",
       "  </thead>\n",
       "  <tbody>\n",
       "    <tr>\n",
       "      <th>0</th>\n",
       "      <td>code</td>\n",
       "      <td>import pandas as pd\\nimport numpy as np\\nimpor...</td>\n",
       "      <td>0-9-try-better-parameters-better-score.ipynb</td>\n",
       "      <td>regression</td>\n",
       "    </tr>\n",
       "    <tr>\n",
       "      <th>1</th>\n",
       "      <td>markdown</td>\n",
       "      <td>try to overfit more pls upvote if you forklike...</td>\n",
       "      <td>0-9-try-better-parameters-better-score.ipynb</td>\n",
       "      <td>regression</td>\n",
       "    </tr>\n",
       "    <tr>\n",
       "      <th>2</th>\n",
       "      <td>markdown</td>\n",
       "      <td>sub1 0869</td>\n",
       "      <td>0-9-try-better-parameters-better-score.ipynb</td>\n",
       "      <td>regression</td>\n",
       "    </tr>\n",
       "    <tr>\n",
       "      <th>3</th>\n",
       "      <td>markdown</td>\n",
       "      <td>credit very simple code with score 0886 by aya...</td>\n",
       "      <td>0-9-try-better-parameters-better-score.ipynb</td>\n",
       "      <td>regression</td>\n",
       "    </tr>\n",
       "    <tr>\n",
       "      <th>4</th>\n",
       "      <td>code</td>\n",
       "      <td>import pandas as pd\\nimport numpy as np\\nfrom ...</td>\n",
       "      <td>0-9-try-better-parameters-better-score.ipynb</td>\n",
       "      <td>regression</td>\n",
       "    </tr>\n",
       "    <tr>\n",
       "      <th>...</th>\n",
       "      <td>...</td>\n",
       "      <td>...</td>\n",
       "      <td>...</td>\n",
       "      <td>...</td>\n",
       "    </tr>\n",
       "    <tr>\n",
       "      <th>343588</th>\n",
       "      <td>code</td>\n",
       "      <td>\\nPOI_data = gpd.read_file(\"../input/geospatia...</td>\n",
       "      <td>your-first-map.ipynb</td>\n",
       "      <td>reinforcement learning</td>\n",
       "    </tr>\n",
       "    <tr>\n",
       "      <th>343589</th>\n",
       "      <td>markdown</td>\n",
       "      <td>next we create a map from all four geodatafram...</td>\n",
       "      <td>your-first-map.ipynb</td>\n",
       "      <td>reinforcement learning</td>\n",
       "    </tr>\n",
       "    <tr>\n",
       "      <th>343590</th>\n",
       "      <td>code</td>\n",
       "      <td>\\nax = counties.plot(figsize=(10,10), color='n...</td>\n",
       "      <td>your-first-map.ipynb</td>\n",
       "      <td>reinforcement learning</td>\n",
       "    </tr>\n",
       "    <tr>\n",
       "      <th>343591</th>\n",
       "      <td>markdown</td>\n",
       "      <td>it looks like the northeastern part of the sta...</td>\n",
       "      <td>your-first-map.ipynb</td>\n",
       "      <td>reinforcement learning</td>\n",
       "    </tr>\n",
       "    <tr>\n",
       "      <th>343592</th>\n",
       "      <td>markdown</td>\n",
       "      <td>have questions or comments visit the course di...</td>\n",
       "      <td>your-first-map.ipynb</td>\n",
       "      <td>reinforcement learning</td>\n",
       "    </tr>\n",
       "  </tbody>\n",
       "</table>\n",
       "<p>343593 rows × 4 columns</p>\n",
       "</div>"
      ],
      "text/plain": [
       "       cell-type                                             source  \\\n",
       "0           code  import pandas as pd\\nimport numpy as np\\nimpor...   \n",
       "1       markdown  try to overfit more pls upvote if you forklike...   \n",
       "2       markdown                                          sub1 0869   \n",
       "3       markdown  credit very simple code with score 0886 by aya...   \n",
       "4           code  import pandas as pd\\nimport numpy as np\\nfrom ...   \n",
       "...          ...                                                ...   \n",
       "343588      code  \\nPOI_data = gpd.read_file(\"../input/geospatia...   \n",
       "343589  markdown  next we create a map from all four geodatafram...   \n",
       "343590      code  \\nax = counties.plot(figsize=(10,10), color='n...   \n",
       "343591  markdown  it looks like the northeastern part of the sta...   \n",
       "343592  markdown  have questions or comments visit the course di...   \n",
       "\n",
       "                                               title                     tag  \n",
       "0       0-9-try-better-parameters-better-score.ipynb              regression  \n",
       "1       0-9-try-better-parameters-better-score.ipynb              regression  \n",
       "2       0-9-try-better-parameters-better-score.ipynb              regression  \n",
       "3       0-9-try-better-parameters-better-score.ipynb              regression  \n",
       "4       0-9-try-better-parameters-better-score.ipynb              regression  \n",
       "...                                              ...                     ...  \n",
       "343588                          your-first-map.ipynb  reinforcement learning  \n",
       "343589                          your-first-map.ipynb  reinforcement learning  \n",
       "343590                          your-first-map.ipynb  reinforcement learning  \n",
       "343591                          your-first-map.ipynb  reinforcement learning  \n",
       "343592                          your-first-map.ipynb  reinforcement learning  \n",
       "\n",
       "[343593 rows x 4 columns]"
      ]
     },
     "execution_count": 3,
     "metadata": {},
     "output_type": "execute_result"
    }
   ],
   "source": [
    "data = pd.read_csv(\"../data/cleaned_ntb_only_en.csv\").drop(['Unnamed: 0'],axis=1)\n",
    "data"
   ]
  },
  {
   "cell_type": "markdown",
   "metadata": {},
   "source": [
    "# Deleting by subcategory"
   ]
  },
  {
   "cell_type": "code",
   "execution_count": 4,
   "metadata": {},
   "outputs": [],
   "source": [
    "list_ntb.drop(list_ntb.index[list_ntb['subcategory'] == 'plsregression'], inplace=True)\n",
    "list_ntb.drop(list_ntb.index[list_ntb['subcategory'] == 'adaline'], inplace=True)\n",
    "list_ntb.drop(list_ntb.index[list_ntb['subcategory'] == 'perceptron'], inplace=True)"
   ]
  },
  {
   "cell_type": "code",
   "execution_count": 5,
   "metadata": {},
   "outputs": [
    {
     "data": {
      "text/html": [
       "<div>\n",
       "<style scoped>\n",
       "    .dataframe tbody tr th:only-of-type {\n",
       "        vertical-align: middle;\n",
       "    }\n",
       "\n",
       "    .dataframe tbody tr th {\n",
       "        vertical-align: top;\n",
       "    }\n",
       "\n",
       "    .dataframe thead th {\n",
       "        text-align: right;\n",
       "    }\n",
       "</style>\n",
       "<table border=\"1\" class=\"dataframe\">\n",
       "  <thead>\n",
       "    <tr style=\"text-align: right;\">\n",
       "      <th></th>\n",
       "      <th>title</th>\n",
       "      <th>subcategory</th>\n",
       "      <th>category</th>\n",
       "    </tr>\n",
       "  </thead>\n",
       "  <tbody>\n",
       "    <tr>\n",
       "      <th>0</th>\n",
       "      <td>sudhirnl7/linear-regression-tutorial</td>\n",
       "      <td>linear regression</td>\n",
       "      <td>regression</td>\n",
       "    </tr>\n",
       "    <tr>\n",
       "      <th>1</th>\n",
       "      <td>goyalshalini93/car-price-prediction-linear-reg...</td>\n",
       "      <td>linear regression</td>\n",
       "      <td>regression</td>\n",
       "    </tr>\n",
       "    <tr>\n",
       "      <th>2</th>\n",
       "      <td>divan0/multiple-linear-regression</td>\n",
       "      <td>linear regression</td>\n",
       "      <td>regression</td>\n",
       "    </tr>\n",
       "    <tr>\n",
       "      <th>3</th>\n",
       "      <td>anthonypino/price-analysis-and-linear-regression</td>\n",
       "      <td>linear regression</td>\n",
       "      <td>regression</td>\n",
       "    </tr>\n",
       "    <tr>\n",
       "      <th>4</th>\n",
       "      <td>vivinbarath/simple-linear-regression-for-salar...</td>\n",
       "      <td>linear regression</td>\n",
       "      <td>regression</td>\n",
       "    </tr>\n",
       "    <tr>\n",
       "      <th>...</th>\n",
       "      <td>...</td>\n",
       "      <td>...</td>\n",
       "      <td>...</td>\n",
       "    </tr>\n",
       "    <tr>\n",
       "      <th>10458</th>\n",
       "      <td>fanbyprinciple/reinforcement-learning-on-opena...</td>\n",
       "      <td>reinforcement</td>\n",
       "      <td>reinforcement learning</td>\n",
       "    </tr>\n",
       "    <tr>\n",
       "      <th>10459</th>\n",
       "      <td>alexisbcook/exercise-one-step-lookahead</td>\n",
       "      <td>reinforcement</td>\n",
       "      <td>reinforcement learning</td>\n",
       "    </tr>\n",
       "    <tr>\n",
       "      <th>10460</th>\n",
       "      <td>alexisbcook/exercise-interactive-maps</td>\n",
       "      <td>reinforcement</td>\n",
       "      <td>reinforcement learning</td>\n",
       "    </tr>\n",
       "    <tr>\n",
       "      <th>10461</th>\n",
       "      <td>lbarbosa/connectx-deep-reinforcement-learning</td>\n",
       "      <td>reinforcement</td>\n",
       "      <td>reinforcement learning</td>\n",
       "    </tr>\n",
       "    <tr>\n",
       "      <th>10462</th>\n",
       "      <td>hsperr/halite-iv-dqn-example-pytorch</td>\n",
       "      <td>reinforcement</td>\n",
       "      <td>reinforcement learning</td>\n",
       "    </tr>\n",
       "  </tbody>\n",
       "</table>\n",
       "<p>10123 rows × 3 columns</p>\n",
       "</div>"
      ],
      "text/plain": [
       "                                                   title        subcategory  \\\n",
       "0                   sudhirnl7/linear-regression-tutorial  linear regression   \n",
       "1      goyalshalini93/car-price-prediction-linear-reg...  linear regression   \n",
       "2                      divan0/multiple-linear-regression  linear regression   \n",
       "3       anthonypino/price-analysis-and-linear-regression  linear regression   \n",
       "4      vivinbarath/simple-linear-regression-for-salar...  linear regression   \n",
       "...                                                  ...                ...   \n",
       "10458  fanbyprinciple/reinforcement-learning-on-opena...      reinforcement   \n",
       "10459            alexisbcook/exercise-one-step-lookahead      reinforcement   \n",
       "10460              alexisbcook/exercise-interactive-maps      reinforcement   \n",
       "10461      lbarbosa/connectx-deep-reinforcement-learning      reinforcement   \n",
       "10462               hsperr/halite-iv-dqn-example-pytorch      reinforcement   \n",
       "\n",
       "                     category  \n",
       "0                  regression  \n",
       "1                  regression  \n",
       "2                  regression  \n",
       "3                  regression  \n",
       "4                  regression  \n",
       "...                       ...  \n",
       "10458  reinforcement learning  \n",
       "10459  reinforcement learning  \n",
       "10460  reinforcement learning  \n",
       "10461  reinforcement learning  \n",
       "10462  reinforcement learning  \n",
       "\n",
       "[10123 rows x 3 columns]"
      ]
     },
     "execution_count": 5,
     "metadata": {},
     "output_type": "execute_result"
    }
   ],
   "source": [
    "list_ntb"
   ]
  },
  {
   "cell_type": "markdown",
   "metadata": {},
   "source": [
    "# Deleting irrelivant notebooks"
   ]
  },
  {
   "cell_type": "code",
   "execution_count": 6,
   "metadata": {},
   "outputs": [],
   "source": [
    "list_ntb.drop(list_ntb.index[list_ntb['subcategory'] == 'plsregression'], inplace=True)\n",
    "list_ntb.drop(list_ntb.index[list_ntb['subcategory'] == 'plsregression'], inplace=True)\n",
    "list_ntb.drop(list_ntb.index[list_ntb['subcategory'] == 'plsregression'], inplace=True)\n",
    "list_ntb.drop(list_ntb.index[list_ntb['subcategory'] == 'plsregression'], inplace=True)"
   ]
  },
  {
   "cell_type": "code",
   "execution_count": 7,
   "metadata": {},
   "outputs": [
    {
     "data": {
      "text/html": [
       "<div>\n",
       "<style scoped>\n",
       "    .dataframe tbody tr th:only-of-type {\n",
       "        vertical-align: middle;\n",
       "    }\n",
       "\n",
       "    .dataframe tbody tr th {\n",
       "        vertical-align: top;\n",
       "    }\n",
       "\n",
       "    .dataframe thead th {\n",
       "        text-align: right;\n",
       "    }\n",
       "</style>\n",
       "<table border=\"1\" class=\"dataframe\">\n",
       "  <thead>\n",
       "    <tr style=\"text-align: right;\">\n",
       "      <th></th>\n",
       "      <th>title</th>\n",
       "      <th>subcategory</th>\n",
       "      <th>category</th>\n",
       "    </tr>\n",
       "  </thead>\n",
       "  <tbody>\n",
       "    <tr>\n",
       "      <th>3290</th>\n",
       "      <td>habibmrad1983/awesome-cv-with-fashion-mnist-cl...</td>\n",
       "      <td>affinity propagation</td>\n",
       "      <td>clustering</td>\n",
       "    </tr>\n",
       "    <tr>\n",
       "      <th>7137</th>\n",
       "      <td>habibmrad1983/awesome-cv-with-fashion-mnist-cl...</td>\n",
       "      <td>deeplab</td>\n",
       "      <td>computer vision</td>\n",
       "    </tr>\n",
       "  </tbody>\n",
       "</table>\n",
       "</div>"
      ],
      "text/plain": [
       "                                                  title           subcategory  \\\n",
       "3290  habibmrad1983/awesome-cv-with-fashion-mnist-cl...  affinity propagation   \n",
       "7137  habibmrad1983/awesome-cv-with-fashion-mnist-cl...               deeplab   \n",
       "\n",
       "             category  \n",
       "3290       clustering  \n",
       "7137  computer vision  "
      ]
     },
     "execution_count": 7,
     "metadata": {},
     "output_type": "execute_result"
    }
   ],
   "source": [
    "list_ntb[list_ntb['title'] == 'habibmrad1983/awesome-cv-with-fashion-mnist-classification']"
   ]
  },
  {
   "cell_type": "code",
   "execution_count": 8,
   "metadata": {},
   "outputs": [],
   "source": [
    "list_ntb.drop(index =3290,inplace=True)"
   ]
  },
  {
   "cell_type": "code",
   "execution_count": 9,
   "metadata": {},
   "outputs": [
    {
     "data": {
      "text/html": [
       "<div>\n",
       "<style scoped>\n",
       "    .dataframe tbody tr th:only-of-type {\n",
       "        vertical-align: middle;\n",
       "    }\n",
       "\n",
       "    .dataframe tbody tr th {\n",
       "        vertical-align: top;\n",
       "    }\n",
       "\n",
       "    .dataframe thead th {\n",
       "        text-align: right;\n",
       "    }\n",
       "</style>\n",
       "<table border=\"1\" class=\"dataframe\">\n",
       "  <thead>\n",
       "    <tr style=\"text-align: right;\">\n",
       "      <th></th>\n",
       "      <th>title</th>\n",
       "      <th>subcategory</th>\n",
       "      <th>category</th>\n",
       "    </tr>\n",
       "  </thead>\n",
       "  <tbody>\n",
       "    <tr>\n",
       "      <th>3308</th>\n",
       "      <td>evandrodinizphb/nlp-suicidal-pytorch-bert-kfold</td>\n",
       "      <td>self organising map</td>\n",
       "      <td>clustering</td>\n",
       "    </tr>\n",
       "  </tbody>\n",
       "</table>\n",
       "</div>"
      ],
      "text/plain": [
       "                                                title          subcategory  \\\n",
       "3308  evandrodinizphb/nlp-suicidal-pytorch-bert-kfold  self organising map   \n",
       "\n",
       "        category  \n",
       "3308  clustering  "
      ]
     },
     "execution_count": 9,
     "metadata": {},
     "output_type": "execute_result"
    }
   ],
   "source": [
    "list_ntb[list_ntb['title'] == 'evandrodinizphb/nlp-suicidal-pytorch-bert-kfold']"
   ]
  },
  {
   "cell_type": "code",
   "execution_count": 10,
   "metadata": {},
   "outputs": [],
   "source": [
    "list_ntb.drop(index =3308,inplace=True)"
   ]
  },
  {
   "cell_type": "code",
   "execution_count": 11,
   "metadata": {},
   "outputs": [
    {
     "data": {
      "text/html": [
       "<div>\n",
       "<style scoped>\n",
       "    .dataframe tbody tr th:only-of-type {\n",
       "        vertical-align: middle;\n",
       "    }\n",
       "\n",
       "    .dataframe tbody tr th {\n",
       "        vertical-align: top;\n",
       "    }\n",
       "\n",
       "    .dataframe thead th {\n",
       "        text-align: right;\n",
       "    }\n",
       "</style>\n",
       "<table border=\"1\" class=\"dataframe\">\n",
       "  <thead>\n",
       "    <tr style=\"text-align: right;\">\n",
       "      <th></th>\n",
       "      <th>title</th>\n",
       "      <th>subcategory</th>\n",
       "      <th>category</th>\n",
       "    </tr>\n",
       "  </thead>\n",
       "  <tbody>\n",
       "    <tr>\n",
       "      <th>3313</th>\n",
       "      <td>habibmrad1983/awesome-ml-frameworks-and-mnist-...</td>\n",
       "      <td>self organising map</td>\n",
       "      <td>clustering</td>\n",
       "    </tr>\n",
       "    <tr>\n",
       "      <th>3459</th>\n",
       "      <td>habibmrad1983/awesome-ml-frameworks-and-mnist-...</td>\n",
       "      <td>fcm</td>\n",
       "      <td>clustering</td>\n",
       "    </tr>\n",
       "  </tbody>\n",
       "</table>\n",
       "</div>"
      ],
      "text/plain": [
       "                                                  title          subcategory  \\\n",
       "3313  habibmrad1983/awesome-ml-frameworks-and-mnist-...  self organising map   \n",
       "3459  habibmrad1983/awesome-ml-frameworks-and-mnist-...                  fcm   \n",
       "\n",
       "        category  \n",
       "3313  clustering  \n",
       "3459  clustering  "
      ]
     },
     "execution_count": 11,
     "metadata": {},
     "output_type": "execute_result"
    }
   ],
   "source": [
    "list_ntb[list_ntb['title'] == 'habibmrad1983/awesome-ml-frameworks-and-mnist-classification']"
   ]
  },
  {
   "cell_type": "code",
   "execution_count": 12,
   "metadata": {},
   "outputs": [],
   "source": [
    "list_ntb.drop(index =3459,inplace=True)"
   ]
  },
  {
   "cell_type": "markdown",
   "metadata": {},
   "source": [
    "- Remove Clustering notebooks where Classification figure in title and visversa\n",
    "- Remove Clustering notebooks where Regression figure in title and visversa\n",
    "- Remove Classification notebooks where Regression figure in title and visversa"
   ]
  },
  {
   "cell_type": "code",
   "execution_count": 13,
   "metadata": {},
   "outputs": [],
   "source": [
    "def remove_ntb(classe1,classe2,list_ntb,data) :\n",
    "    df1 = list_ntb[list_ntb['category'] == classe1] \n",
    "    List_to_delete_1 = []\n",
    "    for i in df1.index:\n",
    "        if classe1 in df1.loc[i]['title'] and classe2 in df1.loc[i]['title']:\n",
    "            List_to_delete_1.append(df1.loc[i]['title'])\n",
    "\n",
    "    df2 = list_ntb[list_ntb['category'] == 'classe2'] \n",
    "    List_to_delete_2 = []\n",
    "    for i in df2.index:\n",
    "        if classe1 in df2.loc[i]['title'] and classe2 in df2.loc[i]['title']:\n",
    "            List_to_delete_2.append(df2.loc[i]['title'])\n",
    "\n",
    "    for i in list_ntb.index:\n",
    "        if list_ntb.loc[i]['title'] in List_to_delete_1 or list_ntb.loc[i]['title'] in List_to_delete_2 :\n",
    "            list_ntb.drop(index = i,inplace=True)\n",
    "\n",
    "    final_list = []\n",
    "    for i in list_ntb.index:\n",
    "        final_list.append(re.sub(\"^[^/]*/\",'',list_ntb.loc[i]['title'])+\".ipynb\")\n",
    "\n",
    "\n",
    "    count_1 = 0\n",
    "    count_2 = 0\n",
    "\n",
    "    for i in data.index:\n",
    "        if data.loc[i]['title'] in final_list:\n",
    "            count_1 +=1\n",
    "        else :\n",
    "            data.drop(index = i,inplace=True)\n",
    "            count_2 +=1\n",
    "\n",
    "    print(\"Number of Removed cells :\",count_2)\n",
    "    print(\"Removed notebooks \\n \",List_to_delete_1 +List_to_delete_2)\n"
   ]
  },
  {
   "cell_type": "code",
   "execution_count": 14,
   "metadata": {},
   "outputs": [
    {
     "data": {
      "text/plain": [
       "(343593, 4)"
      ]
     },
     "execution_count": 14,
     "metadata": {},
     "output_type": "execute_result"
    }
   ],
   "source": [
    "data.shape"
   ]
  },
  {
   "cell_type": "code",
   "execution_count": 15,
   "metadata": {},
   "outputs": [
    {
     "name": "stdout",
     "output_type": "stream",
     "text": [
      "Number of Removed cells : 20907\n",
      "Removed notebooks \n",
      "  ['dreamslab/eda-classification-and-clustering-diagnostic', 'abinayaravi/seeds-data-clustering-and-classification', 'yoghurtpatil/clustering-and-classification-on-student-data', 'naim99/image-classification-clustering-step-by-step', 'bulentsiyah/comparing-classification-clustering-regression-ml', 'caesarmario/iris-eda-classification-and-clustering', 'aryantyagi19/customer-analysis-clustering-and-classification', 'vigneshprakash/red-wine-data-eda-clustering-and-classification', 'yashikachugh/eda-clustering-classification']\n",
      "-----------------------------------------------\n",
      "Number of Removed cells : 90\n",
      "Removed notebooks \n",
      "  ['minc33/k-means-clustering-vs-logistic-regression', 'jamesdonconley/clustering-improves-logistic-regression']\n",
      "-----------------------------------------------\n",
      "Number of Removed cells : 0\n",
      "Removed notebooks \n",
      "  []\n"
     ]
    }
   ],
   "source": [
    "remove_ntb('clustering','classification',list_ntb,data)\n",
    "print(\"-----------------------------------------------\")\n",
    "remove_ntb('clustering','regression',list_ntb,data)\n",
    "print(\"-----------------------------------------------\")\n",
    "remove_ntb('regression','classification',list_ntb,data)"
   ]
  },
  {
   "cell_type": "code",
   "execution_count": 16,
   "metadata": {},
   "outputs": [
    {
     "data": {
      "text/plain": [
       "(322596, 4)"
      ]
     },
     "execution_count": 16,
     "metadata": {},
     "output_type": "execute_result"
    }
   ],
   "source": [
    "data.shape"
   ]
  }
 ],
 "metadata": {
  "kernelspec": {
   "display_name": "Python 3.9.2 64-bit",
   "language": "python",
   "name": "python3"
  },
  "language_info": {
   "codemirror_mode": {
    "name": "ipython",
    "version": 3
   },
   "file_extension": ".py",
   "mimetype": "text/x-python",
   "name": "python",
   "nbconvert_exporter": "python",
   "pygments_lexer": "ipython3",
   "version": "3.9.2"
  },
  "orig_nbformat": 4,
  "vscode": {
   "interpreter": {
    "hash": "81794d4967e6c3204c66dcd87b604927b115b27c00565d3d43f05ba2f3a2cb0d"
   }
  }
 },
 "nbformat": 4,
 "nbformat_minor": 2
}
