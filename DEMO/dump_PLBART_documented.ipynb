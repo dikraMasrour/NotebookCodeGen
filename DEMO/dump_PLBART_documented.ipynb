{
 "cells": [
  {
   "cell_type": "markdown",
   "metadata": {},
   "source": [
    "## Training word2vec model for moroccan and algerian dialect"
   ]
  },
  {
   "cell_type": "markdown",
   "metadata": {},
   "source": [
    "##### Imports"
   ]
  },
  {
   "cell_type": "markdown",
   "id": "f0cd3f9c",
   "metadata": {},
   "source": [
    "🪄Imports data from the Icetea package."
   ]
  },
  {
   "cell_type": "code",
   "execution_count": 1,
   "metadata": {},
   "outputs": [],
   "source": [
    "import gensim\n",
    "import pandas as pd\n",
    "import nltk\n",
    "import glob"
   ]
  },
  {
   "cell_type": "markdown",
   "id": "1a4b8d61",
   "metadata": {},
   "source": [
    "🪄Loads data from one - drive dataset."
   ]
  },
  {
   "cell_type": "code",
   "execution_count": 26,
   "metadata": {},
   "outputs": [
    {
     "data": {
      "text/html": [
       "<div>\n",
       "<style scoped>\n",
       "    .dataframe tbody tr th:only-of-type {\n",
       "        vertical-align: middle;\n",
       "    }\n",
       "\n",
       "    .dataframe tbody tr th {\n",
       "        vertical-align: top;\n",
       "    }\n",
       "\n",
       "    .dataframe thead th {\n",
       "        text-align: right;\n",
       "    }\n",
       "</style>\n",
       "<table border=\"1\" class=\"dataframe\">\n",
       "  <thead>\n",
       "    <tr style=\"text-align: right;\">\n",
       "      <th></th>\n",
       "      <th>comments</th>\n",
       "    </tr>\n",
       "  </thead>\n",
       "  <tbody>\n",
       "    <tr>\n",
       "      <th>0</th>\n",
       "      <td>عادو الناس يتباكاو بديت نهدر من قلبي تقول نهد...</td>\n",
       "    </tr>\n",
       "    <tr>\n",
       "      <th>1</th>\n",
       "      <td>بكيت الناس كامل سكتو تخلعت في روحي تقول كنت ننوم</td>\n",
       "    </tr>\n",
       "    <tr>\n",
       "      <th>2</th>\n",
       "      <td>ناضو ﭭﺎع سلمو عليا و يهدرو معايا نص بكا و نص ل...</td>\n",
       "    </tr>\n",
       "    <tr>\n",
       "      <th>3</th>\n",
       "      <td>عرضونا للعشا و كان لعشا يكفي ليزاﻧڢيتي ﭭﺎع</td>\n",
       "    </tr>\n",
       "    <tr>\n",
       "      <th>4</th>\n",
       "      <td>جوزت ايامات روعة ما ننساهاش طول حياتي</td>\n",
       "    </tr>\n",
       "  </tbody>\n",
       "</table>\n",
       "</div>"
      ],
      "text/plain": [
       "                                            comments\n",
       "0   عادو الناس يتباكاو بديت نهدر من قلبي تقول نهد...\n",
       "1   بكيت الناس كامل سكتو تخلعت في روحي تقول كنت ننوم\n",
       "2  ناضو ﭭﺎع سلمو عليا و يهدرو معايا نص بكا و نص ل...\n",
       "3         عرضونا للعشا و كان لعشا يكفي ليزاﻧڢيتي ﭭﺎع\n",
       "4              جوزت ايامات روعة ما ننساهاش طول حياتي"
      ]
     },
     "execution_count": 26,
     "metadata": {},
     "output_type": "execute_result"
    }
   ],
   "source": [
    "path = r'C:\\\\Users\\\\zbook\\\\OneDrive - UIR\\\\UIR\\\\S8\\\\AutoTranslate\\\\word2vec_trainingdata'\n",
    "all_files = glob.glob(path + \"/*.csv\")\n",
    "\n",
    "li = []\n",
    "\n",
    "for filename in all_files:\n",
    "    df_elem = pd.read_csv(filename, index_col=None, header=0, on_bad_lines='skip')\n",
    "    li.append(df_elem)\n",
    "\n",
    "df = pd.concat(li, ignore_index=True)\n",
    "df.head()"
   ]
  },
  {
   "cell_type": "markdown",
   "id": "a696557a",
   "metadata": {},
   "source": [
    "🪄shape of dataframe."
   ]
  },
  {
   "cell_type": "code",
   "execution_count": 27,
   "metadata": {},
   "outputs": [
    {
     "data": {
      "text/plain": [
       "(115226, 1)"
      ]
     },
     "execution_count": 27,
     "metadata": {},
     "output_type": "execute_result"
    }
   ],
   "source": [
    "df.shape"
   ]
  },
  {
   "cell_type": "markdown",
   "metadata": {},
   "source": [
    "##### Tokenizing"
   ]
  },
  {
   "cell_type": "markdown",
   "id": "dae66cc0",
   "metadata": {},
   "source": [
    "🪄Tokenize the comments."
   ]
  },
  {
   "cell_type": "code",
   "execution_count": 28,
   "metadata": {},
   "outputs": [
    {
     "data": {
      "text/plain": [
       "0         [عادو, الناس, يتباكاو, بديت, نهدر, من, قلبي, ت...\n",
       "1         [بكيت, الناس, كامل, سكتو, تخلعت, في, روحي, تقو...\n",
       "2         [ناضو, ﭭﺎع, سلمو, عليا, و, يهدرو, معايا, نص, ب...\n",
       "3         [عرضونا, للعشا, و, كان, لعشا, يكفي, ليزاﻧڢيتي,...\n",
       "4             [جوزت, ايامات, روعة, ما, ننساهاش, طول, حياتي]\n",
       "                                ...                        \n",
       "115221    [شكرا, لقد, استمتعت, بهذا, الفيديو, كثيرا, خبي...\n",
       "115222    [فيديو, ممتع, والله, روووعة, يعطيك, الصحة, خوي...\n",
       "115223            [برااافو, عليك, تستاهل, الشهرة, العالمية]\n",
       "115224    [الله, يبارك, ،, ما, شاء, الله, خويا, خبيبيسّر...\n",
       "115225                     [أفضل, صانع, محتوى, في, الجزائر]\n",
       "Name: comments, Length: 115226, dtype: object"
      ]
     },
     "execution_count": 28,
     "metadata": {},
     "output_type": "execute_result"
    }
   ],
   "source": [
    "df_tokenized = df.comments.apply(nltk.word_tokenize)\n",
    "df_tokenized"
   ]
  },
  {
   "cell_type": "markdown",
   "metadata": {},
   "source": [
    "##### Initializing word2vec model"
   ]
  },
  {
   "cell_type": "markdown",
   "id": "501a814e",
   "metadata": {},
   "source": [
    "🪄Create a new word2Vec model for use with the HMM module."
   ]
  },
  {
   "cell_type": "code",
   "execution_count": 30,
   "metadata": {},
   "outputs": [],
   "source": [
    "model = gensim.models.Word2Vec(window=5, min_count=2, workers=2)"
   ]
  },
  {
   "cell_type": "markdown",
   "metadata": {},
   "source": [
    "##### Building vovab"
   ]
  },
  {
   "cell_type": "markdown",
   "id": "795a53bc",
   "metadata": {},
   "source": [
    "🪄Builds the vocabulary from the input dataframe."
   ]
  },
  {
   "cell_type": "code",
   "execution_count": 31,
   "metadata": {},
   "outputs": [],
   "source": [
    "model.build_vocab(df_tokenized, progress_per=5)"
   ]
  },
  {
   "cell_type": "markdown",
   "id": "1f60a355",
   "metadata": {},
   "source": [
    "🪄The number of iterations done on the whole dataset by default it is 5 model.epochs"
   ]
  },
  {
   "cell_type": "code",
   "execution_count": 8,
   "metadata": {},
   "outputs": [
    {
     "data": {
      "text/plain": [
       "5"
      ]
     },
     "execution_count": 8,
     "metadata": {},
     "output_type": "execute_result"
    }
   ],
   "source": [
    "# epochs being the number of iterations done on the whole dataset, by default it is 5\n",
    "model.epochs"
   ]
  },
  {
   "cell_type": "markdown",
   "metadata": {},
   "source": [
    "##### Model training"
   ]
  },
  {
   "cell_type": "markdown",
   "id": "90b31dc7",
   "metadata": {},
   "source": [
    "🪄Train a model by tokenizing the corpus count and number of examples."
   ]
  },
  {
   "cell_type": "code",
   "execution_count": 32,
   "metadata": {},
   "outputs": [
    {
     "data": {
      "text/plain": [
       "(4727130, 5645515)"
      ]
     },
     "execution_count": 32,
     "metadata": {},
     "output_type": "execute_result"
    }
   ],
   "source": [
    "model.train(df_tokenized, total_examples=model.corpus_count, epochs=model.epochs)"
   ]
  },
  {
   "cell_type": "markdown",
   "metadata": {},
   "source": [
    "##### Saving model"
   ]
  },
  {
   "cell_type": "markdown",
   "id": "acea5fc1",
   "metadata": {},
   "source": [
    "🪄Save the model s file - > vector_mor_dz. model object."
   ]
  },
  {
   "cell_type": "code",
   "execution_count": 33,
   "metadata": {},
   "outputs": [],
   "source": [
    "model.save('./word2vec_mor_dz.model')"
   ]
  },
  {
   "cell_type": "markdown",
   "metadata": {},
   "source": [
    "##### Testing"
   ]
  },
  {
   "cell_type": "markdown",
   "id": "c7cc82f5",
   "metadata": {},
   "source": [
    "🪄Get vector of values in the WV model"
   ]
  },
  {
   "cell_type": "code",
   "execution_count": 36,
   "metadata": {},
   "outputs": [
    {
     "data": {
      "text/plain": [
       "array([-0.30374986,  0.07175432, -1.9774907 ,  0.8653471 ,  1.0058571 ,\n",
       "        0.03052483,  1.6197143 , -1.0898234 ,  1.1693029 ,  0.96499985,\n",
       "       -1.1037531 , -1.5497943 ,  1.9381372 ,  1.0726736 ,  0.7137537 ,\n",
       "       -1.9590017 , -0.7012492 , -0.37255132, -0.19502258, -0.01550069,\n",
       "        0.30475372,  0.02588587, -0.10248473,  0.75695884,  0.87948567,\n",
       "       -1.8181672 ,  0.20955311, -0.29015642,  0.6445919 , -1.2174771 ,\n",
       "        2.6708517 , -0.37695837,  1.6182309 , -0.16528021, -1.2222136 ,\n",
       "        0.04739395,  0.03246354,  1.685888  ,  0.8174039 , -1.4625372 ,\n",
       "       -1.1201082 ,  0.2508373 ,  1.0266021 , -0.27731118,  0.01646691,\n",
       "       -1.3282051 ,  0.6850137 ,  0.15229063,  0.57460415,  0.7096181 ,\n",
       "        0.83873975, -0.14124483, -0.05335499, -2.1376112 ,  0.7597384 ,\n",
       "        0.00964276,  0.32463962,  1.6149795 ,  0.25036755, -0.84656155,\n",
       "       -0.11048245, -0.41262317,  1.1813644 , -0.61122257, -1.9603467 ,\n",
       "        0.73217666, -0.12566723,  1.2469335 , -1.2762504 ,  1.3140593 ,\n",
       "       -0.0808326 ,  0.67132723,  1.4991429 ,  1.59795   , -0.03220373,\n",
       "       -0.8748432 , -0.5941907 , -0.64879906, -0.08678758,  1.7098435 ,\n",
       "       -0.5889559 , -0.64070845,  0.19907294,  0.086163  , -0.30998918,\n",
       "       -1.4234908 ,  0.7986347 , -0.69719934, -0.9008635 ,  0.01687654,\n",
       "       -0.3002783 ,  0.44608024,  1.938321  , -0.72941923,  0.94874084,\n",
       "       -0.19638109,  1.2977958 ,  0.91942734,  0.67938447, -0.65222347],\n",
       "      dtype=float32)"
      ]
     },
     "execution_count": 36,
     "metadata": {},
     "output_type": "execute_result"
    }
   ],
   "source": [
    "model.wv.get_vector('الفيديو')"
   ]
  },
  {
   "cell_type": "markdown",
   "id": "4a24c41f",
   "metadata": {},
   "source": [
    "🪄size of vector in Wv."
   ]
  },
  {
   "cell_type": "code",
   "execution_count": 37,
   "metadata": {},
   "outputs": [
    {
     "data": {
      "text/plain": [
       "100"
      ]
     },
     "execution_count": 37,
     "metadata": {},
     "output_type": "execute_result"
    }
   ],
   "source": [
    "model.wv.vector_size"
   ]
  },
  {
   "cell_type": "markdown",
   "id": "6c0220d4",
   "metadata": {},
   "source": [
    "🪄Return the most similar model to the Wv - L divergence."
   ]
  },
  {
   "cell_type": "code",
   "execution_count": 38,
   "metadata": {},
   "outputs": [
    {
     "data": {
      "text/plain": [
       "[('الفديو', 0.8424222469329834),\n",
       " ('الفيديوهات', 0.8212994337081909),\n",
       " ('اليوم', 0.809577226638794),\n",
       " ('الوصفة', 0.8092324137687683),\n",
       " ('المختلسين', 0.7842799425125122),\n",
       " ('لفيديو', 0.7826778888702393),\n",
       " ('المنبر', 0.7803176641464233),\n",
       " ('الحلقة', 0.7770587205886841),\n",
       " ('الفيديوا', 0.7731214761734009),\n",
       " ('الاغنية', 0.7693439722061157)]"
      ]
     },
     "execution_count": 38,
     "metadata": {},
     "output_type": "execute_result"
    }
   ],
   "source": [
    "model.wv.most_similar('الفيديو')"
   ]
  },
  {
   "cell_type": "markdown",
   "id": "f755eabc",
   "metadata": {},
   "source": [
    "🪄Return the value of the most similar model."
   ]
  },
  {
   "cell_type": "code",
   "execution_count": 39,
   "metadata": {},
   "outputs": [
    {
     "data": {
      "text/plain": [
       "[('صحة', 0.957695722579956),\n",
       " ('الصحه', 0.9494235515594482),\n",
       " ('صحه', 0.9477626085281372),\n",
       " ('ااصحة', 0.9430625438690186),\n",
       " ('العافيه', 0.938389778137207),\n",
       " ('الصحا', 0.934445858001709),\n",
       " ('ماتتمنى', 0.9239757657051086),\n",
       " ('العافية', 0.921890139579773),\n",
       " ('يمنيك', 0.921332597732544),\n",
       " ('ماتتمنا', 0.920365035533905)]"
      ]
     },
     "execution_count": 39,
     "metadata": {},
     "output_type": "execute_result"
    }
   ],
   "source": [
    "model.wv.most_similar('الصحة')"
   ]
  },
  {
   "cell_type": "markdown",
   "id": "cf3efd61",
   "metadata": {},
   "source": [
    "🪄Return the value of the most similar model."
   ]
  },
  {
   "cell_type": "code",
   "execution_count": 42,
   "metadata": {},
   "outputs": [
    {
     "data": {
      "text/plain": [
       "[('سوء', 0.8432469964027405),\n",
       " ('شر', 0.8258323669433594),\n",
       " ('فحياتها', 0.8234294056892395),\n",
       " ('اعتدى', 0.8075923323631287),\n",
       " ('مكروه', 0.8055546283721924),\n",
       " ('وشعبنا', 0.7985508441925049),\n",
       " ('امانيكم', 0.7867958545684814),\n",
       " ('يشافي', 0.7866781949996948),\n",
       " ('مقامها', 0.7856148481369019),\n",
       " ('الخير', 0.7848873138427734)]"
      ]
     },
     "execution_count": 42,
     "metadata": {},
     "output_type": "execute_result"
    }
   ],
   "source": [
    "model.wv.most_similar('خير')"
   ]
  },
  {
   "cell_type": "markdown",
   "id": "084191f6",
   "metadata": {},
   "source": [
    "🪄Return the similarity between two words."
   ]
  },
  {
   "cell_type": "code",
   "execution_count": 46,
   "metadata": {},
   "outputs": [
    {
     "data": {
      "text/plain": [
       "0.55149865"
      ]
     },
     "execution_count": 46,
     "metadata": {},
     "output_type": "execute_result"
    }
   ],
   "source": [
    "model.wv.similarity(w1='الخير', w2='صباح')"
   ]
  }
 ],
 "metadata": {
  "interpreter": {
   "hash": "7e0683708a40e5e31be6eca1343e37f88fae9f778fb3fd433a047241db249add"
  },
  "kernelspec": {
   "display_name": "Python 3.8.6 64-bit",
   "language": "python",
   "name": "python3"
  },
  "language_info": {
   "codemirror_mode": {
    "name": "ipython",
    "version": 3
   },
   "file_extension": ".py",
   "mimetype": "text/x-python",
   "name": "python",
   "nbconvert_exporter": "python",
   "pygments_lexer": "ipython3",
   "version": "3.8.6"
  }
 },
 "nbformat": 4,
 "nbformat_minor": 2
}
