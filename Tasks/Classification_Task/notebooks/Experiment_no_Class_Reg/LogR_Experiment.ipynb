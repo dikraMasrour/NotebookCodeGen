{
 "cells": [
  {
   "cell_type": "markdown",
   "metadata": {},
   "source": [
    "## Constructing the input dataset to Oracle AutoML"
   ]
  },
  {
   "cell_type": "markdown",
   "metadata": {},
   "source": [
    "Imports"
   ]
  },
  {
   "cell_type": "code",
   "execution_count": 1,
   "metadata": {},
   "outputs": [],
   "source": [
    "import pandas as pd\n",
    "import numpy as np"
   ]
  },
  {
   "cell_type": "code",
   "execution_count": 23,
   "metadata": {},
   "outputs": [],
   "source": [
    "DATA_PATH = \"C:\\\\Users\\\\dmasrour\\\\Documents\\\\CodeDoc_Generation\\\\Tasks\\\\Classification_Task\\\\data\\\\\"\n",
    "DATA_PATH_OUT = 'C:\\\\Users\\\\dmasrour\\\\Documents\\\\CodeDoc_Generation\\\\Tasks\\\\Classification_Task\\\\data\\\\Experiment_no_Class\\\\'"
   ]
  },
  {
   "cell_type": "markdown",
   "metadata": {},
   "source": [
    "Load the vectorized notebooks"
   ]
  },
  {
   "cell_type": "code",
   "execution_count": 8,
   "metadata": {},
   "outputs": [],
   "source": [
    "final_data = pd.read_csv(DATA_PATH + 'final_data.csv')"
   ]
  },
  {
   "cell_type": "code",
   "execution_count": 9,
   "metadata": {},
   "outputs": [
    {
     "data": {
      "text/html": [
       "<div>\n",
       "<style scoped>\n",
       "    .dataframe tbody tr th:only-of-type {\n",
       "        vertical-align: middle;\n",
       "    }\n",
       "\n",
       "    .dataframe tbody tr th {\n",
       "        vertical-align: top;\n",
       "    }\n",
       "\n",
       "    .dataframe thead th {\n",
       "        text-align: right;\n",
       "    }\n",
       "</style>\n",
       "<table border=\"1\" class=\"dataframe\">\n",
       "  <thead>\n",
       "    <tr style=\"text-align: right;\">\n",
       "      <th></th>\n",
       "      <th>num_feature_0</th>\n",
       "      <th>num_feature_1</th>\n",
       "      <th>num_feature_2</th>\n",
       "      <th>num_feature_3</th>\n",
       "      <th>num_feature_4</th>\n",
       "      <th>num_feature_5</th>\n",
       "      <th>num_feature_6</th>\n",
       "      <th>num_feature_7</th>\n",
       "      <th>num_feature_8</th>\n",
       "      <th>num_feature_9</th>\n",
       "      <th>...</th>\n",
       "      <th>num_feature_759</th>\n",
       "      <th>num_feature_760</th>\n",
       "      <th>num_feature_761</th>\n",
       "      <th>num_feature_762</th>\n",
       "      <th>num_feature_763</th>\n",
       "      <th>num_feature_764</th>\n",
       "      <th>num_feature_765</th>\n",
       "      <th>num_feature_766</th>\n",
       "      <th>num_feature_767</th>\n",
       "      <th>target_category</th>\n",
       "    </tr>\n",
       "  </thead>\n",
       "  <tbody>\n",
       "    <tr>\n",
       "      <th>0</th>\n",
       "      <td>-0.347906</td>\n",
       "      <td>0.298659</td>\n",
       "      <td>0.306194</td>\n",
       "      <td>0.055175</td>\n",
       "      <td>-0.430964</td>\n",
       "      <td>-0.466804</td>\n",
       "      <td>-0.108935</td>\n",
       "      <td>0.225360</td>\n",
       "      <td>0.385942</td>\n",
       "      <td>0.492067</td>\n",
       "      <td>...</td>\n",
       "      <td>-0.174081</td>\n",
       "      <td>-0.516293</td>\n",
       "      <td>0.402670</td>\n",
       "      <td>-0.094396</td>\n",
       "      <td>0.222461</td>\n",
       "      <td>0.574193</td>\n",
       "      <td>-0.606644</td>\n",
       "      <td>-0.461940</td>\n",
       "      <td>0.539914</td>\n",
       "      <td>computer vision</td>\n",
       "    </tr>\n",
       "    <tr>\n",
       "      <th>1</th>\n",
       "      <td>-0.381965</td>\n",
       "      <td>0.317170</td>\n",
       "      <td>0.336794</td>\n",
       "      <td>0.081098</td>\n",
       "      <td>-0.454720</td>\n",
       "      <td>-0.551013</td>\n",
       "      <td>-0.051526</td>\n",
       "      <td>0.256912</td>\n",
       "      <td>0.381023</td>\n",
       "      <td>0.474694</td>\n",
       "      <td>...</td>\n",
       "      <td>-0.182501</td>\n",
       "      <td>-0.524450</td>\n",
       "      <td>0.344222</td>\n",
       "      <td>-0.027710</td>\n",
       "      <td>0.259213</td>\n",
       "      <td>0.608695</td>\n",
       "      <td>-0.722355</td>\n",
       "      <td>-0.420306</td>\n",
       "      <td>0.589060</td>\n",
       "      <td>clustering</td>\n",
       "    </tr>\n",
       "    <tr>\n",
       "      <th>2</th>\n",
       "      <td>-0.334516</td>\n",
       "      <td>0.283154</td>\n",
       "      <td>0.291431</td>\n",
       "      <td>0.043395</td>\n",
       "      <td>-0.385153</td>\n",
       "      <td>-0.494500</td>\n",
       "      <td>-0.111106</td>\n",
       "      <td>0.227195</td>\n",
       "      <td>0.380586</td>\n",
       "      <td>0.548708</td>\n",
       "      <td>...</td>\n",
       "      <td>-0.169292</td>\n",
       "      <td>-0.530989</td>\n",
       "      <td>0.416996</td>\n",
       "      <td>-0.104790</td>\n",
       "      <td>0.218367</td>\n",
       "      <td>0.636691</td>\n",
       "      <td>-0.612310</td>\n",
       "      <td>-0.446481</td>\n",
       "      <td>0.508087</td>\n",
       "      <td>computer vision</td>\n",
       "    </tr>\n",
       "    <tr>\n",
       "      <th>3</th>\n",
       "      <td>-0.275612</td>\n",
       "      <td>0.267364</td>\n",
       "      <td>0.266519</td>\n",
       "      <td>0.076538</td>\n",
       "      <td>-0.282673</td>\n",
       "      <td>-0.329046</td>\n",
       "      <td>-0.045134</td>\n",
       "      <td>0.221697</td>\n",
       "      <td>0.293198</td>\n",
       "      <td>0.421586</td>\n",
       "      <td>...</td>\n",
       "      <td>-0.149041</td>\n",
       "      <td>-0.485052</td>\n",
       "      <td>0.493056</td>\n",
       "      <td>-0.112996</td>\n",
       "      <td>0.220296</td>\n",
       "      <td>0.618480</td>\n",
       "      <td>-0.594641</td>\n",
       "      <td>-0.469342</td>\n",
       "      <td>0.497985</td>\n",
       "      <td>nlp</td>\n",
       "    </tr>\n",
       "    <tr>\n",
       "      <th>4</th>\n",
       "      <td>-0.243645</td>\n",
       "      <td>0.288036</td>\n",
       "      <td>0.266372</td>\n",
       "      <td>0.109039</td>\n",
       "      <td>-0.166584</td>\n",
       "      <td>-0.294326</td>\n",
       "      <td>-0.053085</td>\n",
       "      <td>0.150146</td>\n",
       "      <td>0.304883</td>\n",
       "      <td>0.368951</td>\n",
       "      <td>...</td>\n",
       "      <td>-0.142109</td>\n",
       "      <td>-0.482496</td>\n",
       "      <td>0.465995</td>\n",
       "      <td>-0.077088</td>\n",
       "      <td>0.226020</td>\n",
       "      <td>0.523076</td>\n",
       "      <td>-0.427591</td>\n",
       "      <td>-0.406878</td>\n",
       "      <td>0.511194</td>\n",
       "      <td>classification</td>\n",
       "    </tr>\n",
       "  </tbody>\n",
       "</table>\n",
       "<p>5 rows × 769 columns</p>\n",
       "</div>"
      ],
      "text/plain": [
       "   num_feature_0  num_feature_1  num_feature_2  num_feature_3  num_feature_4  \\\n",
       "0      -0.347906       0.298659       0.306194       0.055175      -0.430964   \n",
       "1      -0.381965       0.317170       0.336794       0.081098      -0.454720   \n",
       "2      -0.334516       0.283154       0.291431       0.043395      -0.385153   \n",
       "3      -0.275612       0.267364       0.266519       0.076538      -0.282673   \n",
       "4      -0.243645       0.288036       0.266372       0.109039      -0.166584   \n",
       "\n",
       "   num_feature_5  num_feature_6  num_feature_7  num_feature_8  num_feature_9  \\\n",
       "0      -0.466804      -0.108935       0.225360       0.385942       0.492067   \n",
       "1      -0.551013      -0.051526       0.256912       0.381023       0.474694   \n",
       "2      -0.494500      -0.111106       0.227195       0.380586       0.548708   \n",
       "3      -0.329046      -0.045134       0.221697       0.293198       0.421586   \n",
       "4      -0.294326      -0.053085       0.150146       0.304883       0.368951   \n",
       "\n",
       "   ...  num_feature_759  num_feature_760  num_feature_761  num_feature_762  \\\n",
       "0  ...        -0.174081        -0.516293         0.402670        -0.094396   \n",
       "1  ...        -0.182501        -0.524450         0.344222        -0.027710   \n",
       "2  ...        -0.169292        -0.530989         0.416996        -0.104790   \n",
       "3  ...        -0.149041        -0.485052         0.493056        -0.112996   \n",
       "4  ...        -0.142109        -0.482496         0.465995        -0.077088   \n",
       "\n",
       "   num_feature_763  num_feature_764  num_feature_765  num_feature_766  \\\n",
       "0         0.222461         0.574193        -0.606644        -0.461940   \n",
       "1         0.259213         0.608695        -0.722355        -0.420306   \n",
       "2         0.218367         0.636691        -0.612310        -0.446481   \n",
       "3         0.220296         0.618480        -0.594641        -0.469342   \n",
       "4         0.226020         0.523076        -0.427591        -0.406878   \n",
       "\n",
       "   num_feature_767  target_category  \n",
       "0         0.539914  computer vision  \n",
       "1         0.589060       clustering  \n",
       "2         0.508087  computer vision  \n",
       "3         0.497985              nlp  \n",
       "4         0.511194   classification  \n",
       "\n",
       "[5 rows x 769 columns]"
      ]
     },
     "execution_count": 9,
     "metadata": {},
     "output_type": "execute_result"
    }
   ],
   "source": [
    "final_data.head()"
   ]
  },
  {
   "cell_type": "code",
   "execution_count": 10,
   "metadata": {},
   "outputs": [
    {
     "data": {
      "text/plain": [
       "(6260, 769)"
      ]
     },
     "execution_count": 10,
     "metadata": {},
     "output_type": "execute_result"
    }
   ],
   "source": [
    "final_data.shape"
   ]
  },
  {
   "cell_type": "code",
   "execution_count": 42,
   "metadata": {},
   "outputs": [
    {
     "data": {
      "text/plain": [
       "array(['computer vision', 'clustering', 'nlp', 'regression',\n",
       "       'reinforcement learning'], dtype=object)"
      ]
     },
     "execution_count": 42,
     "metadata": {},
     "output_type": "execute_result"
    }
   ],
   "source": [
    "final_data.target_category.unique()"
   ]
  },
  {
   "cell_type": "markdown",
   "metadata": {},
   "source": [
    "Remove classification rows"
   ]
  },
  {
   "cell_type": "code",
   "execution_count": 14,
   "metadata": {},
   "outputs": [],
   "source": [
    "final_data.drop(final_data[final_data.target_category == 'classification'].index, inplace=True)"
   ]
  },
  {
   "cell_type": "code",
   "execution_count": 15,
   "metadata": {},
   "outputs": [
    {
     "data": {
      "text/plain": [
       "(5487, 769)"
      ]
     },
     "execution_count": 15,
     "metadata": {},
     "output_type": "execute_result"
    }
   ],
   "source": [
    "final_data.shape"
   ]
  },
  {
   "cell_type": "markdown",
   "metadata": {},
   "source": [
    "Build the dataframe structure"
   ]
  },
  {
   "cell_type": "code",
   "execution_count": 24,
   "metadata": {},
   "outputs": [],
   "source": [
    "final_data.to_csv(DATA_PATH_OUT + 'final_data_no_classification.csv', index=False)"
   ]
  },
  {
   "cell_type": "markdown",
   "metadata": {},
   "source": [
    "### Classification test (baseline)"
   ]
  },
  {
   "cell_type": "code",
   "execution_count": 43,
   "metadata": {},
   "outputs": [],
   "source": [
    "from sklearn.linear_model import LogisticRegression\n",
    "from sklearn.model_selection import train_test_split\n",
    "from sklearn.metrics import accuracy_score, confusion_matrix, ConfusionMatrixDisplay, roc_auc_score, f1_score\n",
    "import matplotlib.pyplot as plt\n",
    "import plotly.figure_factory as ff\n",
    "from sklearn.model_selection import cross_val_score"
   ]
  },
  {
   "cell_type": "code",
   "execution_count": 25,
   "metadata": {},
   "outputs": [
    {
     "data": {
      "text/html": [
       "<div>\n",
       "<style scoped>\n",
       "    .dataframe tbody tr th:only-of-type {\n",
       "        vertical-align: middle;\n",
       "    }\n",
       "\n",
       "    .dataframe tbody tr th {\n",
       "        vertical-align: top;\n",
       "    }\n",
       "\n",
       "    .dataframe thead th {\n",
       "        text-align: right;\n",
       "    }\n",
       "</style>\n",
       "<table border=\"1\" class=\"dataframe\">\n",
       "  <thead>\n",
       "    <tr style=\"text-align: right;\">\n",
       "      <th></th>\n",
       "      <th>num_feature_0</th>\n",
       "      <th>num_feature_1</th>\n",
       "      <th>num_feature_2</th>\n",
       "      <th>num_feature_3</th>\n",
       "      <th>num_feature_4</th>\n",
       "      <th>num_feature_5</th>\n",
       "      <th>num_feature_6</th>\n",
       "      <th>num_feature_7</th>\n",
       "      <th>num_feature_8</th>\n",
       "      <th>num_feature_9</th>\n",
       "      <th>...</th>\n",
       "      <th>num_feature_759</th>\n",
       "      <th>num_feature_760</th>\n",
       "      <th>num_feature_761</th>\n",
       "      <th>num_feature_762</th>\n",
       "      <th>num_feature_763</th>\n",
       "      <th>num_feature_764</th>\n",
       "      <th>num_feature_765</th>\n",
       "      <th>num_feature_766</th>\n",
       "      <th>num_feature_767</th>\n",
       "      <th>target_category</th>\n",
       "    </tr>\n",
       "  </thead>\n",
       "  <tbody>\n",
       "    <tr>\n",
       "      <th>0</th>\n",
       "      <td>-0.347906</td>\n",
       "      <td>0.298659</td>\n",
       "      <td>0.306194</td>\n",
       "      <td>0.055175</td>\n",
       "      <td>-0.430964</td>\n",
       "      <td>-0.466804</td>\n",
       "      <td>-0.108935</td>\n",
       "      <td>0.225360</td>\n",
       "      <td>0.385942</td>\n",
       "      <td>0.492067</td>\n",
       "      <td>...</td>\n",
       "      <td>-0.174081</td>\n",
       "      <td>-0.516293</td>\n",
       "      <td>0.402670</td>\n",
       "      <td>-0.094396</td>\n",
       "      <td>0.222461</td>\n",
       "      <td>0.574193</td>\n",
       "      <td>-0.606644</td>\n",
       "      <td>-0.461940</td>\n",
       "      <td>0.539914</td>\n",
       "      <td>computer vision</td>\n",
       "    </tr>\n",
       "    <tr>\n",
       "      <th>1</th>\n",
       "      <td>-0.381965</td>\n",
       "      <td>0.317170</td>\n",
       "      <td>0.336794</td>\n",
       "      <td>0.081098</td>\n",
       "      <td>-0.454720</td>\n",
       "      <td>-0.551013</td>\n",
       "      <td>-0.051526</td>\n",
       "      <td>0.256912</td>\n",
       "      <td>0.381023</td>\n",
       "      <td>0.474694</td>\n",
       "      <td>...</td>\n",
       "      <td>-0.182501</td>\n",
       "      <td>-0.524450</td>\n",
       "      <td>0.344222</td>\n",
       "      <td>-0.027710</td>\n",
       "      <td>0.259213</td>\n",
       "      <td>0.608695</td>\n",
       "      <td>-0.722355</td>\n",
       "      <td>-0.420306</td>\n",
       "      <td>0.589060</td>\n",
       "      <td>clustering</td>\n",
       "    </tr>\n",
       "    <tr>\n",
       "      <th>2</th>\n",
       "      <td>-0.334516</td>\n",
       "      <td>0.283154</td>\n",
       "      <td>0.291431</td>\n",
       "      <td>0.043395</td>\n",
       "      <td>-0.385153</td>\n",
       "      <td>-0.494500</td>\n",
       "      <td>-0.111106</td>\n",
       "      <td>0.227195</td>\n",
       "      <td>0.380586</td>\n",
       "      <td>0.548708</td>\n",
       "      <td>...</td>\n",
       "      <td>-0.169292</td>\n",
       "      <td>-0.530989</td>\n",
       "      <td>0.416996</td>\n",
       "      <td>-0.104790</td>\n",
       "      <td>0.218367</td>\n",
       "      <td>0.636691</td>\n",
       "      <td>-0.612310</td>\n",
       "      <td>-0.446481</td>\n",
       "      <td>0.508087</td>\n",
       "      <td>computer vision</td>\n",
       "    </tr>\n",
       "    <tr>\n",
       "      <th>3</th>\n",
       "      <td>-0.275612</td>\n",
       "      <td>0.267364</td>\n",
       "      <td>0.266519</td>\n",
       "      <td>0.076538</td>\n",
       "      <td>-0.282673</td>\n",
       "      <td>-0.329046</td>\n",
       "      <td>-0.045134</td>\n",
       "      <td>0.221697</td>\n",
       "      <td>0.293198</td>\n",
       "      <td>0.421586</td>\n",
       "      <td>...</td>\n",
       "      <td>-0.149041</td>\n",
       "      <td>-0.485052</td>\n",
       "      <td>0.493056</td>\n",
       "      <td>-0.112996</td>\n",
       "      <td>0.220296</td>\n",
       "      <td>0.618480</td>\n",
       "      <td>-0.594641</td>\n",
       "      <td>-0.469342</td>\n",
       "      <td>0.497985</td>\n",
       "      <td>nlp</td>\n",
       "    </tr>\n",
       "    <tr>\n",
       "      <th>4</th>\n",
       "      <td>-0.279005</td>\n",
       "      <td>0.288269</td>\n",
       "      <td>0.271462</td>\n",
       "      <td>0.147275</td>\n",
       "      <td>-0.139116</td>\n",
       "      <td>-0.344902</td>\n",
       "      <td>-0.062710</td>\n",
       "      <td>0.146953</td>\n",
       "      <td>0.285579</td>\n",
       "      <td>0.395382</td>\n",
       "      <td>...</td>\n",
       "      <td>-0.142391</td>\n",
       "      <td>-0.510494</td>\n",
       "      <td>0.393233</td>\n",
       "      <td>-0.109620</td>\n",
       "      <td>0.216518</td>\n",
       "      <td>0.523437</td>\n",
       "      <td>-0.519707</td>\n",
       "      <td>-0.382903</td>\n",
       "      <td>0.463210</td>\n",
       "      <td>clustering</td>\n",
       "    </tr>\n",
       "  </tbody>\n",
       "</table>\n",
       "<p>5 rows × 769 columns</p>\n",
       "</div>"
      ],
      "text/plain": [
       "   num_feature_0  num_feature_1  num_feature_2  num_feature_3  num_feature_4  \\\n",
       "0      -0.347906       0.298659       0.306194       0.055175      -0.430964   \n",
       "1      -0.381965       0.317170       0.336794       0.081098      -0.454720   \n",
       "2      -0.334516       0.283154       0.291431       0.043395      -0.385153   \n",
       "3      -0.275612       0.267364       0.266519       0.076538      -0.282673   \n",
       "4      -0.279005       0.288269       0.271462       0.147275      -0.139116   \n",
       "\n",
       "   num_feature_5  num_feature_6  num_feature_7  num_feature_8  num_feature_9  \\\n",
       "0      -0.466804      -0.108935       0.225360       0.385942       0.492067   \n",
       "1      -0.551013      -0.051526       0.256912       0.381023       0.474694   \n",
       "2      -0.494500      -0.111106       0.227195       0.380586       0.548708   \n",
       "3      -0.329046      -0.045134       0.221697       0.293198       0.421586   \n",
       "4      -0.344902      -0.062710       0.146953       0.285579       0.395382   \n",
       "\n",
       "   ...  num_feature_759  num_feature_760  num_feature_761  num_feature_762  \\\n",
       "0  ...        -0.174081        -0.516293         0.402670        -0.094396   \n",
       "1  ...        -0.182501        -0.524450         0.344222        -0.027710   \n",
       "2  ...        -0.169292        -0.530989         0.416996        -0.104790   \n",
       "3  ...        -0.149041        -0.485052         0.493056        -0.112996   \n",
       "4  ...        -0.142391        -0.510494         0.393233        -0.109620   \n",
       "\n",
       "   num_feature_763  num_feature_764  num_feature_765  num_feature_766  \\\n",
       "0         0.222461         0.574193        -0.606644        -0.461940   \n",
       "1         0.259213         0.608695        -0.722355        -0.420306   \n",
       "2         0.218367         0.636691        -0.612310        -0.446481   \n",
       "3         0.220296         0.618480        -0.594641        -0.469342   \n",
       "4         0.216518         0.523437        -0.519707        -0.382903   \n",
       "\n",
       "   num_feature_767  target_category  \n",
       "0         0.539914  computer vision  \n",
       "1         0.589060       clustering  \n",
       "2         0.508087  computer vision  \n",
       "3         0.497985              nlp  \n",
       "4         0.463210       clustering  \n",
       "\n",
       "[5 rows x 769 columns]"
      ]
     },
     "execution_count": 25,
     "metadata": {},
     "output_type": "execute_result"
    }
   ],
   "source": [
    "final_df = pd.read_csv(DATA_PATH_OUT + 'final_data_no_classification.csv')\n",
    "final_df.head()"
   ]
  },
  {
   "cell_type": "code",
   "execution_count": 44,
   "metadata": {},
   "outputs": [],
   "source": [
    "x = final_df.drop('target_category', axis = 1).copy()\n",
    "y = final_df['target_category'].copy()"
   ]
  },
  {
   "cell_type": "code",
   "execution_count": 50,
   "metadata": {},
   "outputs": [],
   "source": [
    "xtrain, xtest,  ytrain, ytest = train_test_split(x, y, test_size=0.2)"
   ]
  },
  {
   "cell_type": "code",
   "execution_count": 28,
   "metadata": {},
   "outputs": [
    {
     "data": {
      "text/plain": [
       "2467    computer vision\n",
       "285                 nlp\n",
       "5102    computer vision\n",
       "2125                nlp\n",
       "2757         regression\n",
       "             ...       \n",
       "244          clustering\n",
       "1893         clustering\n",
       "2309         regression\n",
       "406                 nlp\n",
       "4039                nlp\n",
       "Name: target_category, Length: 4389, dtype: object"
      ]
     },
     "execution_count": 28,
     "metadata": {},
     "output_type": "execute_result"
    }
   ],
   "source": [
    "ytrain"
   ]
  },
  {
   "cell_type": "code",
   "execution_count": 51,
   "metadata": {},
   "outputs": [],
   "source": [
    "logr = LogisticRegression(max_iter=10000)\n",
    "scores = cross_val_score(logr, x, y, cv=5)"
   ]
  },
  {
   "cell_type": "code",
   "execution_count": 52,
   "metadata": {},
   "outputs": [
    {
     "data": {
      "text/html": [
       "<style>#sk-container-id-4 {color: black;background-color: white;}#sk-container-id-4 pre{padding: 0;}#sk-container-id-4 div.sk-toggleable {background-color: white;}#sk-container-id-4 label.sk-toggleable__label {cursor: pointer;display: block;width: 100%;margin-bottom: 0;padding: 0.3em;box-sizing: border-box;text-align: center;}#sk-container-id-4 label.sk-toggleable__label-arrow:before {content: \"▸\";float: left;margin-right: 0.25em;color: #696969;}#sk-container-id-4 label.sk-toggleable__label-arrow:hover:before {color: black;}#sk-container-id-4 div.sk-estimator:hover label.sk-toggleable__label-arrow:before {color: black;}#sk-container-id-4 div.sk-toggleable__content {max-height: 0;max-width: 0;overflow: hidden;text-align: left;background-color: #f0f8ff;}#sk-container-id-4 div.sk-toggleable__content pre {margin: 0.2em;color: black;border-radius: 0.25em;background-color: #f0f8ff;}#sk-container-id-4 input.sk-toggleable__control:checked~div.sk-toggleable__content {max-height: 200px;max-width: 100%;overflow: auto;}#sk-container-id-4 input.sk-toggleable__control:checked~label.sk-toggleable__label-arrow:before {content: \"▾\";}#sk-container-id-4 div.sk-estimator input.sk-toggleable__control:checked~label.sk-toggleable__label {background-color: #d4ebff;}#sk-container-id-4 div.sk-label input.sk-toggleable__control:checked~label.sk-toggleable__label {background-color: #d4ebff;}#sk-container-id-4 input.sk-hidden--visually {border: 0;clip: rect(1px 1px 1px 1px);clip: rect(1px, 1px, 1px, 1px);height: 1px;margin: -1px;overflow: hidden;padding: 0;position: absolute;width: 1px;}#sk-container-id-4 div.sk-estimator {font-family: monospace;background-color: #f0f8ff;border: 1px dotted black;border-radius: 0.25em;box-sizing: border-box;margin-bottom: 0.5em;}#sk-container-id-4 div.sk-estimator:hover {background-color: #d4ebff;}#sk-container-id-4 div.sk-parallel-item::after {content: \"\";width: 100%;border-bottom: 1px solid gray;flex-grow: 1;}#sk-container-id-4 div.sk-label:hover label.sk-toggleable__label {background-color: #d4ebff;}#sk-container-id-4 div.sk-serial::before {content: \"\";position: absolute;border-left: 1px solid gray;box-sizing: border-box;top: 0;bottom: 0;left: 50%;z-index: 0;}#sk-container-id-4 div.sk-serial {display: flex;flex-direction: column;align-items: center;background-color: white;padding-right: 0.2em;padding-left: 0.2em;position: relative;}#sk-container-id-4 div.sk-item {position: relative;z-index: 1;}#sk-container-id-4 div.sk-parallel {display: flex;align-items: stretch;justify-content: center;background-color: white;position: relative;}#sk-container-id-4 div.sk-item::before, #sk-container-id-4 div.sk-parallel-item::before {content: \"\";position: absolute;border-left: 1px solid gray;box-sizing: border-box;top: 0;bottom: 0;left: 50%;z-index: -1;}#sk-container-id-4 div.sk-parallel-item {display: flex;flex-direction: column;z-index: 1;position: relative;background-color: white;}#sk-container-id-4 div.sk-parallel-item:first-child::after {align-self: flex-end;width: 50%;}#sk-container-id-4 div.sk-parallel-item:last-child::after {align-self: flex-start;width: 50%;}#sk-container-id-4 div.sk-parallel-item:only-child::after {width: 0;}#sk-container-id-4 div.sk-dashed-wrapped {border: 1px dashed gray;margin: 0 0.4em 0.5em 0.4em;box-sizing: border-box;padding-bottom: 0.4em;background-color: white;}#sk-container-id-4 div.sk-label label {font-family: monospace;font-weight: bold;display: inline-block;line-height: 1.2em;}#sk-container-id-4 div.sk-label-container {text-align: center;}#sk-container-id-4 div.sk-container {/* jupyter's `normalize.less` sets `[hidden] { display: none; }` but bootstrap.min.css set `[hidden] { display: none !important; }` so we also need the `!important` here to be able to override the default hidden behavior on the sphinx rendered scikit-learn.org. See: https://github.com/scikit-learn/scikit-learn/issues/21755 */display: inline-block !important;position: relative;}#sk-container-id-4 div.sk-text-repr-fallback {display: none;}</style><div id=\"sk-container-id-4\" class=\"sk-top-container\"><div class=\"sk-text-repr-fallback\"><pre>LogisticRegression(max_iter=10000)</pre><b>In a Jupyter environment, please rerun this cell to show the HTML representation or trust the notebook. <br />On GitHub, the HTML representation is unable to render, please try loading this page with nbviewer.org.</b></div><div class=\"sk-container\" hidden><div class=\"sk-item\"><div class=\"sk-estimator sk-toggleable\"><input class=\"sk-toggleable__control sk-hidden--visually\" id=\"sk-estimator-id-4\" type=\"checkbox\" checked><label for=\"sk-estimator-id-4\" class=\"sk-toggleable__label sk-toggleable__label-arrow\">LogisticRegression</label><div class=\"sk-toggleable__content\"><pre>LogisticRegression(max_iter=10000)</pre></div></div></div></div></div>"
      ],
      "text/plain": [
       "LogisticRegression(max_iter=10000)"
      ]
     },
     "execution_count": 52,
     "metadata": {},
     "output_type": "execute_result"
    }
   ],
   "source": [
    "logr.fit(xtrain, ytrain)"
   ]
  },
  {
   "cell_type": "code",
   "execution_count": 53,
   "metadata": {},
   "outputs": [],
   "source": [
    "yhat = logr.predict(xtest)"
   ]
  },
  {
   "cell_type": "code",
   "execution_count": 54,
   "metadata": {},
   "outputs": [
    {
     "name": "stdout",
     "output_type": "stream",
     "text": [
      "0.82 accuracy with a standard deviation of 0.03\n"
     ]
    }
   ],
   "source": [
    "print(\"%0.2f accuracy with a standard deviation of %0.2f\" % (scores.mean(), scores.std()))"
   ]
  },
  {
   "cell_type": "code",
   "execution_count": 56,
   "metadata": {},
   "outputs": [
    {
     "data": {
      "text/plain": [
       "[[160, 9, 22, 38, 1],\n",
       " [6, 195, 16, 7, 1],\n",
       " [9, 19, 338, 6, 1],\n",
       " [15, 8, 21, 169, 1],\n",
       " [5, 2, 5, 4, 40]]"
      ]
     },
     "execution_count": 56,
     "metadata": {},
     "output_type": "execute_result"
    }
   ],
   "source": [
    "conf_m = confusion_matrix(ytest, yhat).tolist()\n",
    "conf_m"
   ]
  },
  {
   "cell_type": "code",
   "execution_count": 57,
   "metadata": {},
   "outputs": [
    {
     "data": {
      "application/vnd.plotly.v1+json": {
       "config": {
        "plotlyServerURL": "https://plot.ly"
       },
       "data": [
        {
         "colorscale": [
          [
           0,
           "#440154"
          ],
          [
           0.1111111111111111,
           "#482878"
          ],
          [
           0.2222222222222222,
           "#3e4989"
          ],
          [
           0.3333333333333333,
           "#31688e"
          ],
          [
           0.4444444444444444,
           "#26828e"
          ],
          [
           0.5555555555555556,
           "#1f9e89"
          ],
          [
           0.6666666666666666,
           "#35b779"
          ],
          [
           0.7777777777777778,
           "#6ece58"
          ],
          [
           0.8888888888888888,
           "#b5de2b"
          ],
          [
           1,
           "#fde725"
          ]
         ],
         "reversescale": false,
         "showscale": true,
         "type": "heatmap",
         "x": [
          "computer vision",
          "clustering",
          "nlp",
          "regression",
          "reinforcement learning"
         ],
         "y": [
          "computer vision",
          "clustering",
          "nlp",
          "regression",
          "reinforcement learning"
         ],
         "z": [
          [
           5,
           2,
           5,
           4,
           40
          ],
          [
           15,
           8,
           21,
           169,
           1
          ],
          [
           9,
           19,
           338,
           6,
           1
          ],
          [
           6,
           195,
           16,
           7,
           1
          ],
          [
           160,
           9,
           22,
           38,
           1
          ]
         ]
        }
       ],
       "layout": {
        "annotations": [
         {
          "font": {
           "color": "#FFFFFF"
          },
          "showarrow": false,
          "text": "5",
          "x": "computer vision",
          "xref": "x",
          "y": "computer vision",
          "yref": "y"
         },
         {
          "font": {
           "color": "#FFFFFF"
          },
          "showarrow": false,
          "text": "2",
          "x": "clustering",
          "xref": "x",
          "y": "computer vision",
          "yref": "y"
         },
         {
          "font": {
           "color": "#FFFFFF"
          },
          "showarrow": false,
          "text": "5",
          "x": "nlp",
          "xref": "x",
          "y": "computer vision",
          "yref": "y"
         },
         {
          "font": {
           "color": "#FFFFFF"
          },
          "showarrow": false,
          "text": "4",
          "x": "regression",
          "xref": "x",
          "y": "computer vision",
          "yref": "y"
         },
         {
          "font": {
           "color": "#FFFFFF"
          },
          "showarrow": false,
          "text": "40",
          "x": "reinforcement learning",
          "xref": "x",
          "y": "computer vision",
          "yref": "y"
         },
         {
          "font": {
           "color": "#FFFFFF"
          },
          "showarrow": false,
          "text": "15",
          "x": "computer vision",
          "xref": "x",
          "y": "clustering",
          "yref": "y"
         },
         {
          "font": {
           "color": "#FFFFFF"
          },
          "showarrow": false,
          "text": "8",
          "x": "clustering",
          "xref": "x",
          "y": "clustering",
          "yref": "y"
         },
         {
          "font": {
           "color": "#FFFFFF"
          },
          "showarrow": false,
          "text": "21",
          "x": "nlp",
          "xref": "x",
          "y": "clustering",
          "yref": "y"
         },
         {
          "font": {
           "color": "#FFFFFF"
          },
          "showarrow": false,
          "text": "169",
          "x": "regression",
          "xref": "x",
          "y": "clustering",
          "yref": "y"
         },
         {
          "font": {
           "color": "#FFFFFF"
          },
          "showarrow": false,
          "text": "1",
          "x": "reinforcement learning",
          "xref": "x",
          "y": "clustering",
          "yref": "y"
         },
         {
          "font": {
           "color": "#FFFFFF"
          },
          "showarrow": false,
          "text": "9",
          "x": "computer vision",
          "xref": "x",
          "y": "nlp",
          "yref": "y"
         },
         {
          "font": {
           "color": "#FFFFFF"
          },
          "showarrow": false,
          "text": "19",
          "x": "clustering",
          "xref": "x",
          "y": "nlp",
          "yref": "y"
         },
         {
          "font": {
           "color": "#000000"
          },
          "showarrow": false,
          "text": "338",
          "x": "nlp",
          "xref": "x",
          "y": "nlp",
          "yref": "y"
         },
         {
          "font": {
           "color": "#FFFFFF"
          },
          "showarrow": false,
          "text": "6",
          "x": "regression",
          "xref": "x",
          "y": "nlp",
          "yref": "y"
         },
         {
          "font": {
           "color": "#FFFFFF"
          },
          "showarrow": false,
          "text": "1",
          "x": "reinforcement learning",
          "xref": "x",
          "y": "nlp",
          "yref": "y"
         },
         {
          "font": {
           "color": "#FFFFFF"
          },
          "showarrow": false,
          "text": "6",
          "x": "computer vision",
          "xref": "x",
          "y": "regression",
          "yref": "y"
         },
         {
          "font": {
           "color": "#000000"
          },
          "showarrow": false,
          "text": "195",
          "x": "clustering",
          "xref": "x",
          "y": "regression",
          "yref": "y"
         },
         {
          "font": {
           "color": "#FFFFFF"
          },
          "showarrow": false,
          "text": "16",
          "x": "nlp",
          "xref": "x",
          "y": "regression",
          "yref": "y"
         },
         {
          "font": {
           "color": "#FFFFFF"
          },
          "showarrow": false,
          "text": "7",
          "x": "regression",
          "xref": "x",
          "y": "regression",
          "yref": "y"
         },
         {
          "font": {
           "color": "#FFFFFF"
          },
          "showarrow": false,
          "text": "1",
          "x": "reinforcement learning",
          "xref": "x",
          "y": "regression",
          "yref": "y"
         },
         {
          "font": {
           "color": "#FFFFFF"
          },
          "showarrow": false,
          "text": "160",
          "x": "computer vision",
          "xref": "x",
          "y": "reinforcement learning",
          "yref": "y"
         },
         {
          "font": {
           "color": "#FFFFFF"
          },
          "showarrow": false,
          "text": "9",
          "x": "clustering",
          "xref": "x",
          "y": "reinforcement learning",
          "yref": "y"
         },
         {
          "font": {
           "color": "#FFFFFF"
          },
          "showarrow": false,
          "text": "22",
          "x": "nlp",
          "xref": "x",
          "y": "reinforcement learning",
          "yref": "y"
         },
         {
          "font": {
           "color": "#FFFFFF"
          },
          "showarrow": false,
          "text": "38",
          "x": "regression",
          "xref": "x",
          "y": "reinforcement learning",
          "yref": "y"
         },
         {
          "font": {
           "color": "#FFFFFF"
          },
          "showarrow": false,
          "text": "1",
          "x": "reinforcement learning",
          "xref": "x",
          "y": "reinforcement learning",
          "yref": "y"
         },
         {
          "font": {
           "color": "black",
           "size": 14
          },
          "showarrow": false,
          "text": "Predicted value",
          "x": 0.5,
          "xref": "paper",
          "y": -0.15,
          "yref": "paper"
         },
         {
          "font": {
           "color": "black",
           "size": 14
          },
          "showarrow": false,
          "text": "Real value",
          "textangle": -90,
          "x": -0.35,
          "xref": "paper",
          "y": 0.5,
          "yref": "paper"
         }
        ],
        "margin": {
         "l": 200,
         "t": 50
        },
        "template": {
         "data": {
          "bar": [
           {
            "error_x": {
             "color": "#2a3f5f"
            },
            "error_y": {
             "color": "#2a3f5f"
            },
            "marker": {
             "line": {
              "color": "#E5ECF6",
              "width": 0.5
             },
             "pattern": {
              "fillmode": "overlay",
              "size": 10,
              "solidity": 0.2
             }
            },
            "type": "bar"
           }
          ],
          "barpolar": [
           {
            "marker": {
             "line": {
              "color": "#E5ECF6",
              "width": 0.5
             },
             "pattern": {
              "fillmode": "overlay",
              "size": 10,
              "solidity": 0.2
             }
            },
            "type": "barpolar"
           }
          ],
          "carpet": [
           {
            "aaxis": {
             "endlinecolor": "#2a3f5f",
             "gridcolor": "white",
             "linecolor": "white",
             "minorgridcolor": "white",
             "startlinecolor": "#2a3f5f"
            },
            "baxis": {
             "endlinecolor": "#2a3f5f",
             "gridcolor": "white",
             "linecolor": "white",
             "minorgridcolor": "white",
             "startlinecolor": "#2a3f5f"
            },
            "type": "carpet"
           }
          ],
          "choropleth": [
           {
            "colorbar": {
             "outlinewidth": 0,
             "ticks": ""
            },
            "type": "choropleth"
           }
          ],
          "contour": [
           {
            "colorbar": {
             "outlinewidth": 0,
             "ticks": ""
            },
            "colorscale": [
             [
              0,
              "#0d0887"
             ],
             [
              0.1111111111111111,
              "#46039f"
             ],
             [
              0.2222222222222222,
              "#7201a8"
             ],
             [
              0.3333333333333333,
              "#9c179e"
             ],
             [
              0.4444444444444444,
              "#bd3786"
             ],
             [
              0.5555555555555556,
              "#d8576b"
             ],
             [
              0.6666666666666666,
              "#ed7953"
             ],
             [
              0.7777777777777778,
              "#fb9f3a"
             ],
             [
              0.8888888888888888,
              "#fdca26"
             ],
             [
              1,
              "#f0f921"
             ]
            ],
            "type": "contour"
           }
          ],
          "contourcarpet": [
           {
            "colorbar": {
             "outlinewidth": 0,
             "ticks": ""
            },
            "type": "contourcarpet"
           }
          ],
          "heatmap": [
           {
            "colorbar": {
             "outlinewidth": 0,
             "ticks": ""
            },
            "colorscale": [
             [
              0,
              "#0d0887"
             ],
             [
              0.1111111111111111,
              "#46039f"
             ],
             [
              0.2222222222222222,
              "#7201a8"
             ],
             [
              0.3333333333333333,
              "#9c179e"
             ],
             [
              0.4444444444444444,
              "#bd3786"
             ],
             [
              0.5555555555555556,
              "#d8576b"
             ],
             [
              0.6666666666666666,
              "#ed7953"
             ],
             [
              0.7777777777777778,
              "#fb9f3a"
             ],
             [
              0.8888888888888888,
              "#fdca26"
             ],
             [
              1,
              "#f0f921"
             ]
            ],
            "type": "heatmap"
           }
          ],
          "heatmapgl": [
           {
            "colorbar": {
             "outlinewidth": 0,
             "ticks": ""
            },
            "colorscale": [
             [
              0,
              "#0d0887"
             ],
             [
              0.1111111111111111,
              "#46039f"
             ],
             [
              0.2222222222222222,
              "#7201a8"
             ],
             [
              0.3333333333333333,
              "#9c179e"
             ],
             [
              0.4444444444444444,
              "#bd3786"
             ],
             [
              0.5555555555555556,
              "#d8576b"
             ],
             [
              0.6666666666666666,
              "#ed7953"
             ],
             [
              0.7777777777777778,
              "#fb9f3a"
             ],
             [
              0.8888888888888888,
              "#fdca26"
             ],
             [
              1,
              "#f0f921"
             ]
            ],
            "type": "heatmapgl"
           }
          ],
          "histogram": [
           {
            "marker": {
             "pattern": {
              "fillmode": "overlay",
              "size": 10,
              "solidity": 0.2
             }
            },
            "type": "histogram"
           }
          ],
          "histogram2d": [
           {
            "colorbar": {
             "outlinewidth": 0,
             "ticks": ""
            },
            "colorscale": [
             [
              0,
              "#0d0887"
             ],
             [
              0.1111111111111111,
              "#46039f"
             ],
             [
              0.2222222222222222,
              "#7201a8"
             ],
             [
              0.3333333333333333,
              "#9c179e"
             ],
             [
              0.4444444444444444,
              "#bd3786"
             ],
             [
              0.5555555555555556,
              "#d8576b"
             ],
             [
              0.6666666666666666,
              "#ed7953"
             ],
             [
              0.7777777777777778,
              "#fb9f3a"
             ],
             [
              0.8888888888888888,
              "#fdca26"
             ],
             [
              1,
              "#f0f921"
             ]
            ],
            "type": "histogram2d"
           }
          ],
          "histogram2dcontour": [
           {
            "colorbar": {
             "outlinewidth": 0,
             "ticks": ""
            },
            "colorscale": [
             [
              0,
              "#0d0887"
             ],
             [
              0.1111111111111111,
              "#46039f"
             ],
             [
              0.2222222222222222,
              "#7201a8"
             ],
             [
              0.3333333333333333,
              "#9c179e"
             ],
             [
              0.4444444444444444,
              "#bd3786"
             ],
             [
              0.5555555555555556,
              "#d8576b"
             ],
             [
              0.6666666666666666,
              "#ed7953"
             ],
             [
              0.7777777777777778,
              "#fb9f3a"
             ],
             [
              0.8888888888888888,
              "#fdca26"
             ],
             [
              1,
              "#f0f921"
             ]
            ],
            "type": "histogram2dcontour"
           }
          ],
          "mesh3d": [
           {
            "colorbar": {
             "outlinewidth": 0,
             "ticks": ""
            },
            "type": "mesh3d"
           }
          ],
          "parcoords": [
           {
            "line": {
             "colorbar": {
              "outlinewidth": 0,
              "ticks": ""
             }
            },
            "type": "parcoords"
           }
          ],
          "pie": [
           {
            "automargin": true,
            "type": "pie"
           }
          ],
          "scatter": [
           {
            "fillpattern": {
             "fillmode": "overlay",
             "size": 10,
             "solidity": 0.2
            },
            "type": "scatter"
           }
          ],
          "scatter3d": [
           {
            "line": {
             "colorbar": {
              "outlinewidth": 0,
              "ticks": ""
             }
            },
            "marker": {
             "colorbar": {
              "outlinewidth": 0,
              "ticks": ""
             }
            },
            "type": "scatter3d"
           }
          ],
          "scattercarpet": [
           {
            "marker": {
             "colorbar": {
              "outlinewidth": 0,
              "ticks": ""
             }
            },
            "type": "scattercarpet"
           }
          ],
          "scattergeo": [
           {
            "marker": {
             "colorbar": {
              "outlinewidth": 0,
              "ticks": ""
             }
            },
            "type": "scattergeo"
           }
          ],
          "scattergl": [
           {
            "marker": {
             "colorbar": {
              "outlinewidth": 0,
              "ticks": ""
             }
            },
            "type": "scattergl"
           }
          ],
          "scattermapbox": [
           {
            "marker": {
             "colorbar": {
              "outlinewidth": 0,
              "ticks": ""
             }
            },
            "type": "scattermapbox"
           }
          ],
          "scatterpolar": [
           {
            "marker": {
             "colorbar": {
              "outlinewidth": 0,
              "ticks": ""
             }
            },
            "type": "scatterpolar"
           }
          ],
          "scatterpolargl": [
           {
            "marker": {
             "colorbar": {
              "outlinewidth": 0,
              "ticks": ""
             }
            },
            "type": "scatterpolargl"
           }
          ],
          "scatterternary": [
           {
            "marker": {
             "colorbar": {
              "outlinewidth": 0,
              "ticks": ""
             }
            },
            "type": "scatterternary"
           }
          ],
          "surface": [
           {
            "colorbar": {
             "outlinewidth": 0,
             "ticks": ""
            },
            "colorscale": [
             [
              0,
              "#0d0887"
             ],
             [
              0.1111111111111111,
              "#46039f"
             ],
             [
              0.2222222222222222,
              "#7201a8"
             ],
             [
              0.3333333333333333,
              "#9c179e"
             ],
             [
              0.4444444444444444,
              "#bd3786"
             ],
             [
              0.5555555555555556,
              "#d8576b"
             ],
             [
              0.6666666666666666,
              "#ed7953"
             ],
             [
              0.7777777777777778,
              "#fb9f3a"
             ],
             [
              0.8888888888888888,
              "#fdca26"
             ],
             [
              1,
              "#f0f921"
             ]
            ],
            "type": "surface"
           }
          ],
          "table": [
           {
            "cells": {
             "fill": {
              "color": "#EBF0F8"
             },
             "line": {
              "color": "white"
             }
            },
            "header": {
             "fill": {
              "color": "#C8D4E3"
             },
             "line": {
              "color": "white"
             }
            },
            "type": "table"
           }
          ]
         },
         "layout": {
          "annotationdefaults": {
           "arrowcolor": "#2a3f5f",
           "arrowhead": 0,
           "arrowwidth": 1
          },
          "autotypenumbers": "strict",
          "coloraxis": {
           "colorbar": {
            "outlinewidth": 0,
            "ticks": ""
           }
          },
          "colorscale": {
           "diverging": [
            [
             0,
             "#8e0152"
            ],
            [
             0.1,
             "#c51b7d"
            ],
            [
             0.2,
             "#de77ae"
            ],
            [
             0.3,
             "#f1b6da"
            ],
            [
             0.4,
             "#fde0ef"
            ],
            [
             0.5,
             "#f7f7f7"
            ],
            [
             0.6,
             "#e6f5d0"
            ],
            [
             0.7,
             "#b8e186"
            ],
            [
             0.8,
             "#7fbc41"
            ],
            [
             0.9,
             "#4d9221"
            ],
            [
             1,
             "#276419"
            ]
           ],
           "sequential": [
            [
             0,
             "#0d0887"
            ],
            [
             0.1111111111111111,
             "#46039f"
            ],
            [
             0.2222222222222222,
             "#7201a8"
            ],
            [
             0.3333333333333333,
             "#9c179e"
            ],
            [
             0.4444444444444444,
             "#bd3786"
            ],
            [
             0.5555555555555556,
             "#d8576b"
            ],
            [
             0.6666666666666666,
             "#ed7953"
            ],
            [
             0.7777777777777778,
             "#fb9f3a"
            ],
            [
             0.8888888888888888,
             "#fdca26"
            ],
            [
             1,
             "#f0f921"
            ]
           ],
           "sequentialminus": [
            [
             0,
             "#0d0887"
            ],
            [
             0.1111111111111111,
             "#46039f"
            ],
            [
             0.2222222222222222,
             "#7201a8"
            ],
            [
             0.3333333333333333,
             "#9c179e"
            ],
            [
             0.4444444444444444,
             "#bd3786"
            ],
            [
             0.5555555555555556,
             "#d8576b"
            ],
            [
             0.6666666666666666,
             "#ed7953"
            ],
            [
             0.7777777777777778,
             "#fb9f3a"
            ],
            [
             0.8888888888888888,
             "#fdca26"
            ],
            [
             1,
             "#f0f921"
            ]
           ]
          },
          "colorway": [
           "#636efa",
           "#EF553B",
           "#00cc96",
           "#ab63fa",
           "#FFA15A",
           "#19d3f3",
           "#FF6692",
           "#B6E880",
           "#FF97FF",
           "#FECB52"
          ],
          "font": {
           "color": "#2a3f5f"
          },
          "geo": {
           "bgcolor": "white",
           "lakecolor": "white",
           "landcolor": "#E5ECF6",
           "showlakes": true,
           "showland": true,
           "subunitcolor": "white"
          },
          "hoverlabel": {
           "align": "left"
          },
          "hovermode": "closest",
          "mapbox": {
           "style": "light"
          },
          "paper_bgcolor": "white",
          "plot_bgcolor": "#E5ECF6",
          "polar": {
           "angularaxis": {
            "gridcolor": "white",
            "linecolor": "white",
            "ticks": ""
           },
           "bgcolor": "#E5ECF6",
           "radialaxis": {
            "gridcolor": "white",
            "linecolor": "white",
            "ticks": ""
           }
          },
          "scene": {
           "xaxis": {
            "backgroundcolor": "#E5ECF6",
            "gridcolor": "white",
            "gridwidth": 2,
            "linecolor": "white",
            "showbackground": true,
            "ticks": "",
            "zerolinecolor": "white"
           },
           "yaxis": {
            "backgroundcolor": "#E5ECF6",
            "gridcolor": "white",
            "gridwidth": 2,
            "linecolor": "white",
            "showbackground": true,
            "ticks": "",
            "zerolinecolor": "white"
           },
           "zaxis": {
            "backgroundcolor": "#E5ECF6",
            "gridcolor": "white",
            "gridwidth": 2,
            "linecolor": "white",
            "showbackground": true,
            "ticks": "",
            "zerolinecolor": "white"
           }
          },
          "shapedefaults": {
           "line": {
            "color": "#2a3f5f"
           }
          },
          "ternary": {
           "aaxis": {
            "gridcolor": "white",
            "linecolor": "white",
            "ticks": ""
           },
           "baxis": {
            "gridcolor": "white",
            "linecolor": "white",
            "ticks": ""
           },
           "bgcolor": "#E5ECF6",
           "caxis": {
            "gridcolor": "white",
            "linecolor": "white",
            "ticks": ""
           }
          },
          "title": {
           "x": 0.05
          },
          "xaxis": {
           "automargin": true,
           "gridcolor": "white",
           "linecolor": "white",
           "ticks": "",
           "title": {
            "standoff": 15
           },
           "zerolinecolor": "white",
           "zerolinewidth": 2
          },
          "yaxis": {
           "automargin": true,
           "gridcolor": "white",
           "linecolor": "white",
           "ticks": "",
           "title": {
            "standoff": 15
           },
           "zerolinecolor": "white",
           "zerolinewidth": 2
          }
         }
        },
        "title": {
         "text": "<b>Confusion matrix</b>"
        },
        "xaxis": {
         "dtick": 1,
         "gridcolor": "rgb(0, 0, 0)",
         "side": "top",
         "ticks": ""
        },
        "yaxis": {
         "dtick": 1,
         "ticks": "",
         "ticksuffix": "  "
        }
       }
      }
     },
     "metadata": {},
     "output_type": "display_data"
    }
   ],
   "source": [
    "# invert conf_m ida values\n",
    "conf_m = conf_m[::-1]\n",
    "\n",
    "a = list(y.unique())\n",
    "b = list(y.unique()) # invert idx values of a\n",
    "\n",
    "# change each element of conf_m to tbpe string for annotations\n",
    "conf_m_text = [[str(b) for b in a] for a in conf_m]\n",
    "\n",
    "# set up figure \n",
    "fig = ff.create_annotated_heatmap(conf_m, x=a, y=b, annotation_text=conf_m_text, colorscale='Viridis')\n",
    "\n",
    "# add title\n",
    "fig.update_layout(title_text='<b>Confusion matrix</b>',\n",
    "                  #aaais = dict(title='a'),\n",
    "                  #baais = dict(title='a')\n",
    "                 )\n",
    "\n",
    "# add custom aaais title\n",
    "fig.add_annotation(dict(font=dict(color=\"black\",size=14),\n",
    "                        x=0.5,\n",
    "                        y=-0.15,\n",
    "                        showarrow=False,\n",
    "                        text=\"Predicted value\",\n",
    "                        xref=\"paper\",\n",
    "                        yref=\"paper\"))\n",
    "\n",
    "# add custom baais title\n",
    "fig.add_annotation(dict(font=dict(color=\"black\",size=14),\n",
    "                        x=-0.35,\n",
    "                        y=0.5,\n",
    "                        showarrow=False,\n",
    "                        text=\"Real value\",\n",
    "                        textangle=-90,\n",
    "                        xref=\"paper\",\n",
    "                        yref=\"paper\"))\n",
    "\n",
    "# adjust margins to make room for baais title\n",
    "fig.update_layout(margin=dict(t=50, l=200))\n",
    "\n",
    "# add colorbar\n",
    "fig['data'][0]['showscale'] = True\n",
    "fig.show()"
   ]
  },
  {
   "cell_type": "markdown",
   "metadata": {},
   "source": [
    "Let's try balancing our dataset "
   ]
  },
  {
   "cell_type": "code",
   "execution_count": 45,
   "metadata": {},
   "outputs": [],
   "source": [
    "logr_bal = LogisticRegression(max_iter=10000, class_weight='balanced')\n",
    "scores = cross_val_score(logr_bal, x, y, cv=5)"
   ]
  },
  {
   "cell_type": "code",
   "execution_count": 46,
   "metadata": {},
   "outputs": [
    {
     "data": {
      "text/html": [
       "<style>#sk-container-id-3 {color: black;background-color: white;}#sk-container-id-3 pre{padding: 0;}#sk-container-id-3 div.sk-toggleable {background-color: white;}#sk-container-id-3 label.sk-toggleable__label {cursor: pointer;display: block;width: 100%;margin-bottom: 0;padding: 0.3em;box-sizing: border-box;text-align: center;}#sk-container-id-3 label.sk-toggleable__label-arrow:before {content: \"▸\";float: left;margin-right: 0.25em;color: #696969;}#sk-container-id-3 label.sk-toggleable__label-arrow:hover:before {color: black;}#sk-container-id-3 div.sk-estimator:hover label.sk-toggleable__label-arrow:before {color: black;}#sk-container-id-3 div.sk-toggleable__content {max-height: 0;max-width: 0;overflow: hidden;text-align: left;background-color: #f0f8ff;}#sk-container-id-3 div.sk-toggleable__content pre {margin: 0.2em;color: black;border-radius: 0.25em;background-color: #f0f8ff;}#sk-container-id-3 input.sk-toggleable__control:checked~div.sk-toggleable__content {max-height: 200px;max-width: 100%;overflow: auto;}#sk-container-id-3 input.sk-toggleable__control:checked~label.sk-toggleable__label-arrow:before {content: \"▾\";}#sk-container-id-3 div.sk-estimator input.sk-toggleable__control:checked~label.sk-toggleable__label {background-color: #d4ebff;}#sk-container-id-3 div.sk-label input.sk-toggleable__control:checked~label.sk-toggleable__label {background-color: #d4ebff;}#sk-container-id-3 input.sk-hidden--visually {border: 0;clip: rect(1px 1px 1px 1px);clip: rect(1px, 1px, 1px, 1px);height: 1px;margin: -1px;overflow: hidden;padding: 0;position: absolute;width: 1px;}#sk-container-id-3 div.sk-estimator {font-family: monospace;background-color: #f0f8ff;border: 1px dotted black;border-radius: 0.25em;box-sizing: border-box;margin-bottom: 0.5em;}#sk-container-id-3 div.sk-estimator:hover {background-color: #d4ebff;}#sk-container-id-3 div.sk-parallel-item::after {content: \"\";width: 100%;border-bottom: 1px solid gray;flex-grow: 1;}#sk-container-id-3 div.sk-label:hover label.sk-toggleable__label {background-color: #d4ebff;}#sk-container-id-3 div.sk-serial::before {content: \"\";position: absolute;border-left: 1px solid gray;box-sizing: border-box;top: 0;bottom: 0;left: 50%;z-index: 0;}#sk-container-id-3 div.sk-serial {display: flex;flex-direction: column;align-items: center;background-color: white;padding-right: 0.2em;padding-left: 0.2em;position: relative;}#sk-container-id-3 div.sk-item {position: relative;z-index: 1;}#sk-container-id-3 div.sk-parallel {display: flex;align-items: stretch;justify-content: center;background-color: white;position: relative;}#sk-container-id-3 div.sk-item::before, #sk-container-id-3 div.sk-parallel-item::before {content: \"\";position: absolute;border-left: 1px solid gray;box-sizing: border-box;top: 0;bottom: 0;left: 50%;z-index: -1;}#sk-container-id-3 div.sk-parallel-item {display: flex;flex-direction: column;z-index: 1;position: relative;background-color: white;}#sk-container-id-3 div.sk-parallel-item:first-child::after {align-self: flex-end;width: 50%;}#sk-container-id-3 div.sk-parallel-item:last-child::after {align-self: flex-start;width: 50%;}#sk-container-id-3 div.sk-parallel-item:only-child::after {width: 0;}#sk-container-id-3 div.sk-dashed-wrapped {border: 1px dashed gray;margin: 0 0.4em 0.5em 0.4em;box-sizing: border-box;padding-bottom: 0.4em;background-color: white;}#sk-container-id-3 div.sk-label label {font-family: monospace;font-weight: bold;display: inline-block;line-height: 1.2em;}#sk-container-id-3 div.sk-label-container {text-align: center;}#sk-container-id-3 div.sk-container {/* jupyter's `normalize.less` sets `[hidden] { display: none; }` but bootstrap.min.css set `[hidden] { display: none !important; }` so we also need the `!important` here to be able to override the default hidden behavior on the sphinx rendered scikit-learn.org. See: https://github.com/scikit-learn/scikit-learn/issues/21755 */display: inline-block !important;position: relative;}#sk-container-id-3 div.sk-text-repr-fallback {display: none;}</style><div id=\"sk-container-id-3\" class=\"sk-top-container\"><div class=\"sk-text-repr-fallback\"><pre>LogisticRegression(class_weight=&#x27;balanced&#x27;, max_iter=10000)</pre><b>In a Jupyter environment, please rerun this cell to show the HTML representation or trust the notebook. <br />On GitHub, the HTML representation is unable to render, please try loading this page with nbviewer.org.</b></div><div class=\"sk-container\" hidden><div class=\"sk-item\"><div class=\"sk-estimator sk-toggleable\"><input class=\"sk-toggleable__control sk-hidden--visually\" id=\"sk-estimator-id-3\" type=\"checkbox\" checked><label for=\"sk-estimator-id-3\" class=\"sk-toggleable__label sk-toggleable__label-arrow\">LogisticRegression</label><div class=\"sk-toggleable__content\"><pre>LogisticRegression(class_weight=&#x27;balanced&#x27;, max_iter=10000)</pre></div></div></div></div></div>"
      ],
      "text/plain": [
       "LogisticRegression(class_weight='balanced', max_iter=10000)"
      ]
     },
     "execution_count": 46,
     "metadata": {},
     "output_type": "execute_result"
    }
   ],
   "source": [
    "logr_bal.fit(xtrain, ytrain)"
   ]
  },
  {
   "cell_type": "code",
   "execution_count": 40,
   "metadata": {},
   "outputs": [],
   "source": [
    "import pickle"
   ]
  },
  {
   "cell_type": "code",
   "execution_count": 55,
   "metadata": {},
   "outputs": [],
   "source": [
    "filename = 'logr_crossVal.sav'\n",
    "pickle.dump(logr_bal, open(filename, 'wb'))"
   ]
  },
  {
   "cell_type": "code",
   "execution_count": 47,
   "metadata": {},
   "outputs": [],
   "source": [
    "yhat_bal = logr_bal.predict(xtest)"
   ]
  },
  {
   "cell_type": "code",
   "execution_count": 16,
   "metadata": {},
   "outputs": [
    {
     "data": {
      "text/plain": [
       "array(['regression', 'nlp', 'nlp', ..., 'computer vision',\n",
       "       'computer vision', 'nlp'], dtype=object)"
      ]
     },
     "execution_count": 16,
     "metadata": {},
     "output_type": "execute_result"
    }
   ],
   "source": [
    "yhat_bal"
   ]
  },
  {
   "cell_type": "code",
   "execution_count": 48,
   "metadata": {},
   "outputs": [
    {
     "name": "stdout",
     "output_type": "stream",
     "text": [
      "Accuracy score: 0.8242258652094717\n",
      "F1 score: 0.8247460658031367\n",
      "0.81 accuracy with a standard deviation of 0.02\n"
     ]
    }
   ],
   "source": [
    "print('Accuracy score:',accuracy_score(ytest, yhat_bal))\n",
    "print('F1 score:',f1_score(ytest, yhat_bal, average='weighted'))\n",
    "print(\"%0.2f accuracy with a standard deviation of %0.2f\" % (scores.mean(), scores.std()))"
   ]
  }
 ],
 "metadata": {
  "kernelspec": {
   "display_name": "Python 3.10.5 64-bit",
   "language": "python",
   "name": "python3"
  },
  "language_info": {
   "codemirror_mode": {
    "name": "ipython",
    "version": 3
   },
   "file_extension": ".py",
   "mimetype": "text/x-python",
   "name": "python",
   "nbconvert_exporter": "python",
   "pygments_lexer": "ipython3",
   "version": "3.10.5"
  },
  "orig_nbformat": 4,
  "vscode": {
   "interpreter": {
    "hash": "49ab456e11cde720218fba409a85456f40f210cf294d5c8f56d5f4fb69af5c6b"
   }
  }
 },
 "nbformat": 4,
 "nbformat_minor": 2
}
