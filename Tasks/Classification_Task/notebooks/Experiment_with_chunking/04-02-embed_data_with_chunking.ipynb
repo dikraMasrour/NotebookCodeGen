{
 "cells": [
  {
   "cell_type": "code",
   "execution_count": 11,
   "metadata": {},
   "outputs": [],
   "source": [
    "from transformers import AutoTokenizer, AutoModel, pipeline\n",
    "import torch\n",
    "import numpy as np\n",
    "import pandas as pd\n",
    "import pickle"
   ]
  },
  {
   "cell_type": "code",
   "execution_count": 2,
   "metadata": {},
   "outputs": [],
   "source": [
    "tokenizer = AutoTokenizer.from_pretrained(\"microsoft/codebert-base\")\n",
    "model = AutoModel.from_pretrained(\"microsoft/codebert-base\")"
   ]
  },
  {
   "cell_type": "code",
   "execution_count": 10,
   "metadata": {},
   "outputs": [],
   "source": [
    "DATA_PATH_IN = '../data/'\n",
    "DATA_PATH_OUT = '../data/Experiment_no_Class/'"
   ]
  },
  {
   "cell_type": "code",
   "execution_count": 12,
   "metadata": {},
   "outputs": [],
   "source": [
    "with open(DATA_PATH_IN + 'text_dataset.pkl', 'rb') as f:\n",
    "    text_data = pickle.load(f)"
   ]
  },
  {
   "cell_type": "markdown",
   "metadata": {},
   "source": [
    "*Credits: https://towardsdatascience.com/how-to-do-average-and-max-word-embedding-for-long-sentences-f3531e99d998*"
   ]
  },
  {
   "cell_type": "code",
   "execution_count": 13,
   "metadata": {},
   "outputs": [],
   "source": [
    "def chunking(max_len, sent):\n",
    "    \"\"\"because the embedding function is trained on dim 512, so we have to limit the size of the sentences using max_len so the final chunked sentences wont exceed length 510\n",
    "    Args:\n",
    "        max_len (int): maximum number of tokens for each chunk\n",
    "        sent (str): input sentence\n",
    "    Returns:\n",
    "        sent_chunks (List(str)): list of chunked sentences\n",
    "    \"\"\"\n",
    "\n",
    "    bert_tokenized_text = tokenizer.tokenize(sent)\n",
    "\n",
    "\n",
    "    if len(bert_tokenized_text) > max_len:\n",
    "        # using list comprehension to divide the sequence\n",
    "        final = [\n",
    "            bert_tokenized_text[i * max_len : (i + 1) * max_len]\n",
    "            for i in range((len(bert_tokenized_text) + max_len - 1) // max_len)\n",
    "        ]\n",
    "\n",
    "        # join back to sentences for each of the chunks\n",
    "        sent_chunks = []\n",
    "        for item in final:\n",
    "            try:\n",
    "                # make sure the len(items) > 1 or else some of the embeddings will appear as len 1 instead of 768.\n",
    "                assert len(item) > 1\n",
    "            except Exception as e:\n",
    "                print(item, e)\n",
    "            sent_chunks.append(\" \".join(item))\n",
    "        return sent_chunks\n",
    "\n",
    "    else : return sent"
   ]
  },
  {
   "cell_type": "code",
   "execution_count": 9,
   "metadata": {},
   "outputs": [
    {
     "data": {
      "text/plain": [
       "14"
      ]
     },
     "execution_count": 9,
     "metadata": {},
     "output_type": "execute_result"
    }
   ],
   "source": [
    "len(chunking(5, \"\"\"def embed_single_row_chunking(chunk): tokens_ids = tokenizer.convert_tokens_to_ids(tokens)\n",
    "    row_embeddings = model(torch.tensor(tokens_ids)[None,:])[0]\"\"\"))"
   ]
  },
  {
   "cell_type": "code",
   "execution_count": 14,
   "metadata": {},
   "outputs": [],
   "source": [
    "def embed_single_row_chunking(chunk):\n",
    "\n",
    "    '''\n",
    "    gets a tokenized text chunk (code or md) and returns embeddings tensor\n",
    "    \n",
    "    '''\n",
    "\n",
    "    tokens = [tokenizer.cls_token] + chunk + [tokenizer.sep_token]\n",
    "\n",
    "    tokens_ids = tokenizer.convert_tokens_to_ids(tokens)\n",
    "    row_embeddings = model(torch.tensor(tokens_ids)[None,:])[0]\n",
    "\n",
    "    if row_embeddings is not None:\n",
    "        return row_embeddings\n"
   ]
  },
  {
   "cell_type": "code",
   "execution_count": 15,
   "metadata": {},
   "outputs": [],
   "source": [
    "def average_embeddings_on_chunks(embedding_tensor):\n",
    "\n",
    "    '''\n",
    "    gets the returned embeddings tensor of a sequence and averages it \n",
    "    to return one 768 dim vector for each row in the dataframe\n",
    "\n",
    "    '''\n",
    "\n",
    "    avg_rep = np.empty(1)\n",
    "    if embedding_tensor is not None:\n",
    "        if type(embedding_tensor) == torch.Tensor:\n",
    "            # convert tensor into np array\n",
    "            tensor_np = embedding_tensor.cpu().detach().numpy()\n",
    "            # average of embeddings of the tokens in the sequence\n",
    "            avg_rep = np.mean(tensor_np[0], axis=0)\n",
    "        else: \n",
    "            tensor_np = embedding_tensor\n",
    "            # average of embeddings of the tokens in the sequence\n",
    "            avg_rep = np.mean(tensor_np, axis=0)\n",
    "        # return average representation of a sequence of tokens\n",
    "        return avg_rep"
   ]
  },
  {
   "cell_type": "code",
   "execution_count": null,
   "metadata": {},
   "outputs": [],
   "source": [
    "row_avg_embedding = []\n",
    "for row in text_data.index[94454:188908]:\n",
    "    embedding = embed_single_row_chunking(text_data.loc[row, 'source'], row)\n",
    "    row_avg_embedding.append((average_embeddings_on_chunks(embedding),  text_data.loc[row, 'title'], text_data.loc[row, 'tag']))\n",
    "    print(row)\n",
    "# build intermediary dataframe of averaged row vectors, titles and tags \n",
    "interm_df02 = pd.DataFrame(row_avg_embedding, columns = ['row_vector', 'title', 'tag'])"
   ]
  }
 ],
 "metadata": {
  "kernelspec": {
   "display_name": "Python 3.10.5 64-bit",
   "language": "python",
   "name": "python3"
  },
  "language_info": {
   "codemirror_mode": {
    "name": "ipython",
    "version": 3
   },
   "file_extension": ".py",
   "mimetype": "text/x-python",
   "name": "python",
   "nbconvert_exporter": "python",
   "pygments_lexer": "ipython3",
   "version": "3.10.5"
  },
  "orig_nbformat": 4,
  "vscode": {
   "interpreter": {
    "hash": "49ab456e11cde720218fba409a85456f40f210cf294d5c8f56d5f4fb69af5c6b"
   }
  }
 },
 "nbformat": 4,
 "nbformat_minor": 2
}
