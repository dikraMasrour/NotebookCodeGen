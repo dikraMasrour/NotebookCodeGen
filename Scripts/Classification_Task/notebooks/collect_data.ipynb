{
 "cells": [
  {
   "cell_type": "markdown",
   "metadata": {},
   "source": [
    "## Kaggle Python public API for data collection : Notebook Classification TASK"
   ]
  },
  {
   "cell_type": "code",
   "execution_count": 1,
   "metadata": {},
   "outputs": [],
   "source": [
    "DATA_PATH_KEYWORDS = '../data/search_keywords.csv'\n",
    "DATA_PATH_NOTEBOOKS = '../data/'"
   ]
  },
  {
   "cell_type": "markdown",
   "metadata": {},
   "source": [
    "Importing librairies"
   ]
  },
  {
   "cell_type": "code",
   "execution_count": 2,
   "metadata": {},
   "outputs": [],
   "source": [
    "import kaggle\n",
    "from kaggle.api.kaggle_api_extended import KaggleApi\n",
    "import pandas as pd\n",
    "import numpy as np"
   ]
  },
  {
   "cell_type": "code",
   "execution_count": 3,
   "metadata": {},
   "outputs": [],
   "source": [
    "api = KaggleApi()\n",
    "api.authenticate()"
   ]
  },
  {
   "cell_type": "markdown",
   "metadata": {},
   "source": [
    "Read the file containing the search keywords used to retrieve notebooks "
   ]
  },
  {
   "cell_type": "code",
   "execution_count": 13,
   "metadata": {},
   "outputs": [
    {
     "data": {
      "text/html": [
       "<div>\n",
       "<style scoped>\n",
       "    .dataframe tbody tr th:only-of-type {\n",
       "        vertical-align: middle;\n",
       "    }\n",
       "\n",
       "    .dataframe tbody tr th {\n",
       "        vertical-align: top;\n",
       "    }\n",
       "\n",
       "    .dataframe thead th {\n",
       "        text-align: right;\n",
       "    }\n",
       "</style>\n",
       "<table border=\"1\" class=\"dataframe\">\n",
       "  <thead>\n",
       "    <tr style=\"text-align: right;\">\n",
       "      <th></th>\n",
       "      <th>subcategory</th>\n",
       "      <th>category</th>\n",
       "    </tr>\n",
       "  </thead>\n",
       "  <tbody>\n",
       "    <tr>\n",
       "      <th>0</th>\n",
       "      <td>linear regression</td>\n",
       "      <td>regression</td>\n",
       "    </tr>\n",
       "    <tr>\n",
       "      <th>1</th>\n",
       "      <td>lasso regression</td>\n",
       "      <td>regression</td>\n",
       "    </tr>\n",
       "    <tr>\n",
       "      <th>2</th>\n",
       "      <td>randomforestregression</td>\n",
       "      <td>regression</td>\n",
       "    </tr>\n",
       "    <tr>\n",
       "      <th>3</th>\n",
       "      <td>ridge regression</td>\n",
       "      <td>regression</td>\n",
       "    </tr>\n",
       "    <tr>\n",
       "      <th>4</th>\n",
       "      <td>XGBRegressor</td>\n",
       "      <td>regression</td>\n",
       "    </tr>\n",
       "    <tr>\n",
       "      <th>...</th>\n",
       "      <td>...</td>\n",
       "      <td>...</td>\n",
       "    </tr>\n",
       "    <tr>\n",
       "      <th>89</th>\n",
       "      <td>sarsa</td>\n",
       "      <td>reinforcement learning</td>\n",
       "    </tr>\n",
       "    <tr>\n",
       "      <th>90</th>\n",
       "      <td>ddpg</td>\n",
       "      <td>reinforcement learning</td>\n",
       "    </tr>\n",
       "    <tr>\n",
       "      <th>91</th>\n",
       "      <td>qlearning</td>\n",
       "      <td>reinforcement learning</td>\n",
       "    </tr>\n",
       "    <tr>\n",
       "      <th>92</th>\n",
       "      <td>markov decision</td>\n",
       "      <td>reinforcement learning</td>\n",
       "    </tr>\n",
       "    <tr>\n",
       "      <th>93</th>\n",
       "      <td>reinforcement</td>\n",
       "      <td>reinforcement learning</td>\n",
       "    </tr>\n",
       "  </tbody>\n",
       "</table>\n",
       "<p>94 rows × 2 columns</p>\n",
       "</div>"
      ],
      "text/plain": [
       "               subcategory                category\n",
       "0        linear regression              regression\n",
       "1         lasso regression              regression\n",
       "2   randomforestregression              regression\n",
       "3         ridge regression              regression\n",
       "4             XGBRegressor              regression\n",
       "..                     ...                     ...\n",
       "89                   sarsa  reinforcement learning\n",
       "90                    ddpg  reinforcement learning\n",
       "91               qlearning  reinforcement learning\n",
       "92         markov decision  reinforcement learning\n",
       "93           reinforcement  reinforcement learning\n",
       "\n",
       "[94 rows x 2 columns]"
      ]
     },
     "execution_count": 13,
     "metadata": {},
     "output_type": "execute_result"
    }
   ],
   "source": [
    "keywords_df = pd.DataFrame(columns=['Category', 'Subcategory'])\n",
    "keywords_df = pd.read_csv(DATA_PATH_KEYWORDS, sep=';') \n",
    "keywords_df"
   ]
  },
  {
   "cell_type": "markdown",
   "metadata": {},
   "source": [
    "The following function returns the category of a Notebook based on its subcategory"
   ]
  },
  {
   "cell_type": "code",
   "execution_count": 4,
   "metadata": {},
   "outputs": [],
   "source": [
    "def search(sub,data):\n",
    "    for i in data.index:\n",
    "        if data.loc[i]['subcategory'] == sub:\n",
    "            return data.loc[i]['category']"
   ]
  },
  {
   "cell_type": "markdown",
   "metadata": {},
   "source": [
    "# List of notebooks"
   ]
  },
  {
   "cell_type": "code",
   "execution_count": 5,
   "metadata": {},
   "outputs": [],
   "source": [
    "df = pd.DataFrame(columns=['title','subcategory','category'])"
   ]
  },
  {
   "cell_type": "markdown",
   "metadata": {},
   "source": [
    "Building a notebook titles dataframe with category and subcategory"
   ]
  },
  {
   "cell_type": "code",
   "execution_count": null,
   "metadata": {},
   "outputs": [],
   "source": [
    "for keyword in keywords_df['subcategory']:\n",
    "    for i in range(1,11):\n",
    "        try :\n",
    "                kernels = api.kernels_list(search = keyword, page=i)\n",
    "                for kernel in kernels:\n",
    "                    df.loc[len(df)]=[kernel,keyword,search(keyword,keywords_df)]\n",
    "        except Exception as e:\n",
    "            print('Kaggle API exception :', kernel, 'Notebook not found')"
   ]
  },
  {
   "cell_type": "code",
   "execution_count": 13,
   "metadata": {},
   "outputs": [
    {
     "data": {
      "text/html": [
       "<div>\n",
       "<style scoped>\n",
       "    .dataframe tbody tr th:only-of-type {\n",
       "        vertical-align: middle;\n",
       "    }\n",
       "\n",
       "    .dataframe tbody tr th {\n",
       "        vertical-align: top;\n",
       "    }\n",
       "\n",
       "    .dataframe thead th {\n",
       "        text-align: right;\n",
       "    }\n",
       "</style>\n",
       "<table border=\"1\" class=\"dataframe\">\n",
       "  <thead>\n",
       "    <tr style=\"text-align: right;\">\n",
       "      <th></th>\n",
       "      <th>title</th>\n",
       "      <th>subcategory</th>\n",
       "      <th>category</th>\n",
       "    </tr>\n",
       "  </thead>\n",
       "  <tbody>\n",
       "    <tr>\n",
       "      <th>0</th>\n",
       "      <td>Linear Regression Tutorial</td>\n",
       "      <td>linear regression</td>\n",
       "      <td>regression</td>\n",
       "    </tr>\n",
       "    <tr>\n",
       "      <th>1</th>\n",
       "      <td>Car Price Prediction (Linear Regression - RFE)</td>\n",
       "      <td>linear regression</td>\n",
       "      <td>regression</td>\n",
       "    </tr>\n",
       "    <tr>\n",
       "      <th>2</th>\n",
       "      <td>Multiple Linear Regression</td>\n",
       "      <td>linear regression</td>\n",
       "      <td>regression</td>\n",
       "    </tr>\n",
       "    <tr>\n",
       "      <th>3</th>\n",
       "      <td>Simple Linear Regression for Salary Data</td>\n",
       "      <td>linear regression</td>\n",
       "      <td>regression</td>\n",
       "    </tr>\n",
       "    <tr>\n",
       "      <th>4</th>\n",
       "      <td>Price analysis and Linear Regression</td>\n",
       "      <td>linear regression</td>\n",
       "      <td>regression</td>\n",
       "    </tr>\n",
       "    <tr>\n",
       "      <th>5</th>\n",
       "      <td>Linear Regression Project</td>\n",
       "      <td>linear regression</td>\n",
       "      <td>regression</td>\n",
       "    </tr>\n",
       "    <tr>\n",
       "      <th>6</th>\n",
       "      <td>PyTorch basics - Linear Regression from scratch</td>\n",
       "      <td>linear regression</td>\n",
       "      <td>regression</td>\n",
       "    </tr>\n",
       "    <tr>\n",
       "      <th>7</th>\n",
       "      <td>FIFA in depth analysis with Linear Regression</td>\n",
       "      <td>linear regression</td>\n",
       "      <td>regression</td>\n",
       "    </tr>\n",
       "    <tr>\n",
       "      <th>8</th>\n",
       "      <td>Sales Prediction (Simple Linear Regression)</td>\n",
       "      <td>linear regression</td>\n",
       "      <td>regression</td>\n",
       "    </tr>\n",
       "    <tr>\n",
       "      <th>9</th>\n",
       "      <td>Linear Regression</td>\n",
       "      <td>linear regression</td>\n",
       "      <td>regression</td>\n",
       "    </tr>\n",
       "  </tbody>\n",
       "</table>\n",
       "</div>"
      ],
      "text/plain": [
       "                                             title        subcategory  \\\n",
       "0                       Linear Regression Tutorial  linear regression   \n",
       "1   Car Price Prediction (Linear Regression - RFE)  linear regression   \n",
       "2                       Multiple Linear Regression  linear regression   \n",
       "3         Simple Linear Regression for Salary Data  linear regression   \n",
       "4             Price analysis and Linear Regression  linear regression   \n",
       "5                        Linear Regression Project  linear regression   \n",
       "6  PyTorch basics - Linear Regression from scratch  linear regression   \n",
       "7    FIFA in depth analysis with Linear Regression  linear regression   \n",
       "8      Sales Prediction (Simple Linear Regression)  linear regression   \n",
       "9                                Linear Regression  linear regression   \n",
       "\n",
       "     category  \n",
       "0  regression  \n",
       "1  regression  \n",
       "2  regression  \n",
       "3  regression  \n",
       "4  regression  \n",
       "5  regression  \n",
       "6  regression  \n",
       "7  regression  \n",
       "8  regression  \n",
       "9  regression  "
      ]
     },
     "execution_count": 13,
     "metadata": {},
     "output_type": "execute_result"
    }
   ],
   "source": [
    "df.head(10)"
   ]
  },
  {
   "cell_type": "markdown",
   "metadata": {},
   "source": [
    "Saving the dataframe to a .csv"
   ]
  },
  {
   "cell_type": "code",
   "execution_count": null,
   "metadata": {},
   "outputs": [],
   "source": [
    "df.to_csv(DATA_PATH_NOTEBOOKS+'ntb_list.csv')"
   ]
  },
  {
   "cell_type": "code",
   "execution_count": null,
   "metadata": {},
   "outputs": [
    {
     "data": {
      "text/html": [
       "<div>\n",
       "<style scoped>\n",
       "    .dataframe tbody tr th:only-of-type {\n",
       "        vertical-align: middle;\n",
       "    }\n",
       "\n",
       "    .dataframe tbody tr th {\n",
       "        vertical-align: top;\n",
       "    }\n",
       "\n",
       "    .dataframe thead th {\n",
       "        text-align: right;\n",
       "    }\n",
       "</style>\n",
       "<table border=\"1\" class=\"dataframe\">\n",
       "  <thead>\n",
       "    <tr style=\"text-align: right;\">\n",
       "      <th></th>\n",
       "      <th>category</th>\n",
       "      <th>means</th>\n",
       "    </tr>\n",
       "  </thead>\n",
       "  <tbody>\n",
       "    <tr>\n",
       "      <th>0</th>\n",
       "      <td>nlp</td>\n",
       "      <td>31.588785</td>\n",
       "    </tr>\n",
       "    <tr>\n",
       "      <th>1</th>\n",
       "      <td>computer vision</td>\n",
       "      <td>22.565845</td>\n",
       "    </tr>\n",
       "    <tr>\n",
       "      <th>2</th>\n",
       "      <td>clustering</td>\n",
       "      <td>17.672048</td>\n",
       "    </tr>\n",
       "    <tr>\n",
       "      <th>3</th>\n",
       "      <td>regression</td>\n",
       "      <td>13.406967</td>\n",
       "    </tr>\n",
       "    <tr>\n",
       "      <th>4</th>\n",
       "      <td>classification</td>\n",
       "      <td>10.220901</td>\n",
       "    </tr>\n",
       "    <tr>\n",
       "      <th>5</th>\n",
       "      <td>reinforcement learning</td>\n",
       "      <td>4.392523</td>\n",
       "    </tr>\n",
       "  </tbody>\n",
       "</table>\n",
       "</div>"
      ],
      "text/plain": [
       "                 category      means\n",
       "0                     nlp  31.588785\n",
       "1         computer vision  22.565845\n",
       "2              clustering  17.672048\n",
       "3              regression  13.406967\n",
       "4          classification  10.220901\n",
       "5  reinforcement learning   4.392523"
      ]
     },
     "metadata": {},
     "output_type": "display_data"
    }
   ],
   "source": [
    "means = (df.category.value_counts() / len(df)) * 100\n",
    "\n",
    "meansdf = pd.DataFrame(columns=['category', 'means'])\n",
    "meansdf.category = means.index\n",
    "meansdf.means = means.values\n",
    "\n",
    "meansdf"
   ]
  },
  {
   "cell_type": "code",
   "execution_count": 11,
   "metadata": {},
   "outputs": [
    {
     "data": {
      "text/plain": [
       "<AxesSubplot:xlabel='category', ylabel='means'>"
      ]
     },
     "execution_count": 11,
     "metadata": {},
     "output_type": "execute_result"
    },
    {
     "data": {
      "image/png": "[encoded data removed]",
      "text/plain": [
       "<Figure size 1080x576 with 1 Axes>"
      ]
     },
     "metadata": {
      "needs_background": "light"
     },
     "output_type": "display_data"
    }
   ],
   "source": [
    "import seaborn as sns\n",
    "from matplotlib import pyplot as plt\n",
    "\n",
    "plt.figure(figsize=(15,8))\n",
    "sns.barplot(x='category', y='means', data=meansdf)\n"
   ]
  },
  {
   "cell_type": "markdown",
   "metadata": {},
   "source": [
    "### Before collecting\n",
    "- Delete duplicate notebooks : print duplicate categories => choose best category to keep\n",
    "- Delete notebooks with non-english titles"
   ]
  },
  {
   "cell_type": "code",
   "execution_count": 4,
   "metadata": {},
   "outputs": [
    {
     "data": {
      "text/html": [
       "<div>\n",
       "<style scoped>\n",
       "    .dataframe tbody tr th:only-of-type {\n",
       "        vertical-align: middle;\n",
       "    }\n",
       "\n",
       "    .dataframe tbody tr th {\n",
       "        vertical-align: top;\n",
       "    }\n",
       "\n",
       "    .dataframe thead th {\n",
       "        text-align: right;\n",
       "    }\n",
       "</style>\n",
       "<table border=\"1\" class=\"dataframe\">\n",
       "  <thead>\n",
       "    <tr style=\"text-align: right;\">\n",
       "      <th></th>\n",
       "      <th>title</th>\n",
       "      <th>subcategory</th>\n",
       "      <th>category</th>\n",
       "    </tr>\n",
       "  </thead>\n",
       "  <tbody>\n",
       "    <tr>\n",
       "      <th>0</th>\n",
       "      <td>Linear Regression Tutorial</td>\n",
       "      <td>linear regression</td>\n",
       "      <td>regression</td>\n",
       "    </tr>\n",
       "    <tr>\n",
       "      <th>1</th>\n",
       "      <td>Car Price Prediction (Linear Regression - RFE)</td>\n",
       "      <td>linear regression</td>\n",
       "      <td>regression</td>\n",
       "    </tr>\n",
       "    <tr>\n",
       "      <th>2</th>\n",
       "      <td>Multiple Linear Regression</td>\n",
       "      <td>linear regression</td>\n",
       "      <td>regression</td>\n",
       "    </tr>\n",
       "    <tr>\n",
       "      <th>3</th>\n",
       "      <td>Simple Linear Regression for Salary Data</td>\n",
       "      <td>linear regression</td>\n",
       "      <td>regression</td>\n",
       "    </tr>\n",
       "    <tr>\n",
       "      <th>4</th>\n",
       "      <td>Price analysis and Linear Regression</td>\n",
       "      <td>linear regression</td>\n",
       "      <td>regression</td>\n",
       "    </tr>\n",
       "  </tbody>\n",
       "</table>\n",
       "</div>"
      ],
      "text/plain": [
       "                                            title        subcategory  \\\n",
       "0                      Linear Regression Tutorial  linear regression   \n",
       "1  Car Price Prediction (Linear Regression - RFE)  linear regression   \n",
       "2                      Multiple Linear Regression  linear regression   \n",
       "3        Simple Linear Regression for Salary Data  linear regression   \n",
       "4            Price analysis and Linear Regression  linear regression   \n",
       "\n",
       "     category  \n",
       "0  regression  \n",
       "1  regression  \n",
       "2  regression  \n",
       "3  regression  \n",
       "4  regression  "
      ]
     },
     "execution_count": 4,
     "metadata": {},
     "output_type": "execute_result"
    }
   ],
   "source": [
    "df = pd.read_csv(DATA_PATH_NOTEBOOKS+'ntb_list.csv', sep=',', encoding='utf-8', index_col=0)\n",
    "df.head()"
   ]
  },
  {
   "cell_type": "code",
   "execution_count": 5,
   "metadata": {},
   "outputs": [
    {
     "data": {
      "text/plain": [
       "(11752, 3)"
      ]
     },
     "execution_count": 5,
     "metadata": {},
     "output_type": "execute_result"
    }
   ],
   "source": [
    "df.shape"
   ]
  },
  {
   "cell_type": "code",
   "execution_count": 6,
   "metadata": {},
   "outputs": [],
   "source": [
    "# a dict with duplicate titles and their respective positions in the df\n",
    "duplicates = df[df.duplicated('title', keep=False)].groupby('title').groups"
   ]
  },
  {
   "cell_type": "code",
   "execution_count": 7,
   "metadata": {},
   "outputs": [],
   "source": [
    "def flatten_list(l):\n",
    "    return [item for sublist in l for item in sublist]"
   ]
  },
  {
   "cell_type": "code",
   "execution_count": 8,
   "metadata": {},
   "outputs": [],
   "source": [
    "import collections\n",
    "\n",
    "def to_be_dropped_indices(dictionary):\n",
    "    to_be_dropped = [] # indices to be dropped from original df\n",
    "    temp = []\n",
    "\n",
    "    for k,v in dictionary.items():\n",
    "        duplicates_df = df[df.index.isin(v.values)]\n",
    "        \n",
    "        # if the rows have the same category, they are all dropped except the last one\n",
    "        if len(set(list(duplicates_df.category))) == 1:\n",
    "            to_be_dropped.append(list(duplicates_df.index[:len(duplicates_df.category)-1]))\n",
    "\n",
    "        else: \n",
    "            # drop least common category duplicates for a notebook\n",
    "            dup_counter = collections.Counter(duplicates_df.category)\n",
    "            most_common = dup_counter.most_common()[0][0]\n",
    "            most_common_i = duplicates_df.index.where(duplicates_df.category == most_common).dropna()[0]\n",
    "\n",
    "            to_be_dropped.append(duplicates_df.index.where(duplicates_df.index != most_common_i).dropna())\n",
    "\n",
    "    return flatten_list(to_be_dropped)"
   ]
  },
  {
   "cell_type": "markdown",
   "metadata": {},
   "source": [
    "Getting indices of rows to be dropped (duplicates)"
   ]
  },
  {
   "cell_type": "code",
   "execution_count": 9,
   "metadata": {},
   "outputs": [
    {
     "data": {
      "text/plain": [
       "(2953, [8646, 7627, 9350, 6759, 9313, 10416, 2799, 2196.0, 9195.0, 9408.0])"
      ]
     },
     "execution_count": 9,
     "metadata": {},
     "output_type": "execute_result"
    }
   ],
   "source": [
    "to_be_dropped = to_be_dropped_indices(duplicates)\n",
    "len(to_be_dropped), to_be_dropped[:10]"
   ]
  },
  {
   "cell_type": "markdown",
   "metadata": {},
   "source": [
    "Dropping duplicates"
   ]
  },
  {
   "cell_type": "code",
   "execution_count": 10,
   "metadata": {},
   "outputs": [
    {
     "name": "stdout",
     "output_type": "stream",
     "text": [
      "(8798, 3)\n"
     ]
    }
   ],
   "source": [
    "df_clean = df.copy()\n",
    "df_clean.drop(to_be_dropped, inplace=True)\n",
    "print(df_clean.shape)"
   ]
  },
  {
   "cell_type": "markdown",
   "metadata": {},
   "source": [
    "#### Removing non-english titles"
   ]
  },
  {
   "cell_type": "code",
   "execution_count": 17,
   "metadata": {},
   "outputs": [],
   "source": [
    "# tokenize keywords\n",
    "def list_to_unique_words(list):\n",
    "    unique_words = []\n",
    "    for l in list:\n",
    "        unique_words.append(str(l).lower().split())\n",
    "\n",
    "    return flatten_list(unique_words)"
   ]
  },
  {
   "cell_type": "markdown",
   "metadata": {},
   "source": [
    "Update the default *nltk* words list to add our categories and subcategories and other custom words that are domain specific to avoid them being removed"
   ]
  },
  {
   "cell_type": "code",
   "execution_count": 42,
   "metadata": {},
   "outputs": [],
   "source": [
    "lower_categ = list_to_unique_words(list(keywords_df.category))\n",
    "lower_subcateg = list_to_unique_words(list(keywords_df.subcategory))\n",
    "custom_list = ['dataset', 'datasets', 'feature', 'transformer', 'transformers', 'using', 'detect', 'detecting', 'machine', 'intro', 'pca', 'connectx', 'xgboost', 'visualising', 'visualizing', 'gaussian', 'bayesian', 'score', 'scores', 'map', 'maps', 'ml', 'dl', 'algorithm', 'algorithms', 'feature', 'features']"
   ]
  },
  {
   "cell_type": "code",
   "execution_count": 72,
   "metadata": {},
   "outputs": [],
   "source": [
    "import nltk\n",
    "from langdetect import detect\n",
    "from langdetect import detect_langs\n",
    "from langdetect import DetectorFactory\n",
    "DetectorFactory.seed = 0"
   ]
  },
  {
   "cell_type": "code",
   "execution_count": 43,
   "metadata": {},
   "outputs": [],
   "source": [
    "# nltk.download('words')\n",
    "\n",
    "words = set(nltk.corpus.words.words())\n",
    "\n",
    "words.update(lower_categ)\n",
    "words.update(lower_subcateg)\n",
    "words.update(custom_list)\n",
    "\n",
    "# exepected non-english indices : 353 1594 1640 1584 1664 4412 8273 11540 1081 1715 1642 4693 5320 7295 10615 11629"
   ]
  },
  {
   "cell_type": "code",
   "execution_count": 70,
   "metadata": {},
   "outputs": [
    {
     "name": "stdout",
     "output_type": "stream",
     "text": [
      "350 HousePricing  == \n",
      "353 3 Farklı Algoritma ile Ev Fiyatları Tahmini(Emlak) == 3 ( )\n",
      "362 UsedCarPricePrediction == \n",
      "363 HeartDisease == \n",
      "390 emissionglobals == \n",
      "411 LOGISTICVSDECISIONTREEVSRANDOMFOREST == \n",
      "472 Jigsaw  == \n",
      "493 MSCI CITEseq Quickstart == \n",
      "746 petfinder == \n",
      "828 FitZee == \n",
      "832 BrentOilPricePrediction == \n",
      "880 SuperBowl Halftime shows == \n",
      "930 marshouse == \n",
      "1081 欠損値の対応から複数モデルによるBlending == \n",
      "1161 Trending YouTube Statistics Analysis Model wth PCR == Statistics Analysis Model\n",
      "1162 lineerRegresyon == \n",
      "1210 Hitters == \n",
      "1248 EDA basico == \n",
      "1254 Trending YouTube Statistics Analysis Model wth PLS == Statistics Analysis Model\n",
      "1283 StackingAndEnsembling == \n",
      "1286 Sagar == \n",
      "1303 Whole Pipeline | EDA + LGBM + XGB + StackingReg 📚 == Whole Pipeline | + + + 📚\n",
      "1457 RAPIDS SVM on TReNDS Neuroimaging == on\n",
      "1464 Hyperparamaters == \n",
      "1466 EDA of Rapids SVR | Actual vs Pred Comparison 👀 == of SVR | Actual Comparison 👀\n",
      "1571 EDA & Basline Modeling - CommonLit Passages == & Modeling -\n",
      "1584 Redes Neurais Artificiais - Conceito Básico == -\n",
      "1594 Fork of Makine Öğrenmesi İçin Lineer Cebir == Fork of\n",
      "1640 MLP - Multilayer Perceptron - Conceito básico  == - Perceptron -\n",
      "1642 Derin Öğrenmenin Temelleri == \n",
      "1664 Makine Öğrenmesi İçin Lineer Cebir == \n",
      "1702 Analysing Classifiers == \n",
      "1715 泰坦尼克幸存者预测TitanicLvPeiyuan == \n",
      "2246 Pytanic == \n",
      "2247 TitanicLearningQI == \n",
      "2546 Pokemon Battles == \n",
      "2726 Website Phishing == \n",
      "2950 Excercises == \n",
      "3039 JPX - yfinance - stock prices and infos == - - stock and\n",
      "3192 Adapting Pokemon stats to data analysis methods == to data analysis\n",
      "3209 AutomaticTicketAssignment == \n",
      "3493 FCModel == \n",
      "3608 PetsDataMining == \n",
      "3610 svettt == \n",
      "3614 cakes == \n",
      "3825 ClusterAnalysis == \n",
      "3836 homePrices == \n",
      "3890 MultipleClusteringTechniques == \n",
      "3943 carpricepredictiontask == \n",
      "3949 PhonePricing == \n",
      "4010 asdfghjkl == \n",
      "4170 MNIST clusterization == \n",
      "4224 titanicBK == \n",
      "4227 Gansss == \n",
      "4236 tempbook == \n",
      "4237 RFRmodded == \n",
      "4238 workinprogress == \n",
      "4262 Profiling  == \n",
      "4298 TPS Nov 21 - Kmeans + Keras Discretization Layer == 21 - + Layer\n",
      "4320 Sklearn Clusteing == \n",
      "4360 benz clusters == \n",
      "4366 LightGBM == \n",
      "4404 Analisis Faktor Kebahagiaan == \n",
      "4412 Nguyễn Thành Công - Nhóm 7 - Clustering == - 7 - Clustering\n",
      "4444 KMedoid SG == \n",
      "4501 Hackathon == \n",
      "4506 kmode == \n",
      "4521 DataMining == \n",
      "4566 projeto software III == \n",
      "4591 TreatKeywordSynonyms == \n",
      "4594 TorinoComeStai == \n",
      "4626 Sklearn Clusters == \n",
      "4693 Inne algorytmy grupowania == \n",
      "4696 Nestorova elpi mst trees different nod numb et PCA == different nod numb PCA\n",
      "4702 SimulationUnsupervisedScoresForTI == \n",
      "4859 Analyzing Editors Descriptions | Hidden Gems  == | Hidden\n",
      "4902 FitsProcess == \n",
      "4980 objde == \n",
      "5099 PatentBert demo == \n",
      "5102 GlobalWheatDetection == \n",
      "5112 visiontools == \n",
      "5121 EDA CXR  == \n",
      "5146 FeatureEngineering == \n",
      "5157 Luderick Tracking == \n",
      "5170 MNISTClassificationUsingRandomForestAlphabets == \n",
      "5180 TugasImageDetectionRobotikaCerdas == \n",
      "5196 PictureRecognition TF and Transferlearning ResNet == and\n",
      "5204 steelDefectFinder == \n",
      "5231 RetinaNet == \n",
      "5286 Fingerprints tif == \n",
      "5320 Happywhale EDA 実況 == \n",
      "5335 Codelabs  == \n",
      "5393 FaceMaskDetection == \n",
      "5405 MajorProject == \n",
      "5466 tagImages == \n",
      "5470 AffectSimilarities == \n",
      "5982 ImageCaptioning == \n",
      "6360 VisualQuestionAnswering == \n",
      "6966 ResNet50 vs InceptionV3 vs Xception vs NASNet == ResNet50 InceptionV3 NASNet\n",
      "6991 Xception Keras == \n",
      "7009 NASNetLarge == \n",
      "7010 NASNetMobile == \n",
      "7057 MobileNet == \n",
      "7071 ImageCaption == \n",
      "7141 PetFinder EDA + YOLOV5 Obj Detection + TFRecords == + YOLOV5 Detection +\n",
      "7169 YOLOv2 vs Faced vs Blazeface vs MTCNN == YOLOv2 Faced\n",
      "7295 SteelDefect資料預處理 == \n",
      "7300 DeepLabCut Experiments == \n",
      "7314 VirtualBackground == \n",
      "7360 EEENet == \n",
      "7520 HuBMAP EDA  Pytorch EfficientUNet Offline Training == Pytorch Training\n",
      "7736 Keras Directory Iterator - wav to spectogram == Directory - to\n",
      "7795 SpeechRecognition == \n",
      "7848 NLPandDataExploration == \n",
      "7979 VisionTransformer Recipes == \n",
      "7990 multivariate lstm == \n",
      "8215 Semantic Insights - Zomato Bangalore Reviews  == Semantic -\n",
      "8218 LDA Topic Modelling with BMW user reviews == Topic with user\n",
      "8273 ISNA  News Agency خبرگزاری ایسنا | صفحه اصلی  == News Agency |\n",
      "8284 TextCategorizationApproaches == \n",
      "8288 A deeper EDA on POS tags, Topic modelling & more == A on , Topic & more\n",
      "8404 Indonesian DistilBERT finetuning with ArcMargin == with\n",
      "8427 CommonLit Readability - EDA & RoBERTa TF baseline == Readability - & RoBERTa\n",
      "8436 TensorFlow - LongFormer - NER - Postprocessing == - - -\n",
      "8460 chaii chaii == \n",
      "8514 Predicting English Pronunciations  == \n",
      "8520 LSTM baseline == \n",
      "8549 English to Hindi NMT with bleu score == to with score\n",
      "8567 Séries temporelles == \n",
      "8603 cnnlstmclass == \n",
      "9561 ULMFit  == \n",
      "9582 SentimentAnalysis == \n",
      "9784 ChAII - StarterKit EDA + Baseline == - +\n",
      "9917 pytorchWithBert == \n",
      "9966 GPTinyI == \n",
      "10442 Fine text preproc, concat embedding, LSTM GRU Att == Fine text , ,\n",
      "10537 Jigsaw EDA == \n",
      "10596 EDA NLP - Goodreads Books Reviews == NLP -\n",
      "10615 Självständig Uppgift Aram == \n",
      "10698 amazonProductReviews == \n",
      "10812 BOWandNBSVM == \n",
      "10821 TextAttack == \n",
      "10827 SentencePiece fr == \n",
      "10882 LGB + GRU + LR + LSTM + NB-SVM Average Ensemble == + + + + - Average Ensemble\n",
      "11002 RAPIDS UMAP Tfidf KMeans - Discovers 15 Topics! == Tfidf - 15 !\n",
      "11103 Topic Modelling using LDA and LSA in Sklearn == Topic using and in\n",
      "11196 CafeBot == \n",
      "11237 DialoGPT == \n",
      "11265 Geesamble == \n",
      "11302 ReinforcmentLearningTutorial == \n",
      "11540 Proyecto 2 - Anthony Chacin - Emergente == 2 - -\n",
      "11554 GFootball == \n",
      "11623 mdpagent == \n",
      "11626 Deepq == \n",
      "11629 Methodes approchées REMY == \n",
      "11644 DRL for finance | Yoann Lemesle & Roxane Cohen == for finance | &\n",
      "11695 RPS Dojo == \n",
      "11711 Estimating PRI == \n",
      "11726 ExtraTreesClassifier == \n",
      "11752 rl udacity == \n"
     ]
    }
   ],
   "source": [
    "for row in df_clean.index:\n",
    "    title = df_clean.loc[row, 'title']\n",
    "    try:\n",
    "        # print(df_clean.loc[row, 'title'])\n",
    "        # title = \"Chaii EDA&Baseline 実況\"\n",
    "        clean_title = \" \".join(w for w in nltk.wordpunct_tokenize(title) \\\n",
    "                if w.lower() in words or not w.isalpha())\n",
    "\n",
    "\n",
    "        \n",
    "        if ((len(title.split()) - len(clean_title.split())) > 3) or len(clean_title.split()) == 0: print(row, title, '==', clean_title) # prints titles with low # of english words\n",
    "    except Exception as e:\n",
    "        print(e)"
   ]
  },
  {
   "cell_type": "code",
   "execution_count": 76,
   "metadata": {},
   "outputs": [
    {
     "data": {
      "text/plain": [
       "([cy:0.9999978753840443], 'cy')"
      ]
     },
     "execution_count": 76,
     "metadata": {},
     "output_type": "execute_result"
    }
   ],
   "source": [
    "detect_langs('Method'), detect('Method')"
   ]
  },
  {
   "cell_type": "markdown",
   "metadata": {},
   "source": [
    "# Collecting notebooks by category"
   ]
  },
  {
   "cell_type": "code",
   "execution_count": 52,
   "metadata": {},
   "outputs": [
    {
     "name": "stdout",
     "output_type": "stream",
     "text": [
      "Kaggle API exception : Notebook not found\n",
      "Kaggle API exception : Notebook not found\n",
      "Kaggle API exception : Notebook not found\n",
      "Kaggle API exception : Notebook not found\n",
      "Kaggle API exception : Notebook not found\n",
      "Kaggle API exception : Notebook not found\n",
      "Kaggle API exception : Notebook not found\n",
      "Kaggle API exception : Notebook not found\n",
      "Kaggle API exception : Notebook not found\n",
      "Kaggle API exception : Notebook not found\n",
      "Kaggle API exception : Notebook not found\n",
      "Kaggle API exception : Notebook not found\n",
      "Kaggle API exception : Notebook not found\n",
      "Kaggle API exception : Notebook not found\n",
      "Kaggle API exception : Notebook not found\n",
      "Kaggle API exception : Notebook not found\n",
      "Kaggle API exception : Notebook not found\n",
      "Kaggle API exception : Notebook not found\n",
      "Kaggle API exception : Notebook not found\n",
      "Kaggle API exception : Notebook not found\n",
      "Kaggle API exception : Notebook not found\n",
      "Kaggle API exception : Notebook not found\n",
      "Kaggle API exception : Notebook not found\n",
      "Kaggle API exception : Notebook not found\n",
      "Kaggle API exception : Notebook not found\n",
      "Kaggle API exception : Notebook not found\n",
      "Kaggle API exception : Notebook not found\n",
      "Kaggle API exception : Notebook not found\n",
      "Kaggle API exception : Notebook not found\n",
      "Kaggle API exception : Notebook not found\n",
      "Kaggle API exception : Notebook not found\n",
      "Kaggle API exception : Notebook not found\n",
      "Kaggle API exception : Notebook not found\n",
      "Kaggle API exception : Notebook not found\n",
      "Kaggle API exception : Notebook not found\n",
      "Kaggle API exception : Notebook not found\n",
      "Kaggle API exception : Notebook not found\n",
      "Kaggle API exception : Notebook not found\n",
      "Kaggle API exception : Notebook not found\n",
      "Kaggle API exception : Notebook not found\n",
      "Kaggle API exception : Notebook not found\n",
      "Kaggle API exception : Notebook not found\n",
      "Kaggle API exception : Notebook not found\n",
      "Kaggle API exception : Notebook not found\n",
      "Kaggle API exception : Notebook not found\n",
      "Kaggle API exception : Notebook not found\n",
      "Kaggle API exception : Notebook not found\n",
      "Kaggle API exception : Notebook not found\n",
      "Kaggle API exception : Notebook not found\n",
      "Kaggle API exception : Notebook not found\n",
      "Kaggle API exception : Notebook not found\n",
      "Kaggle API exception : Notebook not found\n",
      "Kaggle API exception : Notebook not found\n",
      "Kaggle API exception : Notebook not found\n",
      "Kaggle API exception : Notebook not found\n",
      "Kaggle API exception : Notebook not found\n",
      "Kaggle API exception : Notebook not found\n",
      "Kaggle API exception : Notebook not found\n",
      "Kaggle API exception : Notebook not found\n",
      "Kaggle API exception : Notebook not found\n",
      "Kaggle API exception : Notebook not found\n",
      "Kaggle API exception : Notebook not found\n",
      "Kaggle API exception : Notebook not found\n",
      "Kaggle API exception : Notebook not found\n",
      "Kaggle API exception : Notebook not found\n"
     ]
    }
   ],
   "source": [
    "for keyword in keywords_df['subcategory']:\n",
    "    for i in range(1,16):\n",
    "        try :\n",
    "                kernels = api.kernels_list(search = keyword, page=i)\n",
    "                for kernel in kernels:\n",
    "                        api.kernels_pull(kernel.ref, path = DATA_PATH_NOTEBOOKS + search(keyword,keywords_df))\n",
    "        except Exception as e:\n",
    "            print('Kaggle API exception : ', kernel.ref, 'Notebook not found')"
   ]
  },
  {
   "cell_type": "code",
   "execution_count": 21,
   "metadata": {},
   "outputs": [
    {
     "data": {
      "text/plain": [
       "' hkdfv'"
      ]
     },
     "execution_count": 21,
     "metadata": {},
     "output_type": "execute_result"
    }
   ],
   "source": [
    "import re\n",
    "s = '<a class=\"\"anchor\"\" id=\"2\"></a>hkdfv'\n",
    "result = re.search(r'<a class=\"\"anchor\"\"(.*?)</a>', s).group(1)\n",
    "result = re.sub(r'<a class=\"\"anchor\"\".*?</a>',\" \",s)\n",
    "result"
   ]
  }
 ],
 "metadata": {
  "kernelspec": {
   "display_name": "Python 3.10.5 64-bit",
   "language": "python",
   "name": "python3"
  },
  "language_info": {
   "codemirror_mode": {
    "name": "ipython",
    "version": 3
   },
   "file_extension": ".py",
   "mimetype": "text/x-python",
   "name": "python",
   "nbconvert_exporter": "python",
   "pygments_lexer": "ipython3",
   "version": "3.10.5"
  },
  "orig_nbformat": 4,
  "vscode": {
   "interpreter": {
    "hash": "49ab456e11cde720218fba409a85456f40f210cf294d5c8f56d5f4fb69af5c6b"
   }
  }
 },
 "nbformat": 4,
 "nbformat_minor": 2
}
