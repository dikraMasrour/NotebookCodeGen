{
 "cells": [
  {
   "cell_type": "markdown",
   "metadata": {},
   "source": [
    "## Kaggle Python public API for data collection : Notebook Classification TASK"
   ]
  },
  {
   "cell_type": "code",
   "execution_count": 2,
   "metadata": {},
   "outputs": [],
   "source": [
    "DATA_PATH_KEYWORDS = '../data/search_keywords.csv'\n",
    "DATA_PATH_NOTEBOOKS = '../data/'"
   ]
  },
  {
   "cell_type": "markdown",
   "metadata": {},
   "source": [
    "Importing librairies"
   ]
  },
  {
   "cell_type": "code",
   "execution_count": 3,
   "metadata": {},
   "outputs": [],
   "source": [
    "import kaggle\n",
    "from kaggle.api.kaggle_api_extended import KaggleApi\n",
    "import pandas as pd\n",
    "import numpy as np"
   ]
  },
  {
   "cell_type": "code",
   "execution_count": 4,
   "metadata": {},
   "outputs": [],
   "source": [
    "api = KaggleApi()\n",
    "api.authenticate()"
   ]
  },
  {
   "cell_type": "markdown",
   "metadata": {},
   "source": [
    "Read the file containing the search keywords used to retrieve notebooks "
   ]
  },
  {
   "cell_type": "code",
   "execution_count": 5,
   "metadata": {},
   "outputs": [
    {
     "data": {
      "text/html": [
       "<div>\n",
       "<style scoped>\n",
       "    .dataframe tbody tr th:only-of-type {\n",
       "        vertical-align: middle;\n",
       "    }\n",
       "\n",
       "    .dataframe tbody tr th {\n",
       "        vertical-align: top;\n",
       "    }\n",
       "\n",
       "    .dataframe thead th {\n",
       "        text-align: right;\n",
       "    }\n",
       "</style>\n",
       "<table border=\"1\" class=\"dataframe\">\n",
       "  <thead>\n",
       "    <tr style=\"text-align: right;\">\n",
       "      <th></th>\n",
       "      <th>subcategory</th>\n",
       "      <th>category</th>\n",
       "    </tr>\n",
       "  </thead>\n",
       "  <tbody>\n",
       "    <tr>\n",
       "      <th>0</th>\n",
       "      <td>linear regression</td>\n",
       "      <td>regression</td>\n",
       "    </tr>\n",
       "    <tr>\n",
       "      <th>1</th>\n",
       "      <td>lasso regression</td>\n",
       "      <td>regression</td>\n",
       "    </tr>\n",
       "    <tr>\n",
       "      <th>2</th>\n",
       "      <td>randomforestregression</td>\n",
       "      <td>regression</td>\n",
       "    </tr>\n",
       "    <tr>\n",
       "      <th>3</th>\n",
       "      <td>ridge regression</td>\n",
       "      <td>regression</td>\n",
       "    </tr>\n",
       "    <tr>\n",
       "      <th>4</th>\n",
       "      <td>XGBRegressor</td>\n",
       "      <td>regression</td>\n",
       "    </tr>\n",
       "    <tr>\n",
       "      <th>...</th>\n",
       "      <td>...</td>\n",
       "      <td>...</td>\n",
       "    </tr>\n",
       "    <tr>\n",
       "      <th>89</th>\n",
       "      <td>sarsa</td>\n",
       "      <td>reinforcement learning</td>\n",
       "    </tr>\n",
       "    <tr>\n",
       "      <th>90</th>\n",
       "      <td>ddpg</td>\n",
       "      <td>reinforcement learning</td>\n",
       "    </tr>\n",
       "    <tr>\n",
       "      <th>91</th>\n",
       "      <td>qlearning</td>\n",
       "      <td>reinforcement learning</td>\n",
       "    </tr>\n",
       "    <tr>\n",
       "      <th>92</th>\n",
       "      <td>markov decision</td>\n",
       "      <td>reinforcement learning</td>\n",
       "    </tr>\n",
       "    <tr>\n",
       "      <th>93</th>\n",
       "      <td>reinforcement</td>\n",
       "      <td>reinforcement learning</td>\n",
       "    </tr>\n",
       "  </tbody>\n",
       "</table>\n",
       "<p>94 rows × 2 columns</p>\n",
       "</div>"
      ],
      "text/plain": [
       "               subcategory                category\n",
       "0        linear regression              regression\n",
       "1         lasso regression              regression\n",
       "2   randomforestregression              regression\n",
       "3         ridge regression              regression\n",
       "4             XGBRegressor              regression\n",
       "..                     ...                     ...\n",
       "89                   sarsa  reinforcement learning\n",
       "90                    ddpg  reinforcement learning\n",
       "91               qlearning  reinforcement learning\n",
       "92         markov decision  reinforcement learning\n",
       "93           reinforcement  reinforcement learning\n",
       "\n",
       "[94 rows x 2 columns]"
      ]
     },
     "execution_count": 5,
     "metadata": {},
     "output_type": "execute_result"
    }
   ],
   "source": [
    "keywords_df = pd.DataFrame(columns=['Category', 'Subcategory'])\n",
    "keywords_df = pd.read_csv(DATA_PATH_KEYWORDS, sep=';') \n",
    "keywords_df"
   ]
  },
  {
   "cell_type": "markdown",
   "metadata": {},
   "source": [
    "The following function returns the category of a Notebook based on its subcategory"
   ]
  },
  {
   "cell_type": "code",
   "execution_count": 5,
   "metadata": {},
   "outputs": [],
   "source": [
    "def search(sub,data):\n",
    "    for i in data.index:\n",
    "        if data.loc[i]['subcategory'] == sub:\n",
    "            return data.loc[i]['category']"
   ]
  },
  {
   "cell_type": "markdown",
   "metadata": {},
   "source": [
    "# List of notebooks"
   ]
  },
  {
   "cell_type": "code",
   "execution_count": 14,
   "metadata": {},
   "outputs": [],
   "source": [
    "df = pd.DataFrame(columns=['title','subcategory','category'])\n"
   ]
  },
  {
   "cell_type": "markdown",
   "metadata": {},
   "source": [
    "Building a notebook titles dataframe with category and subcategory"
   ]
  },
  {
   "cell_type": "code",
   "execution_count": 15,
   "metadata": {},
   "outputs": [
    {
     "name": "stdout",
     "output_type": "stream",
     "text": [
      "Kaggle API exception : \" amolambkar/multivariate-linear-regression-using-python-code \" Notebook not found\n",
      "Kaggle API exception : \" fabiendaniel/predicting-flight-delays-tutorial \" Notebook not found\n",
      "Kaggle API exception : \" fabiendaniel/predicting-flight-delays-tutorial \" Notebook not found\n",
      "Kaggle API exception : \" fabiendaniel/predicting-flight-delays-tutorial \" Notebook not found\n",
      "Kaggle API exception : \" vassylkorzh/crime-scale-prediction \" Notebook not found\n",
      "Kaggle API exception : \" juliojaavier/earth-surface-temperature \" Notebook not found\n",
      "Kaggle API exception : \" juliojaavier/earth-surface-temperature \" Notebook not found\n",
      "Kaggle API exception : \" juliojaavier/earth-surface-temperature \" Notebook not found\n",
      "Kaggle API exception : \" rbyron/simple-linear-regression-models \" Notebook not found\n",
      "Kaggle API exception : \" rbyron/simple-linear-regression-models \" Notebook not found\n",
      "Kaggle API exception : \" rbyron/simple-linear-regression-models \" Notebook not found\n",
      "Kaggle API exception : \" rbyron/simple-linear-regression-models \" Notebook not found\n",
      "Kaggle API exception : \" usamabalochhh/eda-xgbregressor-good-accuracy-with-explanation \" Notebook not found\n",
      "Kaggle API exception : \" vikassingh1996/extensive-data-preprocessing-and-modeling \" Notebook not found\n",
      "Kaggle API exception : \" vikassingh1996/extensive-data-preprocessing-and-modeling \" Notebook not found\n",
      "Kaggle API exception : \" devanshbesain/exploration-and-analysis-auto-mpg \" Notebook not found\n",
      "Kaggle API exception : \" devanshbesain/exploration-and-analysis-auto-mpg \" Notebook not found\n",
      "Kaggle API exception : \" venkatapadavala/house-prices-advanced-regression-practice \" Notebook not found\n",
      "Kaggle API exception : \" akouaorsot/mlr-medical-costs \" Notebook not found\n",
      "Kaggle API exception : \" masumrumi/a-detailed-regression-guide-with-house-pricing \" Notebook not found\n",
      "Kaggle API exception : \" kaanboke/car-price-prediction-beginner-friendly-94-3 \" Notebook not found\n",
      "Kaggle API exception : \" kaanboke/car-price-prediction-beginner-friendly-94-3 \" Notebook not found\n",
      "Kaggle API exception : \" brsdincer/fashionmnist-prediction-full-explanation \" Notebook not found\n",
      "Kaggle API exception : \" alaasedeeq/house-price-prediction-top-8 \" Notebook not found\n",
      "Kaggle API exception : \" alaasedeeq/house-price-prediction-top-8 \" Notebook not found\n",
      "Kaggle API exception : \" icaram/rapids-svr-boost-17-8 \" Notebook not found\n",
      "Kaggle API exception : \" elikplim/predict-the-burned-area-of-forest-fires \" Notebook not found\n",
      "Kaggle API exception : \" nilanml/eda-lasso \" Notebook not found\n",
      "Kaggle API exception : \" lemonad/nykdev-single-layer-perceptron \" Notebook not found\n",
      "Kaggle API exception : \" lemonad/nykdev-single-layer-perceptron \" Notebook not found\n",
      "Kaggle API exception : \" lemonad/nykdev-single-layer-perceptron \" Notebook not found\n",
      "Kaggle API exception : \" samhithvasikarla/banknote-authentication-with-multilayer-perceptron \" Notebook not found\n",
      "Kaggle API exception : \" imanjowkar/hyperparameter-effect-on-deep-learning-model-3 \" Notebook not found\n",
      "Kaggle API exception : \" leemun1/predicting-breast-cancer-logistic-regression \" Notebook not found\n",
      "Kaggle API exception : \" leemun1/predicting-breast-cancer-logistic-regression \" Notebook not found\n",
      "Kaggle API exception : \" leemun1/predicting-breast-cancer-logistic-regression \" Notebook not found\n",
      "Kaggle API exception : \" leemun1/predicting-breast-cancer-logistic-regression \" Notebook not found\n",
      "Kaggle API exception : \" leemun1/predicting-breast-cancer-logistic-regression \" Notebook not found\n",
      "Kaggle API exception : \" leemun1/predicting-breast-cancer-logistic-regression \" Notebook not found\n",
      "Kaggle API exception : \" vjchoudhary7/logistic-regression-model-in-hr-analytics \" Notebook not found\n",
      "Kaggle API exception : \" jsultan/visualizing-classifier-boundaries-using-kernel-pca \" Notebook not found\n",
      "Kaggle API exception : \" paotografi/customer-churn-eda-95-acc-and-85-recall \" Notebook not found\n",
      "Kaggle API exception : \" cdeotte/private-lb-probing-0-950 \" Notebook not found\n",
      "Kaggle API exception : \" cdeotte/private-lb-probing-0-950 \" Notebook not found\n",
      "Kaggle API exception : \" degravek/a-naive-bayes-tweet-classifier \" Notebook not found\n",
      "Kaggle API exception : \" ranjeetjain3/visualization-machine-learning-deep-learning \" Notebook not found\n",
      "Kaggle API exception : \" kanncaa1/applying-text-mining \" Notebook not found\n",
      "Kaggle API exception : \" rxsraghavagrawal/music-genre-classification-using-knn-begineers \" Notebook not found\n",
      "Kaggle API exception : \" sulianova/knn-and-na-ve-bayes-approaches \" Notebook not found\n",
      "Kaggle API exception : \" dktalaicha/diabetes-prediction-by-knn \" Notebook not found\n",
      "Kaggle API exception : \" nicapotato/titanic-voting-pipeline-stack-and-guide \" Notebook not found\n",
      "Kaggle API exception : \" rajeshjnv/mall-customer-visually-analysis-k-means \" Notebook not found\n",
      "Kaggle API exception : \" beezus666/k-means-and-feature-importance-for-articles \" Notebook not found\n",
      "Kaggle API exception : \" akashchola/customer-segmentation-rfm-model-k-means \" Notebook not found\n",
      "Kaggle API exception : \" gauravduttakiit/clustering-using-k-means-hierarchical-pca \" Notebook not found\n",
      "Kaggle API exception : \" gauravduttakiit/clustering-using-k-means-hierarchical-pca \" Notebook not found\n",
      "Kaggle API exception : \" singhnproud77/hierarchical-clustering-telco-customer-churn \" Notebook not found\n",
      "Kaggle API exception : \" manohar676/a-complete-giude-of-ml-workflow-with-python \" Notebook not found\n",
      "Kaggle API exception : \" agustinpugliese/clustering-model-comparison-with-plotly \" Notebook not found\n",
      "Kaggle API exception : \" jagdmir/help-international-clustering-pca \" Notebook not found\n",
      "Kaggle API exception : \" rsesha/pycaret-vs-auto-viml-on-reg-class-nlp \" Notebook not found\n",
      "Kaggle API exception : \" rsesha/pycaret-vs-auto-viml-on-reg-class-nlp \" Notebook not found\n",
      "Kaggle API exception : \" habibmrad1983/awesome-ml-frameworks-and-mnist-classification \" Notebook not found\n",
      "Kaggle API exception : \" avnika22/world-happiness-report-eda-clustering \" Notebook not found\n",
      "Kaggle API exception : \" avnika22/world-happiness-report-eda-clustering \" Notebook not found\n",
      "Kaggle API exception : \" avnika22/world-happiness-report-eda-clustering \" Notebook not found\n",
      "Kaggle API exception : \" kmader/cellcnn-overview \" Notebook not found\n",
      "Kaggle API exception : \" tadeumesquita/rain-in-australa-random-forest \" Notebook not found\n",
      "Kaggle API exception : \" vedanth777/clustering-customers-heirarchical-pcaplot \" Notebook not found\n",
      "Kaggle API exception : \" pmrich/clustering-approaches-k-mean-birch-agg \" Notebook not found\n",
      "Kaggle API exception : \" tpe3egol/player-characteristics \" Notebook not found\n",
      "Kaggle API exception : \" michaelmeeker/wip-bank-customer-rmf-and-segementation \" Notebook not found\n",
      "Kaggle API exception : \" ayakhaled2/steam-game-analysis \" Notebook not found\n",
      "Kaggle API exception : \" saymasultantufan/k-means-and-birch \" Notebook not found\n",
      "Kaggle API exception : \" shilpyp/world-happiness-report-clustering-analysis-v1 \" Notebook not found\n",
      "Kaggle API exception : \" keisei/tempbook \" Notebook not found\n",
      "Kaggle API exception : \" keisei/tempbook \" Notebook not found\n",
      "Kaggle API exception : \" geetanjali1sharma/data-analysis-for-a-hotel-rating-and-reservations \" Notebook not found\n",
      "Kaggle API exception : \" hitashukanjani/ds5220mergerprediction \" Notebook not found\n",
      "Kaggle API exception : \" piercnic/unsupervised-k-means \" Notebook not found\n",
      "Kaggle API exception : \" mayureshnm/tps-july-22-with-mini-batch-k-means-clustering \" Notebook not found\n",
      "Kaggle API exception : \" nataliashcheglova/clustering-k-means-agglomerative-dbscan \" Notebook not found\n",
      "Kaggle API exception : \" ravirajsinh45/global-wheat-yolo-labels \" Notebook not found\n",
      "Kaggle API exception : \" chizuchizu/japanese-extraction-of-importance \" Notebook not found\n",
      "Kaggle API exception : \" jiangstein/a-very-simple-siamese-network-in-pytorch \" Notebook not found\n",
      "Kaggle API exception : \" sjyangkevin/tf-cots-yolov5-training-pipeline \" Notebook not found\n",
      "Kaggle API exception : \" sjyangkevin/tf-cots-yolov5-training-pipeline \" Notebook not found\n",
      "Kaggle API exception : \" akensert/rsna-inceptionv3-keras-tf1-14-0 \" Notebook not found\n",
      "Kaggle API exception : \" ar2017/pytorch-efficientnet-train-aug-cutmix-fmix \" Notebook not found\n",
      "Kaggle API exception : \" kozodoi/local-installation-for-efficientnet-pytorch \" Notebook not found\n",
      "Kaggle API exception : \" gauravduttakiit/anime-vs-cartoon-mobilenetv2-model \" Notebook not found\n",
      "Kaggle API exception : \" rutwikhiwalkar/introduction-to-transfer-learning-inceptionv3 \" Notebook not found\n",
      "Kaggle API exception : \" aziz69/efficientnets-meta-data-augs-0-939-public-lb \" Notebook not found\n",
      "Kaggle API exception : \" rajkumarl/get-started-with-semantic-segmentation \" Notebook not found\n",
      "Kaggle API exception : \" rajkumarl/get-started-with-semantic-segmentation \" Notebook not found\n",
      "Kaggle API exception : \" giosiolas/3-tensorflow-2-cifar-100-ipynb \" Notebook not found\n",
      "Kaggle API exception : \" mostafaibrahim17/yolov5-vinbigdata \" Notebook not found\n",
      "Kaggle API exception : \" remekkinas/funny-cv-eda-what-we-see-here \" Notebook not found\n",
      "Kaggle API exception : \" xinruizhuang/skin-lesion-classification-acc-90-pytorch \" Notebook not found\n",
      "Kaggle API exception : \" andradaolteanu/sentiment-analysis-rick-and-morty-scripts \" Notebook not found\n",
      "Kaggle API exception : \" andradaolteanu/sentiment-analysis-rick-and-morty-scripts \" Notebook not found\n",
      "Kaggle API exception : \" blessondensil294/beginner-nlp-product-sentiment-analysis-textblob \" Notebook not found\n",
      "Kaggle API exception : \" nirant/hitchhiker-s-guide-to-nlp-in-spacy \" Notebook not found\n",
      "Kaggle API exception : \" tientd95/understanding-attention-in-neural-network \" Notebook not found\n",
      "Kaggle API exception : \" tientd95/understanding-attention-in-neural-network \" Notebook not found\n",
      "Kaggle API exception : \" uom170589c/mbart-model2-part-1 \" Notebook not found\n",
      "Kaggle API exception : \" itratrahman/nlp-tutorial-using-python \" Notebook not found\n",
      "Kaggle API exception : \" zhenyufan/nlp-for-yelp-reviews \" Notebook not found\n",
      "Kaggle API exception : \" zhenyufan/nlp-for-yelp-reviews \" Notebook not found\n",
      "Kaggle API exception : \" zhenyufan/nlp-for-yelp-reviews \" Notebook not found\n",
      "Kaggle API exception : \" zhenyufan/nlp-for-yelp-reviews \" Notebook not found\n",
      "Kaggle API exception : \" saurabh48782/nlp-using-spacy-library-part-1 \" Notebook not found\n",
      "Kaggle API exception : \" yuanzhezhou/ai4code-distilbert-inference-777 \" Notebook not found\n",
      "Kaggle API exception : \" letnzle/t5anddemosystem \" Notebook not found\n",
      "Kaggle API exception : \" kabure/qa-eda-and-nlp-modelling-insights-vis-bert \" Notebook not found\n",
      "Kaggle API exception : \" mpwolke/moby-dick-election-and-battles \" Notebook not found\n",
      "Kaggle API exception : \" mpwolke/moby-dick-election-and-battles \" Notebook not found\n",
      "Kaggle API exception : \" mpwolke/moby-dick-election-and-battles \" Notebook not found\n",
      "Kaggle API exception : \" kentaronakanishi/clrp-095-ensemble13-cv-kaggle93 \" Notebook not found\n",
      "Kaggle API exception : \" kentaronakanishi/clrp-095-ensemble13-cv-kaggle93 \" Notebook not found\n",
      "Kaggle API exception : \" kentaronakanishi/clrp-095-ensemble13-cv-kaggle93 \" Notebook not found\n",
      "Kaggle API exception : \" kentaronakanishi/clrp-095-ensemble13-cv-kaggle93 \" Notebook not found\n",
      "Kaggle API exception : \" kentaronakanishi/clrp-095-ensemble13-cv-kaggle93 \" Notebook not found\n",
      "Kaggle API exception : \" kentaronakanishi/clrp-095-ensemble13-cv-kaggle93 \" Notebook not found\n",
      "Kaggle API exception : \" succinctlyai/midjourney-text-prompts-huggingface \" Notebook not found\n",
      "Kaggle API exception : \" succinctlyai/midjourney-text-prompts-huggingface \" Notebook not found\n",
      "Kaggle API exception : \" rihab147/arabert-pytorch-arabic-texts \" Notebook not found\n",
      "Kaggle API exception : \" theoviel/bert-for-question-answering-baseline-inference \" Notebook not found\n",
      "Kaggle API exception : \" theoviel/bert-for-question-answering-baseline-inference \" Notebook not found\n",
      "Kaggle API exception : \" shujian/single-rnn-with-5-folds-snapshot-ensemble \" Notebook not found\n",
      "Kaggle API exception : \" shujian/single-rnn-with-5-folds-snapshot-ensemble \" Notebook not found\n",
      "Kaggle API exception : \" anirbansen3027/jtcc-word2vec \" Notebook not found\n",
      "Kaggle API exception : \" satian/a-look-at-different-embeddings-with-attention \" Notebook not found\n",
      "Kaggle API exception : \" sergeykalutsky/pytorch-starter \" Notebook not found\n",
      "Kaggle API exception : \" kunihikofurugori/torch-multidml-img-text-tfidf-faiss \" Notebook not found\n",
      "Kaggle API exception : \" kunihikofurugori/torch-multidml-img-text-tfidf-faiss \" Notebook not found\n",
      "Kaggle API exception : \" kailex/tidy-xgboost-glmnet-text2vec-lsa \" Notebook not found\n",
      "Kaggle API exception : \" charumakhijani/nlp-tutorial-countvectorizer-tfidf-onehotvector \" Notebook not found\n",
      "Kaggle API exception : \" subhasom/covid-19-chatbot \" Notebook not found\n",
      "Kaggle API exception : \" elvinagammed/starter-intent-recognition-chatbot-8da964e5-5 \" Notebook not found\n",
      "Kaggle API exception : \" lolik228/a2c-try \" Notebook not found\n",
      "Kaggle API exception : \" ariskoutris/nn-ex4 \" Notebook not found\n",
      "Kaggle API exception : \" oskarfirlej/exercise-deep-reinforcement-learning \" Notebook not found\n",
      "Kaggle API exception : \" jhowjhow/mountaincar-dqn \" Notebook not found\n",
      "Kaggle API exception : \" jhowjhow/mountaincar-dqn \" Notebook not found\n",
      "Kaggle API exception : \" mahoy00/deep-reinforcement-learning-on-stock-data \" Notebook not found\n",
      "Kaggle API exception : \" kooaslansefat/concept-drift-adversarial-validation-safeml \" Notebook not found\n",
      "Kaggle API exception : \" jeremygodden/my-self-made-data-science-masters-curriculum \" Notebook not found\n",
      "Kaggle API exception : \" sofyalaskina/covid-19-literature-clustering-part-3 \" Notebook not found\n",
      "Kaggle API exception : \" hsperr/halite-iv-dqn-example-pytorch \" Notebook not found\n",
      "Kaggle API exception : \" hsperr/halite-iv-dqn-example-pytorch \" Notebook not found\n",
      "Kaggle API exception : \" hsperr/halite-iv-dqn-example-pytorch \" Notebook not found\n",
      "Kaggle API exception : \" hsperr/halite-iv-dqn-example-pytorch \" Notebook not found\n",
      "Kaggle API exception : \" hsperr/halite-iv-dqn-example-pytorch \" Notebook not found\n",
      "Kaggle API exception : \" hsperr/halite-iv-dqn-example-pytorch \" Notebook not found\n"
     ]
    }
   ],
   "source": [
    "for keyword in keywords_df['subcategory']:\n",
    "    for i in range(1,11):\n",
    "        try :\n",
    "                kernels = api.kernels_list(search = keyword, page=i)\n",
    "                for kernel in kernels:\n",
    "                    # print(kernel.ref)\n",
    "                    df.loc[len(df)]=[kernel.ref,keyword,search(keyword,keywords_df)]\n",
    "        except Exception as e:\n",
    "            print('Kaggle API exception : \"', kernel.ref, '\" Notebook not found')"
   ]
  },
  {
   "cell_type": "code",
   "execution_count": 16,
   "metadata": {},
   "outputs": [
    {
     "data": {
      "text/html": [
       "<div>\n",
       "<style scoped>\n",
       "    .dataframe tbody tr th:only-of-type {\n",
       "        vertical-align: middle;\n",
       "    }\n",
       "\n",
       "    .dataframe tbody tr th {\n",
       "        vertical-align: top;\n",
       "    }\n",
       "\n",
       "    .dataframe thead th {\n",
       "        text-align: right;\n",
       "    }\n",
       "</style>\n",
       "<table border=\"1\" class=\"dataframe\">\n",
       "  <thead>\n",
       "    <tr style=\"text-align: right;\">\n",
       "      <th></th>\n",
       "      <th>title</th>\n",
       "      <th>subcategory</th>\n",
       "      <th>category</th>\n",
       "    </tr>\n",
       "  </thead>\n",
       "  <tbody>\n",
       "    <tr>\n",
       "      <th>0</th>\n",
       "      <td>sudhirnl7/linear-regression-tutorial</td>\n",
       "      <td>linear regression</td>\n",
       "      <td>regression</td>\n",
       "    </tr>\n",
       "    <tr>\n",
       "      <th>1</th>\n",
       "      <td>goyalshalini93/car-price-prediction-linear-reg...</td>\n",
       "      <td>linear regression</td>\n",
       "      <td>regression</td>\n",
       "    </tr>\n",
       "    <tr>\n",
       "      <th>2</th>\n",
       "      <td>divan0/multiple-linear-regression</td>\n",
       "      <td>linear regression</td>\n",
       "      <td>regression</td>\n",
       "    </tr>\n",
       "    <tr>\n",
       "      <th>3</th>\n",
       "      <td>anthonypino/price-analysis-and-linear-regression</td>\n",
       "      <td>linear regression</td>\n",
       "      <td>regression</td>\n",
       "    </tr>\n",
       "    <tr>\n",
       "      <th>4</th>\n",
       "      <td>vivinbarath/simple-linear-regression-for-salar...</td>\n",
       "      <td>linear regression</td>\n",
       "      <td>regression</td>\n",
       "    </tr>\n",
       "    <tr>\n",
       "      <th>...</th>\n",
       "      <td>...</td>\n",
       "      <td>...</td>\n",
       "      <td>...</td>\n",
       "    </tr>\n",
       "    <tr>\n",
       "      <th>10458</th>\n",
       "      <td>fanbyprinciple/reinforcement-learning-on-opena...</td>\n",
       "      <td>reinforcement</td>\n",
       "      <td>reinforcement learning</td>\n",
       "    </tr>\n",
       "    <tr>\n",
       "      <th>10459</th>\n",
       "      <td>alexisbcook/exercise-one-step-lookahead</td>\n",
       "      <td>reinforcement</td>\n",
       "      <td>reinforcement learning</td>\n",
       "    </tr>\n",
       "    <tr>\n",
       "      <th>10460</th>\n",
       "      <td>alexisbcook/exercise-interactive-maps</td>\n",
       "      <td>reinforcement</td>\n",
       "      <td>reinforcement learning</td>\n",
       "    </tr>\n",
       "    <tr>\n",
       "      <th>10461</th>\n",
       "      <td>lbarbosa/connectx-deep-reinforcement-learning</td>\n",
       "      <td>reinforcement</td>\n",
       "      <td>reinforcement learning</td>\n",
       "    </tr>\n",
       "    <tr>\n",
       "      <th>10462</th>\n",
       "      <td>hsperr/halite-iv-dqn-example-pytorch</td>\n",
       "      <td>reinforcement</td>\n",
       "      <td>reinforcement learning</td>\n",
       "    </tr>\n",
       "  </tbody>\n",
       "</table>\n",
       "<p>10463 rows × 3 columns</p>\n",
       "</div>"
      ],
      "text/plain": [
       "                                                   title        subcategory  \\\n",
       "0                   sudhirnl7/linear-regression-tutorial  linear regression   \n",
       "1      goyalshalini93/car-price-prediction-linear-reg...  linear regression   \n",
       "2                      divan0/multiple-linear-regression  linear regression   \n",
       "3       anthonypino/price-analysis-and-linear-regression  linear regression   \n",
       "4      vivinbarath/simple-linear-regression-for-salar...  linear regression   \n",
       "...                                                  ...                ...   \n",
       "10458  fanbyprinciple/reinforcement-learning-on-opena...      reinforcement   \n",
       "10459            alexisbcook/exercise-one-step-lookahead      reinforcement   \n",
       "10460              alexisbcook/exercise-interactive-maps      reinforcement   \n",
       "10461      lbarbosa/connectx-deep-reinforcement-learning      reinforcement   \n",
       "10462               hsperr/halite-iv-dqn-example-pytorch      reinforcement   \n",
       "\n",
       "                     category  \n",
       "0                  regression  \n",
       "1                  regression  \n",
       "2                  regression  \n",
       "3                  regression  \n",
       "4                  regression  \n",
       "...                       ...  \n",
       "10458  reinforcement learning  \n",
       "10459  reinforcement learning  \n",
       "10460  reinforcement learning  \n",
       "10461  reinforcement learning  \n",
       "10462  reinforcement learning  \n",
       "\n",
       "[10463 rows x 3 columns]"
      ]
     },
     "execution_count": 16,
     "metadata": {},
     "output_type": "execute_result"
    }
   ],
   "source": [
    "df"
   ]
  },
  {
   "cell_type": "code",
   "execution_count": 17,
   "metadata": {},
   "outputs": [
    {
     "data": {
      "text/plain": [
       "'hsperr/halite-iv-dqn-example-pytorch'"
      ]
     },
     "execution_count": 17,
     "metadata": {},
     "output_type": "execute_result"
    }
   ],
   "source": [
    "api.kernels_list(search = 'Halite IV - DQN example - PyTorch')[0].ref"
   ]
  },
  {
   "cell_type": "code",
   "execution_count": 18,
   "metadata": {},
   "outputs": [
    {
     "data": {
      "text/plain": [
       "(                                               title        subcategory  \\\n",
       " 0               sudhirnl7/linear-regression-tutorial  linear regression   \n",
       " 1  goyalshalini93/car-price-prediction-linear-reg...  linear regression   \n",
       " 2                  divan0/multiple-linear-regression  linear regression   \n",
       " 3   anthonypino/price-analysis-and-linear-regression  linear regression   \n",
       " 4  vivinbarath/simple-linear-regression-for-salar...  linear regression   \n",
       " 5                 foxtreme/linear-regression-project  linear regression   \n",
       " 6  aakashns/pytorch-basics-linear-regression-from...  linear regression   \n",
       " 7  nitindatta/fifa-in-depth-analysis-with-linear-...  linear regression   \n",
       " 8   ashydv/sales-prediction-simple-linear-regression  linear regression   \n",
       " 9                       aminizahra/linear-regression  linear regression   \n",
       " \n",
       "      category  \n",
       " 0  regression  \n",
       " 1  regression  \n",
       " 2  regression  \n",
       " 3  regression  \n",
       " 4  regression  \n",
       " 5  regression  \n",
       " 6  regression  \n",
       " 7  regression  \n",
       " 8  regression  \n",
       " 9  regression  ,\n",
       " (10463, 3))"
      ]
     },
     "execution_count": 18,
     "metadata": {},
     "output_type": "execute_result"
    }
   ],
   "source": [
    "df.head(10), df.shape"
   ]
  },
  {
   "cell_type": "markdown",
   "metadata": {},
   "source": [
    "Saving the dataframe to a .csv"
   ]
  },
  {
   "cell_type": "code",
   "execution_count": 19,
   "metadata": {},
   "outputs": [],
   "source": [
    "df.to_csv(DATA_PATH_NOTEBOOKS+'ntb_list.csv')"
   ]
  },
  {
   "cell_type": "code",
   "execution_count": 20,
   "metadata": {},
   "outputs": [
    {
     "data": {
      "text/html": [
       "<div>\n",
       "<style scoped>\n",
       "    .dataframe tbody tr th:only-of-type {\n",
       "        vertical-align: middle;\n",
       "    }\n",
       "\n",
       "    .dataframe tbody tr th {\n",
       "        vertical-align: top;\n",
       "    }\n",
       "\n",
       "    .dataframe thead th {\n",
       "        text-align: right;\n",
       "    }\n",
       "</style>\n",
       "<table border=\"1\" class=\"dataframe\">\n",
       "  <thead>\n",
       "    <tr style=\"text-align: right;\">\n",
       "      <th></th>\n",
       "      <th>category</th>\n",
       "      <th>means</th>\n",
       "    </tr>\n",
       "  </thead>\n",
       "  <tbody>\n",
       "    <tr>\n",
       "      <th>0</th>\n",
       "      <td>computer vision</td>\n",
       "      <td>25.269999</td>\n",
       "    </tr>\n",
       "    <tr>\n",
       "      <th>1</th>\n",
       "      <td>nlp</td>\n",
       "      <td>24.553187</td>\n",
       "    </tr>\n",
       "    <tr>\n",
       "      <th>2</th>\n",
       "      <td>clustering</td>\n",
       "      <td>17.385071</td>\n",
       "    </tr>\n",
       "    <tr>\n",
       "      <th>3</th>\n",
       "      <td>regression</td>\n",
       "      <td>14.479595</td>\n",
       "    </tr>\n",
       "    <tr>\n",
       "      <th>4</th>\n",
       "      <td>classification</td>\n",
       "      <td>11.468986</td>\n",
       "    </tr>\n",
       "    <tr>\n",
       "      <th>5</th>\n",
       "      <td>reinforcement learning</td>\n",
       "      <td>5.505113</td>\n",
       "    </tr>\n",
       "    <tr>\n",
       "      <th>6</th>\n",
       "      <td>clusterings</td>\n",
       "      <td>1.338048</td>\n",
       "    </tr>\n",
       "  </tbody>\n",
       "</table>\n",
       "</div>"
      ],
      "text/plain": [
       "                 category      means\n",
       "0         computer vision  25.269999\n",
       "1                     nlp  24.553187\n",
       "2              clustering  17.385071\n",
       "3              regression  14.479595\n",
       "4          classification  11.468986\n",
       "5  reinforcement learning   5.505113\n",
       "6             clusterings   1.338048"
      ]
     },
     "execution_count": 20,
     "metadata": {},
     "output_type": "execute_result"
    }
   ],
   "source": [
    "means = (df.category.value_counts() / len(df)) * 100\n",
    "\n",
    "meansdf = pd.DataFrame(columns=['category', 'means'])\n",
    "meansdf.category = means.index\n",
    "meansdf.means = means.values\n",
    "\n",
    "meansdf"
   ]
  },
  {
   "cell_type": "code",
   "execution_count": 21,
   "metadata": {},
   "outputs": [
    {
     "data": {
      "text/plain": [
       "<AxesSubplot:xlabel='category', ylabel='means'>"
      ]
     },
     "execution_count": 21,
     "metadata": {},
     "output_type": "execute_result"
    },
    {
     "data": {
      "image/png": "[encoded data removed]",
      "text/plain": [
       "<Figure size 1080x576 with 1 Axes>"
      ]
     },
     "metadata": {
      "needs_background": "light"
     },
     "output_type": "display_data"
    }
   ],
   "source": [
    "import seaborn as sns\n",
    "from matplotlib import pyplot as plt\n",
    "\n",
    "plt.figure(figsize=(15,8))\n",
    "sns.barplot(x='category', y='means', data=meansdf)\n"
   ]
  },
  {
   "cell_type": "markdown",
   "metadata": {},
   "source": [
    "### Before collecting\n",
    "- Delete duplicate notebooks : print duplicate categories => choose best category to keep\n",
    "- Delete notebooks with non-english titles"
   ]
  },
  {
   "cell_type": "code",
   "execution_count": 22,
   "metadata": {},
   "outputs": [
    {
     "data": {
      "text/html": [
       "<div>\n",
       "<style scoped>\n",
       "    .dataframe tbody tr th:only-of-type {\n",
       "        vertical-align: middle;\n",
       "    }\n",
       "\n",
       "    .dataframe tbody tr th {\n",
       "        vertical-align: top;\n",
       "    }\n",
       "\n",
       "    .dataframe thead th {\n",
       "        text-align: right;\n",
       "    }\n",
       "</style>\n",
       "<table border=\"1\" class=\"dataframe\">\n",
       "  <thead>\n",
       "    <tr style=\"text-align: right;\">\n",
       "      <th></th>\n",
       "      <th>title</th>\n",
       "      <th>subcategory</th>\n",
       "      <th>category</th>\n",
       "    </tr>\n",
       "  </thead>\n",
       "  <tbody>\n",
       "    <tr>\n",
       "      <th>0</th>\n",
       "      <td>sudhirnl7/linear-regression-tutorial</td>\n",
       "      <td>linear regression</td>\n",
       "      <td>regression</td>\n",
       "    </tr>\n",
       "    <tr>\n",
       "      <th>1</th>\n",
       "      <td>goyalshalini93/car-price-prediction-linear-reg...</td>\n",
       "      <td>linear regression</td>\n",
       "      <td>regression</td>\n",
       "    </tr>\n",
       "    <tr>\n",
       "      <th>2</th>\n",
       "      <td>divan0/multiple-linear-regression</td>\n",
       "      <td>linear regression</td>\n",
       "      <td>regression</td>\n",
       "    </tr>\n",
       "    <tr>\n",
       "      <th>3</th>\n",
       "      <td>anthonypino/price-analysis-and-linear-regression</td>\n",
       "      <td>linear regression</td>\n",
       "      <td>regression</td>\n",
       "    </tr>\n",
       "    <tr>\n",
       "      <th>4</th>\n",
       "      <td>vivinbarath/simple-linear-regression-for-salar...</td>\n",
       "      <td>linear regression</td>\n",
       "      <td>regression</td>\n",
       "    </tr>\n",
       "  </tbody>\n",
       "</table>\n",
       "</div>"
      ],
      "text/plain": [
       "                                               title        subcategory  \\\n",
       "0               sudhirnl7/linear-regression-tutorial  linear regression   \n",
       "1  goyalshalini93/car-price-prediction-linear-reg...  linear regression   \n",
       "2                  divan0/multiple-linear-regression  linear regression   \n",
       "3   anthonypino/price-analysis-and-linear-regression  linear regression   \n",
       "4  vivinbarath/simple-linear-regression-for-salar...  linear regression   \n",
       "\n",
       "     category  \n",
       "0  regression  \n",
       "1  regression  \n",
       "2  regression  \n",
       "3  regression  \n",
       "4  regression  "
      ]
     },
     "execution_count": 22,
     "metadata": {},
     "output_type": "execute_result"
    }
   ],
   "source": [
    "df = pd.read_csv(DATA_PATH_NOTEBOOKS+'ntb_list.csv', sep=',', encoding='utf-8', index_col=0)\n",
    "df.head()"
   ]
  },
  {
   "cell_type": "code",
   "execution_count": 23,
   "metadata": {},
   "outputs": [
    {
     "data": {
      "text/plain": [
       "(10463, 3)"
      ]
     },
     "execution_count": 23,
     "metadata": {},
     "output_type": "execute_result"
    }
   ],
   "source": [
    "df.shape"
   ]
  },
  {
   "cell_type": "code",
   "execution_count": 24,
   "metadata": {},
   "outputs": [],
   "source": [
    "# a dict with duplicate titles and their respective positions in the df\n",
    "duplicates = df[df.duplicated('title', keep=False)].groupby('title').groups"
   ]
  },
  {
   "cell_type": "code",
   "execution_count": 25,
   "metadata": {},
   "outputs": [],
   "source": [
    "def flatten_list(l):\n",
    "    return [item for sublist in l for item in sublist]"
   ]
  },
  {
   "cell_type": "code",
   "execution_count": 26,
   "metadata": {},
   "outputs": [],
   "source": [
    "import collections\n",
    "\n",
    "def to_be_dropped_indices(dictionary):\n",
    "    to_be_dropped = [] # indices to be dropped from original df\n",
    "    temp = []\n",
    "\n",
    "    for k,v in dictionary.items():\n",
    "        duplicates_df = df[df.index.isin(v.values)]\n",
    "        \n",
    "        # if the rows have the same category, they are all dropped except the last one\n",
    "        if len(set(list(duplicates_df.category))) == 1:\n",
    "            to_be_dropped.append(list(duplicates_df.index[:len(duplicates_df.category)-1]))\n",
    "\n",
    "        else: \n",
    "            # drop least common category duplicates for a notebook\n",
    "            dup_counter = collections.Counter(duplicates_df.category)\n",
    "            most_common = dup_counter.most_common()[0][0]\n",
    "            most_common_i = duplicates_df.index.where(duplicates_df.category == most_common).dropna()[0]\n",
    "\n",
    "            to_be_dropped.append(duplicates_df.index.where(duplicates_df.index != most_common_i).dropna())\n",
    "\n",
    "    return flatten_list(to_be_dropped)"
   ]
  },
  {
   "cell_type": "markdown",
   "metadata": {},
   "source": [
    "Getting indices of rows to be dropped (duplicates)"
   ]
  },
  {
   "cell_type": "code",
   "execution_count": 27,
   "metadata": {},
   "outputs": [
    {
     "data": {
      "text/plain": [
       "(1866, [951, 7211.0, 2983, 3555, 2819, 3342, 3606, 3802, 3944, 4069])"
      ]
     },
     "execution_count": 27,
     "metadata": {},
     "output_type": "execute_result"
    }
   ],
   "source": [
    "to_be_dropped = to_be_dropped_indices(duplicates)\n",
    "len(to_be_dropped), to_be_dropped[:10]"
   ]
  },
  {
   "cell_type": "markdown",
   "metadata": {},
   "source": [
    "Dropping duplicates"
   ]
  },
  {
   "cell_type": "code",
   "execution_count": 28,
   "metadata": {},
   "outputs": [
    {
     "name": "stdout",
     "output_type": "stream",
     "text": [
      "(8597, 3)\n"
     ]
    }
   ],
   "source": [
    "df_clean = df.copy()\n",
    "df_clean.drop(to_be_dropped, inplace=True)\n",
    "print(df_clean.shape)"
   ]
  },
  {
   "cell_type": "markdown",
   "metadata": {},
   "source": [
    "#### Removing non-english titles"
   ]
  },
  {
   "cell_type": "code",
   "execution_count": 29,
   "metadata": {},
   "outputs": [],
   "source": [
    "# tokenize keywords\n",
    "def list_to_unique_words(list):\n",
    "    unique_words = []\n",
    "    for l in list:\n",
    "        unique_words.append(str(l).lower().split())\n",
    "\n",
    "    return flatten_list(unique_words)"
   ]
  },
  {
   "cell_type": "markdown",
   "metadata": {},
   "source": [
    "Update the default *nltk* words list to add our categories and subcategories and other custom words that are domain specific to avoid them being removed"
   ]
  },
  {
   "cell_type": "code",
   "execution_count": 30,
   "metadata": {},
   "outputs": [],
   "source": [
    "lower_categ = list_to_unique_words(list(keywords_df.category))\n",
    "lower_subcateg = list_to_unique_words(list(keywords_df.subcategory))\n",
    "custom_list = ['dataset', 'datasets', 'feature', 'transformer', 'transformers', 'using', 'detect', 'detecting', 'machine', 'intro', 'pca', 'connectx', 'xgboost', 'visualising', 'visualizing', 'gaussian', 'bayesian', 'score', 'scores', 'map', 'maps', 'ml', 'dl', 'algorithm', 'algorithms', 'feature', 'features']"
   ]
  },
  {
   "cell_type": "code",
   "execution_count": 31,
   "metadata": {},
   "outputs": [],
   "source": [
    "import nltk\n",
    "from langdetect import detect\n",
    "from langdetect import detect_langs\n",
    "from langdetect import DetectorFactory\n",
    "DetectorFactory.seed = 0"
   ]
  },
  {
   "cell_type": "code",
   "execution_count": 32,
   "metadata": {},
   "outputs": [],
   "source": [
    "def intersection(lst1, lst2):\n",
    "    lst3 = [value for value in lst1 if value in lst2]\n",
    "    return lst3"
   ]
  },
  {
   "cell_type": "code",
   "execution_count": 36,
   "metadata": {},
   "outputs": [],
   "source": [
    "# nltk.download('words')\n",
    "\n",
    "words = set(nltk.corpus.words.words())\n",
    "\n",
    "words.update(lower_categ)\n",
    "words.update(lower_subcateg)\n",
    "words.update(custom_list)\n",
    "\n",
    "# exepected non-english indices : 353 1594 1640 1584 1664 4412 8273 11540 1081 1715 1642 4693 5320 7295 10615 11629"
   ]
  },
  {
   "cell_type": "code",
   "execution_count": 37,
   "metadata": {},
   "outputs": [],
   "source": [
    "def clean_non_english(df, word_list):\n",
    "    non_english = []\n",
    "    for row in df.index:\n",
    "        \n",
    "        title = df.loc[row, 'title']\n",
    "        try:\n",
    "            # print(df.loc[row, 'title'])\n",
    "            # title = \"Chaii EDA&Baseline 実況\"\n",
    "            clean_title = \" \".join(w for w in nltk.wordpunct_tokenize(title) \\\n",
    "                    if w.lower() in word_list or not w.isalpha())\n",
    "\n",
    "            if ((len(title.split()) - len(clean_title.split())) > 3) or len(clean_title.split()) == 0: \n",
    "                non_english.append(row) # builds list of titles with low # of english words\n",
    "        except Exception as e:\n",
    "            print(e)\n",
    "    return non_english"
   ]
  },
  {
   "cell_type": "code",
   "execution_count": 38,
   "metadata": {},
   "outputs": [
    {
     "data": {
      "text/plain": [
       "[]"
      ]
     },
     "execution_count": 38,
     "metadata": {},
     "output_type": "execute_result"
    }
   ],
   "source": [
    "non_english = clean_non_english(df_clean, words)\n",
    "non_english[:5]"
   ]
  },
  {
   "cell_type": "markdown",
   "metadata": {},
   "source": [
    "We manually detect few titles of notebooks not written in english "
   ]
  },
  {
   "cell_type": "code",
   "execution_count": 39,
   "metadata": {},
   "outputs": [],
   "source": [
    "detected_non_english = [353, 1594, 1640, 1584, 1664, 4412, 8273, 11540, 1081, 1715, 1642, 4693, 5320, 7295, 10615, 11629]"
   ]
  },
  {
   "cell_type": "code",
   "execution_count": 40,
   "metadata": {},
   "outputs": [
    {
     "data": {
      "text/plain": [
       "[]"
      ]
     },
     "execution_count": 40,
     "metadata": {},
     "output_type": "execute_result"
    }
   ],
   "source": [
    "non_english_to_be_dropped = intersection(non_english, detected_non_english)\n",
    "non_english_to_be_dropped"
   ]
  },
  {
   "cell_type": "code",
   "execution_count": 41,
   "metadata": {},
   "outputs": [],
   "source": [
    "df_clean.drop(non_english_to_be_dropped, inplace=True)"
   ]
  },
  {
   "cell_type": "code",
   "execution_count": 42,
   "metadata": {},
   "outputs": [
    {
     "data": {
      "text/plain": [
       "(8597, 3)"
      ]
     },
     "execution_count": 42,
     "metadata": {},
     "output_type": "execute_result"
    }
   ],
   "source": [
    "df_clean.shape"
   ]
  },
  {
   "cell_type": "markdown",
   "metadata": {},
   "source": [
    "Let's now write it the list of notebooks to a .csv file"
   ]
  },
  {
   "cell_type": "code",
   "execution_count": 43,
   "metadata": {},
   "outputs": [],
   "source": [
    "df_clean.to_csv(DATA_PATH_NOTEBOOKS+'ntb_list_clean.csv')"
   ]
  },
  {
   "cell_type": "markdown",
   "metadata": {},
   "source": [
    "# Collecting notebooks by category"
   ]
  },
  {
   "cell_type": "code",
   "execution_count": 21,
   "metadata": {},
   "outputs": [
    {
     "name": "stdout",
     "output_type": "stream",
     "text": [
      "Kaggle API exception :  onrcan/spectral-clustering Notebook not found\n",
      "Kaggle API exception :  sujoys/spectral-clustering Notebook not found\n",
      "Kaggle API exception :  saymasultantufan/k-means-and-birch Notebook not found\n",
      "Kaggle API exception :  mushfiqurrahmanrifat/assignment-birch-clustering Notebook not found\n",
      "Kaggle API exception :  vishnumandala/twitter-sentiment-analysis-using-denclue Notebook not found\n",
      "Kaggle API exception :  bagriaditya/minibatchkmeans Notebook not found\n",
      "Kaggle API exception :  sarthakmaniar27/kmeans-and-kmedoids Notebook not found\n",
      "Kaggle API exception :  ashishpatel26/dbscan Notebook not found\n"
     ]
    }
   ],
   "source": [
    "for i in df_clean.index :\n",
    "        try :\n",
    "                api.kernels_pull(df_clean.loc[i]['title'], path = DATA_PATH_NOTEBOOKS + df_clean.loc[i]['category'])\n",
    "        except Exception as e:\n",
    "            print('Kaggle API exception : ', kernel.ref, 'Notebook not found')"
   ]
  }
 ],
 "metadata": {
  "kernelspec": {
   "display_name": "Python 3.10.5 64-bit",
   "language": "python",
   "name": "python3"
  },
  "language_info": {
   "codemirror_mode": {
    "name": "ipython",
    "version": 3
   },
   "file_extension": ".py",
   "mimetype": "text/x-python",
   "name": "python",
   "nbconvert_exporter": "python",
   "pygments_lexer": "ipython3",
   "version": "3.10.5"
  },
  "orig_nbformat": 4,
  "vscode": {
   "interpreter": {
    "hash": "49ab456e11cde720218fba409a85456f40f210cf294d5c8f56d5f4fb69af5c6b"
   }
  }
 },
 "nbformat": 4,
 "nbformat_minor": 2
}
