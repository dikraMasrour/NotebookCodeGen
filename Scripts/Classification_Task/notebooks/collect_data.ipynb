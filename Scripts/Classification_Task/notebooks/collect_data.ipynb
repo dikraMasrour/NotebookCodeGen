{
 "cells": [
  {
   "cell_type": "markdown",
   "metadata": {},
   "source": [
    "## Kaggle Python public API for data collection : Notebook Classification TASK"
   ]
  },
  {
   "cell_type": "code",
   "execution_count": 1,
   "metadata": {},
   "outputs": [],
   "source": [
    "DATA_PATH_KEYWORDS = '../data/search_keywords.csv'\n",
    "DATA_PATH_NOTEBOOKS = '../data/'"
   ]
  },
  {
   "cell_type": "markdown",
   "metadata": {},
   "source": [
    "Importing librairies"
   ]
  },
  {
   "cell_type": "code",
   "execution_count": 2,
   "metadata": {},
   "outputs": [],
   "source": [
    "import kaggle\n",
    "from kaggle.api.kaggle_api_extended import KaggleApi\n",
    "import pandas as pd"
   ]
  },
  {
   "cell_type": "code",
   "execution_count": 3,
   "metadata": {},
   "outputs": [],
   "source": [
    "api = KaggleApi()\n",
    "api.authenticate()"
   ]
  },
  {
   "cell_type": "markdown",
   "metadata": {},
   "source": [
    "Read the file containing the search keywords used to retrieve notebooks "
   ]
  },
  {
   "cell_type": "code",
   "execution_count": 13,
   "metadata": {},
   "outputs": [
    {
     "data": {
      "text/html": [
       "<div>\n",
       "<style scoped>\n",
       "    .dataframe tbody tr th:only-of-type {\n",
       "        vertical-align: middle;\n",
       "    }\n",
       "\n",
       "    .dataframe tbody tr th {\n",
       "        vertical-align: top;\n",
       "    }\n",
       "\n",
       "    .dataframe thead th {\n",
       "        text-align: right;\n",
       "    }\n",
       "</style>\n",
       "<table border=\"1\" class=\"dataframe\">\n",
       "  <thead>\n",
       "    <tr style=\"text-align: right;\">\n",
       "      <th></th>\n",
       "      <th>subcategory</th>\n",
       "      <th>category</th>\n",
       "    </tr>\n",
       "  </thead>\n",
       "  <tbody>\n",
       "    <tr>\n",
       "      <th>0</th>\n",
       "      <td>linear regression</td>\n",
       "      <td>regression</td>\n",
       "    </tr>\n",
       "    <tr>\n",
       "      <th>1</th>\n",
       "      <td>lasso regression</td>\n",
       "      <td>regression</td>\n",
       "    </tr>\n",
       "    <tr>\n",
       "      <th>2</th>\n",
       "      <td>randomforestregression</td>\n",
       "      <td>regression</td>\n",
       "    </tr>\n",
       "    <tr>\n",
       "      <th>3</th>\n",
       "      <td>ridge regression</td>\n",
       "      <td>regression</td>\n",
       "    </tr>\n",
       "    <tr>\n",
       "      <th>4</th>\n",
       "      <td>XGBRegressor</td>\n",
       "      <td>regression</td>\n",
       "    </tr>\n",
       "    <tr>\n",
       "      <th>...</th>\n",
       "      <td>...</td>\n",
       "      <td>...</td>\n",
       "    </tr>\n",
       "    <tr>\n",
       "      <th>91</th>\n",
       "      <td>sarsa</td>\n",
       "      <td>reinforcement learning</td>\n",
       "    </tr>\n",
       "    <tr>\n",
       "      <th>92</th>\n",
       "      <td>ddpg</td>\n",
       "      <td>reinforcement learning</td>\n",
       "    </tr>\n",
       "    <tr>\n",
       "      <th>93</th>\n",
       "      <td>qlearning</td>\n",
       "      <td>reinforcement learning</td>\n",
       "    </tr>\n",
       "    <tr>\n",
       "      <th>94</th>\n",
       "      <td>markov decision</td>\n",
       "      <td>reinforcement learning</td>\n",
       "    </tr>\n",
       "    <tr>\n",
       "      <th>95</th>\n",
       "      <td>reinforcement</td>\n",
       "      <td>reinforcement learning</td>\n",
       "    </tr>\n",
       "  </tbody>\n",
       "</table>\n",
       "<p>96 rows × 2 columns</p>\n",
       "</div>"
      ],
      "text/plain": [
       "               subcategory                category\n",
       "0        linear regression              regression\n",
       "1         lasso regression              regression\n",
       "2   randomforestregression              regression\n",
       "3         ridge regression              regression\n",
       "4             XGBRegressor              regression\n",
       "..                     ...                     ...\n",
       "91                   sarsa  reinforcement learning\n",
       "92                    ddpg  reinforcement learning\n",
       "93               qlearning  reinforcement learning\n",
       "94         markov decision  reinforcement learning\n",
       "95           reinforcement  reinforcement learning\n",
       "\n",
       "[96 rows x 2 columns]"
      ]
     },
     "execution_count": 13,
     "metadata": {},
     "output_type": "execute_result"
    }
   ],
   "source": [
    "keywords_df = pd.DataFrame(columns=['Category', 'Subcategory'])\n",
    "keywords_df = pd.read_csv(DATA_PATH_KEYWORDS, sep=';') \n",
    "keywords_df"
   ]
  },
  {
   "cell_type": "code",
   "execution_count": 5,
   "metadata": {},
   "outputs": [],
   "source": [
    "def search(sub,data):\n",
    "    for i in data.index:\n",
    "        if data.loc[i]['subcategory'] == sub:\n",
    "            return data.loc[i]['category']"
   ]
  },
  {
   "cell_type": "markdown",
   "metadata": {},
   "source": [
    "# List of notebooks"
   ]
  },
  {
   "cell_type": "code",
   "execution_count": 16,
   "metadata": {},
   "outputs": [],
   "source": [
    "df = pd.DataFrame(columns=['title','subcategory','category'])"
   ]
  },
  {
   "cell_type": "code",
   "execution_count": 17,
   "metadata": {},
   "outputs": [
    {
     "name": "stdout",
     "output_type": "stream",
     "text": [
      "Kaggle API exception : Notebook not found\n",
      "Kaggle API exception : Notebook not found\n",
      "Kaggle API exception : Notebook not found\n",
      "Kaggle API exception : Notebook not found\n",
      "Kaggle API exception : Notebook not found\n",
      "Kaggle API exception : Notebook not found\n",
      "Kaggle API exception : Notebook not found\n",
      "Kaggle API exception : Notebook not found\n",
      "Kaggle API exception : Notebook not found\n",
      "Kaggle API exception : Notebook not found\n",
      "Kaggle API exception : Notebook not found\n",
      "Kaggle API exception : Notebook not found\n",
      "Kaggle API exception : Notebook not found\n",
      "Kaggle API exception : Notebook not found\n",
      "Kaggle API exception : Notebook not found\n",
      "Kaggle API exception : Notebook not found\n",
      "Kaggle API exception : Notebook not found\n",
      "Kaggle API exception : Notebook not found\n",
      "Kaggle API exception : Notebook not found\n",
      "Kaggle API exception : Notebook not found\n",
      "Kaggle API exception : Notebook not found\n",
      "Kaggle API exception : Notebook not found\n",
      "Kaggle API exception : Notebook not found\n",
      "Kaggle API exception : Notebook not found\n",
      "Kaggle API exception : Notebook not found\n",
      "Kaggle API exception : Notebook not found\n",
      "Kaggle API exception : Notebook not found\n",
      "Kaggle API exception : Notebook not found\n",
      "Kaggle API exception : Notebook not found\n",
      "Kaggle API exception : Notebook not found\n",
      "Kaggle API exception : Notebook not found\n",
      "Kaggle API exception : Notebook not found\n",
      "Kaggle API exception : Notebook not found\n",
      "Kaggle API exception : Notebook not found\n",
      "Kaggle API exception : Notebook not found\n"
     ]
    }
   ],
   "source": [
    "for keyword in keywords_df['subcategory']:\n",
    "    for i in range(1,11):\n",
    "        try :\n",
    "                kernels = api.kernels_list(search = keyword, page=i,kernel_type='notebook')\n",
    "                for kernel in kernels:\n",
    "                    df.loc[len(df)]=[kernel,keyword,search(keyword,keywords_df)]\n",
    "        except Exception as e:\n",
    "            print('Kaggle API exception : Notebook not found')"
   ]
  },
  {
   "cell_type": "code",
   "execution_count": null,
   "metadata": {},
   "outputs": [],
   "source": [
    "df"
   ]
  },
  {
   "cell_type": "code",
   "execution_count": 12,
   "metadata": {},
   "outputs": [],
   "source": [
    "df.to_csv(DATA_PATH_NOTEBOOKS+'ntb_list.csv')"
   ]
  },
  {
   "cell_type": "markdown",
   "metadata": {},
   "source": [
    "# Collecting notebooks by category"
   ]
  },
  {
   "cell_type": "code",
   "execution_count": 52,
   "metadata": {},
   "outputs": [
    {
     "name": "stdout",
     "output_type": "stream",
     "text": [
      "Kaggle API exception : Notebook not found\n",
      "Kaggle API exception : Notebook not found\n",
      "Kaggle API exception : Notebook not found\n",
      "Kaggle API exception : Notebook not found\n",
      "Kaggle API exception : Notebook not found\n",
      "Kaggle API exception : Notebook not found\n",
      "Kaggle API exception : Notebook not found\n",
      "Kaggle API exception : Notebook not found\n",
      "Kaggle API exception : Notebook not found\n",
      "Kaggle API exception : Notebook not found\n",
      "Kaggle API exception : Notebook not found\n",
      "Kaggle API exception : Notebook not found\n",
      "Kaggle API exception : Notebook not found\n",
      "Kaggle API exception : Notebook not found\n",
      "Kaggle API exception : Notebook not found\n",
      "Kaggle API exception : Notebook not found\n",
      "Kaggle API exception : Notebook not found\n",
      "Kaggle API exception : Notebook not found\n",
      "Kaggle API exception : Notebook not found\n",
      "Kaggle API exception : Notebook not found\n",
      "Kaggle API exception : Notebook not found\n",
      "Kaggle API exception : Notebook not found\n",
      "Kaggle API exception : Notebook not found\n",
      "Kaggle API exception : Notebook not found\n",
      "Kaggle API exception : Notebook not found\n",
      "Kaggle API exception : Notebook not found\n",
      "Kaggle API exception : Notebook not found\n",
      "Kaggle API exception : Notebook not found\n",
      "Kaggle API exception : Notebook not found\n",
      "Kaggle API exception : Notebook not found\n",
      "Kaggle API exception : Notebook not found\n",
      "Kaggle API exception : Notebook not found\n",
      "Kaggle API exception : Notebook not found\n",
      "Kaggle API exception : Notebook not found\n",
      "Kaggle API exception : Notebook not found\n",
      "Kaggle API exception : Notebook not found\n",
      "Kaggle API exception : Notebook not found\n",
      "Kaggle API exception : Notebook not found\n",
      "Kaggle API exception : Notebook not found\n",
      "Kaggle API exception : Notebook not found\n",
      "Kaggle API exception : Notebook not found\n",
      "Kaggle API exception : Notebook not found\n",
      "Kaggle API exception : Notebook not found\n",
      "Kaggle API exception : Notebook not found\n",
      "Kaggle API exception : Notebook not found\n",
      "Kaggle API exception : Notebook not found\n",
      "Kaggle API exception : Notebook not found\n",
      "Kaggle API exception : Notebook not found\n",
      "Kaggle API exception : Notebook not found\n",
      "Kaggle API exception : Notebook not found\n",
      "Kaggle API exception : Notebook not found\n",
      "Kaggle API exception : Notebook not found\n",
      "Kaggle API exception : Notebook not found\n",
      "Kaggle API exception : Notebook not found\n",
      "Kaggle API exception : Notebook not found\n",
      "Kaggle API exception : Notebook not found\n",
      "Kaggle API exception : Notebook not found\n",
      "Kaggle API exception : Notebook not found\n",
      "Kaggle API exception : Notebook not found\n",
      "Kaggle API exception : Notebook not found\n",
      "Kaggle API exception : Notebook not found\n",
      "Kaggle API exception : Notebook not found\n",
      "Kaggle API exception : Notebook not found\n",
      "Kaggle API exception : Notebook not found\n",
      "Kaggle API exception : Notebook not found\n"
     ]
    }
   ],
   "source": [
    "for keyword in keywords_df['subcategory']:\n",
    "    for i in range(1,16):\n",
    "        try :\n",
    "                kernels = api.kernels_list(search = keyword, page=i)\n",
    "                for kernel in kernels:\n",
    "                        api.kernels_pull(kernel.ref, path = DATA_PATH_NOTEBOOKS + search(keyword,keywords_df))\n",
    "        except Exception as e:\n",
    "            print('Kaggle API exception : Notebook not found')"
   ]
  }
 ],
 "metadata": {
  "kernelspec": {
   "display_name": "Python 3.10.6 64-bit",
   "language": "python",
   "name": "python3"
  },
  "language_info": {
   "codemirror_mode": {
    "name": "ipython",
    "version": 3
   },
   "file_extension": ".py",
   "mimetype": "text/x-python",
   "name": "python",
   "nbconvert_exporter": "python",
   "pygments_lexer": "ipython3",
   "version": "3.10.6"
  },
  "orig_nbformat": 4,
  "vscode": {
   "interpreter": {
    "hash": "5093ef3c9eba5a2350b58945b72c1f122b8b5551b9ae00db57837a16e1175c4c"
   }
  }
 },
 "nbformat": 4,
 "nbformat_minor": 2
}
