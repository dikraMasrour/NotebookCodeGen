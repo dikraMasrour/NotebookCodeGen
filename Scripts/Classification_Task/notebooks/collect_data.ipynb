{
 "cells": [
  {
   "cell_type": "markdown",
   "metadata": {},
   "source": [
    "## Kaggle Python public API for data collection : Notebook Classification TASK"
   ]
  },
  {
   "cell_type": "code",
   "execution_count": 2,
   "metadata": {},
   "outputs": [],
   "source": [
    "DATA_PATH_KEYWORDS = '../data/search_keywords.csv'\n",
    "DATA_PATH_NOTEBOOKS = '../data/'"
   ]
  },
  {
   "cell_type": "markdown",
   "metadata": {},
   "source": [
    "Importing librairies"
   ]
  },
  {
   "cell_type": "code",
   "execution_count": 3,
   "metadata": {},
   "outputs": [],
   "source": [
    "import kaggle\n",
    "from kaggle.api.kaggle_api_extended import KaggleApi\n",
    "import pandas as pd\n",
    "import numpy as np"
   ]
  },
  {
   "cell_type": "code",
   "execution_count": 4,
   "metadata": {},
   "outputs": [],
   "source": [
    "api = KaggleApi()\n",
    "api.authenticate()"
   ]
  },
  {
   "cell_type": "markdown",
   "metadata": {},
   "source": [
    "Read the file containing the search keywords used to retrieve notebooks "
   ]
  },
  {
   "cell_type": "code",
   "execution_count": 5,
   "metadata": {},
   "outputs": [
    {
     "data": {
      "text/html": [
       "<div>\n",
       "<style scoped>\n",
       "    .dataframe tbody tr th:only-of-type {\n",
       "        vertical-align: middle;\n",
       "    }\n",
       "\n",
       "    .dataframe tbody tr th {\n",
       "        vertical-align: top;\n",
       "    }\n",
       "\n",
       "    .dataframe thead th {\n",
       "        text-align: right;\n",
       "    }\n",
       "</style>\n",
       "<table border=\"1\" class=\"dataframe\">\n",
       "  <thead>\n",
       "    <tr style=\"text-align: right;\">\n",
       "      <th></th>\n",
       "      <th>subcategory</th>\n",
       "      <th>category</th>\n",
       "    </tr>\n",
       "  </thead>\n",
       "  <tbody>\n",
       "    <tr>\n",
       "      <th>0</th>\n",
       "      <td>linear regression</td>\n",
       "      <td>regression</td>\n",
       "    </tr>\n",
       "    <tr>\n",
       "      <th>1</th>\n",
       "      <td>lasso regression</td>\n",
       "      <td>regression</td>\n",
       "    </tr>\n",
       "    <tr>\n",
       "      <th>2</th>\n",
       "      <td>randomforestregression</td>\n",
       "      <td>regression</td>\n",
       "    </tr>\n",
       "    <tr>\n",
       "      <th>3</th>\n",
       "      <td>ridge regression</td>\n",
       "      <td>regression</td>\n",
       "    </tr>\n",
       "    <tr>\n",
       "      <th>4</th>\n",
       "      <td>XGBRegressor</td>\n",
       "      <td>regression</td>\n",
       "    </tr>\n",
       "    <tr>\n",
       "      <th>...</th>\n",
       "      <td>...</td>\n",
       "      <td>...</td>\n",
       "    </tr>\n",
       "    <tr>\n",
       "      <th>89</th>\n",
       "      <td>sarsa</td>\n",
       "      <td>reinforcement learning</td>\n",
       "    </tr>\n",
       "    <tr>\n",
       "      <th>90</th>\n",
       "      <td>ddpg</td>\n",
       "      <td>reinforcement learning</td>\n",
       "    </tr>\n",
       "    <tr>\n",
       "      <th>91</th>\n",
       "      <td>qlearning</td>\n",
       "      <td>reinforcement learning</td>\n",
       "    </tr>\n",
       "    <tr>\n",
       "      <th>92</th>\n",
       "      <td>markov decision</td>\n",
       "      <td>reinforcement learning</td>\n",
       "    </tr>\n",
       "    <tr>\n",
       "      <th>93</th>\n",
       "      <td>reinforcement</td>\n",
       "      <td>reinforcement learning</td>\n",
       "    </tr>\n",
       "  </tbody>\n",
       "</table>\n",
       "<p>94 rows × 2 columns</p>\n",
       "</div>"
      ],
      "text/plain": [
       "               subcategory                category\n",
       "0        linear regression              regression\n",
       "1         lasso regression              regression\n",
       "2   randomforestregression              regression\n",
       "3         ridge regression              regression\n",
       "4             XGBRegressor              regression\n",
       "..                     ...                     ...\n",
       "89                   sarsa  reinforcement learning\n",
       "90                    ddpg  reinforcement learning\n",
       "91               qlearning  reinforcement learning\n",
       "92         markov decision  reinforcement learning\n",
       "93           reinforcement  reinforcement learning\n",
       "\n",
       "[94 rows x 2 columns]"
      ]
     },
     "execution_count": 5,
     "metadata": {},
     "output_type": "execute_result"
    }
   ],
   "source": [
    "keywords_df = pd.DataFrame(columns=['Category', 'Subcategory'])\n",
    "keywords_df = pd.read_csv(DATA_PATH_KEYWORDS, sep=';') \n",
    "keywords_df"
   ]
  },
  {
   "cell_type": "markdown",
   "metadata": {},
   "source": [
    "The following function returns the category of a Notebook based on its subcategory"
   ]
  },
  {
   "cell_type": "code",
   "execution_count": 6,
   "metadata": {},
   "outputs": [],
   "source": [
    "def search(sub,data):\n",
    "    for i in data.index:\n",
    "        if data.loc[i]['subcategory'] == sub:\n",
    "            return data.loc[i]['category']"
   ]
  },
  {
   "cell_type": "markdown",
   "metadata": {},
   "source": [
    "# List of notebooks"
   ]
  },
  {
   "cell_type": "code",
   "execution_count": 7,
   "metadata": {},
   "outputs": [],
   "source": [
    "df = pd.DataFrame(columns=['title','subcategory','category'])"
   ]
  },
  {
   "cell_type": "code",
   "execution_count": 8,
   "metadata": {},
   "outputs": [
    {
     "name": "stdout",
     "output_type": "stream",
     "text": [
      "Kaggle API exception : A study on Regression applied to the Ames dataset Notebook not found\n",
      "Kaggle API exception : Predicting flight delays [Tutorial] Notebook not found\n",
      "Kaggle API exception : 🏡 There’s No Place Like Home 💵 Notebook not found\n",
      "Kaggle API exception : Crime Scale Prediction Notebook not found\n",
      "Kaggle API exception : Ridge Regression (Hitters.csv) Notebook not found\n",
      "Kaggle API exception : Ridge Regression (Hitters.csv) Notebook not found\n",
      "Kaggle API exception : Ridge Regression (Hitters.csv) Notebook not found\n",
      "Kaggle API exception : avito_LightGBM with Ridge Feature V 3.0 [0.2219] Notebook not found\n",
      "Kaggle API exception : avito_LightGBM with Ridge Feature V 3.0 [0.2219] Notebook not found\n",
      "Kaggle API exception : avito_LightGBM with Ridge Feature V 3.0 [0.2219] Notebook not found\n",
      "Kaggle API exception : avito_LightGBM with Ridge Feature V 3.0 [0.2219] Notebook not found\n",
      "Kaggle API exception : TPS-FE-XGBRegressor Notebook not found\n",
      "Kaggle API exception : Data Science for tabular data: Advanced Techniques Notebook not found\n",
      "Kaggle API exception : Exploration and analysis - Auto-MPG Notebook not found\n",
      "Kaggle API exception : Exploration and analysis - Auto-MPG Notebook not found\n",
      "Kaggle API exception : 🌎Guide: External Data&Features for MultivariateTS Notebook not found\n",
      "Kaggle API exception : Modelling Lactate Threshold Notebook not found\n",
      "Kaggle API exception : A Detailed Regression Guide with House-pricing Notebook not found\n",
      "Kaggle API exception : Car Price Prediction- Beginner Friendly-(%94.3) Notebook not found\n",
      "Kaggle API exception : Car Price Prediction- Beginner Friendly-(%94.3) Notebook not found\n",
      "Kaggle API exception : US Presidential election EDA from 1976 📊📈📚⚖ Notebook not found\n",
      "Kaggle API exception : ✔ House Price prediction(Top 8%) Notebook not found\n",
      "Kaggle API exception : ✔ House Price prediction(Top 8%) Notebook not found\n",
      "Kaggle API exception : RAPIDS SVR Boost - [17.8] Notebook not found\n",
      "Kaggle API exception : Predict The Burned Area Of Forest Fires Notebook not found\n",
      "Kaggle API exception : EDA + Lasso Notebook not found\n",
      "Kaggle API exception : nykdev ❤︎ Single-layer Perceptron Notebook not found\n",
      "Kaggle API exception : nykdev ❤︎ Single-layer Perceptron Notebook not found\n",
      "Kaggle API exception : nykdev ❤︎ Single-layer Perceptron Notebook not found\n",
      "Kaggle API exception : BankNote Authentication with Multilayer perceptron Notebook not found\n",
      "Kaggle API exception : Titanic Passo a Passo com 8 Modelos ML Pt-br Notebook not found\n",
      "Kaggle API exception : [TPS-AUG-22] EDA + Logistic Regression Baseline Notebook not found\n",
      "Kaggle API exception : Jane Street Market - Baseline Logistic Regression Notebook not found\n",
      "Kaggle API exception : Jane Street Market - Baseline Logistic Regression Notebook not found\n",
      "Kaggle API exception : Jane Street Market - Baseline Logistic Regression Notebook not found\n",
      "Kaggle API exception : Jane Street Market - Baseline Logistic Regression Notebook not found\n",
      "Kaggle API exception : [.851] Logistic regression Notebook not found\n",
      "Kaggle API exception : Visualizing Classifier Boundaries Using Kernel PCA Notebook not found\n",
      "Kaggle API exception : Customer Churn - EDA, 95% Acc and 85% Recall Notebook not found\n",
      "Kaggle API exception : Heart Failure Prediction & Visualization Notebook not found\n",
      "Kaggle API exception : Heart Failure Prediction & Visualization Notebook not found\n",
      "Kaggle API exception : A Journey through Titanic Notebook not found\n",
      "Kaggle API exception : NLP using Naive Bayes(84% Accuracy) Notebook not found\n",
      "Kaggle API exception : NLP using Naive Bayes(84% Accuracy) Notebook not found\n",
      "Kaggle API exception : NLP using Naive Bayes(84% Accuracy) Notebook not found\n",
      "Kaggle API exception : [PART 2] - RAPIDS TfidfVectorizer - [CV 0.700] Notebook not found\n",
      "Kaggle API exception : Recommendation System with CF using KNN Notebook not found\n",
      "Kaggle API exception :  Diabetes Prediction using KNN, DT, DL  Notebook not found\n",
      "Kaggle API exception : Titanic: Voting, Pipeline, Stack, and Guide Notebook not found\n",
      "Kaggle API exception :  Mall Customer Visually Analysis [K-Means] Notebook not found\n",
      "Kaggle API exception : K-means and feature importance for articles Notebook not found\n",
      "Kaggle API exception : RFM Analysis and K-Means Clustering Notebook not found\n",
      "Kaggle API exception : Palmer Penguins - K -Means Clustering Notebook not found\n",
      "Kaggle API exception : Palmer Penguins - K -Means Clustering Notebook not found\n",
      "Kaggle API exception : Basic Clustering Algorithms-Customer Segmentation Notebook not found\n",
      "Kaggle API exception : Hierarchical Clustering - Telco_customer_churn Notebook not found\n",
      "Kaggle API exception : A  Complete Giude of ML Workflow with Python Notebook not found\n",
      "Kaggle API exception : Mall Customer Segmentation Using Hierarchical Clus Notebook not found\n"
     ]
    },
    {
     "ename": "KeyboardInterrupt",
     "evalue": "",
     "output_type": "error",
     "traceback": [
      "\u001b[1;31m---------------------------------------------------------------------------\u001b[0m",
      "\u001b[1;31mKeyboardInterrupt\u001b[0m                         Traceback (most recent call last)",
      "\u001b[1;32mc:\\Users\\dmasrour\\Documents\\NotebookCodeGen\\Scripts\\Classification_Task\\notebooks\\Collect_Data.ipynb Cell 12\u001b[0m in \u001b[0;36m<cell line: 1>\u001b[1;34m()\u001b[0m\n\u001b[0;32m      <a href='vscode-notebook-cell:/c%3A/Users/dmasrour/Documents/NotebookCodeGen/Scripts/Classification_Task/notebooks/Collect_Data.ipynb#X14sZmlsZQ%3D%3D?line=1'>2</a>\u001b[0m \u001b[39mfor\u001b[39;00m i \u001b[39min\u001b[39;00m \u001b[39mrange\u001b[39m(\u001b[39m1\u001b[39m,\u001b[39m11\u001b[39m):\n\u001b[0;32m      <a href='vscode-notebook-cell:/c%3A/Users/dmasrour/Documents/NotebookCodeGen/Scripts/Classification_Task/notebooks/Collect_Data.ipynb#X14sZmlsZQ%3D%3D?line=2'>3</a>\u001b[0m     \u001b[39mtry\u001b[39;00m :\n\u001b[1;32m----> <a href='vscode-notebook-cell:/c%3A/Users/dmasrour/Documents/NotebookCodeGen/Scripts/Classification_Task/notebooks/Collect_Data.ipynb#X14sZmlsZQ%3D%3D?line=3'>4</a>\u001b[0m             kernels \u001b[39m=\u001b[39m api\u001b[39m.\u001b[39;49mkernels_list(search \u001b[39m=\u001b[39;49m keyword, page\u001b[39m=\u001b[39;49mi)\n\u001b[0;32m      <a href='vscode-notebook-cell:/c%3A/Users/dmasrour/Documents/NotebookCodeGen/Scripts/Classification_Task/notebooks/Collect_Data.ipynb#X14sZmlsZQ%3D%3D?line=4'>5</a>\u001b[0m             \u001b[39mfor\u001b[39;00m kernel \u001b[39min\u001b[39;00m kernels:\n\u001b[0;32m      <a href='vscode-notebook-cell:/c%3A/Users/dmasrour/Documents/NotebookCodeGen/Scripts/Classification_Task/notebooks/Collect_Data.ipynb#X14sZmlsZQ%3D%3D?line=5'>6</a>\u001b[0m                 df\u001b[39m.\u001b[39mloc[\u001b[39mlen\u001b[39m(df)]\u001b[39m=\u001b[39m[kernel,keyword,search(keyword,keywords_df)]\n",
      "File \u001b[1;32mc:\\Users\\dmasrour\\AppData\\Local\\Programs\\Python\\Python310\\lib\\site-packages\\kaggle\\api\\kaggle_api_extended.py:1674\u001b[0m, in \u001b[0;36mKaggleApi.kernels_list\u001b[1;34m(self, page, page_size, dataset, competition, parent_kernel, search, mine, user, language, kernel_type, output_type, sort_by)\u001b[0m\n\u001b[0;32m   1670\u001b[0m \u001b[39mif\u001b[39;00m mine:\n\u001b[0;32m   1671\u001b[0m     group \u001b[39m=\u001b[39m \u001b[39m'\u001b[39m\u001b[39mprofile\u001b[39m\u001b[39m'\u001b[39m\n\u001b[0;32m   1673\u001b[0m kernels_list_result \u001b[39m=\u001b[39m \u001b[39mself\u001b[39m\u001b[39m.\u001b[39mprocess_response(\n\u001b[1;32m-> 1674\u001b[0m     \u001b[39mself\u001b[39;49m\u001b[39m.\u001b[39;49mkernels_list_with_http_info(page\u001b[39m=\u001b[39;49mpage,\n\u001b[0;32m   1675\u001b[0m                                      page_size\u001b[39m=\u001b[39;49mpage_size,\n\u001b[0;32m   1676\u001b[0m                                      group\u001b[39m=\u001b[39;49mgroup,\n\u001b[0;32m   1677\u001b[0m                                      user\u001b[39m=\u001b[39;49muser \u001b[39mor\u001b[39;49;00m \u001b[39m'\u001b[39;49m\u001b[39m'\u001b[39;49m,\n\u001b[0;32m   1678\u001b[0m                                      language\u001b[39m=\u001b[39;49mlanguage \u001b[39mor\u001b[39;49;00m \u001b[39m'\u001b[39;49m\u001b[39mall\u001b[39;49m\u001b[39m'\u001b[39;49m,\n\u001b[0;32m   1679\u001b[0m                                      kernel_type\u001b[39m=\u001b[39;49mkernel_type \u001b[39mor\u001b[39;49;00m \u001b[39m'\u001b[39;49m\u001b[39mall\u001b[39;49m\u001b[39m'\u001b[39;49m,\n\u001b[0;32m   1680\u001b[0m                                      output_type\u001b[39m=\u001b[39;49moutput_type \u001b[39mor\u001b[39;49;00m \u001b[39m'\u001b[39;49m\u001b[39mall\u001b[39;49m\u001b[39m'\u001b[39;49m,\n\u001b[0;32m   1681\u001b[0m                                      sort_by\u001b[39m=\u001b[39;49msort_by \u001b[39mor\u001b[39;49;00m \u001b[39m'\u001b[39;49m\u001b[39mhotness\u001b[39;49m\u001b[39m'\u001b[39;49m,\n\u001b[0;32m   1682\u001b[0m                                      dataset\u001b[39m=\u001b[39;49mdataset \u001b[39mor\u001b[39;49;00m \u001b[39m'\u001b[39;49m\u001b[39m'\u001b[39;49m,\n\u001b[0;32m   1683\u001b[0m                                      competition\u001b[39m=\u001b[39;49mcompetition \u001b[39mor\u001b[39;49;00m \u001b[39m'\u001b[39;49m\u001b[39m'\u001b[39;49m,\n\u001b[0;32m   1684\u001b[0m                                      parent_kernel\u001b[39m=\u001b[39;49mparent_kernel \u001b[39mor\u001b[39;49;00m \u001b[39m'\u001b[39;49m\u001b[39m'\u001b[39;49m,\n\u001b[0;32m   1685\u001b[0m                                      search\u001b[39m=\u001b[39;49msearch \u001b[39mor\u001b[39;49;00m \u001b[39m'\u001b[39;49m\u001b[39m'\u001b[39;49m))\n\u001b[0;32m   1686\u001b[0m \u001b[39mreturn\u001b[39;00m [Kernel(k) \u001b[39mfor\u001b[39;00m k \u001b[39min\u001b[39;00m kernels_list_result]\n",
      "File \u001b[1;32mc:\\Users\\dmasrour\\AppData\\Local\\Programs\\Python\\Python310\\lib\\site-packages\\kaggle\\api\\kaggle_api.py:2657\u001b[0m, in \u001b[0;36mKaggleApi.kernels_list_with_http_info\u001b[1;34m(self, **kwargs)\u001b[0m\n\u001b[0;32m   2654\u001b[0m \u001b[39m# Authentication setting\u001b[39;00m\n\u001b[0;32m   2655\u001b[0m auth_settings \u001b[39m=\u001b[39m [\u001b[39m'\u001b[39m\u001b[39mbasicAuth\u001b[39m\u001b[39m'\u001b[39m]  \u001b[39m# noqa: E501\u001b[39;00m\n\u001b[1;32m-> 2657\u001b[0m \u001b[39mreturn\u001b[39;00m \u001b[39mself\u001b[39;49m\u001b[39m.\u001b[39;49mapi_client\u001b[39m.\u001b[39;49mcall_api(\n\u001b[0;32m   2658\u001b[0m     \u001b[39m'\u001b[39;49m\u001b[39m/kernels/list\u001b[39;49m\u001b[39m'\u001b[39;49m, \u001b[39m'\u001b[39;49m\u001b[39mGET\u001b[39;49m\u001b[39m'\u001b[39;49m,\n\u001b[0;32m   2659\u001b[0m     path_params,\n\u001b[0;32m   2660\u001b[0m     query_params,\n\u001b[0;32m   2661\u001b[0m     header_params,\n\u001b[0;32m   2662\u001b[0m     body\u001b[39m=\u001b[39;49mbody_params,\n\u001b[0;32m   2663\u001b[0m     post_params\u001b[39m=\u001b[39;49mform_params,\n\u001b[0;32m   2664\u001b[0m     files\u001b[39m=\u001b[39;49mlocal_var_files,\n\u001b[0;32m   2665\u001b[0m     response_type\u001b[39m=\u001b[39;49m\u001b[39m'\u001b[39;49m\u001b[39mResult\u001b[39;49m\u001b[39m'\u001b[39;49m,  \u001b[39m# noqa: E501\u001b[39;49;00m\n\u001b[0;32m   2666\u001b[0m     auth_settings\u001b[39m=\u001b[39;49mauth_settings,\n\u001b[0;32m   2667\u001b[0m     async_req\u001b[39m=\u001b[39;49mparams\u001b[39m.\u001b[39;49mget(\u001b[39m'\u001b[39;49m\u001b[39masync_req\u001b[39;49m\u001b[39m'\u001b[39;49m),\n\u001b[0;32m   2668\u001b[0m     _return_http_data_only\u001b[39m=\u001b[39;49mparams\u001b[39m.\u001b[39;49mget(\u001b[39m'\u001b[39;49m\u001b[39m_return_http_data_only\u001b[39;49m\u001b[39m'\u001b[39;49m),\n\u001b[0;32m   2669\u001b[0m     _preload_content\u001b[39m=\u001b[39;49mparams\u001b[39m.\u001b[39;49mget(\u001b[39m'\u001b[39;49m\u001b[39m_preload_content\u001b[39;49m\u001b[39m'\u001b[39;49m, \u001b[39mTrue\u001b[39;49;00m),\n\u001b[0;32m   2670\u001b[0m     _request_timeout\u001b[39m=\u001b[39;49mparams\u001b[39m.\u001b[39;49mget(\u001b[39m'\u001b[39;49m\u001b[39m_request_timeout\u001b[39;49m\u001b[39m'\u001b[39;49m),\n\u001b[0;32m   2671\u001b[0m     collection_formats\u001b[39m=\u001b[39;49mcollection_formats)\n",
      "File \u001b[1;32mc:\\Users\\dmasrour\\AppData\\Local\\Programs\\Python\\Python310\\lib\\site-packages\\kaggle\\api_client.py:329\u001b[0m, in \u001b[0;36mApiClient.call_api\u001b[1;34m(self, resource_path, method, path_params, query_params, header_params, body, post_params, files, response_type, auth_settings, async_req, _return_http_data_only, collection_formats, _preload_content, _request_timeout)\u001b[0m\n\u001b[0;32m    292\u001b[0m \u001b[39m\"\"\"Makes the HTTP request (synchronous) and returns deserialized data.\u001b[39;00m\n\u001b[0;32m    293\u001b[0m \n\u001b[0;32m    294\u001b[0m \u001b[39mTo make an async request, set the async_req parameter.\u001b[39;00m\n\u001b[1;32m   (...)\u001b[0m\n\u001b[0;32m    326\u001b[0m \u001b[39m    then the method will return the response directly.\u001b[39;00m\n\u001b[0;32m    327\u001b[0m \u001b[39m\"\"\"\u001b[39;00m\n\u001b[0;32m    328\u001b[0m \u001b[39mif\u001b[39;00m \u001b[39mnot\u001b[39;00m async_req:\n\u001b[1;32m--> 329\u001b[0m     \u001b[39mreturn\u001b[39;00m \u001b[39mself\u001b[39;49m\u001b[39m.\u001b[39;49m__call_api(resource_path, method,\n\u001b[0;32m    330\u001b[0m                            path_params, query_params, header_params,\n\u001b[0;32m    331\u001b[0m                            body, post_params, files,\n\u001b[0;32m    332\u001b[0m                            response_type, auth_settings,\n\u001b[0;32m    333\u001b[0m                            _return_http_data_only, collection_formats,\n\u001b[0;32m    334\u001b[0m                            _preload_content, _request_timeout)\n\u001b[0;32m    335\u001b[0m \u001b[39melse\u001b[39;00m:\n\u001b[0;32m    336\u001b[0m     thread \u001b[39m=\u001b[39m \u001b[39mself\u001b[39m\u001b[39m.\u001b[39mpool\u001b[39m.\u001b[39mapply_async(\u001b[39mself\u001b[39m\u001b[39m.\u001b[39m__call_api, (resource_path,\n\u001b[0;32m    337\u001b[0m                                    method, path_params, query_params,\n\u001b[0;32m    338\u001b[0m                                    header_params, body,\n\u001b[1;32m   (...)\u001b[0m\n\u001b[0;32m    342\u001b[0m                                    collection_formats,\n\u001b[0;32m    343\u001b[0m                                    _preload_content, _request_timeout))\n",
      "File \u001b[1;32mc:\\Users\\dmasrour\\AppData\\Local\\Programs\\Python\\Python310\\lib\\site-packages\\kaggle\\api_client.py:161\u001b[0m, in \u001b[0;36mApiClient.__call_api\u001b[1;34m(self, resource_path, method, path_params, query_params, header_params, body, post_params, files, response_type, auth_settings, _return_http_data_only, collection_formats, _preload_content, _request_timeout)\u001b[0m\n\u001b[0;32m    158\u001b[0m url \u001b[39m=\u001b[39m \u001b[39mself\u001b[39m\u001b[39m.\u001b[39mconfiguration\u001b[39m.\u001b[39mhost \u001b[39m+\u001b[39m resource_path\n\u001b[0;32m    160\u001b[0m \u001b[39m# perform request and return response\u001b[39;00m\n\u001b[1;32m--> 161\u001b[0m response_data \u001b[39m=\u001b[39m \u001b[39mself\u001b[39;49m\u001b[39m.\u001b[39;49mrequest(\n\u001b[0;32m    162\u001b[0m     method, url, query_params\u001b[39m=\u001b[39;49mquery_params, headers\u001b[39m=\u001b[39;49mheader_params,\n\u001b[0;32m    163\u001b[0m     post_params\u001b[39m=\u001b[39;49mpost_params, body\u001b[39m=\u001b[39;49mbody,\n\u001b[0;32m    164\u001b[0m     _preload_content\u001b[39m=\u001b[39;49m_preload_content,\n\u001b[0;32m    165\u001b[0m     _request_timeout\u001b[39m=\u001b[39;49m_request_timeout)\n\u001b[0;32m    167\u001b[0m \u001b[39mself\u001b[39m\u001b[39m.\u001b[39mlast_response \u001b[39m=\u001b[39m response_data\n\u001b[0;32m    169\u001b[0m return_data \u001b[39m=\u001b[39m response_data\n",
      "File \u001b[1;32mc:\\Users\\dmasrour\\AppData\\Local\\Programs\\Python\\Python310\\lib\\site-packages\\kaggle\\api_client.py:351\u001b[0m, in \u001b[0;36mApiClient.request\u001b[1;34m(self, method, url, query_params, headers, post_params, body, _preload_content, _request_timeout)\u001b[0m\n\u001b[0;32m    349\u001b[0m \u001b[39m\"\"\"Makes the HTTP request using RESTClient.\"\"\"\u001b[39;00m\n\u001b[0;32m    350\u001b[0m \u001b[39mif\u001b[39;00m method \u001b[39m==\u001b[39m \u001b[39m\"\u001b[39m\u001b[39mGET\u001b[39m\u001b[39m\"\u001b[39m:\n\u001b[1;32m--> 351\u001b[0m     \u001b[39mreturn\u001b[39;00m \u001b[39mself\u001b[39;49m\u001b[39m.\u001b[39;49mrest_client\u001b[39m.\u001b[39;49mGET(url,\n\u001b[0;32m    352\u001b[0m                                 query_params\u001b[39m=\u001b[39;49mquery_params,\n\u001b[0;32m    353\u001b[0m                                 _preload_content\u001b[39m=\u001b[39;49m_preload_content,\n\u001b[0;32m    354\u001b[0m                                 _request_timeout\u001b[39m=\u001b[39;49m_request_timeout,\n\u001b[0;32m    355\u001b[0m                                 headers\u001b[39m=\u001b[39;49mheaders)\n\u001b[0;32m    356\u001b[0m \u001b[39melif\u001b[39;00m method \u001b[39m==\u001b[39m \u001b[39m\"\u001b[39m\u001b[39mHEAD\u001b[39m\u001b[39m\"\u001b[39m:\n\u001b[0;32m    357\u001b[0m     \u001b[39mreturn\u001b[39;00m \u001b[39mself\u001b[39m\u001b[39m.\u001b[39mrest_client\u001b[39m.\u001b[39mHEAD(url,\n\u001b[0;32m    358\u001b[0m                                  query_params\u001b[39m=\u001b[39mquery_params,\n\u001b[0;32m    359\u001b[0m                                  _preload_content\u001b[39m=\u001b[39m_preload_content,\n\u001b[0;32m    360\u001b[0m                                  _request_timeout\u001b[39m=\u001b[39m_request_timeout,\n\u001b[0;32m    361\u001b[0m                                  headers\u001b[39m=\u001b[39mheaders)\n",
      "File \u001b[1;32mc:\\Users\\dmasrour\\AppData\\Local\\Programs\\Python\\Python310\\lib\\site-packages\\kaggle\\rest.py:247\u001b[0m, in \u001b[0;36mRESTClientObject.GET\u001b[1;34m(self, url, headers, query_params, _preload_content, _request_timeout)\u001b[0m\n\u001b[0;32m    245\u001b[0m \u001b[39mdef\u001b[39;00m \u001b[39mGET\u001b[39m(\u001b[39mself\u001b[39m, url, headers\u001b[39m=\u001b[39m\u001b[39mNone\u001b[39;00m, query_params\u001b[39m=\u001b[39m\u001b[39mNone\u001b[39;00m, _preload_content\u001b[39m=\u001b[39m\u001b[39mTrue\u001b[39;00m,\n\u001b[0;32m    246\u001b[0m         _request_timeout\u001b[39m=\u001b[39m\u001b[39mNone\u001b[39;00m):\n\u001b[1;32m--> 247\u001b[0m     \u001b[39mreturn\u001b[39;00m \u001b[39mself\u001b[39;49m\u001b[39m.\u001b[39;49mrequest(\u001b[39m\"\u001b[39;49m\u001b[39mGET\u001b[39;49m\u001b[39m\"\u001b[39;49m, url,\n\u001b[0;32m    248\u001b[0m                         headers\u001b[39m=\u001b[39;49mheaders,\n\u001b[0;32m    249\u001b[0m                         _preload_content\u001b[39m=\u001b[39;49m_preload_content,\n\u001b[0;32m    250\u001b[0m                         _request_timeout\u001b[39m=\u001b[39;49m_request_timeout,\n\u001b[0;32m    251\u001b[0m                         query_params\u001b[39m=\u001b[39;49mquery_params)\n",
      "File \u001b[1;32mc:\\Users\\dmasrour\\AppData\\Local\\Programs\\Python\\Python310\\lib\\site-packages\\kaggle\\rest.py:220\u001b[0m, in \u001b[0;36mRESTClientObject.request\u001b[1;34m(self, method, url, query_params, headers, body, post_params, _preload_content, _request_timeout)\u001b[0m\n\u001b[0;32m    217\u001b[0m             \u001b[39mraise\u001b[39;00m ApiException(status\u001b[39m=\u001b[39m\u001b[39m0\u001b[39m, reason\u001b[39m=\u001b[39mmsg)\n\u001b[0;32m    218\u001b[0m     \u001b[39m# For `GET`, `HEAD`\u001b[39;00m\n\u001b[0;32m    219\u001b[0m     \u001b[39melse\u001b[39;00m:\n\u001b[1;32m--> 220\u001b[0m         r \u001b[39m=\u001b[39m \u001b[39mself\u001b[39;49m\u001b[39m.\u001b[39;49mpool_manager\u001b[39m.\u001b[39;49mrequest(method, url,\n\u001b[0;32m    221\u001b[0m                                       fields\u001b[39m=\u001b[39;49mquery_params,\n\u001b[0;32m    222\u001b[0m                                       preload_content\u001b[39m=\u001b[39;49m_preload_content,\n\u001b[0;32m    223\u001b[0m                                       timeout\u001b[39m=\u001b[39;49mtimeout,\n\u001b[0;32m    224\u001b[0m                                       headers\u001b[39m=\u001b[39;49mheaders)\n\u001b[0;32m    225\u001b[0m \u001b[39mexcept\u001b[39;00m urllib3\u001b[39m.\u001b[39mexceptions\u001b[39m.\u001b[39mSSLError \u001b[39mas\u001b[39;00m e:\n\u001b[0;32m    226\u001b[0m     msg \u001b[39m=\u001b[39m \u001b[39m\"\u001b[39m\u001b[39m{0}\u001b[39;00m\u001b[39m\\n\u001b[39;00m\u001b[39m{1}\u001b[39;00m\u001b[39m\"\u001b[39m\u001b[39m.\u001b[39mformat(\u001b[39mtype\u001b[39m(e)\u001b[39m.\u001b[39m\u001b[39m__name__\u001b[39m, \u001b[39mstr\u001b[39m(e))\n",
      "File \u001b[1;32mc:\\Users\\dmasrour\\AppData\\Local\\Programs\\Python\\Python310\\lib\\site-packages\\urllib3\\request.py:74\u001b[0m, in \u001b[0;36mRequestMethods.request\u001b[1;34m(self, method, url, fields, headers, **urlopen_kw)\u001b[0m\n\u001b[0;32m     71\u001b[0m urlopen_kw[\u001b[39m\"\u001b[39m\u001b[39mrequest_url\u001b[39m\u001b[39m\"\u001b[39m] \u001b[39m=\u001b[39m url\n\u001b[0;32m     73\u001b[0m \u001b[39mif\u001b[39;00m method \u001b[39min\u001b[39;00m \u001b[39mself\u001b[39m\u001b[39m.\u001b[39m_encode_url_methods:\n\u001b[1;32m---> 74\u001b[0m     \u001b[39mreturn\u001b[39;00m \u001b[39mself\u001b[39m\u001b[39m.\u001b[39mrequest_encode_url(\n\u001b[0;32m     75\u001b[0m         method, url, fields\u001b[39m=\u001b[39mfields, headers\u001b[39m=\u001b[39mheaders, \u001b[39m*\u001b[39m\u001b[39m*\u001b[39murlopen_kw\n\u001b[0;32m     76\u001b[0m     )\n\u001b[0;32m     77\u001b[0m \u001b[39melse\u001b[39;00m:\n\u001b[0;32m     78\u001b[0m     \u001b[39mreturn\u001b[39;00m \u001b[39mself\u001b[39m\u001b[39m.\u001b[39mrequest_encode_body(\n\u001b[0;32m     79\u001b[0m         method, url, fields\u001b[39m=\u001b[39mfields, headers\u001b[39m=\u001b[39mheaders, \u001b[39m*\u001b[39m\u001b[39m*\u001b[39murlopen_kw\n\u001b[0;32m     80\u001b[0m     )\n",
      "File \u001b[1;32mc:\\Users\\dmasrour\\AppData\\Local\\Programs\\Python\\Python310\\lib\\site-packages\\urllib3\\request.py:96\u001b[0m, in \u001b[0;36mRequestMethods.request_encode_url\u001b[1;34m(self, method, url, fields, headers, **urlopen_kw)\u001b[0m\n\u001b[0;32m     93\u001b[0m \u001b[39mif\u001b[39;00m fields:\n\u001b[0;32m     94\u001b[0m     url \u001b[39m+\u001b[39m\u001b[39m=\u001b[39m \u001b[39m\"\u001b[39m\u001b[39m?\u001b[39m\u001b[39m\"\u001b[39m \u001b[39m+\u001b[39m urlencode(fields)\n\u001b[1;32m---> 96\u001b[0m \u001b[39mreturn\u001b[39;00m \u001b[39mself\u001b[39m\u001b[39m.\u001b[39murlopen(method, url, \u001b[39m*\u001b[39m\u001b[39m*\u001b[39mextra_kw)\n",
      "File \u001b[1;32mc:\\Users\\dmasrour\\AppData\\Local\\Programs\\Python\\Python310\\lib\\site-packages\\urllib3\\poolmanager.py:376\u001b[0m, in \u001b[0;36mPoolManager.urlopen\u001b[1;34m(self, method, url, redirect, **kw)\u001b[0m\n\u001b[0;32m    374\u001b[0m     response \u001b[39m=\u001b[39m conn\u001b[39m.\u001b[39murlopen(method, url, \u001b[39m*\u001b[39m\u001b[39m*\u001b[39mkw)\n\u001b[0;32m    375\u001b[0m \u001b[39melse\u001b[39;00m:\n\u001b[1;32m--> 376\u001b[0m     response \u001b[39m=\u001b[39m conn\u001b[39m.\u001b[39murlopen(method, u\u001b[39m.\u001b[39mrequest_uri, \u001b[39m*\u001b[39m\u001b[39m*\u001b[39mkw)\n\u001b[0;32m    378\u001b[0m redirect_location \u001b[39m=\u001b[39m redirect \u001b[39mand\u001b[39;00m response\u001b[39m.\u001b[39mget_redirect_location()\n\u001b[0;32m    379\u001b[0m \u001b[39mif\u001b[39;00m \u001b[39mnot\u001b[39;00m redirect_location:\n",
      "File \u001b[1;32mc:\\Users\\dmasrour\\AppData\\Local\\Programs\\Python\\Python310\\lib\\site-packages\\urllib3\\connectionpool.py:876\u001b[0m, in \u001b[0;36mHTTPConnectionPool.urlopen\u001b[1;34m(self, method, url, body, headers, retries, redirect, assert_same_host, timeout, pool_timeout, release_conn, chunked, body_pos, **response_kw)\u001b[0m\n\u001b[0;32m    873\u001b[0m     \u001b[39mreturn\u001b[39;00m response\n\u001b[0;32m    875\u001b[0m response\u001b[39m.\u001b[39mdrain_conn()\n\u001b[1;32m--> 876\u001b[0m retries\u001b[39m.\u001b[39;49msleep(response)\n\u001b[0;32m    877\u001b[0m log\u001b[39m.\u001b[39mdebug(\u001b[39m\"\u001b[39m\u001b[39mRetry: \u001b[39m\u001b[39m%s\u001b[39;00m\u001b[39m\"\u001b[39m, url)\n\u001b[0;32m    878\u001b[0m \u001b[39mreturn\u001b[39;00m \u001b[39mself\u001b[39m\u001b[39m.\u001b[39murlopen(\n\u001b[0;32m    879\u001b[0m     method,\n\u001b[0;32m    880\u001b[0m     url,\n\u001b[1;32m   (...)\u001b[0m\n\u001b[0;32m    891\u001b[0m     \u001b[39m*\u001b[39m\u001b[39m*\u001b[39mresponse_kw\n\u001b[0;32m    892\u001b[0m )\n",
      "File \u001b[1;32mc:\\Users\\dmasrour\\AppData\\Local\\Programs\\Python\\Python310\\lib\\site-packages\\urllib3\\util\\retry.py:428\u001b[0m, in \u001b[0;36mRetry.sleep\u001b[1;34m(self, response)\u001b[0m\n\u001b[0;32m    419\u001b[0m \u001b[39m\"\"\"Sleep between retry attempts.\u001b[39;00m\n\u001b[0;32m    420\u001b[0m \n\u001b[0;32m    421\u001b[0m \u001b[39mThis method will respect a server's ``Retry-After`` response header\u001b[39;00m\n\u001b[1;32m   (...)\u001b[0m\n\u001b[0;32m    424\u001b[0m \u001b[39mthis method will return immediately.\u001b[39;00m\n\u001b[0;32m    425\u001b[0m \u001b[39m\"\"\"\u001b[39;00m\n\u001b[0;32m    427\u001b[0m \u001b[39mif\u001b[39;00m \u001b[39mself\u001b[39m\u001b[39m.\u001b[39mrespect_retry_after_header \u001b[39mand\u001b[39;00m response:\n\u001b[1;32m--> 428\u001b[0m     slept \u001b[39m=\u001b[39m \u001b[39mself\u001b[39;49m\u001b[39m.\u001b[39;49msleep_for_retry(response)\n\u001b[0;32m    429\u001b[0m     \u001b[39mif\u001b[39;00m slept:\n\u001b[0;32m    430\u001b[0m         \u001b[39mreturn\u001b[39;00m\n",
      "File \u001b[1;32mc:\\Users\\dmasrour\\AppData\\Local\\Programs\\Python\\Python310\\lib\\site-packages\\urllib3\\util\\retry.py:407\u001b[0m, in \u001b[0;36mRetry.sleep_for_retry\u001b[1;34m(self, response)\u001b[0m\n\u001b[0;32m    405\u001b[0m retry_after \u001b[39m=\u001b[39m \u001b[39mself\u001b[39m\u001b[39m.\u001b[39mget_retry_after(response)\n\u001b[0;32m    406\u001b[0m \u001b[39mif\u001b[39;00m retry_after:\n\u001b[1;32m--> 407\u001b[0m     time\u001b[39m.\u001b[39;49msleep(retry_after)\n\u001b[0;32m    408\u001b[0m     \u001b[39mreturn\u001b[39;00m \u001b[39mTrue\u001b[39;00m\n\u001b[0;32m    410\u001b[0m \u001b[39mreturn\u001b[39;00m \u001b[39mFalse\u001b[39;00m\n",
      "\u001b[1;31mKeyboardInterrupt\u001b[0m: "
     ]
    }
   ],
   "source": [
    "for keyword in keywords_df['subcategory']:\n",
    "    for i in range(1,11):\n",
    "        try :\n",
    "                kernels = api.kernels_list(search = keyword, page=i)\n",
    "                for kernel in kernels:\n",
    "                    df.loc[len(df)]=[kernel,keyword,search(keyword,keywords_df)]\n",
    "        except Exception as e:\n",
    "            print('Kaggle API exception :', kernel, 'Notebook not found')"
   ]
  },
  {
   "cell_type": "code",
   "execution_count": 21,
   "metadata": {},
   "outputs": [
    {
     "data": {
      "text/html": [
       "<div>\n",
       "<style scoped>\n",
       "    .dataframe tbody tr th:only-of-type {\n",
       "        vertical-align: middle;\n",
       "    }\n",
       "\n",
       "    .dataframe tbody tr th {\n",
       "        vertical-align: top;\n",
       "    }\n",
       "\n",
       "    .dataframe thead th {\n",
       "        text-align: right;\n",
       "    }\n",
       "</style>\n",
       "<table border=\"1\" class=\"dataframe\">\n",
       "  <thead>\n",
       "    <tr style=\"text-align: right;\">\n",
       "      <th></th>\n",
       "      <th>title</th>\n",
       "      <th>subcategory</th>\n",
       "      <th>category</th>\n",
       "    </tr>\n",
       "  </thead>\n",
       "  <tbody>\n",
       "    <tr>\n",
       "      <th>0</th>\n",
       "      <td>Linear Regression Tutorial</td>\n",
       "      <td>linear regression</td>\n",
       "      <td>regression</td>\n",
       "    </tr>\n",
       "    <tr>\n",
       "      <th>1</th>\n",
       "      <td>Car Price Prediction (Linear Regression - RFE)</td>\n",
       "      <td>linear regression</td>\n",
       "      <td>regression</td>\n",
       "    </tr>\n",
       "    <tr>\n",
       "      <th>2</th>\n",
       "      <td>Multiple Linear Regression</td>\n",
       "      <td>linear regression</td>\n",
       "      <td>regression</td>\n",
       "    </tr>\n",
       "    <tr>\n",
       "      <th>3</th>\n",
       "      <td>Simple Linear Regression for Salary Data</td>\n",
       "      <td>linear regression</td>\n",
       "      <td>regression</td>\n",
       "    </tr>\n",
       "    <tr>\n",
       "      <th>4</th>\n",
       "      <td>Price analysis and Linear Regression</td>\n",
       "      <td>linear regression</td>\n",
       "      <td>regression</td>\n",
       "    </tr>\n",
       "    <tr>\n",
       "      <th>5</th>\n",
       "      <td>Linear Regression Project</td>\n",
       "      <td>linear regression</td>\n",
       "      <td>regression</td>\n",
       "    </tr>\n",
       "    <tr>\n",
       "      <th>6</th>\n",
       "      <td>PyTorch basics - Linear Regression from scratch</td>\n",
       "      <td>linear regression</td>\n",
       "      <td>regression</td>\n",
       "    </tr>\n",
       "    <tr>\n",
       "      <th>7</th>\n",
       "      <td>FIFA in depth analysis with Linear Regression</td>\n",
       "      <td>linear regression</td>\n",
       "      <td>regression</td>\n",
       "    </tr>\n",
       "    <tr>\n",
       "      <th>8</th>\n",
       "      <td>Sales Prediction (Simple Linear Regression)</td>\n",
       "      <td>linear regression</td>\n",
       "      <td>regression</td>\n",
       "    </tr>\n",
       "    <tr>\n",
       "      <th>9</th>\n",
       "      <td>Linear Regression</td>\n",
       "      <td>linear regression</td>\n",
       "      <td>regression</td>\n",
       "    </tr>\n",
       "  </tbody>\n",
       "</table>\n",
       "</div>"
      ],
      "text/plain": [
       "                                             title        subcategory  \\\n",
       "0                       Linear Regression Tutorial  linear regression   \n",
       "1   Car Price Prediction (Linear Regression - RFE)  linear regression   \n",
       "2                       Multiple Linear Regression  linear regression   \n",
       "3         Simple Linear Regression for Salary Data  linear regression   \n",
       "4             Price analysis and Linear Regression  linear regression   \n",
       "5                        Linear Regression Project  linear regression   \n",
       "6  PyTorch basics - Linear Regression from scratch  linear regression   \n",
       "7    FIFA in depth analysis with Linear Regression  linear regression   \n",
       "8      Sales Prediction (Simple Linear Regression)  linear regression   \n",
       "9                                Linear Regression  linear regression   \n",
       "\n",
       "     category  \n",
       "0  regression  \n",
       "1  regression  \n",
       "2  regression  \n",
       "3  regression  \n",
       "4  regression  \n",
       "5  regression  \n",
       "6  regression  \n",
       "7  regression  \n",
       "8  regression  \n",
       "9  regression  "
      ]
     },
     "execution_count": 21,
     "metadata": {},
     "output_type": "execute_result"
    }
   ],
   "source": [
    "df.head(10)"
   ]
  },
  {
   "cell_type": "code",
   "execution_count": null,
   "metadata": {},
   "outputs": [],
   "source": [
    "df.to_csv(DATA_PATH_NOTEBOOKS+'ntb_list.csv')"
   ]
  },
  {
   "cell_type": "markdown",
   "metadata": {},
   "source": [
    "### Before collecting\n",
    "- Delete duplicate notebooks : print duplicate categories => choose best category to keep\n",
    "- Delete notebooks with non-english titles"
   ]
  },
  {
   "cell_type": "code",
   "execution_count": 216,
   "metadata": {},
   "outputs": [],
   "source": [
    "# a dict with duplicate titles and their respective positions in the df\n",
    "duplicates = df[df.duplicated('title', keep=False)].groupby('title').groups"
   ]
  },
  {
   "cell_type": "code",
   "execution_count": 206,
   "metadata": {},
   "outputs": [],
   "source": [
    "def flatten_list(l):\n",
    "    return [item for sublist in l for item in sublist]"
   ]
  },
  {
   "cell_type": "code",
   "execution_count": 220,
   "metadata": {},
   "outputs": [],
   "source": [
    "to_be_dropped = [] # indices to be dropped from original df\n",
    "temp = []\n",
    "\n",
    "def to_be_dropped_indices(dictionary):\n",
    "    for k,v in dictionary.items():\n",
    "        duplicates_df = df[df.index.isin(v.values)]\n",
    "        # print(duplicates_df)\n",
    "        \n",
    "        # if the rows have the same category, they are all dropped except the last one\n",
    "        if len(set(list(duplicates_df.category))) == 1:\n",
    "            to_be_dropped.append(list(duplicates_df.index[:len(duplicates_df.category)-1]))\n",
    "        else: \n",
    "            print('hello')\n",
    "            print(duplicates_df)\n",
    "            temp = choice = input('Enter indices to be dropped : ')\n",
    "            print(temp, 'will be dropped')\n",
    "            # sub_df = df[df.duplicated('title', keep=False)].groupby('title').groups\n",
    "            # sub_dict = df[df.duplicated('title', keep=False)].groupby('title').groups\n",
    "            # print(set(duplicates_df.category)) \n",
    "\n",
    "\n",
    "# len(flatten_list(to_be_dropped))"
   ]
  },
  {
   "cell_type": "code",
   "execution_count": 1,
   "metadata": {},
   "outputs": [
    {
     "ename": "NameError",
     "evalue": "name 'to_be_dropped_indices' is not defined",
     "output_type": "error",
     "traceback": [
      "\u001b[1;31m---------------------------------------------------------------------------\u001b[0m",
      "\u001b[1;31mNameError\u001b[0m                                 Traceback (most recent call last)",
      "\u001b[1;32mc:\\Users\\dmasrour\\Documents\\NotebookCodeGen\\Scripts\\Classification_Task\\notebooks\\Collect_Data.ipynb Cell 19\u001b[0m in \u001b[0;36m<cell line: 1>\u001b[1;34m()\u001b[0m\n\u001b[1;32m----> <a href='vscode-notebook-cell:/c%3A/Users/dmasrour/Documents/NotebookCodeGen/Scripts/Classification_Task/notebooks/Collect_Data.ipynb#X30sZmlsZQ%3D%3D?line=0'>1</a>\u001b[0m to_be_dropped_indices(duplicates)\n",
      "\u001b[1;31mNameError\u001b[0m: name 'to_be_dropped_indices' is not defined"
     ]
    }
   ],
   "source": [
    "to_be_dropped_indices(duplicates)"
   ]
  },
  {
   "cell_type": "code",
   "execution_count": 99,
   "metadata": {},
   "outputs": [
    {
     "data": {
      "text/html": [
       "<div>\n",
       "<style scoped>\n",
       "    .dataframe tbody tr th:only-of-type {\n",
       "        vertical-align: middle;\n",
       "    }\n",
       "\n",
       "    .dataframe tbody tr th {\n",
       "        vertical-align: top;\n",
       "    }\n",
       "\n",
       "    .dataframe thead th {\n",
       "        text-align: right;\n",
       "    }\n",
       "</style>\n",
       "<table border=\"1\" class=\"dataframe\">\n",
       "  <thead>\n",
       "    <tr style=\"text-align: right;\">\n",
       "      <th></th>\n",
       "      <th>title</th>\n",
       "      <th>subcategory</th>\n",
       "      <th>category</th>\n",
       "    </tr>\n",
       "  </thead>\n",
       "  <tbody>\n",
       "    <tr>\n",
       "      <th>1987</th>\n",
       "      <td>A Journey through Titanic</td>\n",
       "      <td>svc</td>\n",
       "      <td>classification</td>\n",
       "    </tr>\n",
       "    <tr>\n",
       "      <th>2179</th>\n",
       "      <td>A Journey through Titanic</td>\n",
       "      <td>naive bayes</td>\n",
       "      <td>classification</td>\n",
       "    </tr>\n",
       "    <tr>\n",
       "      <th>2337</th>\n",
       "      <td>A Journey through Titanic</td>\n",
       "      <td>knn</td>\n",
       "      <td>classification</td>\n",
       "    </tr>\n",
       "  </tbody>\n",
       "</table>\n",
       "</div>"
      ],
      "text/plain": [
       "                          title  subcategory        category\n",
       "1987  A Journey through Titanic          svc  classification\n",
       "2179  A Journey through Titanic  naive bayes  classification\n",
       "2337  A Journey through Titanic          knn  classification"
      ]
     },
     "execution_count": 99,
     "metadata": {},
     "output_type": "execute_result"
    }
   ],
   "source": [
    "df[df.index.isin([1987, 2179, 2337])]"
   ]
  },
  {
   "cell_type": "markdown",
   "metadata": {},
   "source": [
    "# Collecting notebooks by category"
   ]
  },
  {
   "cell_type": "code",
   "execution_count": 52,
   "metadata": {},
   "outputs": [
    {
     "name": "stdout",
     "output_type": "stream",
     "text": [
      "Kaggle API exception : Notebook not found\n",
      "Kaggle API exception : Notebook not found\n",
      "Kaggle API exception : Notebook not found\n",
      "Kaggle API exception : Notebook not found\n",
      "Kaggle API exception : Notebook not found\n",
      "Kaggle API exception : Notebook not found\n",
      "Kaggle API exception : Notebook not found\n",
      "Kaggle API exception : Notebook not found\n",
      "Kaggle API exception : Notebook not found\n",
      "Kaggle API exception : Notebook not found\n",
      "Kaggle API exception : Notebook not found\n",
      "Kaggle API exception : Notebook not found\n",
      "Kaggle API exception : Notebook not found\n",
      "Kaggle API exception : Notebook not found\n",
      "Kaggle API exception : Notebook not found\n",
      "Kaggle API exception : Notebook not found\n",
      "Kaggle API exception : Notebook not found\n",
      "Kaggle API exception : Notebook not found\n",
      "Kaggle API exception : Notebook not found\n",
      "Kaggle API exception : Notebook not found\n",
      "Kaggle API exception : Notebook not found\n",
      "Kaggle API exception : Notebook not found\n",
      "Kaggle API exception : Notebook not found\n",
      "Kaggle API exception : Notebook not found\n",
      "Kaggle API exception : Notebook not found\n",
      "Kaggle API exception : Notebook not found\n",
      "Kaggle API exception : Notebook not found\n",
      "Kaggle API exception : Notebook not found\n",
      "Kaggle API exception : Notebook not found\n",
      "Kaggle API exception : Notebook not found\n",
      "Kaggle API exception : Notebook not found\n",
      "Kaggle API exception : Notebook not found\n",
      "Kaggle API exception : Notebook not found\n",
      "Kaggle API exception : Notebook not found\n",
      "Kaggle API exception : Notebook not found\n",
      "Kaggle API exception : Notebook not found\n",
      "Kaggle API exception : Notebook not found\n",
      "Kaggle API exception : Notebook not found\n",
      "Kaggle API exception : Notebook not found\n",
      "Kaggle API exception : Notebook not found\n",
      "Kaggle API exception : Notebook not found\n",
      "Kaggle API exception : Notebook not found\n",
      "Kaggle API exception : Notebook not found\n",
      "Kaggle API exception : Notebook not found\n",
      "Kaggle API exception : Notebook not found\n",
      "Kaggle API exception : Notebook not found\n",
      "Kaggle API exception : Notebook not found\n",
      "Kaggle API exception : Notebook not found\n",
      "Kaggle API exception : Notebook not found\n",
      "Kaggle API exception : Notebook not found\n",
      "Kaggle API exception : Notebook not found\n",
      "Kaggle API exception : Notebook not found\n",
      "Kaggle API exception : Notebook not found\n",
      "Kaggle API exception : Notebook not found\n",
      "Kaggle API exception : Notebook not found\n",
      "Kaggle API exception : Notebook not found\n",
      "Kaggle API exception : Notebook not found\n",
      "Kaggle API exception : Notebook not found\n",
      "Kaggle API exception : Notebook not found\n",
      "Kaggle API exception : Notebook not found\n",
      "Kaggle API exception : Notebook not found\n",
      "Kaggle API exception : Notebook not found\n",
      "Kaggle API exception : Notebook not found\n",
      "Kaggle API exception : Notebook not found\n",
      "Kaggle API exception : Notebook not found\n"
     ]
    }
   ],
   "source": [
    "for keyword in keywords_df['subcategory']:\n",
    "    for i in range(1,16):\n",
    "        try :\n",
    "                kernels = api.kernels_list(search = keyword, page=i)\n",
    "                for kernel in kernels:\n",
    "                        api.kernels_pull(kernel.ref, path = DATA_PATH_NOTEBOOKS + search(keyword,keywords_df))\n",
    "        except Exception as e:\n",
    "            print('Kaggle API exception : ', kernel.ref, 'Notebook not found')"
   ]
  }
 ],
 "metadata": {
  "kernelspec": {
   "display_name": "Python 3.10.5 64-bit",
   "language": "python",
   "name": "python3"
  },
  "language_info": {
   "codemirror_mode": {
    "name": "ipython",
    "version": 3
   },
   "file_extension": ".py",
   "mimetype": "text/x-python",
   "name": "python",
   "nbconvert_exporter": "python",
   "pygments_lexer": "ipython3",
   "version": "3.10.5"
  },
  "orig_nbformat": 4,
  "vscode": {
   "interpreter": {
    "hash": "49ab456e11cde720218fba409a85456f40f210cf294d5c8f56d5f4fb69af5c6b"
   }
  }
 },
 "nbformat": 4,
 "nbformat_minor": 2
}
