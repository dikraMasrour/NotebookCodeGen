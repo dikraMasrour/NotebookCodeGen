{
 "cells": [
  {
   "cell_type": "markdown",
   "metadata": {},
   "source": [
    "# Importing libs"
   ]
  },
  {
   "cell_type": "code",
   "execution_count": 1,
   "metadata": {},
   "outputs": [],
   "source": [
    "import pandas as pd\n",
    "import os\n",
    "import json"
   ]
  },
  {
   "cell_type": "code",
   "execution_count": 2,
   "metadata": {},
   "outputs": [],
   "source": [
    "DATA_PATH = \"../data/\"\n",
    "LIST = ['regression','classification','clustering','computer vision','nlp','reinforcement learning']"
   ]
  },
  {
   "cell_type": "markdown",
   "metadata": {},
   "source": [
    "# Creating new dataframe"
   ]
  },
  {
   "cell_type": "code",
   "execution_count": 3,
   "metadata": {},
   "outputs": [],
   "source": [
    "df = pd.DataFrame(columns=['all_md', 'all_cd', 'tag'])"
   ]
  },
  {
   "cell_type": "markdown",
   "metadata": {},
   "source": [
    "# Removing non .ipynb files & fill in the dataset"
   ]
  },
  {
   "cell_type": "code",
   "execution_count": 9,
   "metadata": {},
   "outputs": [],
   "source": [
    "def regroup(data_ntb,data,category):\n",
    "    full_text_md = full_text_cd =''\n",
    "\n",
    "    for i in data_ntb.index:\n",
    "        if data_ntb.loc[i]['cell_type'] == \"markdown\":\n",
    "            full_text_md += str(data_ntb.loc[i]['source'])\n",
    "        else :\n",
    "            full_text_cd += str(data_ntb.loc[i]['source'])\n",
    "\n",
    "    data.loc[len(data)]=[full_text_md,full_text_cd,category]"
   ]
  },
  {
   "cell_type": "code",
   "execution_count": 10,
   "metadata": {},
   "outputs": [],
   "source": [
    "def browse_by_folder(data,category):\n",
    "    test = os.listdir(DATA_PATH+category)\n",
    "    for item in test:\n",
    "        if item.endswith(\".py\") or item.endswith(\".irnb\") or item.endswith(\".R\") or item.endswith(\".Rmd\"):\n",
    "            os.remove(os.path.join(DATA_PATH+category, item))\n",
    "        else :\n",
    "            with open(DATA_PATH+category+\"/\"+item, encoding=\"utf8\") as jsonfile:\n",
    "                data_ = json.load(jsonfile)\n",
    "            raw_df = pd.json_normalize(data_['cells'])\n",
    "            regroup(raw_df,data,category)"
   ]
  },
  {
   "cell_type": "code",
   "execution_count": 11,
   "metadata": {},
   "outputs": [],
   "source": [
    "for category in LIST:\n",
    "    browse_by_folder(df,category)"
   ]
  },
  {
   "cell_type": "code",
   "execution_count": 12,
   "metadata": {},
   "outputs": [
    {
     "data": {
      "text/html": [
       "<div>\n",
       "<style scoped>\n",
       "    .dataframe tbody tr th:only-of-type {\n",
       "        vertical-align: middle;\n",
       "    }\n",
       "\n",
       "    .dataframe tbody tr th {\n",
       "        vertical-align: top;\n",
       "    }\n",
       "\n",
       "    .dataframe thead th {\n",
       "        text-align: right;\n",
       "    }\n",
       "</style>\n",
       "<table border=\"1\" class=\"dataframe\">\n",
       "  <thead>\n",
       "    <tr style=\"text-align: right;\">\n",
       "      <th></th>\n",
       "      <th>all_md</th>\n",
       "      <th>all_cd</th>\n",
       "      <th>tag</th>\n",
       "    </tr>\n",
       "  </thead>\n",
       "  <tbody>\n",
       "    <tr>\n",
       "      <th>0</th>\n",
       "      <td># **Try to overfit more pls !**    Upvote if y...</td>\n",
       "      <td>import pandas as pd\\nimport numpy as np\\nimpor...</td>\n",
       "      <td>regression</td>\n",
       "    </tr>\n",
       "    <tr>\n",
       "      <th>1</th>\n",
       "      <td># 1.5 Support Vector Regression (SVR)For a bet...</td>\n",
       "      <td>import numpy as np\\nimport matplotlib.pyplot a...</td>\n",
       "      <td>regression</td>\n",
       "    </tr>\n",
       "    <tr>\n",
       "      <th>2</th>\n",
       "      <td># 1.7 Random Forest RegressionFor a better und...</td>\n",
       "      <td>import numpy as np\\nimport matplotlib.pyplot a...</td>\n",
       "      <td>regression</td>\n",
       "    </tr>\n",
       "    <tr>\n",
       "      <th>3</th>\n",
       "      <td># 1.9 Train_Test_Split\\n\\n# what's underfittin...</td>\n",
       "      <td># In this lesson we will explore the train_tes...</td>\n",
       "      <td>regression</td>\n",
       "    </tr>\n",
       "    <tr>\n",
       "      <th>4</th>\n",
       "      <td># House Prices: Advanced Regression Techniques...</td>\n",
       "      <td># This Python 3 environment comes with many he...</td>\n",
       "      <td>regression</td>\n",
       "    </tr>\n",
       "    <tr>\n",
       "      <th>...</th>\n",
       "      <td>...</td>\n",
       "      <td>...</td>\n",
       "      <td>...</td>\n",
       "    </tr>\n",
       "    <tr>\n",
       "      <th>8008</th>\n",
       "      <td># &lt;font color = 'blue'&gt;San Francisco Crimes&lt;im...</td>\n",
       "      <td>import warnings\\nwarnings.filterwarnings('igno...</td>\n",
       "      <td>geospatial analysis</td>\n",
       "    </tr>\n",
       "    <tr>\n",
       "      <th>8009</th>\n",
       "      <td># Introduction:\\n\\nThis kernal is a basic expl...</td>\n",
       "      <td>#peak at the folder\\n!ls -al ../input/#basics\\...</td>\n",
       "      <td>geospatial analysis</td>\n",
       "    </tr>\n",
       "    <tr>\n",
       "      <th>8010</th>\n",
       "      <td># Introduction\\n\\n#### This notebook is especi...</td>\n",
       "      <td>import numpy as np # linear algebra\\nimport pa...</td>\n",
       "      <td>geospatial analysis</td>\n",
       "    </tr>\n",
       "    <tr>\n",
       "      <th>8011</th>\n",
       "      <td>Yellow Cabs tell The Story of New York City\\n-...</td>\n",
       "      <td>import numpy as np\\nimport pandas as pd\\nimpor...</td>\n",
       "      <td>geospatial analysis</td>\n",
       "    </tr>\n",
       "    <tr>\n",
       "      <th>8012</th>\n",
       "      <td># Introduction\\n\\nIn this micro-course, you'll...</td>\n",
       "      <td>import geopandas as gpd# Read in the data\\nful...</td>\n",
       "      <td>geospatial analysis</td>\n",
       "    </tr>\n",
       "  </tbody>\n",
       "</table>\n",
       "<p>8013 rows × 3 columns</p>\n",
       "</div>"
      ],
      "text/plain": [
       "                                                 all_md  \\\n",
       "0     # **Try to overfit more pls !**    Upvote if y...   \n",
       "1     # 1.5 Support Vector Regression (SVR)For a bet...   \n",
       "2     # 1.7 Random Forest RegressionFor a better und...   \n",
       "3     # 1.9 Train_Test_Split\\n\\n# what's underfittin...   \n",
       "4     # House Prices: Advanced Regression Techniques...   \n",
       "...                                                 ...   \n",
       "8008  # <font color = 'blue'>San Francisco Crimes<im...   \n",
       "8009  # Introduction:\\n\\nThis kernal is a basic expl...   \n",
       "8010  # Introduction\\n\\n#### This notebook is especi...   \n",
       "8011  Yellow Cabs tell The Story of New York City\\n-...   \n",
       "8012  # Introduction\\n\\nIn this micro-course, you'll...   \n",
       "\n",
       "                                                 all_cd                  tag  \n",
       "0     import pandas as pd\\nimport numpy as np\\nimpor...           regression  \n",
       "1     import numpy as np\\nimport matplotlib.pyplot a...           regression  \n",
       "2     import numpy as np\\nimport matplotlib.pyplot a...           regression  \n",
       "3     # In this lesson we will explore the train_tes...           regression  \n",
       "4     # This Python 3 environment comes with many he...           regression  \n",
       "...                                                 ...                  ...  \n",
       "8008  import warnings\\nwarnings.filterwarnings('igno...  geospatial analysis  \n",
       "8009  #peak at the folder\\n!ls -al ../input/#basics\\...  geospatial analysis  \n",
       "8010  import numpy as np # linear algebra\\nimport pa...  geospatial analysis  \n",
       "8011  import numpy as np\\nimport pandas as pd\\nimpor...  geospatial analysis  \n",
       "8012  import geopandas as gpd# Read in the data\\nful...  geospatial analysis  \n",
       "\n",
       "[8013 rows x 3 columns]"
      ]
     },
     "execution_count": 12,
     "metadata": {},
     "output_type": "execute_result"
    }
   ],
   "source": [
    "df"
   ]
  },
  {
   "cell_type": "code",
   "execution_count": null,
   "metadata": {},
   "outputs": [],
   "source": [
    "df.to_csv(DATA_PATH+'first_data_classification.csv')"
   ]
  }
 ],
 "metadata": {
  "kernelspec": {
   "display_name": "Python 3.10.6 64-bit",
   "language": "python",
   "name": "python3"
  },
  "language_info": {
   "codemirror_mode": {
    "name": "ipython",
    "version": 3
   },
   "file_extension": ".py",
   "mimetype": "text/x-python",
   "name": "python",
   "nbconvert_exporter": "python",
   "pygments_lexer": "ipython3",
   "version": "3.10.6"
  },
  "orig_nbformat": 4,
  "vscode": {
   "interpreter": {
    "hash": "5093ef3c9eba5a2350b58945b72c1f122b8b5551b9ae00db57837a16e1175c4c"
   }
  }
 },
 "nbformat": 4,
 "nbformat_minor": 2
}
