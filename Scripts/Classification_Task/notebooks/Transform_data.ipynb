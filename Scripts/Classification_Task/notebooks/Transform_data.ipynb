{
 "cells": [
  {
   "cell_type": "markdown",
   "metadata": {},
   "source": [
    "# Importing libs"
   ]
  },
  {
   "cell_type": "code",
   "execution_count": 4,
   "metadata": {},
   "outputs": [],
   "source": [
    "import pandas as pd\n",
    "import os"
   ]
  },
  {
   "cell_type": "code",
   "execution_count": 1,
   "metadata": {},
   "outputs": [],
   "source": [
    "DATA_PATH = \"../data/\"\n",
    "LIST = ['regression','classification','clustering','computer vision','nlp','reinforcement learning','geospatial analysis']"
   ]
  },
  {
   "cell_type": "markdown",
   "metadata": {},
   "source": [
    "# Creating new dataframe"
   ]
  },
  {
   "cell_type": "code",
   "execution_count": 6,
   "metadata": {},
   "outputs": [],
   "source": [
    "df = pd.DataFrame(columns=['all_md', 'all_cd', 'tag'])"
   ]
  },
  {
   "cell_type": "markdown",
   "metadata": {},
   "source": [
    "# Removing non .ipynb files & fill in the dataset"
   ]
  },
  {
   "cell_type": "code",
   "execution_count": 14,
   "metadata": {},
   "outputs": [],
   "source": [
    "def regroup(data_ntb,data,category):\n",
    "    full_text_md = full_text_cd =''\n",
    "\n",
    "    for i in data_ntb.index:\n",
    "        if data_ntb.loc[i]['cell_type'] == \"markdown\":\n",
    "            full_text_md += data_ntb.loc[i]['source']\n",
    "        else :\n",
    "            full_text_cd += data_ntb.loc[i]['source']\n",
    "\n",
    "    data.loc[len(data)]=[full_text_md,full_text_cd,'category']"
   ]
  },
  {
   "cell_type": "code",
   "execution_count": null,
   "metadata": {},
   "outputs": [],
   "source": [
    "def browse_by_folder(data,category):\n",
    "    test = os.listdir(DATA_PATH+category)\n",
    "    for item in test:\n",
    "        if item.endswith(\".py\") or item.endswith(\".irnb\") or item.endswith(\".R\") or item.endswith(\".Rmd\"):\n",
    "            os.remove(os.path.join(DATA_PATH+category, item))\n",
    "        else :\n",
    "            raw_df = pd.read_json(item).drop(['metadata','execution_count','outputs'],axis=1)\n",
    "            regroup(raw_df,data,category)"
   ]
  },
  {
   "cell_type": "code",
   "execution_count": null,
   "metadata": {},
   "outputs": [],
   "source": [
    "for category in LIST:\n",
    "    browse_by_folder(df,category)"
   ]
  },
  {
   "cell_type": "code",
   "execution_count": null,
   "metadata": {},
   "outputs": [],
   "source": [
    "df"
   ]
  },
  {
   "cell_type": "code",
   "execution_count": null,
   "metadata": {},
   "outputs": [],
   "source": [
    "df.to_csv(DATA_PATH+'data_classification.csv')"
   ]
  }
 ],
 "metadata": {
  "kernelspec": {
   "display_name": "Python 3.10.6 64-bit",
   "language": "python",
   "name": "python3"
  },
  "language_info": {
   "codemirror_mode": {
    "name": "ipython",
    "version": 3
   },
   "file_extension": ".py",
   "mimetype": "text/x-python",
   "name": "python",
   "nbconvert_exporter": "python",
   "pygments_lexer": "ipython3",
   "version": "3.10.6"
  },
  "orig_nbformat": 4,
  "vscode": {
   "interpreter": {
    "hash": "5093ef3c9eba5a2350b58945b72c1f122b8b5551b9ae00db57837a16e1175c4c"
   }
  }
 },
 "nbformat": 4,
 "nbformat_minor": 2
}
