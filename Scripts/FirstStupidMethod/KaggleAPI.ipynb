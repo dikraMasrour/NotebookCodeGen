{
 "cells": [
  {
   "cell_type": "markdown",
   "metadata": {},
   "source": [
    "## Kaggle Python public API for data collection"
   ]
  },
  {
   "cell_type": "markdown",
   "metadata": {},
   "source": [
    "### Imports"
   ]
  },
  {
   "cell_type": "code",
   "execution_count": 5,
   "metadata": {},
   "outputs": [],
   "source": [
    "import kaggle\n",
    "import pandas as pd"
   ]
  },
  {
   "cell_type": "markdown",
   "metadata": {},
   "source": [
    "Checking the default download directory"
   ]
  },
  {
   "cell_type": "code",
   "execution_count": 3,
   "metadata": {},
   "outputs": [
    {
     "data": {
      "text/plain": [
       "'c:\\\\Users\\\\dmasrour\\\\Documents\\\\NotebookCodeGen\\\\Scripts\\\\FirstStupidMethod'"
      ]
     },
     "execution_count": 3,
     "metadata": {},
     "output_type": "execute_result"
    }
   ],
   "source": [
    "ddir = kaggle.api.get_default_download_dir()\n",
    "ddir"
   ]
  },
  {
   "cell_type": "markdown",
   "metadata": {},
   "source": [
    "List 'getting started' competitions sorted by number of teams"
   ]
  },
  {
   "cell_type": "code",
   "execution_count": 25,
   "metadata": {},
   "outputs": [
    {
     "data": {
      "text/html": [
       "<div>\n",
       "<style scoped>\n",
       "    .dataframe tbody tr th:only-of-type {\n",
       "        vertical-align: middle;\n",
       "    }\n",
       "\n",
       "    .dataframe tbody tr th {\n",
       "        vertical-align: top;\n",
       "    }\n",
       "\n",
       "    .dataframe thead th {\n",
       "        text-align: right;\n",
       "    }\n",
       "</style>\n",
       "<table border=\"1\" class=\"dataframe\">\n",
       "  <thead>\n",
       "    <tr style=\"text-align: right;\">\n",
       "      <th></th>\n",
       "      <th>CompetitionName</th>\n",
       "    </tr>\n",
       "  </thead>\n",
       "  <tbody>\n",
       "    <tr>\n",
       "      <th>0</th>\n",
       "      <td>titanic</td>\n",
       "    </tr>\n",
       "    <tr>\n",
       "      <th>1</th>\n",
       "      <td>house-prices-advanced-regression-techniques</td>\n",
       "    </tr>\n",
       "    <tr>\n",
       "      <th>2</th>\n",
       "      <td>spaceship-titanic</td>\n",
       "    </tr>\n",
       "    <tr>\n",
       "      <th>3</th>\n",
       "      <td>digit-recognizer</td>\n",
       "    </tr>\n",
       "    <tr>\n",
       "      <th>4</th>\n",
       "      <td>nlp-getting-started</td>\n",
       "    </tr>\n",
       "    <tr>\n",
       "      <th>5</th>\n",
       "      <td>store-sales-time-series-forecasting</td>\n",
       "    </tr>\n",
       "    <tr>\n",
       "      <th>6</th>\n",
       "      <td>word2vec-nlp-tutorial</td>\n",
       "    </tr>\n",
       "    <tr>\n",
       "      <th>7</th>\n",
       "      <td>connectx</td>\n",
       "    </tr>\n",
       "    <tr>\n",
       "      <th>8</th>\n",
       "      <td>data-science-london-scikit-learn</td>\n",
       "    </tr>\n",
       "    <tr>\n",
       "      <th>9</th>\n",
       "      <td>facial-keypoints-detection</td>\n",
       "    </tr>\n",
       "    <tr>\n",
       "      <th>10</th>\n",
       "      <td>tpu-getting-started</td>\n",
       "    </tr>\n",
       "    <tr>\n",
       "      <th>11</th>\n",
       "      <td>gan-getting-started</td>\n",
       "    </tr>\n",
       "    <tr>\n",
       "      <th>12</th>\n",
       "      <td>street-view-getting-started-with-julia</td>\n",
       "    </tr>\n",
       "    <tr>\n",
       "      <th>13</th>\n",
       "      <td>contradictory-my-dear-watson</td>\n",
       "    </tr>\n",
       "    <tr>\n",
       "      <th>14</th>\n",
       "      <td>just-the-basics-strata-2013</td>\n",
       "    </tr>\n",
       "    <tr>\n",
       "      <th>15</th>\n",
       "      <td>just-the-basics-the-after-party</td>\n",
       "    </tr>\n",
       "  </tbody>\n",
       "</table>\n",
       "</div>"
      ],
      "text/plain": [
       "                                CompetitionName\n",
       "0                                       titanic\n",
       "1   house-prices-advanced-regression-techniques\n",
       "2                             spaceship-titanic\n",
       "3                              digit-recognizer\n",
       "4                           nlp-getting-started\n",
       "5           store-sales-time-series-forecasting\n",
       "6                         word2vec-nlp-tutorial\n",
       "7                                      connectx\n",
       "8              data-science-london-scikit-learn\n",
       "9                    facial-keypoints-detection\n",
       "10                          tpu-getting-started\n",
       "11                          gan-getting-started\n",
       "12       street-view-getting-started-with-julia\n",
       "13                 contradictory-my-dear-watson\n",
       "14                  just-the-basics-strata-2013\n",
       "15              just-the-basics-the-after-party"
      ]
     },
     "execution_count": 25,
     "metadata": {},
     "output_type": "execute_result"
    }
   ],
   "source": [
    "competitions = pd.DataFrame(kaggle.api.competitions_list(category='gettingStarted', sort_by='numberOfTeams'), columns=['CompetitionName'])\n",
    "competitions"
   ]
  },
  {
   "cell_type": "markdown",
   "metadata": {},
   "source": [
    "List first 20 most voted notebooks from competitions retreive above"
   ]
  },
  {
   "cell_type": "code",
   "execution_count": 26,
   "metadata": {},
   "outputs": [
    {
     "ename": "AttributeError",
     "evalue": "'Competition' object has no attribute 'swagger_types'",
     "output_type": "error",
     "traceback": [
      "\u001b[1;31m---------------------------------------------------------------------------\u001b[0m",
      "\u001b[1;31mAttributeError\u001b[0m                            Traceback (most recent call last)",
      "\u001b[1;32mc:\\Users\\dmasrour\\Documents\\NotebookCodeGen\\Scripts\\FirstStupidMethod\\KaggleAPI.ipynb Cell 9\u001b[0m in \u001b[0;36m<cell line: 2>\u001b[1;34m()\u001b[0m\n\u001b[0;32m      <a href='vscode-notebook-cell:/c%3A/Users/dmasrour/Documents/NotebookCodeGen/Scripts/FirstStupidMethod/KaggleAPI.ipynb#X10sZmlsZQ%3D%3D?line=0'>1</a>\u001b[0m comp_nb \u001b[39m=\u001b[39m {}\n\u001b[0;32m      <a href='vscode-notebook-cell:/c%3A/Users/dmasrour/Documents/NotebookCodeGen/Scripts/FirstStupidMethod/KaggleAPI.ipynb#X10sZmlsZQ%3D%3D?line=1'>2</a>\u001b[0m \u001b[39mfor\u001b[39;00m c \u001b[39min\u001b[39;00m competitions[\u001b[39m'\u001b[39m\u001b[39mCompetitionName\u001b[39m\u001b[39m'\u001b[39m]:\n\u001b[1;32m----> <a href='vscode-notebook-cell:/c%3A/Users/dmasrour/Documents/NotebookCodeGen/Scripts/FirstStupidMethod/KaggleAPI.ipynb#X10sZmlsZQ%3D%3D?line=2'>3</a>\u001b[0m     notebooks \u001b[39m=\u001b[39m kaggle\u001b[39m.\u001b[39;49mapi\u001b[39m.\u001b[39;49mkernels_list(page_size\u001b[39m=\u001b[39;49m\u001b[39m20\u001b[39;49m, competition\u001b[39m=\u001b[39;49mc, kernel_type\u001b[39m=\u001b[39;49m\u001b[39m'\u001b[39;49m\u001b[39mnotebook\u001b[39;49m\u001b[39m'\u001b[39;49m, sort_by\u001b[39m=\u001b[39;49m\u001b[39m'\u001b[39;49m\u001b[39mvoteCount\u001b[39;49m\u001b[39m'\u001b[39;49m)\n\u001b[0;32m      <a href='vscode-notebook-cell:/c%3A/Users/dmasrour/Documents/NotebookCodeGen/Scripts/FirstStupidMethod/KaggleAPI.ipynb#X10sZmlsZQ%3D%3D?line=3'>4</a>\u001b[0m     comp_nb[c] \u001b[39m=\u001b[39m notebooks\n\u001b[0;32m      <a href='vscode-notebook-cell:/c%3A/Users/dmasrour/Documents/NotebookCodeGen/Scripts/FirstStupidMethod/KaggleAPI.ipynb#X10sZmlsZQ%3D%3D?line=4'>5</a>\u001b[0m     \u001b[39mprint\u001b[39m(c)\n",
      "File \u001b[1;32mc:\\Users\\dmasrour\\AppData\\Local\\Programs\\Python\\Python310\\lib\\site-packages\\kaggle\\api\\kaggle_api_extended.py:1674\u001b[0m, in \u001b[0;36mKaggleApi.kernels_list\u001b[1;34m(self, page, page_size, dataset, competition, parent_kernel, search, mine, user, language, kernel_type, output_type, sort_by)\u001b[0m\n\u001b[0;32m   1670\u001b[0m \u001b[39mif\u001b[39;00m mine:\n\u001b[0;32m   1671\u001b[0m     group \u001b[39m=\u001b[39m \u001b[39m'\u001b[39m\u001b[39mprofile\u001b[39m\u001b[39m'\u001b[39m\n\u001b[0;32m   1673\u001b[0m kernels_list_result \u001b[39m=\u001b[39m \u001b[39mself\u001b[39m\u001b[39m.\u001b[39mprocess_response(\n\u001b[1;32m-> 1674\u001b[0m     \u001b[39mself\u001b[39;49m\u001b[39m.\u001b[39;49mkernels_list_with_http_info(page\u001b[39m=\u001b[39;49mpage,\n\u001b[0;32m   1675\u001b[0m                                      page_size\u001b[39m=\u001b[39;49mpage_size,\n\u001b[0;32m   1676\u001b[0m                                      group\u001b[39m=\u001b[39;49mgroup,\n\u001b[0;32m   1677\u001b[0m                                      user\u001b[39m=\u001b[39;49muser \u001b[39mor\u001b[39;49;00m \u001b[39m'\u001b[39;49m\u001b[39m'\u001b[39;49m,\n\u001b[0;32m   1678\u001b[0m                                      language\u001b[39m=\u001b[39;49mlanguage \u001b[39mor\u001b[39;49;00m \u001b[39m'\u001b[39;49m\u001b[39mall\u001b[39;49m\u001b[39m'\u001b[39;49m,\n\u001b[0;32m   1679\u001b[0m                                      kernel_type\u001b[39m=\u001b[39;49mkernel_type \u001b[39mor\u001b[39;49;00m \u001b[39m'\u001b[39;49m\u001b[39mall\u001b[39;49m\u001b[39m'\u001b[39;49m,\n\u001b[0;32m   1680\u001b[0m                                      output_type\u001b[39m=\u001b[39;49moutput_type \u001b[39mor\u001b[39;49;00m \u001b[39m'\u001b[39;49m\u001b[39mall\u001b[39;49m\u001b[39m'\u001b[39;49m,\n\u001b[0;32m   1681\u001b[0m                                      sort_by\u001b[39m=\u001b[39;49msort_by \u001b[39mor\u001b[39;49;00m \u001b[39m'\u001b[39;49m\u001b[39mhotness\u001b[39;49m\u001b[39m'\u001b[39;49m,\n\u001b[0;32m   1682\u001b[0m                                      dataset\u001b[39m=\u001b[39;49mdataset \u001b[39mor\u001b[39;49;00m \u001b[39m'\u001b[39;49m\u001b[39m'\u001b[39;49m,\n\u001b[0;32m   1683\u001b[0m                                      competition\u001b[39m=\u001b[39;49mcompetition \u001b[39mor\u001b[39;49;00m \u001b[39m'\u001b[39;49m\u001b[39m'\u001b[39;49m,\n\u001b[0;32m   1684\u001b[0m                                      parent_kernel\u001b[39m=\u001b[39;49mparent_kernel \u001b[39mor\u001b[39;49;00m \u001b[39m'\u001b[39;49m\u001b[39m'\u001b[39;49m,\n\u001b[0;32m   1685\u001b[0m                                      search\u001b[39m=\u001b[39;49msearch \u001b[39mor\u001b[39;49;00m \u001b[39m'\u001b[39;49m\u001b[39m'\u001b[39;49m))\n\u001b[0;32m   1686\u001b[0m \u001b[39mreturn\u001b[39;00m [Kernel(k) \u001b[39mfor\u001b[39;00m k \u001b[39min\u001b[39;00m kernels_list_result]\n",
      "File \u001b[1;32mc:\\Users\\dmasrour\\AppData\\Local\\Programs\\Python\\Python310\\lib\\site-packages\\kaggle\\api\\kaggle_api.py:2657\u001b[0m, in \u001b[0;36mKaggleApi.kernels_list_with_http_info\u001b[1;34m(self, **kwargs)\u001b[0m\n\u001b[0;32m   2654\u001b[0m \u001b[39m# Authentication setting\u001b[39;00m\n\u001b[0;32m   2655\u001b[0m auth_settings \u001b[39m=\u001b[39m [\u001b[39m'\u001b[39m\u001b[39mbasicAuth\u001b[39m\u001b[39m'\u001b[39m]  \u001b[39m# noqa: E501\u001b[39;00m\n\u001b[1;32m-> 2657\u001b[0m \u001b[39mreturn\u001b[39;00m \u001b[39mself\u001b[39;49m\u001b[39m.\u001b[39;49mapi_client\u001b[39m.\u001b[39;49mcall_api(\n\u001b[0;32m   2658\u001b[0m     \u001b[39m'\u001b[39;49m\u001b[39m/kernels/list\u001b[39;49m\u001b[39m'\u001b[39;49m, \u001b[39m'\u001b[39;49m\u001b[39mGET\u001b[39;49m\u001b[39m'\u001b[39;49m,\n\u001b[0;32m   2659\u001b[0m     path_params,\n\u001b[0;32m   2660\u001b[0m     query_params,\n\u001b[0;32m   2661\u001b[0m     header_params,\n\u001b[0;32m   2662\u001b[0m     body\u001b[39m=\u001b[39;49mbody_params,\n\u001b[0;32m   2663\u001b[0m     post_params\u001b[39m=\u001b[39;49mform_params,\n\u001b[0;32m   2664\u001b[0m     files\u001b[39m=\u001b[39;49mlocal_var_files,\n\u001b[0;32m   2665\u001b[0m     response_type\u001b[39m=\u001b[39;49m\u001b[39m'\u001b[39;49m\u001b[39mResult\u001b[39;49m\u001b[39m'\u001b[39;49m,  \u001b[39m# noqa: E501\u001b[39;49;00m\n\u001b[0;32m   2666\u001b[0m     auth_settings\u001b[39m=\u001b[39;49mauth_settings,\n\u001b[0;32m   2667\u001b[0m     async_req\u001b[39m=\u001b[39;49mparams\u001b[39m.\u001b[39;49mget(\u001b[39m'\u001b[39;49m\u001b[39masync_req\u001b[39;49m\u001b[39m'\u001b[39;49m),\n\u001b[0;32m   2668\u001b[0m     _return_http_data_only\u001b[39m=\u001b[39;49mparams\u001b[39m.\u001b[39;49mget(\u001b[39m'\u001b[39;49m\u001b[39m_return_http_data_only\u001b[39;49m\u001b[39m'\u001b[39;49m),\n\u001b[0;32m   2669\u001b[0m     _preload_content\u001b[39m=\u001b[39;49mparams\u001b[39m.\u001b[39;49mget(\u001b[39m'\u001b[39;49m\u001b[39m_preload_content\u001b[39;49m\u001b[39m'\u001b[39;49m, \u001b[39mTrue\u001b[39;49;00m),\n\u001b[0;32m   2670\u001b[0m     _request_timeout\u001b[39m=\u001b[39;49mparams\u001b[39m.\u001b[39;49mget(\u001b[39m'\u001b[39;49m\u001b[39m_request_timeout\u001b[39;49m\u001b[39m'\u001b[39;49m),\n\u001b[0;32m   2671\u001b[0m     collection_formats\u001b[39m=\u001b[39;49mcollection_formats)\n",
      "File \u001b[1;32mc:\\Users\\dmasrour\\AppData\\Local\\Programs\\Python\\Python310\\lib\\site-packages\\kaggle\\api_client.py:329\u001b[0m, in \u001b[0;36mApiClient.call_api\u001b[1;34m(self, resource_path, method, path_params, query_params, header_params, body, post_params, files, response_type, auth_settings, async_req, _return_http_data_only, collection_formats, _preload_content, _request_timeout)\u001b[0m\n\u001b[0;32m    292\u001b[0m \u001b[39m\"\"\"Makes the HTTP request (synchronous) and returns deserialized data.\u001b[39;00m\n\u001b[0;32m    293\u001b[0m \n\u001b[0;32m    294\u001b[0m \u001b[39mTo make an async request, set the async_req parameter.\u001b[39;00m\n\u001b[1;32m   (...)\u001b[0m\n\u001b[0;32m    326\u001b[0m \u001b[39m    then the method will return the response directly.\u001b[39;00m\n\u001b[0;32m    327\u001b[0m \u001b[39m\"\"\"\u001b[39;00m\n\u001b[0;32m    328\u001b[0m \u001b[39mif\u001b[39;00m \u001b[39mnot\u001b[39;00m async_req:\n\u001b[1;32m--> 329\u001b[0m     \u001b[39mreturn\u001b[39;00m \u001b[39mself\u001b[39;49m\u001b[39m.\u001b[39;49m__call_api(resource_path, method,\n\u001b[0;32m    330\u001b[0m                            path_params, query_params, header_params,\n\u001b[0;32m    331\u001b[0m                            body, post_params, files,\n\u001b[0;32m    332\u001b[0m                            response_type, auth_settings,\n\u001b[0;32m    333\u001b[0m                            _return_http_data_only, collection_formats,\n\u001b[0;32m    334\u001b[0m                            _preload_content, _request_timeout)\n\u001b[0;32m    335\u001b[0m \u001b[39melse\u001b[39;00m:\n\u001b[0;32m    336\u001b[0m     thread \u001b[39m=\u001b[39m \u001b[39mself\u001b[39m\u001b[39m.\u001b[39mpool\u001b[39m.\u001b[39mapply_async(\u001b[39mself\u001b[39m\u001b[39m.\u001b[39m__call_api, (resource_path,\n\u001b[0;32m    337\u001b[0m                                    method, path_params, query_params,\n\u001b[0;32m    338\u001b[0m                                    header_params, body,\n\u001b[1;32m   (...)\u001b[0m\n\u001b[0;32m    342\u001b[0m                                    collection_formats,\n\u001b[0;32m    343\u001b[0m                                    _preload_content, _request_timeout))\n",
      "File \u001b[1;32mc:\\Users\\dmasrour\\AppData\\Local\\Programs\\Python\\Python310\\lib\\site-packages\\kaggle\\api_client.py:139\u001b[0m, in \u001b[0;36mApiClient.__call_api\u001b[1;34m(self, resource_path, method, path_params, query_params, header_params, body, post_params, files, response_type, auth_settings, _return_http_data_only, collection_formats, _preload_content, _request_timeout)\u001b[0m\n\u001b[0;32m    137\u001b[0m \u001b[39m# query parameters\u001b[39;00m\n\u001b[0;32m    138\u001b[0m \u001b[39mif\u001b[39;00m query_params:\n\u001b[1;32m--> 139\u001b[0m     query_params \u001b[39m=\u001b[39m \u001b[39mself\u001b[39;49m\u001b[39m.\u001b[39;49msanitize_for_serialization(query_params)\n\u001b[0;32m    140\u001b[0m     query_params \u001b[39m=\u001b[39m \u001b[39mself\u001b[39m\u001b[39m.\u001b[39mparameters_to_tuples(query_params,\n\u001b[0;32m    141\u001b[0m                                              collection_formats)\n\u001b[0;32m    143\u001b[0m \u001b[39m# post parameters\u001b[39;00m\n",
      "File \u001b[1;32mc:\\Users\\dmasrour\\AppData\\Local\\Programs\\Python\\Python310\\lib\\site-packages\\kaggle\\api_client.py:202\u001b[0m, in \u001b[0;36mApiClient.sanitize_for_serialization\u001b[1;34m(self, obj)\u001b[0m\n\u001b[0;32m    200\u001b[0m     \u001b[39mreturn\u001b[39;00m obj\n\u001b[0;32m    201\u001b[0m \u001b[39melif\u001b[39;00m \u001b[39misinstance\u001b[39m(obj, \u001b[39mlist\u001b[39m):\n\u001b[1;32m--> 202\u001b[0m     \u001b[39mreturn\u001b[39;00m [\u001b[39mself\u001b[39m\u001b[39m.\u001b[39msanitize_for_serialization(sub_obj)\n\u001b[0;32m    203\u001b[0m             \u001b[39mfor\u001b[39;00m sub_obj \u001b[39min\u001b[39;00m obj]\n\u001b[0;32m    204\u001b[0m \u001b[39melif\u001b[39;00m \u001b[39misinstance\u001b[39m(obj, \u001b[39mtuple\u001b[39m):\n\u001b[0;32m    205\u001b[0m     \u001b[39mreturn\u001b[39;00m \u001b[39mtuple\u001b[39m(\u001b[39mself\u001b[39m\u001b[39m.\u001b[39msanitize_for_serialization(sub_obj)\n\u001b[0;32m    206\u001b[0m                  \u001b[39mfor\u001b[39;00m sub_obj \u001b[39min\u001b[39;00m obj)\n",
      "File \u001b[1;32mc:\\Users\\dmasrour\\AppData\\Local\\Programs\\Python\\Python310\\lib\\site-packages\\kaggle\\api_client.py:202\u001b[0m, in \u001b[0;36m<listcomp>\u001b[1;34m(.0)\u001b[0m\n\u001b[0;32m    200\u001b[0m     \u001b[39mreturn\u001b[39;00m obj\n\u001b[0;32m    201\u001b[0m \u001b[39melif\u001b[39;00m \u001b[39misinstance\u001b[39m(obj, \u001b[39mlist\u001b[39m):\n\u001b[1;32m--> 202\u001b[0m     \u001b[39mreturn\u001b[39;00m [\u001b[39mself\u001b[39;49m\u001b[39m.\u001b[39;49msanitize_for_serialization(sub_obj)\n\u001b[0;32m    203\u001b[0m             \u001b[39mfor\u001b[39;00m sub_obj \u001b[39min\u001b[39;00m obj]\n\u001b[0;32m    204\u001b[0m \u001b[39melif\u001b[39;00m \u001b[39misinstance\u001b[39m(obj, \u001b[39mtuple\u001b[39m):\n\u001b[0;32m    205\u001b[0m     \u001b[39mreturn\u001b[39;00m \u001b[39mtuple\u001b[39m(\u001b[39mself\u001b[39m\u001b[39m.\u001b[39msanitize_for_serialization(sub_obj)\n\u001b[0;32m    206\u001b[0m                  \u001b[39mfor\u001b[39;00m sub_obj \u001b[39min\u001b[39;00m obj)\n",
      "File \u001b[1;32mc:\\Users\\dmasrour\\AppData\\Local\\Programs\\Python\\Python310\\lib\\site-packages\\kaggle\\api_client.py:205\u001b[0m, in \u001b[0;36mApiClient.sanitize_for_serialization\u001b[1;34m(self, obj)\u001b[0m\n\u001b[0;32m    202\u001b[0m     \u001b[39mreturn\u001b[39;00m [\u001b[39mself\u001b[39m\u001b[39m.\u001b[39msanitize_for_serialization(sub_obj)\n\u001b[0;32m    203\u001b[0m             \u001b[39mfor\u001b[39;00m sub_obj \u001b[39min\u001b[39;00m obj]\n\u001b[0;32m    204\u001b[0m \u001b[39melif\u001b[39;00m \u001b[39misinstance\u001b[39m(obj, \u001b[39mtuple\u001b[39m):\n\u001b[1;32m--> 205\u001b[0m     \u001b[39mreturn\u001b[39;00m \u001b[39mtuple\u001b[39;49m(\u001b[39mself\u001b[39;49m\u001b[39m.\u001b[39;49msanitize_for_serialization(sub_obj)\n\u001b[0;32m    206\u001b[0m                  \u001b[39mfor\u001b[39;49;00m sub_obj \u001b[39min\u001b[39;49;00m obj)\n\u001b[0;32m    207\u001b[0m \u001b[39melif\u001b[39;00m \u001b[39misinstance\u001b[39m(obj, (datetime\u001b[39m.\u001b[39mdatetime, datetime\u001b[39m.\u001b[39mdate)):\n\u001b[0;32m    208\u001b[0m     \u001b[39mreturn\u001b[39;00m obj\u001b[39m.\u001b[39misoformat()\n",
      "File \u001b[1;32mc:\\Users\\dmasrour\\AppData\\Local\\Programs\\Python\\Python310\\lib\\site-packages\\kaggle\\api_client.py:205\u001b[0m, in \u001b[0;36m<genexpr>\u001b[1;34m(.0)\u001b[0m\n\u001b[0;32m    202\u001b[0m     \u001b[39mreturn\u001b[39;00m [\u001b[39mself\u001b[39m\u001b[39m.\u001b[39msanitize_for_serialization(sub_obj)\n\u001b[0;32m    203\u001b[0m             \u001b[39mfor\u001b[39;00m sub_obj \u001b[39min\u001b[39;00m obj]\n\u001b[0;32m    204\u001b[0m \u001b[39melif\u001b[39;00m \u001b[39misinstance\u001b[39m(obj, \u001b[39mtuple\u001b[39m):\n\u001b[1;32m--> 205\u001b[0m     \u001b[39mreturn\u001b[39;00m \u001b[39mtuple\u001b[39m(\u001b[39mself\u001b[39;49m\u001b[39m.\u001b[39;49msanitize_for_serialization(sub_obj)\n\u001b[0;32m    206\u001b[0m                  \u001b[39mfor\u001b[39;00m sub_obj \u001b[39min\u001b[39;00m obj)\n\u001b[0;32m    207\u001b[0m \u001b[39melif\u001b[39;00m \u001b[39misinstance\u001b[39m(obj, (datetime\u001b[39m.\u001b[39mdatetime, datetime\u001b[39m.\u001b[39mdate)):\n\u001b[0;32m    208\u001b[0m     \u001b[39mreturn\u001b[39;00m obj\u001b[39m.\u001b[39misoformat()\n",
      "File \u001b[1;32mc:\\Users\\dmasrour\\AppData\\Local\\Programs\\Python\\Python310\\lib\\site-packages\\kaggle\\api_client.py:219\u001b[0m, in \u001b[0;36mApiClient.sanitize_for_serialization\u001b[1;34m(self, obj)\u001b[0m\n\u001b[0;32m    211\u001b[0m     obj_dict \u001b[39m=\u001b[39m obj\n\u001b[0;32m    212\u001b[0m \u001b[39melse\u001b[39;00m:\n\u001b[0;32m    213\u001b[0m     \u001b[39m# Convert model obj to dict except\u001b[39;00m\n\u001b[0;32m    214\u001b[0m     \u001b[39m# attributes `swagger_types`, `attribute_map`\u001b[39;00m\n\u001b[0;32m    215\u001b[0m     \u001b[39m# and attributes which value is not None.\u001b[39;00m\n\u001b[0;32m    216\u001b[0m     \u001b[39m# Convert attribute name to json key in\u001b[39;00m\n\u001b[0;32m    217\u001b[0m     \u001b[39m# model definition for request.\u001b[39;00m\n\u001b[0;32m    218\u001b[0m     obj_dict \u001b[39m=\u001b[39m {obj\u001b[39m.\u001b[39mattribute_map[attr]: \u001b[39mgetattr\u001b[39m(obj, attr)\n\u001b[1;32m--> 219\u001b[0m                 \u001b[39mfor\u001b[39;00m attr, _ \u001b[39min\u001b[39;00m six\u001b[39m.\u001b[39miteritems(obj\u001b[39m.\u001b[39;49mswagger_types)\n\u001b[0;32m    220\u001b[0m                 \u001b[39mif\u001b[39;00m \u001b[39mgetattr\u001b[39m(obj, attr) \u001b[39mis\u001b[39;00m \u001b[39mnot\u001b[39;00m \u001b[39mNone\u001b[39;00m}\n\u001b[0;32m    222\u001b[0m \u001b[39mreturn\u001b[39;00m {key: \u001b[39mself\u001b[39m\u001b[39m.\u001b[39msanitize_for_serialization(val)\n\u001b[0;32m    223\u001b[0m         \u001b[39mfor\u001b[39;00m key, val \u001b[39min\u001b[39;00m six\u001b[39m.\u001b[39miteritems(obj_dict)}\n",
      "\u001b[1;31mAttributeError\u001b[0m: 'Competition' object has no attribute 'swagger_types'"
     ]
    }
   ],
   "source": [
    "comp_nb = {}\n",
    "for c in competitions['CompetitionName']:\n",
    "    print(c)\n",
    "    notebooks = kaggle.api.kernels_list(page_size=20, competition=c, kernel_type='notebook', sort_by='voteCount')\n",
    "    comp_nb[c] = notebooks\n",
    "    \n",
    "comp_nb"
   ]
  }
 ],
 "metadata": {
  "kernelspec": {
   "display_name": "Python 3.10.5 64-bit",
   "language": "python",
   "name": "python3"
  },
  "language_info": {
   "codemirror_mode": {
    "name": "ipython",
    "version": 3
   },
   "file_extension": ".py",
   "mimetype": "text/x-python",
   "name": "python",
   "nbconvert_exporter": "python",
   "pygments_lexer": "ipython3",
   "version": "3.10.5"
  },
  "orig_nbformat": 4,
  "vscode": {
   "interpreter": {
    "hash": "49ab456e11cde720218fba409a85456f40f210cf294d5c8f56d5f4fb69af5c6b"
   }
  }
 },
 "nbformat": 4,
 "nbformat_minor": 2
}
