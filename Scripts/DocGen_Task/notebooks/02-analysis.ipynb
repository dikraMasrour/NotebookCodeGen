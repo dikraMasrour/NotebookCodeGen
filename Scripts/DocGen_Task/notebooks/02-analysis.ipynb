{
 "cells": [
  {
   "cell_type": "markdown",
   "metadata": {},
   "source": [
    "# Importing Librairies"
   ]
  },
  {
   "cell_type": "code",
   "execution_count": 21,
   "metadata": {},
   "outputs": [],
   "source": [
    "import pandas as pd\n",
    "import os\n",
    "import json\n",
    "import seaborn as sns\n",
    "import tokenize\n",
    "import io "
   ]
  },
  {
   "cell_type": "markdown",
   "metadata": {},
   "source": [
    "Path to data"
   ]
  },
  {
   "cell_type": "code",
   "execution_count": 2,
   "metadata": {},
   "outputs": [],
   "source": [
    "DATA_PATH=\"../data_/\""
   ]
  },
  {
   "cell_type": "markdown",
   "metadata": {},
   "source": [
    "Creating a dataframe with ntk's cells"
   ]
  },
  {
   "cell_type": "code",
   "execution_count": 3,
   "metadata": {},
   "outputs": [],
   "source": [
    "new_df = pd.DataFrame(columns=[\"cell_type\",\"source\",\"title\"])"
   ]
  },
  {
   "cell_type": "markdown",
   "metadata": {},
   "source": [
    "Delete raw cells if exist"
   ]
  },
  {
   "cell_type": "code",
   "execution_count": 4,
   "metadata": {},
   "outputs": [],
   "source": [
    "def delete_raw(new_df,raw_df,counter_raw):\n",
    "    for i in raw_df.index:\n",
    "        if raw_df.loc[i]['cell_type'] == 'raw':\n",
    "            counter_raw +=1\n",
    "        else :\n",
    "            new_df.loc[len(new_df)]=raw_df.loc[i]"
   ]
  },
  {
   "cell_type": "markdown",
   "metadata": {},
   "source": [
    "Transform ntbks == >  one df"
   ]
  },
  {
   "cell_type": "code",
   "execution_count": 5,
   "metadata": {},
   "outputs": [],
   "source": [
    "def parse_ntb(new_df):\n",
    "    counter_raw = 0\n",
    "    test = os.listdir(DATA_PATH)\n",
    "    for item in test:\n",
    "        if item.endswith(\".py\") or item.endswith(\".irnb\") or item.endswith(\".R\") or item.endswith(\".Rmd\"):\n",
    "            os.remove(os.path.join(DATA_PATH, item))\n",
    "        else :\n",
    "            with open(DATA_PATH+item, encoding=\"utf8\") as jsonfile:\n",
    "                data = json.load(jsonfile)\n",
    "            raw_df = pd.json_normalize(data['cells'])[[\"cell_type\",\"source\"]]\n",
    "            raw_df['title'] = item\n",
    "            delete_raw(new_df,raw_df,counter_raw)\n",
    "    print(\"Raw cells :\",counter_raw)"
   ]
  },
  {
   "cell_type": "code",
   "execution_count": 6,
   "metadata": {},
   "outputs": [
    {
     "name": "stdout",
     "output_type": "stream",
     "text": [
      "Raw cells : 0\n"
     ]
    }
   ],
   "source": [
    "parse_ntb(new_df)"
   ]
  },
  {
   "cell_type": "code",
   "execution_count": 7,
   "metadata": {},
   "outputs": [
    {
     "data": {
      "text/html": [
       "<div>\n",
       "<style scoped>\n",
       "    .dataframe tbody tr th:only-of-type {\n",
       "        vertical-align: middle;\n",
       "    }\n",
       "\n",
       "    .dataframe tbody tr th {\n",
       "        vertical-align: top;\n",
       "    }\n",
       "\n",
       "    .dataframe thead th {\n",
       "        text-align: right;\n",
       "    }\n",
       "</style>\n",
       "<table border=\"1\" class=\"dataframe\">\n",
       "  <thead>\n",
       "    <tr style=\"text-align: right;\">\n",
       "      <th></th>\n",
       "      <th>cell_type</th>\n",
       "      <th>source</th>\n",
       "      <th>title</th>\n",
       "    </tr>\n",
       "  </thead>\n",
       "  <tbody>\n",
       "    <tr>\n",
       "      <th>0</th>\n",
       "      <td>markdown</td>\n",
       "      <td># House Prices: Advanced Regression Techniques...</td>\n",
       "      <td>1-house-prices-solution-top-1.ipynb</td>\n",
       "    </tr>\n",
       "    <tr>\n",
       "      <th>1</th>\n",
       "      <td>markdown</td>\n",
       "      <td>&lt;br&gt;\\n### Load packages</td>\n",
       "      <td>1-house-prices-solution-top-1.ipynb</td>\n",
       "    </tr>\n",
       "    <tr>\n",
       "      <th>2</th>\n",
       "      <td>code</td>\n",
       "      <td># This Python 3 environment comes with many he...</td>\n",
       "      <td>1-house-prices-solution-top-1.ipynb</td>\n",
       "    </tr>\n",
       "    <tr>\n",
       "      <th>3</th>\n",
       "      <td>markdown</td>\n",
       "      <td>### Load data</td>\n",
       "      <td>1-house-prices-solution-top-1.ipynb</td>\n",
       "    </tr>\n",
       "    <tr>\n",
       "      <th>4</th>\n",
       "      <td>code</td>\n",
       "      <td>train = pd.read_csv('../input/house-prices-adv...</td>\n",
       "      <td>1-house-prices-solution-top-1.ipynb</td>\n",
       "    </tr>\n",
       "    <tr>\n",
       "      <th>...</th>\n",
       "      <td>...</td>\n",
       "      <td>...</td>\n",
       "      <td>...</td>\n",
       "    </tr>\n",
       "    <tr>\n",
       "      <th>13702</th>\n",
       "      <td>code</td>\n",
       "      <td>submission_df</td>\n",
       "      <td>your-first-nlp-competition-submission.ipynb</td>\n",
       "    </tr>\n",
       "    <tr>\n",
       "      <th>13703</th>\n",
       "      <td>code</td>\n",
       "      <td>submission_df['target'].value_counts()</td>\n",
       "      <td>your-first-nlp-competition-submission.ipynb</td>\n",
       "    </tr>\n",
       "    <tr>\n",
       "      <th>13704</th>\n",
       "      <td>code</td>\n",
       "      <td>submission = submission_df.to_csv('Result.csv'...</td>\n",
       "      <td>your-first-nlp-competition-submission.ipynb</td>\n",
       "    </tr>\n",
       "    <tr>\n",
       "      <th>13705</th>\n",
       "      <td>markdown</td>\n",
       "      <td>\\n&lt;font size='5' color='red'&gt;  if you liked th...</td>\n",
       "      <td>your-first-nlp-competition-submission.ipynb</td>\n",
       "    </tr>\n",
       "    <tr>\n",
       "      <th>13706</th>\n",
       "      <td>markdown</td>\n",
       "      <td>&lt;font size='5' color='Black'&gt; WORK IN PROGRESS...</td>\n",
       "      <td>your-first-nlp-competition-submission.ipynb</td>\n",
       "    </tr>\n",
       "  </tbody>\n",
       "</table>\n",
       "<p>13707 rows × 3 columns</p>\n",
       "</div>"
      ],
      "text/plain": [
       "      cell_type                                             source  \\\n",
       "0      markdown  # House Prices: Advanced Regression Techniques...   \n",
       "1      markdown                            <br>\\n### Load packages   \n",
       "2          code  # This Python 3 environment comes with many he...   \n",
       "3      markdown                                      ### Load data   \n",
       "4          code  train = pd.read_csv('../input/house-prices-adv...   \n",
       "...         ...                                                ...   \n",
       "13702      code                                      submission_df   \n",
       "13703      code             submission_df['target'].value_counts()   \n",
       "13704      code  submission = submission_df.to_csv('Result.csv'...   \n",
       "13705  markdown  \\n<font size='5' color='red'>  if you liked th...   \n",
       "13706  markdown  <font size='5' color='Black'> WORK IN PROGRESS...   \n",
       "\n",
       "                                             title  \n",
       "0              1-house-prices-solution-top-1.ipynb  \n",
       "1              1-house-prices-solution-top-1.ipynb  \n",
       "2              1-house-prices-solution-top-1.ipynb  \n",
       "3              1-house-prices-solution-top-1.ipynb  \n",
       "4              1-house-prices-solution-top-1.ipynb  \n",
       "...                                            ...  \n",
       "13702  your-first-nlp-competition-submission.ipynb  \n",
       "13703  your-first-nlp-competition-submission.ipynb  \n",
       "13704  your-first-nlp-competition-submission.ipynb  \n",
       "13705  your-first-nlp-competition-submission.ipynb  \n",
       "13706  your-first-nlp-competition-submission.ipynb  \n",
       "\n",
       "[13707 rows x 3 columns]"
      ]
     },
     "execution_count": 7,
     "metadata": {},
     "output_type": "execute_result"
    }
   ],
   "source": [
    "new_df"
   ]
  },
  {
   "cell_type": "code",
   "execution_count": 8,
   "metadata": {},
   "outputs": [
    {
     "data": {
      "text/plain": [
       "<AxesSubplot:xlabel='cell_type', ylabel='Count'>"
      ]
     },
     "execution_count": 8,
     "metadata": {},
     "output_type": "execute_result"
    },
    {
     "data": {
      "image/png": "[encoded data removed]",
      "text/plain": [
       "<Figure size 432x288 with 1 Axes>"
      ]
     },
     "metadata": {
      "needs_background": "light"
     },
     "output_type": "display_data"
    }
   ],
   "source": [
    "sns.histplot(data=new_df, x=\"cell_type\")"
   ]
  },
  {
   "cell_type": "markdown",
   "metadata": {},
   "source": [
    "# Number of comments "
   ]
  },
  {
   "cell_type": "code",
   "execution_count": 13,
   "metadata": {},
   "outputs": [],
   "source": [
    "def count_comments(new_df):\n",
    "    counter = 0\n",
    "    counter_cells =0\n",
    "    for i in new_df.index:\n",
    "        c = 0\n",
    "        if str(new_df.loc[i]['cell_type']) == 'code' :\n",
    "            for toktype, tok, start, end, line in tokenize.generate_tokens(io.StringIO(str(new_df.loc[i]['source'])).readline):\n",
    "                # we can also use token.tok_name[toktype] instead of 'COMMENT'\n",
    "                # from the token module \n",
    "                if toktype == tokenize.COMMENT:\n",
    "                    counter +=1\n",
    "                    c+=1\n",
    "            if c!=0:\n",
    "                counter_cells+=1\n",
    "\n",
    "\n",
    "    return (counter,counter_cells)\n"
   ]
  },
  {
   "cell_type": "code",
   "execution_count": 14,
   "metadata": {},
   "outputs": [
    {
     "data": {
      "text/plain": [
       "(9633, 2848)"
      ]
     },
     "execution_count": 14,
     "metadata": {},
     "output_type": "execute_result"
    }
   ],
   "source": [
    "count_comments(new_df)"
   ]
  },
  {
   "cell_type": "markdown",
   "metadata": {},
   "source": [
    "So we have 2916 code cells that have comments included and 9827 is the total number of comments"
   ]
  },
  {
   "cell_type": "markdown",
   "metadata": {},
   "source": [
    "Construct new dataframe"
   ]
  },
  {
   "cell_type": "code",
   "execution_count": 18,
   "metadata": {},
   "outputs": [],
   "source": [
    "def construct_df(new_df):\n",
    "\n",
    "    new_df_code = pd.DataFrame(columns=[\"cell_type\",\"source\",\"title\"])\n",
    "\n",
    "    for i in new_df.index:\n",
    "        c = 0\n",
    "        if str(new_df.loc[i]['cell_type']) == 'code' :\n",
    "            for toktype, tok, start, end, line in tokenize.generate_tokens(io.StringIO(str(new_df.loc[i]['source'])).readline):\n",
    "                # we can also use token.tok_name[toktype] instead of 'COMMENT'\n",
    "                # from the token module \n",
    "                if toktype == tokenize.COMMENT:\n",
    "\n",
    "                    c+=1\n",
    "            if c!=0:\n",
    "                new_df_code.loc[len(new_df_code)] = ['commented code',new_df.loc[i]['source'],new_df.loc[i]['title']]\n",
    "            else :\n",
    "                new_df_code.loc[len(new_df_code)]= new_df.loc[i]\n",
    "\n",
    "\n",
    "        else :\n",
    "            new_df_code.loc[len(new_df_code)]=new_df.loc[i]\n",
    "\n",
    "    return new_df_code\n",
    "            "
   ]
  },
  {
   "cell_type": "code",
   "execution_count": 19,
   "metadata": {},
   "outputs": [
    {
     "data": {
      "text/html": [
       "<div>\n",
       "<style scoped>\n",
       "    .dataframe tbody tr th:only-of-type {\n",
       "        vertical-align: middle;\n",
       "    }\n",
       "\n",
       "    .dataframe tbody tr th {\n",
       "        vertical-align: top;\n",
       "    }\n",
       "\n",
       "    .dataframe thead th {\n",
       "        text-align: right;\n",
       "    }\n",
       "</style>\n",
       "<table border=\"1\" class=\"dataframe\">\n",
       "  <thead>\n",
       "    <tr style=\"text-align: right;\">\n",
       "      <th></th>\n",
       "      <th>cell_type</th>\n",
       "      <th>source</th>\n",
       "      <th>title</th>\n",
       "    </tr>\n",
       "  </thead>\n",
       "  <tbody>\n",
       "    <tr>\n",
       "      <th>0</th>\n",
       "      <td>markdown</td>\n",
       "      <td># House Prices: Advanced Regression Techniques...</td>\n",
       "      <td>1-house-prices-solution-top-1.ipynb</td>\n",
       "    </tr>\n",
       "    <tr>\n",
       "      <th>1</th>\n",
       "      <td>markdown</td>\n",
       "      <td>&lt;br&gt;\\n### Load packages</td>\n",
       "      <td>1-house-prices-solution-top-1.ipynb</td>\n",
       "    </tr>\n",
       "    <tr>\n",
       "      <th>2</th>\n",
       "      <td>commented code</td>\n",
       "      <td># This Python 3 environment comes with many he...</td>\n",
       "      <td>1-house-prices-solution-top-1.ipynb</td>\n",
       "    </tr>\n",
       "    <tr>\n",
       "      <th>3</th>\n",
       "      <td>markdown</td>\n",
       "      <td>### Load data</td>\n",
       "      <td>1-house-prices-solution-top-1.ipynb</td>\n",
       "    </tr>\n",
       "    <tr>\n",
       "      <th>4</th>\n",
       "      <td>code</td>\n",
       "      <td>train = pd.read_csv('../input/house-prices-adv...</td>\n",
       "      <td>1-house-prices-solution-top-1.ipynb</td>\n",
       "    </tr>\n",
       "    <tr>\n",
       "      <th>...</th>\n",
       "      <td>...</td>\n",
       "      <td>...</td>\n",
       "      <td>...</td>\n",
       "    </tr>\n",
       "    <tr>\n",
       "      <th>13702</th>\n",
       "      <td>code</td>\n",
       "      <td>submission_df</td>\n",
       "      <td>your-first-nlp-competition-submission.ipynb</td>\n",
       "    </tr>\n",
       "    <tr>\n",
       "      <th>13703</th>\n",
       "      <td>code</td>\n",
       "      <td>submission_df['target'].value_counts()</td>\n",
       "      <td>your-first-nlp-competition-submission.ipynb</td>\n",
       "    </tr>\n",
       "    <tr>\n",
       "      <th>13704</th>\n",
       "      <td>code</td>\n",
       "      <td>submission = submission_df.to_csv('Result.csv'...</td>\n",
       "      <td>your-first-nlp-competition-submission.ipynb</td>\n",
       "    </tr>\n",
       "    <tr>\n",
       "      <th>13705</th>\n",
       "      <td>markdown</td>\n",
       "      <td>\\n&lt;font size='5' color='red'&gt;  if you liked th...</td>\n",
       "      <td>your-first-nlp-competition-submission.ipynb</td>\n",
       "    </tr>\n",
       "    <tr>\n",
       "      <th>13706</th>\n",
       "      <td>markdown</td>\n",
       "      <td>&lt;font size='5' color='Black'&gt; WORK IN PROGRESS...</td>\n",
       "      <td>your-first-nlp-competition-submission.ipynb</td>\n",
       "    </tr>\n",
       "  </tbody>\n",
       "</table>\n",
       "<p>13707 rows × 3 columns</p>\n",
       "</div>"
      ],
      "text/plain": [
       "            cell_type                                             source  \\\n",
       "0            markdown  # House Prices: Advanced Regression Techniques...   \n",
       "1            markdown                            <br>\\n### Load packages   \n",
       "2      commented code  # This Python 3 environment comes with many he...   \n",
       "3            markdown                                      ### Load data   \n",
       "4                code  train = pd.read_csv('../input/house-prices-adv...   \n",
       "...               ...                                                ...   \n",
       "13702            code                                      submission_df   \n",
       "13703            code             submission_df['target'].value_counts()   \n",
       "13704            code  submission = submission_df.to_csv('Result.csv'...   \n",
       "13705        markdown  \\n<font size='5' color='red'>  if you liked th...   \n",
       "13706        markdown  <font size='5' color='Black'> WORK IN PROGRESS...   \n",
       "\n",
       "                                             title  \n",
       "0              1-house-prices-solution-top-1.ipynb  \n",
       "1              1-house-prices-solution-top-1.ipynb  \n",
       "2              1-house-prices-solution-top-1.ipynb  \n",
       "3              1-house-prices-solution-top-1.ipynb  \n",
       "4              1-house-prices-solution-top-1.ipynb  \n",
       "...                                            ...  \n",
       "13702  your-first-nlp-competition-submission.ipynb  \n",
       "13703  your-first-nlp-competition-submission.ipynb  \n",
       "13704  your-first-nlp-competition-submission.ipynb  \n",
       "13705  your-first-nlp-competition-submission.ipynb  \n",
       "13706  your-first-nlp-competition-submission.ipynb  \n",
       "\n",
       "[13707 rows x 3 columns]"
      ]
     },
     "execution_count": 19,
     "metadata": {},
     "output_type": "execute_result"
    }
   ],
   "source": [
    "data = construct_df(new_df)\n",
    "data"
   ]
  },
  {
   "cell_type": "code",
   "execution_count": 20,
   "metadata": {},
   "outputs": [
    {
     "data": {
      "text/plain": [
       "<AxesSubplot:xlabel='cell_type', ylabel='Count'>"
      ]
     },
     "execution_count": 20,
     "metadata": {},
     "output_type": "execute_result"
    },
    {
     "data": {
      "image/png": "[encoded data removed]",
      "text/plain": [
       "<Figure size 432x288 with 1 Axes>"
      ]
     },
     "metadata": {
      "needs_background": "light"
     },
     "output_type": "display_data"
    }
   ],
   "source": [
    "sns.histplot(data=data, x=\"cell_type\")"
   ]
  },
  {
   "cell_type": "markdown",
   "metadata": {},
   "source": [
    "Still hv to deal with docstrings too !"
   ]
  },
  {
   "cell_type": "code",
   "execution_count": 32,
   "metadata": {},
   "outputs": [
    {
     "data": {
      "text/html": [
       "<div>\n",
       "<style scoped>\n",
       "    .dataframe tbody tr th:only-of-type {\n",
       "        vertical-align: middle;\n",
       "    }\n",
       "\n",
       "    .dataframe tbody tr th {\n",
       "        vertical-align: top;\n",
       "    }\n",
       "\n",
       "    .dataframe thead th {\n",
       "        text-align: right;\n",
       "    }\n",
       "</style>\n",
       "<table border=\"1\" class=\"dataframe\">\n",
       "  <thead>\n",
       "    <tr style=\"text-align: right;\">\n",
       "      <th></th>\n",
       "      <th>cell_type</th>\n",
       "      <th>source</th>\n",
       "      <th>title</th>\n",
       "    </tr>\n",
       "  </thead>\n",
       "  <tbody>\n",
       "    <tr>\n",
       "      <th>2</th>\n",
       "      <td>code</td>\n",
       "      <td># This Python 3 environment comes with many he...</td>\n",
       "      <td>1-house-prices-solution-top-1.ipynb</td>\n",
       "    </tr>\n",
       "    <tr>\n",
       "      <th>4</th>\n",
       "      <td>code</td>\n",
       "      <td>train = pd.read_csv('../input/house-prices-adv...</td>\n",
       "      <td>1-house-prices-solution-top-1.ipynb</td>\n",
       "    </tr>\n",
       "    <tr>\n",
       "      <th>5</th>\n",
       "      <td>code</td>\n",
       "      <td>print (\"Train: \",train.shape[0],\"sales, and \",...</td>\n",
       "      <td>1-house-prices-solution-top-1.ipynb</td>\n",
       "    </tr>\n",
       "    <tr>\n",
       "      <th>6</th>\n",
       "      <td>code</td>\n",
       "      <td>train.head()</td>\n",
       "      <td>1-house-prices-solution-top-1.ipynb</td>\n",
       "    </tr>\n",
       "    <tr>\n",
       "      <th>7</th>\n",
       "      <td>code</td>\n",
       "      <td>test.head()</td>\n",
       "      <td>1-house-prices-solution-top-1.ipynb</td>\n",
       "    </tr>\n",
       "    <tr>\n",
       "      <th>...</th>\n",
       "      <td>...</td>\n",
       "      <td>...</td>\n",
       "      <td>...</td>\n",
       "    </tr>\n",
       "    <tr>\n",
       "      <th>13700</th>\n",
       "      <td>code</td>\n",
       "      <td>submission_df = pd.DataFrame()</td>\n",
       "      <td>your-first-nlp-competition-submission.ipynb</td>\n",
       "    </tr>\n",
       "    <tr>\n",
       "      <th>13701</th>\n",
       "      <td>code</td>\n",
       "      <td>submission_df['id'] = data_clean_test['id']\\ns...</td>\n",
       "      <td>your-first-nlp-competition-submission.ipynb</td>\n",
       "    </tr>\n",
       "    <tr>\n",
       "      <th>13702</th>\n",
       "      <td>code</td>\n",
       "      <td>submission_df</td>\n",
       "      <td>your-first-nlp-competition-submission.ipynb</td>\n",
       "    </tr>\n",
       "    <tr>\n",
       "      <th>13703</th>\n",
       "      <td>code</td>\n",
       "      <td>submission_df['target'].value_counts()</td>\n",
       "      <td>your-first-nlp-competition-submission.ipynb</td>\n",
       "    </tr>\n",
       "    <tr>\n",
       "      <th>13704</th>\n",
       "      <td>code</td>\n",
       "      <td>submission = submission_df.to_csv('Result.csv'...</td>\n",
       "      <td>your-first-nlp-competition-submission.ipynb</td>\n",
       "    </tr>\n",
       "  </tbody>\n",
       "</table>\n",
       "<p>7884 rows × 3 columns</p>\n",
       "</div>"
      ],
      "text/plain": [
       "      cell_type                                             source  \\\n",
       "2          code  # This Python 3 environment comes with many he...   \n",
       "4          code  train = pd.read_csv('../input/house-prices-adv...   \n",
       "5          code  print (\"Train: \",train.shape[0],\"sales, and \",...   \n",
       "6          code                                       train.head()   \n",
       "7          code                                        test.head()   \n",
       "...         ...                                                ...   \n",
       "13700      code                     submission_df = pd.DataFrame()   \n",
       "13701      code  submission_df['id'] = data_clean_test['id']\\ns...   \n",
       "13702      code                                      submission_df   \n",
       "13703      code             submission_df['target'].value_counts()   \n",
       "13704      code  submission = submission_df.to_csv('Result.csv'...   \n",
       "\n",
       "                                             title  \n",
       "2              1-house-prices-solution-top-1.ipynb  \n",
       "4              1-house-prices-solution-top-1.ipynb  \n",
       "5              1-house-prices-solution-top-1.ipynb  \n",
       "6              1-house-prices-solution-top-1.ipynb  \n",
       "7              1-house-prices-solution-top-1.ipynb  \n",
       "...                                            ...  \n",
       "13700  your-first-nlp-competition-submission.ipynb  \n",
       "13701  your-first-nlp-competition-submission.ipynb  \n",
       "13702  your-first-nlp-competition-submission.ipynb  \n",
       "13703  your-first-nlp-competition-submission.ipynb  \n",
       "13704  your-first-nlp-competition-submission.ipynb  \n",
       "\n",
       "[7884 rows x 3 columns]"
      ]
     },
     "execution_count": 32,
     "metadata": {},
     "output_type": "execute_result"
    }
   ],
   "source": [
    "d = new_df[new_df['cell_type']=='code']\n",
    "d"
   ]
  },
  {
   "cell_type": "code",
   "execution_count": 34,
   "metadata": {},
   "outputs": [
    {
     "data": {
      "text/plain": [
       "cell_type    0\n",
       "source       0\n",
       "title        0\n",
       "dtype: int64"
      ]
     },
     "execution_count": 34,
     "metadata": {},
     "output_type": "execute_result"
    }
   ],
   "source": [
    "new_df.isna().sum()"
   ]
  },
  {
   "cell_type": "code",
   "execution_count": 38,
   "metadata": {},
   "outputs": [],
   "source": [
    "new_df.to_csv(DATA_PATH+\"first_data.csv\",index=False)\n",
    "data.to_csv(DATA_PATH + \"second_data.csv\", index=False)"
   ]
  }
 ],
 "metadata": {
  "kernelspec": {
   "display_name": "Python 3.9.2 64-bit",
   "language": "python",
   "name": "python3"
  },
  "language_info": {
   "codemirror_mode": {
    "name": "ipython",
    "version": 3
   },
   "file_extension": ".py",
   "mimetype": "text/x-python",
   "name": "python",
   "nbconvert_exporter": "python",
   "pygments_lexer": "ipython3",
   "version": "3.9.2"
  },
  "orig_nbformat": 4,
  "vscode": {
   "interpreter": {
    "hash": "81794d4967e6c3204c66dcd87b604927b115b27c00565d3d43f05ba2f3a2cb0d"
   }
  }
 },
 "nbformat": 4,
 "nbformat_minor": 2
}
