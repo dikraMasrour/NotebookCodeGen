{
 "cells": [
  {
   "cell_type": "code",
   "execution_count": 1,
   "metadata": {},
   "outputs": [],
   "source": [
    "import kaggle\n",
    "from kaggle.api.kaggle_api_extended import KaggleApi"
   ]
  },
  {
   "cell_type": "code",
   "execution_count": 2,
   "metadata": {},
   "outputs": [],
   "source": [
    "DATA_PATH=\"../data/\""
   ]
  },
  {
   "cell_type": "code",
   "execution_count": 3,
   "metadata": {},
   "outputs": [],
   "source": [
    "api = KaggleApi()\n",
    "api.authenticate()"
   ]
  },
  {
   "cell_type": "code",
   "execution_count": 4,
   "metadata": {},
   "outputs": [],
   "source": [
    "List_Kernels_Courses = ['dansbecker/basic-data-exploration','dansbecker/your-first-machine-learning-model','dansbecker/model-validation','dansbecker/underfitting-and-overfitting','dansbecker/random-forests','alexisbcook/missing-values','alexisbcook/categorical-variables','alexisbcook/pipelines','alexisbcook/cross-validation','alexisbcook/xgboost','alexisbcook/data-leakage','ryanholbrook/what-is-feature-engineering','ryanholbrook/mutual-information','ryanholbrook/creating-features','ryanholbrook/clustering-with-k-means','ryanholbrook/principal-component-analysis','ryanholbrook/target-encoding','ryanholbrook/stochastic-gradient-descent','ryanholbrook/overfitting-and-underfitting','ryanholbrook/dropout-and-batch-normalization','ryanholbrook/binary-classification','ryanholbrook/the-convolutional-classifier','ryanholbrook/convolution-and-relu','ryanholbrook/maximum-pooling','ryanholbrook/the-sliding-window','ryanholbrook/custom-convnets','ryanholbrook/data-augmentation','ryanholbrook/linear-regression-with-time-series','ryanholbrook/trend','ryanholbrook/time-series-as-features','ryanholbrook/hybrid-models','ryanholbrook/forecasting-with-machine-learning','dansbecker/partial-plots','dansbecker/shap-values','dansbecker/advanced-uses-of-shap-values']"
   ]
  },
  {
   "cell_type": "code",
   "execution_count": 5,
   "metadata": {},
   "outputs": [],
   "source": [
    "for ntb in List_Kernels_Courses :\n",
    "        try :\n",
    "                api.kernels_pull(ntb, path = DATA_PATH)\n",
    "        except Exception as e:\n",
    "            print('Kaggle API exception : ',ntb, 'Notebook not found')"
   ]
  }
 ],
 "metadata": {
  "kernelspec": {
   "display_name": "Python 3.10.6 64-bit",
   "language": "python",
   "name": "python3"
  },
  "language_info": {
   "codemirror_mode": {
    "name": "ipython",
    "version": 3
   },
   "file_extension": ".py",
   "mimetype": "text/x-python",
   "name": "python",
   "nbconvert_exporter": "python",
   "pygments_lexer": "ipython3",
   "version": "3.10.6"
  },
  "orig_nbformat": 4,
  "vscode": {
   "interpreter": {
    "hash": "5093ef3c9eba5a2350b58945b72c1f122b8b5551b9ae00db57837a16e1175c4c"
   }
  }
 },
 "nbformat": 4,
 "nbformat_minor": 2
}
