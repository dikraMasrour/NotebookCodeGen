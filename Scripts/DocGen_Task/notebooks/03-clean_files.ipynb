{
 "cells": [
  {
   "cell_type": "markdown",
   "metadata": {},
   "source": [
    "# Importing librairies"
   ]
  },
  {
   "cell_type": "code",
   "execution_count": 2,
   "metadata": {},
   "outputs": [],
   "source": [
    "import pandas as pd\n",
    "import string\n",
    "import pyparsing\n",
    "import warnings\n",
    "import mdtex2html\n",
    "import numpy as np\n",
    "from langdetect import detect, DetectorFactory\n",
    "from bs4 import BeautifulSoup\n",
    "from cleantext import clean\n"
   ]
  },
  {
   "cell_type": "markdown",
   "metadata": {},
   "source": [
    "Path to data folder"
   ]
  },
  {
   "cell_type": "code",
   "execution_count": 3,
   "metadata": {},
   "outputs": [],
   "source": [
    "DATA_PATH = \"../data_/\""
   ]
  },
  {
   "cell_type": "code",
   "execution_count": 6,
   "metadata": {},
   "outputs": [
    {
     "data": {
      "text/html": [
       "<div>\n",
       "<style scoped>\n",
       "    .dataframe tbody tr th:only-of-type {\n",
       "        vertical-align: middle;\n",
       "    }\n",
       "\n",
       "    .dataframe tbody tr th {\n",
       "        vertical-align: top;\n",
       "    }\n",
       "\n",
       "    .dataframe thead th {\n",
       "        text-align: right;\n",
       "    }\n",
       "</style>\n",
       "<table border=\"1\" class=\"dataframe\">\n",
       "  <thead>\n",
       "    <tr style=\"text-align: right;\">\n",
       "      <th></th>\n",
       "      <th>cell_type</th>\n",
       "      <th>source</th>\n",
       "      <th>title</th>\n",
       "    </tr>\n",
       "  </thead>\n",
       "  <tbody>\n",
       "    <tr>\n",
       "      <th>0</th>\n",
       "      <td>markdown</td>\n",
       "      <td># House Prices: Advanced Regression Techniques...</td>\n",
       "      <td>1-house-prices-solution-top-1.ipynb</td>\n",
       "    </tr>\n",
       "    <tr>\n",
       "      <th>1</th>\n",
       "      <td>markdown</td>\n",
       "      <td>&lt;br&gt;\\n### Load packages</td>\n",
       "      <td>1-house-prices-solution-top-1.ipynb</td>\n",
       "    </tr>\n",
       "    <tr>\n",
       "      <th>2</th>\n",
       "      <td>code</td>\n",
       "      <td># This Python 3 environment comes with many he...</td>\n",
       "      <td>1-house-prices-solution-top-1.ipynb</td>\n",
       "    </tr>\n",
       "    <tr>\n",
       "      <th>3</th>\n",
       "      <td>markdown</td>\n",
       "      <td>### Load data</td>\n",
       "      <td>1-house-prices-solution-top-1.ipynb</td>\n",
       "    </tr>\n",
       "    <tr>\n",
       "      <th>4</th>\n",
       "      <td>code</td>\n",
       "      <td>train = pd.read_csv('../input/house-prices-adv...</td>\n",
       "      <td>1-house-prices-solution-top-1.ipynb</td>\n",
       "    </tr>\n",
       "    <tr>\n",
       "      <th>...</th>\n",
       "      <td>...</td>\n",
       "      <td>...</td>\n",
       "      <td>...</td>\n",
       "    </tr>\n",
       "    <tr>\n",
       "      <th>13702</th>\n",
       "      <td>code</td>\n",
       "      <td>submission_df</td>\n",
       "      <td>your-first-nlp-competition-submission.ipynb</td>\n",
       "    </tr>\n",
       "    <tr>\n",
       "      <th>13703</th>\n",
       "      <td>code</td>\n",
       "      <td>submission_df['target'].value_counts()</td>\n",
       "      <td>your-first-nlp-competition-submission.ipynb</td>\n",
       "    </tr>\n",
       "    <tr>\n",
       "      <th>13704</th>\n",
       "      <td>code</td>\n",
       "      <td>submission = submission_df.to_csv('Result.csv'...</td>\n",
       "      <td>your-first-nlp-competition-submission.ipynb</td>\n",
       "    </tr>\n",
       "    <tr>\n",
       "      <th>13705</th>\n",
       "      <td>markdown</td>\n",
       "      <td>\\n&lt;font size='5' color='red'&gt;  if you liked th...</td>\n",
       "      <td>your-first-nlp-competition-submission.ipynb</td>\n",
       "    </tr>\n",
       "    <tr>\n",
       "      <th>13706</th>\n",
       "      <td>markdown</td>\n",
       "      <td>&lt;font size='5' color='Black'&gt; WORK IN PROGRESS...</td>\n",
       "      <td>your-first-nlp-competition-submission.ipynb</td>\n",
       "    </tr>\n",
       "  </tbody>\n",
       "</table>\n",
       "<p>13707 rows × 3 columns</p>\n",
       "</div>"
      ],
      "text/plain": [
       "      cell_type                                             source  \\\n",
       "0      markdown  # House Prices: Advanced Regression Techniques...   \n",
       "1      markdown                            <br>\\n### Load packages   \n",
       "2          code  # This Python 3 environment comes with many he...   \n",
       "3      markdown                                      ### Load data   \n",
       "4          code  train = pd.read_csv('../input/house-prices-adv...   \n",
       "...         ...                                                ...   \n",
       "13702      code                                      submission_df   \n",
       "13703      code             submission_df['target'].value_counts()   \n",
       "13704      code  submission = submission_df.to_csv('Result.csv'...   \n",
       "13705  markdown  \\n<font size='5' color='red'>  if you liked th...   \n",
       "13706  markdown  <font size='5' color='Black'> WORK IN PROGRESS...   \n",
       "\n",
       "                                             title  \n",
       "0              1-house-prices-solution-top-1.ipynb  \n",
       "1              1-house-prices-solution-top-1.ipynb  \n",
       "2              1-house-prices-solution-top-1.ipynb  \n",
       "3              1-house-prices-solution-top-1.ipynb  \n",
       "4              1-house-prices-solution-top-1.ipynb  \n",
       "...                                            ...  \n",
       "13702  your-first-nlp-competition-submission.ipynb  \n",
       "13703  your-first-nlp-competition-submission.ipynb  \n",
       "13704  your-first-nlp-competition-submission.ipynb  \n",
       "13705  your-first-nlp-competition-submission.ipynb  \n",
       "13706  your-first-nlp-competition-submission.ipynb  \n",
       "\n",
       "[13707 rows x 3 columns]"
      ]
     },
     "execution_count": 6,
     "metadata": {},
     "output_type": "execute_result"
    }
   ],
   "source": [
    "raw_df = pd.read_csv(DATA_PATH+\"first_data.csv\")\n",
    "raw_df"
   ]
  },
  {
   "cell_type": "code",
   "execution_count": 10,
   "metadata": {},
   "outputs": [
    {
     "data": {
      "text/plain": [
       "array(['a-detailed-regression-guide-with-house-pricing.ipynb'],\n",
       "      dtype='<U52')"
      ]
     },
     "execution_count": 10,
     "metadata": {},
     "output_type": "execute_result"
    }
   ],
   "source": [
    "l=[]\n",
    "for i in raw_df.index:\n",
    "        if str(raw_df.loc[i]['source']).startswith(\"['\") and str(raw_df.loc[i]['source']).endswith(\"']\"):\n",
    "            l.append(raw_df.loc[i]['title'])\n",
    "np.unique(l)"
   ]
  },
  {
   "cell_type": "code",
   "execution_count": null,
   "metadata": {},
   "outputs": [],
   "source": [
    "for ntb in l:\n",
    "    raw_df.drop(raw_df.index[raw_df['title'] == ntb], inplace=True)"
   ]
  }
 ],
 "metadata": {
  "kernelspec": {
   "display_name": "Python 3.9.2 64-bit",
   "language": "python",
   "name": "python3"
  },
  "language_info": {
   "codemirror_mode": {
    "name": "ipython",
    "version": 3
   },
   "file_extension": ".py",
   "mimetype": "text/x-python",
   "name": "python",
   "nbconvert_exporter": "python",
   "pygments_lexer": "ipython3",
   "version": "3.9.2"
  },
  "orig_nbformat": 4,
  "vscode": {
   "interpreter": {
    "hash": "81794d4967e6c3204c66dcd87b604927b115b27c00565d3d43f05ba2f3a2cb0d"
   }
  }
 },
 "nbformat": 4,
 "nbformat_minor": 2
}
