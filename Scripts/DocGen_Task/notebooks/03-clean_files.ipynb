{
 "cells": [
  {
   "cell_type": "markdown",
   "metadata": {},
   "source": [
    "# Importing librairies"
   ]
  },
  {
   "cell_type": "code",
   "execution_count": 1,
   "metadata": {},
   "outputs": [],
   "source": [
    "import pandas as pd\n",
    "import string\n",
    "import warnings\n",
    "import mdtex2html\n",
    "import numpy as np\n",
    "import re\n",
    "from langdetect import detect, DetectorFactory\n",
    "from bs4 import BeautifulSoup\n",
    "from cleantext import clean\n"
   ]
  },
  {
   "cell_type": "code",
   "execution_count": 2,
   "metadata": {},
   "outputs": [],
   "source": [
    "RMV_URL = re.compile(r'https?://\\S+|www\\.\\S+')\n",
    "RMV_EQU = r\"(\\$+)(?:(?!\\1)[\\s\\S])*\\1\"\n",
    "EMOJI_PATTERN = re.compile(\"[\"\n",
    "        u\"\\U0001F600-\\U0001F64F\"  # emoticons\n",
    "        u\"\\U0001F300-\\U0001F5FF\"  # symbols & pictographs\n",
    "        u\"\\U0001F680-\\U0001F6FF\"  # transport & map symbols\n",
    "        u\"\\U0001F1E0-\\U0001F1FF\"  # flags (iOS)\n",
    "        u\"\\U0001F1F2-\\U0001F1F4\"  # Macau flag\n",
    "        u\"\\U0001F1E6-\\U0001F1FF\"  # flags\n",
    "        u\"\\U0001F600-\\U0001F64F\"\n",
    "        u\"\\U00002702-\\U000027B0\"\n",
    "        u\"\\U000024C2-\\U0001F251\"\n",
    "        u\"\\U0001f926-\\U0001f937\"\n",
    "        u\"\\U0001F1F2\"\n",
    "        u\"\\U0001F1F4\"\n",
    "        u\"\\U0001F620\"\n",
    "        u\"\\u200d\"\n",
    "        u\"\\u2640-\\u2642\"\n",
    "        \"]+\", flags=re.UNICODE)\n",
    "DetectorFactory.seed = 0\n",
    "warnings.filterwarnings('ignore')\n"
   ]
  },
  {
   "cell_type": "markdown",
   "metadata": {},
   "source": [
    "Path to data folder"
   ]
  },
  {
   "cell_type": "code",
   "execution_count": 3,
   "metadata": {},
   "outputs": [],
   "source": [
    "DATA_PATH_NTB = \"../data_/\"\n",
    "DATA_PATH = \"../data/\""
   ]
  },
  {
   "cell_type": "code",
   "execution_count": 4,
   "metadata": {},
   "outputs": [
    {
     "data": {
      "text/html": [
       "<div>\n",
       "<style scoped>\n",
       "    .dataframe tbody tr th:only-of-type {\n",
       "        vertical-align: middle;\n",
       "    }\n",
       "\n",
       "    .dataframe tbody tr th {\n",
       "        vertical-align: top;\n",
       "    }\n",
       "\n",
       "    .dataframe thead th {\n",
       "        text-align: right;\n",
       "    }\n",
       "</style>\n",
       "<table border=\"1\" class=\"dataframe\">\n",
       "  <thead>\n",
       "    <tr style=\"text-align: right;\">\n",
       "      <th></th>\n",
       "      <th>cell_type</th>\n",
       "      <th>source</th>\n",
       "      <th>title</th>\n",
       "    </tr>\n",
       "  </thead>\n",
       "  <tbody>\n",
       "    <tr>\n",
       "      <th>0</th>\n",
       "      <td>markdown</td>\n",
       "      <td># House Prices: Advanced Regression Techniques...</td>\n",
       "      <td>1-house-prices-solution-top-1.ipynb</td>\n",
       "    </tr>\n",
       "    <tr>\n",
       "      <th>1</th>\n",
       "      <td>markdown</td>\n",
       "      <td>&lt;br&gt;\\n### Load packages</td>\n",
       "      <td>1-house-prices-solution-top-1.ipynb</td>\n",
       "    </tr>\n",
       "    <tr>\n",
       "      <th>2</th>\n",
       "      <td>code</td>\n",
       "      <td># This Python 3 environment comes with many he...</td>\n",
       "      <td>1-house-prices-solution-top-1.ipynb</td>\n",
       "    </tr>\n",
       "    <tr>\n",
       "      <th>3</th>\n",
       "      <td>markdown</td>\n",
       "      <td>### Load data</td>\n",
       "      <td>1-house-prices-solution-top-1.ipynb</td>\n",
       "    </tr>\n",
       "    <tr>\n",
       "      <th>4</th>\n",
       "      <td>code</td>\n",
       "      <td>train = pd.read_csv('../input/house-prices-adv...</td>\n",
       "      <td>1-house-prices-solution-top-1.ipynb</td>\n",
       "    </tr>\n",
       "    <tr>\n",
       "      <th>...</th>\n",
       "      <td>...</td>\n",
       "      <td>...</td>\n",
       "      <td>...</td>\n",
       "    </tr>\n",
       "    <tr>\n",
       "      <th>13702</th>\n",
       "      <td>code</td>\n",
       "      <td>submission_df</td>\n",
       "      <td>your-first-nlp-competition-submission.ipynb</td>\n",
       "    </tr>\n",
       "    <tr>\n",
       "      <th>13703</th>\n",
       "      <td>code</td>\n",
       "      <td>submission_df['target'].value_counts()</td>\n",
       "      <td>your-first-nlp-competition-submission.ipynb</td>\n",
       "    </tr>\n",
       "    <tr>\n",
       "      <th>13704</th>\n",
       "      <td>code</td>\n",
       "      <td>submission = submission_df.to_csv('Result.csv'...</td>\n",
       "      <td>your-first-nlp-competition-submission.ipynb</td>\n",
       "    </tr>\n",
       "    <tr>\n",
       "      <th>13705</th>\n",
       "      <td>markdown</td>\n",
       "      <td>\\n&lt;font size='5' color='red'&gt;  if you liked th...</td>\n",
       "      <td>your-first-nlp-competition-submission.ipynb</td>\n",
       "    </tr>\n",
       "    <tr>\n",
       "      <th>13706</th>\n",
       "      <td>markdown</td>\n",
       "      <td>&lt;font size='5' color='Black'&gt; WORK IN PROGRESS...</td>\n",
       "      <td>your-first-nlp-competition-submission.ipynb</td>\n",
       "    </tr>\n",
       "  </tbody>\n",
       "</table>\n",
       "<p>13707 rows × 3 columns</p>\n",
       "</div>"
      ],
      "text/plain": [
       "      cell_type                                             source  \\\n",
       "0      markdown  # House Prices: Advanced Regression Techniques...   \n",
       "1      markdown                            <br>\\n### Load packages   \n",
       "2          code  # This Python 3 environment comes with many he...   \n",
       "3      markdown                                      ### Load data   \n",
       "4          code  train = pd.read_csv('../input/house-prices-adv...   \n",
       "...         ...                                                ...   \n",
       "13702      code                                      submission_df   \n",
       "13703      code             submission_df['target'].value_counts()   \n",
       "13704      code  submission = submission_df.to_csv('Result.csv'...   \n",
       "13705  markdown  \\n<font size='5' color='red'>  if you liked th...   \n",
       "13706  markdown  <font size='5' color='Black'> WORK IN PROGRESS...   \n",
       "\n",
       "                                             title  \n",
       "0              1-house-prices-solution-top-1.ipynb  \n",
       "1              1-house-prices-solution-top-1.ipynb  \n",
       "2              1-house-prices-solution-top-1.ipynb  \n",
       "3              1-house-prices-solution-top-1.ipynb  \n",
       "4              1-house-prices-solution-top-1.ipynb  \n",
       "...                                            ...  \n",
       "13702  your-first-nlp-competition-submission.ipynb  \n",
       "13703  your-first-nlp-competition-submission.ipynb  \n",
       "13704  your-first-nlp-competition-submission.ipynb  \n",
       "13705  your-first-nlp-competition-submission.ipynb  \n",
       "13706  your-first-nlp-competition-submission.ipynb  \n",
       "\n",
       "[13707 rows x 3 columns]"
      ]
     },
     "execution_count": 4,
     "metadata": {},
     "output_type": "execute_result"
    }
   ],
   "source": [
    "raw_df = pd.read_csv(DATA_PATH_NTB +\"first_data.csv\")\n",
    "raw_df"
   ]
  },
  {
   "cell_type": "code",
   "execution_count": 5,
   "metadata": {},
   "outputs": [
    {
     "data": {
      "text/html": [
       "<div>\n",
       "<style scoped>\n",
       "    .dataframe tbody tr th:only-of-type {\n",
       "        vertical-align: middle;\n",
       "    }\n",
       "\n",
       "    .dataframe tbody tr th {\n",
       "        vertical-align: top;\n",
       "    }\n",
       "\n",
       "    .dataframe thead th {\n",
       "        text-align: right;\n",
       "    }\n",
       "</style>\n",
       "<table border=\"1\" class=\"dataframe\">\n",
       "  <thead>\n",
       "    <tr style=\"text-align: right;\">\n",
       "      <th></th>\n",
       "      <th>cell_type</th>\n",
       "      <th>source</th>\n",
       "      <th>title</th>\n",
       "    </tr>\n",
       "  </thead>\n",
       "  <tbody>\n",
       "    <tr>\n",
       "      <th>119</th>\n",
       "      <td>code</td>\n",
       "      <td>NaN</td>\n",
       "      <td>10-simple-hacks-to-speed-up-your-data-analysis...</td>\n",
       "    </tr>\n",
       "    <tr>\n",
       "      <th>211</th>\n",
       "      <td>code</td>\n",
       "      <td>NaN</td>\n",
       "      <td>a-beginner-s-approach-to-classification.ipynb</td>\n",
       "    </tr>\n",
       "    <tr>\n",
       "      <th>392</th>\n",
       "      <td>code</td>\n",
       "      <td>NaN</td>\n",
       "      <td>a-detailed-explanation-of-keras-embedding-laye...</td>\n",
       "    </tr>\n",
       "    <tr>\n",
       "      <th>395</th>\n",
       "      <td>code</td>\n",
       "      <td>NaN</td>\n",
       "      <td>a-detailed-explanation-of-keras-embedding-laye...</td>\n",
       "    </tr>\n",
       "    <tr>\n",
       "      <th>417</th>\n",
       "      <td>code</td>\n",
       "      <td>NaN</td>\n",
       "      <td>a-detailed-explanation-of-keras-embedding-laye...</td>\n",
       "    </tr>\n",
       "    <tr>\n",
       "      <th>...</th>\n",
       "      <td>...</td>\n",
       "      <td>...</td>\n",
       "      <td>...</td>\n",
       "    </tr>\n",
       "    <tr>\n",
       "      <th>13147</th>\n",
       "      <td>markdown</td>\n",
       "      <td>NaN</td>\n",
       "      <td>useful-python-libraries-for-data-science.ipynb</td>\n",
       "    </tr>\n",
       "    <tr>\n",
       "      <th>13203</th>\n",
       "      <td>code</td>\n",
       "      <td>NaN</td>\n",
       "      <td>using-google-translate-for-nlp-augmentation.ipynb</td>\n",
       "    </tr>\n",
       "    <tr>\n",
       "      <th>13359</th>\n",
       "      <td>code</td>\n",
       "      <td>NaN</td>\n",
       "      <td>welcome-to-deep-learning-cnn-99.ipynb</td>\n",
       "    </tr>\n",
       "    <tr>\n",
       "      <th>13404</th>\n",
       "      <td>code</td>\n",
       "      <td>NaN</td>\n",
       "      <td>word2vec.ipynb</td>\n",
       "    </tr>\n",
       "    <tr>\n",
       "      <th>13452</th>\n",
       "      <td>code</td>\n",
       "      <td>NaN</td>\n",
       "      <td>xgboost-feat-imp-acc-93.ipynb</td>\n",
       "    </tr>\n",
       "  </tbody>\n",
       "</table>\n",
       "<p>112 rows × 3 columns</p>\n",
       "</div>"
      ],
      "text/plain": [
       "      cell_type source                                              title\n",
       "119        code    NaN  10-simple-hacks-to-speed-up-your-data-analysis...\n",
       "211        code    NaN      a-beginner-s-approach-to-classification.ipynb\n",
       "392        code    NaN  a-detailed-explanation-of-keras-embedding-laye...\n",
       "395        code    NaN  a-detailed-explanation-of-keras-embedding-laye...\n",
       "417        code    NaN  a-detailed-explanation-of-keras-embedding-laye...\n",
       "...         ...    ...                                                ...\n",
       "13147  markdown    NaN     useful-python-libraries-for-data-science.ipynb\n",
       "13203      code    NaN  using-google-translate-for-nlp-augmentation.ipynb\n",
       "13359      code    NaN              welcome-to-deep-learning-cnn-99.ipynb\n",
       "13404      code    NaN                                     word2vec.ipynb\n",
       "13452      code    NaN                      xgboost-feat-imp-acc-93.ipynb\n",
       "\n",
       "[112 rows x 3 columns]"
      ]
     },
     "execution_count": 5,
     "metadata": {},
     "output_type": "execute_result"
    }
   ],
   "source": [
    "raw_df[raw_df.isna().any(axis=1)]"
   ]
  },
  {
   "cell_type": "code",
   "execution_count": 6,
   "metadata": {},
   "outputs": [
    {
     "data": {
      "text/plain": [
       "cell_type      0\n",
       "source       112\n",
       "title          0\n",
       "dtype: int64"
      ]
     },
     "execution_count": 6,
     "metadata": {},
     "output_type": "execute_result"
    }
   ],
   "source": [
    "raw_df.isna().sum()"
   ]
  },
  {
   "cell_type": "code",
   "execution_count": 7,
   "metadata": {},
   "outputs": [],
   "source": [
    "raw_df = raw_df.dropna(subset=['source'])"
   ]
  },
  {
   "cell_type": "code",
   "execution_count": 8,
   "metadata": {},
   "outputs": [
    {
     "data": {
      "text/plain": [
       "cell_type    0\n",
       "source       0\n",
       "title        0\n",
       "dtype: int64"
      ]
     },
     "execution_count": 8,
     "metadata": {},
     "output_type": "execute_result"
    }
   ],
   "source": [
    "raw_df.isna().sum()"
   ]
  },
  {
   "cell_type": "code",
   "execution_count": 9,
   "metadata": {},
   "outputs": [
    {
     "data": {
      "text/plain": [
       "array(['a-detailed-regression-guide-with-house-pricing.ipynb'],\n",
       "      dtype='<U52')"
      ]
     },
     "execution_count": 9,
     "metadata": {},
     "output_type": "execute_result"
    }
   ],
   "source": [
    "l=[]\n",
    "for i in raw_df.index:\n",
    "        if str(raw_df.loc[i]['source']).startswith(\"['\") and str(raw_df.loc[i]['source']).endswith(\"']\"):\n",
    "            l.append(raw_df.loc[i]['title'])\n",
    "l= np.unique(l)\n",
    "l"
   ]
  },
  {
   "cell_type": "code",
   "execution_count": 10,
   "metadata": {},
   "outputs": [],
   "source": [
    "for ntb in l:\n",
    "    raw_df.drop(raw_df.index[raw_df['title'] == ntb], inplace=True)"
   ]
  },
  {
   "cell_type": "code",
   "execution_count": 11,
   "metadata": {},
   "outputs": [],
   "source": [
    "raw_df = raw_df.reset_index(drop=True)"
   ]
  },
  {
   "cell_type": "code",
   "execution_count": 12,
   "metadata": {},
   "outputs": [],
   "source": [
    "df = pd.DataFrame(columns=['cell_type','source','title'])"
   ]
  },
  {
   "cell_type": "code",
   "execution_count": 13,
   "metadata": {},
   "outputs": [],
   "source": [
    "def clean_md(raw_df,df):\n",
    "    for i in raw_df.index:\n",
    "        if raw_df.loc[i]['cell_type'] == 'markdown':\n",
    "\n",
    "                string = EMOJI_PATTERN.sub(r'',re.sub(' +', ' ',(re.sub(r'(?:_|[^\\s\\w])(?!(?<=\\.))(?!(?<=\\:))(?!(?<=\\,))(?!(?<=\\?))(?!(?<=\\!))', ' ',re.sub(r\"\\n\",' ',re.sub(r'(\\s)@\\w+', r'\\1',RMV_URL.sub(r'',BeautifulSoup(mdtex2html.convert(re.sub(\"\\$\",\"\",re.sub(RMV_EQU,\" \",str(raw_df.loc[i]['source']), 0, re.MULTILINE))), \"lxml\").text)))))))\n",
    "                df.loc[len(df)]=[raw_df.loc[i]['cell_type'],string,raw_df.loc[i]['title']]\n",
    "\n",
    "        else :\n",
    "            df.loc[len(df)]=raw_df.loc[i]"
   ]
  },
  {
   "cell_type": "code",
   "execution_count": 14,
   "metadata": {},
   "outputs": [],
   "source": [
    "clean_md(raw_df,df)"
   ]
  },
  {
   "cell_type": "code",
   "execution_count": 15,
   "metadata": {},
   "outputs": [
    {
     "data": {
      "text/html": [
       "<div>\n",
       "<style scoped>\n",
       "    .dataframe tbody tr th:only-of-type {\n",
       "        vertical-align: middle;\n",
       "    }\n",
       "\n",
       "    .dataframe tbody tr th {\n",
       "        vertical-align: top;\n",
       "    }\n",
       "\n",
       "    .dataframe thead th {\n",
       "        text-align: right;\n",
       "    }\n",
       "</style>\n",
       "<table border=\"1\" class=\"dataframe\">\n",
       "  <thead>\n",
       "    <tr style=\"text-align: right;\">\n",
       "      <th></th>\n",
       "      <th>cell_type</th>\n",
       "      <th>source</th>\n",
       "      <th>title</th>\n",
       "    </tr>\n",
       "  </thead>\n",
       "  <tbody>\n",
       "    <tr>\n",
       "      <th>0</th>\n",
       "      <td>markdown</td>\n",
       "      <td>House Prices: Advanced Regression Techniques P...</td>\n",
       "      <td>1-house-prices-solution-top-1.ipynb</td>\n",
       "    </tr>\n",
       "    <tr>\n",
       "      <th>1</th>\n",
       "      <td>markdown</td>\n",
       "      <td>Load packages</td>\n",
       "      <td>1-house-prices-solution-top-1.ipynb</td>\n",
       "    </tr>\n",
       "    <tr>\n",
       "      <th>2</th>\n",
       "      <td>code</td>\n",
       "      <td># This Python 3 environment comes with many he...</td>\n",
       "      <td>1-house-prices-solution-top-1.ipynb</td>\n",
       "    </tr>\n",
       "    <tr>\n",
       "      <th>3</th>\n",
       "      <td>markdown</td>\n",
       "      <td>Load data</td>\n",
       "      <td>1-house-prices-solution-top-1.ipynb</td>\n",
       "    </tr>\n",
       "    <tr>\n",
       "      <th>4</th>\n",
       "      <td>code</td>\n",
       "      <td>train = pd.read_csv('../input/house-prices-adv...</td>\n",
       "      <td>1-house-prices-solution-top-1.ipynb</td>\n",
       "    </tr>\n",
       "    <tr>\n",
       "      <th>...</th>\n",
       "      <td>...</td>\n",
       "      <td>...</td>\n",
       "      <td>...</td>\n",
       "    </tr>\n",
       "    <tr>\n",
       "      <th>13368</th>\n",
       "      <td>code</td>\n",
       "      <td>submission_df</td>\n",
       "      <td>your-first-nlp-competition-submission.ipynb</td>\n",
       "    </tr>\n",
       "    <tr>\n",
       "      <th>13369</th>\n",
       "      <td>code</td>\n",
       "      <td>submission_df['target'].value_counts()</td>\n",
       "      <td>your-first-nlp-competition-submission.ipynb</td>\n",
       "    </tr>\n",
       "    <tr>\n",
       "      <th>13370</th>\n",
       "      <td>code</td>\n",
       "      <td>submission = submission_df.to_csv('Result.csv'...</td>\n",
       "      <td>your-first-nlp-competition-submission.ipynb</td>\n",
       "    </tr>\n",
       "    <tr>\n",
       "      <th>13371</th>\n",
       "      <td>markdown</td>\n",
       "      <td>if you liked this kernel,please upvote it 3</td>\n",
       "      <td>your-first-nlp-competition-submission.ipynb</td>\n",
       "    </tr>\n",
       "    <tr>\n",
       "      <th>13372</th>\n",
       "      <td>markdown</td>\n",
       "      <td>WORK IN PROGRESS ...</td>\n",
       "      <td>your-first-nlp-competition-submission.ipynb</td>\n",
       "    </tr>\n",
       "  </tbody>\n",
       "</table>\n",
       "<p>13373 rows × 3 columns</p>\n",
       "</div>"
      ],
      "text/plain": [
       "      cell_type                                             source  \\\n",
       "0      markdown  House Prices: Advanced Regression Techniques P...   \n",
       "1      markdown                                      Load packages   \n",
       "2          code  # This Python 3 environment comes with many he...   \n",
       "3      markdown                                          Load data   \n",
       "4          code  train = pd.read_csv('../input/house-prices-adv...   \n",
       "...         ...                                                ...   \n",
       "13368      code                                      submission_df   \n",
       "13369      code             submission_df['target'].value_counts()   \n",
       "13370      code  submission = submission_df.to_csv('Result.csv'...   \n",
       "13371  markdown       if you liked this kernel,please upvote it 3    \n",
       "13372  markdown                               WORK IN PROGRESS ...   \n",
       "\n",
       "                                             title  \n",
       "0              1-house-prices-solution-top-1.ipynb  \n",
       "1              1-house-prices-solution-top-1.ipynb  \n",
       "2              1-house-prices-solution-top-1.ipynb  \n",
       "3              1-house-prices-solution-top-1.ipynb  \n",
       "4              1-house-prices-solution-top-1.ipynb  \n",
       "...                                            ...  \n",
       "13368  your-first-nlp-competition-submission.ipynb  \n",
       "13369  your-first-nlp-competition-submission.ipynb  \n",
       "13370  your-first-nlp-competition-submission.ipynb  \n",
       "13371  your-first-nlp-competition-submission.ipynb  \n",
       "13372  your-first-nlp-competition-submission.ipynb  \n",
       "\n",
       "[13373 rows x 3 columns]"
      ]
     },
     "execution_count": 15,
     "metadata": {},
     "output_type": "execute_result"
    }
   ],
   "source": [
    "df"
   ]
  },
  {
   "cell_type": "markdown",
   "metadata": {},
   "source": [
    "Example"
   ]
  },
  {
   "cell_type": "code",
   "execution_count": 16,
   "metadata": {},
   "outputs": [
    {
     "data": {
      "text/plain": [
       "'-   **Red Alert Box: Danger**\\n```\\n<div class=\"alert alert-block alert-danger\">  \\nIt is good to avoid red boxes but can be used to alert users to not delete some important part of code etc.   \\n</div>\\n```\\n<div class=\"alert alert-block alert-danger\">  \\nIt is good to avoid red boxes but can be used to alert users to not delete some important part of code etc.   \\n</div>'"
      ]
     },
     "execution_count": 16,
     "metadata": {},
     "output_type": "execute_result"
    }
   ],
   "source": [
    "raw_df.loc[112]['source']"
   ]
  },
  {
   "cell_type": "code",
   "execution_count": 17,
   "metadata": {},
   "outputs": [
    {
     "data": {
      "text/plain": [
       "' Red Alert Box: Danger It is good to avoid red boxes but can be used to alert users to not delete some important part of code etc. It is good to avoid red boxes but can be used to alert users to not delete some important part of code etc. '"
      ]
     },
     "execution_count": 17,
     "metadata": {},
     "output_type": "execute_result"
    }
   ],
   "source": [
    "df.loc[112]['source']"
   ]
  },
  {
   "cell_type": "code",
   "execution_count": 18,
   "metadata": {},
   "outputs": [
    {
     "data": {
      "text/plain": [
       "'#  📒 20. Pros and Cons\\n\\n## Pros of ARIMA & SARIMA\\n- **Easy to understand and interpret:** The one thing that your fellow teammates and colleagues would appreciate is the simplicity and interpretability of the models. Focusing on both of these things while also maintaining the quality of the results will help with presentations with the stakeholders.\\n- **Limited variables:** There are fewer hyperparameters so the config file will be easily maintainable if the model goes into production.\\n\\n## Cons of ARIMA & SARIMA\\n- **Exponential time complexity:** When the value of p and q increases there are equally more coefficients to fit hence increasing the time complexity manifold if p and q are high. This makes both of these algorithms hard to put into production and makes Data Scientists look into Prophet and other algorithms. Then again, it depends on the complexity of the dataset too.\\n- **Complex data:** There can be a possibility where your data is too complex and there is no optimal solution for p and q. Although highly unlikely that ARIMA and SARIMA would fail but if this occurs then unfortunately you may have to look elsewhere.\\n- **Amount of data needed:** Both the algorithms require considerable data to work on, especially if the data is seasonal. For example, using three years of historical demand is likely not to be enough (Short Life-Cycle Products) for a good forecast.'"
      ]
     },
     "execution_count": 18,
     "metadata": {},
     "output_type": "execute_result"
    }
   ],
   "source": [
    "raw_df.loc[11792]['source']"
   ]
  },
  {
   "cell_type": "code",
   "execution_count": 19,
   "metadata": {},
   "outputs": [
    {
     "data": {
      "text/plain": [
       "' 20. Pros and ConsPros of ARIMA SARIMA Easy to understand and interpret: The one thing that your fellow teammates and colleagues would appreciate is the simplicity and interpretability of the models. Focusing on both of these things while also maintaining the quality of the results will help with presentations with the stakeholders. Limited variables: There are fewer hyperparameters so the config file will be easily maintainable if the model goes into production. Cons of ARIMA SARIMA Exponential time complexity: When the value of p and q increases there are equally more coefficients to fit hence increasing the time complexity manifold if p and q are high. This makes both of these algorithms hard to put into production and makes Data Scientists look into Prophet and other algorithms. Then again, it depends on the complexity of the dataset too. Complex data: There can be a possibility where your data is too complex and there is no optimal solution for p and q. Although highly unlikely that ARIMA and SARIMA would fail but if this occurs then unfortunately you may have to look elsewhere. Amount of data needed: Both the algorithms require considerable data to work on, especially if the data is seasonal. For example, using three years of historical demand is likely not to be enough Short Life Cycle Products for a good forecast. '"
      ]
     },
     "execution_count": 19,
     "metadata": {},
     "output_type": "execute_result"
    }
   ],
   "source": [
    "df.loc[11792]['source']"
   ]
  },
  {
   "cell_type": "markdown",
   "metadata": {},
   "source": [
    "# Save data "
   ]
  },
  {
   "cell_type": "code",
   "execution_count": 20,
   "metadata": {},
   "outputs": [],
   "source": [
    "df.to_csv(DATA_PATH + \"cleared_md_data.csv\")"
   ]
  }
 ],
 "metadata": {
  "kernelspec": {
   "display_name": "Python 3.9.2 64-bit",
   "language": "python",
   "name": "python3"
  },
  "language_info": {
   "codemirror_mode": {
    "name": "ipython",
    "version": 3
   },
   "file_extension": ".py",
   "mimetype": "text/x-python",
   "name": "python",
   "nbconvert_exporter": "python",
   "pygments_lexer": "ipython3",
   "version": "3.9.2"
  },
  "orig_nbformat": 4,
  "vscode": {
   "interpreter": {
    "hash": "81794d4967e6c3204c66dcd87b604927b115b27c00565d3d43f05ba2f3a2cb0d"
   }
  }
 },
 "nbformat": 4,
 "nbformat_minor": 2
}
