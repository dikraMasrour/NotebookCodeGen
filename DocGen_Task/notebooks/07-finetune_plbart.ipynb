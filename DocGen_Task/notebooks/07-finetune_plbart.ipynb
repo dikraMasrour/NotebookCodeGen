{
 "cells": [
  {
   "cell_type": "markdown",
   "metadata": {},
   "source": [
    "# Import librairies"
   ]
  },
  {
   "cell_type": "code",
   "execution_count": 1,
   "metadata": {},
   "outputs": [],
   "source": [
    "import pandas as pd\n",
    "import numpy as np\n",
    "import evaluate\n",
    "from transformers import AutoTokenizer, AutoModel, pipeline\n",
    "from transformers import PLBartForConditionalGeneration, PLBartTokenizer\n",
    "from transformers import TrainingArguments,Trainer\n",
    "from datasets import load_dataset"
   ]
  },
  {
   "cell_type": "code",
   "execution_count": 3,
   "metadata": {},
   "outputs": [],
   "source": [
    "DATA_PATH_1 = \"../data/data_pairs_1.csv\"\n",
    "DATA_PATH_2 = \"../data/data_pairs_2.csv\""
   ]
  },
  {
   "cell_type": "markdown",
   "metadata": {},
   "source": [
    "# Import Data"
   ]
  },
  {
   "cell_type": "code",
   "execution_count": 4,
   "metadata": {},
   "outputs": [
    {
     "data": {
      "text/html": [
       "<div>\n",
       "<style scoped>\n",
       "    .dataframe tbody tr th:only-of-type {\n",
       "        vertical-align: middle;\n",
       "    }\n",
       "\n",
       "    .dataframe tbody tr th {\n",
       "        vertical-align: top;\n",
       "    }\n",
       "\n",
       "    .dataframe thead th {\n",
       "        text-align: right;\n",
       "    }\n",
       "</style>\n",
       "<table border=\"1\" class=\"dataframe\">\n",
       "  <thead>\n",
       "    <tr style=\"text-align: right;\">\n",
       "      <th></th>\n",
       "      <th>markdown</th>\n",
       "      <th>code</th>\n",
       "    </tr>\n",
       "  </thead>\n",
       "  <tbody>\n",
       "    <tr>\n",
       "      <th>0</th>\n",
       "      <td>House Prices: Advanced Regression Techniques P...</td>\n",
       "      <td>import numpy as np</td>\n",
       "    </tr>\n",
       "    <tr>\n",
       "      <th>1</th>\n",
       "      <td>data processing, CSV file I O e.g. pd.read csv</td>\n",
       "      <td>import pandas as pd</td>\n",
       "    </tr>\n",
       "    <tr>\n",
       "      <th>2</th>\n",
       "      <td>Input data files are available in the .. input...</td>\n",
       "      <td>from datetime import datetime</td>\n",
       "    </tr>\n",
       "    <tr>\n",
       "      <th>3</th>\n",
       "      <td>for some statistics</td>\n",
       "      <td>from scipy . stats import skew    from scipy ....</td>\n",
       "    </tr>\n",
       "    <tr>\n",
       "      <th>4</th>\n",
       "      <td>Any results you write to the current directory...</td>\n",
       "      <td>train = pd.read_csv('../input/house-prices-adv...</td>\n",
       "    </tr>\n",
       "    <tr>\n",
       "      <th>...</th>\n",
       "      <td>...</td>\n",
       "      <td>...</td>\n",
       "    </tr>\n",
       "    <tr>\n",
       "      <th>7567</th>\n",
       "      <td>If the word exists in the vocabulary, this com...</td>\n",
       "      <td>test_features = tfidf.transform(X_test).toarra...</td>\n",
       "    </tr>\n",
       "    <tr>\n",
       "      <th>7568</th>\n",
       "      <td>reduce the matrix dimensionality  in order to ...</td>\n",
       "      <td>\"\"\"from sklearn import feature_selection \\r\\ny...</td>\n",
       "    </tr>\n",
       "    <tr>\n",
       "      <th>7569</th>\n",
       "      <td>Model training  Model : Multinomial NB</td>\n",
       "      <td>import pandas as pd\\r\\nfrom sklearn.naive_baye...</td>\n",
       "    </tr>\n",
       "    <tr>\n",
       "      <th>7570</th>\n",
       "      <td>Visualizing scikit model performance</td>\n",
       "      <td>training_accuracy = accuracy_score(train_label...</td>\n",
       "    </tr>\n",
       "    <tr>\n",
       "      <th>7571</th>\n",
       "      <td>from sklearn.neighbors import KNeighborsClassi...</td>\n",
       "      <td>test_vectorizer =tfidf.transform( data_clean_t...</td>\n",
       "    </tr>\n",
       "  </tbody>\n",
       "</table>\n",
       "<p>7572 rows × 2 columns</p>\n",
       "</div>"
      ],
      "text/plain": [
       "                                               markdown  \\\n",
       "0     House Prices: Advanced Regression Techniques P...   \n",
       "1      data processing, CSV file I O e.g. pd.read csv     \n",
       "2     Input data files are available in the .. input...   \n",
       "3                                  for some statistics    \n",
       "4     Any results you write to the current directory...   \n",
       "...                                                 ...   \n",
       "7567  If the word exists in the vocabulary, this com...   \n",
       "7568  reduce the matrix dimensionality  in order to ...   \n",
       "7569           Model training  Model : Multinomial NB     \n",
       "7570              Visualizing scikit model performance    \n",
       "7571  from sklearn.neighbors import KNeighborsClassi...   \n",
       "\n",
       "                                                   code  \n",
       "0                                import numpy as np      \n",
       "1                               import pandas as pd      \n",
       "2                     from datetime import datetime      \n",
       "3     from scipy . stats import skew    from scipy ....  \n",
       "4     train = pd.read_csv('../input/house-prices-adv...  \n",
       "...                                                 ...  \n",
       "7567  test_features = tfidf.transform(X_test).toarra...  \n",
       "7568  \"\"\"from sklearn import feature_selection \\r\\ny...  \n",
       "7569  import pandas as pd\\r\\nfrom sklearn.naive_baye...  \n",
       "7570  training_accuracy = accuracy_score(train_label...  \n",
       "7571  test_vectorizer =tfidf.transform( data_clean_t...  \n",
       "\n",
       "[7572 rows x 2 columns]"
      ]
     },
     "execution_count": 4,
     "metadata": {},
     "output_type": "execute_result"
    }
   ],
   "source": [
    "df_1 = pd.read_csv(DATA_PATH_1).drop(['Unnamed: 0','title'],axis=1)\n",
    "df_1"
   ]
  },
  {
   "cell_type": "markdown",
   "metadata": {},
   "source": [
    "# Import the pretrained model \"PLBART\" and its tokenizer"
   ]
  },
  {
   "cell_type": "code",
   "execution_count": 5,
   "metadata": {},
   "outputs": [],
   "source": [
    "plbarttokenizer = PLBartTokenizer.from_pretrained(\"uclanlp/plbart-python-en_XX\", src_lang=\"python\", tgt_lang=\"en_XX\")\n",
    "plbart_model = PLBartForConditionalGeneration.from_pretrained(\"uclanlp/plbart-python-en_XX\")"
   ]
  },
  {
   "cell_type": "markdown",
   "metadata": {},
   "source": [
    "# Tokenize the dataset"
   ]
  },
  {
   "cell_type": "code",
   "execution_count": 6,
   "metadata": {},
   "outputs": [],
   "source": [
    "def fn_tokenize(data):\n",
    "    new_df = pd.DataFrame(columns=['input_ids_markdown','attention_mask_markdown','input_ids_code','attention_mask_code'])\n",
    "    for i in data.index:\n",
    "        new_df.loc[len(new_df)] = [plbarttokenizer(data.loc[i]['markdown'])['input_ids'],plbarttokenizer(data.loc[i]['markdown'])['attention_mask'],plbarttokenizer(data.loc[i]['code'])['input_ids'],plbarttokenizer(data.loc[i]['code'])['attention_mask']]\n",
    "\n",
    "    return new_df"
   ]
  },
  {
   "cell_type": "code",
   "execution_count": 7,
   "metadata": {},
   "outputs": [
    {
     "name": "stderr",
     "output_type": "stream",
     "text": [
      "Token indices sequence length is longer than the specified maximum sequence length for this model (2322 > 1024). Running this sequence through the model will result in indexing errors\n"
     ]
    },
    {
     "data": {
      "text/html": [
       "<div>\n",
       "<style scoped>\n",
       "    .dataframe tbody tr th:only-of-type {\n",
       "        vertical-align: middle;\n",
       "    }\n",
       "\n",
       "    .dataframe tbody tr th {\n",
       "        vertical-align: top;\n",
       "    }\n",
       "\n",
       "    .dataframe thead th {\n",
       "        text-align: right;\n",
       "    }\n",
       "</style>\n",
       "<table border=\"1\" class=\"dataframe\">\n",
       "  <thead>\n",
       "    <tr style=\"text-align: right;\">\n",
       "      <th></th>\n",
       "      <th>input_ids_markdown</th>\n",
       "      <th>attention_mask_markdown</th>\n",
       "      <th>input_ids_code</th>\n",
       "      <th>attention_mask_code</th>\n",
       "    </tr>\n",
       "  </thead>\n",
       "  <tbody>\n",
       "    <tr>\n",
       "      <th>0</th>\n",
       "      <td>[26343, 5544, 1118, 33475, 18938, 30816, 21498...</td>\n",
       "      <td>[1, 1, 1, 1, 1, 1, 1, 1, 1, 1, 1, 1, 1, 1, 1, ...</td>\n",
       "      <td>[662, 2988, 268, 865, 2, 50002]</td>\n",
       "      <td>[1, 1, 1, 1, 1, 1]</td>\n",
       "    </tr>\n",
       "    <tr>\n",
       "      <th>1</th>\n",
       "      <td>[272, 5037, 33463, 6423, 375, 34, 261, 168, 33...</td>\n",
       "      <td>[1, 1, 1, 1, 1, 1, 1, 1, 1, 1, 1, 1, 1, 1, 1, ...</td>\n",
       "      <td>[662, 4112, 268, 3880, 2, 50002]</td>\n",
       "      <td>[1, 1, 1, 1, 1, 1]</td>\n",
       "    </tr>\n",
       "    <tr>\n",
       "      <th>2</th>\n",
       "      <td>[2782, 272, 1139, 395, 2519, 55, 57, 1269, 641...</td>\n",
       "      <td>[1, 1, 1, 1, 1, 1, 1, 1, 1, 1, 1, 1, 1, 1, 1, ...</td>\n",
       "      <td>[320, 2220, 662, 2220, 2, 50002]</td>\n",
       "      <td>[1, 1, 1, 1, 1, 1]</td>\n",
       "    </tr>\n",
       "    <tr>\n",
       "      <th>3</th>\n",
       "      <td>[126, 632, 11182, 2, 50002]</td>\n",
       "      <td>[1, 1, 1, 1, 1]</td>\n",
       "      <td>[320, 9021, 9, 3945, 662, 24130, 320, 9021, 9,...</td>\n",
       "      <td>[1, 1, 1, 1, 1, 1, 1, 1, 1, 1, 1, 1, 1, 1, 1, ...</td>\n",
       "    </tr>\n",
       "    <tr>\n",
       "      <th>4</th>\n",
       "      <td>[1916, 1487, 144, 661, 71, 57, 759, 2139, 395,...</td>\n",
       "      <td>[1, 1, 1, 1, 1, 1, 1, 1, 1, 1, 1, 1, 1, 1, 1, ...</td>\n",
       "      <td>[3370, 24, 3880, 33455, 474, 33456, 4424, 2771...</td>\n",
       "      <td>[1, 1, 1, 1, 1, 1, 1, 1, 1, 1, 1, 1, 1, 1, 1, ...</td>\n",
       "    </tr>\n",
       "    <tr>\n",
       "      <th>...</th>\n",
       "      <td>...</td>\n",
       "      <td>...</td>\n",
       "      <td>...</td>\n",
       "      <td>...</td>\n",
       "    </tr>\n",
       "    <tr>\n",
       "      <th>7567</th>\n",
       "      <td>[708, 57, 1677, 2189, 55, 57, 18686, 33463, 14...</td>\n",
       "      <td>[1, 1, 1, 1, 1, 1, 1, 1, 1, 1, 1, 1, 1, 1, 1, ...</td>\n",
       "      <td>[242, 33456, 6160, 24, 2730, 20667, 33455, 542...</td>\n",
       "      <td>[1, 1, 1, 1, 1, 1, 1, 1, 1, 1, 1, 1, 1, 1, 1, ...</td>\n",
       "    </tr>\n",
       "    <tr>\n",
       "      <th>7568</th>\n",
       "      <td>[4888, 57, 3767, 6306, 4075, 55, 1193, 71, 488...</td>\n",
       "      <td>[1, 1, 1, 1, 1, 1, 1, 1, 1, 1, 1, 1, 1, 1, 1, ...</td>\n",
       "      <td>[2133, 1721, 13446, 662, 2118, 33456, 10086, 1...</td>\n",
       "      <td>[1, 1, 1, 1, 1, 1, 1, 1, 1, 1, 1, 1, 1, 1, 1, ...</td>\n",
       "    </tr>\n",
       "    <tr>\n",
       "      <th>7569</th>\n",
       "      <td>[3051, 6959, 3051, 54, 7510, 27603, 23987, 2, ...</td>\n",
       "      <td>[1, 1, 1, 1, 1, 1, 1, 1, 1]</td>\n",
       "      <td>[662, 4112, 268, 3880, 320, 13446, 33455, 3248...</td>\n",
       "      <td>[1, 1, 1, 1, 1, 1, 1, 1, 1, 1, 1, 1, 1, 1, 1, ...</td>\n",
       "    </tr>\n",
       "    <tr>\n",
       "      <th>7570</th>\n",
       "      <td>[9475, 6420, 20052, 826, 4591, 2, 50002]</td>\n",
       "      <td>[1, 1, 1, 1, 1, 1, 1]</td>\n",
       "      <td>[6959, 33456, 21042, 24, 10603, 33456, 5034, 3...</td>\n",
       "      <td>[1, 1, 1, 1, 1, 1, 1, 1, 1, 1, 1, 1, 1, 1, 1, ...</td>\n",
       "    </tr>\n",
       "    <tr>\n",
       "      <th>7571</th>\n",
       "      <td>[320, 13446, 33455, 17339, 662, 1202, 26672, 1...</td>\n",
       "      <td>[1, 1, 1, 1, 1, 1, 1, 1, 1, 1, 1, 1, 1, 1, 1, ...</td>\n",
       "      <td>[242, 33456, 8164, 2701, 24, 5348, 20667, 3345...</td>\n",
       "      <td>[1, 1, 1, 1, 1, 1, 1, 1, 1, 1, 1, 1, 1, 1, 1, ...</td>\n",
       "    </tr>\n",
       "  </tbody>\n",
       "</table>\n",
       "<p>7572 rows × 4 columns</p>\n",
       "</div>"
      ],
      "text/plain": [
       "                                     input_ids_markdown  \\\n",
       "0     [26343, 5544, 1118, 33475, 18938, 30816, 21498...   \n",
       "1     [272, 5037, 33463, 6423, 375, 34, 261, 168, 33...   \n",
       "2     [2782, 272, 1139, 395, 2519, 55, 57, 1269, 641...   \n",
       "3                           [126, 632, 11182, 2, 50002]   \n",
       "4     [1916, 1487, 144, 661, 71, 57, 759, 2139, 395,...   \n",
       "...                                                 ...   \n",
       "7567  [708, 57, 1677, 2189, 55, 57, 18686, 33463, 14...   \n",
       "7568  [4888, 57, 3767, 6306, 4075, 55, 1193, 71, 488...   \n",
       "7569  [3051, 6959, 3051, 54, 7510, 27603, 23987, 2, ...   \n",
       "7570           [9475, 6420, 20052, 826, 4591, 2, 50002]   \n",
       "7571  [320, 13446, 33455, 17339, 662, 1202, 26672, 1...   \n",
       "\n",
       "                                attention_mask_markdown  \\\n",
       "0     [1, 1, 1, 1, 1, 1, 1, 1, 1, 1, 1, 1, 1, 1, 1, ...   \n",
       "1     [1, 1, 1, 1, 1, 1, 1, 1, 1, 1, 1, 1, 1, 1, 1, ...   \n",
       "2     [1, 1, 1, 1, 1, 1, 1, 1, 1, 1, 1, 1, 1, 1, 1, ...   \n",
       "3                                       [1, 1, 1, 1, 1]   \n",
       "4     [1, 1, 1, 1, 1, 1, 1, 1, 1, 1, 1, 1, 1, 1, 1, ...   \n",
       "...                                                 ...   \n",
       "7567  [1, 1, 1, 1, 1, 1, 1, 1, 1, 1, 1, 1, 1, 1, 1, ...   \n",
       "7568  [1, 1, 1, 1, 1, 1, 1, 1, 1, 1, 1, 1, 1, 1, 1, ...   \n",
       "7569                        [1, 1, 1, 1, 1, 1, 1, 1, 1]   \n",
       "7570                              [1, 1, 1, 1, 1, 1, 1]   \n",
       "7571  [1, 1, 1, 1, 1, 1, 1, 1, 1, 1, 1, 1, 1, 1, 1, ...   \n",
       "\n",
       "                                         input_ids_code  \\\n",
       "0                       [662, 2988, 268, 865, 2, 50002]   \n",
       "1                      [662, 4112, 268, 3880, 2, 50002]   \n",
       "2                      [320, 2220, 662, 2220, 2, 50002]   \n",
       "3     [320, 9021, 9, 3945, 662, 24130, 320, 9021, 9,...   \n",
       "4     [3370, 24, 3880, 33455, 474, 33456, 4424, 2771...   \n",
       "...                                                 ...   \n",
       "7567  [242, 33456, 6160, 24, 2730, 20667, 33455, 542...   \n",
       "7568  [2133, 1721, 13446, 662, 2118, 33456, 10086, 1...   \n",
       "7569  [662, 4112, 268, 3880, 320, 13446, 33455, 3248...   \n",
       "7570  [6959, 33456, 21042, 24, 10603, 33456, 5034, 3...   \n",
       "7571  [242, 33456, 8164, 2701, 24, 5348, 20667, 3345...   \n",
       "\n",
       "                                    attention_mask_code  \n",
       "0                                    [1, 1, 1, 1, 1, 1]  \n",
       "1                                    [1, 1, 1, 1, 1, 1]  \n",
       "2                                    [1, 1, 1, 1, 1, 1]  \n",
       "3     [1, 1, 1, 1, 1, 1, 1, 1, 1, 1, 1, 1, 1, 1, 1, ...  \n",
       "4     [1, 1, 1, 1, 1, 1, 1, 1, 1, 1, 1, 1, 1, 1, 1, ...  \n",
       "...                                                 ...  \n",
       "7567  [1, 1, 1, 1, 1, 1, 1, 1, 1, 1, 1, 1, 1, 1, 1, ...  \n",
       "7568  [1, 1, 1, 1, 1, 1, 1, 1, 1, 1, 1, 1, 1, 1, 1, ...  \n",
       "7569  [1, 1, 1, 1, 1, 1, 1, 1, 1, 1, 1, 1, 1, 1, 1, ...  \n",
       "7570  [1, 1, 1, 1, 1, 1, 1, 1, 1, 1, 1, 1, 1, 1, 1, ...  \n",
       "7571  [1, 1, 1, 1, 1, 1, 1, 1, 1, 1, 1, 1, 1, 1, 1, ...  \n",
       "\n",
       "[7572 rows x 4 columns]"
      ]
     },
     "execution_count": 7,
     "metadata": {},
     "output_type": "execute_result"
    }
   ],
   "source": [
    "new_df_1 = fn_tokenize(df_1)\n",
    "new_df_1"
   ]
  },
  {
   "cell_type": "code",
   "execution_count": 13,
   "metadata": {},
   "outputs": [],
   "source": [
    "new_df_1 = new_df_1.sample(frac = 1).reset_index(drop=True)"
   ]
  },
  {
   "cell_type": "code",
   "execution_count": 26,
   "metadata": {},
   "outputs": [],
   "source": [
    "new_df_1.to_csv(\"../data/tokenized_data_1.csv\")"
   ]
  },
  {
   "cell_type": "code",
   "execution_count": 16,
   "metadata": {},
   "outputs": [],
   "source": [
    "training_args = TrainingArguments(output_dir=\"test_trainer\", evaluation_strategy=\"epoch\")"
   ]
  },
  {
   "cell_type": "code",
   "execution_count": 17,
   "metadata": {},
   "outputs": [],
   "source": [
    "metric = evaluate.load(\"accuracy\")\n",
    "def compute_metrics(eval_pred):\n",
    "    logits, labels = eval_pred\n",
    "    predictions = np.argmax(logits, axis=-1)\n",
    "    return metric.compute(predictions=predictions, references=labels)"
   ]
  },
  {
   "cell_type": "code",
   "execution_count": 71,
   "metadata": {},
   "outputs": [],
   "source": [
    "trainer = Trainer(\n",
    "    model=plbart_model,\n",
    "    args=training_args,\n",
    "    train_dataset=small_train_dataset,\n",
    "    eval_dataset=small_eval_dataset,\n",
    "    compute_metrics=compute_metrics,\n",
    ")"
   ]
  },
  {
   "cell_type": "code",
   "execution_count": null,
   "metadata": {},
   "outputs": [],
   "source": [
    "trainer.train()"
   ]
  },
  {
   "cell_type": "code",
   "execution_count": 63,
   "metadata": {},
   "outputs": [
    {
     "name": "stderr",
     "output_type": "stream",
     "text": [
      "Using custom data configuration default-ab90834c79f19ed7\n"
     ]
    },
    {
     "name": "stdout",
     "output_type": "stream",
     "text": [
      "Downloading and preparing dataset csv/default to C:\\Users\\zdahmani\\.cache\\huggingface\\datasets\\csv\\default-ab90834c79f19ed7\\0.0.0\\652c3096f041ee27b04d2232d41f10547a8fecda3e284a79a0ec4053c916ef7a...\n"
     ]
    },
    {
     "data": {
      "application/vnd.jupyter.widget-view+json": {
       "model_id": "f99f9d046b504d35b911e0a99bbd03ac",
       "version_major": 2,
       "version_minor": 0
      },
      "text/plain": [
       "Downloading data files:   0%|          | 0/2 [00:00<?, ?it/s]"
      ]
     },
     "metadata": {},
     "output_type": "display_data"
    },
    {
     "data": {
      "application/vnd.jupyter.widget-view+json": {
       "model_id": "a4b3e521dbef4571a574da38e7bd9e1c",
       "version_major": 2,
       "version_minor": 0
      },
      "text/plain": [
       "Extracting data files:   0%|          | 0/2 [00:00<?, ?it/s]"
      ]
     },
     "metadata": {},
     "output_type": "display_data"
    },
    {
     "data": {
      "application/vnd.jupyter.widget-view+json": {
       "model_id": "e6f619d7a495474281988c1697ab7555",
       "version_major": 2,
       "version_minor": 0
      },
      "text/plain": [
       "0 tables [00:00, ? tables/s]"
      ]
     },
     "metadata": {},
     "output_type": "display_data"
    },
    {
     "data": {
      "application/vnd.jupyter.widget-view+json": {
       "model_id": "99a31e81a7ce46beb216daa2a51eef06",
       "version_major": 2,
       "version_minor": 0
      },
      "text/plain": [
       "0 tables [00:00, ? tables/s]"
      ]
     },
     "metadata": {},
     "output_type": "display_data"
    },
    {
     "name": "stdout",
     "output_type": "stream",
     "text": [
      "Dataset csv downloaded and prepared to C:\\Users\\zdahmani\\.cache\\huggingface\\datasets\\csv\\default-ab90834c79f19ed7\\0.0.0\\652c3096f041ee27b04d2232d41f10547a8fecda3e284a79a0ec4053c916ef7a. Subsequent calls will reuse this data.\n"
     ]
    },
    {
     "data": {
      "application/vnd.jupyter.widget-view+json": {
       "model_id": "f34dcff9c1e84a319a0450dc53150ce9",
       "version_major": 2,
       "version_minor": 0
      },
      "text/plain": [
       "  0%|          | 0/2 [00:00<?, ?it/s]"
      ]
     },
     "metadata": {},
     "output_type": "display_data"
    }
   ],
   "source": [
    "dataset_1 =  load_dataset(\"csv\", data_files={\"train\": [\"../data/train.csv\"], \"test\": \"../data/test.csv\"})"
   ]
  }
 ],
 "metadata": {
  "kernelspec": {
   "display_name": "Python 3.10.6 64-bit",
   "language": "python",
   "name": "python3"
  },
  "language_info": {
   "codemirror_mode": {
    "name": "ipython",
    "version": 3
   },
   "file_extension": ".py",
   "mimetype": "text/x-python",
   "name": "python",
   "nbconvert_exporter": "python",
   "pygments_lexer": "ipython3",
   "version": "3.10.6"
  },
  "orig_nbformat": 4,
  "vscode": {
   "interpreter": {
    "hash": "5093ef3c9eba5a2350b58945b72c1f122b8b5551b9ae00db57837a16e1175c4c"
   }
  }
 },
 "nbformat": 4,
 "nbformat_minor": 2
}
